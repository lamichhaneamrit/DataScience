{
 "cells": [
  {
   "cell_type": "markdown",
   "id": "7aec9db9",
   "metadata": {},
   "source": [
    "Introduction"
   ]
  },
  {
   "cell_type": "markdown",
   "id": "9c0917b4",
   "metadata": {},
   "source": [
    "Supervised Learning OverView"
   ]
  },
  {
   "cell_type": "markdown",
   "id": "14184e35",
   "metadata": {},
   "source": [
    "Evaluating Performations- Classification Errors Metrics"
   ]
  },
  {
   "cell_type": "markdown",
   "id": "085f5177",
   "metadata": {},
   "source": [
    "Evaluating Performances-Regression Error Metrics"
   ]
  },
  {
   "cell_type": "code",
   "execution_count": null,
   "id": "1da2d245",
   "metadata": {},
   "outputs": [],
   "source": []
  }
 ],
 "metadata": {
  "kernelspec": {
   "display_name": "Python 3 (ipykernel)",
   "language": "python",
   "name": "python3"
  },
  "language_info": {
   "codemirror_mode": {
    "name": "ipython",
    "version": 3
   },
   "file_extension": ".py",
   "mimetype": "text/x-python",
   "name": "python",
   "nbconvert_exporter": "python",
   "pygments_lexer": "ipython3",
   "version": "3.9.13"
  }
 },
 "nbformat": 4,
 "nbformat_minor": 5
}
