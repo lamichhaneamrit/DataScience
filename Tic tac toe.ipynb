{
 "cells": [
  {
   "cell_type": "markdown",
   "id": "44ddeac6",
   "metadata": {},
   "source": [
    "# Tic Tac Toe "
   ]
  },
  {
   "cell_type": "markdown",
   "id": "f61a6a03",
   "metadata": {},
   "source": [
    "Display the board first"
   ]
  },
  {
   "cell_type": "code",
   "execution_count": 4,
   "id": "18f19d79",
   "metadata": {},
   "outputs": [],
   "source": [
    "#from Ipython.display import clear_output #make \n",
    "\n",
    "def display_board(board):\n",
    "    clear_output()\n",
    "    print(board[7]+ '|'+ board[8]+'|'+board[9]+'|')\n",
    "    print(board[4]+ '|'+ board[5]+'|'+board[6]+'|')\n",
    "    print(board[1]+ '|'+ board[2]+'|'+board[3]+'|')"
   ]
  },
  {
   "cell_type": "code",
   "execution_count": null,
   "id": "dba9d930",
   "metadata": {},
   "outputs": [],
   "source": [
    "test_board=['#','X','O','X','O']"
   ]
  }
 ],
 "metadata": {
  "kernelspec": {
   "display_name": "Python 3 (ipykernel)",
   "language": "python",
   "name": "python3"
  },
  "language_info": {
   "codemirror_mode": {
    "name": "ipython",
    "version": 3
   },
   "file_extension": ".py",
   "mimetype": "text/x-python",
   "name": "python",
   "nbconvert_exporter": "python",
   "pygments_lexer": "ipython3",
   "version": "3.9.13"
  }
 },
 "nbformat": 4,
 "nbformat_minor": 5
}
