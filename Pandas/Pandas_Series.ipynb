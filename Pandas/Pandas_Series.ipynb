{
 "cells": [
  {
   "cell_type": "code",
   "execution_count": 1,
   "id": "c0862f39",
   "metadata": {},
   "outputs": [],
   "source": [
    "import pandas as pd\n",
    "import numpy as np"
   ]
  },
  {
   "cell_type": "markdown",
   "id": "f7417175",
   "metadata": {},
   "source": [
    "# Pandas as Series"
   ]
  },
  {
   "cell_type": "code",
   "execution_count": 2,
   "id": "49a61482",
   "metadata": {},
   "outputs": [],
   "source": [
    "labels =['a','b','c']\n",
    "my_data =[10,20,30]\n",
    "arr= np.array(my_data)\n",
    "d ={'a':10, 'b':20,'c':30}"
   ]
  },
  {
   "cell_type": "code",
   "execution_count": 3,
   "id": "43ad851d",
   "metadata": {},
   "outputs": [
    {
     "data": {
      "text/plain": [
       "0    10\n",
       "1    20\n",
       "2    30\n",
       "dtype: int64"
      ]
     },
     "execution_count": 3,
     "metadata": {},
     "output_type": "execute_result"
    }
   ],
   "source": [
    "pd.Series(data = my_data) #only get the data"
   ]
  },
  {
   "cell_type": "code",
   "execution_count": 4,
   "id": "23bcc3eb",
   "metadata": {},
   "outputs": [
    {
     "data": {
      "text/plain": [
       "a    10\n",
       "b    20\n",
       "c    30\n",
       "dtype: int64"
      ]
     },
     "execution_count": 4,
     "metadata": {},
     "output_type": "execute_result"
    }
   ],
   "source": [
    "pd.Series(data = my_data, index=labels) #data with labels"
   ]
  },
  {
   "cell_type": "code",
   "execution_count": 5,
   "id": "5cbc4e17",
   "metadata": {},
   "outputs": [
    {
     "data": {
      "text/plain": [
       "a    10\n",
       "b    20\n",
       "c    30\n",
       "dtype: int64"
      ]
     },
     "execution_count": 5,
     "metadata": {},
     "output_type": "execute_result"
    }
   ],
   "source": [
    "pd.Series(my_data,labels) #data with labels in order "
   ]
  },
  {
   "cell_type": "code",
   "execution_count": 6,
   "id": "32cb1b8f",
   "metadata": {},
   "outputs": [
    {
     "data": {
      "text/plain": [
       "a    10\n",
       "b    20\n",
       "c    30\n",
       "dtype: int32"
      ]
     },
     "execution_count": 6,
     "metadata": {},
     "output_type": "execute_result"
    }
   ],
   "source": [
    "pd.Series(arr,labels) #passing the List"
   ]
  },
  {
   "cell_type": "code",
   "execution_count": 7,
   "id": "dae91039",
   "metadata": {},
   "outputs": [
    {
     "data": {
      "text/plain": [
       "a    10\n",
       "b    20\n",
       "c    30\n",
       "dtype: int64"
      ]
     },
     "execution_count": 7,
     "metadata": {},
     "output_type": "execute_result"
    }
   ],
   "source": [
    " pd.Series(d) #passing the dict"
   ]
  },
  {
   "cell_type": "code",
   "execution_count": 8,
   "id": "b42210ef",
   "metadata": {},
   "outputs": [
    {
     "data": {
      "text/plain": [
       "0    a\n",
       "1    b\n",
       "2    c\n",
       "dtype: object"
      ]
     },
     "execution_count": 8,
     "metadata": {},
     "output_type": "execute_result"
    }
   ],
   "source": [
    "pd.Series(labels) # can also get labels only"
   ]
  },
  {
   "cell_type": "code",
   "execution_count": 9,
   "id": "990c4bbc",
   "metadata": {},
   "outputs": [],
   "source": [
    "ser1=pd.Series([1,2,3,4],['USA','GER','USSR','JAPAN'])"
   ]
  },
  {
   "cell_type": "code",
   "execution_count": 10,
   "id": "42ac5c63",
   "metadata": {},
   "outputs": [
    {
     "data": {
      "text/plain": [
       "USA      1\n",
       "GER      2\n",
       "USSR     3\n",
       "JAPAN    4\n",
       "dtype: int64"
      ]
     },
     "execution_count": 10,
     "metadata": {},
     "output_type": "execute_result"
    }
   ],
   "source": [
    "ser1"
   ]
  },
  {
   "cell_type": "code",
   "execution_count": 11,
   "id": "0bee3222",
   "metadata": {},
   "outputs": [],
   "source": [
    "ser2=pd.Series([1,2,5,4],['USA','GER','Italy','JAPAN'])"
   ]
  },
  {
   "cell_type": "code",
   "execution_count": 12,
   "id": "473272ed",
   "metadata": {},
   "outputs": [
    {
     "data": {
      "text/plain": [
       "1"
      ]
     },
     "execution_count": 12,
     "metadata": {},
     "output_type": "execute_result"
    }
   ],
   "source": [
    "ser1['USA'] #output =1"
   ]
  },
  {
   "cell_type": "code",
   "execution_count": 13,
   "id": "fa2abde0",
   "metadata": {},
   "outputs": [],
   "source": [
    "ser3=pd.Series(data=labels)"
   ]
  },
  {
   "cell_type": "code",
   "execution_count": 14,
   "id": "c5e43dd2",
   "metadata": {},
   "outputs": [
    {
     "data": {
      "text/plain": [
       "'a'"
      ]
     },
     "execution_count": 14,
     "metadata": {},
     "output_type": "execute_result"
    }
   ],
   "source": [
    "ser3[0]#pass the actual index "
   ]
  },
  {
   "cell_type": "code",
   "execution_count": 16,
   "id": "78612319",
   "metadata": {},
   "outputs": [
    {
     "data": {
      "text/plain": [
       "GER      4.0\n",
       "Italy    NaN\n",
       "JAPAN    8.0\n",
       "USA      2.0\n",
       "USSR     NaN\n",
       "dtype: float64"
      ]
     },
     "execution_count": 16,
     "metadata": {},
     "output_type": "execute_result"
    }
   ],
   "source": [
    "ser1+ser2 #lets see what will happen if we try to add\n",
    "#Italy and USSR will give Nan"
   ]
  },
  {
   "cell_type": "code",
   "execution_count": null,
   "id": "ca529d19",
   "metadata": {},
   "outputs": [],
   "source": []
  }
 ],
 "metadata": {
  "kernelspec": {
   "display_name": "Python 3 (ipykernel)",
   "language": "python",
   "name": "python3"
  },
  "language_info": {
   "codemirror_mode": {
    "name": "ipython",
    "version": 3
   },
   "file_extension": ".py",
   "mimetype": "text/x-python",
   "name": "python",
   "nbconvert_exporter": "python",
   "pygments_lexer": "ipython3",
   "version": "3.9.13"
  }
 },
 "nbformat": 4,
 "nbformat_minor": 5
}
