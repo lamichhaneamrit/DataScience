{
 "cells": [
  {
   "cell_type": "code",
   "execution_count": 1,
   "id": "b291c310",
   "metadata": {
    "scrolled": true
   },
   "outputs": [],
   "source": [
    "import pandas as pd\n",
    "import numpy as np\n",
    "import matplotlib.pyplot as plt\n",
    "%matplotlib inline"
   ]
  },
  {
   "cell_type": "code",
   "execution_count": 2,
   "id": "b2c21018",
   "metadata": {},
   "outputs": [],
   "source": [
    "import chart_studio.plotly as py\n",
    "#import chart_studio.plotly as py\n",
    "import cufflinks as cf"
   ]
  },
  {
   "cell_type": "code",
   "execution_count": 3,
   "id": "e44dbad6",
   "metadata": {},
   "outputs": [],
   "source": [
    "from plotly.offline  import download_plotlyjs,init_notebook_mode,plot,iplot"
   ]
  },
  {
   "cell_type": "code",
   "execution_count": 4,
   "id": "4545227b",
   "metadata": {},
   "outputs": [
    {
     "data": {
      "text/html": [
       "        <script type=\"text/javascript\">\n",
       "        window.PlotlyConfig = {MathJaxConfig: 'local'};\n",
       "        if (window.MathJax && window.MathJax.Hub && window.MathJax.Hub.Config) {window.MathJax.Hub.Config({SVG: {font: \"STIX-Web\"}});}\n",
       "        if (typeof require !== 'undefined') {\n",
       "        require.undef(\"plotly\");\n",
       "        requirejs.config({\n",
       "            paths: {\n",
       "                'plotly': ['https://cdn.plot.ly/plotly-2.16.1.min']\n",
       "            }\n",
       "        });\n",
       "        require(['plotly'], function(Plotly) {\n",
       "            window._Plotly = Plotly;\n",
       "        });\n",
       "        }\n",
       "        </script>\n",
       "        "
      ]
     },
     "metadata": {},
     "output_type": "display_data"
    }
   ],
   "source": [
    "init_notebook_mode(connected=True)"
   ]
  },
  {
   "cell_type": "code",
   "execution_count": 5,
   "id": "95afc17d",
   "metadata": {},
   "outputs": [
    {
     "data": {
      "text/html": [
       "        <script type=\"text/javascript\">\n",
       "        window.PlotlyConfig = {MathJaxConfig: 'local'};\n",
       "        if (window.MathJax && window.MathJax.Hub && window.MathJax.Hub.Config) {window.MathJax.Hub.Config({SVG: {font: \"STIX-Web\"}});}\n",
       "        if (typeof require !== 'undefined') {\n",
       "        require.undef(\"plotly\");\n",
       "        requirejs.config({\n",
       "            paths: {\n",
       "                'plotly': ['https://cdn.plot.ly/plotly-2.16.1.min']\n",
       "            }\n",
       "        });\n",
       "        require(['plotly'], function(Plotly) {\n",
       "            window._Plotly = Plotly;\n",
       "        });\n",
       "        }\n",
       "        </script>\n",
       "        "
      ]
     },
     "metadata": {},
     "output_type": "display_data"
    }
   ],
   "source": [
    "cf.go_offline()"
   ]
  },
  {
   "cell_type": "code",
   "execution_count": 6,
   "id": "48b9e72e",
   "metadata": {},
   "outputs": [],
   "source": [
    "df = pd.DataFrame(np.random.randn(100,4),columns='A B C D'.split())"
   ]
  },
  {
   "cell_type": "code",
   "execution_count": 7,
   "id": "38bdb2bd",
   "metadata": {},
   "outputs": [
    {
     "data": {
      "text/html": [
       "<div>\n",
       "<style scoped>\n",
       "    .dataframe tbody tr th:only-of-type {\n",
       "        vertical-align: middle;\n",
       "    }\n",
       "\n",
       "    .dataframe tbody tr th {\n",
       "        vertical-align: top;\n",
       "    }\n",
       "\n",
       "    .dataframe thead th {\n",
       "        text-align: right;\n",
       "    }\n",
       "</style>\n",
       "<table border=\"1\" class=\"dataframe\">\n",
       "  <thead>\n",
       "    <tr style=\"text-align: right;\">\n",
       "      <th></th>\n",
       "      <th>A</th>\n",
       "      <th>B</th>\n",
       "      <th>C</th>\n",
       "      <th>D</th>\n",
       "    </tr>\n",
       "  </thead>\n",
       "  <tbody>\n",
       "    <tr>\n",
       "      <th>0</th>\n",
       "      <td>0.814419</td>\n",
       "      <td>1.182835</td>\n",
       "      <td>1.632007</td>\n",
       "      <td>0.798374</td>\n",
       "    </tr>\n",
       "    <tr>\n",
       "      <th>1</th>\n",
       "      <td>0.069440</td>\n",
       "      <td>-0.897573</td>\n",
       "      <td>0.013572</td>\n",
       "      <td>-0.914497</td>\n",
       "    </tr>\n",
       "    <tr>\n",
       "      <th>2</th>\n",
       "      <td>-0.605118</td>\n",
       "      <td>0.522028</td>\n",
       "      <td>0.426766</td>\n",
       "      <td>0.737761</td>\n",
       "    </tr>\n",
       "    <tr>\n",
       "      <th>3</th>\n",
       "      <td>1.420008</td>\n",
       "      <td>0.165269</td>\n",
       "      <td>0.313140</td>\n",
       "      <td>1.209444</td>\n",
       "    </tr>\n",
       "    <tr>\n",
       "      <th>4</th>\n",
       "      <td>-0.094779</td>\n",
       "      <td>0.822146</td>\n",
       "      <td>0.934515</td>\n",
       "      <td>-0.034114</td>\n",
       "    </tr>\n",
       "  </tbody>\n",
       "</table>\n",
       "</div>"
      ],
      "text/plain": [
       "          A         B         C         D\n",
       "0  0.814419  1.182835  1.632007  0.798374\n",
       "1  0.069440 -0.897573  0.013572 -0.914497\n",
       "2 -0.605118  0.522028  0.426766  0.737761\n",
       "3  1.420008  0.165269  0.313140  1.209444\n",
       "4 -0.094779  0.822146  0.934515 -0.034114"
      ]
     },
     "execution_count": 7,
     "metadata": {},
     "output_type": "execute_result"
    }
   ],
   "source": [
    "df.head()"
   ]
  },
  {
   "cell_type": "code",
   "execution_count": 9,
   "id": "2f911ef0",
   "metadata": {},
   "outputs": [],
   "source": [
    "df2=pd.DataFrame({'Category':['A','B','C'],'Values':[32,43,50]})"
   ]
  },
  {
   "cell_type": "code",
   "execution_count": 10,
   "id": "1c0c3808",
   "metadata": {},
   "outputs": [
    {
     "data": {
      "text/html": [
       "<div>\n",
       "<style scoped>\n",
       "    .dataframe tbody tr th:only-of-type {\n",
       "        vertical-align: middle;\n",
       "    }\n",
       "\n",
       "    .dataframe tbody tr th {\n",
       "        vertical-align: top;\n",
       "    }\n",
       "\n",
       "    .dataframe thead th {\n",
       "        text-align: right;\n",
       "    }\n",
       "</style>\n",
       "<table border=\"1\" class=\"dataframe\">\n",
       "  <thead>\n",
       "    <tr style=\"text-align: right;\">\n",
       "      <th></th>\n",
       "      <th>Category</th>\n",
       "      <th>Values</th>\n",
       "    </tr>\n",
       "  </thead>\n",
       "  <tbody>\n",
       "    <tr>\n",
       "      <th>0</th>\n",
       "      <td>A</td>\n",
       "      <td>32</td>\n",
       "    </tr>\n",
       "    <tr>\n",
       "      <th>1</th>\n",
       "      <td>B</td>\n",
       "      <td>43</td>\n",
       "    </tr>\n",
       "    <tr>\n",
       "      <th>2</th>\n",
       "      <td>C</td>\n",
       "      <td>50</td>\n",
       "    </tr>\n",
       "  </tbody>\n",
       "</table>\n",
       "</div>"
      ],
      "text/plain": [
       "  Category  Values\n",
       "0        A      32\n",
       "1        B      43\n",
       "2        C      50"
      ]
     },
     "execution_count": 10,
     "metadata": {},
     "output_type": "execute_result"
    }
   ],
   "source": [
    "df2"
   ]
  },
  {
   "cell_type": "code",
   "execution_count": 11,
   "id": "6578280c",
   "metadata": {},
   "outputs": [
    {
     "data": {
      "text/plain": [
       "<AxesSubplot: >"
      ]
     },
     "execution_count": 11,
     "metadata": {},
     "output_type": "execute_result"
    },
    {
     "data": {
      "image/png": "[encoded data removed]",
      "text/plain": [
       "<Figure size 640x480 with 1 Axes>"
      ]
     },
     "metadata": {},
     "output_type": "display_data"
    }
   ],
   "source": [
    "df.plot()"
   ]
  },
  {
   "cell_type": "code",
   "execution_count": 12,
   "id": "8a02892a",
   "metadata": {},
   "outputs": [
    {
     "data": {
      "application/vnd.plotly.v1+json": {
       "config": {
        "linkText": "Export to plot.ly",
        "plotlyServerURL": "https://plot.ly",
        "showLink": true
       },
       "data": [
        {
         "line": {
          "color": "rgba(255, 153, 51, 1.0)",
          "dash": "solid",
          "shape": "linear",
          "width": 1.3
         },
         "mode": "lines",
         "name": "A",
         "text": "",
         "type": "scatter",
         "x": [
          0,
          1,
          2,
          3,
          4,
          5,
          6,
          7,
          8,
          9,
          10,
          11,
          12,
          13,
          14,
          15,
          16,
          17,
          18,
          19,
          20,
          21,
          22,
          23,
          24,
          25,
          26,
          27,
          28,
          29,
          30,
          31,
          32,
          33,
          34,
          35,
          36,
          37,
          38,
          39,
          40,
          41,
          42,
          43,
          44,
          45,
          46,
          47,
          48,
          49,
          50,
          51,
          52,
          53,
          54,
          55,
          56,
          57,
          58,
          59,
          60,
          61,
          62,
          63,
          64,
          65,
          66,
          67,
          68,
          69,
          70,
          71,
          72,
          73,
          74,
          75,
          76,
          77,
          78,
          79,
          80,
          81,
          82,
          83,
          84,
          85,
          86,
          87,
          88,
          89,
          90,
          91,
          92,
          93,
          94,
          95,
          96,
          97,
          98,
          99
         ],
         "y": [
          0.8144187353470765,
          0.06943968861889845,
          -0.6051177979947289,
          1.4200079041252598,
          -0.0947786780060265,
          0.4353422038499592,
          -0.867023819630172,
          0.22712243386141492,
          -1.5936932223573854,
          0.9241321743715584,
          1.0741759091264447,
          0.2642848602684432,
          0.23913383143078554,
          -0.5296200715161591,
          -0.04891670088749185,
          2.1634524071419787,
          0.07959748768622212,
          -0.07335152100529256,
          1.5679201630912711,
          0.053219499966360065,
          0.4377909275954798,
          -0.4108738189474997,
          -0.7190016400390153,
          0.3089019437067334,
          -0.26423764468661287,
          0.36404162684384966,
          1.8896605987378767,
          2.1064726673601473,
          -1.5133649684716444,
          0.009869769374126338,
          -2.235250524481225,
          -0.22337057601326998,
          0.8561588927857099,
          0.3856941145134942,
          -0.28496750706782986,
          0.048889224040245864,
          0.025062845777872163,
          -1.0042775436667823,
          0.004264310636040312,
          0.36646690572102514,
          0.8564286027355924,
          0.7887314088131345,
          -1.4777313939744903,
          -1.3166971416521733,
          -0.3208680303833144,
          -1.0198295242273419,
          0.3050677612939885,
          -0.8082594772684302,
          1.0571811122584296,
          -0.04330549718699945,
          0.8025279972795675,
          -1.0721022431178582,
          -1.72663719878505,
          0.0339265990132973,
          1.2082859061825684,
          0.000024056453408913362,
          0.15433331363831615,
          -0.16675365867183428,
          -0.4228428279887474,
          0.3122211018338927,
          0.6476593566228214,
          -0.7539537124490568,
          0.7782385509153177,
          -0.7731846360605293,
          -0.28562378587155934,
          -1.1657939985705077,
          -0.862042219934001,
          1.2110234354162455,
          0.8899036716432929,
          0.7919978324104415,
          -1.3310000935841564,
          0.7214732267316021,
          1.816489263931352,
          -0.7387856010538364,
          -1.0744705332323945,
          -0.7179108109427301,
          -0.297208515362758,
          -1.5286827136665169,
          0.6074091759350303,
          0.33771344384352486,
          1.259831207812005,
          0.7635495768552607,
          0.9597488173525972,
          1.014646551078339,
          2.7867484067169075,
          -2.52971826710298,
          -1.0213281238237273,
          0.8211913091724549,
          -1.0097182596065781,
          -0.43058400358984134,
          -1.3431455484801735,
          0.5474436942796898,
          0.2188722331836831,
          0.3741308838429427,
          0.051190565779324584,
          -0.15410944771311572,
          -2.1474278848315973,
          0.8510314976663124,
          1.0218206672961965,
          -1.1703526126312642
         ]
        },
        {
         "line": {
          "color": "rgba(55, 128, 191, 1.0)",
          "dash": "solid",
          "shape": "linear",
          "width": 1.3
         },
         "mode": "lines",
         "name": "B",
         "text": "",
         "type": "scatter",
         "x": [
          0,
          1,
          2,
          3,
          4,
          5,
          6,
          7,
          8,
          9,
          10,
          11,
          12,
          13,
          14,
          15,
          16,
          17,
          18,
          19,
          20,
          21,
          22,
          23,
          24,
          25,
          26,
          27,
          28,
          29,
          30,
          31,
          32,
          33,
          34,
          35,
          36,
          37,
          38,
          39,
          40,
          41,
          42,
          43,
          44,
          45,
          46,
          47,
          48,
          49,
          50,
          51,
          52,
          53,
          54,
          55,
          56,
          57,
          58,
          59,
          60,
          61,
          62,
          63,
          64,
          65,
          66,
          67,
          68,
          69,
          70,
          71,
          72,
          73,
          74,
          75,
          76,
          77,
          78,
          79,
          80,
          81,
          82,
          83,
          84,
          85,
          86,
          87,
          88,
          89,
          90,
          91,
          92,
          93,
          94,
          95,
          96,
          97,
          98,
          99
         ],
         "y": [
          1.182835259237497,
          -0.8975732145797927,
          0.5220275195709047,
          0.16526936777424775,
          0.8221463234629366,
          0.09561960691624612,
          0.7154934197202248,
          -0.7239419506948116,
          -1.6183004239710814,
          -0.5805208012812353,
          -0.2231518507637324,
          0.5809954447566315,
          0.7896657634190364,
          0.09859341287168244,
          1.01181077086917,
          1.2801686263217356,
          0.006802514892934026,
          0.749579462162761,
          1.0226976632439386,
          1.6113010155683734,
          -1.7506865128832618,
          0.5026636946768042,
          -2.4396447316668235,
          -0.9043217468103396,
          -0.5452287632889667,
          -1.6417557829174791,
          0.28369201260159543,
          0.05773592079350799,
          -0.10589216598255646,
          0.972409774305762,
          1.121115719140552,
          0.1888647630515083,
          1.1899209062449612,
          -0.5388108014040269,
          -0.868672535059343,
          0.9492871720305138,
          -1.062542675070697,
          1.7106588413411308,
          1.1044216631680823,
          -0.6928660691112118,
          -0.46731344859800633,
          -0.30426022660944946,
          1.2709380589317472,
          -2.6227128294051414,
          0.6296655254120602,
          0.4300620265521417,
          -0.6480888131663791,
          -1.438046558452693,
          -0.402555960745747,
          -2.29535392221176,
          -0.11827288604262658,
          -1.0221151216646072,
          1.281883419834949,
          -0.9207405377108133,
          -1.9270739466753486,
          0.6676074238160519,
          0.11366910445242777,
          -1.1706213115879172,
          -0.11760123847185962,
          0.3172164900409643,
          -0.6643484679944766,
          -1.512156820047486,
          -0.8162683653806203,
          1.5348972081867693,
          2.0839592977231662,
          -0.7358936086844449,
          -1.0497042264481218,
          0.44282965790962225,
          -0.3802702424432359,
          1.5832824629988664,
          0.2679297436872706,
          -2.0234957168473806,
          0.9667018570206107,
          0.8001169737148024,
          -0.42758278331913757,
          -0.9907477622080939,
          -0.6126108190402878,
          0.712290384429327,
          -1.005642475286215,
          -1.9782557774705911,
          0.9211827602892596,
          -1.3697132180465084,
          -0.8415705327052733,
          2.7174073081230024,
          -1.4140618599490045,
          0.6633224069552077,
          0.41129032261369175,
          -0.6480931619950667,
          -0.13443803548642455,
          1.0374495373632742,
          0.5593281556573985,
          -1.6662162894285633,
          0.671438208173271,
          -0.08855620096733283,
          -0.7706300723442125,
          -0.12289390281624057,
          -0.1569283401959346,
          2.4871475021674456,
          0.6363121492402903,
          -0.5900043050544014
         ]
        },
        {
         "line": {
          "color": "rgba(50, 171, 96, 1.0)",
          "dash": "solid",
          "shape": "linear",
          "width": 1.3
         },
         "mode": "lines",
         "name": "C",
         "text": "",
         "type": "scatter",
         "x": [
          0,
          1,
          2,
          3,
          4,
          5,
          6,
          7,
          8,
          9,
          10,
          11,
          12,
          13,
          14,
          15,
          16,
          17,
          18,
          19,
          20,
          21,
          22,
          23,
          24,
          25,
          26,
          27,
          28,
          29,
          30,
          31,
          32,
          33,
          34,
          35,
          36,
          37,
          38,
          39,
          40,
          41,
          42,
          43,
          44,
          45,
          46,
          47,
          48,
          49,
          50,
          51,
          52,
          53,
          54,
          55,
          56,
          57,
          58,
          59,
          60,
          61,
          62,
          63,
          64,
          65,
          66,
          67,
          68,
          69,
          70,
          71,
          72,
          73,
          74,
          75,
          76,
          77,
          78,
          79,
          80,
          81,
          82,
          83,
          84,
          85,
          86,
          87,
          88,
          89,
          90,
          91,
          92,
          93,
          94,
          95,
          96,
          97,
          98,
          99
         ],
         "y": [
          1.6320067672550114,
          0.013571597518988485,
          0.4267658992242022,
          0.3131395724831427,
          0.934514580222743,
          -0.5861022341329414,
          -1.4302987559641342,
          -0.22139786013664656,
          0.663171007555064,
          2.701568054660681,
          1.132655258868716,
          -1.2618240324811285,
          0.5967099360070722,
          -0.41428701335549833,
          0.6497449486826024,
          0.48044113315915926,
          1.0254986480098311,
          -1.7686908679270839,
          -1.7832391917216104,
          -0.8028078859416806,
          0.37707515279233544,
          0.23536684330914645,
          -1.351390100005412,
          -0.549926509826069,
          0.15787586136443116,
          0.3358040809294726,
          0.9166551680285362,
          -0.6000079288730298,
          0.356198542020789,
          -0.1616092278325927,
          -1.190736474961592,
          0.831948021082437,
          0.7108672665104884,
          -1.7565110463718139,
          1.7376816351250506,
          0.03562378256214433,
          1.1432465610938845,
          -1.7478516383727796,
          -0.5592256625903307,
          3.3430285040112238,
          1.6325210655742146,
          -0.35001531476351644,
          0.3271038550921371,
          -0.270790748596994,
          0.5146495788960012,
          -0.2387753632827418,
          -0.48190934620946485,
          0.337523458681305,
          0.6010108834316373,
          -0.6199546591098973,
          0.10261063320245636,
          0.09995308905169957,
          0.6872136943272025,
          0.8641432838921995,
          -0.20126688927067837,
          -0.14630490200191154,
          -0.9385932134581134,
          1.0167311715915515,
          -0.6940746798664247,
          0.37801160636747616,
          -2.0155541281707006,
          -0.19302718238829325,
          -0.2779639236364774,
          -1.9415924471161954,
          0.09536631705421743,
          -0.09356181753016589,
          0.8925625646518249,
          -1.2118433366028099,
          0.18860333713105218,
          0.5465591440427829,
          0.1873570216311578,
          -1.9447893839439823,
          -0.4108825283397903,
          1.4986613443997372,
          -1.2330691203098796,
          -1.7243747243962575,
          0.3664730328822936,
          0.4912675975383385,
          -1.4672190385613428,
          -0.6312494119824602,
          0.02051711049058606,
          -0.4110566281906969,
          0.6941310017272373,
          0.3479202980775581,
          0.9666567204573491,
          2.0130805562881755,
          -0.6622077039577834,
          -1.091774596828099,
          -0.4920180595361232,
          0.24288614812627068,
          -0.4158228823948609,
          0.5338377236145971,
          -1.1472736403024104,
          -0.5283819826171251,
          0.9822910754737452,
          0.9913128563641996,
          1.8591684246578655,
          -0.7352461179154989,
          0.2791521002534852,
          0.39753279031415817
         ]
        },
        {
         "line": {
          "color": "rgba(128, 0, 128, 1.0)",
          "dash": "solid",
          "shape": "linear",
          "width": 1.3
         },
         "mode": "lines",
         "name": "D",
         "text": "",
         "type": "scatter",
         "x": [
          0,
          1,
          2,
          3,
          4,
          5,
          6,
          7,
          8,
          9,
          10,
          11,
          12,
          13,
          14,
          15,
          16,
          17,
          18,
          19,
          20,
          21,
          22,
          23,
          24,
          25,
          26,
          27,
          28,
          29,
          30,
          31,
          32,
          33,
          34,
          35,
          36,
          37,
          38,
          39,
          40,
          41,
          42,
          43,
          44,
          45,
          46,
          47,
          48,
          49,
          50,
          51,
          52,
          53,
          54,
          55,
          56,
          57,
          58,
          59,
          60,
          61,
          62,
          63,
          64,
          65,
          66,
          67,
          68,
          69,
          70,
          71,
          72,
          73,
          74,
          75,
          76,
          77,
          78,
          79,
          80,
          81,
          82,
          83,
          84,
          85,
          86,
          87,
          88,
          89,
          90,
          91,
          92,
          93,
          94,
          95,
          96,
          97,
          98,
          99
         ],
         "y": [
          0.7983743801094474,
          -0.9144970364904372,
          0.7377608206373266,
          1.2094442701617718,
          -0.034113644476177776,
          -0.07468997283468373,
          -0.4365334188683654,
          -0.3359540436610759,
          -0.4900620521275639,
          0.649452927104052,
          1.32401981584447,
          -0.6681148646130952,
          1.555881666445536,
          -0.663312350537218,
          0.517535606177241,
          -0.5963604186186587,
          -0.7289394666967155,
          -0.6614334140291629,
          1.2114499104973508,
          -0.9400044909732653,
          -0.3365622407764457,
          -0.004840309662538441,
          0.4014252667959559,
          1.7702074207636602,
          -0.15902830085492964,
          -0.4491525183361768,
          0.8199773050078053,
          0.24241653586728773,
          0.038871122497753034,
          0.7673859834900345,
          1.6709893112852547,
          -1.880682722554869,
          1.1464979996109588,
          0.4642917919716699,
          -1.387190001527133,
          -0.2321182753605703,
          -0.7728716451587044,
          1.3527609759626273,
          0.20333893805926107,
          -0.5967623483934287,
          -0.5591239031247264,
          -0.024998089594043083,
          1.5416581207071445,
          1.23818191360569,
          -0.9290027328307017,
          -1.3457789379399776,
          -0.8341286738944954,
          0.5001677599565157,
          -0.5967692094673804,
          0.27348645339355887,
          0.7760781915679874,
          0.457613185037016,
          -0.3492103540291085,
          -0.3842909854963571,
          -0.2722242403653147,
          0.9332740640305395,
          0.23977015203568813,
          -0.9228408546299977,
          -0.10151930381245429,
          0.654726180321158,
          -0.30355737514787784,
          1.6422770017101684,
          1.4363121905920537,
          -0.025215221682091615,
          0.18153341490580763,
          1.3415552322991204,
          -0.18110803904038167,
          -0.3176728394306511,
          0.9505354693710215,
          0.877167018703993,
          -0.1170786443188935,
          -0.39678780004479736,
          -0.0795907042411347,
          -0.4329229278703074,
          0.3570504785206501,
          -0.10208750684175669,
          -1.7877055134430488,
          0.5441865529079403,
          -1.5405593425245991,
          -0.7191063863844535,
          0.31760538624398443,
          -1.5139475416410115,
          1.2068157093758292,
          -2.172599935187426,
          0.6871903377937948,
          -0.7751249426919488,
          -0.8218306588295341,
          1.2856002478718513,
          -0.09592446267838775,
          0.28311341574543314,
          -2.1006508831448105,
          -0.6978537491787855,
          -0.9078269204518609,
          0.2923304985925143,
          0.025863130056403685,
          -1.9227191104639756,
          1.5930321631902804,
          -0.5990701946123035,
          -1.4867794289966045,
          0.6013644071384248
         ]
        }
       ],
       "layout": {
        "legend": {
         "bgcolor": "#F5F6F9",
         "font": {
          "color": "#4D5663"
         }
        },
        "paper_bgcolor": "#F5F6F9",
        "plot_bgcolor": "#F5F6F9",
        "template": {
         "data": {
          "bar": [
           {
            "error_x": {
             "color": "#2a3f5f"
            },
            "error_y": {
             "color": "#2a3f5f"
            },
            "marker": {
             "line": {
              "color": "#E5ECF6",
              "width": 0.5
             },
             "pattern": {
              "fillmode": "overlay",
              "size": 10,
              "solidity": 0.2
             }
            },
            "type": "bar"
           }
          ],
          "barpolar": [
           {
            "marker": {
             "line": {
              "color": "#E5ECF6",
              "width": 0.5
             },
             "pattern": {
              "fillmode": "overlay",
              "size": 10,
              "solidity": 0.2
             }
            },
            "type": "barpolar"
           }
          ],
          "carpet": [
           {
            "aaxis": {
             "endlinecolor": "#2a3f5f",
             "gridcolor": "white",
             "linecolor": "white",
             "minorgridcolor": "white",
             "startlinecolor": "#2a3f5f"
            },
            "baxis": {
             "endlinecolor": "#2a3f5f",
             "gridcolor": "white",
             "linecolor": "white",
             "minorgridcolor": "white",
             "startlinecolor": "#2a3f5f"
            },
            "type": "carpet"
           }
          ],
          "choropleth": [
           {
            "colorbar": {
             "outlinewidth": 0,
             "ticks": ""
            },
            "type": "choropleth"
           }
          ],
          "contour": [
           {
            "colorbar": {
             "outlinewidth": 0,
             "ticks": ""
            },
            "colorscale": [
             [
              0,
              "#0d0887"
             ],
             [
              0.1111111111111111,
              "#46039f"
             ],
             [
              0.2222222222222222,
              "#7201a8"
             ],
             [
              0.3333333333333333,
              "#9c179e"
             ],
             [
              0.4444444444444444,
              "#bd3786"
             ],
             [
              0.5555555555555556,
              "#d8576b"
             ],
             [
              0.6666666666666666,
              "#ed7953"
             ],
             [
              0.7777777777777778,
              "#fb9f3a"
             ],
             [
              0.8888888888888888,
              "#fdca26"
             ],
             [
              1,
              "#f0f921"
             ]
            ],
            "type": "contour"
           }
          ],
          "contourcarpet": [
           {
            "colorbar": {
             "outlinewidth": 0,
             "ticks": ""
            },
            "type": "contourcarpet"
           }
          ],
          "heatmap": [
           {
            "colorbar": {
             "outlinewidth": 0,
             "ticks": ""
            },
            "colorscale": [
             [
              0,
              "#0d0887"
             ],
             [
              0.1111111111111111,
              "#46039f"
             ],
             [
              0.2222222222222222,
              "#7201a8"
             ],
             [
              0.3333333333333333,
              "#9c179e"
             ],
             [
              0.4444444444444444,
              "#bd3786"
             ],
             [
              0.5555555555555556,
              "#d8576b"
             ],
             [
              0.6666666666666666,
              "#ed7953"
             ],
             [
              0.7777777777777778,
              "#fb9f3a"
             ],
             [
              0.8888888888888888,
              "#fdca26"
             ],
             [
              1,
              "#f0f921"
             ]
            ],
            "type": "heatmap"
           }
          ],
          "heatmapgl": [
           {
            "colorbar": {
             "outlinewidth": 0,
             "ticks": ""
            },
            "colorscale": [
             [
              0,
              "#0d0887"
             ],
             [
              0.1111111111111111,
              "#46039f"
             ],
             [
              0.2222222222222222,
              "#7201a8"
             ],
             [
              0.3333333333333333,
              "#9c179e"
             ],
             [
              0.4444444444444444,
              "#bd3786"
             ],
             [
              0.5555555555555556,
              "#d8576b"
             ],
             [
              0.6666666666666666,
              "#ed7953"
             ],
             [
              0.7777777777777778,
              "#fb9f3a"
             ],
             [
              0.8888888888888888,
              "#fdca26"
             ],
             [
              1,
              "#f0f921"
             ]
            ],
            "type": "heatmapgl"
           }
          ],
          "histogram": [
           {
            "marker": {
             "pattern": {
              "fillmode": "overlay",
              "size": 10,
              "solidity": 0.2
             }
            },
            "type": "histogram"
           }
          ],
          "histogram2d": [
           {
            "colorbar": {
             "outlinewidth": 0,
             "ticks": ""
            },
            "colorscale": [
             [
              0,
              "#0d0887"
             ],
             [
              0.1111111111111111,
              "#46039f"
             ],
             [
              0.2222222222222222,
              "#7201a8"
             ],
             [
              0.3333333333333333,
              "#9c179e"
             ],
             [
              0.4444444444444444,
              "#bd3786"
             ],
             [
              0.5555555555555556,
              "#d8576b"
             ],
             [
              0.6666666666666666,
              "#ed7953"
             ],
             [
              0.7777777777777778,
              "#fb9f3a"
             ],
             [
              0.8888888888888888,
              "#fdca26"
             ],
             [
              1,
              "#f0f921"
             ]
            ],
            "type": "histogram2d"
           }
          ],
          "histogram2dcontour": [
           {
            "colorbar": {
             "outlinewidth": 0,
             "ticks": ""
            },
            "colorscale": [
             [
              0,
              "#0d0887"
             ],
             [
              0.1111111111111111,
              "#46039f"
             ],
             [
              0.2222222222222222,
              "#7201a8"
             ],
             [
              0.3333333333333333,
              "#9c179e"
             ],
             [
              0.4444444444444444,
              "#bd3786"
             ],
             [
              0.5555555555555556,
              "#d8576b"
             ],
             [
              0.6666666666666666,
              "#ed7953"
             ],
             [
              0.7777777777777778,
              "#fb9f3a"
             ],
             [
              0.8888888888888888,
              "#fdca26"
             ],
             [
              1,
              "#f0f921"
             ]
            ],
            "type": "histogram2dcontour"
           }
          ],
          "mesh3d": [
           {
            "colorbar": {
             "outlinewidth": 0,
             "ticks": ""
            },
            "type": "mesh3d"
           }
          ],
          "parcoords": [
           {
            "line": {
             "colorbar": {
              "outlinewidth": 0,
              "ticks": ""
             }
            },
            "type": "parcoords"
           }
          ],
          "pie": [
           {
            "automargin": true,
            "type": "pie"
           }
          ],
          "scatter": [
           {
            "fillpattern": {
             "fillmode": "overlay",
             "size": 10,
             "solidity": 0.2
            },
            "type": "scatter"
           }
          ],
          "scatter3d": [
           {
            "line": {
             "colorbar": {
              "outlinewidth": 0,
              "ticks": ""
             }
            },
            "marker": {
             "colorbar": {
              "outlinewidth": 0,
              "ticks": ""
             }
            },
            "type": "scatter3d"
           }
          ],
          "scattercarpet": [
           {
            "marker": {
             "colorbar": {
              "outlinewidth": 0,
              "ticks": ""
             }
            },
            "type": "scattercarpet"
           }
          ],
          "scattergeo": [
           {
            "marker": {
             "colorbar": {
              "outlinewidth": 0,
              "ticks": ""
             }
            },
            "type": "scattergeo"
           }
          ],
          "scattergl": [
           {
            "marker": {
             "colorbar": {
              "outlinewidth": 0,
              "ticks": ""
             }
            },
            "type": "scattergl"
           }
          ],
          "scattermapbox": [
           {
            "marker": {
             "colorbar": {
              "outlinewidth": 0,
              "ticks": ""
             }
            },
            "type": "scattermapbox"
           }
          ],
          "scatterpolar": [
           {
            "marker": {
             "colorbar": {
              "outlinewidth": 0,
              "ticks": ""
             }
            },
            "type": "scatterpolar"
           }
          ],
          "scatterpolargl": [
           {
            "marker": {
             "colorbar": {
              "outlinewidth": 0,
              "ticks": ""
             }
            },
            "type": "scatterpolargl"
           }
          ],
          "scatterternary": [
           {
            "marker": {
             "colorbar": {
              "outlinewidth": 0,
              "ticks": ""
             }
            },
            "type": "scatterternary"
           }
          ],
          "surface": [
           {
            "colorbar": {
             "outlinewidth": 0,
             "ticks": ""
            },
            "colorscale": [
             [
              0,
              "#0d0887"
             ],
             [
              0.1111111111111111,
              "#46039f"
             ],
             [
              0.2222222222222222,
              "#7201a8"
             ],
             [
              0.3333333333333333,
              "#9c179e"
             ],
             [
              0.4444444444444444,
              "#bd3786"
             ],
             [
              0.5555555555555556,
              "#d8576b"
             ],
             [
              0.6666666666666666,
              "#ed7953"
             ],
             [
              0.7777777777777778,
              "#fb9f3a"
             ],
             [
              0.8888888888888888,
              "#fdca26"
             ],
             [
              1,
              "#f0f921"
             ]
            ],
            "type": "surface"
           }
          ],
          "table": [
           {
            "cells": {
             "fill": {
              "color": "#EBF0F8"
             },
             "line": {
              "color": "white"
             }
            },
            "header": {
             "fill": {
              "color": "#C8D4E3"
             },
             "line": {
              "color": "white"
             }
            },
            "type": "table"
           }
          ]
         },
         "layout": {
          "annotationdefaults": {
           "arrowcolor": "#2a3f5f",
           "arrowhead": 0,
           "arrowwidth": 1
          },
          "autotypenumbers": "strict",
          "coloraxis": {
           "colorbar": {
            "outlinewidth": 0,
            "ticks": ""
           }
          },
          "colorscale": {
           "diverging": [
            [
             0,
             "#8e0152"
            ],
            [
             0.1,
             "#c51b7d"
            ],
            [
             0.2,
             "#de77ae"
            ],
            [
             0.3,
             "#f1b6da"
            ],
            [
             0.4,
             "#fde0ef"
            ],
            [
             0.5,
             "#f7f7f7"
            ],
            [
             0.6,
             "#e6f5d0"
            ],
            [
             0.7,
             "#b8e186"
            ],
            [
             0.8,
             "#7fbc41"
            ],
            [
             0.9,
             "#4d9221"
            ],
            [
             1,
             "#276419"
            ]
           ],
           "sequential": [
            [
             0,
             "#0d0887"
            ],
            [
             0.1111111111111111,
             "#46039f"
            ],
            [
             0.2222222222222222,
             "#7201a8"
            ],
            [
             0.3333333333333333,
             "#9c179e"
            ],
            [
             0.4444444444444444,
             "#bd3786"
            ],
            [
             0.5555555555555556,
             "#d8576b"
            ],
            [
             0.6666666666666666,
             "#ed7953"
            ],
            [
             0.7777777777777778,
             "#fb9f3a"
            ],
            [
             0.8888888888888888,
             "#fdca26"
            ],
            [
             1,
             "#f0f921"
            ]
           ],
           "sequentialminus": [
            [
             0,
             "#0d0887"
            ],
            [
             0.1111111111111111,
             "#46039f"
            ],
            [
             0.2222222222222222,
             "#7201a8"
            ],
            [
             0.3333333333333333,
             "#9c179e"
            ],
            [
             0.4444444444444444,
             "#bd3786"
            ],
            [
             0.5555555555555556,
             "#d8576b"
            ],
            [
             0.6666666666666666,
             "#ed7953"
            ],
            [
             0.7777777777777778,
             "#fb9f3a"
            ],
            [
             0.8888888888888888,
             "#fdca26"
            ],
            [
             1,
             "#f0f921"
            ]
           ]
          },
          "colorway": [
           "#636efa",
           "#EF553B",
           "#00cc96",
           "#ab63fa",
           "#FFA15A",
           "#19d3f3",
           "#FF6692",
           "#B6E880",
           "#FF97FF",
           "#FECB52"
          ],
          "font": {
           "color": "#2a3f5f"
          },
          "geo": {
           "bgcolor": "white",
           "lakecolor": "white",
           "landcolor": "#E5ECF6",
           "showlakes": true,
           "showland": true,
           "subunitcolor": "white"
          },
          "hoverlabel": {
           "align": "left"
          },
          "hovermode": "closest",
          "mapbox": {
           "style": "light"
          },
          "paper_bgcolor": "white",
          "plot_bgcolor": "#E5ECF6",
          "polar": {
           "angularaxis": {
            "gridcolor": "white",
            "linecolor": "white",
            "ticks": ""
           },
           "bgcolor": "#E5ECF6",
           "radialaxis": {
            "gridcolor": "white",
            "linecolor": "white",
            "ticks": ""
           }
          },
          "scene": {
           "xaxis": {
            "backgroundcolor": "#E5ECF6",
            "gridcolor": "white",
            "gridwidth": 2,
            "linecolor": "white",
            "showbackground": true,
            "ticks": "",
            "zerolinecolor": "white"
           },
           "yaxis": {
            "backgroundcolor": "#E5ECF6",
            "gridcolor": "white",
            "gridwidth": 2,
            "linecolor": "white",
            "showbackground": true,
            "ticks": "",
            "zerolinecolor": "white"
           },
           "zaxis": {
            "backgroundcolor": "#E5ECF6",
            "gridcolor": "white",
            "gridwidth": 2,
            "linecolor": "white",
            "showbackground": true,
            "ticks": "",
            "zerolinecolor": "white"
           }
          },
          "shapedefaults": {
           "line": {
            "color": "#2a3f5f"
           }
          },
          "ternary": {
           "aaxis": {
            "gridcolor": "white",
            "linecolor": "white",
            "ticks": ""
           },
           "baxis": {
            "gridcolor": "white",
            "linecolor": "white",
            "ticks": ""
           },
           "bgcolor": "#E5ECF6",
           "caxis": {
            "gridcolor": "white",
            "linecolor": "white",
            "ticks": ""
           }
          },
          "title": {
           "x": 0.05
          },
          "xaxis": {
           "automargin": true,
           "gridcolor": "white",
           "linecolor": "white",
           "ticks": "",
           "title": {
            "standoff": 15
           },
           "zerolinecolor": "white",
           "zerolinewidth": 2
          },
          "yaxis": {
           "automargin": true,
           "gridcolor": "white",
           "linecolor": "white",
           "ticks": "",
           "title": {
            "standoff": 15
           },
           "zerolinecolor": "white",
           "zerolinewidth": 2
          }
         }
        },
        "title": {
         "font": {
          "color": "#4D5663"
         }
        },
        "xaxis": {
         "gridcolor": "#E1E5ED",
         "showgrid": true,
         "tickfont": {
          "color": "#4D5663"
         },
         "title": {
          "font": {
           "color": "#4D5663"
          },
          "text": ""
         },
         "zerolinecolor": "#E1E5ED"
        },
        "yaxis": {
         "gridcolor": "#E1E5ED",
         "showgrid": true,
         "tickfont": {
          "color": "#4D5663"
         },
         "title": {
          "font": {
           "color": "#4D5663"
          },
          "text": ""
         },
         "zerolinecolor": "#E1E5ED"
        }
       }
      },
      "text/html": [
       "<div>                            <div id=\"0e05dc13-ddfd-4a1d-9049-2ebfb8265d30\" class=\"plotly-graph-div\" style=\"height:525px; width:100%;\"></div>            <script type=\"text/javascript\">                require([\"plotly\"], function(Plotly) {                    window.PLOTLYENV=window.PLOTLYENV || {};\n",
       "                    window.PLOTLYENV.BASE_URL='https://plot.ly';                                    if (document.getElementById(\"0e05dc13-ddfd-4a1d-9049-2ebfb8265d30\")) {                    Plotly.newPlot(                        \"0e05dc13-ddfd-4a1d-9049-2ebfb8265d30\",                        [{\"line\":{\"color\":\"rgba(255, 153, 51, 1.0)\",\"dash\":\"solid\",\"shape\":\"linear\",\"width\":1.3},\"mode\":\"lines\",\"name\":\"A\",\"text\":\"\",\"x\":[0,1,2,3,4,5,6,7,8,9,10,11,12,13,14,15,16,17,18,19,20,21,22,23,24,25,26,27,28,29,30,31,32,33,34,35,36,37,38,39,40,41,42,43,44,45,46,47,48,49,50,51,52,53,54,55,56,57,58,59,60,61,62,63,64,65,66,67,68,69,70,71,72,73,74,75,76,77,78,79,80,81,82,83,84,85,86,87,88,89,90,91,92,93,94,95,96,97,98,99],\"y\":[0.8144187353470765,0.06943968861889845,-0.6051177979947289,1.4200079041252598,-0.0947786780060265,0.4353422038499592,-0.867023819630172,0.22712243386141492,-1.5936932223573854,0.9241321743715584,1.0741759091264447,0.2642848602684432,0.23913383143078554,-0.5296200715161591,-0.04891670088749185,2.1634524071419787,0.07959748768622212,-0.07335152100529256,1.5679201630912711,0.053219499966360065,0.4377909275954798,-0.4108738189474997,-0.7190016400390153,0.3089019437067334,-0.26423764468661287,0.36404162684384966,1.8896605987378767,2.1064726673601473,-1.5133649684716444,0.009869769374126338,-2.235250524481225,-0.22337057601326998,0.8561588927857099,0.3856941145134942,-0.28496750706782986,0.048889224040245864,0.025062845777872163,-1.0042775436667823,0.004264310636040312,0.36646690572102514,0.8564286027355924,0.7887314088131345,-1.4777313939744903,-1.3166971416521733,-0.3208680303833144,-1.0198295242273419,0.3050677612939885,-0.8082594772684302,1.0571811122584296,-0.04330549718699945,0.8025279972795675,-1.0721022431178582,-1.72663719878505,0.0339265990132973,1.2082859061825684,2.4056453408913362e-05,0.15433331363831615,-0.16675365867183428,-0.4228428279887474,0.3122211018338927,0.6476593566228214,-0.7539537124490568,0.7782385509153177,-0.7731846360605293,-0.28562378587155934,-1.1657939985705077,-0.862042219934001,1.2110234354162455,0.8899036716432929,0.7919978324104415,-1.3310000935841564,0.7214732267316021,1.816489263931352,-0.7387856010538364,-1.0744705332323945,-0.7179108109427301,-0.297208515362758,-1.5286827136665169,0.6074091759350303,0.33771344384352486,1.259831207812005,0.7635495768552607,0.9597488173525972,1.014646551078339,2.7867484067169075,-2.52971826710298,-1.0213281238237273,0.8211913091724549,-1.0097182596065781,-0.43058400358984134,-1.3431455484801735,0.5474436942796898,0.2188722331836831,0.3741308838429427,0.051190565779324584,-0.15410944771311572,-2.1474278848315973,0.8510314976663124,1.0218206672961965,-1.1703526126312642],\"type\":\"scatter\"},{\"line\":{\"color\":\"rgba(55, 128, 191, 1.0)\",\"dash\":\"solid\",\"shape\":\"linear\",\"width\":1.3},\"mode\":\"lines\",\"name\":\"B\",\"text\":\"\",\"x\":[0,1,2,3,4,5,6,7,8,9,10,11,12,13,14,15,16,17,18,19,20,21,22,23,24,25,26,27,28,29,30,31,32,33,34,35,36,37,38,39,40,41,42,43,44,45,46,47,48,49,50,51,52,53,54,55,56,57,58,59,60,61,62,63,64,65,66,67,68,69,70,71,72,73,74,75,76,77,78,79,80,81,82,83,84,85,86,87,88,89,90,91,92,93,94,95,96,97,98,99],\"y\":[1.182835259237497,-0.8975732145797927,0.5220275195709047,0.16526936777424775,0.8221463234629366,0.09561960691624612,0.7154934197202248,-0.7239419506948116,-1.6183004239710814,-0.5805208012812353,-0.2231518507637324,0.5809954447566315,0.7896657634190364,0.09859341287168244,1.01181077086917,1.2801686263217356,0.006802514892934026,0.749579462162761,1.0226976632439386,1.6113010155683734,-1.7506865128832618,0.5026636946768042,-2.4396447316668235,-0.9043217468103396,-0.5452287632889667,-1.6417557829174791,0.28369201260159543,0.05773592079350799,-0.10589216598255646,0.972409774305762,1.121115719140552,0.1888647630515083,1.1899209062449612,-0.5388108014040269,-0.868672535059343,0.9492871720305138,-1.062542675070697,1.7106588413411308,1.1044216631680823,-0.6928660691112118,-0.46731344859800633,-0.30426022660944946,1.2709380589317472,-2.6227128294051414,0.6296655254120602,0.4300620265521417,-0.6480888131663791,-1.438046558452693,-0.402555960745747,-2.29535392221176,-0.11827288604262658,-1.0221151216646072,1.281883419834949,-0.9207405377108133,-1.9270739466753486,0.6676074238160519,0.11366910445242777,-1.1706213115879172,-0.11760123847185962,0.3172164900409643,-0.6643484679944766,-1.512156820047486,-0.8162683653806203,1.5348972081867693,2.0839592977231662,-0.7358936086844449,-1.0497042264481218,0.44282965790962225,-0.3802702424432359,1.5832824629988664,0.2679297436872706,-2.0234957168473806,0.9667018570206107,0.8001169737148024,-0.42758278331913757,-0.9907477622080939,-0.6126108190402878,0.712290384429327,-1.005642475286215,-1.9782557774705911,0.9211827602892596,-1.3697132180465084,-0.8415705327052733,2.7174073081230024,-1.4140618599490045,0.6633224069552077,0.41129032261369175,-0.6480931619950667,-0.13443803548642455,1.0374495373632742,0.5593281556573985,-1.6662162894285633,0.671438208173271,-0.08855620096733283,-0.7706300723442125,-0.12289390281624057,-0.1569283401959346,2.4871475021674456,0.6363121492402903,-0.5900043050544014],\"type\":\"scatter\"},{\"line\":{\"color\":\"rgba(50, 171, 96, 1.0)\",\"dash\":\"solid\",\"shape\":\"linear\",\"width\":1.3},\"mode\":\"lines\",\"name\":\"C\",\"text\":\"\",\"x\":[0,1,2,3,4,5,6,7,8,9,10,11,12,13,14,15,16,17,18,19,20,21,22,23,24,25,26,27,28,29,30,31,32,33,34,35,36,37,38,39,40,41,42,43,44,45,46,47,48,49,50,51,52,53,54,55,56,57,58,59,60,61,62,63,64,65,66,67,68,69,70,71,72,73,74,75,76,77,78,79,80,81,82,83,84,85,86,87,88,89,90,91,92,93,94,95,96,97,98,99],\"y\":[1.6320067672550114,0.013571597518988485,0.4267658992242022,0.3131395724831427,0.934514580222743,-0.5861022341329414,-1.4302987559641342,-0.22139786013664656,0.663171007555064,2.701568054660681,1.132655258868716,-1.2618240324811285,0.5967099360070722,-0.41428701335549833,0.6497449486826024,0.48044113315915926,1.0254986480098311,-1.7686908679270839,-1.7832391917216104,-0.8028078859416806,0.37707515279233544,0.23536684330914645,-1.351390100005412,-0.549926509826069,0.15787586136443116,0.3358040809294726,0.9166551680285362,-0.6000079288730298,0.356198542020789,-0.1616092278325927,-1.190736474961592,0.831948021082437,0.7108672665104884,-1.7565110463718139,1.7376816351250506,0.03562378256214433,1.1432465610938845,-1.7478516383727796,-0.5592256625903307,3.3430285040112238,1.6325210655742146,-0.35001531476351644,0.3271038550921371,-0.270790748596994,0.5146495788960012,-0.2387753632827418,-0.48190934620946485,0.337523458681305,0.6010108834316373,-0.6199546591098973,0.10261063320245636,0.09995308905169957,0.6872136943272025,0.8641432838921995,-0.20126688927067837,-0.14630490200191154,-0.9385932134581134,1.0167311715915515,-0.6940746798664247,0.37801160636747616,-2.0155541281707006,-0.19302718238829325,-0.2779639236364774,-1.9415924471161954,0.09536631705421743,-0.09356181753016589,0.8925625646518249,-1.2118433366028099,0.18860333713105218,0.5465591440427829,0.1873570216311578,-1.9447893839439823,-0.4108825283397903,1.4986613443997372,-1.2330691203098796,-1.7243747243962575,0.3664730328822936,0.4912675975383385,-1.4672190385613428,-0.6312494119824602,0.02051711049058606,-0.4110566281906969,0.6941310017272373,0.3479202980775581,0.9666567204573491,2.0130805562881755,-0.6622077039577834,-1.091774596828099,-0.4920180595361232,0.24288614812627068,-0.4158228823948609,0.5338377236145971,-1.1472736403024104,-0.5283819826171251,0.9822910754737452,0.9913128563641996,1.8591684246578655,-0.7352461179154989,0.2791521002534852,0.39753279031415817],\"type\":\"scatter\"},{\"line\":{\"color\":\"rgba(128, 0, 128, 1.0)\",\"dash\":\"solid\",\"shape\":\"linear\",\"width\":1.3},\"mode\":\"lines\",\"name\":\"D\",\"text\":\"\",\"x\":[0,1,2,3,4,5,6,7,8,9,10,11,12,13,14,15,16,17,18,19,20,21,22,23,24,25,26,27,28,29,30,31,32,33,34,35,36,37,38,39,40,41,42,43,44,45,46,47,48,49,50,51,52,53,54,55,56,57,58,59,60,61,62,63,64,65,66,67,68,69,70,71,72,73,74,75,76,77,78,79,80,81,82,83,84,85,86,87,88,89,90,91,92,93,94,95,96,97,98,99],\"y\":[0.7983743801094474,-0.9144970364904372,0.7377608206373266,1.2094442701617718,-0.034113644476177776,-0.07468997283468373,-0.4365334188683654,-0.3359540436610759,-0.4900620521275639,0.649452927104052,1.32401981584447,-0.6681148646130952,1.555881666445536,-0.663312350537218,0.517535606177241,-0.5963604186186587,-0.7289394666967155,-0.6614334140291629,1.2114499104973508,-0.9400044909732653,-0.3365622407764457,-0.004840309662538441,0.4014252667959559,1.7702074207636602,-0.15902830085492964,-0.4491525183361768,0.8199773050078053,0.24241653586728773,0.038871122497753034,0.7673859834900345,1.6709893112852547,-1.880682722554869,1.1464979996109588,0.4642917919716699,-1.387190001527133,-0.2321182753605703,-0.7728716451587044,1.3527609759626273,0.20333893805926107,-0.5967623483934287,-0.5591239031247264,-0.024998089594043083,1.5416581207071445,1.23818191360569,-0.9290027328307017,-1.3457789379399776,-0.8341286738944954,0.5001677599565157,-0.5967692094673804,0.27348645339355887,0.7760781915679874,0.457613185037016,-0.3492103540291085,-0.3842909854963571,-0.2722242403653147,0.9332740640305395,0.23977015203568813,-0.9228408546299977,-0.10151930381245429,0.654726180321158,-0.30355737514787784,1.6422770017101684,1.4363121905920537,-0.025215221682091615,0.18153341490580763,1.3415552322991204,-0.18110803904038167,-0.3176728394306511,0.9505354693710215,0.877167018703993,-0.1170786443188935,-0.39678780004479736,-0.0795907042411347,-0.4329229278703074,0.3570504785206501,-0.10208750684175669,-1.7877055134430488,0.5441865529079403,-1.5405593425245991,-0.7191063863844535,0.31760538624398443,-1.5139475416410115,1.2068157093758292,-2.172599935187426,0.6871903377937948,-0.7751249426919488,-0.8218306588295341,1.2856002478718513,-0.09592446267838775,0.28311341574543314,-2.1006508831448105,-0.6978537491787855,-0.9078269204518609,0.2923304985925143,0.025863130056403685,-1.9227191104639756,1.5930321631902804,-0.5990701946123035,-1.4867794289966045,0.6013644071384248],\"type\":\"scatter\"}],                        {\"legend\":{\"bgcolor\":\"#F5F6F9\",\"font\":{\"color\":\"#4D5663\"}},\"paper_bgcolor\":\"#F5F6F9\",\"plot_bgcolor\":\"#F5F6F9\",\"template\":{\"data\":{\"barpolar\":[{\"marker\":{\"line\":{\"color\":\"#E5ECF6\",\"width\":0.5},\"pattern\":{\"fillmode\":\"overlay\",\"size\":10,\"solidity\":0.2}},\"type\":\"barpolar\"}],\"bar\":[{\"error_x\":{\"color\":\"#2a3f5f\"},\"error_y\":{\"color\":\"#2a3f5f\"},\"marker\":{\"line\":{\"color\":\"#E5ECF6\",\"width\":0.5},\"pattern\":{\"fillmode\":\"overlay\",\"size\":10,\"solidity\":0.2}},\"type\":\"bar\"}],\"carpet\":[{\"aaxis\":{\"endlinecolor\":\"#2a3f5f\",\"gridcolor\":\"white\",\"linecolor\":\"white\",\"minorgridcolor\":\"white\",\"startlinecolor\":\"#2a3f5f\"},\"baxis\":{\"endlinecolor\":\"#2a3f5f\",\"gridcolor\":\"white\",\"linecolor\":\"white\",\"minorgridcolor\":\"white\",\"startlinecolor\":\"#2a3f5f\"},\"type\":\"carpet\"}],\"choropleth\":[{\"colorbar\":{\"outlinewidth\":0,\"ticks\":\"\"},\"type\":\"choropleth\"}],\"contourcarpet\":[{\"colorbar\":{\"outlinewidth\":0,\"ticks\":\"\"},\"type\":\"contourcarpet\"}],\"contour\":[{\"colorbar\":{\"outlinewidth\":0,\"ticks\":\"\"},\"colorscale\":[[0.0,\"#0d0887\"],[0.1111111111111111,\"#46039f\"],[0.2222222222222222,\"#7201a8\"],[0.3333333333333333,\"#9c179e\"],[0.4444444444444444,\"#bd3786\"],[0.5555555555555556,\"#d8576b\"],[0.6666666666666666,\"#ed7953\"],[0.7777777777777778,\"#fb9f3a\"],[0.8888888888888888,\"#fdca26\"],[1.0,\"#f0f921\"]],\"type\":\"contour\"}],\"heatmapgl\":[{\"colorbar\":{\"outlinewidth\":0,\"ticks\":\"\"},\"colorscale\":[[0.0,\"#0d0887\"],[0.1111111111111111,\"#46039f\"],[0.2222222222222222,\"#7201a8\"],[0.3333333333333333,\"#9c179e\"],[0.4444444444444444,\"#bd3786\"],[0.5555555555555556,\"#d8576b\"],[0.6666666666666666,\"#ed7953\"],[0.7777777777777778,\"#fb9f3a\"],[0.8888888888888888,\"#fdca26\"],[1.0,\"#f0f921\"]],\"type\":\"heatmapgl\"}],\"heatmap\":[{\"colorbar\":{\"outlinewidth\":0,\"ticks\":\"\"},\"colorscale\":[[0.0,\"#0d0887\"],[0.1111111111111111,\"#46039f\"],[0.2222222222222222,\"#7201a8\"],[0.3333333333333333,\"#9c179e\"],[0.4444444444444444,\"#bd3786\"],[0.5555555555555556,\"#d8576b\"],[0.6666666666666666,\"#ed7953\"],[0.7777777777777778,\"#fb9f3a\"],[0.8888888888888888,\"#fdca26\"],[1.0,\"#f0f921\"]],\"type\":\"heatmap\"}],\"histogram2dcontour\":[{\"colorbar\":{\"outlinewidth\":0,\"ticks\":\"\"},\"colorscale\":[[0.0,\"#0d0887\"],[0.1111111111111111,\"#46039f\"],[0.2222222222222222,\"#7201a8\"],[0.3333333333333333,\"#9c179e\"],[0.4444444444444444,\"#bd3786\"],[0.5555555555555556,\"#d8576b\"],[0.6666666666666666,\"#ed7953\"],[0.7777777777777778,\"#fb9f3a\"],[0.8888888888888888,\"#fdca26\"],[1.0,\"#f0f921\"]],\"type\":\"histogram2dcontour\"}],\"histogram2d\":[{\"colorbar\":{\"outlinewidth\":0,\"ticks\":\"\"},\"colorscale\":[[0.0,\"#0d0887\"],[0.1111111111111111,\"#46039f\"],[0.2222222222222222,\"#7201a8\"],[0.3333333333333333,\"#9c179e\"],[0.4444444444444444,\"#bd3786\"],[0.5555555555555556,\"#d8576b\"],[0.6666666666666666,\"#ed7953\"],[0.7777777777777778,\"#fb9f3a\"],[0.8888888888888888,\"#fdca26\"],[1.0,\"#f0f921\"]],\"type\":\"histogram2d\"}],\"histogram\":[{\"marker\":{\"pattern\":{\"fillmode\":\"overlay\",\"size\":10,\"solidity\":0.2}},\"type\":\"histogram\"}],\"mesh3d\":[{\"colorbar\":{\"outlinewidth\":0,\"ticks\":\"\"},\"type\":\"mesh3d\"}],\"parcoords\":[{\"line\":{\"colorbar\":{\"outlinewidth\":0,\"ticks\":\"\"}},\"type\":\"parcoords\"}],\"pie\":[{\"automargin\":true,\"type\":\"pie\"}],\"scatter3d\":[{\"line\":{\"colorbar\":{\"outlinewidth\":0,\"ticks\":\"\"}},\"marker\":{\"colorbar\":{\"outlinewidth\":0,\"ticks\":\"\"}},\"type\":\"scatter3d\"}],\"scattercarpet\":[{\"marker\":{\"colorbar\":{\"outlinewidth\":0,\"ticks\":\"\"}},\"type\":\"scattercarpet\"}],\"scattergeo\":[{\"marker\":{\"colorbar\":{\"outlinewidth\":0,\"ticks\":\"\"}},\"type\":\"scattergeo\"}],\"scattergl\":[{\"marker\":{\"colorbar\":{\"outlinewidth\":0,\"ticks\":\"\"}},\"type\":\"scattergl\"}],\"scattermapbox\":[{\"marker\":{\"colorbar\":{\"outlinewidth\":0,\"ticks\":\"\"}},\"type\":\"scattermapbox\"}],\"scatterpolargl\":[{\"marker\":{\"colorbar\":{\"outlinewidth\":0,\"ticks\":\"\"}},\"type\":\"scatterpolargl\"}],\"scatterpolar\":[{\"marker\":{\"colorbar\":{\"outlinewidth\":0,\"ticks\":\"\"}},\"type\":\"scatterpolar\"}],\"scatter\":[{\"fillpattern\":{\"fillmode\":\"overlay\",\"size\":10,\"solidity\":0.2},\"type\":\"scatter\"}],\"scatterternary\":[{\"marker\":{\"colorbar\":{\"outlinewidth\":0,\"ticks\":\"\"}},\"type\":\"scatterternary\"}],\"surface\":[{\"colorbar\":{\"outlinewidth\":0,\"ticks\":\"\"},\"colorscale\":[[0.0,\"#0d0887\"],[0.1111111111111111,\"#46039f\"],[0.2222222222222222,\"#7201a8\"],[0.3333333333333333,\"#9c179e\"],[0.4444444444444444,\"#bd3786\"],[0.5555555555555556,\"#d8576b\"],[0.6666666666666666,\"#ed7953\"],[0.7777777777777778,\"#fb9f3a\"],[0.8888888888888888,\"#fdca26\"],[1.0,\"#f0f921\"]],\"type\":\"surface\"}],\"table\":[{\"cells\":{\"fill\":{\"color\":\"#EBF0F8\"},\"line\":{\"color\":\"white\"}},\"header\":{\"fill\":{\"color\":\"#C8D4E3\"},\"line\":{\"color\":\"white\"}},\"type\":\"table\"}]},\"layout\":{\"annotationdefaults\":{\"arrowcolor\":\"#2a3f5f\",\"arrowhead\":0,\"arrowwidth\":1},\"autotypenumbers\":\"strict\",\"coloraxis\":{\"colorbar\":{\"outlinewidth\":0,\"ticks\":\"\"}},\"colorscale\":{\"diverging\":[[0,\"#8e0152\"],[0.1,\"#c51b7d\"],[0.2,\"#de77ae\"],[0.3,\"#f1b6da\"],[0.4,\"#fde0ef\"],[0.5,\"#f7f7f7\"],[0.6,\"#e6f5d0\"],[0.7,\"#b8e186\"],[0.8,\"#7fbc41\"],[0.9,\"#4d9221\"],[1,\"#276419\"]],\"sequential\":[[0.0,\"#0d0887\"],[0.1111111111111111,\"#46039f\"],[0.2222222222222222,\"#7201a8\"],[0.3333333333333333,\"#9c179e\"],[0.4444444444444444,\"#bd3786\"],[0.5555555555555556,\"#d8576b\"],[0.6666666666666666,\"#ed7953\"],[0.7777777777777778,\"#fb9f3a\"],[0.8888888888888888,\"#fdca26\"],[1.0,\"#f0f921\"]],\"sequentialminus\":[[0.0,\"#0d0887\"],[0.1111111111111111,\"#46039f\"],[0.2222222222222222,\"#7201a8\"],[0.3333333333333333,\"#9c179e\"],[0.4444444444444444,\"#bd3786\"],[0.5555555555555556,\"#d8576b\"],[0.6666666666666666,\"#ed7953\"],[0.7777777777777778,\"#fb9f3a\"],[0.8888888888888888,\"#fdca26\"],[1.0,\"#f0f921\"]]},\"colorway\":[\"#636efa\",\"#EF553B\",\"#00cc96\",\"#ab63fa\",\"#FFA15A\",\"#19d3f3\",\"#FF6692\",\"#B6E880\",\"#FF97FF\",\"#FECB52\"],\"font\":{\"color\":\"#2a3f5f\"},\"geo\":{\"bgcolor\":\"white\",\"lakecolor\":\"white\",\"landcolor\":\"#E5ECF6\",\"showlakes\":true,\"showland\":true,\"subunitcolor\":\"white\"},\"hoverlabel\":{\"align\":\"left\"},\"hovermode\":\"closest\",\"mapbox\":{\"style\":\"light\"},\"paper_bgcolor\":\"white\",\"plot_bgcolor\":\"#E5ECF6\",\"polar\":{\"angularaxis\":{\"gridcolor\":\"white\",\"linecolor\":\"white\",\"ticks\":\"\"},\"bgcolor\":\"#E5ECF6\",\"radialaxis\":{\"gridcolor\":\"white\",\"linecolor\":\"white\",\"ticks\":\"\"}},\"scene\":{\"xaxis\":{\"backgroundcolor\":\"#E5ECF6\",\"gridcolor\":\"white\",\"gridwidth\":2,\"linecolor\":\"white\",\"showbackground\":true,\"ticks\":\"\",\"zerolinecolor\":\"white\"},\"yaxis\":{\"backgroundcolor\":\"#E5ECF6\",\"gridcolor\":\"white\",\"gridwidth\":2,\"linecolor\":\"white\",\"showbackground\":true,\"ticks\":\"\",\"zerolinecolor\":\"white\"},\"zaxis\":{\"backgroundcolor\":\"#E5ECF6\",\"gridcolor\":\"white\",\"gridwidth\":2,\"linecolor\":\"white\",\"showbackground\":true,\"ticks\":\"\",\"zerolinecolor\":\"white\"}},\"shapedefaults\":{\"line\":{\"color\":\"#2a3f5f\"}},\"ternary\":{\"aaxis\":{\"gridcolor\":\"white\",\"linecolor\":\"white\",\"ticks\":\"\"},\"baxis\":{\"gridcolor\":\"white\",\"linecolor\":\"white\",\"ticks\":\"\"},\"bgcolor\":\"#E5ECF6\",\"caxis\":{\"gridcolor\":\"white\",\"linecolor\":\"white\",\"ticks\":\"\"}},\"title\":{\"x\":0.05},\"xaxis\":{\"automargin\":true,\"gridcolor\":\"white\",\"linecolor\":\"white\",\"ticks\":\"\",\"title\":{\"standoff\":15},\"zerolinecolor\":\"white\",\"zerolinewidth\":2},\"yaxis\":{\"automargin\":true,\"gridcolor\":\"white\",\"linecolor\":\"white\",\"ticks\":\"\",\"title\":{\"standoff\":15},\"zerolinecolor\":\"white\",\"zerolinewidth\":2}}},\"title\":{\"font\":{\"color\":\"#4D5663\"}},\"xaxis\":{\"gridcolor\":\"#E1E5ED\",\"showgrid\":true,\"tickfont\":{\"color\":\"#4D5663\"},\"title\":{\"font\":{\"color\":\"#4D5663\"},\"text\":\"\"},\"zerolinecolor\":\"#E1E5ED\"},\"yaxis\":{\"gridcolor\":\"#E1E5ED\",\"showgrid\":true,\"tickfont\":{\"color\":\"#4D5663\"},\"title\":{\"font\":{\"color\":\"#4D5663\"},\"text\":\"\"},\"zerolinecolor\":\"#E1E5ED\"}},                        {\"showLink\": true, \"linkText\": \"Export to plot.ly\", \"plotlyServerURL\": \"https://plot.ly\", \"responsive\": true}                    ).then(function(){\n",
       "                            \n",
       "var gd = document.getElementById('0e05dc13-ddfd-4a1d-9049-2ebfb8265d30');\n",
       "var x = new MutationObserver(function (mutations, observer) {{\n",
       "        var display = window.getComputedStyle(gd).display;\n",
       "        if (!display || display === 'none') {{\n",
       "            console.log([gd, 'removed!']);\n",
       "            Plotly.purge(gd);\n",
       "            observer.disconnect();\n",
       "        }}\n",
       "}});\n",
       "\n",
       "// Listen for the removal of the full notebook cells\n",
       "var notebookContainer = gd.closest('#notebook-container');\n",
       "if (notebookContainer) {{\n",
       "    x.observe(notebookContainer, {childList: true});\n",
       "}}\n",
       "\n",
       "// Listen for the clearing of the current output cell\n",
       "var outputEl = gd.closest('.output');\n",
       "if (outputEl) {{\n",
       "    x.observe(outputEl, {childList: true});\n",
       "}}\n",
       "\n",
       "                        })                };                });            </script>        </div>"
      ]
     },
     "metadata": {},
     "output_type": "display_data"
    }
   ],
   "source": [
    "df.iplot()"
   ]
  },
  {
   "cell_type": "code",
   "execution_count": 14,
   "id": "d6a3220c",
   "metadata": {},
   "outputs": [
    {
     "data": {
      "application/vnd.plotly.v1+json": {
       "config": {
        "linkText": "Export to plot.ly",
        "plotlyServerURL": "https://plot.ly",
        "showLink": true
       },
       "data": [
        {
         "line": {
          "color": "rgba(255, 153, 51, 1.0)",
          "dash": "solid",
          "shape": "linear",
          "width": 1.3
         },
         "marker": {
          "size": 12,
          "symbol": "circle"
         },
         "mode": "markers",
         "name": "B",
         "text": "",
         "type": "scatter",
         "x": [
          0.8144187353470765,
          0.06943968861889845,
          -0.6051177979947289,
          1.4200079041252598,
          -0.0947786780060265,
          0.4353422038499592,
          -0.867023819630172,
          0.22712243386141492,
          -1.5936932223573854,
          0.9241321743715584,
          1.0741759091264447,
          0.2642848602684432,
          0.23913383143078554,
          -0.5296200715161591,
          -0.04891670088749185,
          2.1634524071419787,
          0.07959748768622212,
          -0.07335152100529256,
          1.5679201630912711,
          0.053219499966360065,
          0.4377909275954798,
          -0.4108738189474997,
          -0.7190016400390153,
          0.3089019437067334,
          -0.26423764468661287,
          0.36404162684384966,
          1.8896605987378767,
          2.1064726673601473,
          -1.5133649684716444,
          0.009869769374126338,
          -2.235250524481225,
          -0.22337057601326998,
          0.8561588927857099,
          0.3856941145134942,
          -0.28496750706782986,
          0.048889224040245864,
          0.025062845777872163,
          -1.0042775436667823,
          0.004264310636040312,
          0.36646690572102514,
          0.8564286027355924,
          0.7887314088131345,
          -1.4777313939744903,
          -1.3166971416521733,
          -0.3208680303833144,
          -1.0198295242273419,
          0.3050677612939885,
          -0.8082594772684302,
          1.0571811122584296,
          -0.04330549718699945,
          0.8025279972795675,
          -1.0721022431178582,
          -1.72663719878505,
          0.0339265990132973,
          1.2082859061825684,
          0.000024056453408913362,
          0.15433331363831615,
          -0.16675365867183428,
          -0.4228428279887474,
          0.3122211018338927,
          0.6476593566228214,
          -0.7539537124490568,
          0.7782385509153177,
          -0.7731846360605293,
          -0.28562378587155934,
          -1.1657939985705077,
          -0.862042219934001,
          1.2110234354162455,
          0.8899036716432929,
          0.7919978324104415,
          -1.3310000935841564,
          0.7214732267316021,
          1.816489263931352,
          -0.7387856010538364,
          -1.0744705332323945,
          -0.7179108109427301,
          -0.297208515362758,
          -1.5286827136665169,
          0.6074091759350303,
          0.33771344384352486,
          1.259831207812005,
          0.7635495768552607,
          0.9597488173525972,
          1.014646551078339,
          2.7867484067169075,
          -2.52971826710298,
          -1.0213281238237273,
          0.8211913091724549,
          -1.0097182596065781,
          -0.43058400358984134,
          -1.3431455484801735,
          0.5474436942796898,
          0.2188722331836831,
          0.3741308838429427,
          0.051190565779324584,
          -0.15410944771311572,
          -2.1474278848315973,
          0.8510314976663124,
          1.0218206672961965,
          -1.1703526126312642
         ],
         "y": [
          1.182835259237497,
          -0.8975732145797927,
          0.5220275195709047,
          0.16526936777424775,
          0.8221463234629366,
          0.09561960691624612,
          0.7154934197202248,
          -0.7239419506948116,
          -1.6183004239710814,
          -0.5805208012812353,
          -0.2231518507637324,
          0.5809954447566315,
          0.7896657634190364,
          0.09859341287168244,
          1.01181077086917,
          1.2801686263217356,
          0.006802514892934026,
          0.749579462162761,
          1.0226976632439386,
          1.6113010155683734,
          -1.7506865128832618,
          0.5026636946768042,
          -2.4396447316668235,
          -0.9043217468103396,
          -0.5452287632889667,
          -1.6417557829174791,
          0.28369201260159543,
          0.05773592079350799,
          -0.10589216598255646,
          0.972409774305762,
          1.121115719140552,
          0.1888647630515083,
          1.1899209062449612,
          -0.5388108014040269,
          -0.868672535059343,
          0.9492871720305138,
          -1.062542675070697,
          1.7106588413411308,
          1.1044216631680823,
          -0.6928660691112118,
          -0.46731344859800633,
          -0.30426022660944946,
          1.2709380589317472,
          -2.6227128294051414,
          0.6296655254120602,
          0.4300620265521417,
          -0.6480888131663791,
          -1.438046558452693,
          -0.402555960745747,
          -2.29535392221176,
          -0.11827288604262658,
          -1.0221151216646072,
          1.281883419834949,
          -0.9207405377108133,
          -1.9270739466753486,
          0.6676074238160519,
          0.11366910445242777,
          -1.1706213115879172,
          -0.11760123847185962,
          0.3172164900409643,
          -0.6643484679944766,
          -1.512156820047486,
          -0.8162683653806203,
          1.5348972081867693,
          2.0839592977231662,
          -0.7358936086844449,
          -1.0497042264481218,
          0.44282965790962225,
          -0.3802702424432359,
          1.5832824629988664,
          0.2679297436872706,
          -2.0234957168473806,
          0.9667018570206107,
          0.8001169737148024,
          -0.42758278331913757,
          -0.9907477622080939,
          -0.6126108190402878,
          0.712290384429327,
          -1.005642475286215,
          -1.9782557774705911,
          0.9211827602892596,
          -1.3697132180465084,
          -0.8415705327052733,
          2.7174073081230024,
          -1.4140618599490045,
          0.6633224069552077,
          0.41129032261369175,
          -0.6480931619950667,
          -0.13443803548642455,
          1.0374495373632742,
          0.5593281556573985,
          -1.6662162894285633,
          0.671438208173271,
          -0.08855620096733283,
          -0.7706300723442125,
          -0.12289390281624057,
          -0.1569283401959346,
          2.4871475021674456,
          0.6363121492402903,
          -0.5900043050544014
         ]
        }
       ],
       "layout": {
        "legend": {
         "bgcolor": "#F5F6F9",
         "font": {
          "color": "#4D5663"
         }
        },
        "paper_bgcolor": "#F5F6F9",
        "plot_bgcolor": "#F5F6F9",
        "template": {
         "data": {
          "bar": [
           {
            "error_x": {
             "color": "#2a3f5f"
            },
            "error_y": {
             "color": "#2a3f5f"
            },
            "marker": {
             "line": {
              "color": "#E5ECF6",
              "width": 0.5
             },
             "pattern": {
              "fillmode": "overlay",
              "size": 10,
              "solidity": 0.2
             }
            },
            "type": "bar"
           }
          ],
          "barpolar": [
           {
            "marker": {
             "line": {
              "color": "#E5ECF6",
              "width": 0.5
             },
             "pattern": {
              "fillmode": "overlay",
              "size": 10,
              "solidity": 0.2
             }
            },
            "type": "barpolar"
           }
          ],
          "carpet": [
           {
            "aaxis": {
             "endlinecolor": "#2a3f5f",
             "gridcolor": "white",
             "linecolor": "white",
             "minorgridcolor": "white",
             "startlinecolor": "#2a3f5f"
            },
            "baxis": {
             "endlinecolor": "#2a3f5f",
             "gridcolor": "white",
             "linecolor": "white",
             "minorgridcolor": "white",
             "startlinecolor": "#2a3f5f"
            },
            "type": "carpet"
           }
          ],
          "choropleth": [
           {
            "colorbar": {
             "outlinewidth": 0,
             "ticks": ""
            },
            "type": "choropleth"
           }
          ],
          "contour": [
           {
            "colorbar": {
             "outlinewidth": 0,
             "ticks": ""
            },
            "colorscale": [
             [
              0,
              "#0d0887"
             ],
             [
              0.1111111111111111,
              "#46039f"
             ],
             [
              0.2222222222222222,
              "#7201a8"
             ],
             [
              0.3333333333333333,
              "#9c179e"
             ],
             [
              0.4444444444444444,
              "#bd3786"
             ],
             [
              0.5555555555555556,
              "#d8576b"
             ],
             [
              0.6666666666666666,
              "#ed7953"
             ],
             [
              0.7777777777777778,
              "#fb9f3a"
             ],
             [
              0.8888888888888888,
              "#fdca26"
             ],
             [
              1,
              "#f0f921"
             ]
            ],
            "type": "contour"
           }
          ],
          "contourcarpet": [
           {
            "colorbar": {
             "outlinewidth": 0,
             "ticks": ""
            },
            "type": "contourcarpet"
           }
          ],
          "heatmap": [
           {
            "colorbar": {
             "outlinewidth": 0,
             "ticks": ""
            },
            "colorscale": [
             [
              0,
              "#0d0887"
             ],
             [
              0.1111111111111111,
              "#46039f"
             ],
             [
              0.2222222222222222,
              "#7201a8"
             ],
             [
              0.3333333333333333,
              "#9c179e"
             ],
             [
              0.4444444444444444,
              "#bd3786"
             ],
             [
              0.5555555555555556,
              "#d8576b"
             ],
             [
              0.6666666666666666,
              "#ed7953"
             ],
             [
              0.7777777777777778,
              "#fb9f3a"
             ],
             [
              0.8888888888888888,
              "#fdca26"
             ],
             [
              1,
              "#f0f921"
             ]
            ],
            "type": "heatmap"
           }
          ],
          "heatmapgl": [
           {
            "colorbar": {
             "outlinewidth": 0,
             "ticks": ""
            },
            "colorscale": [
             [
              0,
              "#0d0887"
             ],
             [
              0.1111111111111111,
              "#46039f"
             ],
             [
              0.2222222222222222,
              "#7201a8"
             ],
             [
              0.3333333333333333,
              "#9c179e"
             ],
             [
              0.4444444444444444,
              "#bd3786"
             ],
             [
              0.5555555555555556,
              "#d8576b"
             ],
             [
              0.6666666666666666,
              "#ed7953"
             ],
             [
              0.7777777777777778,
              "#fb9f3a"
             ],
             [
              0.8888888888888888,
              "#fdca26"
             ],
             [
              1,
              "#f0f921"
             ]
            ],
            "type": "heatmapgl"
           }
          ],
          "histogram": [
           {
            "marker": {
             "pattern": {
              "fillmode": "overlay",
              "size": 10,
              "solidity": 0.2
             }
            },
            "type": "histogram"
           }
          ],
          "histogram2d": [
           {
            "colorbar": {
             "outlinewidth": 0,
             "ticks": ""
            },
            "colorscale": [
             [
              0,
              "#0d0887"
             ],
             [
              0.1111111111111111,
              "#46039f"
             ],
             [
              0.2222222222222222,
              "#7201a8"
             ],
             [
              0.3333333333333333,
              "#9c179e"
             ],
             [
              0.4444444444444444,
              "#bd3786"
             ],
             [
              0.5555555555555556,
              "#d8576b"
             ],
             [
              0.6666666666666666,
              "#ed7953"
             ],
             [
              0.7777777777777778,
              "#fb9f3a"
             ],
             [
              0.8888888888888888,
              "#fdca26"
             ],
             [
              1,
              "#f0f921"
             ]
            ],
            "type": "histogram2d"
           }
          ],
          "histogram2dcontour": [
           {
            "colorbar": {
             "outlinewidth": 0,
             "ticks": ""
            },
            "colorscale": [
             [
              0,
              "#0d0887"
             ],
             [
              0.1111111111111111,
              "#46039f"
             ],
             [
              0.2222222222222222,
              "#7201a8"
             ],
             [
              0.3333333333333333,
              "#9c179e"
             ],
             [
              0.4444444444444444,
              "#bd3786"
             ],
             [
              0.5555555555555556,
              "#d8576b"
             ],
             [
              0.6666666666666666,
              "#ed7953"
             ],
             [
              0.7777777777777778,
              "#fb9f3a"
             ],
             [
              0.8888888888888888,
              "#fdca26"
             ],
             [
              1,
              "#f0f921"
             ]
            ],
            "type": "histogram2dcontour"
           }
          ],
          "mesh3d": [
           {
            "colorbar": {
             "outlinewidth": 0,
             "ticks": ""
            },
            "type": "mesh3d"
           }
          ],
          "parcoords": [
           {
            "line": {
             "colorbar": {
              "outlinewidth": 0,
              "ticks": ""
             }
            },
            "type": "parcoords"
           }
          ],
          "pie": [
           {
            "automargin": true,
            "type": "pie"
           }
          ],
          "scatter": [
           {
            "fillpattern": {
             "fillmode": "overlay",
             "size": 10,
             "solidity": 0.2
            },
            "type": "scatter"
           }
          ],
          "scatter3d": [
           {
            "line": {
             "colorbar": {
              "outlinewidth": 0,
              "ticks": ""
             }
            },
            "marker": {
             "colorbar": {
              "outlinewidth": 0,
              "ticks": ""
             }
            },
            "type": "scatter3d"
           }
          ],
          "scattercarpet": [
           {
            "marker": {
             "colorbar": {
              "outlinewidth": 0,
              "ticks": ""
             }
            },
            "type": "scattercarpet"
           }
          ],
          "scattergeo": [
           {
            "marker": {
             "colorbar": {
              "outlinewidth": 0,
              "ticks": ""
             }
            },
            "type": "scattergeo"
           }
          ],
          "scattergl": [
           {
            "marker": {
             "colorbar": {
              "outlinewidth": 0,
              "ticks": ""
             }
            },
            "type": "scattergl"
           }
          ],
          "scattermapbox": [
           {
            "marker": {
             "colorbar": {
              "outlinewidth": 0,
              "ticks": ""
             }
            },
            "type": "scattermapbox"
           }
          ],
          "scatterpolar": [
           {
            "marker": {
             "colorbar": {
              "outlinewidth": 0,
              "ticks": ""
             }
            },
            "type": "scatterpolar"
           }
          ],
          "scatterpolargl": [
           {
            "marker": {
             "colorbar": {
              "outlinewidth": 0,
              "ticks": ""
             }
            },
            "type": "scatterpolargl"
           }
          ],
          "scatterternary": [
           {
            "marker": {
             "colorbar": {
              "outlinewidth": 0,
              "ticks": ""
             }
            },
            "type": "scatterternary"
           }
          ],
          "surface": [
           {
            "colorbar": {
             "outlinewidth": 0,
             "ticks": ""
            },
            "colorscale": [
             [
              0,
              "#0d0887"
             ],
             [
              0.1111111111111111,
              "#46039f"
             ],
             [
              0.2222222222222222,
              "#7201a8"
             ],
             [
              0.3333333333333333,
              "#9c179e"
             ],
             [
              0.4444444444444444,
              "#bd3786"
             ],
             [
              0.5555555555555556,
              "#d8576b"
             ],
             [
              0.6666666666666666,
              "#ed7953"
             ],
             [
              0.7777777777777778,
              "#fb9f3a"
             ],
             [
              0.8888888888888888,
              "#fdca26"
             ],
             [
              1,
              "#f0f921"
             ]
            ],
            "type": "surface"
           }
          ],
          "table": [
           {
            "cells": {
             "fill": {
              "color": "#EBF0F8"
             },
             "line": {
              "color": "white"
             }
            },
            "header": {
             "fill": {
              "color": "#C8D4E3"
             },
             "line": {
              "color": "white"
             }
            },
            "type": "table"
           }
          ]
         },
         "layout": {
          "annotationdefaults": {
           "arrowcolor": "#2a3f5f",
           "arrowhead": 0,
           "arrowwidth": 1
          },
          "autotypenumbers": "strict",
          "coloraxis": {
           "colorbar": {
            "outlinewidth": 0,
            "ticks": ""
           }
          },
          "colorscale": {
           "diverging": [
            [
             0,
             "#8e0152"
            ],
            [
             0.1,
             "#c51b7d"
            ],
            [
             0.2,
             "#de77ae"
            ],
            [
             0.3,
             "#f1b6da"
            ],
            [
             0.4,
             "#fde0ef"
            ],
            [
             0.5,
             "#f7f7f7"
            ],
            [
             0.6,
             "#e6f5d0"
            ],
            [
             0.7,
             "#b8e186"
            ],
            [
             0.8,
             "#7fbc41"
            ],
            [
             0.9,
             "#4d9221"
            ],
            [
             1,
             "#276419"
            ]
           ],
           "sequential": [
            [
             0,
             "#0d0887"
            ],
            [
             0.1111111111111111,
             "#46039f"
            ],
            [
             0.2222222222222222,
             "#7201a8"
            ],
            [
             0.3333333333333333,
             "#9c179e"
            ],
            [
             0.4444444444444444,
             "#bd3786"
            ],
            [
             0.5555555555555556,
             "#d8576b"
            ],
            [
             0.6666666666666666,
             "#ed7953"
            ],
            [
             0.7777777777777778,
             "#fb9f3a"
            ],
            [
             0.8888888888888888,
             "#fdca26"
            ],
            [
             1,
             "#f0f921"
            ]
           ],
           "sequentialminus": [
            [
             0,
             "#0d0887"
            ],
            [
             0.1111111111111111,
             "#46039f"
            ],
            [
             0.2222222222222222,
             "#7201a8"
            ],
            [
             0.3333333333333333,
             "#9c179e"
            ],
            [
             0.4444444444444444,
             "#bd3786"
            ],
            [
             0.5555555555555556,
             "#d8576b"
            ],
            [
             0.6666666666666666,
             "#ed7953"
            ],
            [
             0.7777777777777778,
             "#fb9f3a"
            ],
            [
             0.8888888888888888,
             "#fdca26"
            ],
            [
             1,
             "#f0f921"
            ]
           ]
          },
          "colorway": [
           "#636efa",
           "#EF553B",
           "#00cc96",
           "#ab63fa",
           "#FFA15A",
           "#19d3f3",
           "#FF6692",
           "#B6E880",
           "#FF97FF",
           "#FECB52"
          ],
          "font": {
           "color": "#2a3f5f"
          },
          "geo": {
           "bgcolor": "white",
           "lakecolor": "white",
           "landcolor": "#E5ECF6",
           "showlakes": true,
           "showland": true,
           "subunitcolor": "white"
          },
          "hoverlabel": {
           "align": "left"
          },
          "hovermode": "closest",
          "mapbox": {
           "style": "light"
          },
          "paper_bgcolor": "white",
          "plot_bgcolor": "#E5ECF6",
          "polar": {
           "angularaxis": {
            "gridcolor": "white",
            "linecolor": "white",
            "ticks": ""
           },
           "bgcolor": "#E5ECF6",
           "radialaxis": {
            "gridcolor": "white",
            "linecolor": "white",
            "ticks": ""
           }
          },
          "scene": {
           "xaxis": {
            "backgroundcolor": "#E5ECF6",
            "gridcolor": "white",
            "gridwidth": 2,
            "linecolor": "white",
            "showbackground": true,
            "ticks": "",
            "zerolinecolor": "white"
           },
           "yaxis": {
            "backgroundcolor": "#E5ECF6",
            "gridcolor": "white",
            "gridwidth": 2,
            "linecolor": "white",
            "showbackground": true,
            "ticks": "",
            "zerolinecolor": "white"
           },
           "zaxis": {
            "backgroundcolor": "#E5ECF6",
            "gridcolor": "white",
            "gridwidth": 2,
            "linecolor": "white",
            "showbackground": true,
            "ticks": "",
            "zerolinecolor": "white"
           }
          },
          "shapedefaults": {
           "line": {
            "color": "#2a3f5f"
           }
          },
          "ternary": {
           "aaxis": {
            "gridcolor": "white",
            "linecolor": "white",
            "ticks": ""
           },
           "baxis": {
            "gridcolor": "white",
            "linecolor": "white",
            "ticks": ""
           },
           "bgcolor": "#E5ECF6",
           "caxis": {
            "gridcolor": "white",
            "linecolor": "white",
            "ticks": ""
           }
          },
          "title": {
           "x": 0.05
          },
          "xaxis": {
           "automargin": true,
           "gridcolor": "white",
           "linecolor": "white",
           "ticks": "",
           "title": {
            "standoff": 15
           },
           "zerolinecolor": "white",
           "zerolinewidth": 2
          },
          "yaxis": {
           "automargin": true,
           "gridcolor": "white",
           "linecolor": "white",
           "ticks": "",
           "title": {
            "standoff": 15
           },
           "zerolinecolor": "white",
           "zerolinewidth": 2
          }
         }
        },
        "title": {
         "font": {
          "color": "#4D5663"
         }
        },
        "xaxis": {
         "gridcolor": "#E1E5ED",
         "showgrid": true,
         "tickfont": {
          "color": "#4D5663"
         },
         "title": {
          "font": {
           "color": "#4D5663"
          },
          "text": ""
         },
         "zerolinecolor": "#E1E5ED"
        },
        "yaxis": {
         "gridcolor": "#E1E5ED",
         "showgrid": true,
         "tickfont": {
          "color": "#4D5663"
         },
         "title": {
          "font": {
           "color": "#4D5663"
          },
          "text": ""
         },
         "zerolinecolor": "#E1E5ED"
        }
       }
      },
      "text/html": [
       "<div>                            <div id=\"2ff874b0-d10d-4c2a-851f-5ffabdb87440\" class=\"plotly-graph-div\" style=\"height:525px; width:100%;\"></div>            <script type=\"text/javascript\">                require([\"plotly\"], function(Plotly) {                    window.PLOTLYENV=window.PLOTLYENV || {};\n",
       "                    window.PLOTLYENV.BASE_URL='https://plot.ly';                                    if (document.getElementById(\"2ff874b0-d10d-4c2a-851f-5ffabdb87440\")) {                    Plotly.newPlot(                        \"2ff874b0-d10d-4c2a-851f-5ffabdb87440\",                        [{\"line\":{\"color\":\"rgba(255, 153, 51, 1.0)\",\"dash\":\"solid\",\"shape\":\"linear\",\"width\":1.3},\"marker\":{\"size\":12,\"symbol\":\"circle\"},\"mode\":\"markers\",\"name\":\"B\",\"text\":\"\",\"x\":[0.8144187353470765,0.06943968861889845,-0.6051177979947289,1.4200079041252598,-0.0947786780060265,0.4353422038499592,-0.867023819630172,0.22712243386141492,-1.5936932223573854,0.9241321743715584,1.0741759091264447,0.2642848602684432,0.23913383143078554,-0.5296200715161591,-0.04891670088749185,2.1634524071419787,0.07959748768622212,-0.07335152100529256,1.5679201630912711,0.053219499966360065,0.4377909275954798,-0.4108738189474997,-0.7190016400390153,0.3089019437067334,-0.26423764468661287,0.36404162684384966,1.8896605987378767,2.1064726673601473,-1.5133649684716444,0.009869769374126338,-2.235250524481225,-0.22337057601326998,0.8561588927857099,0.3856941145134942,-0.28496750706782986,0.048889224040245864,0.025062845777872163,-1.0042775436667823,0.004264310636040312,0.36646690572102514,0.8564286027355924,0.7887314088131345,-1.4777313939744903,-1.3166971416521733,-0.3208680303833144,-1.0198295242273419,0.3050677612939885,-0.8082594772684302,1.0571811122584296,-0.04330549718699945,0.8025279972795675,-1.0721022431178582,-1.72663719878505,0.0339265990132973,1.2082859061825684,2.4056453408913362e-05,0.15433331363831615,-0.16675365867183428,-0.4228428279887474,0.3122211018338927,0.6476593566228214,-0.7539537124490568,0.7782385509153177,-0.7731846360605293,-0.28562378587155934,-1.1657939985705077,-0.862042219934001,1.2110234354162455,0.8899036716432929,0.7919978324104415,-1.3310000935841564,0.7214732267316021,1.816489263931352,-0.7387856010538364,-1.0744705332323945,-0.7179108109427301,-0.297208515362758,-1.5286827136665169,0.6074091759350303,0.33771344384352486,1.259831207812005,0.7635495768552607,0.9597488173525972,1.014646551078339,2.7867484067169075,-2.52971826710298,-1.0213281238237273,0.8211913091724549,-1.0097182596065781,-0.43058400358984134,-1.3431455484801735,0.5474436942796898,0.2188722331836831,0.3741308838429427,0.051190565779324584,-0.15410944771311572,-2.1474278848315973,0.8510314976663124,1.0218206672961965,-1.1703526126312642],\"y\":[1.182835259237497,-0.8975732145797927,0.5220275195709047,0.16526936777424775,0.8221463234629366,0.09561960691624612,0.7154934197202248,-0.7239419506948116,-1.6183004239710814,-0.5805208012812353,-0.2231518507637324,0.5809954447566315,0.7896657634190364,0.09859341287168244,1.01181077086917,1.2801686263217356,0.006802514892934026,0.749579462162761,1.0226976632439386,1.6113010155683734,-1.7506865128832618,0.5026636946768042,-2.4396447316668235,-0.9043217468103396,-0.5452287632889667,-1.6417557829174791,0.28369201260159543,0.05773592079350799,-0.10589216598255646,0.972409774305762,1.121115719140552,0.1888647630515083,1.1899209062449612,-0.5388108014040269,-0.868672535059343,0.9492871720305138,-1.062542675070697,1.7106588413411308,1.1044216631680823,-0.6928660691112118,-0.46731344859800633,-0.30426022660944946,1.2709380589317472,-2.6227128294051414,0.6296655254120602,0.4300620265521417,-0.6480888131663791,-1.438046558452693,-0.402555960745747,-2.29535392221176,-0.11827288604262658,-1.0221151216646072,1.281883419834949,-0.9207405377108133,-1.9270739466753486,0.6676074238160519,0.11366910445242777,-1.1706213115879172,-0.11760123847185962,0.3172164900409643,-0.6643484679944766,-1.512156820047486,-0.8162683653806203,1.5348972081867693,2.0839592977231662,-0.7358936086844449,-1.0497042264481218,0.44282965790962225,-0.3802702424432359,1.5832824629988664,0.2679297436872706,-2.0234957168473806,0.9667018570206107,0.8001169737148024,-0.42758278331913757,-0.9907477622080939,-0.6126108190402878,0.712290384429327,-1.005642475286215,-1.9782557774705911,0.9211827602892596,-1.3697132180465084,-0.8415705327052733,2.7174073081230024,-1.4140618599490045,0.6633224069552077,0.41129032261369175,-0.6480931619950667,-0.13443803548642455,1.0374495373632742,0.5593281556573985,-1.6662162894285633,0.671438208173271,-0.08855620096733283,-0.7706300723442125,-0.12289390281624057,-0.1569283401959346,2.4871475021674456,0.6363121492402903,-0.5900043050544014],\"type\":\"scatter\"}],                        {\"legend\":{\"bgcolor\":\"#F5F6F9\",\"font\":{\"color\":\"#4D5663\"}},\"paper_bgcolor\":\"#F5F6F9\",\"plot_bgcolor\":\"#F5F6F9\",\"template\":{\"data\":{\"barpolar\":[{\"marker\":{\"line\":{\"color\":\"#E5ECF6\",\"width\":0.5},\"pattern\":{\"fillmode\":\"overlay\",\"size\":10,\"solidity\":0.2}},\"type\":\"barpolar\"}],\"bar\":[{\"error_x\":{\"color\":\"#2a3f5f\"},\"error_y\":{\"color\":\"#2a3f5f\"},\"marker\":{\"line\":{\"color\":\"#E5ECF6\",\"width\":0.5},\"pattern\":{\"fillmode\":\"overlay\",\"size\":10,\"solidity\":0.2}},\"type\":\"bar\"}],\"carpet\":[{\"aaxis\":{\"endlinecolor\":\"#2a3f5f\",\"gridcolor\":\"white\",\"linecolor\":\"white\",\"minorgridcolor\":\"white\",\"startlinecolor\":\"#2a3f5f\"},\"baxis\":{\"endlinecolor\":\"#2a3f5f\",\"gridcolor\":\"white\",\"linecolor\":\"white\",\"minorgridcolor\":\"white\",\"startlinecolor\":\"#2a3f5f\"},\"type\":\"carpet\"}],\"choropleth\":[{\"colorbar\":{\"outlinewidth\":0,\"ticks\":\"\"},\"type\":\"choropleth\"}],\"contourcarpet\":[{\"colorbar\":{\"outlinewidth\":0,\"ticks\":\"\"},\"type\":\"contourcarpet\"}],\"contour\":[{\"colorbar\":{\"outlinewidth\":0,\"ticks\":\"\"},\"colorscale\":[[0.0,\"#0d0887\"],[0.1111111111111111,\"#46039f\"],[0.2222222222222222,\"#7201a8\"],[0.3333333333333333,\"#9c179e\"],[0.4444444444444444,\"#bd3786\"],[0.5555555555555556,\"#d8576b\"],[0.6666666666666666,\"#ed7953\"],[0.7777777777777778,\"#fb9f3a\"],[0.8888888888888888,\"#fdca26\"],[1.0,\"#f0f921\"]],\"type\":\"contour\"}],\"heatmapgl\":[{\"colorbar\":{\"outlinewidth\":0,\"ticks\":\"\"},\"colorscale\":[[0.0,\"#0d0887\"],[0.1111111111111111,\"#46039f\"],[0.2222222222222222,\"#7201a8\"],[0.3333333333333333,\"#9c179e\"],[0.4444444444444444,\"#bd3786\"],[0.5555555555555556,\"#d8576b\"],[0.6666666666666666,\"#ed7953\"],[0.7777777777777778,\"#fb9f3a\"],[0.8888888888888888,\"#fdca26\"],[1.0,\"#f0f921\"]],\"type\":\"heatmapgl\"}],\"heatmap\":[{\"colorbar\":{\"outlinewidth\":0,\"ticks\":\"\"},\"colorscale\":[[0.0,\"#0d0887\"],[0.1111111111111111,\"#46039f\"],[0.2222222222222222,\"#7201a8\"],[0.3333333333333333,\"#9c179e\"],[0.4444444444444444,\"#bd3786\"],[0.5555555555555556,\"#d8576b\"],[0.6666666666666666,\"#ed7953\"],[0.7777777777777778,\"#fb9f3a\"],[0.8888888888888888,\"#fdca26\"],[1.0,\"#f0f921\"]],\"type\":\"heatmap\"}],\"histogram2dcontour\":[{\"colorbar\":{\"outlinewidth\":0,\"ticks\":\"\"},\"colorscale\":[[0.0,\"#0d0887\"],[0.1111111111111111,\"#46039f\"],[0.2222222222222222,\"#7201a8\"],[0.3333333333333333,\"#9c179e\"],[0.4444444444444444,\"#bd3786\"],[0.5555555555555556,\"#d8576b\"],[0.6666666666666666,\"#ed7953\"],[0.7777777777777778,\"#fb9f3a\"],[0.8888888888888888,\"#fdca26\"],[1.0,\"#f0f921\"]],\"type\":\"histogram2dcontour\"}],\"histogram2d\":[{\"colorbar\":{\"outlinewidth\":0,\"ticks\":\"\"},\"colorscale\":[[0.0,\"#0d0887\"],[0.1111111111111111,\"#46039f\"],[0.2222222222222222,\"#7201a8\"],[0.3333333333333333,\"#9c179e\"],[0.4444444444444444,\"#bd3786\"],[0.5555555555555556,\"#d8576b\"],[0.6666666666666666,\"#ed7953\"],[0.7777777777777778,\"#fb9f3a\"],[0.8888888888888888,\"#fdca26\"],[1.0,\"#f0f921\"]],\"type\":\"histogram2d\"}],\"histogram\":[{\"marker\":{\"pattern\":{\"fillmode\":\"overlay\",\"size\":10,\"solidity\":0.2}},\"type\":\"histogram\"}],\"mesh3d\":[{\"colorbar\":{\"outlinewidth\":0,\"ticks\":\"\"},\"type\":\"mesh3d\"}],\"parcoords\":[{\"line\":{\"colorbar\":{\"outlinewidth\":0,\"ticks\":\"\"}},\"type\":\"parcoords\"}],\"pie\":[{\"automargin\":true,\"type\":\"pie\"}],\"scatter3d\":[{\"line\":{\"colorbar\":{\"outlinewidth\":0,\"ticks\":\"\"}},\"marker\":{\"colorbar\":{\"outlinewidth\":0,\"ticks\":\"\"}},\"type\":\"scatter3d\"}],\"scattercarpet\":[{\"marker\":{\"colorbar\":{\"outlinewidth\":0,\"ticks\":\"\"}},\"type\":\"scattercarpet\"}],\"scattergeo\":[{\"marker\":{\"colorbar\":{\"outlinewidth\":0,\"ticks\":\"\"}},\"type\":\"scattergeo\"}],\"scattergl\":[{\"marker\":{\"colorbar\":{\"outlinewidth\":0,\"ticks\":\"\"}},\"type\":\"scattergl\"}],\"scattermapbox\":[{\"marker\":{\"colorbar\":{\"outlinewidth\":0,\"ticks\":\"\"}},\"type\":\"scattermapbox\"}],\"scatterpolargl\":[{\"marker\":{\"colorbar\":{\"outlinewidth\":0,\"ticks\":\"\"}},\"type\":\"scatterpolargl\"}],\"scatterpolar\":[{\"marker\":{\"colorbar\":{\"outlinewidth\":0,\"ticks\":\"\"}},\"type\":\"scatterpolar\"}],\"scatter\":[{\"fillpattern\":{\"fillmode\":\"overlay\",\"size\":10,\"solidity\":0.2},\"type\":\"scatter\"}],\"scatterternary\":[{\"marker\":{\"colorbar\":{\"outlinewidth\":0,\"ticks\":\"\"}},\"type\":\"scatterternary\"}],\"surface\":[{\"colorbar\":{\"outlinewidth\":0,\"ticks\":\"\"},\"colorscale\":[[0.0,\"#0d0887\"],[0.1111111111111111,\"#46039f\"],[0.2222222222222222,\"#7201a8\"],[0.3333333333333333,\"#9c179e\"],[0.4444444444444444,\"#bd3786\"],[0.5555555555555556,\"#d8576b\"],[0.6666666666666666,\"#ed7953\"],[0.7777777777777778,\"#fb9f3a\"],[0.8888888888888888,\"#fdca26\"],[1.0,\"#f0f921\"]],\"type\":\"surface\"}],\"table\":[{\"cells\":{\"fill\":{\"color\":\"#EBF0F8\"},\"line\":{\"color\":\"white\"}},\"header\":{\"fill\":{\"color\":\"#C8D4E3\"},\"line\":{\"color\":\"white\"}},\"type\":\"table\"}]},\"layout\":{\"annotationdefaults\":{\"arrowcolor\":\"#2a3f5f\",\"arrowhead\":0,\"arrowwidth\":1},\"autotypenumbers\":\"strict\",\"coloraxis\":{\"colorbar\":{\"outlinewidth\":0,\"ticks\":\"\"}},\"colorscale\":{\"diverging\":[[0,\"#8e0152\"],[0.1,\"#c51b7d\"],[0.2,\"#de77ae\"],[0.3,\"#f1b6da\"],[0.4,\"#fde0ef\"],[0.5,\"#f7f7f7\"],[0.6,\"#e6f5d0\"],[0.7,\"#b8e186\"],[0.8,\"#7fbc41\"],[0.9,\"#4d9221\"],[1,\"#276419\"]],\"sequential\":[[0.0,\"#0d0887\"],[0.1111111111111111,\"#46039f\"],[0.2222222222222222,\"#7201a8\"],[0.3333333333333333,\"#9c179e\"],[0.4444444444444444,\"#bd3786\"],[0.5555555555555556,\"#d8576b\"],[0.6666666666666666,\"#ed7953\"],[0.7777777777777778,\"#fb9f3a\"],[0.8888888888888888,\"#fdca26\"],[1.0,\"#f0f921\"]],\"sequentialminus\":[[0.0,\"#0d0887\"],[0.1111111111111111,\"#46039f\"],[0.2222222222222222,\"#7201a8\"],[0.3333333333333333,\"#9c179e\"],[0.4444444444444444,\"#bd3786\"],[0.5555555555555556,\"#d8576b\"],[0.6666666666666666,\"#ed7953\"],[0.7777777777777778,\"#fb9f3a\"],[0.8888888888888888,\"#fdca26\"],[1.0,\"#f0f921\"]]},\"colorway\":[\"#636efa\",\"#EF553B\",\"#00cc96\",\"#ab63fa\",\"#FFA15A\",\"#19d3f3\",\"#FF6692\",\"#B6E880\",\"#FF97FF\",\"#FECB52\"],\"font\":{\"color\":\"#2a3f5f\"},\"geo\":{\"bgcolor\":\"white\",\"lakecolor\":\"white\",\"landcolor\":\"#E5ECF6\",\"showlakes\":true,\"showland\":true,\"subunitcolor\":\"white\"},\"hoverlabel\":{\"align\":\"left\"},\"hovermode\":\"closest\",\"mapbox\":{\"style\":\"light\"},\"paper_bgcolor\":\"white\",\"plot_bgcolor\":\"#E5ECF6\",\"polar\":{\"angularaxis\":{\"gridcolor\":\"white\",\"linecolor\":\"white\",\"ticks\":\"\"},\"bgcolor\":\"#E5ECF6\",\"radialaxis\":{\"gridcolor\":\"white\",\"linecolor\":\"white\",\"ticks\":\"\"}},\"scene\":{\"xaxis\":{\"backgroundcolor\":\"#E5ECF6\",\"gridcolor\":\"white\",\"gridwidth\":2,\"linecolor\":\"white\",\"showbackground\":true,\"ticks\":\"\",\"zerolinecolor\":\"white\"},\"yaxis\":{\"backgroundcolor\":\"#E5ECF6\",\"gridcolor\":\"white\",\"gridwidth\":2,\"linecolor\":\"white\",\"showbackground\":true,\"ticks\":\"\",\"zerolinecolor\":\"white\"},\"zaxis\":{\"backgroundcolor\":\"#E5ECF6\",\"gridcolor\":\"white\",\"gridwidth\":2,\"linecolor\":\"white\",\"showbackground\":true,\"ticks\":\"\",\"zerolinecolor\":\"white\"}},\"shapedefaults\":{\"line\":{\"color\":\"#2a3f5f\"}},\"ternary\":{\"aaxis\":{\"gridcolor\":\"white\",\"linecolor\":\"white\",\"ticks\":\"\"},\"baxis\":{\"gridcolor\":\"white\",\"linecolor\":\"white\",\"ticks\":\"\"},\"bgcolor\":\"#E5ECF6\",\"caxis\":{\"gridcolor\":\"white\",\"linecolor\":\"white\",\"ticks\":\"\"}},\"title\":{\"x\":0.05},\"xaxis\":{\"automargin\":true,\"gridcolor\":\"white\",\"linecolor\":\"white\",\"ticks\":\"\",\"title\":{\"standoff\":15},\"zerolinecolor\":\"white\",\"zerolinewidth\":2},\"yaxis\":{\"automargin\":true,\"gridcolor\":\"white\",\"linecolor\":\"white\",\"ticks\":\"\",\"title\":{\"standoff\":15},\"zerolinecolor\":\"white\",\"zerolinewidth\":2}}},\"title\":{\"font\":{\"color\":\"#4D5663\"}},\"xaxis\":{\"gridcolor\":\"#E1E5ED\",\"showgrid\":true,\"tickfont\":{\"color\":\"#4D5663\"},\"title\":{\"font\":{\"color\":\"#4D5663\"},\"text\":\"\"},\"zerolinecolor\":\"#E1E5ED\"},\"yaxis\":{\"gridcolor\":\"#E1E5ED\",\"showgrid\":true,\"tickfont\":{\"color\":\"#4D5663\"},\"title\":{\"font\":{\"color\":\"#4D5663\"},\"text\":\"\"},\"zerolinecolor\":\"#E1E5ED\"}},                        {\"showLink\": true, \"linkText\": \"Export to plot.ly\", \"plotlyServerURL\": \"https://plot.ly\", \"responsive\": true}                    ).then(function(){\n",
       "                            \n",
       "var gd = document.getElementById('2ff874b0-d10d-4c2a-851f-5ffabdb87440');\n",
       "var x = new MutationObserver(function (mutations, observer) {{\n",
       "        var display = window.getComputedStyle(gd).display;\n",
       "        if (!display || display === 'none') {{\n",
       "            console.log([gd, 'removed!']);\n",
       "            Plotly.purge(gd);\n",
       "            observer.disconnect();\n",
       "        }}\n",
       "}});\n",
       "\n",
       "// Listen for the removal of the full notebook cells\n",
       "var notebookContainer = gd.closest('#notebook-container');\n",
       "if (notebookContainer) {{\n",
       "    x.observe(notebookContainer, {childList: true});\n",
       "}}\n",
       "\n",
       "// Listen for the clearing of the current output cell\n",
       "var outputEl = gd.closest('.output');\n",
       "if (outputEl) {{\n",
       "    x.observe(outputEl, {childList: true});\n",
       "}}\n",
       "\n",
       "                        })                };                });            </script>        </div>"
      ]
     },
     "metadata": {},
     "output_type": "display_data"
    }
   ],
   "source": [
    "df.iplot(kind='scatter',x='A',y='B',mode='markers') #scatter plot"
   ]
  },
  {
   "cell_type": "code",
   "execution_count": 16,
   "id": "5e4e64e6",
   "metadata": {},
   "outputs": [
    {
     "data": {
      "application/vnd.plotly.v1+json": {
       "config": {
        "linkText": "Export to plot.ly",
        "plotlyServerURL": "https://plot.ly",
        "showLink": true
       },
       "data": [
        {
         "marker": {
          "color": "rgba(255, 153, 51, 0.6)",
          "line": {
           "color": "rgba(255, 153, 51, 1.0)",
           "width": 1
          }
         },
         "name": "Values",
         "orientation": "v",
         "text": "",
         "type": "bar",
         "x": [
          "A",
          "B",
          "C"
         ],
         "y": [
          32,
          43,
          50
         ]
        }
       ],
       "layout": {
        "legend": {
         "bgcolor": "#F5F6F9",
         "font": {
          "color": "#4D5663"
         }
        },
        "paper_bgcolor": "#F5F6F9",
        "plot_bgcolor": "#F5F6F9",
        "template": {
         "data": {
          "bar": [
           {
            "error_x": {
             "color": "#2a3f5f"
            },
            "error_y": {
             "color": "#2a3f5f"
            },
            "marker": {
             "line": {
              "color": "#E5ECF6",
              "width": 0.5
             },
             "pattern": {
              "fillmode": "overlay",
              "size": 10,
              "solidity": 0.2
             }
            },
            "type": "bar"
           }
          ],
          "barpolar": [
           {
            "marker": {
             "line": {
              "color": "#E5ECF6",
              "width": 0.5
             },
             "pattern": {
              "fillmode": "overlay",
              "size": 10,
              "solidity": 0.2
             }
            },
            "type": "barpolar"
           }
          ],
          "carpet": [
           {
            "aaxis": {
             "endlinecolor": "#2a3f5f",
             "gridcolor": "white",
             "linecolor": "white",
             "minorgridcolor": "white",
             "startlinecolor": "#2a3f5f"
            },
            "baxis": {
             "endlinecolor": "#2a3f5f",
             "gridcolor": "white",
             "linecolor": "white",
             "minorgridcolor": "white",
             "startlinecolor": "#2a3f5f"
            },
            "type": "carpet"
           }
          ],
          "choropleth": [
           {
            "colorbar": {
             "outlinewidth": 0,
             "ticks": ""
            },
            "type": "choropleth"
           }
          ],
          "contour": [
           {
            "colorbar": {
             "outlinewidth": 0,
             "ticks": ""
            },
            "colorscale": [
             [
              0,
              "#0d0887"
             ],
             [
              0.1111111111111111,
              "#46039f"
             ],
             [
              0.2222222222222222,
              "#7201a8"
             ],
             [
              0.3333333333333333,
              "#9c179e"
             ],
             [
              0.4444444444444444,
              "#bd3786"
             ],
             [
              0.5555555555555556,
              "#d8576b"
             ],
             [
              0.6666666666666666,
              "#ed7953"
             ],
             [
              0.7777777777777778,
              "#fb9f3a"
             ],
             [
              0.8888888888888888,
              "#fdca26"
             ],
             [
              1,
              "#f0f921"
             ]
            ],
            "type": "contour"
           }
          ],
          "contourcarpet": [
           {
            "colorbar": {
             "outlinewidth": 0,
             "ticks": ""
            },
            "type": "contourcarpet"
           }
          ],
          "heatmap": [
           {
            "colorbar": {
             "outlinewidth": 0,
             "ticks": ""
            },
            "colorscale": [
             [
              0,
              "#0d0887"
             ],
             [
              0.1111111111111111,
              "#46039f"
             ],
             [
              0.2222222222222222,
              "#7201a8"
             ],
             [
              0.3333333333333333,
              "#9c179e"
             ],
             [
              0.4444444444444444,
              "#bd3786"
             ],
             [
              0.5555555555555556,
              "#d8576b"
             ],
             [
              0.6666666666666666,
              "#ed7953"
             ],
             [
              0.7777777777777778,
              "#fb9f3a"
             ],
             [
              0.8888888888888888,
              "#fdca26"
             ],
             [
              1,
              "#f0f921"
             ]
            ],
            "type": "heatmap"
           }
          ],
          "heatmapgl": [
           {
            "colorbar": {
             "outlinewidth": 0,
             "ticks": ""
            },
            "colorscale": [
             [
              0,
              "#0d0887"
             ],
             [
              0.1111111111111111,
              "#46039f"
             ],
             [
              0.2222222222222222,
              "#7201a8"
             ],
             [
              0.3333333333333333,
              "#9c179e"
             ],
             [
              0.4444444444444444,
              "#bd3786"
             ],
             [
              0.5555555555555556,
              "#d8576b"
             ],
             [
              0.6666666666666666,
              "#ed7953"
             ],
             [
              0.7777777777777778,
              "#fb9f3a"
             ],
             [
              0.8888888888888888,
              "#fdca26"
             ],
             [
              1,
              "#f0f921"
             ]
            ],
            "type": "heatmapgl"
           }
          ],
          "histogram": [
           {
            "marker": {
             "pattern": {
              "fillmode": "overlay",
              "size": 10,
              "solidity": 0.2
             }
            },
            "type": "histogram"
           }
          ],
          "histogram2d": [
           {
            "colorbar": {
             "outlinewidth": 0,
             "ticks": ""
            },
            "colorscale": [
             [
              0,
              "#0d0887"
             ],
             [
              0.1111111111111111,
              "#46039f"
             ],
             [
              0.2222222222222222,
              "#7201a8"
             ],
             [
              0.3333333333333333,
              "#9c179e"
             ],
             [
              0.4444444444444444,
              "#bd3786"
             ],
             [
              0.5555555555555556,
              "#d8576b"
             ],
             [
              0.6666666666666666,
              "#ed7953"
             ],
             [
              0.7777777777777778,
              "#fb9f3a"
             ],
             [
              0.8888888888888888,
              "#fdca26"
             ],
             [
              1,
              "#f0f921"
             ]
            ],
            "type": "histogram2d"
           }
          ],
          "histogram2dcontour": [
           {
            "colorbar": {
             "outlinewidth": 0,
             "ticks": ""
            },
            "colorscale": [
             [
              0,
              "#0d0887"
             ],
             [
              0.1111111111111111,
              "#46039f"
             ],
             [
              0.2222222222222222,
              "#7201a8"
             ],
             [
              0.3333333333333333,
              "#9c179e"
             ],
             [
              0.4444444444444444,
              "#bd3786"
             ],
             [
              0.5555555555555556,
              "#d8576b"
             ],
             [
              0.6666666666666666,
              "#ed7953"
             ],
             [
              0.7777777777777778,
              "#fb9f3a"
             ],
             [
              0.8888888888888888,
              "#fdca26"
             ],
             [
              1,
              "#f0f921"
             ]
            ],
            "type": "histogram2dcontour"
           }
          ],
          "mesh3d": [
           {
            "colorbar": {
             "outlinewidth": 0,
             "ticks": ""
            },
            "type": "mesh3d"
           }
          ],
          "parcoords": [
           {
            "line": {
             "colorbar": {
              "outlinewidth": 0,
              "ticks": ""
             }
            },
            "type": "parcoords"
           }
          ],
          "pie": [
           {
            "automargin": true,
            "type": "pie"
           }
          ],
          "scatter": [
           {
            "fillpattern": {
             "fillmode": "overlay",
             "size": 10,
             "solidity": 0.2
            },
            "type": "scatter"
           }
          ],
          "scatter3d": [
           {
            "line": {
             "colorbar": {
              "outlinewidth": 0,
              "ticks": ""
             }
            },
            "marker": {
             "colorbar": {
              "outlinewidth": 0,
              "ticks": ""
             }
            },
            "type": "scatter3d"
           }
          ],
          "scattercarpet": [
           {
            "marker": {
             "colorbar": {
              "outlinewidth": 0,
              "ticks": ""
             }
            },
            "type": "scattercarpet"
           }
          ],
          "scattergeo": [
           {
            "marker": {
             "colorbar": {
              "outlinewidth": 0,
              "ticks": ""
             }
            },
            "type": "scattergeo"
           }
          ],
          "scattergl": [
           {
            "marker": {
             "colorbar": {
              "outlinewidth": 0,
              "ticks": ""
             }
            },
            "type": "scattergl"
           }
          ],
          "scattermapbox": [
           {
            "marker": {
             "colorbar": {
              "outlinewidth": 0,
              "ticks": ""
             }
            },
            "type": "scattermapbox"
           }
          ],
          "scatterpolar": [
           {
            "marker": {
             "colorbar": {
              "outlinewidth": 0,
              "ticks": ""
             }
            },
            "type": "scatterpolar"
           }
          ],
          "scatterpolargl": [
           {
            "marker": {
             "colorbar": {
              "outlinewidth": 0,
              "ticks": ""
             }
            },
            "type": "scatterpolargl"
           }
          ],
          "scatterternary": [
           {
            "marker": {
             "colorbar": {
              "outlinewidth": 0,
              "ticks": ""
             }
            },
            "type": "scatterternary"
           }
          ],
          "surface": [
           {
            "colorbar": {
             "outlinewidth": 0,
             "ticks": ""
            },
            "colorscale": [
             [
              0,
              "#0d0887"
             ],
             [
              0.1111111111111111,
              "#46039f"
             ],
             [
              0.2222222222222222,
              "#7201a8"
             ],
             [
              0.3333333333333333,
              "#9c179e"
             ],
             [
              0.4444444444444444,
              "#bd3786"
             ],
             [
              0.5555555555555556,
              "#d8576b"
             ],
             [
              0.6666666666666666,
              "#ed7953"
             ],
             [
              0.7777777777777778,
              "#fb9f3a"
             ],
             [
              0.8888888888888888,
              "#fdca26"
             ],
             [
              1,
              "#f0f921"
             ]
            ],
            "type": "surface"
           }
          ],
          "table": [
           {
            "cells": {
             "fill": {
              "color": "#EBF0F8"
             },
             "line": {
              "color": "white"
             }
            },
            "header": {
             "fill": {
              "color": "#C8D4E3"
             },
             "line": {
              "color": "white"
             }
            },
            "type": "table"
           }
          ]
         },
         "layout": {
          "annotationdefaults": {
           "arrowcolor": "#2a3f5f",
           "arrowhead": 0,
           "arrowwidth": 1
          },
          "autotypenumbers": "strict",
          "coloraxis": {
           "colorbar": {
            "outlinewidth": 0,
            "ticks": ""
           }
          },
          "colorscale": {
           "diverging": [
            [
             0,
             "#8e0152"
            ],
            [
             0.1,
             "#c51b7d"
            ],
            [
             0.2,
             "#de77ae"
            ],
            [
             0.3,
             "#f1b6da"
            ],
            [
             0.4,
             "#fde0ef"
            ],
            [
             0.5,
             "#f7f7f7"
            ],
            [
             0.6,
             "#e6f5d0"
            ],
            [
             0.7,
             "#b8e186"
            ],
            [
             0.8,
             "#7fbc41"
            ],
            [
             0.9,
             "#4d9221"
            ],
            [
             1,
             "#276419"
            ]
           ],
           "sequential": [
            [
             0,
             "#0d0887"
            ],
            [
             0.1111111111111111,
             "#46039f"
            ],
            [
             0.2222222222222222,
             "#7201a8"
            ],
            [
             0.3333333333333333,
             "#9c179e"
            ],
            [
             0.4444444444444444,
             "#bd3786"
            ],
            [
             0.5555555555555556,
             "#d8576b"
            ],
            [
             0.6666666666666666,
             "#ed7953"
            ],
            [
             0.7777777777777778,
             "#fb9f3a"
            ],
            [
             0.8888888888888888,
             "#fdca26"
            ],
            [
             1,
             "#f0f921"
            ]
           ],
           "sequentialminus": [
            [
             0,
             "#0d0887"
            ],
            [
             0.1111111111111111,
             "#46039f"
            ],
            [
             0.2222222222222222,
             "#7201a8"
            ],
            [
             0.3333333333333333,
             "#9c179e"
            ],
            [
             0.4444444444444444,
             "#bd3786"
            ],
            [
             0.5555555555555556,
             "#d8576b"
            ],
            [
             0.6666666666666666,
             "#ed7953"
            ],
            [
             0.7777777777777778,
             "#fb9f3a"
            ],
            [
             0.8888888888888888,
             "#fdca26"
            ],
            [
             1,
             "#f0f921"
            ]
           ]
          },
          "colorway": [
           "#636efa",
           "#EF553B",
           "#00cc96",
           "#ab63fa",
           "#FFA15A",
           "#19d3f3",
           "#FF6692",
           "#B6E880",
           "#FF97FF",
           "#FECB52"
          ],
          "font": {
           "color": "#2a3f5f"
          },
          "geo": {
           "bgcolor": "white",
           "lakecolor": "white",
           "landcolor": "#E5ECF6",
           "showlakes": true,
           "showland": true,
           "subunitcolor": "white"
          },
          "hoverlabel": {
           "align": "left"
          },
          "hovermode": "closest",
          "mapbox": {
           "style": "light"
          },
          "paper_bgcolor": "white",
          "plot_bgcolor": "#E5ECF6",
          "polar": {
           "angularaxis": {
            "gridcolor": "white",
            "linecolor": "white",
            "ticks": ""
           },
           "bgcolor": "#E5ECF6",
           "radialaxis": {
            "gridcolor": "white",
            "linecolor": "white",
            "ticks": ""
           }
          },
          "scene": {
           "xaxis": {
            "backgroundcolor": "#E5ECF6",
            "gridcolor": "white",
            "gridwidth": 2,
            "linecolor": "white",
            "showbackground": true,
            "ticks": "",
            "zerolinecolor": "white"
           },
           "yaxis": {
            "backgroundcolor": "#E5ECF6",
            "gridcolor": "white",
            "gridwidth": 2,
            "linecolor": "white",
            "showbackground": true,
            "ticks": "",
            "zerolinecolor": "white"
           },
           "zaxis": {
            "backgroundcolor": "#E5ECF6",
            "gridcolor": "white",
            "gridwidth": 2,
            "linecolor": "white",
            "showbackground": true,
            "ticks": "",
            "zerolinecolor": "white"
           }
          },
          "shapedefaults": {
           "line": {
            "color": "#2a3f5f"
           }
          },
          "ternary": {
           "aaxis": {
            "gridcolor": "white",
            "linecolor": "white",
            "ticks": ""
           },
           "baxis": {
            "gridcolor": "white",
            "linecolor": "white",
            "ticks": ""
           },
           "bgcolor": "#E5ECF6",
           "caxis": {
            "gridcolor": "white",
            "linecolor": "white",
            "ticks": ""
           }
          },
          "title": {
           "x": 0.05
          },
          "xaxis": {
           "automargin": true,
           "gridcolor": "white",
           "linecolor": "white",
           "ticks": "",
           "title": {
            "standoff": 15
           },
           "zerolinecolor": "white",
           "zerolinewidth": 2
          },
          "yaxis": {
           "automargin": true,
           "gridcolor": "white",
           "linecolor": "white",
           "ticks": "",
           "title": {
            "standoff": 15
           },
           "zerolinecolor": "white",
           "zerolinewidth": 2
          }
         }
        },
        "title": {
         "font": {
          "color": "#4D5663"
         }
        },
        "xaxis": {
         "gridcolor": "#E1E5ED",
         "showgrid": true,
         "tickfont": {
          "color": "#4D5663"
         },
         "title": {
          "font": {
           "color": "#4D5663"
          },
          "text": ""
         },
         "zerolinecolor": "#E1E5ED"
        },
        "yaxis": {
         "gridcolor": "#E1E5ED",
         "showgrid": true,
         "tickfont": {
          "color": "#4D5663"
         },
         "title": {
          "font": {
           "color": "#4D5663"
          },
          "text": ""
         },
         "zerolinecolor": "#E1E5ED"
        }
       }
      },
      "text/html": [
       "<div>                            <div id=\"6f274ad0-4913-496e-b9bb-b95dee592b81\" class=\"plotly-graph-div\" style=\"height:525px; width:100%;\"></div>            <script type=\"text/javascript\">                require([\"plotly\"], function(Plotly) {                    window.PLOTLYENV=window.PLOTLYENV || {};\n",
       "                    window.PLOTLYENV.BASE_URL='https://plot.ly';                                    if (document.getElementById(\"6f274ad0-4913-496e-b9bb-b95dee592b81\")) {                    Plotly.newPlot(                        \"6f274ad0-4913-496e-b9bb-b95dee592b81\",                        [{\"marker\":{\"color\":\"rgba(255, 153, 51, 0.6)\",\"line\":{\"color\":\"rgba(255, 153, 51, 1.0)\",\"width\":1}},\"name\":\"Values\",\"orientation\":\"v\",\"text\":\"\",\"x\":[\"A\",\"B\",\"C\"],\"y\":[32,43,50],\"type\":\"bar\"}],                        {\"legend\":{\"bgcolor\":\"#F5F6F9\",\"font\":{\"color\":\"#4D5663\"}},\"paper_bgcolor\":\"#F5F6F9\",\"plot_bgcolor\":\"#F5F6F9\",\"template\":{\"data\":{\"barpolar\":[{\"marker\":{\"line\":{\"color\":\"#E5ECF6\",\"width\":0.5},\"pattern\":{\"fillmode\":\"overlay\",\"size\":10,\"solidity\":0.2}},\"type\":\"barpolar\"}],\"bar\":[{\"error_x\":{\"color\":\"#2a3f5f\"},\"error_y\":{\"color\":\"#2a3f5f\"},\"marker\":{\"line\":{\"color\":\"#E5ECF6\",\"width\":0.5},\"pattern\":{\"fillmode\":\"overlay\",\"size\":10,\"solidity\":0.2}},\"type\":\"bar\"}],\"carpet\":[{\"aaxis\":{\"endlinecolor\":\"#2a3f5f\",\"gridcolor\":\"white\",\"linecolor\":\"white\",\"minorgridcolor\":\"white\",\"startlinecolor\":\"#2a3f5f\"},\"baxis\":{\"endlinecolor\":\"#2a3f5f\",\"gridcolor\":\"white\",\"linecolor\":\"white\",\"minorgridcolor\":\"white\",\"startlinecolor\":\"#2a3f5f\"},\"type\":\"carpet\"}],\"choropleth\":[{\"colorbar\":{\"outlinewidth\":0,\"ticks\":\"\"},\"type\":\"choropleth\"}],\"contourcarpet\":[{\"colorbar\":{\"outlinewidth\":0,\"ticks\":\"\"},\"type\":\"contourcarpet\"}],\"contour\":[{\"colorbar\":{\"outlinewidth\":0,\"ticks\":\"\"},\"colorscale\":[[0.0,\"#0d0887\"],[0.1111111111111111,\"#46039f\"],[0.2222222222222222,\"#7201a8\"],[0.3333333333333333,\"#9c179e\"],[0.4444444444444444,\"#bd3786\"],[0.5555555555555556,\"#d8576b\"],[0.6666666666666666,\"#ed7953\"],[0.7777777777777778,\"#fb9f3a\"],[0.8888888888888888,\"#fdca26\"],[1.0,\"#f0f921\"]],\"type\":\"contour\"}],\"heatmapgl\":[{\"colorbar\":{\"outlinewidth\":0,\"ticks\":\"\"},\"colorscale\":[[0.0,\"#0d0887\"],[0.1111111111111111,\"#46039f\"],[0.2222222222222222,\"#7201a8\"],[0.3333333333333333,\"#9c179e\"],[0.4444444444444444,\"#bd3786\"],[0.5555555555555556,\"#d8576b\"],[0.6666666666666666,\"#ed7953\"],[0.7777777777777778,\"#fb9f3a\"],[0.8888888888888888,\"#fdca26\"],[1.0,\"#f0f921\"]],\"type\":\"heatmapgl\"}],\"heatmap\":[{\"colorbar\":{\"outlinewidth\":0,\"ticks\":\"\"},\"colorscale\":[[0.0,\"#0d0887\"],[0.1111111111111111,\"#46039f\"],[0.2222222222222222,\"#7201a8\"],[0.3333333333333333,\"#9c179e\"],[0.4444444444444444,\"#bd3786\"],[0.5555555555555556,\"#d8576b\"],[0.6666666666666666,\"#ed7953\"],[0.7777777777777778,\"#fb9f3a\"],[0.8888888888888888,\"#fdca26\"],[1.0,\"#f0f921\"]],\"type\":\"heatmap\"}],\"histogram2dcontour\":[{\"colorbar\":{\"outlinewidth\":0,\"ticks\":\"\"},\"colorscale\":[[0.0,\"#0d0887\"],[0.1111111111111111,\"#46039f\"],[0.2222222222222222,\"#7201a8\"],[0.3333333333333333,\"#9c179e\"],[0.4444444444444444,\"#bd3786\"],[0.5555555555555556,\"#d8576b\"],[0.6666666666666666,\"#ed7953\"],[0.7777777777777778,\"#fb9f3a\"],[0.8888888888888888,\"#fdca26\"],[1.0,\"#f0f921\"]],\"type\":\"histogram2dcontour\"}],\"histogram2d\":[{\"colorbar\":{\"outlinewidth\":0,\"ticks\":\"\"},\"colorscale\":[[0.0,\"#0d0887\"],[0.1111111111111111,\"#46039f\"],[0.2222222222222222,\"#7201a8\"],[0.3333333333333333,\"#9c179e\"],[0.4444444444444444,\"#bd3786\"],[0.5555555555555556,\"#d8576b\"],[0.6666666666666666,\"#ed7953\"],[0.7777777777777778,\"#fb9f3a\"],[0.8888888888888888,\"#fdca26\"],[1.0,\"#f0f921\"]],\"type\":\"histogram2d\"}],\"histogram\":[{\"marker\":{\"pattern\":{\"fillmode\":\"overlay\",\"size\":10,\"solidity\":0.2}},\"type\":\"histogram\"}],\"mesh3d\":[{\"colorbar\":{\"outlinewidth\":0,\"ticks\":\"\"},\"type\":\"mesh3d\"}],\"parcoords\":[{\"line\":{\"colorbar\":{\"outlinewidth\":0,\"ticks\":\"\"}},\"type\":\"parcoords\"}],\"pie\":[{\"automargin\":true,\"type\":\"pie\"}],\"scatter3d\":[{\"line\":{\"colorbar\":{\"outlinewidth\":0,\"ticks\":\"\"}},\"marker\":{\"colorbar\":{\"outlinewidth\":0,\"ticks\":\"\"}},\"type\":\"scatter3d\"}],\"scattercarpet\":[{\"marker\":{\"colorbar\":{\"outlinewidth\":0,\"ticks\":\"\"}},\"type\":\"scattercarpet\"}],\"scattergeo\":[{\"marker\":{\"colorbar\":{\"outlinewidth\":0,\"ticks\":\"\"}},\"type\":\"scattergeo\"}],\"scattergl\":[{\"marker\":{\"colorbar\":{\"outlinewidth\":0,\"ticks\":\"\"}},\"type\":\"scattergl\"}],\"scattermapbox\":[{\"marker\":{\"colorbar\":{\"outlinewidth\":0,\"ticks\":\"\"}},\"type\":\"scattermapbox\"}],\"scatterpolargl\":[{\"marker\":{\"colorbar\":{\"outlinewidth\":0,\"ticks\":\"\"}},\"type\":\"scatterpolargl\"}],\"scatterpolar\":[{\"marker\":{\"colorbar\":{\"outlinewidth\":0,\"ticks\":\"\"}},\"type\":\"scatterpolar\"}],\"scatter\":[{\"fillpattern\":{\"fillmode\":\"overlay\",\"size\":10,\"solidity\":0.2},\"type\":\"scatter\"}],\"scatterternary\":[{\"marker\":{\"colorbar\":{\"outlinewidth\":0,\"ticks\":\"\"}},\"type\":\"scatterternary\"}],\"surface\":[{\"colorbar\":{\"outlinewidth\":0,\"ticks\":\"\"},\"colorscale\":[[0.0,\"#0d0887\"],[0.1111111111111111,\"#46039f\"],[0.2222222222222222,\"#7201a8\"],[0.3333333333333333,\"#9c179e\"],[0.4444444444444444,\"#bd3786\"],[0.5555555555555556,\"#d8576b\"],[0.6666666666666666,\"#ed7953\"],[0.7777777777777778,\"#fb9f3a\"],[0.8888888888888888,\"#fdca26\"],[1.0,\"#f0f921\"]],\"type\":\"surface\"}],\"table\":[{\"cells\":{\"fill\":{\"color\":\"#EBF0F8\"},\"line\":{\"color\":\"white\"}},\"header\":{\"fill\":{\"color\":\"#C8D4E3\"},\"line\":{\"color\":\"white\"}},\"type\":\"table\"}]},\"layout\":{\"annotationdefaults\":{\"arrowcolor\":\"#2a3f5f\",\"arrowhead\":0,\"arrowwidth\":1},\"autotypenumbers\":\"strict\",\"coloraxis\":{\"colorbar\":{\"outlinewidth\":0,\"ticks\":\"\"}},\"colorscale\":{\"diverging\":[[0,\"#8e0152\"],[0.1,\"#c51b7d\"],[0.2,\"#de77ae\"],[0.3,\"#f1b6da\"],[0.4,\"#fde0ef\"],[0.5,\"#f7f7f7\"],[0.6,\"#e6f5d0\"],[0.7,\"#b8e186\"],[0.8,\"#7fbc41\"],[0.9,\"#4d9221\"],[1,\"#276419\"]],\"sequential\":[[0.0,\"#0d0887\"],[0.1111111111111111,\"#46039f\"],[0.2222222222222222,\"#7201a8\"],[0.3333333333333333,\"#9c179e\"],[0.4444444444444444,\"#bd3786\"],[0.5555555555555556,\"#d8576b\"],[0.6666666666666666,\"#ed7953\"],[0.7777777777777778,\"#fb9f3a\"],[0.8888888888888888,\"#fdca26\"],[1.0,\"#f0f921\"]],\"sequentialminus\":[[0.0,\"#0d0887\"],[0.1111111111111111,\"#46039f\"],[0.2222222222222222,\"#7201a8\"],[0.3333333333333333,\"#9c179e\"],[0.4444444444444444,\"#bd3786\"],[0.5555555555555556,\"#d8576b\"],[0.6666666666666666,\"#ed7953\"],[0.7777777777777778,\"#fb9f3a\"],[0.8888888888888888,\"#fdca26\"],[1.0,\"#f0f921\"]]},\"colorway\":[\"#636efa\",\"#EF553B\",\"#00cc96\",\"#ab63fa\",\"#FFA15A\",\"#19d3f3\",\"#FF6692\",\"#B6E880\",\"#FF97FF\",\"#FECB52\"],\"font\":{\"color\":\"#2a3f5f\"},\"geo\":{\"bgcolor\":\"white\",\"lakecolor\":\"white\",\"landcolor\":\"#E5ECF6\",\"showlakes\":true,\"showland\":true,\"subunitcolor\":\"white\"},\"hoverlabel\":{\"align\":\"left\"},\"hovermode\":\"closest\",\"mapbox\":{\"style\":\"light\"},\"paper_bgcolor\":\"white\",\"plot_bgcolor\":\"#E5ECF6\",\"polar\":{\"angularaxis\":{\"gridcolor\":\"white\",\"linecolor\":\"white\",\"ticks\":\"\"},\"bgcolor\":\"#E5ECF6\",\"radialaxis\":{\"gridcolor\":\"white\",\"linecolor\":\"white\",\"ticks\":\"\"}},\"scene\":{\"xaxis\":{\"backgroundcolor\":\"#E5ECF6\",\"gridcolor\":\"white\",\"gridwidth\":2,\"linecolor\":\"white\",\"showbackground\":true,\"ticks\":\"\",\"zerolinecolor\":\"white\"},\"yaxis\":{\"backgroundcolor\":\"#E5ECF6\",\"gridcolor\":\"white\",\"gridwidth\":2,\"linecolor\":\"white\",\"showbackground\":true,\"ticks\":\"\",\"zerolinecolor\":\"white\"},\"zaxis\":{\"backgroundcolor\":\"#E5ECF6\",\"gridcolor\":\"white\",\"gridwidth\":2,\"linecolor\":\"white\",\"showbackground\":true,\"ticks\":\"\",\"zerolinecolor\":\"white\"}},\"shapedefaults\":{\"line\":{\"color\":\"#2a3f5f\"}},\"ternary\":{\"aaxis\":{\"gridcolor\":\"white\",\"linecolor\":\"white\",\"ticks\":\"\"},\"baxis\":{\"gridcolor\":\"white\",\"linecolor\":\"white\",\"ticks\":\"\"},\"bgcolor\":\"#E5ECF6\",\"caxis\":{\"gridcolor\":\"white\",\"linecolor\":\"white\",\"ticks\":\"\"}},\"title\":{\"x\":0.05},\"xaxis\":{\"automargin\":true,\"gridcolor\":\"white\",\"linecolor\":\"white\",\"ticks\":\"\",\"title\":{\"standoff\":15},\"zerolinecolor\":\"white\",\"zerolinewidth\":2},\"yaxis\":{\"automargin\":true,\"gridcolor\":\"white\",\"linecolor\":\"white\",\"ticks\":\"\",\"title\":{\"standoff\":15},\"zerolinecolor\":\"white\",\"zerolinewidth\":2}}},\"title\":{\"font\":{\"color\":\"#4D5663\"}},\"xaxis\":{\"gridcolor\":\"#E1E5ED\",\"showgrid\":true,\"tickfont\":{\"color\":\"#4D5663\"},\"title\":{\"font\":{\"color\":\"#4D5663\"},\"text\":\"\"},\"zerolinecolor\":\"#E1E5ED\"},\"yaxis\":{\"gridcolor\":\"#E1E5ED\",\"showgrid\":true,\"tickfont\":{\"color\":\"#4D5663\"},\"title\":{\"font\":{\"color\":\"#4D5663\"},\"text\":\"\"},\"zerolinecolor\":\"#E1E5ED\"}},                        {\"showLink\": true, \"linkText\": \"Export to plot.ly\", \"plotlyServerURL\": \"https://plot.ly\", \"responsive\": true}                    ).then(function(){\n",
       "                            \n",
       "var gd = document.getElementById('6f274ad0-4913-496e-b9bb-b95dee592b81');\n",
       "var x = new MutationObserver(function (mutations, observer) {{\n",
       "        var display = window.getComputedStyle(gd).display;\n",
       "        if (!display || display === 'none') {{\n",
       "            console.log([gd, 'removed!']);\n",
       "            Plotly.purge(gd);\n",
       "            observer.disconnect();\n",
       "        }}\n",
       "}});\n",
       "\n",
       "// Listen for the removal of the full notebook cells\n",
       "var notebookContainer = gd.closest('#notebook-container');\n",
       "if (notebookContainer) {{\n",
       "    x.observe(notebookContainer, {childList: true});\n",
       "}}\n",
       "\n",
       "// Listen for the clearing of the current output cell\n",
       "var outputEl = gd.closest('.output');\n",
       "if (outputEl) {{\n",
       "    x.observe(outputEl, {childList: true});\n",
       "}}\n",
       "\n",
       "                        })                };                });            </script>        </div>"
      ]
     },
     "metadata": {},
     "output_type": "display_data"
    }
   ],
   "source": [
    "#bar plot\n",
    "df2.iplot(kind='bar',x='Category',y='Values')"
   ]
  },
  {
   "cell_type": "code",
   "execution_count": 18,
   "id": "96a0d123",
   "metadata": {},
   "outputs": [
    {
     "data": {
      "application/vnd.plotly.v1+json": {
       "config": {
        "linkText": "Export to plot.ly",
        "plotlyServerURL": "https://plot.ly",
        "showLink": true
       },
       "data": [
        {
         "boxpoints": false,
         "line": {
          "width": 1.3
         },
         "marker": {
          "color": "rgba(255, 153, 51, 1.0)"
         },
         "name": "A",
         "orientation": "v",
         "type": "box",
         "y": [
          0.8144187353470765,
          0.06943968861889845,
          -0.6051177979947289,
          1.4200079041252598,
          -0.0947786780060265,
          0.4353422038499592,
          -0.867023819630172,
          0.22712243386141492,
          -1.5936932223573854,
          0.9241321743715584,
          1.0741759091264447,
          0.2642848602684432,
          0.23913383143078554,
          -0.5296200715161591,
          -0.04891670088749185,
          2.1634524071419787,
          0.07959748768622212,
          -0.07335152100529256,
          1.5679201630912711,
          0.053219499966360065,
          0.4377909275954798,
          -0.4108738189474997,
          -0.7190016400390153,
          0.3089019437067334,
          -0.26423764468661287,
          0.36404162684384966,
          1.8896605987378767,
          2.1064726673601473,
          -1.5133649684716444,
          0.009869769374126338,
          -2.235250524481225,
          -0.22337057601326998,
          0.8561588927857099,
          0.3856941145134942,
          -0.28496750706782986,
          0.048889224040245864,
          0.025062845777872163,
          -1.0042775436667823,
          0.004264310636040312,
          0.36646690572102514,
          0.8564286027355924,
          0.7887314088131345,
          -1.4777313939744903,
          -1.3166971416521733,
          -0.3208680303833144,
          -1.0198295242273419,
          0.3050677612939885,
          -0.8082594772684302,
          1.0571811122584296,
          -0.04330549718699945,
          0.8025279972795675,
          -1.0721022431178582,
          -1.72663719878505,
          0.0339265990132973,
          1.2082859061825684,
          0.000024056453408913362,
          0.15433331363831615,
          -0.16675365867183428,
          -0.4228428279887474,
          0.3122211018338927,
          0.6476593566228214,
          -0.7539537124490568,
          0.7782385509153177,
          -0.7731846360605293,
          -0.28562378587155934,
          -1.1657939985705077,
          -0.862042219934001,
          1.2110234354162455,
          0.8899036716432929,
          0.7919978324104415,
          -1.3310000935841564,
          0.7214732267316021,
          1.816489263931352,
          -0.7387856010538364,
          -1.0744705332323945,
          -0.7179108109427301,
          -0.297208515362758,
          -1.5286827136665169,
          0.6074091759350303,
          0.33771344384352486,
          1.259831207812005,
          0.7635495768552607,
          0.9597488173525972,
          1.014646551078339,
          2.7867484067169075,
          -2.52971826710298,
          -1.0213281238237273,
          0.8211913091724549,
          -1.0097182596065781,
          -0.43058400358984134,
          -1.3431455484801735,
          0.5474436942796898,
          0.2188722331836831,
          0.3741308838429427,
          0.051190565779324584,
          -0.15410944771311572,
          -2.1474278848315973,
          0.8510314976663124,
          1.0218206672961965,
          -1.1703526126312642
         ]
        },
        {
         "boxpoints": false,
         "line": {
          "width": 1.3
         },
         "marker": {
          "color": "rgba(55, 128, 191, 1.0)"
         },
         "name": "B",
         "orientation": "v",
         "type": "box",
         "y": [
          1.182835259237497,
          -0.8975732145797927,
          0.5220275195709047,
          0.16526936777424775,
          0.8221463234629366,
          0.09561960691624612,
          0.7154934197202248,
          -0.7239419506948116,
          -1.6183004239710814,
          -0.5805208012812353,
          -0.2231518507637324,
          0.5809954447566315,
          0.7896657634190364,
          0.09859341287168244,
          1.01181077086917,
          1.2801686263217356,
          0.006802514892934026,
          0.749579462162761,
          1.0226976632439386,
          1.6113010155683734,
          -1.7506865128832618,
          0.5026636946768042,
          -2.4396447316668235,
          -0.9043217468103396,
          -0.5452287632889667,
          -1.6417557829174791,
          0.28369201260159543,
          0.05773592079350799,
          -0.10589216598255646,
          0.972409774305762,
          1.121115719140552,
          0.1888647630515083,
          1.1899209062449612,
          -0.5388108014040269,
          -0.868672535059343,
          0.9492871720305138,
          -1.062542675070697,
          1.7106588413411308,
          1.1044216631680823,
          -0.6928660691112118,
          -0.46731344859800633,
          -0.30426022660944946,
          1.2709380589317472,
          -2.6227128294051414,
          0.6296655254120602,
          0.4300620265521417,
          -0.6480888131663791,
          -1.438046558452693,
          -0.402555960745747,
          -2.29535392221176,
          -0.11827288604262658,
          -1.0221151216646072,
          1.281883419834949,
          -0.9207405377108133,
          -1.9270739466753486,
          0.6676074238160519,
          0.11366910445242777,
          -1.1706213115879172,
          -0.11760123847185962,
          0.3172164900409643,
          -0.6643484679944766,
          -1.512156820047486,
          -0.8162683653806203,
          1.5348972081867693,
          2.0839592977231662,
          -0.7358936086844449,
          -1.0497042264481218,
          0.44282965790962225,
          -0.3802702424432359,
          1.5832824629988664,
          0.2679297436872706,
          -2.0234957168473806,
          0.9667018570206107,
          0.8001169737148024,
          -0.42758278331913757,
          -0.9907477622080939,
          -0.6126108190402878,
          0.712290384429327,
          -1.005642475286215,
          -1.9782557774705911,
          0.9211827602892596,
          -1.3697132180465084,
          -0.8415705327052733,
          2.7174073081230024,
          -1.4140618599490045,
          0.6633224069552077,
          0.41129032261369175,
          -0.6480931619950667,
          -0.13443803548642455,
          1.0374495373632742,
          0.5593281556573985,
          -1.6662162894285633,
          0.671438208173271,
          -0.08855620096733283,
          -0.7706300723442125,
          -0.12289390281624057,
          -0.1569283401959346,
          2.4871475021674456,
          0.6363121492402903,
          -0.5900043050544014
         ]
        },
        {
         "boxpoints": false,
         "line": {
          "width": 1.3
         },
         "marker": {
          "color": "rgba(50, 171, 96, 1.0)"
         },
         "name": "C",
         "orientation": "v",
         "type": "box",
         "y": [
          1.6320067672550114,
          0.013571597518988485,
          0.4267658992242022,
          0.3131395724831427,
          0.934514580222743,
          -0.5861022341329414,
          -1.4302987559641342,
          -0.22139786013664656,
          0.663171007555064,
          2.701568054660681,
          1.132655258868716,
          -1.2618240324811285,
          0.5967099360070722,
          -0.41428701335549833,
          0.6497449486826024,
          0.48044113315915926,
          1.0254986480098311,
          -1.7686908679270839,
          -1.7832391917216104,
          -0.8028078859416806,
          0.37707515279233544,
          0.23536684330914645,
          -1.351390100005412,
          -0.549926509826069,
          0.15787586136443116,
          0.3358040809294726,
          0.9166551680285362,
          -0.6000079288730298,
          0.356198542020789,
          -0.1616092278325927,
          -1.190736474961592,
          0.831948021082437,
          0.7108672665104884,
          -1.7565110463718139,
          1.7376816351250506,
          0.03562378256214433,
          1.1432465610938845,
          -1.7478516383727796,
          -0.5592256625903307,
          3.3430285040112238,
          1.6325210655742146,
          -0.35001531476351644,
          0.3271038550921371,
          -0.270790748596994,
          0.5146495788960012,
          -0.2387753632827418,
          -0.48190934620946485,
          0.337523458681305,
          0.6010108834316373,
          -0.6199546591098973,
          0.10261063320245636,
          0.09995308905169957,
          0.6872136943272025,
          0.8641432838921995,
          -0.20126688927067837,
          -0.14630490200191154,
          -0.9385932134581134,
          1.0167311715915515,
          -0.6940746798664247,
          0.37801160636747616,
          -2.0155541281707006,
          -0.19302718238829325,
          -0.2779639236364774,
          -1.9415924471161954,
          0.09536631705421743,
          -0.09356181753016589,
          0.8925625646518249,
          -1.2118433366028099,
          0.18860333713105218,
          0.5465591440427829,
          0.1873570216311578,
          -1.9447893839439823,
          -0.4108825283397903,
          1.4986613443997372,
          -1.2330691203098796,
          -1.7243747243962575,
          0.3664730328822936,
          0.4912675975383385,
          -1.4672190385613428,
          -0.6312494119824602,
          0.02051711049058606,
          -0.4110566281906969,
          0.6941310017272373,
          0.3479202980775581,
          0.9666567204573491,
          2.0130805562881755,
          -0.6622077039577834,
          -1.091774596828099,
          -0.4920180595361232,
          0.24288614812627068,
          -0.4158228823948609,
          0.5338377236145971,
          -1.1472736403024104,
          -0.5283819826171251,
          0.9822910754737452,
          0.9913128563641996,
          1.8591684246578655,
          -0.7352461179154989,
          0.2791521002534852,
          0.39753279031415817
         ]
        },
        {
         "boxpoints": false,
         "line": {
          "width": 1.3
         },
         "marker": {
          "color": "rgba(128, 0, 128, 1.0)"
         },
         "name": "D",
         "orientation": "v",
         "type": "box",
         "y": [
          0.7983743801094474,
          -0.9144970364904372,
          0.7377608206373266,
          1.2094442701617718,
          -0.034113644476177776,
          -0.07468997283468373,
          -0.4365334188683654,
          -0.3359540436610759,
          -0.4900620521275639,
          0.649452927104052,
          1.32401981584447,
          -0.6681148646130952,
          1.555881666445536,
          -0.663312350537218,
          0.517535606177241,
          -0.5963604186186587,
          -0.7289394666967155,
          -0.6614334140291629,
          1.2114499104973508,
          -0.9400044909732653,
          -0.3365622407764457,
          -0.004840309662538441,
          0.4014252667959559,
          1.7702074207636602,
          -0.15902830085492964,
          -0.4491525183361768,
          0.8199773050078053,
          0.24241653586728773,
          0.038871122497753034,
          0.7673859834900345,
          1.6709893112852547,
          -1.880682722554869,
          1.1464979996109588,
          0.4642917919716699,
          -1.387190001527133,
          -0.2321182753605703,
          -0.7728716451587044,
          1.3527609759626273,
          0.20333893805926107,
          -0.5967623483934287,
          -0.5591239031247264,
          -0.024998089594043083,
          1.5416581207071445,
          1.23818191360569,
          -0.9290027328307017,
          -1.3457789379399776,
          -0.8341286738944954,
          0.5001677599565157,
          -0.5967692094673804,
          0.27348645339355887,
          0.7760781915679874,
          0.457613185037016,
          -0.3492103540291085,
          -0.3842909854963571,
          -0.2722242403653147,
          0.9332740640305395,
          0.23977015203568813,
          -0.9228408546299977,
          -0.10151930381245429,
          0.654726180321158,
          -0.30355737514787784,
          1.6422770017101684,
          1.4363121905920537,
          -0.025215221682091615,
          0.18153341490580763,
          1.3415552322991204,
          -0.18110803904038167,
          -0.3176728394306511,
          0.9505354693710215,
          0.877167018703993,
          -0.1170786443188935,
          -0.39678780004479736,
          -0.0795907042411347,
          -0.4329229278703074,
          0.3570504785206501,
          -0.10208750684175669,
          -1.7877055134430488,
          0.5441865529079403,
          -1.5405593425245991,
          -0.7191063863844535,
          0.31760538624398443,
          -1.5139475416410115,
          1.2068157093758292,
          -2.172599935187426,
          0.6871903377937948,
          -0.7751249426919488,
          -0.8218306588295341,
          1.2856002478718513,
          -0.09592446267838775,
          0.28311341574543314,
          -2.1006508831448105,
          -0.6978537491787855,
          -0.9078269204518609,
          0.2923304985925143,
          0.025863130056403685,
          -1.9227191104639756,
          1.5930321631902804,
          -0.5990701946123035,
          -1.4867794289966045,
          0.6013644071384248
         ]
        }
       ],
       "layout": {
        "legend": {
         "bgcolor": "#F5F6F9",
         "font": {
          "color": "#4D5663"
         }
        },
        "paper_bgcolor": "#F5F6F9",
        "plot_bgcolor": "#F5F6F9",
        "template": {
         "data": {
          "bar": [
           {
            "error_x": {
             "color": "#2a3f5f"
            },
            "error_y": {
             "color": "#2a3f5f"
            },
            "marker": {
             "line": {
              "color": "#E5ECF6",
              "width": 0.5
             },
             "pattern": {
              "fillmode": "overlay",
              "size": 10,
              "solidity": 0.2
             }
            },
            "type": "bar"
           }
          ],
          "barpolar": [
           {
            "marker": {
             "line": {
              "color": "#E5ECF6",
              "width": 0.5
             },
             "pattern": {
              "fillmode": "overlay",
              "size": 10,
              "solidity": 0.2
             }
            },
            "type": "barpolar"
           }
          ],
          "carpet": [
           {
            "aaxis": {
             "endlinecolor": "#2a3f5f",
             "gridcolor": "white",
             "linecolor": "white",
             "minorgridcolor": "white",
             "startlinecolor": "#2a3f5f"
            },
            "baxis": {
             "endlinecolor": "#2a3f5f",
             "gridcolor": "white",
             "linecolor": "white",
             "minorgridcolor": "white",
             "startlinecolor": "#2a3f5f"
            },
            "type": "carpet"
           }
          ],
          "choropleth": [
           {
            "colorbar": {
             "outlinewidth": 0,
             "ticks": ""
            },
            "type": "choropleth"
           }
          ],
          "contour": [
           {
            "colorbar": {
             "outlinewidth": 0,
             "ticks": ""
            },
            "colorscale": [
             [
              0,
              "#0d0887"
             ],
             [
              0.1111111111111111,
              "#46039f"
             ],
             [
              0.2222222222222222,
              "#7201a8"
             ],
             [
              0.3333333333333333,
              "#9c179e"
             ],
             [
              0.4444444444444444,
              "#bd3786"
             ],
             [
              0.5555555555555556,
              "#d8576b"
             ],
             [
              0.6666666666666666,
              "#ed7953"
             ],
             [
              0.7777777777777778,
              "#fb9f3a"
             ],
             [
              0.8888888888888888,
              "#fdca26"
             ],
             [
              1,
              "#f0f921"
             ]
            ],
            "type": "contour"
           }
          ],
          "contourcarpet": [
           {
            "colorbar": {
             "outlinewidth": 0,
             "ticks": ""
            },
            "type": "contourcarpet"
           }
          ],
          "heatmap": [
           {
            "colorbar": {
             "outlinewidth": 0,
             "ticks": ""
            },
            "colorscale": [
             [
              0,
              "#0d0887"
             ],
             [
              0.1111111111111111,
              "#46039f"
             ],
             [
              0.2222222222222222,
              "#7201a8"
             ],
             [
              0.3333333333333333,
              "#9c179e"
             ],
             [
              0.4444444444444444,
              "#bd3786"
             ],
             [
              0.5555555555555556,
              "#d8576b"
             ],
             [
              0.6666666666666666,
              "#ed7953"
             ],
             [
              0.7777777777777778,
              "#fb9f3a"
             ],
             [
              0.8888888888888888,
              "#fdca26"
             ],
             [
              1,
              "#f0f921"
             ]
            ],
            "type": "heatmap"
           }
          ],
          "heatmapgl": [
           {
            "colorbar": {
             "outlinewidth": 0,
             "ticks": ""
            },
            "colorscale": [
             [
              0,
              "#0d0887"
             ],
             [
              0.1111111111111111,
              "#46039f"
             ],
             [
              0.2222222222222222,
              "#7201a8"
             ],
             [
              0.3333333333333333,
              "#9c179e"
             ],
             [
              0.4444444444444444,
              "#bd3786"
             ],
             [
              0.5555555555555556,
              "#d8576b"
             ],
             [
              0.6666666666666666,
              "#ed7953"
             ],
             [
              0.7777777777777778,
              "#fb9f3a"
             ],
             [
              0.8888888888888888,
              "#fdca26"
             ],
             [
              1,
              "#f0f921"
             ]
            ],
            "type": "heatmapgl"
           }
          ],
          "histogram": [
           {
            "marker": {
             "pattern": {
              "fillmode": "overlay",
              "size": 10,
              "solidity": 0.2
             }
            },
            "type": "histogram"
           }
          ],
          "histogram2d": [
           {
            "colorbar": {
             "outlinewidth": 0,
             "ticks": ""
            },
            "colorscale": [
             [
              0,
              "#0d0887"
             ],
             [
              0.1111111111111111,
              "#46039f"
             ],
             [
              0.2222222222222222,
              "#7201a8"
             ],
             [
              0.3333333333333333,
              "#9c179e"
             ],
             [
              0.4444444444444444,
              "#bd3786"
             ],
             [
              0.5555555555555556,
              "#d8576b"
             ],
             [
              0.6666666666666666,
              "#ed7953"
             ],
             [
              0.7777777777777778,
              "#fb9f3a"
             ],
             [
              0.8888888888888888,
              "#fdca26"
             ],
             [
              1,
              "#f0f921"
             ]
            ],
            "type": "histogram2d"
           }
          ],
          "histogram2dcontour": [
           {
            "colorbar": {
             "outlinewidth": 0,
             "ticks": ""
            },
            "colorscale": [
             [
              0,
              "#0d0887"
             ],
             [
              0.1111111111111111,
              "#46039f"
             ],
             [
              0.2222222222222222,
              "#7201a8"
             ],
             [
              0.3333333333333333,
              "#9c179e"
             ],
             [
              0.4444444444444444,
              "#bd3786"
             ],
             [
              0.5555555555555556,
              "#d8576b"
             ],
             [
              0.6666666666666666,
              "#ed7953"
             ],
             [
              0.7777777777777778,
              "#fb9f3a"
             ],
             [
              0.8888888888888888,
              "#fdca26"
             ],
             [
              1,
              "#f0f921"
             ]
            ],
            "type": "histogram2dcontour"
           }
          ],
          "mesh3d": [
           {
            "colorbar": {
             "outlinewidth": 0,
             "ticks": ""
            },
            "type": "mesh3d"
           }
          ],
          "parcoords": [
           {
            "line": {
             "colorbar": {
              "outlinewidth": 0,
              "ticks": ""
             }
            },
            "type": "parcoords"
           }
          ],
          "pie": [
           {
            "automargin": true,
            "type": "pie"
           }
          ],
          "scatter": [
           {
            "fillpattern": {
             "fillmode": "overlay",
             "size": 10,
             "solidity": 0.2
            },
            "type": "scatter"
           }
          ],
          "scatter3d": [
           {
            "line": {
             "colorbar": {
              "outlinewidth": 0,
              "ticks": ""
             }
            },
            "marker": {
             "colorbar": {
              "outlinewidth": 0,
              "ticks": ""
             }
            },
            "type": "scatter3d"
           }
          ],
          "scattercarpet": [
           {
            "marker": {
             "colorbar": {
              "outlinewidth": 0,
              "ticks": ""
             }
            },
            "type": "scattercarpet"
           }
          ],
          "scattergeo": [
           {
            "marker": {
             "colorbar": {
              "outlinewidth": 0,
              "ticks": ""
             }
            },
            "type": "scattergeo"
           }
          ],
          "scattergl": [
           {
            "marker": {
             "colorbar": {
              "outlinewidth": 0,
              "ticks": ""
             }
            },
            "type": "scattergl"
           }
          ],
          "scattermapbox": [
           {
            "marker": {
             "colorbar": {
              "outlinewidth": 0,
              "ticks": ""
             }
            },
            "type": "scattermapbox"
           }
          ],
          "scatterpolar": [
           {
            "marker": {
             "colorbar": {
              "outlinewidth": 0,
              "ticks": ""
             }
            },
            "type": "scatterpolar"
           }
          ],
          "scatterpolargl": [
           {
            "marker": {
             "colorbar": {
              "outlinewidth": 0,
              "ticks": ""
             }
            },
            "type": "scatterpolargl"
           }
          ],
          "scatterternary": [
           {
            "marker": {
             "colorbar": {
              "outlinewidth": 0,
              "ticks": ""
             }
            },
            "type": "scatterternary"
           }
          ],
          "surface": [
           {
            "colorbar": {
             "outlinewidth": 0,
             "ticks": ""
            },
            "colorscale": [
             [
              0,
              "#0d0887"
             ],
             [
              0.1111111111111111,
              "#46039f"
             ],
             [
              0.2222222222222222,
              "#7201a8"
             ],
             [
              0.3333333333333333,
              "#9c179e"
             ],
             [
              0.4444444444444444,
              "#bd3786"
             ],
             [
              0.5555555555555556,
              "#d8576b"
             ],
             [
              0.6666666666666666,
              "#ed7953"
             ],
             [
              0.7777777777777778,
              "#fb9f3a"
             ],
             [
              0.8888888888888888,
              "#fdca26"
             ],
             [
              1,
              "#f0f921"
             ]
            ],
            "type": "surface"
           }
          ],
          "table": [
           {
            "cells": {
             "fill": {
              "color": "#EBF0F8"
             },
             "line": {
              "color": "white"
             }
            },
            "header": {
             "fill": {
              "color": "#C8D4E3"
             },
             "line": {
              "color": "white"
             }
            },
            "type": "table"
           }
          ]
         },
         "layout": {
          "annotationdefaults": {
           "arrowcolor": "#2a3f5f",
           "arrowhead": 0,
           "arrowwidth": 1
          },
          "autotypenumbers": "strict",
          "coloraxis": {
           "colorbar": {
            "outlinewidth": 0,
            "ticks": ""
           }
          },
          "colorscale": {
           "diverging": [
            [
             0,
             "#8e0152"
            ],
            [
             0.1,
             "#c51b7d"
            ],
            [
             0.2,
             "#de77ae"
            ],
            [
             0.3,
             "#f1b6da"
            ],
            [
             0.4,
             "#fde0ef"
            ],
            [
             0.5,
             "#f7f7f7"
            ],
            [
             0.6,
             "#e6f5d0"
            ],
            [
             0.7,
             "#b8e186"
            ],
            [
             0.8,
             "#7fbc41"
            ],
            [
             0.9,
             "#4d9221"
            ],
            [
             1,
             "#276419"
            ]
           ],
           "sequential": [
            [
             0,
             "#0d0887"
            ],
            [
             0.1111111111111111,
             "#46039f"
            ],
            [
             0.2222222222222222,
             "#7201a8"
            ],
            [
             0.3333333333333333,
             "#9c179e"
            ],
            [
             0.4444444444444444,
             "#bd3786"
            ],
            [
             0.5555555555555556,
             "#d8576b"
            ],
            [
             0.6666666666666666,
             "#ed7953"
            ],
            [
             0.7777777777777778,
             "#fb9f3a"
            ],
            [
             0.8888888888888888,
             "#fdca26"
            ],
            [
             1,
             "#f0f921"
            ]
           ],
           "sequentialminus": [
            [
             0,
             "#0d0887"
            ],
            [
             0.1111111111111111,
             "#46039f"
            ],
            [
             0.2222222222222222,
             "#7201a8"
            ],
            [
             0.3333333333333333,
             "#9c179e"
            ],
            [
             0.4444444444444444,
             "#bd3786"
            ],
            [
             0.5555555555555556,
             "#d8576b"
            ],
            [
             0.6666666666666666,
             "#ed7953"
            ],
            [
             0.7777777777777778,
             "#fb9f3a"
            ],
            [
             0.8888888888888888,
             "#fdca26"
            ],
            [
             1,
             "#f0f921"
            ]
           ]
          },
          "colorway": [
           "#636efa",
           "#EF553B",
           "#00cc96",
           "#ab63fa",
           "#FFA15A",
           "#19d3f3",
           "#FF6692",
           "#B6E880",
           "#FF97FF",
           "#FECB52"
          ],
          "font": {
           "color": "#2a3f5f"
          },
          "geo": {
           "bgcolor": "white",
           "lakecolor": "white",
           "landcolor": "#E5ECF6",
           "showlakes": true,
           "showland": true,
           "subunitcolor": "white"
          },
          "hoverlabel": {
           "align": "left"
          },
          "hovermode": "closest",
          "mapbox": {
           "style": "light"
          },
          "paper_bgcolor": "white",
          "plot_bgcolor": "#E5ECF6",
          "polar": {
           "angularaxis": {
            "gridcolor": "white",
            "linecolor": "white",
            "ticks": ""
           },
           "bgcolor": "#E5ECF6",
           "radialaxis": {
            "gridcolor": "white",
            "linecolor": "white",
            "ticks": ""
           }
          },
          "scene": {
           "xaxis": {
            "backgroundcolor": "#E5ECF6",
            "gridcolor": "white",
            "gridwidth": 2,
            "linecolor": "white",
            "showbackground": true,
            "ticks": "",
            "zerolinecolor": "white"
           },
           "yaxis": {
            "backgroundcolor": "#E5ECF6",
            "gridcolor": "white",
            "gridwidth": 2,
            "linecolor": "white",
            "showbackground": true,
            "ticks": "",
            "zerolinecolor": "white"
           },
           "zaxis": {
            "backgroundcolor": "#E5ECF6",
            "gridcolor": "white",
            "gridwidth": 2,
            "linecolor": "white",
            "showbackground": true,
            "ticks": "",
            "zerolinecolor": "white"
           }
          },
          "shapedefaults": {
           "line": {
            "color": "#2a3f5f"
           }
          },
          "ternary": {
           "aaxis": {
            "gridcolor": "white",
            "linecolor": "white",
            "ticks": ""
           },
           "baxis": {
            "gridcolor": "white",
            "linecolor": "white",
            "ticks": ""
           },
           "bgcolor": "#E5ECF6",
           "caxis": {
            "gridcolor": "white",
            "linecolor": "white",
            "ticks": ""
           }
          },
          "title": {
           "x": 0.05
          },
          "xaxis": {
           "automargin": true,
           "gridcolor": "white",
           "linecolor": "white",
           "ticks": "",
           "title": {
            "standoff": 15
           },
           "zerolinecolor": "white",
           "zerolinewidth": 2
          },
          "yaxis": {
           "automargin": true,
           "gridcolor": "white",
           "linecolor": "white",
           "ticks": "",
           "title": {
            "standoff": 15
           },
           "zerolinecolor": "white",
           "zerolinewidth": 2
          }
         }
        },
        "title": {
         "font": {
          "color": "#4D5663"
         }
        },
        "xaxis": {
         "gridcolor": "#E1E5ED",
         "showgrid": true,
         "tickfont": {
          "color": "#4D5663"
         },
         "title": {
          "font": {
           "color": "#4D5663"
          },
          "text": ""
         },
         "zerolinecolor": "#E1E5ED"
        },
        "yaxis": {
         "gridcolor": "#E1E5ED",
         "showgrid": true,
         "tickfont": {
          "color": "#4D5663"
         },
         "title": {
          "font": {
           "color": "#4D5663"
          },
          "text": ""
         },
         "zerolinecolor": "#E1E5ED"
        }
       }
      },
      "text/html": [
       "<div>                            <div id=\"12783034-8c86-4f3b-91cc-acd1453c7a08\" class=\"plotly-graph-div\" style=\"height:525px; width:100%;\"></div>            <script type=\"text/javascript\">                require([\"plotly\"], function(Plotly) {                    window.PLOTLYENV=window.PLOTLYENV || {};\n",
       "                    window.PLOTLYENV.BASE_URL='https://plot.ly';                                    if (document.getElementById(\"12783034-8c86-4f3b-91cc-acd1453c7a08\")) {                    Plotly.newPlot(                        \"12783034-8c86-4f3b-91cc-acd1453c7a08\",                        [{\"boxpoints\":false,\"line\":{\"width\":1.3},\"marker\":{\"color\":\"rgba(255, 153, 51, 1.0)\"},\"name\":\"A\",\"orientation\":\"v\",\"y\":[0.8144187353470765,0.06943968861889845,-0.6051177979947289,1.4200079041252598,-0.0947786780060265,0.4353422038499592,-0.867023819630172,0.22712243386141492,-1.5936932223573854,0.9241321743715584,1.0741759091264447,0.2642848602684432,0.23913383143078554,-0.5296200715161591,-0.04891670088749185,2.1634524071419787,0.07959748768622212,-0.07335152100529256,1.5679201630912711,0.053219499966360065,0.4377909275954798,-0.4108738189474997,-0.7190016400390153,0.3089019437067334,-0.26423764468661287,0.36404162684384966,1.8896605987378767,2.1064726673601473,-1.5133649684716444,0.009869769374126338,-2.235250524481225,-0.22337057601326998,0.8561588927857099,0.3856941145134942,-0.28496750706782986,0.048889224040245864,0.025062845777872163,-1.0042775436667823,0.004264310636040312,0.36646690572102514,0.8564286027355924,0.7887314088131345,-1.4777313939744903,-1.3166971416521733,-0.3208680303833144,-1.0198295242273419,0.3050677612939885,-0.8082594772684302,1.0571811122584296,-0.04330549718699945,0.8025279972795675,-1.0721022431178582,-1.72663719878505,0.0339265990132973,1.2082859061825684,2.4056453408913362e-05,0.15433331363831615,-0.16675365867183428,-0.4228428279887474,0.3122211018338927,0.6476593566228214,-0.7539537124490568,0.7782385509153177,-0.7731846360605293,-0.28562378587155934,-1.1657939985705077,-0.862042219934001,1.2110234354162455,0.8899036716432929,0.7919978324104415,-1.3310000935841564,0.7214732267316021,1.816489263931352,-0.7387856010538364,-1.0744705332323945,-0.7179108109427301,-0.297208515362758,-1.5286827136665169,0.6074091759350303,0.33771344384352486,1.259831207812005,0.7635495768552607,0.9597488173525972,1.014646551078339,2.7867484067169075,-2.52971826710298,-1.0213281238237273,0.8211913091724549,-1.0097182596065781,-0.43058400358984134,-1.3431455484801735,0.5474436942796898,0.2188722331836831,0.3741308838429427,0.051190565779324584,-0.15410944771311572,-2.1474278848315973,0.8510314976663124,1.0218206672961965,-1.1703526126312642],\"type\":\"box\"},{\"boxpoints\":false,\"line\":{\"width\":1.3},\"marker\":{\"color\":\"rgba(55, 128, 191, 1.0)\"},\"name\":\"B\",\"orientation\":\"v\",\"y\":[1.182835259237497,-0.8975732145797927,0.5220275195709047,0.16526936777424775,0.8221463234629366,0.09561960691624612,0.7154934197202248,-0.7239419506948116,-1.6183004239710814,-0.5805208012812353,-0.2231518507637324,0.5809954447566315,0.7896657634190364,0.09859341287168244,1.01181077086917,1.2801686263217356,0.006802514892934026,0.749579462162761,1.0226976632439386,1.6113010155683734,-1.7506865128832618,0.5026636946768042,-2.4396447316668235,-0.9043217468103396,-0.5452287632889667,-1.6417557829174791,0.28369201260159543,0.05773592079350799,-0.10589216598255646,0.972409774305762,1.121115719140552,0.1888647630515083,1.1899209062449612,-0.5388108014040269,-0.868672535059343,0.9492871720305138,-1.062542675070697,1.7106588413411308,1.1044216631680823,-0.6928660691112118,-0.46731344859800633,-0.30426022660944946,1.2709380589317472,-2.6227128294051414,0.6296655254120602,0.4300620265521417,-0.6480888131663791,-1.438046558452693,-0.402555960745747,-2.29535392221176,-0.11827288604262658,-1.0221151216646072,1.281883419834949,-0.9207405377108133,-1.9270739466753486,0.6676074238160519,0.11366910445242777,-1.1706213115879172,-0.11760123847185962,0.3172164900409643,-0.6643484679944766,-1.512156820047486,-0.8162683653806203,1.5348972081867693,2.0839592977231662,-0.7358936086844449,-1.0497042264481218,0.44282965790962225,-0.3802702424432359,1.5832824629988664,0.2679297436872706,-2.0234957168473806,0.9667018570206107,0.8001169737148024,-0.42758278331913757,-0.9907477622080939,-0.6126108190402878,0.712290384429327,-1.005642475286215,-1.9782557774705911,0.9211827602892596,-1.3697132180465084,-0.8415705327052733,2.7174073081230024,-1.4140618599490045,0.6633224069552077,0.41129032261369175,-0.6480931619950667,-0.13443803548642455,1.0374495373632742,0.5593281556573985,-1.6662162894285633,0.671438208173271,-0.08855620096733283,-0.7706300723442125,-0.12289390281624057,-0.1569283401959346,2.4871475021674456,0.6363121492402903,-0.5900043050544014],\"type\":\"box\"},{\"boxpoints\":false,\"line\":{\"width\":1.3},\"marker\":{\"color\":\"rgba(50, 171, 96, 1.0)\"},\"name\":\"C\",\"orientation\":\"v\",\"y\":[1.6320067672550114,0.013571597518988485,0.4267658992242022,0.3131395724831427,0.934514580222743,-0.5861022341329414,-1.4302987559641342,-0.22139786013664656,0.663171007555064,2.701568054660681,1.132655258868716,-1.2618240324811285,0.5967099360070722,-0.41428701335549833,0.6497449486826024,0.48044113315915926,1.0254986480098311,-1.7686908679270839,-1.7832391917216104,-0.8028078859416806,0.37707515279233544,0.23536684330914645,-1.351390100005412,-0.549926509826069,0.15787586136443116,0.3358040809294726,0.9166551680285362,-0.6000079288730298,0.356198542020789,-0.1616092278325927,-1.190736474961592,0.831948021082437,0.7108672665104884,-1.7565110463718139,1.7376816351250506,0.03562378256214433,1.1432465610938845,-1.7478516383727796,-0.5592256625903307,3.3430285040112238,1.6325210655742146,-0.35001531476351644,0.3271038550921371,-0.270790748596994,0.5146495788960012,-0.2387753632827418,-0.48190934620946485,0.337523458681305,0.6010108834316373,-0.6199546591098973,0.10261063320245636,0.09995308905169957,0.6872136943272025,0.8641432838921995,-0.20126688927067837,-0.14630490200191154,-0.9385932134581134,1.0167311715915515,-0.6940746798664247,0.37801160636747616,-2.0155541281707006,-0.19302718238829325,-0.2779639236364774,-1.9415924471161954,0.09536631705421743,-0.09356181753016589,0.8925625646518249,-1.2118433366028099,0.18860333713105218,0.5465591440427829,0.1873570216311578,-1.9447893839439823,-0.4108825283397903,1.4986613443997372,-1.2330691203098796,-1.7243747243962575,0.3664730328822936,0.4912675975383385,-1.4672190385613428,-0.6312494119824602,0.02051711049058606,-0.4110566281906969,0.6941310017272373,0.3479202980775581,0.9666567204573491,2.0130805562881755,-0.6622077039577834,-1.091774596828099,-0.4920180595361232,0.24288614812627068,-0.4158228823948609,0.5338377236145971,-1.1472736403024104,-0.5283819826171251,0.9822910754737452,0.9913128563641996,1.8591684246578655,-0.7352461179154989,0.2791521002534852,0.39753279031415817],\"type\":\"box\"},{\"boxpoints\":false,\"line\":{\"width\":1.3},\"marker\":{\"color\":\"rgba(128, 0, 128, 1.0)\"},\"name\":\"D\",\"orientation\":\"v\",\"y\":[0.7983743801094474,-0.9144970364904372,0.7377608206373266,1.2094442701617718,-0.034113644476177776,-0.07468997283468373,-0.4365334188683654,-0.3359540436610759,-0.4900620521275639,0.649452927104052,1.32401981584447,-0.6681148646130952,1.555881666445536,-0.663312350537218,0.517535606177241,-0.5963604186186587,-0.7289394666967155,-0.6614334140291629,1.2114499104973508,-0.9400044909732653,-0.3365622407764457,-0.004840309662538441,0.4014252667959559,1.7702074207636602,-0.15902830085492964,-0.4491525183361768,0.8199773050078053,0.24241653586728773,0.038871122497753034,0.7673859834900345,1.6709893112852547,-1.880682722554869,1.1464979996109588,0.4642917919716699,-1.387190001527133,-0.2321182753605703,-0.7728716451587044,1.3527609759626273,0.20333893805926107,-0.5967623483934287,-0.5591239031247264,-0.024998089594043083,1.5416581207071445,1.23818191360569,-0.9290027328307017,-1.3457789379399776,-0.8341286738944954,0.5001677599565157,-0.5967692094673804,0.27348645339355887,0.7760781915679874,0.457613185037016,-0.3492103540291085,-0.3842909854963571,-0.2722242403653147,0.9332740640305395,0.23977015203568813,-0.9228408546299977,-0.10151930381245429,0.654726180321158,-0.30355737514787784,1.6422770017101684,1.4363121905920537,-0.025215221682091615,0.18153341490580763,1.3415552322991204,-0.18110803904038167,-0.3176728394306511,0.9505354693710215,0.877167018703993,-0.1170786443188935,-0.39678780004479736,-0.0795907042411347,-0.4329229278703074,0.3570504785206501,-0.10208750684175669,-1.7877055134430488,0.5441865529079403,-1.5405593425245991,-0.7191063863844535,0.31760538624398443,-1.5139475416410115,1.2068157093758292,-2.172599935187426,0.6871903377937948,-0.7751249426919488,-0.8218306588295341,1.2856002478718513,-0.09592446267838775,0.28311341574543314,-2.1006508831448105,-0.6978537491787855,-0.9078269204518609,0.2923304985925143,0.025863130056403685,-1.9227191104639756,1.5930321631902804,-0.5990701946123035,-1.4867794289966045,0.6013644071384248],\"type\":\"box\"}],                        {\"legend\":{\"bgcolor\":\"#F5F6F9\",\"font\":{\"color\":\"#4D5663\"}},\"paper_bgcolor\":\"#F5F6F9\",\"plot_bgcolor\":\"#F5F6F9\",\"template\":{\"data\":{\"barpolar\":[{\"marker\":{\"line\":{\"color\":\"#E5ECF6\",\"width\":0.5},\"pattern\":{\"fillmode\":\"overlay\",\"size\":10,\"solidity\":0.2}},\"type\":\"barpolar\"}],\"bar\":[{\"error_x\":{\"color\":\"#2a3f5f\"},\"error_y\":{\"color\":\"#2a3f5f\"},\"marker\":{\"line\":{\"color\":\"#E5ECF6\",\"width\":0.5},\"pattern\":{\"fillmode\":\"overlay\",\"size\":10,\"solidity\":0.2}},\"type\":\"bar\"}],\"carpet\":[{\"aaxis\":{\"endlinecolor\":\"#2a3f5f\",\"gridcolor\":\"white\",\"linecolor\":\"white\",\"minorgridcolor\":\"white\",\"startlinecolor\":\"#2a3f5f\"},\"baxis\":{\"endlinecolor\":\"#2a3f5f\",\"gridcolor\":\"white\",\"linecolor\":\"white\",\"minorgridcolor\":\"white\",\"startlinecolor\":\"#2a3f5f\"},\"type\":\"carpet\"}],\"choropleth\":[{\"colorbar\":{\"outlinewidth\":0,\"ticks\":\"\"},\"type\":\"choropleth\"}],\"contourcarpet\":[{\"colorbar\":{\"outlinewidth\":0,\"ticks\":\"\"},\"type\":\"contourcarpet\"}],\"contour\":[{\"colorbar\":{\"outlinewidth\":0,\"ticks\":\"\"},\"colorscale\":[[0.0,\"#0d0887\"],[0.1111111111111111,\"#46039f\"],[0.2222222222222222,\"#7201a8\"],[0.3333333333333333,\"#9c179e\"],[0.4444444444444444,\"#bd3786\"],[0.5555555555555556,\"#d8576b\"],[0.6666666666666666,\"#ed7953\"],[0.7777777777777778,\"#fb9f3a\"],[0.8888888888888888,\"#fdca26\"],[1.0,\"#f0f921\"]],\"type\":\"contour\"}],\"heatmapgl\":[{\"colorbar\":{\"outlinewidth\":0,\"ticks\":\"\"},\"colorscale\":[[0.0,\"#0d0887\"],[0.1111111111111111,\"#46039f\"],[0.2222222222222222,\"#7201a8\"],[0.3333333333333333,\"#9c179e\"],[0.4444444444444444,\"#bd3786\"],[0.5555555555555556,\"#d8576b\"],[0.6666666666666666,\"#ed7953\"],[0.7777777777777778,\"#fb9f3a\"],[0.8888888888888888,\"#fdca26\"],[1.0,\"#f0f921\"]],\"type\":\"heatmapgl\"}],\"heatmap\":[{\"colorbar\":{\"outlinewidth\":0,\"ticks\":\"\"},\"colorscale\":[[0.0,\"#0d0887\"],[0.1111111111111111,\"#46039f\"],[0.2222222222222222,\"#7201a8\"],[0.3333333333333333,\"#9c179e\"],[0.4444444444444444,\"#bd3786\"],[0.5555555555555556,\"#d8576b\"],[0.6666666666666666,\"#ed7953\"],[0.7777777777777778,\"#fb9f3a\"],[0.8888888888888888,\"#fdca26\"],[1.0,\"#f0f921\"]],\"type\":\"heatmap\"}],\"histogram2dcontour\":[{\"colorbar\":{\"outlinewidth\":0,\"ticks\":\"\"},\"colorscale\":[[0.0,\"#0d0887\"],[0.1111111111111111,\"#46039f\"],[0.2222222222222222,\"#7201a8\"],[0.3333333333333333,\"#9c179e\"],[0.4444444444444444,\"#bd3786\"],[0.5555555555555556,\"#d8576b\"],[0.6666666666666666,\"#ed7953\"],[0.7777777777777778,\"#fb9f3a\"],[0.8888888888888888,\"#fdca26\"],[1.0,\"#f0f921\"]],\"type\":\"histogram2dcontour\"}],\"histogram2d\":[{\"colorbar\":{\"outlinewidth\":0,\"ticks\":\"\"},\"colorscale\":[[0.0,\"#0d0887\"],[0.1111111111111111,\"#46039f\"],[0.2222222222222222,\"#7201a8\"],[0.3333333333333333,\"#9c179e\"],[0.4444444444444444,\"#bd3786\"],[0.5555555555555556,\"#d8576b\"],[0.6666666666666666,\"#ed7953\"],[0.7777777777777778,\"#fb9f3a\"],[0.8888888888888888,\"#fdca26\"],[1.0,\"#f0f921\"]],\"type\":\"histogram2d\"}],\"histogram\":[{\"marker\":{\"pattern\":{\"fillmode\":\"overlay\",\"size\":10,\"solidity\":0.2}},\"type\":\"histogram\"}],\"mesh3d\":[{\"colorbar\":{\"outlinewidth\":0,\"ticks\":\"\"},\"type\":\"mesh3d\"}],\"parcoords\":[{\"line\":{\"colorbar\":{\"outlinewidth\":0,\"ticks\":\"\"}},\"type\":\"parcoords\"}],\"pie\":[{\"automargin\":true,\"type\":\"pie\"}],\"scatter3d\":[{\"line\":{\"colorbar\":{\"outlinewidth\":0,\"ticks\":\"\"}},\"marker\":{\"colorbar\":{\"outlinewidth\":0,\"ticks\":\"\"}},\"type\":\"scatter3d\"}],\"scattercarpet\":[{\"marker\":{\"colorbar\":{\"outlinewidth\":0,\"ticks\":\"\"}},\"type\":\"scattercarpet\"}],\"scattergeo\":[{\"marker\":{\"colorbar\":{\"outlinewidth\":0,\"ticks\":\"\"}},\"type\":\"scattergeo\"}],\"scattergl\":[{\"marker\":{\"colorbar\":{\"outlinewidth\":0,\"ticks\":\"\"}},\"type\":\"scattergl\"}],\"scattermapbox\":[{\"marker\":{\"colorbar\":{\"outlinewidth\":0,\"ticks\":\"\"}},\"type\":\"scattermapbox\"}],\"scatterpolargl\":[{\"marker\":{\"colorbar\":{\"outlinewidth\":0,\"ticks\":\"\"}},\"type\":\"scatterpolargl\"}],\"scatterpolar\":[{\"marker\":{\"colorbar\":{\"outlinewidth\":0,\"ticks\":\"\"}},\"type\":\"scatterpolar\"}],\"scatter\":[{\"fillpattern\":{\"fillmode\":\"overlay\",\"size\":10,\"solidity\":0.2},\"type\":\"scatter\"}],\"scatterternary\":[{\"marker\":{\"colorbar\":{\"outlinewidth\":0,\"ticks\":\"\"}},\"type\":\"scatterternary\"}],\"surface\":[{\"colorbar\":{\"outlinewidth\":0,\"ticks\":\"\"},\"colorscale\":[[0.0,\"#0d0887\"],[0.1111111111111111,\"#46039f\"],[0.2222222222222222,\"#7201a8\"],[0.3333333333333333,\"#9c179e\"],[0.4444444444444444,\"#bd3786\"],[0.5555555555555556,\"#d8576b\"],[0.6666666666666666,\"#ed7953\"],[0.7777777777777778,\"#fb9f3a\"],[0.8888888888888888,\"#fdca26\"],[1.0,\"#f0f921\"]],\"type\":\"surface\"}],\"table\":[{\"cells\":{\"fill\":{\"color\":\"#EBF0F8\"},\"line\":{\"color\":\"white\"}},\"header\":{\"fill\":{\"color\":\"#C8D4E3\"},\"line\":{\"color\":\"white\"}},\"type\":\"table\"}]},\"layout\":{\"annotationdefaults\":{\"arrowcolor\":\"#2a3f5f\",\"arrowhead\":0,\"arrowwidth\":1},\"autotypenumbers\":\"strict\",\"coloraxis\":{\"colorbar\":{\"outlinewidth\":0,\"ticks\":\"\"}},\"colorscale\":{\"diverging\":[[0,\"#8e0152\"],[0.1,\"#c51b7d\"],[0.2,\"#de77ae\"],[0.3,\"#f1b6da\"],[0.4,\"#fde0ef\"],[0.5,\"#f7f7f7\"],[0.6,\"#e6f5d0\"],[0.7,\"#b8e186\"],[0.8,\"#7fbc41\"],[0.9,\"#4d9221\"],[1,\"#276419\"]],\"sequential\":[[0.0,\"#0d0887\"],[0.1111111111111111,\"#46039f\"],[0.2222222222222222,\"#7201a8\"],[0.3333333333333333,\"#9c179e\"],[0.4444444444444444,\"#bd3786\"],[0.5555555555555556,\"#d8576b\"],[0.6666666666666666,\"#ed7953\"],[0.7777777777777778,\"#fb9f3a\"],[0.8888888888888888,\"#fdca26\"],[1.0,\"#f0f921\"]],\"sequentialminus\":[[0.0,\"#0d0887\"],[0.1111111111111111,\"#46039f\"],[0.2222222222222222,\"#7201a8\"],[0.3333333333333333,\"#9c179e\"],[0.4444444444444444,\"#bd3786\"],[0.5555555555555556,\"#d8576b\"],[0.6666666666666666,\"#ed7953\"],[0.7777777777777778,\"#fb9f3a\"],[0.8888888888888888,\"#fdca26\"],[1.0,\"#f0f921\"]]},\"colorway\":[\"#636efa\",\"#EF553B\",\"#00cc96\",\"#ab63fa\",\"#FFA15A\",\"#19d3f3\",\"#FF6692\",\"#B6E880\",\"#FF97FF\",\"#FECB52\"],\"font\":{\"color\":\"#2a3f5f\"},\"geo\":{\"bgcolor\":\"white\",\"lakecolor\":\"white\",\"landcolor\":\"#E5ECF6\",\"showlakes\":true,\"showland\":true,\"subunitcolor\":\"white\"},\"hoverlabel\":{\"align\":\"left\"},\"hovermode\":\"closest\",\"mapbox\":{\"style\":\"light\"},\"paper_bgcolor\":\"white\",\"plot_bgcolor\":\"#E5ECF6\",\"polar\":{\"angularaxis\":{\"gridcolor\":\"white\",\"linecolor\":\"white\",\"ticks\":\"\"},\"bgcolor\":\"#E5ECF6\",\"radialaxis\":{\"gridcolor\":\"white\",\"linecolor\":\"white\",\"ticks\":\"\"}},\"scene\":{\"xaxis\":{\"backgroundcolor\":\"#E5ECF6\",\"gridcolor\":\"white\",\"gridwidth\":2,\"linecolor\":\"white\",\"showbackground\":true,\"ticks\":\"\",\"zerolinecolor\":\"white\"},\"yaxis\":{\"backgroundcolor\":\"#E5ECF6\",\"gridcolor\":\"white\",\"gridwidth\":2,\"linecolor\":\"white\",\"showbackground\":true,\"ticks\":\"\",\"zerolinecolor\":\"white\"},\"zaxis\":{\"backgroundcolor\":\"#E5ECF6\",\"gridcolor\":\"white\",\"gridwidth\":2,\"linecolor\":\"white\",\"showbackground\":true,\"ticks\":\"\",\"zerolinecolor\":\"white\"}},\"shapedefaults\":{\"line\":{\"color\":\"#2a3f5f\"}},\"ternary\":{\"aaxis\":{\"gridcolor\":\"white\",\"linecolor\":\"white\",\"ticks\":\"\"},\"baxis\":{\"gridcolor\":\"white\",\"linecolor\":\"white\",\"ticks\":\"\"},\"bgcolor\":\"#E5ECF6\",\"caxis\":{\"gridcolor\":\"white\",\"linecolor\":\"white\",\"ticks\":\"\"}},\"title\":{\"x\":0.05},\"xaxis\":{\"automargin\":true,\"gridcolor\":\"white\",\"linecolor\":\"white\",\"ticks\":\"\",\"title\":{\"standoff\":15},\"zerolinecolor\":\"white\",\"zerolinewidth\":2},\"yaxis\":{\"automargin\":true,\"gridcolor\":\"white\",\"linecolor\":\"white\",\"ticks\":\"\",\"title\":{\"standoff\":15},\"zerolinecolor\":\"white\",\"zerolinewidth\":2}}},\"title\":{\"font\":{\"color\":\"#4D5663\"}},\"xaxis\":{\"gridcolor\":\"#E1E5ED\",\"showgrid\":true,\"tickfont\":{\"color\":\"#4D5663\"},\"title\":{\"font\":{\"color\":\"#4D5663\"},\"text\":\"\"},\"zerolinecolor\":\"#E1E5ED\"},\"yaxis\":{\"gridcolor\":\"#E1E5ED\",\"showgrid\":true,\"tickfont\":{\"color\":\"#4D5663\"},\"title\":{\"font\":{\"color\":\"#4D5663\"},\"text\":\"\"},\"zerolinecolor\":\"#E1E5ED\"}},                        {\"showLink\": true, \"linkText\": \"Export to plot.ly\", \"plotlyServerURL\": \"https://plot.ly\", \"responsive\": true}                    ).then(function(){\n",
       "                            \n",
       "var gd = document.getElementById('12783034-8c86-4f3b-91cc-acd1453c7a08');\n",
       "var x = new MutationObserver(function (mutations, observer) {{\n",
       "        var display = window.getComputedStyle(gd).display;\n",
       "        if (!display || display === 'none') {{\n",
       "            console.log([gd, 'removed!']);\n",
       "            Plotly.purge(gd);\n",
       "            observer.disconnect();\n",
       "        }}\n",
       "}});\n",
       "\n",
       "// Listen for the removal of the full notebook cells\n",
       "var notebookContainer = gd.closest('#notebook-container');\n",
       "if (notebookContainer) {{\n",
       "    x.observe(notebookContainer, {childList: true});\n",
       "}}\n",
       "\n",
       "// Listen for the clearing of the current output cell\n",
       "var outputEl = gd.closest('.output');\n",
       "if (outputEl) {{\n",
       "    x.observe(outputEl, {childList: true});\n",
       "}}\n",
       "\n",
       "                        })                };                });            </script>        </div>"
      ]
     },
     "metadata": {},
     "output_type": "display_data"
    }
   ],
   "source": [
    "df.iplot(kind='box')"
   ]
  },
  {
   "cell_type": "code",
   "execution_count": 21,
   "id": "1923c46d",
   "metadata": {},
   "outputs": [
    {
     "data": {
      "application/vnd.plotly.v1+json": {
       "config": {
        "linkText": "Export to plot.ly",
        "plotlyServerURL": "https://plot.ly",
        "showLink": true
       },
       "data": [
        {
         "colorscale": [
          [
           0,
           "rgb(165,0,38)"
          ],
          [
           0.1,
           "rgb(215,48,39)"
          ],
          [
           0.2,
           "rgb(244,109,67)"
          ],
          [
           0.3,
           "rgb(253,174,97)"
          ],
          [
           0.4,
           "rgb(254,224,144)"
          ],
          [
           0.5,
           "rgb(255,255,191)"
          ],
          [
           0.6,
           "rgb(224,243,248)"
          ],
          [
           0.7,
           "rgb(171,217,233)"
          ],
          [
           0.8,
           "rgb(116,173,209)"
          ],
          [
           0.9,
           "rgb(69,117,180)"
          ],
          [
           1,
           "rgb(49,54,149)"
          ]
         ],
         "type": "surface",
         "x": [
          0,
          1,
          2,
          3,
          4
         ],
         "y": [
          "x",
          "y",
          "z"
         ],
         "z": [
          [
           1,
           2,
           3,
           4,
           5
          ],
          [
           10,
           20,
           30,
           20,
           10
          ],
          [
           5,
           4,
           3,
           2,
           1
          ]
         ]
        }
       ],
       "layout": {
        "legend": {
         "bgcolor": "#F5F6F9",
         "font": {
          "color": "#4D5663"
         }
        },
        "paper_bgcolor": "#F5F6F9",
        "plot_bgcolor": "#F5F6F9",
        "template": {
         "data": {
          "bar": [
           {
            "error_x": {
             "color": "#2a3f5f"
            },
            "error_y": {
             "color": "#2a3f5f"
            },
            "marker": {
             "line": {
              "color": "#E5ECF6",
              "width": 0.5
             },
             "pattern": {
              "fillmode": "overlay",
              "size": 10,
              "solidity": 0.2
             }
            },
            "type": "bar"
           }
          ],
          "barpolar": [
           {
            "marker": {
             "line": {
              "color": "#E5ECF6",
              "width": 0.5
             },
             "pattern": {
              "fillmode": "overlay",
              "size": 10,
              "solidity": 0.2
             }
            },
            "type": "barpolar"
           }
          ],
          "carpet": [
           {
            "aaxis": {
             "endlinecolor": "#2a3f5f",
             "gridcolor": "white",
             "linecolor": "white",
             "minorgridcolor": "white",
             "startlinecolor": "#2a3f5f"
            },
            "baxis": {
             "endlinecolor": "#2a3f5f",
             "gridcolor": "white",
             "linecolor": "white",
             "minorgridcolor": "white",
             "startlinecolor": "#2a3f5f"
            },
            "type": "carpet"
           }
          ],
          "choropleth": [
           {
            "colorbar": {
             "outlinewidth": 0,
             "ticks": ""
            },
            "type": "choropleth"
           }
          ],
          "contour": [
           {
            "colorbar": {
             "outlinewidth": 0,
             "ticks": ""
            },
            "colorscale": [
             [
              0,
              "#0d0887"
             ],
             [
              0.1111111111111111,
              "#46039f"
             ],
             [
              0.2222222222222222,
              "#7201a8"
             ],
             [
              0.3333333333333333,
              "#9c179e"
             ],
             [
              0.4444444444444444,
              "#bd3786"
             ],
             [
              0.5555555555555556,
              "#d8576b"
             ],
             [
              0.6666666666666666,
              "#ed7953"
             ],
             [
              0.7777777777777778,
              "#fb9f3a"
             ],
             [
              0.8888888888888888,
              "#fdca26"
             ],
             [
              1,
              "#f0f921"
             ]
            ],
            "type": "contour"
           }
          ],
          "contourcarpet": [
           {
            "colorbar": {
             "outlinewidth": 0,
             "ticks": ""
            },
            "type": "contourcarpet"
           }
          ],
          "heatmap": [
           {
            "colorbar": {
             "outlinewidth": 0,
             "ticks": ""
            },
            "colorscale": [
             [
              0,
              "#0d0887"
             ],
             [
              0.1111111111111111,
              "#46039f"
             ],
             [
              0.2222222222222222,
              "#7201a8"
             ],
             [
              0.3333333333333333,
              "#9c179e"
             ],
             [
              0.4444444444444444,
              "#bd3786"
             ],
             [
              0.5555555555555556,
              "#d8576b"
             ],
             [
              0.6666666666666666,
              "#ed7953"
             ],
             [
              0.7777777777777778,
              "#fb9f3a"
             ],
             [
              0.8888888888888888,
              "#fdca26"
             ],
             [
              1,
              "#f0f921"
             ]
            ],
            "type": "heatmap"
           }
          ],
          "heatmapgl": [
           {
            "colorbar": {
             "outlinewidth": 0,
             "ticks": ""
            },
            "colorscale": [
             [
              0,
              "#0d0887"
             ],
             [
              0.1111111111111111,
              "#46039f"
             ],
             [
              0.2222222222222222,
              "#7201a8"
             ],
             [
              0.3333333333333333,
              "#9c179e"
             ],
             [
              0.4444444444444444,
              "#bd3786"
             ],
             [
              0.5555555555555556,
              "#d8576b"
             ],
             [
              0.6666666666666666,
              "#ed7953"
             ],
             [
              0.7777777777777778,
              "#fb9f3a"
             ],
             [
              0.8888888888888888,
              "#fdca26"
             ],
             [
              1,
              "#f0f921"
             ]
            ],
            "type": "heatmapgl"
           }
          ],
          "histogram": [
           {
            "marker": {
             "pattern": {
              "fillmode": "overlay",
              "size": 10,
              "solidity": 0.2
             }
            },
            "type": "histogram"
           }
          ],
          "histogram2d": [
           {
            "colorbar": {
             "outlinewidth": 0,
             "ticks": ""
            },
            "colorscale": [
             [
              0,
              "#0d0887"
             ],
             [
              0.1111111111111111,
              "#46039f"
             ],
             [
              0.2222222222222222,
              "#7201a8"
             ],
             [
              0.3333333333333333,
              "#9c179e"
             ],
             [
              0.4444444444444444,
              "#bd3786"
             ],
             [
              0.5555555555555556,
              "#d8576b"
             ],
             [
              0.6666666666666666,
              "#ed7953"
             ],
             [
              0.7777777777777778,
              "#fb9f3a"
             ],
             [
              0.8888888888888888,
              "#fdca26"
             ],
             [
              1,
              "#f0f921"
             ]
            ],
            "type": "histogram2d"
           }
          ],
          "histogram2dcontour": [
           {
            "colorbar": {
             "outlinewidth": 0,
             "ticks": ""
            },
            "colorscale": [
             [
              0,
              "#0d0887"
             ],
             [
              0.1111111111111111,
              "#46039f"
             ],
             [
              0.2222222222222222,
              "#7201a8"
             ],
             [
              0.3333333333333333,
              "#9c179e"
             ],
             [
              0.4444444444444444,
              "#bd3786"
             ],
             [
              0.5555555555555556,
              "#d8576b"
             ],
             [
              0.6666666666666666,
              "#ed7953"
             ],
             [
              0.7777777777777778,
              "#fb9f3a"
             ],
             [
              0.8888888888888888,
              "#fdca26"
             ],
             [
              1,
              "#f0f921"
             ]
            ],
            "type": "histogram2dcontour"
           }
          ],
          "mesh3d": [
           {
            "colorbar": {
             "outlinewidth": 0,
             "ticks": ""
            },
            "type": "mesh3d"
           }
          ],
          "parcoords": [
           {
            "line": {
             "colorbar": {
              "outlinewidth": 0,
              "ticks": ""
             }
            },
            "type": "parcoords"
           }
          ],
          "pie": [
           {
            "automargin": true,
            "type": "pie"
           }
          ],
          "scatter": [
           {
            "fillpattern": {
             "fillmode": "overlay",
             "size": 10,
             "solidity": 0.2
            },
            "type": "scatter"
           }
          ],
          "scatter3d": [
           {
            "line": {
             "colorbar": {
              "outlinewidth": 0,
              "ticks": ""
             }
            },
            "marker": {
             "colorbar": {
              "outlinewidth": 0,
              "ticks": ""
             }
            },
            "type": "scatter3d"
           }
          ],
          "scattercarpet": [
           {
            "marker": {
             "colorbar": {
              "outlinewidth": 0,
              "ticks": ""
             }
            },
            "type": "scattercarpet"
           }
          ],
          "scattergeo": [
           {
            "marker": {
             "colorbar": {
              "outlinewidth": 0,
              "ticks": ""
             }
            },
            "type": "scattergeo"
           }
          ],
          "scattergl": [
           {
            "marker": {
             "colorbar": {
              "outlinewidth": 0,
              "ticks": ""
             }
            },
            "type": "scattergl"
           }
          ],
          "scattermapbox": [
           {
            "marker": {
             "colorbar": {
              "outlinewidth": 0,
              "ticks": ""
             }
            },
            "type": "scattermapbox"
           }
          ],
          "scatterpolar": [
           {
            "marker": {
             "colorbar": {
              "outlinewidth": 0,
              "ticks": ""
             }
            },
            "type": "scatterpolar"
           }
          ],
          "scatterpolargl": [
           {
            "marker": {
             "colorbar": {
              "outlinewidth": 0,
              "ticks": ""
             }
            },
            "type": "scatterpolargl"
           }
          ],
          "scatterternary": [
           {
            "marker": {
             "colorbar": {
              "outlinewidth": 0,
              "ticks": ""
             }
            },
            "type": "scatterternary"
           }
          ],
          "surface": [
           {
            "colorbar": {
             "outlinewidth": 0,
             "ticks": ""
            },
            "colorscale": [
             [
              0,
              "#0d0887"
             ],
             [
              0.1111111111111111,
              "#46039f"
             ],
             [
              0.2222222222222222,
              "#7201a8"
             ],
             [
              0.3333333333333333,
              "#9c179e"
             ],
             [
              0.4444444444444444,
              "#bd3786"
             ],
             [
              0.5555555555555556,
              "#d8576b"
             ],
             [
              0.6666666666666666,
              "#ed7953"
             ],
             [
              0.7777777777777778,
              "#fb9f3a"
             ],
             [
              0.8888888888888888,
              "#fdca26"
             ],
             [
              1,
              "#f0f921"
             ]
            ],
            "type": "surface"
           }
          ],
          "table": [
           {
            "cells": {
             "fill": {
              "color": "#EBF0F8"
             },
             "line": {
              "color": "white"
             }
            },
            "header": {
             "fill": {
              "color": "#C8D4E3"
             },
             "line": {
              "color": "white"
             }
            },
            "type": "table"
           }
          ]
         },
         "layout": {
          "annotationdefaults": {
           "arrowcolor": "#2a3f5f",
           "arrowhead": 0,
           "arrowwidth": 1
          },
          "autotypenumbers": "strict",
          "coloraxis": {
           "colorbar": {
            "outlinewidth": 0,
            "ticks": ""
           }
          },
          "colorscale": {
           "diverging": [
            [
             0,
             "#8e0152"
            ],
            [
             0.1,
             "#c51b7d"
            ],
            [
             0.2,
             "#de77ae"
            ],
            [
             0.3,
             "#f1b6da"
            ],
            [
             0.4,
             "#fde0ef"
            ],
            [
             0.5,
             "#f7f7f7"
            ],
            [
             0.6,
             "#e6f5d0"
            ],
            [
             0.7,
             "#b8e186"
            ],
            [
             0.8,
             "#7fbc41"
            ],
            [
             0.9,
             "#4d9221"
            ],
            [
             1,
             "#276419"
            ]
           ],
           "sequential": [
            [
             0,
             "#0d0887"
            ],
            [
             0.1111111111111111,
             "#46039f"
            ],
            [
             0.2222222222222222,
             "#7201a8"
            ],
            [
             0.3333333333333333,
             "#9c179e"
            ],
            [
             0.4444444444444444,
             "#bd3786"
            ],
            [
             0.5555555555555556,
             "#d8576b"
            ],
            [
             0.6666666666666666,
             "#ed7953"
            ],
            [
             0.7777777777777778,
             "#fb9f3a"
            ],
            [
             0.8888888888888888,
             "#fdca26"
            ],
            [
             1,
             "#f0f921"
            ]
           ],
           "sequentialminus": [
            [
             0,
             "#0d0887"
            ],
            [
             0.1111111111111111,
             "#46039f"
            ],
            [
             0.2222222222222222,
             "#7201a8"
            ],
            [
             0.3333333333333333,
             "#9c179e"
            ],
            [
             0.4444444444444444,
             "#bd3786"
            ],
            [
             0.5555555555555556,
             "#d8576b"
            ],
            [
             0.6666666666666666,
             "#ed7953"
            ],
            [
             0.7777777777777778,
             "#fb9f3a"
            ],
            [
             0.8888888888888888,
             "#fdca26"
            ],
            [
             1,
             "#f0f921"
            ]
           ]
          },
          "colorway": [
           "#636efa",
           "#EF553B",
           "#00cc96",
           "#ab63fa",
           "#FFA15A",
           "#19d3f3",
           "#FF6692",
           "#B6E880",
           "#FF97FF",
           "#FECB52"
          ],
          "font": {
           "color": "#2a3f5f"
          },
          "geo": {
           "bgcolor": "white",
           "lakecolor": "white",
           "landcolor": "#E5ECF6",
           "showlakes": true,
           "showland": true,
           "subunitcolor": "white"
          },
          "hoverlabel": {
           "align": "left"
          },
          "hovermode": "closest",
          "mapbox": {
           "style": "light"
          },
          "paper_bgcolor": "white",
          "plot_bgcolor": "#E5ECF6",
          "polar": {
           "angularaxis": {
            "gridcolor": "white",
            "linecolor": "white",
            "ticks": ""
           },
           "bgcolor": "#E5ECF6",
           "radialaxis": {
            "gridcolor": "white",
            "linecolor": "white",
            "ticks": ""
           }
          },
          "scene": {
           "xaxis": {
            "backgroundcolor": "#E5ECF6",
            "gridcolor": "white",
            "gridwidth": 2,
            "linecolor": "white",
            "showbackground": true,
            "ticks": "",
            "zerolinecolor": "white"
           },
           "yaxis": {
            "backgroundcolor": "#E5ECF6",
            "gridcolor": "white",
            "gridwidth": 2,
            "linecolor": "white",
            "showbackground": true,
            "ticks": "",
            "zerolinecolor": "white"
           },
           "zaxis": {
            "backgroundcolor": "#E5ECF6",
            "gridcolor": "white",
            "gridwidth": 2,
            "linecolor": "white",
            "showbackground": true,
            "ticks": "",
            "zerolinecolor": "white"
           }
          },
          "shapedefaults": {
           "line": {
            "color": "#2a3f5f"
           }
          },
          "ternary": {
           "aaxis": {
            "gridcolor": "white",
            "linecolor": "white",
            "ticks": ""
           },
           "baxis": {
            "gridcolor": "white",
            "linecolor": "white",
            "ticks": ""
           },
           "bgcolor": "#E5ECF6",
           "caxis": {
            "gridcolor": "white",
            "linecolor": "white",
            "ticks": ""
           }
          },
          "title": {
           "x": 0.05
          },
          "xaxis": {
           "automargin": true,
           "gridcolor": "white",
           "linecolor": "white",
           "ticks": "",
           "title": {
            "standoff": 15
           },
           "zerolinecolor": "white",
           "zerolinewidth": 2
          },
          "yaxis": {
           "automargin": true,
           "gridcolor": "white",
           "linecolor": "white",
           "ticks": "",
           "title": {
            "standoff": 15
           },
           "zerolinecolor": "white",
           "zerolinewidth": 2
          }
         }
        },
        "title": {
         "font": {
          "color": "#4D5663"
         }
        },
        "xaxis": {
         "gridcolor": "#E1E5ED",
         "showgrid": true,
         "tickfont": {
          "color": "#4D5663"
         },
         "title": {
          "font": {
           "color": "#4D5663"
          },
          "text": ""
         },
         "zerolinecolor": "#E1E5ED"
        },
        "yaxis": {
         "gridcolor": "#E1E5ED",
         "showgrid": true,
         "tickfont": {
          "color": "#4D5663"
         },
         "title": {
          "font": {
           "color": "#4D5663"
          },
          "text": ""
         },
         "zerolinecolor": "#E1E5ED"
        }
       }
      },
      "text/html": [
       "<div>                            <div id=\"3f9be333-582a-4639-9232-af2e24dd31ed\" class=\"plotly-graph-div\" style=\"height:525px; width:100%;\"></div>            <script type=\"text/javascript\">                require([\"plotly\"], function(Plotly) {                    window.PLOTLYENV=window.PLOTLYENV || {};\n",
       "                    window.PLOTLYENV.BASE_URL='https://plot.ly';                                    if (document.getElementById(\"3f9be333-582a-4639-9232-af2e24dd31ed\")) {                    Plotly.newPlot(                        \"3f9be333-582a-4639-9232-af2e24dd31ed\",                        [{\"colorscale\":[[0.0,\"rgb(165,0,38)\"],[0.1,\"rgb(215,48,39)\"],[0.2,\"rgb(244,109,67)\"],[0.3,\"rgb(253,174,97)\"],[0.4,\"rgb(254,224,144)\"],[0.5,\"rgb(255,255,191)\"],[0.6,\"rgb(224,243,248)\"],[0.7,\"rgb(171,217,233)\"],[0.8,\"rgb(116,173,209)\"],[0.9,\"rgb(69,117,180)\"],[1.0,\"rgb(49,54,149)\"]],\"x\":[0,1,2,3,4],\"y\":[\"x\",\"y\",\"z\"],\"z\":[[1,2,3,4,5],[10,20,30,20,10],[5,4,3,2,1]],\"type\":\"surface\"}],                        {\"legend\":{\"bgcolor\":\"#F5F6F9\",\"font\":{\"color\":\"#4D5663\"}},\"paper_bgcolor\":\"#F5F6F9\",\"plot_bgcolor\":\"#F5F6F9\",\"template\":{\"data\":{\"barpolar\":[{\"marker\":{\"line\":{\"color\":\"#E5ECF6\",\"width\":0.5},\"pattern\":{\"fillmode\":\"overlay\",\"size\":10,\"solidity\":0.2}},\"type\":\"barpolar\"}],\"bar\":[{\"error_x\":{\"color\":\"#2a3f5f\"},\"error_y\":{\"color\":\"#2a3f5f\"},\"marker\":{\"line\":{\"color\":\"#E5ECF6\",\"width\":0.5},\"pattern\":{\"fillmode\":\"overlay\",\"size\":10,\"solidity\":0.2}},\"type\":\"bar\"}],\"carpet\":[{\"aaxis\":{\"endlinecolor\":\"#2a3f5f\",\"gridcolor\":\"white\",\"linecolor\":\"white\",\"minorgridcolor\":\"white\",\"startlinecolor\":\"#2a3f5f\"},\"baxis\":{\"endlinecolor\":\"#2a3f5f\",\"gridcolor\":\"white\",\"linecolor\":\"white\",\"minorgridcolor\":\"white\",\"startlinecolor\":\"#2a3f5f\"},\"type\":\"carpet\"}],\"choropleth\":[{\"colorbar\":{\"outlinewidth\":0,\"ticks\":\"\"},\"type\":\"choropleth\"}],\"contourcarpet\":[{\"colorbar\":{\"outlinewidth\":0,\"ticks\":\"\"},\"type\":\"contourcarpet\"}],\"contour\":[{\"colorbar\":{\"outlinewidth\":0,\"ticks\":\"\"},\"colorscale\":[[0.0,\"#0d0887\"],[0.1111111111111111,\"#46039f\"],[0.2222222222222222,\"#7201a8\"],[0.3333333333333333,\"#9c179e\"],[0.4444444444444444,\"#bd3786\"],[0.5555555555555556,\"#d8576b\"],[0.6666666666666666,\"#ed7953\"],[0.7777777777777778,\"#fb9f3a\"],[0.8888888888888888,\"#fdca26\"],[1.0,\"#f0f921\"]],\"type\":\"contour\"}],\"heatmapgl\":[{\"colorbar\":{\"outlinewidth\":0,\"ticks\":\"\"},\"colorscale\":[[0.0,\"#0d0887\"],[0.1111111111111111,\"#46039f\"],[0.2222222222222222,\"#7201a8\"],[0.3333333333333333,\"#9c179e\"],[0.4444444444444444,\"#bd3786\"],[0.5555555555555556,\"#d8576b\"],[0.6666666666666666,\"#ed7953\"],[0.7777777777777778,\"#fb9f3a\"],[0.8888888888888888,\"#fdca26\"],[1.0,\"#f0f921\"]],\"type\":\"heatmapgl\"}],\"heatmap\":[{\"colorbar\":{\"outlinewidth\":0,\"ticks\":\"\"},\"colorscale\":[[0.0,\"#0d0887\"],[0.1111111111111111,\"#46039f\"],[0.2222222222222222,\"#7201a8\"],[0.3333333333333333,\"#9c179e\"],[0.4444444444444444,\"#bd3786\"],[0.5555555555555556,\"#d8576b\"],[0.6666666666666666,\"#ed7953\"],[0.7777777777777778,\"#fb9f3a\"],[0.8888888888888888,\"#fdca26\"],[1.0,\"#f0f921\"]],\"type\":\"heatmap\"}],\"histogram2dcontour\":[{\"colorbar\":{\"outlinewidth\":0,\"ticks\":\"\"},\"colorscale\":[[0.0,\"#0d0887\"],[0.1111111111111111,\"#46039f\"],[0.2222222222222222,\"#7201a8\"],[0.3333333333333333,\"#9c179e\"],[0.4444444444444444,\"#bd3786\"],[0.5555555555555556,\"#d8576b\"],[0.6666666666666666,\"#ed7953\"],[0.7777777777777778,\"#fb9f3a\"],[0.8888888888888888,\"#fdca26\"],[1.0,\"#f0f921\"]],\"type\":\"histogram2dcontour\"}],\"histogram2d\":[{\"colorbar\":{\"outlinewidth\":0,\"ticks\":\"\"},\"colorscale\":[[0.0,\"#0d0887\"],[0.1111111111111111,\"#46039f\"],[0.2222222222222222,\"#7201a8\"],[0.3333333333333333,\"#9c179e\"],[0.4444444444444444,\"#bd3786\"],[0.5555555555555556,\"#d8576b\"],[0.6666666666666666,\"#ed7953\"],[0.7777777777777778,\"#fb9f3a\"],[0.8888888888888888,\"#fdca26\"],[1.0,\"#f0f921\"]],\"type\":\"histogram2d\"}],\"histogram\":[{\"marker\":{\"pattern\":{\"fillmode\":\"overlay\",\"size\":10,\"solidity\":0.2}},\"type\":\"histogram\"}],\"mesh3d\":[{\"colorbar\":{\"outlinewidth\":0,\"ticks\":\"\"},\"type\":\"mesh3d\"}],\"parcoords\":[{\"line\":{\"colorbar\":{\"outlinewidth\":0,\"ticks\":\"\"}},\"type\":\"parcoords\"}],\"pie\":[{\"automargin\":true,\"type\":\"pie\"}],\"scatter3d\":[{\"line\":{\"colorbar\":{\"outlinewidth\":0,\"ticks\":\"\"}},\"marker\":{\"colorbar\":{\"outlinewidth\":0,\"ticks\":\"\"}},\"type\":\"scatter3d\"}],\"scattercarpet\":[{\"marker\":{\"colorbar\":{\"outlinewidth\":0,\"ticks\":\"\"}},\"type\":\"scattercarpet\"}],\"scattergeo\":[{\"marker\":{\"colorbar\":{\"outlinewidth\":0,\"ticks\":\"\"}},\"type\":\"scattergeo\"}],\"scattergl\":[{\"marker\":{\"colorbar\":{\"outlinewidth\":0,\"ticks\":\"\"}},\"type\":\"scattergl\"}],\"scattermapbox\":[{\"marker\":{\"colorbar\":{\"outlinewidth\":0,\"ticks\":\"\"}},\"type\":\"scattermapbox\"}],\"scatterpolargl\":[{\"marker\":{\"colorbar\":{\"outlinewidth\":0,\"ticks\":\"\"}},\"type\":\"scatterpolargl\"}],\"scatterpolar\":[{\"marker\":{\"colorbar\":{\"outlinewidth\":0,\"ticks\":\"\"}},\"type\":\"scatterpolar\"}],\"scatter\":[{\"fillpattern\":{\"fillmode\":\"overlay\",\"size\":10,\"solidity\":0.2},\"type\":\"scatter\"}],\"scatterternary\":[{\"marker\":{\"colorbar\":{\"outlinewidth\":0,\"ticks\":\"\"}},\"type\":\"scatterternary\"}],\"surface\":[{\"colorbar\":{\"outlinewidth\":0,\"ticks\":\"\"},\"colorscale\":[[0.0,\"#0d0887\"],[0.1111111111111111,\"#46039f\"],[0.2222222222222222,\"#7201a8\"],[0.3333333333333333,\"#9c179e\"],[0.4444444444444444,\"#bd3786\"],[0.5555555555555556,\"#d8576b\"],[0.6666666666666666,\"#ed7953\"],[0.7777777777777778,\"#fb9f3a\"],[0.8888888888888888,\"#fdca26\"],[1.0,\"#f0f921\"]],\"type\":\"surface\"}],\"table\":[{\"cells\":{\"fill\":{\"color\":\"#EBF0F8\"},\"line\":{\"color\":\"white\"}},\"header\":{\"fill\":{\"color\":\"#C8D4E3\"},\"line\":{\"color\":\"white\"}},\"type\":\"table\"}]},\"layout\":{\"annotationdefaults\":{\"arrowcolor\":\"#2a3f5f\",\"arrowhead\":0,\"arrowwidth\":1},\"autotypenumbers\":\"strict\",\"coloraxis\":{\"colorbar\":{\"outlinewidth\":0,\"ticks\":\"\"}},\"colorscale\":{\"diverging\":[[0,\"#8e0152\"],[0.1,\"#c51b7d\"],[0.2,\"#de77ae\"],[0.3,\"#f1b6da\"],[0.4,\"#fde0ef\"],[0.5,\"#f7f7f7\"],[0.6,\"#e6f5d0\"],[0.7,\"#b8e186\"],[0.8,\"#7fbc41\"],[0.9,\"#4d9221\"],[1,\"#276419\"]],\"sequential\":[[0.0,\"#0d0887\"],[0.1111111111111111,\"#46039f\"],[0.2222222222222222,\"#7201a8\"],[0.3333333333333333,\"#9c179e\"],[0.4444444444444444,\"#bd3786\"],[0.5555555555555556,\"#d8576b\"],[0.6666666666666666,\"#ed7953\"],[0.7777777777777778,\"#fb9f3a\"],[0.8888888888888888,\"#fdca26\"],[1.0,\"#f0f921\"]],\"sequentialminus\":[[0.0,\"#0d0887\"],[0.1111111111111111,\"#46039f\"],[0.2222222222222222,\"#7201a8\"],[0.3333333333333333,\"#9c179e\"],[0.4444444444444444,\"#bd3786\"],[0.5555555555555556,\"#d8576b\"],[0.6666666666666666,\"#ed7953\"],[0.7777777777777778,\"#fb9f3a\"],[0.8888888888888888,\"#fdca26\"],[1.0,\"#f0f921\"]]},\"colorway\":[\"#636efa\",\"#EF553B\",\"#00cc96\",\"#ab63fa\",\"#FFA15A\",\"#19d3f3\",\"#FF6692\",\"#B6E880\",\"#FF97FF\",\"#FECB52\"],\"font\":{\"color\":\"#2a3f5f\"},\"geo\":{\"bgcolor\":\"white\",\"lakecolor\":\"white\",\"landcolor\":\"#E5ECF6\",\"showlakes\":true,\"showland\":true,\"subunitcolor\":\"white\"},\"hoverlabel\":{\"align\":\"left\"},\"hovermode\":\"closest\",\"mapbox\":{\"style\":\"light\"},\"paper_bgcolor\":\"white\",\"plot_bgcolor\":\"#E5ECF6\",\"polar\":{\"angularaxis\":{\"gridcolor\":\"white\",\"linecolor\":\"white\",\"ticks\":\"\"},\"bgcolor\":\"#E5ECF6\",\"radialaxis\":{\"gridcolor\":\"white\",\"linecolor\":\"white\",\"ticks\":\"\"}},\"scene\":{\"xaxis\":{\"backgroundcolor\":\"#E5ECF6\",\"gridcolor\":\"white\",\"gridwidth\":2,\"linecolor\":\"white\",\"showbackground\":true,\"ticks\":\"\",\"zerolinecolor\":\"white\"},\"yaxis\":{\"backgroundcolor\":\"#E5ECF6\",\"gridcolor\":\"white\",\"gridwidth\":2,\"linecolor\":\"white\",\"showbackground\":true,\"ticks\":\"\",\"zerolinecolor\":\"white\"},\"zaxis\":{\"backgroundcolor\":\"#E5ECF6\",\"gridcolor\":\"white\",\"gridwidth\":2,\"linecolor\":\"white\",\"showbackground\":true,\"ticks\":\"\",\"zerolinecolor\":\"white\"}},\"shapedefaults\":{\"line\":{\"color\":\"#2a3f5f\"}},\"ternary\":{\"aaxis\":{\"gridcolor\":\"white\",\"linecolor\":\"white\",\"ticks\":\"\"},\"baxis\":{\"gridcolor\":\"white\",\"linecolor\":\"white\",\"ticks\":\"\"},\"bgcolor\":\"#E5ECF6\",\"caxis\":{\"gridcolor\":\"white\",\"linecolor\":\"white\",\"ticks\":\"\"}},\"title\":{\"x\":0.05},\"xaxis\":{\"automargin\":true,\"gridcolor\":\"white\",\"linecolor\":\"white\",\"ticks\":\"\",\"title\":{\"standoff\":15},\"zerolinecolor\":\"white\",\"zerolinewidth\":2},\"yaxis\":{\"automargin\":true,\"gridcolor\":\"white\",\"linecolor\":\"white\",\"ticks\":\"\",\"title\":{\"standoff\":15},\"zerolinecolor\":\"white\",\"zerolinewidth\":2}}},\"title\":{\"font\":{\"color\":\"#4D5663\"}},\"xaxis\":{\"gridcolor\":\"#E1E5ED\",\"showgrid\":true,\"tickfont\":{\"color\":\"#4D5663\"},\"title\":{\"font\":{\"color\":\"#4D5663\"},\"text\":\"\"},\"zerolinecolor\":\"#E1E5ED\"},\"yaxis\":{\"gridcolor\":\"#E1E5ED\",\"showgrid\":true,\"tickfont\":{\"color\":\"#4D5663\"},\"title\":{\"font\":{\"color\":\"#4D5663\"},\"text\":\"\"},\"zerolinecolor\":\"#E1E5ED\"}},                        {\"showLink\": true, \"linkText\": \"Export to plot.ly\", \"plotlyServerURL\": \"https://plot.ly\", \"responsive\": true}                    ).then(function(){\n",
       "                            \n",
       "var gd = document.getElementById('3f9be333-582a-4639-9232-af2e24dd31ed');\n",
       "var x = new MutationObserver(function (mutations, observer) {{\n",
       "        var display = window.getComputedStyle(gd).display;\n",
       "        if (!display || display === 'none') {{\n",
       "            console.log([gd, 'removed!']);\n",
       "            Plotly.purge(gd);\n",
       "            observer.disconnect();\n",
       "        }}\n",
       "}});\n",
       "\n",
       "// Listen for the removal of the full notebook cells\n",
       "var notebookContainer = gd.closest('#notebook-container');\n",
       "if (notebookContainer) {{\n",
       "    x.observe(notebookContainer, {childList: true});\n",
       "}}\n",
       "\n",
       "// Listen for the clearing of the current output cell\n",
       "var outputEl = gd.closest('.output');\n",
       "if (outputEl) {{\n",
       "    x.observe(outputEl, {childList: true});\n",
       "}}\n",
       "\n",
       "                        })                };                });            </script>        </div>"
      ]
     },
     "metadata": {},
     "output_type": "display_data"
    }
   ],
   "source": [
    "#3d plots\n",
    "df3=pd.DataFrame({'x':[1,2,3,4,5],'y':[10,20,30,20,10],'z':[5,4,3,2,1]})\n",
    "df3.iplot(kind='surface',colorscale='rdylbu')"
   ]
  },
  {
   "cell_type": "code",
   "execution_count": 22,
   "id": "d36fd759",
   "metadata": {},
   "outputs": [
    {
     "data": {
      "application/vnd.plotly.v1+json": {
       "config": {
        "linkText": "Export to plot.ly",
        "plotlyServerURL": "https://plot.ly",
        "showLink": true
       },
       "data": [
        {
         "histfunc": "count",
         "histnorm": "",
         "marker": {
          "color": "rgba(255, 153, 51, 1.0)",
          "line": {
           "color": "#4D5663",
           "width": 1.3
          }
         },
         "name": "A",
         "nbinsx": 50,
         "opacity": 0.8,
         "orientation": "v",
         "type": "histogram",
         "x": [
          0.8144187353470765,
          0.06943968861889845,
          -0.6051177979947289,
          1.4200079041252598,
          -0.0947786780060265,
          0.4353422038499592,
          -0.867023819630172,
          0.22712243386141492,
          -1.5936932223573854,
          0.9241321743715584,
          1.0741759091264447,
          0.2642848602684432,
          0.23913383143078554,
          -0.5296200715161591,
          -0.04891670088749185,
          2.1634524071419787,
          0.07959748768622212,
          -0.07335152100529256,
          1.5679201630912711,
          0.053219499966360065,
          0.4377909275954798,
          -0.4108738189474997,
          -0.7190016400390153,
          0.3089019437067334,
          -0.26423764468661287,
          0.36404162684384966,
          1.8896605987378767,
          2.1064726673601473,
          -1.5133649684716444,
          0.009869769374126338,
          -2.235250524481225,
          -0.22337057601326998,
          0.8561588927857099,
          0.3856941145134942,
          -0.28496750706782986,
          0.048889224040245864,
          0.025062845777872163,
          -1.0042775436667823,
          0.004264310636040312,
          0.36646690572102514,
          0.8564286027355924,
          0.7887314088131345,
          -1.4777313939744903,
          -1.3166971416521733,
          -0.3208680303833144,
          -1.0198295242273419,
          0.3050677612939885,
          -0.8082594772684302,
          1.0571811122584296,
          -0.04330549718699945,
          0.8025279972795675,
          -1.0721022431178582,
          -1.72663719878505,
          0.0339265990132973,
          1.2082859061825684,
          0.000024056453408913362,
          0.15433331363831615,
          -0.16675365867183428,
          -0.4228428279887474,
          0.3122211018338927,
          0.6476593566228214,
          -0.7539537124490568,
          0.7782385509153177,
          -0.7731846360605293,
          -0.28562378587155934,
          -1.1657939985705077,
          -0.862042219934001,
          1.2110234354162455,
          0.8899036716432929,
          0.7919978324104415,
          -1.3310000935841564,
          0.7214732267316021,
          1.816489263931352,
          -0.7387856010538364,
          -1.0744705332323945,
          -0.7179108109427301,
          -0.297208515362758,
          -1.5286827136665169,
          0.6074091759350303,
          0.33771344384352486,
          1.259831207812005,
          0.7635495768552607,
          0.9597488173525972,
          1.014646551078339,
          2.7867484067169075,
          -2.52971826710298,
          -1.0213281238237273,
          0.8211913091724549,
          -1.0097182596065781,
          -0.43058400358984134,
          -1.3431455484801735,
          0.5474436942796898,
          0.2188722331836831,
          0.3741308838429427,
          0.051190565779324584,
          -0.15410944771311572,
          -2.1474278848315973,
          0.8510314976663124,
          1.0218206672961965,
          -1.1703526126312642
         ]
        }
       ],
       "layout": {
        "barmode": "overlay",
        "legend": {
         "bgcolor": "#F5F6F9",
         "font": {
          "color": "#4D5663"
         }
        },
        "paper_bgcolor": "#F5F6F9",
        "plot_bgcolor": "#F5F6F9",
        "template": {
         "data": {
          "bar": [
           {
            "error_x": {
             "color": "#2a3f5f"
            },
            "error_y": {
             "color": "#2a3f5f"
            },
            "marker": {
             "line": {
              "color": "#E5ECF6",
              "width": 0.5
             },
             "pattern": {
              "fillmode": "overlay",
              "size": 10,
              "solidity": 0.2
             }
            },
            "type": "bar"
           }
          ],
          "barpolar": [
           {
            "marker": {
             "line": {
              "color": "#E5ECF6",
              "width": 0.5
             },
             "pattern": {
              "fillmode": "overlay",
              "size": 10,
              "solidity": 0.2
             }
            },
            "type": "barpolar"
           }
          ],
          "carpet": [
           {
            "aaxis": {
             "endlinecolor": "#2a3f5f",
             "gridcolor": "white",
             "linecolor": "white",
             "minorgridcolor": "white",
             "startlinecolor": "#2a3f5f"
            },
            "baxis": {
             "endlinecolor": "#2a3f5f",
             "gridcolor": "white",
             "linecolor": "white",
             "minorgridcolor": "white",
             "startlinecolor": "#2a3f5f"
            },
            "type": "carpet"
           }
          ],
          "choropleth": [
           {
            "colorbar": {
             "outlinewidth": 0,
             "ticks": ""
            },
            "type": "choropleth"
           }
          ],
          "contour": [
           {
            "colorbar": {
             "outlinewidth": 0,
             "ticks": ""
            },
            "colorscale": [
             [
              0,
              "#0d0887"
             ],
             [
              0.1111111111111111,
              "#46039f"
             ],
             [
              0.2222222222222222,
              "#7201a8"
             ],
             [
              0.3333333333333333,
              "#9c179e"
             ],
             [
              0.4444444444444444,
              "#bd3786"
             ],
             [
              0.5555555555555556,
              "#d8576b"
             ],
             [
              0.6666666666666666,
              "#ed7953"
             ],
             [
              0.7777777777777778,
              "#fb9f3a"
             ],
             [
              0.8888888888888888,
              "#fdca26"
             ],
             [
              1,
              "#f0f921"
             ]
            ],
            "type": "contour"
           }
          ],
          "contourcarpet": [
           {
            "colorbar": {
             "outlinewidth": 0,
             "ticks": ""
            },
            "type": "contourcarpet"
           }
          ],
          "heatmap": [
           {
            "colorbar": {
             "outlinewidth": 0,
             "ticks": ""
            },
            "colorscale": [
             [
              0,
              "#0d0887"
             ],
             [
              0.1111111111111111,
              "#46039f"
             ],
             [
              0.2222222222222222,
              "#7201a8"
             ],
             [
              0.3333333333333333,
              "#9c179e"
             ],
             [
              0.4444444444444444,
              "#bd3786"
             ],
             [
              0.5555555555555556,
              "#d8576b"
             ],
             [
              0.6666666666666666,
              "#ed7953"
             ],
             [
              0.7777777777777778,
              "#fb9f3a"
             ],
             [
              0.8888888888888888,
              "#fdca26"
             ],
             [
              1,
              "#f0f921"
             ]
            ],
            "type": "heatmap"
           }
          ],
          "heatmapgl": [
           {
            "colorbar": {
             "outlinewidth": 0,
             "ticks": ""
            },
            "colorscale": [
             [
              0,
              "#0d0887"
             ],
             [
              0.1111111111111111,
              "#46039f"
             ],
             [
              0.2222222222222222,
              "#7201a8"
             ],
             [
              0.3333333333333333,
              "#9c179e"
             ],
             [
              0.4444444444444444,
              "#bd3786"
             ],
             [
              0.5555555555555556,
              "#d8576b"
             ],
             [
              0.6666666666666666,
              "#ed7953"
             ],
             [
              0.7777777777777778,
              "#fb9f3a"
             ],
             [
              0.8888888888888888,
              "#fdca26"
             ],
             [
              1,
              "#f0f921"
             ]
            ],
            "type": "heatmapgl"
           }
          ],
          "histogram": [
           {
            "marker": {
             "pattern": {
              "fillmode": "overlay",
              "size": 10,
              "solidity": 0.2
             }
            },
            "type": "histogram"
           }
          ],
          "histogram2d": [
           {
            "colorbar": {
             "outlinewidth": 0,
             "ticks": ""
            },
            "colorscale": [
             [
              0,
              "#0d0887"
             ],
             [
              0.1111111111111111,
              "#46039f"
             ],
             [
              0.2222222222222222,
              "#7201a8"
             ],
             [
              0.3333333333333333,
              "#9c179e"
             ],
             [
              0.4444444444444444,
              "#bd3786"
             ],
             [
              0.5555555555555556,
              "#d8576b"
             ],
             [
              0.6666666666666666,
              "#ed7953"
             ],
             [
              0.7777777777777778,
              "#fb9f3a"
             ],
             [
              0.8888888888888888,
              "#fdca26"
             ],
             [
              1,
              "#f0f921"
             ]
            ],
            "type": "histogram2d"
           }
          ],
          "histogram2dcontour": [
           {
            "colorbar": {
             "outlinewidth": 0,
             "ticks": ""
            },
            "colorscale": [
             [
              0,
              "#0d0887"
             ],
             [
              0.1111111111111111,
              "#46039f"
             ],
             [
              0.2222222222222222,
              "#7201a8"
             ],
             [
              0.3333333333333333,
              "#9c179e"
             ],
             [
              0.4444444444444444,
              "#bd3786"
             ],
             [
              0.5555555555555556,
              "#d8576b"
             ],
             [
              0.6666666666666666,
              "#ed7953"
             ],
             [
              0.7777777777777778,
              "#fb9f3a"
             ],
             [
              0.8888888888888888,
              "#fdca26"
             ],
             [
              1,
              "#f0f921"
             ]
            ],
            "type": "histogram2dcontour"
           }
          ],
          "mesh3d": [
           {
            "colorbar": {
             "outlinewidth": 0,
             "ticks": ""
            },
            "type": "mesh3d"
           }
          ],
          "parcoords": [
           {
            "line": {
             "colorbar": {
              "outlinewidth": 0,
              "ticks": ""
             }
            },
            "type": "parcoords"
           }
          ],
          "pie": [
           {
            "automargin": true,
            "type": "pie"
           }
          ],
          "scatter": [
           {
            "fillpattern": {
             "fillmode": "overlay",
             "size": 10,
             "solidity": 0.2
            },
            "type": "scatter"
           }
          ],
          "scatter3d": [
           {
            "line": {
             "colorbar": {
              "outlinewidth": 0,
              "ticks": ""
             }
            },
            "marker": {
             "colorbar": {
              "outlinewidth": 0,
              "ticks": ""
             }
            },
            "type": "scatter3d"
           }
          ],
          "scattercarpet": [
           {
            "marker": {
             "colorbar": {
              "outlinewidth": 0,
              "ticks": ""
             }
            },
            "type": "scattercarpet"
           }
          ],
          "scattergeo": [
           {
            "marker": {
             "colorbar": {
              "outlinewidth": 0,
              "ticks": ""
             }
            },
            "type": "scattergeo"
           }
          ],
          "scattergl": [
           {
            "marker": {
             "colorbar": {
              "outlinewidth": 0,
              "ticks": ""
             }
            },
            "type": "scattergl"
           }
          ],
          "scattermapbox": [
           {
            "marker": {
             "colorbar": {
              "outlinewidth": 0,
              "ticks": ""
             }
            },
            "type": "scattermapbox"
           }
          ],
          "scatterpolar": [
           {
            "marker": {
             "colorbar": {
              "outlinewidth": 0,
              "ticks": ""
             }
            },
            "type": "scatterpolar"
           }
          ],
          "scatterpolargl": [
           {
            "marker": {
             "colorbar": {
              "outlinewidth": 0,
              "ticks": ""
             }
            },
            "type": "scatterpolargl"
           }
          ],
          "scatterternary": [
           {
            "marker": {
             "colorbar": {
              "outlinewidth": 0,
              "ticks": ""
             }
            },
            "type": "scatterternary"
           }
          ],
          "surface": [
           {
            "colorbar": {
             "outlinewidth": 0,
             "ticks": ""
            },
            "colorscale": [
             [
              0,
              "#0d0887"
             ],
             [
              0.1111111111111111,
              "#46039f"
             ],
             [
              0.2222222222222222,
              "#7201a8"
             ],
             [
              0.3333333333333333,
              "#9c179e"
             ],
             [
              0.4444444444444444,
              "#bd3786"
             ],
             [
              0.5555555555555556,
              "#d8576b"
             ],
             [
              0.6666666666666666,
              "#ed7953"
             ],
             [
              0.7777777777777778,
              "#fb9f3a"
             ],
             [
              0.8888888888888888,
              "#fdca26"
             ],
             [
              1,
              "#f0f921"
             ]
            ],
            "type": "surface"
           }
          ],
          "table": [
           {
            "cells": {
             "fill": {
              "color": "#EBF0F8"
             },
             "line": {
              "color": "white"
             }
            },
            "header": {
             "fill": {
              "color": "#C8D4E3"
             },
             "line": {
              "color": "white"
             }
            },
            "type": "table"
           }
          ]
         },
         "layout": {
          "annotationdefaults": {
           "arrowcolor": "#2a3f5f",
           "arrowhead": 0,
           "arrowwidth": 1
          },
          "autotypenumbers": "strict",
          "coloraxis": {
           "colorbar": {
            "outlinewidth": 0,
            "ticks": ""
           }
          },
          "colorscale": {
           "diverging": [
            [
             0,
             "#8e0152"
            ],
            [
             0.1,
             "#c51b7d"
            ],
            [
             0.2,
             "#de77ae"
            ],
            [
             0.3,
             "#f1b6da"
            ],
            [
             0.4,
             "#fde0ef"
            ],
            [
             0.5,
             "#f7f7f7"
            ],
            [
             0.6,
             "#e6f5d0"
            ],
            [
             0.7,
             "#b8e186"
            ],
            [
             0.8,
             "#7fbc41"
            ],
            [
             0.9,
             "#4d9221"
            ],
            [
             1,
             "#276419"
            ]
           ],
           "sequential": [
            [
             0,
             "#0d0887"
            ],
            [
             0.1111111111111111,
             "#46039f"
            ],
            [
             0.2222222222222222,
             "#7201a8"
            ],
            [
             0.3333333333333333,
             "#9c179e"
            ],
            [
             0.4444444444444444,
             "#bd3786"
            ],
            [
             0.5555555555555556,
             "#d8576b"
            ],
            [
             0.6666666666666666,
             "#ed7953"
            ],
            [
             0.7777777777777778,
             "#fb9f3a"
            ],
            [
             0.8888888888888888,
             "#fdca26"
            ],
            [
             1,
             "#f0f921"
            ]
           ],
           "sequentialminus": [
            [
             0,
             "#0d0887"
            ],
            [
             0.1111111111111111,
             "#46039f"
            ],
            [
             0.2222222222222222,
             "#7201a8"
            ],
            [
             0.3333333333333333,
             "#9c179e"
            ],
            [
             0.4444444444444444,
             "#bd3786"
            ],
            [
             0.5555555555555556,
             "#d8576b"
            ],
            [
             0.6666666666666666,
             "#ed7953"
            ],
            [
             0.7777777777777778,
             "#fb9f3a"
            ],
            [
             0.8888888888888888,
             "#fdca26"
            ],
            [
             1,
             "#f0f921"
            ]
           ]
          },
          "colorway": [
           "#636efa",
           "#EF553B",
           "#00cc96",
           "#ab63fa",
           "#FFA15A",
           "#19d3f3",
           "#FF6692",
           "#B6E880",
           "#FF97FF",
           "#FECB52"
          ],
          "font": {
           "color": "#2a3f5f"
          },
          "geo": {
           "bgcolor": "white",
           "lakecolor": "white",
           "landcolor": "#E5ECF6",
           "showlakes": true,
           "showland": true,
           "subunitcolor": "white"
          },
          "hoverlabel": {
           "align": "left"
          },
          "hovermode": "closest",
          "mapbox": {
           "style": "light"
          },
          "paper_bgcolor": "white",
          "plot_bgcolor": "#E5ECF6",
          "polar": {
           "angularaxis": {
            "gridcolor": "white",
            "linecolor": "white",
            "ticks": ""
           },
           "bgcolor": "#E5ECF6",
           "radialaxis": {
            "gridcolor": "white",
            "linecolor": "white",
            "ticks": ""
           }
          },
          "scene": {
           "xaxis": {
            "backgroundcolor": "#E5ECF6",
            "gridcolor": "white",
            "gridwidth": 2,
            "linecolor": "white",
            "showbackground": true,
            "ticks": "",
            "zerolinecolor": "white"
           },
           "yaxis": {
            "backgroundcolor": "#E5ECF6",
            "gridcolor": "white",
            "gridwidth": 2,
            "linecolor": "white",
            "showbackground": true,
            "ticks": "",
            "zerolinecolor": "white"
           },
           "zaxis": {
            "backgroundcolor": "#E5ECF6",
            "gridcolor": "white",
            "gridwidth": 2,
            "linecolor": "white",
            "showbackground": true,
            "ticks": "",
            "zerolinecolor": "white"
           }
          },
          "shapedefaults": {
           "line": {
            "color": "#2a3f5f"
           }
          },
          "ternary": {
           "aaxis": {
            "gridcolor": "white",
            "linecolor": "white",
            "ticks": ""
           },
           "baxis": {
            "gridcolor": "white",
            "linecolor": "white",
            "ticks": ""
           },
           "bgcolor": "#E5ECF6",
           "caxis": {
            "gridcolor": "white",
            "linecolor": "white",
            "ticks": ""
           }
          },
          "title": {
           "x": 0.05
          },
          "xaxis": {
           "automargin": true,
           "gridcolor": "white",
           "linecolor": "white",
           "ticks": "",
           "title": {
            "standoff": 15
           },
           "zerolinecolor": "white",
           "zerolinewidth": 2
          },
          "yaxis": {
           "automargin": true,
           "gridcolor": "white",
           "linecolor": "white",
           "ticks": "",
           "title": {
            "standoff": 15
           },
           "zerolinecolor": "white",
           "zerolinewidth": 2
          }
         }
        },
        "title": {
         "font": {
          "color": "#4D5663"
         }
        },
        "xaxis": {
         "gridcolor": "#E1E5ED",
         "showgrid": true,
         "tickfont": {
          "color": "#4D5663"
         },
         "title": {
          "font": {
           "color": "#4D5663"
          },
          "text": ""
         },
         "zerolinecolor": "#E1E5ED"
        },
        "yaxis": {
         "gridcolor": "#E1E5ED",
         "showgrid": true,
         "tickfont": {
          "color": "#4D5663"
         },
         "title": {
          "font": {
           "color": "#4D5663"
          },
          "text": ""
         },
         "zerolinecolor": "#E1E5ED"
        }
       }
      },
      "text/html": [
       "<div>                            <div id=\"8d143e99-c139-4b5d-bdb2-0b372fb27a90\" class=\"plotly-graph-div\" style=\"height:525px; width:100%;\"></div>            <script type=\"text/javascript\">                require([\"plotly\"], function(Plotly) {                    window.PLOTLYENV=window.PLOTLYENV || {};\n",
       "                    window.PLOTLYENV.BASE_URL='https://plot.ly';                                    if (document.getElementById(\"8d143e99-c139-4b5d-bdb2-0b372fb27a90\")) {                    Plotly.newPlot(                        \"8d143e99-c139-4b5d-bdb2-0b372fb27a90\",                        [{\"histfunc\":\"count\",\"histnorm\":\"\",\"marker\":{\"color\":\"rgba(255, 153, 51, 1.0)\",\"line\":{\"color\":\"#4D5663\",\"width\":1.3}},\"name\":\"A\",\"nbinsx\":50,\"opacity\":0.8,\"orientation\":\"v\",\"x\":[0.8144187353470765,0.06943968861889845,-0.6051177979947289,1.4200079041252598,-0.0947786780060265,0.4353422038499592,-0.867023819630172,0.22712243386141492,-1.5936932223573854,0.9241321743715584,1.0741759091264447,0.2642848602684432,0.23913383143078554,-0.5296200715161591,-0.04891670088749185,2.1634524071419787,0.07959748768622212,-0.07335152100529256,1.5679201630912711,0.053219499966360065,0.4377909275954798,-0.4108738189474997,-0.7190016400390153,0.3089019437067334,-0.26423764468661287,0.36404162684384966,1.8896605987378767,2.1064726673601473,-1.5133649684716444,0.009869769374126338,-2.235250524481225,-0.22337057601326998,0.8561588927857099,0.3856941145134942,-0.28496750706782986,0.048889224040245864,0.025062845777872163,-1.0042775436667823,0.004264310636040312,0.36646690572102514,0.8564286027355924,0.7887314088131345,-1.4777313939744903,-1.3166971416521733,-0.3208680303833144,-1.0198295242273419,0.3050677612939885,-0.8082594772684302,1.0571811122584296,-0.04330549718699945,0.8025279972795675,-1.0721022431178582,-1.72663719878505,0.0339265990132973,1.2082859061825684,2.4056453408913362e-05,0.15433331363831615,-0.16675365867183428,-0.4228428279887474,0.3122211018338927,0.6476593566228214,-0.7539537124490568,0.7782385509153177,-0.7731846360605293,-0.28562378587155934,-1.1657939985705077,-0.862042219934001,1.2110234354162455,0.8899036716432929,0.7919978324104415,-1.3310000935841564,0.7214732267316021,1.816489263931352,-0.7387856010538364,-1.0744705332323945,-0.7179108109427301,-0.297208515362758,-1.5286827136665169,0.6074091759350303,0.33771344384352486,1.259831207812005,0.7635495768552607,0.9597488173525972,1.014646551078339,2.7867484067169075,-2.52971826710298,-1.0213281238237273,0.8211913091724549,-1.0097182596065781,-0.43058400358984134,-1.3431455484801735,0.5474436942796898,0.2188722331836831,0.3741308838429427,0.051190565779324584,-0.15410944771311572,-2.1474278848315973,0.8510314976663124,1.0218206672961965,-1.1703526126312642],\"type\":\"histogram\"}],                        {\"barmode\":\"overlay\",\"legend\":{\"bgcolor\":\"#F5F6F9\",\"font\":{\"color\":\"#4D5663\"}},\"paper_bgcolor\":\"#F5F6F9\",\"plot_bgcolor\":\"#F5F6F9\",\"template\":{\"data\":{\"barpolar\":[{\"marker\":{\"line\":{\"color\":\"#E5ECF6\",\"width\":0.5},\"pattern\":{\"fillmode\":\"overlay\",\"size\":10,\"solidity\":0.2}},\"type\":\"barpolar\"}],\"bar\":[{\"error_x\":{\"color\":\"#2a3f5f\"},\"error_y\":{\"color\":\"#2a3f5f\"},\"marker\":{\"line\":{\"color\":\"#E5ECF6\",\"width\":0.5},\"pattern\":{\"fillmode\":\"overlay\",\"size\":10,\"solidity\":0.2}},\"type\":\"bar\"}],\"carpet\":[{\"aaxis\":{\"endlinecolor\":\"#2a3f5f\",\"gridcolor\":\"white\",\"linecolor\":\"white\",\"minorgridcolor\":\"white\",\"startlinecolor\":\"#2a3f5f\"},\"baxis\":{\"endlinecolor\":\"#2a3f5f\",\"gridcolor\":\"white\",\"linecolor\":\"white\",\"minorgridcolor\":\"white\",\"startlinecolor\":\"#2a3f5f\"},\"type\":\"carpet\"}],\"choropleth\":[{\"colorbar\":{\"outlinewidth\":0,\"ticks\":\"\"},\"type\":\"choropleth\"}],\"contourcarpet\":[{\"colorbar\":{\"outlinewidth\":0,\"ticks\":\"\"},\"type\":\"contourcarpet\"}],\"contour\":[{\"colorbar\":{\"outlinewidth\":0,\"ticks\":\"\"},\"colorscale\":[[0.0,\"#0d0887\"],[0.1111111111111111,\"#46039f\"],[0.2222222222222222,\"#7201a8\"],[0.3333333333333333,\"#9c179e\"],[0.4444444444444444,\"#bd3786\"],[0.5555555555555556,\"#d8576b\"],[0.6666666666666666,\"#ed7953\"],[0.7777777777777778,\"#fb9f3a\"],[0.8888888888888888,\"#fdca26\"],[1.0,\"#f0f921\"]],\"type\":\"contour\"}],\"heatmapgl\":[{\"colorbar\":{\"outlinewidth\":0,\"ticks\":\"\"},\"colorscale\":[[0.0,\"#0d0887\"],[0.1111111111111111,\"#46039f\"],[0.2222222222222222,\"#7201a8\"],[0.3333333333333333,\"#9c179e\"],[0.4444444444444444,\"#bd3786\"],[0.5555555555555556,\"#d8576b\"],[0.6666666666666666,\"#ed7953\"],[0.7777777777777778,\"#fb9f3a\"],[0.8888888888888888,\"#fdca26\"],[1.0,\"#f0f921\"]],\"type\":\"heatmapgl\"}],\"heatmap\":[{\"colorbar\":{\"outlinewidth\":0,\"ticks\":\"\"},\"colorscale\":[[0.0,\"#0d0887\"],[0.1111111111111111,\"#46039f\"],[0.2222222222222222,\"#7201a8\"],[0.3333333333333333,\"#9c179e\"],[0.4444444444444444,\"#bd3786\"],[0.5555555555555556,\"#d8576b\"],[0.6666666666666666,\"#ed7953\"],[0.7777777777777778,\"#fb9f3a\"],[0.8888888888888888,\"#fdca26\"],[1.0,\"#f0f921\"]],\"type\":\"heatmap\"}],\"histogram2dcontour\":[{\"colorbar\":{\"outlinewidth\":0,\"ticks\":\"\"},\"colorscale\":[[0.0,\"#0d0887\"],[0.1111111111111111,\"#46039f\"],[0.2222222222222222,\"#7201a8\"],[0.3333333333333333,\"#9c179e\"],[0.4444444444444444,\"#bd3786\"],[0.5555555555555556,\"#d8576b\"],[0.6666666666666666,\"#ed7953\"],[0.7777777777777778,\"#fb9f3a\"],[0.8888888888888888,\"#fdca26\"],[1.0,\"#f0f921\"]],\"type\":\"histogram2dcontour\"}],\"histogram2d\":[{\"colorbar\":{\"outlinewidth\":0,\"ticks\":\"\"},\"colorscale\":[[0.0,\"#0d0887\"],[0.1111111111111111,\"#46039f\"],[0.2222222222222222,\"#7201a8\"],[0.3333333333333333,\"#9c179e\"],[0.4444444444444444,\"#bd3786\"],[0.5555555555555556,\"#d8576b\"],[0.6666666666666666,\"#ed7953\"],[0.7777777777777778,\"#fb9f3a\"],[0.8888888888888888,\"#fdca26\"],[1.0,\"#f0f921\"]],\"type\":\"histogram2d\"}],\"histogram\":[{\"marker\":{\"pattern\":{\"fillmode\":\"overlay\",\"size\":10,\"solidity\":0.2}},\"type\":\"histogram\"}],\"mesh3d\":[{\"colorbar\":{\"outlinewidth\":0,\"ticks\":\"\"},\"type\":\"mesh3d\"}],\"parcoords\":[{\"line\":{\"colorbar\":{\"outlinewidth\":0,\"ticks\":\"\"}},\"type\":\"parcoords\"}],\"pie\":[{\"automargin\":true,\"type\":\"pie\"}],\"scatter3d\":[{\"line\":{\"colorbar\":{\"outlinewidth\":0,\"ticks\":\"\"}},\"marker\":{\"colorbar\":{\"outlinewidth\":0,\"ticks\":\"\"}},\"type\":\"scatter3d\"}],\"scattercarpet\":[{\"marker\":{\"colorbar\":{\"outlinewidth\":0,\"ticks\":\"\"}},\"type\":\"scattercarpet\"}],\"scattergeo\":[{\"marker\":{\"colorbar\":{\"outlinewidth\":0,\"ticks\":\"\"}},\"type\":\"scattergeo\"}],\"scattergl\":[{\"marker\":{\"colorbar\":{\"outlinewidth\":0,\"ticks\":\"\"}},\"type\":\"scattergl\"}],\"scattermapbox\":[{\"marker\":{\"colorbar\":{\"outlinewidth\":0,\"ticks\":\"\"}},\"type\":\"scattermapbox\"}],\"scatterpolargl\":[{\"marker\":{\"colorbar\":{\"outlinewidth\":0,\"ticks\":\"\"}},\"type\":\"scatterpolargl\"}],\"scatterpolar\":[{\"marker\":{\"colorbar\":{\"outlinewidth\":0,\"ticks\":\"\"}},\"type\":\"scatterpolar\"}],\"scatter\":[{\"fillpattern\":{\"fillmode\":\"overlay\",\"size\":10,\"solidity\":0.2},\"type\":\"scatter\"}],\"scatterternary\":[{\"marker\":{\"colorbar\":{\"outlinewidth\":0,\"ticks\":\"\"}},\"type\":\"scatterternary\"}],\"surface\":[{\"colorbar\":{\"outlinewidth\":0,\"ticks\":\"\"},\"colorscale\":[[0.0,\"#0d0887\"],[0.1111111111111111,\"#46039f\"],[0.2222222222222222,\"#7201a8\"],[0.3333333333333333,\"#9c179e\"],[0.4444444444444444,\"#bd3786\"],[0.5555555555555556,\"#d8576b\"],[0.6666666666666666,\"#ed7953\"],[0.7777777777777778,\"#fb9f3a\"],[0.8888888888888888,\"#fdca26\"],[1.0,\"#f0f921\"]],\"type\":\"surface\"}],\"table\":[{\"cells\":{\"fill\":{\"color\":\"#EBF0F8\"},\"line\":{\"color\":\"white\"}},\"header\":{\"fill\":{\"color\":\"#C8D4E3\"},\"line\":{\"color\":\"white\"}},\"type\":\"table\"}]},\"layout\":{\"annotationdefaults\":{\"arrowcolor\":\"#2a3f5f\",\"arrowhead\":0,\"arrowwidth\":1},\"autotypenumbers\":\"strict\",\"coloraxis\":{\"colorbar\":{\"outlinewidth\":0,\"ticks\":\"\"}},\"colorscale\":{\"diverging\":[[0,\"#8e0152\"],[0.1,\"#c51b7d\"],[0.2,\"#de77ae\"],[0.3,\"#f1b6da\"],[0.4,\"#fde0ef\"],[0.5,\"#f7f7f7\"],[0.6,\"#e6f5d0\"],[0.7,\"#b8e186\"],[0.8,\"#7fbc41\"],[0.9,\"#4d9221\"],[1,\"#276419\"]],\"sequential\":[[0.0,\"#0d0887\"],[0.1111111111111111,\"#46039f\"],[0.2222222222222222,\"#7201a8\"],[0.3333333333333333,\"#9c179e\"],[0.4444444444444444,\"#bd3786\"],[0.5555555555555556,\"#d8576b\"],[0.6666666666666666,\"#ed7953\"],[0.7777777777777778,\"#fb9f3a\"],[0.8888888888888888,\"#fdca26\"],[1.0,\"#f0f921\"]],\"sequentialminus\":[[0.0,\"#0d0887\"],[0.1111111111111111,\"#46039f\"],[0.2222222222222222,\"#7201a8\"],[0.3333333333333333,\"#9c179e\"],[0.4444444444444444,\"#bd3786\"],[0.5555555555555556,\"#d8576b\"],[0.6666666666666666,\"#ed7953\"],[0.7777777777777778,\"#fb9f3a\"],[0.8888888888888888,\"#fdca26\"],[1.0,\"#f0f921\"]]},\"colorway\":[\"#636efa\",\"#EF553B\",\"#00cc96\",\"#ab63fa\",\"#FFA15A\",\"#19d3f3\",\"#FF6692\",\"#B6E880\",\"#FF97FF\",\"#FECB52\"],\"font\":{\"color\":\"#2a3f5f\"},\"geo\":{\"bgcolor\":\"white\",\"lakecolor\":\"white\",\"landcolor\":\"#E5ECF6\",\"showlakes\":true,\"showland\":true,\"subunitcolor\":\"white\"},\"hoverlabel\":{\"align\":\"left\"},\"hovermode\":\"closest\",\"mapbox\":{\"style\":\"light\"},\"paper_bgcolor\":\"white\",\"plot_bgcolor\":\"#E5ECF6\",\"polar\":{\"angularaxis\":{\"gridcolor\":\"white\",\"linecolor\":\"white\",\"ticks\":\"\"},\"bgcolor\":\"#E5ECF6\",\"radialaxis\":{\"gridcolor\":\"white\",\"linecolor\":\"white\",\"ticks\":\"\"}},\"scene\":{\"xaxis\":{\"backgroundcolor\":\"#E5ECF6\",\"gridcolor\":\"white\",\"gridwidth\":2,\"linecolor\":\"white\",\"showbackground\":true,\"ticks\":\"\",\"zerolinecolor\":\"white\"},\"yaxis\":{\"backgroundcolor\":\"#E5ECF6\",\"gridcolor\":\"white\",\"gridwidth\":2,\"linecolor\":\"white\",\"showbackground\":true,\"ticks\":\"\",\"zerolinecolor\":\"white\"},\"zaxis\":{\"backgroundcolor\":\"#E5ECF6\",\"gridcolor\":\"white\",\"gridwidth\":2,\"linecolor\":\"white\",\"showbackground\":true,\"ticks\":\"\",\"zerolinecolor\":\"white\"}},\"shapedefaults\":{\"line\":{\"color\":\"#2a3f5f\"}},\"ternary\":{\"aaxis\":{\"gridcolor\":\"white\",\"linecolor\":\"white\",\"ticks\":\"\"},\"baxis\":{\"gridcolor\":\"white\",\"linecolor\":\"white\",\"ticks\":\"\"},\"bgcolor\":\"#E5ECF6\",\"caxis\":{\"gridcolor\":\"white\",\"linecolor\":\"white\",\"ticks\":\"\"}},\"title\":{\"x\":0.05},\"xaxis\":{\"automargin\":true,\"gridcolor\":\"white\",\"linecolor\":\"white\",\"ticks\":\"\",\"title\":{\"standoff\":15},\"zerolinecolor\":\"white\",\"zerolinewidth\":2},\"yaxis\":{\"automargin\":true,\"gridcolor\":\"white\",\"linecolor\":\"white\",\"ticks\":\"\",\"title\":{\"standoff\":15},\"zerolinecolor\":\"white\",\"zerolinewidth\":2}}},\"title\":{\"font\":{\"color\":\"#4D5663\"}},\"xaxis\":{\"gridcolor\":\"#E1E5ED\",\"showgrid\":true,\"tickfont\":{\"color\":\"#4D5663\"},\"title\":{\"font\":{\"color\":\"#4D5663\"},\"text\":\"\"},\"zerolinecolor\":\"#E1E5ED\"},\"yaxis\":{\"gridcolor\":\"#E1E5ED\",\"showgrid\":true,\"tickfont\":{\"color\":\"#4D5663\"},\"title\":{\"font\":{\"color\":\"#4D5663\"},\"text\":\"\"},\"zerolinecolor\":\"#E1E5ED\"}},                        {\"showLink\": true, \"linkText\": \"Export to plot.ly\", \"plotlyServerURL\": \"https://plot.ly\", \"responsive\": true}                    ).then(function(){\n",
       "                            \n",
       "var gd = document.getElementById('8d143e99-c139-4b5d-bdb2-0b372fb27a90');\n",
       "var x = new MutationObserver(function (mutations, observer) {{\n",
       "        var display = window.getComputedStyle(gd).display;\n",
       "        if (!display || display === 'none') {{\n",
       "            console.log([gd, 'removed!']);\n",
       "            Plotly.purge(gd);\n",
       "            observer.disconnect();\n",
       "        }}\n",
       "}});\n",
       "\n",
       "// Listen for the removal of the full notebook cells\n",
       "var notebookContainer = gd.closest('#notebook-container');\n",
       "if (notebookContainer) {{\n",
       "    x.observe(notebookContainer, {childList: true});\n",
       "}}\n",
       "\n",
       "// Listen for the clearing of the current output cell\n",
       "var outputEl = gd.closest('.output');\n",
       "if (outputEl) {{\n",
       "    x.observe(outputEl, {childList: true});\n",
       "}}\n",
       "\n",
       "                        })                };                });            </script>        </div>"
      ]
     },
     "metadata": {},
     "output_type": "display_data"
    }
   ],
   "source": [
    "df['A'].iplot(kind='hist',bins=50)"
   ]
  },
  {
   "cell_type": "code",
   "execution_count": 24,
   "id": "b8b61a1d",
   "metadata": {},
   "outputs": [
    {
     "name": "stderr",
     "output_type": "stream",
     "text": [
      "c:\\Users\\PC\\AppData\\Local\\Programs\\Python\\Python311\\Lib\\site-packages\\cufflinks\\plotlytools.py:849: FutureWarning:\n",
      "\n",
      "The pandas.np module is deprecated and will be removed from pandas in a future version. Import numpy directly instead.\n",
      "\n",
      "c:\\Users\\PC\\AppData\\Local\\Programs\\Python\\Python311\\Lib\\site-packages\\cufflinks\\plotlytools.py:850: FutureWarning:\n",
      "\n",
      "The pandas.np module is deprecated and will be removed from pandas in a future version. Import numpy directly instead.\n",
      "\n"
     ]
    },
    {
     "data": {
      "application/vnd.plotly.v1+json": {
       "config": {
        "linkText": "Export to plot.ly",
        "plotlyServerURL": "https://plot.ly",
        "showLink": true
       },
       "data": [
        {
         "line": {
          "color": "rgba(255, 153, 51, 1.0)",
          "dash": "solid",
          "shape": "linear",
          "width": 1.3
         },
         "mode": "lines",
         "name": "A",
         "text": "",
         "type": "scatter",
         "x": [
          0,
          1,
          2,
          3,
          4,
          5,
          6,
          7,
          8,
          9,
          10,
          11,
          12,
          13,
          14,
          15,
          16,
          17,
          18,
          19,
          20,
          21,
          22,
          23,
          24,
          25,
          26,
          27,
          28,
          29,
          30,
          31,
          32,
          33,
          34,
          35,
          36,
          37,
          38,
          39,
          40,
          41,
          42,
          43,
          44,
          45,
          46,
          47,
          48,
          49,
          50,
          51,
          52,
          53,
          54,
          55,
          56,
          57,
          58,
          59,
          60,
          61,
          62,
          63,
          64,
          65,
          66,
          67,
          68,
          69,
          70,
          71,
          72,
          73,
          74,
          75,
          76,
          77,
          78,
          79,
          80,
          81,
          82,
          83,
          84,
          85,
          86,
          87,
          88,
          89,
          90,
          91,
          92,
          93,
          94,
          95,
          96,
          97,
          98,
          99
         ],
         "y": [
          0.8144187353470765,
          0.06943968861889845,
          -0.6051177979947289,
          1.4200079041252598,
          -0.0947786780060265,
          0.4353422038499592,
          -0.867023819630172,
          0.22712243386141492,
          -1.5936932223573854,
          0.9241321743715584,
          1.0741759091264447,
          0.2642848602684432,
          0.23913383143078554,
          -0.5296200715161591,
          -0.04891670088749185,
          2.1634524071419787,
          0.07959748768622212,
          -0.07335152100529256,
          1.5679201630912711,
          0.053219499966360065,
          0.4377909275954798,
          -0.4108738189474997,
          -0.7190016400390153,
          0.3089019437067334,
          -0.26423764468661287,
          0.36404162684384966,
          1.8896605987378767,
          2.1064726673601473,
          -1.5133649684716444,
          0.009869769374126338,
          -2.235250524481225,
          -0.22337057601326998,
          0.8561588927857099,
          0.3856941145134942,
          -0.28496750706782986,
          0.048889224040245864,
          0.025062845777872163,
          -1.0042775436667823,
          0.004264310636040312,
          0.36646690572102514,
          0.8564286027355924,
          0.7887314088131345,
          -1.4777313939744903,
          -1.3166971416521733,
          -0.3208680303833144,
          -1.0198295242273419,
          0.3050677612939885,
          -0.8082594772684302,
          1.0571811122584296,
          -0.04330549718699945,
          0.8025279972795675,
          -1.0721022431178582,
          -1.72663719878505,
          0.0339265990132973,
          1.2082859061825684,
          0.000024056453408913362,
          0.15433331363831615,
          -0.16675365867183428,
          -0.4228428279887474,
          0.3122211018338927,
          0.6476593566228214,
          -0.7539537124490568,
          0.7782385509153177,
          -0.7731846360605293,
          -0.28562378587155934,
          -1.1657939985705077,
          -0.862042219934001,
          1.2110234354162455,
          0.8899036716432929,
          0.7919978324104415,
          -1.3310000935841564,
          0.7214732267316021,
          1.816489263931352,
          -0.7387856010538364,
          -1.0744705332323945,
          -0.7179108109427301,
          -0.297208515362758,
          -1.5286827136665169,
          0.6074091759350303,
          0.33771344384352486,
          1.259831207812005,
          0.7635495768552607,
          0.9597488173525972,
          1.014646551078339,
          2.7867484067169075,
          -2.52971826710298,
          -1.0213281238237273,
          0.8211913091724549,
          -1.0097182596065781,
          -0.43058400358984134,
          -1.3431455484801735,
          0.5474436942796898,
          0.2188722331836831,
          0.3741308838429427,
          0.051190565779324584,
          -0.15410944771311572,
          -2.1474278848315973,
          0.8510314976663124,
          1.0218206672961965,
          -1.1703526126312642
         ]
        },
        {
         "line": {
          "color": "rgba(55, 128, 191, 1.0)",
          "dash": "solid",
          "shape": "linear",
          "width": 1.3
         },
         "mode": "lines",
         "name": "B",
         "text": "",
         "type": "scatter",
         "x": [
          0,
          1,
          2,
          3,
          4,
          5,
          6,
          7,
          8,
          9,
          10,
          11,
          12,
          13,
          14,
          15,
          16,
          17,
          18,
          19,
          20,
          21,
          22,
          23,
          24,
          25,
          26,
          27,
          28,
          29,
          30,
          31,
          32,
          33,
          34,
          35,
          36,
          37,
          38,
          39,
          40,
          41,
          42,
          43,
          44,
          45,
          46,
          47,
          48,
          49,
          50,
          51,
          52,
          53,
          54,
          55,
          56,
          57,
          58,
          59,
          60,
          61,
          62,
          63,
          64,
          65,
          66,
          67,
          68,
          69,
          70,
          71,
          72,
          73,
          74,
          75,
          76,
          77,
          78,
          79,
          80,
          81,
          82,
          83,
          84,
          85,
          86,
          87,
          88,
          89,
          90,
          91,
          92,
          93,
          94,
          95,
          96,
          97,
          98,
          99
         ],
         "y": [
          1.182835259237497,
          -0.8975732145797927,
          0.5220275195709047,
          0.16526936777424775,
          0.8221463234629366,
          0.09561960691624612,
          0.7154934197202248,
          -0.7239419506948116,
          -1.6183004239710814,
          -0.5805208012812353,
          -0.2231518507637324,
          0.5809954447566315,
          0.7896657634190364,
          0.09859341287168244,
          1.01181077086917,
          1.2801686263217356,
          0.006802514892934026,
          0.749579462162761,
          1.0226976632439386,
          1.6113010155683734,
          -1.7506865128832618,
          0.5026636946768042,
          -2.4396447316668235,
          -0.9043217468103396,
          -0.5452287632889667,
          -1.6417557829174791,
          0.28369201260159543,
          0.05773592079350799,
          -0.10589216598255646,
          0.972409774305762,
          1.121115719140552,
          0.1888647630515083,
          1.1899209062449612,
          -0.5388108014040269,
          -0.868672535059343,
          0.9492871720305138,
          -1.062542675070697,
          1.7106588413411308,
          1.1044216631680823,
          -0.6928660691112118,
          -0.46731344859800633,
          -0.30426022660944946,
          1.2709380589317472,
          -2.6227128294051414,
          0.6296655254120602,
          0.4300620265521417,
          -0.6480888131663791,
          -1.438046558452693,
          -0.402555960745747,
          -2.29535392221176,
          -0.11827288604262658,
          -1.0221151216646072,
          1.281883419834949,
          -0.9207405377108133,
          -1.9270739466753486,
          0.6676074238160519,
          0.11366910445242777,
          -1.1706213115879172,
          -0.11760123847185962,
          0.3172164900409643,
          -0.6643484679944766,
          -1.512156820047486,
          -0.8162683653806203,
          1.5348972081867693,
          2.0839592977231662,
          -0.7358936086844449,
          -1.0497042264481218,
          0.44282965790962225,
          -0.3802702424432359,
          1.5832824629988664,
          0.2679297436872706,
          -2.0234957168473806,
          0.9667018570206107,
          0.8001169737148024,
          -0.42758278331913757,
          -0.9907477622080939,
          -0.6126108190402878,
          0.712290384429327,
          -1.005642475286215,
          -1.9782557774705911,
          0.9211827602892596,
          -1.3697132180465084,
          -0.8415705327052733,
          2.7174073081230024,
          -1.4140618599490045,
          0.6633224069552077,
          0.41129032261369175,
          -0.6480931619950667,
          -0.13443803548642455,
          1.0374495373632742,
          0.5593281556573985,
          -1.6662162894285633,
          0.671438208173271,
          -0.08855620096733283,
          -0.7706300723442125,
          -0.12289390281624057,
          -0.1569283401959346,
          2.4871475021674456,
          0.6363121492402903,
          -0.5900043050544014
         ]
        },
        {
         "connectgaps": false,
         "fill": "tozeroy",
         "line": {
          "color": "green",
          "dash": "solid",
          "shape": "linear",
          "width": 0.5
         },
         "mode": "lines",
         "name": "Spread",
         "showlegend": false,
         "type": "scatter",
         "x": [
          0,
          1,
          2,
          3,
          4,
          5,
          6,
          7,
          8,
          9,
          10,
          11,
          12,
          13,
          14,
          15,
          16,
          17,
          18,
          19,
          20,
          21,
          22,
          23,
          24,
          25,
          26,
          27,
          28,
          29,
          30,
          31,
          32,
          33,
          34,
          35,
          36,
          37,
          38,
          39,
          40,
          41,
          42,
          43,
          44,
          45,
          46,
          47,
          48,
          49,
          50,
          51,
          52,
          53,
          54,
          55,
          56,
          57,
          58,
          59,
          60,
          61,
          62,
          63,
          64,
          65,
          66,
          67,
          68,
          69,
          70,
          71,
          72,
          73,
          74,
          75,
          76,
          77,
          78,
          79,
          80,
          81,
          82,
          83,
          84,
          85,
          86,
          87,
          88,
          89,
          90,
          91,
          92,
          93,
          94,
          95,
          96,
          97,
          98,
          99
         ],
         "xaxis": "x2",
         "y": [
          "",
          0.9670129031986912,
          "",
          1.254738536351012,
          "",
          0.3397225969337131,
          "",
          0.9510643845562265,
          0.024607201613696006,
          1.5046529756527938,
          1.2973277598901771,
          "",
          "",
          "",
          "",
          0.8832837808202432,
          0.07279497279328809,
          "",
          0.5452224998473325,
          "",
          2.1884774404787417,
          "",
          1.7206430916278082,
          1.213223690517073,
          0.2809911186023539,
          2.0057974097613287,
          1.6059685861362814,
          2.048736746566639,
          "",
          "",
          "",
          "",
          "",
          0.9245049159175212,
          0.5837050279915132,
          "",
          1.087605520848569,
          "",
          "",
          1.059332974832237,
          1.3237420513335987,
          1.092991635422584,
          "",
          1.306015687752968,
          "",
          "",
          0.9531565744603676,
          0.6297870811842627,
          1.4597370730041765,
          2.2520484250247605,
          0.920800883322194,
          "",
          "",
          0.9546671367241106,
          3.135359852857917,
          "",
          0.04066420918588838,
          1.0038676529160828,
          "",
          "",
          1.312007824617298,
          0.7582031075984291,
          1.594506916295938,
          "",
          "",
          "",
          0.1876620065141208,
          0.7681937775066232,
          1.2701739140865287,
          "",
          "",
          2.7449689435789826,
          0.8497874069107412,
          "",
          "",
          0.2728369512653638,
          0.3154023036775298,
          "",
          1.6130516512212454,
          2.315969221314116,
          0.3386484475227455,
          2.133262794901769,
          1.8013193500578706,
          "",
          4.200810266665912,
          "",
          "",
          1.4692844711675215,
          "",
          "",
          "",
          2.213659983708253,
          "",
          0.46268708481027554,
          0.8218206381235371,
          "",
          "",
          "",
          0.38550851805590614,
          ""
         ],
         "yaxis": "y2"
        },
        {
         "connectgaps": false,
         "fill": "tozeroy",
         "line": {
          "color": "red",
          "dash": "solid",
          "shape": "linear",
          "width": 0.5
         },
         "mode": "lines",
         "name": "Spread",
         "showlegend": false,
         "type": "scatter",
         "x": [
          0,
          1,
          2,
          3,
          4,
          5,
          6,
          7,
          8,
          9,
          10,
          11,
          12,
          13,
          14,
          15,
          16,
          17,
          18,
          19,
          20,
          21,
          22,
          23,
          24,
          25,
          26,
          27,
          28,
          29,
          30,
          31,
          32,
          33,
          34,
          35,
          36,
          37,
          38,
          39,
          40,
          41,
          42,
          43,
          44,
          45,
          46,
          47,
          48,
          49,
          50,
          51,
          52,
          53,
          54,
          55,
          56,
          57,
          58,
          59,
          60,
          61,
          62,
          63,
          64,
          65,
          66,
          67,
          68,
          69,
          70,
          71,
          72,
          73,
          74,
          75,
          76,
          77,
          78,
          79,
          80,
          81,
          82,
          83,
          84,
          85,
          86,
          87,
          88,
          89,
          90,
          91,
          92,
          93,
          94,
          95,
          96,
          97,
          98,
          99
         ],
         "xaxis": "x2",
         "y": [
          -0.36841652389042057,
          "",
          -1.1271453175656334,
          "",
          -0.916925001468963,
          "",
          -1.582517239350397,
          "",
          "",
          "",
          "",
          -0.31671058448818823,
          -0.5505319319882509,
          -0.6282134843878415,
          -1.0607274717566617,
          "",
          "",
          -0.8229309831680535,
          "",
          -1.5580815156020134,
          "",
          -0.9135375136243038,
          "",
          "",
          "",
          "",
          "",
          "",
          -1.407472802489088,
          -0.9625400049316357,
          -3.356366243621777,
          -0.4122353390647783,
          -0.33376201345925127,
          "",
          "",
          -0.900397947990268,
          "",
          -2.7149363850079133,
          -1.100157352532042,
          "",
          "",
          "",
          -2.7486694529062374,
          "",
          -0.9505335557953747,
          -1.4498915507794836,
          "",
          "",
          "",
          "",
          "",
          -0.049987121453251016,
          -3.0085206186199986,
          "",
          "",
          -0.667583367362643,
          "",
          "",
          -0.3052415895168878,
          -0.004995388207071627,
          "",
          "",
          "",
          -2.308081844247299,
          -2.3695830835947254,
          -0.42990038988606283,
          "",
          "",
          "",
          -0.7912846305884249,
          -1.598929837271427,
          "",
          "",
          -1.5389025747686387,
          -0.6468877499132569,
          "",
          "",
          -2.2409730980958438,
          "",
          "",
          "",
          "",
          "",
          -1.7027607570446635,
          "",
          -3.193040674058188,
          -1.432618446437419,
          "",
          -0.8752802241201536,
          -1.4680335409531156,
          -1.9024737041375719,
          "",
          -0.45256597498958795,
          "",
          "",
          -0.03121554489687514,
          -1.9904995446356626,
          -1.6361160045011331,
          "",
          -0.5803483075768628
         ],
         "yaxis": "y2"
        }
       ],
       "layout": {
        "hovermode": "x",
        "legend": {
         "bgcolor": "#F5F6F9",
         "font": {
          "color": "#4D5663"
         }
        },
        "paper_bgcolor": "#F5F6F9",
        "plot_bgcolor": "#F5F6F9",
        "template": {
         "data": {
          "bar": [
           {
            "error_x": {
             "color": "#2a3f5f"
            },
            "error_y": {
             "color": "#2a3f5f"
            },
            "marker": {
             "line": {
              "color": "#E5ECF6",
              "width": 0.5
             },
             "pattern": {
              "fillmode": "overlay",
              "size": 10,
              "solidity": 0.2
             }
            },
            "type": "bar"
           }
          ],
          "barpolar": [
           {
            "marker": {
             "line": {
              "color": "#E5ECF6",
              "width": 0.5
             },
             "pattern": {
              "fillmode": "overlay",
              "size": 10,
              "solidity": 0.2
             }
            },
            "type": "barpolar"
           }
          ],
          "carpet": [
           {
            "aaxis": {
             "endlinecolor": "#2a3f5f",
             "gridcolor": "white",
             "linecolor": "white",
             "minorgridcolor": "white",
             "startlinecolor": "#2a3f5f"
            },
            "baxis": {
             "endlinecolor": "#2a3f5f",
             "gridcolor": "white",
             "linecolor": "white",
             "minorgridcolor": "white",
             "startlinecolor": "#2a3f5f"
            },
            "type": "carpet"
           }
          ],
          "choropleth": [
           {
            "colorbar": {
             "outlinewidth": 0,
             "ticks": ""
            },
            "type": "choropleth"
           }
          ],
          "contour": [
           {
            "colorbar": {
             "outlinewidth": 0,
             "ticks": ""
            },
            "colorscale": [
             [
              0,
              "#0d0887"
             ],
             [
              0.1111111111111111,
              "#46039f"
             ],
             [
              0.2222222222222222,
              "#7201a8"
             ],
             [
              0.3333333333333333,
              "#9c179e"
             ],
             [
              0.4444444444444444,
              "#bd3786"
             ],
             [
              0.5555555555555556,
              "#d8576b"
             ],
             [
              0.6666666666666666,
              "#ed7953"
             ],
             [
              0.7777777777777778,
              "#fb9f3a"
             ],
             [
              0.8888888888888888,
              "#fdca26"
             ],
             [
              1,
              "#f0f921"
             ]
            ],
            "type": "contour"
           }
          ],
          "contourcarpet": [
           {
            "colorbar": {
             "outlinewidth": 0,
             "ticks": ""
            },
            "type": "contourcarpet"
           }
          ],
          "heatmap": [
           {
            "colorbar": {
             "outlinewidth": 0,
             "ticks": ""
            },
            "colorscale": [
             [
              0,
              "#0d0887"
             ],
             [
              0.1111111111111111,
              "#46039f"
             ],
             [
              0.2222222222222222,
              "#7201a8"
             ],
             [
              0.3333333333333333,
              "#9c179e"
             ],
             [
              0.4444444444444444,
              "#bd3786"
             ],
             [
              0.5555555555555556,
              "#d8576b"
             ],
             [
              0.6666666666666666,
              "#ed7953"
             ],
             [
              0.7777777777777778,
              "#fb9f3a"
             ],
             [
              0.8888888888888888,
              "#fdca26"
             ],
             [
              1,
              "#f0f921"
             ]
            ],
            "type": "heatmap"
           }
          ],
          "heatmapgl": [
           {
            "colorbar": {
             "outlinewidth": 0,
             "ticks": ""
            },
            "colorscale": [
             [
              0,
              "#0d0887"
             ],
             [
              0.1111111111111111,
              "#46039f"
             ],
             [
              0.2222222222222222,
              "#7201a8"
             ],
             [
              0.3333333333333333,
              "#9c179e"
             ],
             [
              0.4444444444444444,
              "#bd3786"
             ],
             [
              0.5555555555555556,
              "#d8576b"
             ],
             [
              0.6666666666666666,
              "#ed7953"
             ],
             [
              0.7777777777777778,
              "#fb9f3a"
             ],
             [
              0.8888888888888888,
              "#fdca26"
             ],
             [
              1,
              "#f0f921"
             ]
            ],
            "type": "heatmapgl"
           }
          ],
          "histogram": [
           {
            "marker": {
             "pattern": {
              "fillmode": "overlay",
              "size": 10,
              "solidity": 0.2
             }
            },
            "type": "histogram"
           }
          ],
          "histogram2d": [
           {
            "colorbar": {
             "outlinewidth": 0,
             "ticks": ""
            },
            "colorscale": [
             [
              0,
              "#0d0887"
             ],
             [
              0.1111111111111111,
              "#46039f"
             ],
             [
              0.2222222222222222,
              "#7201a8"
             ],
             [
              0.3333333333333333,
              "#9c179e"
             ],
             [
              0.4444444444444444,
              "#bd3786"
             ],
             [
              0.5555555555555556,
              "#d8576b"
             ],
             [
              0.6666666666666666,
              "#ed7953"
             ],
             [
              0.7777777777777778,
              "#fb9f3a"
             ],
             [
              0.8888888888888888,
              "#fdca26"
             ],
             [
              1,
              "#f0f921"
             ]
            ],
            "type": "histogram2d"
           }
          ],
          "histogram2dcontour": [
           {
            "colorbar": {
             "outlinewidth": 0,
             "ticks": ""
            },
            "colorscale": [
             [
              0,
              "#0d0887"
             ],
             [
              0.1111111111111111,
              "#46039f"
             ],
             [
              0.2222222222222222,
              "#7201a8"
             ],
             [
              0.3333333333333333,
              "#9c179e"
             ],
             [
              0.4444444444444444,
              "#bd3786"
             ],
             [
              0.5555555555555556,
              "#d8576b"
             ],
             [
              0.6666666666666666,
              "#ed7953"
             ],
             [
              0.7777777777777778,
              "#fb9f3a"
             ],
             [
              0.8888888888888888,
              "#fdca26"
             ],
             [
              1,
              "#f0f921"
             ]
            ],
            "type": "histogram2dcontour"
           }
          ],
          "mesh3d": [
           {
            "colorbar": {
             "outlinewidth": 0,
             "ticks": ""
            },
            "type": "mesh3d"
           }
          ],
          "parcoords": [
           {
            "line": {
             "colorbar": {
              "outlinewidth": 0,
              "ticks": ""
             }
            },
            "type": "parcoords"
           }
          ],
          "pie": [
           {
            "automargin": true,
            "type": "pie"
           }
          ],
          "scatter": [
           {
            "fillpattern": {
             "fillmode": "overlay",
             "size": 10,
             "solidity": 0.2
            },
            "type": "scatter"
           }
          ],
          "scatter3d": [
           {
            "line": {
             "colorbar": {
              "outlinewidth": 0,
              "ticks": ""
             }
            },
            "marker": {
             "colorbar": {
              "outlinewidth": 0,
              "ticks": ""
             }
            },
            "type": "scatter3d"
           }
          ],
          "scattercarpet": [
           {
            "marker": {
             "colorbar": {
              "outlinewidth": 0,
              "ticks": ""
             }
            },
            "type": "scattercarpet"
           }
          ],
          "scattergeo": [
           {
            "marker": {
             "colorbar": {
              "outlinewidth": 0,
              "ticks": ""
             }
            },
            "type": "scattergeo"
           }
          ],
          "scattergl": [
           {
            "marker": {
             "colorbar": {
              "outlinewidth": 0,
              "ticks": ""
             }
            },
            "type": "scattergl"
           }
          ],
          "scattermapbox": [
           {
            "marker": {
             "colorbar": {
              "outlinewidth": 0,
              "ticks": ""
             }
            },
            "type": "scattermapbox"
           }
          ],
          "scatterpolar": [
           {
            "marker": {
             "colorbar": {
              "outlinewidth": 0,
              "ticks": ""
             }
            },
            "type": "scatterpolar"
           }
          ],
          "scatterpolargl": [
           {
            "marker": {
             "colorbar": {
              "outlinewidth": 0,
              "ticks": ""
             }
            },
            "type": "scatterpolargl"
           }
          ],
          "scatterternary": [
           {
            "marker": {
             "colorbar": {
              "outlinewidth": 0,
              "ticks": ""
             }
            },
            "type": "scatterternary"
           }
          ],
          "surface": [
           {
            "colorbar": {
             "outlinewidth": 0,
             "ticks": ""
            },
            "colorscale": [
             [
              0,
              "#0d0887"
             ],
             [
              0.1111111111111111,
              "#46039f"
             ],
             [
              0.2222222222222222,
              "#7201a8"
             ],
             [
              0.3333333333333333,
              "#9c179e"
             ],
             [
              0.4444444444444444,
              "#bd3786"
             ],
             [
              0.5555555555555556,
              "#d8576b"
             ],
             [
              0.6666666666666666,
              "#ed7953"
             ],
             [
              0.7777777777777778,
              "#fb9f3a"
             ],
             [
              0.8888888888888888,
              "#fdca26"
             ],
             [
              1,
              "#f0f921"
             ]
            ],
            "type": "surface"
           }
          ],
          "table": [
           {
            "cells": {
             "fill": {
              "color": "#EBF0F8"
             },
             "line": {
              "color": "white"
             }
            },
            "header": {
             "fill": {
              "color": "#C8D4E3"
             },
             "line": {
              "color": "white"
             }
            },
            "type": "table"
           }
          ]
         },
         "layout": {
          "annotationdefaults": {
           "arrowcolor": "#2a3f5f",
           "arrowhead": 0,
           "arrowwidth": 1
          },
          "autotypenumbers": "strict",
          "coloraxis": {
           "colorbar": {
            "outlinewidth": 0,
            "ticks": ""
           }
          },
          "colorscale": {
           "diverging": [
            [
             0,
             "#8e0152"
            ],
            [
             0.1,
             "#c51b7d"
            ],
            [
             0.2,
             "#de77ae"
            ],
            [
             0.3,
             "#f1b6da"
            ],
            [
             0.4,
             "#fde0ef"
            ],
            [
             0.5,
             "#f7f7f7"
            ],
            [
             0.6,
             "#e6f5d0"
            ],
            [
             0.7,
             "#b8e186"
            ],
            [
             0.8,
             "#7fbc41"
            ],
            [
             0.9,
             "#4d9221"
            ],
            [
             1,
             "#276419"
            ]
           ],
           "sequential": [
            [
             0,
             "#0d0887"
            ],
            [
             0.1111111111111111,
             "#46039f"
            ],
            [
             0.2222222222222222,
             "#7201a8"
            ],
            [
             0.3333333333333333,
             "#9c179e"
            ],
            [
             0.4444444444444444,
             "#bd3786"
            ],
            [
             0.5555555555555556,
             "#d8576b"
            ],
            [
             0.6666666666666666,
             "#ed7953"
            ],
            [
             0.7777777777777778,
             "#fb9f3a"
            ],
            [
             0.8888888888888888,
             "#fdca26"
            ],
            [
             1,
             "#f0f921"
            ]
           ],
           "sequentialminus": [
            [
             0,
             "#0d0887"
            ],
            [
             0.1111111111111111,
             "#46039f"
            ],
            [
             0.2222222222222222,
             "#7201a8"
            ],
            [
             0.3333333333333333,
             "#9c179e"
            ],
            [
             0.4444444444444444,
             "#bd3786"
            ],
            [
             0.5555555555555556,
             "#d8576b"
            ],
            [
             0.6666666666666666,
             "#ed7953"
            ],
            [
             0.7777777777777778,
             "#fb9f3a"
            ],
            [
             0.8888888888888888,
             "#fdca26"
            ],
            [
             1,
             "#f0f921"
            ]
           ]
          },
          "colorway": [
           "#636efa",
           "#EF553B",
           "#00cc96",
           "#ab63fa",
           "#FFA15A",
           "#19d3f3",
           "#FF6692",
           "#B6E880",
           "#FF97FF",
           "#FECB52"
          ],
          "font": {
           "color": "#2a3f5f"
          },
          "geo": {
           "bgcolor": "white",
           "lakecolor": "white",
           "landcolor": "#E5ECF6",
           "showlakes": true,
           "showland": true,
           "subunitcolor": "white"
          },
          "hoverlabel": {
           "align": "left"
          },
          "hovermode": "closest",
          "mapbox": {
           "style": "light"
          },
          "paper_bgcolor": "white",
          "plot_bgcolor": "#E5ECF6",
          "polar": {
           "angularaxis": {
            "gridcolor": "white",
            "linecolor": "white",
            "ticks": ""
           },
           "bgcolor": "#E5ECF6",
           "radialaxis": {
            "gridcolor": "white",
            "linecolor": "white",
            "ticks": ""
           }
          },
          "scene": {
           "xaxis": {
            "backgroundcolor": "#E5ECF6",
            "gridcolor": "white",
            "gridwidth": 2,
            "linecolor": "white",
            "showbackground": true,
            "ticks": "",
            "zerolinecolor": "white"
           },
           "yaxis": {
            "backgroundcolor": "#E5ECF6",
            "gridcolor": "white",
            "gridwidth": 2,
            "linecolor": "white",
            "showbackground": true,
            "ticks": "",
            "zerolinecolor": "white"
           },
           "zaxis": {
            "backgroundcolor": "#E5ECF6",
            "gridcolor": "white",
            "gridwidth": 2,
            "linecolor": "white",
            "showbackground": true,
            "ticks": "",
            "zerolinecolor": "white"
           }
          },
          "shapedefaults": {
           "line": {
            "color": "#2a3f5f"
           }
          },
          "ternary": {
           "aaxis": {
            "gridcolor": "white",
            "linecolor": "white",
            "ticks": ""
           },
           "baxis": {
            "gridcolor": "white",
            "linecolor": "white",
            "ticks": ""
           },
           "bgcolor": "#E5ECF6",
           "caxis": {
            "gridcolor": "white",
            "linecolor": "white",
            "ticks": ""
           }
          },
          "title": {
           "x": 0.05
          },
          "xaxis": {
           "automargin": true,
           "gridcolor": "white",
           "linecolor": "white",
           "ticks": "",
           "title": {
            "standoff": 15
           },
           "zerolinecolor": "white",
           "zerolinewidth": 2
          },
          "yaxis": {
           "automargin": true,
           "gridcolor": "white",
           "linecolor": "white",
           "ticks": "",
           "title": {
            "standoff": 15
           },
           "zerolinecolor": "white",
           "zerolinewidth": 2
          }
         }
        },
        "title": {
         "font": {
          "color": "#4D5663"
         }
        },
        "xaxis": {
         "gridcolor": "#E1E5ED",
         "showgrid": true,
         "tickfont": {
          "color": "#4D5663"
         },
         "title": {
          "font": {
           "color": "#4D5663"
          },
          "text": ""
         },
         "zerolinecolor": "#E1E5ED"
        },
        "xaxis2": {
         "anchor": "y2",
         "gridcolor": "#E1E5ED",
         "showgrid": true,
         "showticklabels": false,
         "tickfont": {
          "color": "#4D5663"
         },
         "title": {
          "font": {
           "color": "#4D5663"
          },
          "text": ""
         },
         "zerolinecolor": "#E1E5ED"
        },
        "yaxis": {
         "domain": [
          0.3,
          1
         ],
         "gridcolor": "#E1E5ED",
         "showgrid": true,
         "tickfont": {
          "color": "#4D5663"
         },
         "title": {
          "font": {
           "color": "#4D5663"
          },
          "text": ""
         },
         "zerolinecolor": "#E1E5ED"
        },
        "yaxis2": {
         "domain": [
          0,
          0.25
         ],
         "gridcolor": "#E1E5ED",
         "showgrid": true,
         "tickfont": {
          "color": "#4D5663"
         },
         "title": {
          "font": {
           "color": "#4D5663"
          },
          "text": "Spread"
         },
         "zerolinecolor": "#E1E5ED"
        }
       }
      },
      "text/html": [
       "<div>                            <div id=\"bb448223-f06b-47db-8ce8-244d1022b704\" class=\"plotly-graph-div\" style=\"height:525px; width:100%;\"></div>            <script type=\"text/javascript\">                require([\"plotly\"], function(Plotly) {                    window.PLOTLYENV=window.PLOTLYENV || {};\n",
       "                    window.PLOTLYENV.BASE_URL='https://plot.ly';                                    if (document.getElementById(\"bb448223-f06b-47db-8ce8-244d1022b704\")) {                    Plotly.newPlot(                        \"bb448223-f06b-47db-8ce8-244d1022b704\",                        [{\"line\":{\"color\":\"rgba(255, 153, 51, 1.0)\",\"dash\":\"solid\",\"shape\":\"linear\",\"width\":1.3},\"mode\":\"lines\",\"name\":\"A\",\"text\":\"\",\"x\":[0,1,2,3,4,5,6,7,8,9,10,11,12,13,14,15,16,17,18,19,20,21,22,23,24,25,26,27,28,29,30,31,32,33,34,35,36,37,38,39,40,41,42,43,44,45,46,47,48,49,50,51,52,53,54,55,56,57,58,59,60,61,62,63,64,65,66,67,68,69,70,71,72,73,74,75,76,77,78,79,80,81,82,83,84,85,86,87,88,89,90,91,92,93,94,95,96,97,98,99],\"y\":[0.8144187353470765,0.06943968861889845,-0.6051177979947289,1.4200079041252598,-0.0947786780060265,0.4353422038499592,-0.867023819630172,0.22712243386141492,-1.5936932223573854,0.9241321743715584,1.0741759091264447,0.2642848602684432,0.23913383143078554,-0.5296200715161591,-0.04891670088749185,2.1634524071419787,0.07959748768622212,-0.07335152100529256,1.5679201630912711,0.053219499966360065,0.4377909275954798,-0.4108738189474997,-0.7190016400390153,0.3089019437067334,-0.26423764468661287,0.36404162684384966,1.8896605987378767,2.1064726673601473,-1.5133649684716444,0.009869769374126338,-2.235250524481225,-0.22337057601326998,0.8561588927857099,0.3856941145134942,-0.28496750706782986,0.048889224040245864,0.025062845777872163,-1.0042775436667823,0.004264310636040312,0.36646690572102514,0.8564286027355924,0.7887314088131345,-1.4777313939744903,-1.3166971416521733,-0.3208680303833144,-1.0198295242273419,0.3050677612939885,-0.8082594772684302,1.0571811122584296,-0.04330549718699945,0.8025279972795675,-1.0721022431178582,-1.72663719878505,0.0339265990132973,1.2082859061825684,2.4056453408913362e-05,0.15433331363831615,-0.16675365867183428,-0.4228428279887474,0.3122211018338927,0.6476593566228214,-0.7539537124490568,0.7782385509153177,-0.7731846360605293,-0.28562378587155934,-1.1657939985705077,-0.862042219934001,1.2110234354162455,0.8899036716432929,0.7919978324104415,-1.3310000935841564,0.7214732267316021,1.816489263931352,-0.7387856010538364,-1.0744705332323945,-0.7179108109427301,-0.297208515362758,-1.5286827136665169,0.6074091759350303,0.33771344384352486,1.259831207812005,0.7635495768552607,0.9597488173525972,1.014646551078339,2.7867484067169075,-2.52971826710298,-1.0213281238237273,0.8211913091724549,-1.0097182596065781,-0.43058400358984134,-1.3431455484801735,0.5474436942796898,0.2188722331836831,0.3741308838429427,0.051190565779324584,-0.15410944771311572,-2.1474278848315973,0.8510314976663124,1.0218206672961965,-1.1703526126312642],\"type\":\"scatter\"},{\"line\":{\"color\":\"rgba(55, 128, 191, 1.0)\",\"dash\":\"solid\",\"shape\":\"linear\",\"width\":1.3},\"mode\":\"lines\",\"name\":\"B\",\"text\":\"\",\"x\":[0,1,2,3,4,5,6,7,8,9,10,11,12,13,14,15,16,17,18,19,20,21,22,23,24,25,26,27,28,29,30,31,32,33,34,35,36,37,38,39,40,41,42,43,44,45,46,47,48,49,50,51,52,53,54,55,56,57,58,59,60,61,62,63,64,65,66,67,68,69,70,71,72,73,74,75,76,77,78,79,80,81,82,83,84,85,86,87,88,89,90,91,92,93,94,95,96,97,98,99],\"y\":[1.182835259237497,-0.8975732145797927,0.5220275195709047,0.16526936777424775,0.8221463234629366,0.09561960691624612,0.7154934197202248,-0.7239419506948116,-1.6183004239710814,-0.5805208012812353,-0.2231518507637324,0.5809954447566315,0.7896657634190364,0.09859341287168244,1.01181077086917,1.2801686263217356,0.006802514892934026,0.749579462162761,1.0226976632439386,1.6113010155683734,-1.7506865128832618,0.5026636946768042,-2.4396447316668235,-0.9043217468103396,-0.5452287632889667,-1.6417557829174791,0.28369201260159543,0.05773592079350799,-0.10589216598255646,0.972409774305762,1.121115719140552,0.1888647630515083,1.1899209062449612,-0.5388108014040269,-0.868672535059343,0.9492871720305138,-1.062542675070697,1.7106588413411308,1.1044216631680823,-0.6928660691112118,-0.46731344859800633,-0.30426022660944946,1.2709380589317472,-2.6227128294051414,0.6296655254120602,0.4300620265521417,-0.6480888131663791,-1.438046558452693,-0.402555960745747,-2.29535392221176,-0.11827288604262658,-1.0221151216646072,1.281883419834949,-0.9207405377108133,-1.9270739466753486,0.6676074238160519,0.11366910445242777,-1.1706213115879172,-0.11760123847185962,0.3172164900409643,-0.6643484679944766,-1.512156820047486,-0.8162683653806203,1.5348972081867693,2.0839592977231662,-0.7358936086844449,-1.0497042264481218,0.44282965790962225,-0.3802702424432359,1.5832824629988664,0.2679297436872706,-2.0234957168473806,0.9667018570206107,0.8001169737148024,-0.42758278331913757,-0.9907477622080939,-0.6126108190402878,0.712290384429327,-1.005642475286215,-1.9782557774705911,0.9211827602892596,-1.3697132180465084,-0.8415705327052733,2.7174073081230024,-1.4140618599490045,0.6633224069552077,0.41129032261369175,-0.6480931619950667,-0.13443803548642455,1.0374495373632742,0.5593281556573985,-1.6662162894285633,0.671438208173271,-0.08855620096733283,-0.7706300723442125,-0.12289390281624057,-0.1569283401959346,2.4871475021674456,0.6363121492402903,-0.5900043050544014],\"type\":\"scatter\"},{\"connectgaps\":false,\"fill\":\"tozeroy\",\"line\":{\"color\":\"green\",\"dash\":\"solid\",\"shape\":\"linear\",\"width\":0.5},\"mode\":\"lines\",\"name\":\"Spread\",\"showlegend\":false,\"x\":[0,1,2,3,4,5,6,7,8,9,10,11,12,13,14,15,16,17,18,19,20,21,22,23,24,25,26,27,28,29,30,31,32,33,34,35,36,37,38,39,40,41,42,43,44,45,46,47,48,49,50,51,52,53,54,55,56,57,58,59,60,61,62,63,64,65,66,67,68,69,70,71,72,73,74,75,76,77,78,79,80,81,82,83,84,85,86,87,88,89,90,91,92,93,94,95,96,97,98,99],\"xaxis\":\"x2\",\"y\":[\"\",0.9670129031986912,\"\",1.254738536351012,\"\",0.3397225969337131,\"\",0.9510643845562265,0.024607201613696006,1.5046529756527938,1.2973277598901771,\"\",\"\",\"\",\"\",0.8832837808202432,0.07279497279328809,\"\",0.5452224998473325,\"\",2.1884774404787417,\"\",1.7206430916278082,1.213223690517073,0.2809911186023539,2.0057974097613287,1.6059685861362814,2.048736746566639,\"\",\"\",\"\",\"\",\"\",0.9245049159175212,0.5837050279915132,\"\",1.087605520848569,\"\",\"\",1.059332974832237,1.3237420513335987,1.092991635422584,\"\",1.306015687752968,\"\",\"\",0.9531565744603676,0.6297870811842627,1.4597370730041765,2.2520484250247605,0.920800883322194,\"\",\"\",0.9546671367241106,3.135359852857917,\"\",0.04066420918588838,1.0038676529160828,\"\",\"\",1.312007824617298,0.7582031075984291,1.594506916295938,\"\",\"\",\"\",0.1876620065141208,0.7681937775066232,1.2701739140865287,\"\",\"\",2.7449689435789826,0.8497874069107412,\"\",\"\",0.2728369512653638,0.3154023036775298,\"\",1.6130516512212454,2.315969221314116,0.3386484475227455,2.133262794901769,1.8013193500578706,\"\",4.200810266665912,\"\",\"\",1.4692844711675215,\"\",\"\",\"\",2.213659983708253,\"\",0.46268708481027554,0.8218206381235371,\"\",\"\",\"\",0.38550851805590614,\"\"],\"yaxis\":\"y2\",\"type\":\"scatter\"},{\"connectgaps\":false,\"fill\":\"tozeroy\",\"line\":{\"color\":\"red\",\"dash\":\"solid\",\"shape\":\"linear\",\"width\":0.5},\"mode\":\"lines\",\"name\":\"Spread\",\"showlegend\":false,\"x\":[0,1,2,3,4,5,6,7,8,9,10,11,12,13,14,15,16,17,18,19,20,21,22,23,24,25,26,27,28,29,30,31,32,33,34,35,36,37,38,39,40,41,42,43,44,45,46,47,48,49,50,51,52,53,54,55,56,57,58,59,60,61,62,63,64,65,66,67,68,69,70,71,72,73,74,75,76,77,78,79,80,81,82,83,84,85,86,87,88,89,90,91,92,93,94,95,96,97,98,99],\"xaxis\":\"x2\",\"y\":[-0.36841652389042057,\"\",-1.1271453175656334,\"\",-0.916925001468963,\"\",-1.582517239350397,\"\",\"\",\"\",\"\",-0.31671058448818823,-0.5505319319882509,-0.6282134843878415,-1.0607274717566617,\"\",\"\",-0.8229309831680535,\"\",-1.5580815156020134,\"\",-0.9135375136243038,\"\",\"\",\"\",\"\",\"\",\"\",-1.407472802489088,-0.9625400049316357,-3.356366243621777,-0.4122353390647783,-0.33376201345925127,\"\",\"\",-0.900397947990268,\"\",-2.7149363850079133,-1.100157352532042,\"\",\"\",\"\",-2.7486694529062374,\"\",-0.9505335557953747,-1.4498915507794836,\"\",\"\",\"\",\"\",\"\",-0.049987121453251016,-3.0085206186199986,\"\",\"\",-0.667583367362643,\"\",\"\",-0.3052415895168878,-0.004995388207071627,\"\",\"\",\"\",-2.308081844247299,-2.3695830835947254,-0.42990038988606283,\"\",\"\",\"\",-0.7912846305884249,-1.598929837271427,\"\",\"\",-1.5389025747686387,-0.6468877499132569,\"\",\"\",-2.2409730980958438,\"\",\"\",\"\",\"\",\"\",-1.7027607570446635,\"\",-3.193040674058188,-1.432618446437419,\"\",-0.8752802241201536,-1.4680335409531156,-1.9024737041375719,\"\",-0.45256597498958795,\"\",\"\",-0.03121554489687514,-1.9904995446356626,-1.6361160045011331,\"\",-0.5803483075768628],\"yaxis\":\"y2\",\"type\":\"scatter\"}],                        {\"hovermode\":\"x\",\"legend\":{\"bgcolor\":\"#F5F6F9\",\"font\":{\"color\":\"#4D5663\"}},\"paper_bgcolor\":\"#F5F6F9\",\"plot_bgcolor\":\"#F5F6F9\",\"template\":{\"data\":{\"barpolar\":[{\"marker\":{\"line\":{\"color\":\"#E5ECF6\",\"width\":0.5},\"pattern\":{\"fillmode\":\"overlay\",\"size\":10,\"solidity\":0.2}},\"type\":\"barpolar\"}],\"bar\":[{\"error_x\":{\"color\":\"#2a3f5f\"},\"error_y\":{\"color\":\"#2a3f5f\"},\"marker\":{\"line\":{\"color\":\"#E5ECF6\",\"width\":0.5},\"pattern\":{\"fillmode\":\"overlay\",\"size\":10,\"solidity\":0.2}},\"type\":\"bar\"}],\"carpet\":[{\"aaxis\":{\"endlinecolor\":\"#2a3f5f\",\"gridcolor\":\"white\",\"linecolor\":\"white\",\"minorgridcolor\":\"white\",\"startlinecolor\":\"#2a3f5f\"},\"baxis\":{\"endlinecolor\":\"#2a3f5f\",\"gridcolor\":\"white\",\"linecolor\":\"white\",\"minorgridcolor\":\"white\",\"startlinecolor\":\"#2a3f5f\"},\"type\":\"carpet\"}],\"choropleth\":[{\"colorbar\":{\"outlinewidth\":0,\"ticks\":\"\"},\"type\":\"choropleth\"}],\"contourcarpet\":[{\"colorbar\":{\"outlinewidth\":0,\"ticks\":\"\"},\"type\":\"contourcarpet\"}],\"contour\":[{\"colorbar\":{\"outlinewidth\":0,\"ticks\":\"\"},\"colorscale\":[[0.0,\"#0d0887\"],[0.1111111111111111,\"#46039f\"],[0.2222222222222222,\"#7201a8\"],[0.3333333333333333,\"#9c179e\"],[0.4444444444444444,\"#bd3786\"],[0.5555555555555556,\"#d8576b\"],[0.6666666666666666,\"#ed7953\"],[0.7777777777777778,\"#fb9f3a\"],[0.8888888888888888,\"#fdca26\"],[1.0,\"#f0f921\"]],\"type\":\"contour\"}],\"heatmapgl\":[{\"colorbar\":{\"outlinewidth\":0,\"ticks\":\"\"},\"colorscale\":[[0.0,\"#0d0887\"],[0.1111111111111111,\"#46039f\"],[0.2222222222222222,\"#7201a8\"],[0.3333333333333333,\"#9c179e\"],[0.4444444444444444,\"#bd3786\"],[0.5555555555555556,\"#d8576b\"],[0.6666666666666666,\"#ed7953\"],[0.7777777777777778,\"#fb9f3a\"],[0.8888888888888888,\"#fdca26\"],[1.0,\"#f0f921\"]],\"type\":\"heatmapgl\"}],\"heatmap\":[{\"colorbar\":{\"outlinewidth\":0,\"ticks\":\"\"},\"colorscale\":[[0.0,\"#0d0887\"],[0.1111111111111111,\"#46039f\"],[0.2222222222222222,\"#7201a8\"],[0.3333333333333333,\"#9c179e\"],[0.4444444444444444,\"#bd3786\"],[0.5555555555555556,\"#d8576b\"],[0.6666666666666666,\"#ed7953\"],[0.7777777777777778,\"#fb9f3a\"],[0.8888888888888888,\"#fdca26\"],[1.0,\"#f0f921\"]],\"type\":\"heatmap\"}],\"histogram2dcontour\":[{\"colorbar\":{\"outlinewidth\":0,\"ticks\":\"\"},\"colorscale\":[[0.0,\"#0d0887\"],[0.1111111111111111,\"#46039f\"],[0.2222222222222222,\"#7201a8\"],[0.3333333333333333,\"#9c179e\"],[0.4444444444444444,\"#bd3786\"],[0.5555555555555556,\"#d8576b\"],[0.6666666666666666,\"#ed7953\"],[0.7777777777777778,\"#fb9f3a\"],[0.8888888888888888,\"#fdca26\"],[1.0,\"#f0f921\"]],\"type\":\"histogram2dcontour\"}],\"histogram2d\":[{\"colorbar\":{\"outlinewidth\":0,\"ticks\":\"\"},\"colorscale\":[[0.0,\"#0d0887\"],[0.1111111111111111,\"#46039f\"],[0.2222222222222222,\"#7201a8\"],[0.3333333333333333,\"#9c179e\"],[0.4444444444444444,\"#bd3786\"],[0.5555555555555556,\"#d8576b\"],[0.6666666666666666,\"#ed7953\"],[0.7777777777777778,\"#fb9f3a\"],[0.8888888888888888,\"#fdca26\"],[1.0,\"#f0f921\"]],\"type\":\"histogram2d\"}],\"histogram\":[{\"marker\":{\"pattern\":{\"fillmode\":\"overlay\",\"size\":10,\"solidity\":0.2}},\"type\":\"histogram\"}],\"mesh3d\":[{\"colorbar\":{\"outlinewidth\":0,\"ticks\":\"\"},\"type\":\"mesh3d\"}],\"parcoords\":[{\"line\":{\"colorbar\":{\"outlinewidth\":0,\"ticks\":\"\"}},\"type\":\"parcoords\"}],\"pie\":[{\"automargin\":true,\"type\":\"pie\"}],\"scatter3d\":[{\"line\":{\"colorbar\":{\"outlinewidth\":0,\"ticks\":\"\"}},\"marker\":{\"colorbar\":{\"outlinewidth\":0,\"ticks\":\"\"}},\"type\":\"scatter3d\"}],\"scattercarpet\":[{\"marker\":{\"colorbar\":{\"outlinewidth\":0,\"ticks\":\"\"}},\"type\":\"scattercarpet\"}],\"scattergeo\":[{\"marker\":{\"colorbar\":{\"outlinewidth\":0,\"ticks\":\"\"}},\"type\":\"scattergeo\"}],\"scattergl\":[{\"marker\":{\"colorbar\":{\"outlinewidth\":0,\"ticks\":\"\"}},\"type\":\"scattergl\"}],\"scattermapbox\":[{\"marker\":{\"colorbar\":{\"outlinewidth\":0,\"ticks\":\"\"}},\"type\":\"scattermapbox\"}],\"scatterpolargl\":[{\"marker\":{\"colorbar\":{\"outlinewidth\":0,\"ticks\":\"\"}},\"type\":\"scatterpolargl\"}],\"scatterpolar\":[{\"marker\":{\"colorbar\":{\"outlinewidth\":0,\"ticks\":\"\"}},\"type\":\"scatterpolar\"}],\"scatter\":[{\"fillpattern\":{\"fillmode\":\"overlay\",\"size\":10,\"solidity\":0.2},\"type\":\"scatter\"}],\"scatterternary\":[{\"marker\":{\"colorbar\":{\"outlinewidth\":0,\"ticks\":\"\"}},\"type\":\"scatterternary\"}],\"surface\":[{\"colorbar\":{\"outlinewidth\":0,\"ticks\":\"\"},\"colorscale\":[[0.0,\"#0d0887\"],[0.1111111111111111,\"#46039f\"],[0.2222222222222222,\"#7201a8\"],[0.3333333333333333,\"#9c179e\"],[0.4444444444444444,\"#bd3786\"],[0.5555555555555556,\"#d8576b\"],[0.6666666666666666,\"#ed7953\"],[0.7777777777777778,\"#fb9f3a\"],[0.8888888888888888,\"#fdca26\"],[1.0,\"#f0f921\"]],\"type\":\"surface\"}],\"table\":[{\"cells\":{\"fill\":{\"color\":\"#EBF0F8\"},\"line\":{\"color\":\"white\"}},\"header\":{\"fill\":{\"color\":\"#C8D4E3\"},\"line\":{\"color\":\"white\"}},\"type\":\"table\"}]},\"layout\":{\"annotationdefaults\":{\"arrowcolor\":\"#2a3f5f\",\"arrowhead\":0,\"arrowwidth\":1},\"autotypenumbers\":\"strict\",\"coloraxis\":{\"colorbar\":{\"outlinewidth\":0,\"ticks\":\"\"}},\"colorscale\":{\"diverging\":[[0,\"#8e0152\"],[0.1,\"#c51b7d\"],[0.2,\"#de77ae\"],[0.3,\"#f1b6da\"],[0.4,\"#fde0ef\"],[0.5,\"#f7f7f7\"],[0.6,\"#e6f5d0\"],[0.7,\"#b8e186\"],[0.8,\"#7fbc41\"],[0.9,\"#4d9221\"],[1,\"#276419\"]],\"sequential\":[[0.0,\"#0d0887\"],[0.1111111111111111,\"#46039f\"],[0.2222222222222222,\"#7201a8\"],[0.3333333333333333,\"#9c179e\"],[0.4444444444444444,\"#bd3786\"],[0.5555555555555556,\"#d8576b\"],[0.6666666666666666,\"#ed7953\"],[0.7777777777777778,\"#fb9f3a\"],[0.8888888888888888,\"#fdca26\"],[1.0,\"#f0f921\"]],\"sequentialminus\":[[0.0,\"#0d0887\"],[0.1111111111111111,\"#46039f\"],[0.2222222222222222,\"#7201a8\"],[0.3333333333333333,\"#9c179e\"],[0.4444444444444444,\"#bd3786\"],[0.5555555555555556,\"#d8576b\"],[0.6666666666666666,\"#ed7953\"],[0.7777777777777778,\"#fb9f3a\"],[0.8888888888888888,\"#fdca26\"],[1.0,\"#f0f921\"]]},\"colorway\":[\"#636efa\",\"#EF553B\",\"#00cc96\",\"#ab63fa\",\"#FFA15A\",\"#19d3f3\",\"#FF6692\",\"#B6E880\",\"#FF97FF\",\"#FECB52\"],\"font\":{\"color\":\"#2a3f5f\"},\"geo\":{\"bgcolor\":\"white\",\"lakecolor\":\"white\",\"landcolor\":\"#E5ECF6\",\"showlakes\":true,\"showland\":true,\"subunitcolor\":\"white\"},\"hoverlabel\":{\"align\":\"left\"},\"hovermode\":\"closest\",\"mapbox\":{\"style\":\"light\"},\"paper_bgcolor\":\"white\",\"plot_bgcolor\":\"#E5ECF6\",\"polar\":{\"angularaxis\":{\"gridcolor\":\"white\",\"linecolor\":\"white\",\"ticks\":\"\"},\"bgcolor\":\"#E5ECF6\",\"radialaxis\":{\"gridcolor\":\"white\",\"linecolor\":\"white\",\"ticks\":\"\"}},\"scene\":{\"xaxis\":{\"backgroundcolor\":\"#E5ECF6\",\"gridcolor\":\"white\",\"gridwidth\":2,\"linecolor\":\"white\",\"showbackground\":true,\"ticks\":\"\",\"zerolinecolor\":\"white\"},\"yaxis\":{\"backgroundcolor\":\"#E5ECF6\",\"gridcolor\":\"white\",\"gridwidth\":2,\"linecolor\":\"white\",\"showbackground\":true,\"ticks\":\"\",\"zerolinecolor\":\"white\"},\"zaxis\":{\"backgroundcolor\":\"#E5ECF6\",\"gridcolor\":\"white\",\"gridwidth\":2,\"linecolor\":\"white\",\"showbackground\":true,\"ticks\":\"\",\"zerolinecolor\":\"white\"}},\"shapedefaults\":{\"line\":{\"color\":\"#2a3f5f\"}},\"ternary\":{\"aaxis\":{\"gridcolor\":\"white\",\"linecolor\":\"white\",\"ticks\":\"\"},\"baxis\":{\"gridcolor\":\"white\",\"linecolor\":\"white\",\"ticks\":\"\"},\"bgcolor\":\"#E5ECF6\",\"caxis\":{\"gridcolor\":\"white\",\"linecolor\":\"white\",\"ticks\":\"\"}},\"title\":{\"x\":0.05},\"xaxis\":{\"automargin\":true,\"gridcolor\":\"white\",\"linecolor\":\"white\",\"ticks\":\"\",\"title\":{\"standoff\":15},\"zerolinecolor\":\"white\",\"zerolinewidth\":2},\"yaxis\":{\"automargin\":true,\"gridcolor\":\"white\",\"linecolor\":\"white\",\"ticks\":\"\",\"title\":{\"standoff\":15},\"zerolinecolor\":\"white\",\"zerolinewidth\":2}}},\"title\":{\"font\":{\"color\":\"#4D5663\"}},\"xaxis\":{\"gridcolor\":\"#E1E5ED\",\"showgrid\":true,\"tickfont\":{\"color\":\"#4D5663\"},\"title\":{\"font\":{\"color\":\"#4D5663\"},\"text\":\"\"},\"zerolinecolor\":\"#E1E5ED\"},\"yaxis\":{\"domain\":[0.3,1],\"gridcolor\":\"#E1E5ED\",\"showgrid\":true,\"tickfont\":{\"color\":\"#4D5663\"},\"title\":{\"font\":{\"color\":\"#4D5663\"},\"text\":\"\"},\"zerolinecolor\":\"#E1E5ED\"},\"yaxis2\":{\"domain\":[0,0.25],\"gridcolor\":\"#E1E5ED\",\"showgrid\":true,\"tickfont\":{\"color\":\"#4D5663\"},\"title\":{\"font\":{\"color\":\"#4D5663\"},\"text\":\"Spread\"},\"zerolinecolor\":\"#E1E5ED\"},\"xaxis2\":{\"anchor\":\"y2\",\"gridcolor\":\"#E1E5ED\",\"showgrid\":true,\"showticklabels\":false,\"tickfont\":{\"color\":\"#4D5663\"},\"title\":{\"font\":{\"color\":\"#4D5663\"},\"text\":\"\"},\"zerolinecolor\":\"#E1E5ED\"}},                        {\"showLink\": true, \"linkText\": \"Export to plot.ly\", \"plotlyServerURL\": \"https://plot.ly\", \"responsive\": true}                    ).then(function(){\n",
       "                            \n",
       "var gd = document.getElementById('bb448223-f06b-47db-8ce8-244d1022b704');\n",
       "var x = new MutationObserver(function (mutations, observer) {{\n",
       "        var display = window.getComputedStyle(gd).display;\n",
       "        if (!display || display === 'none') {{\n",
       "            console.log([gd, 'removed!']);\n",
       "            Plotly.purge(gd);\n",
       "            observer.disconnect();\n",
       "        }}\n",
       "}});\n",
       "\n",
       "// Listen for the removal of the full notebook cells\n",
       "var notebookContainer = gd.closest('#notebook-container');\n",
       "if (notebookContainer) {{\n",
       "    x.observe(notebookContainer, {childList: true});\n",
       "}}\n",
       "\n",
       "// Listen for the clearing of the current output cell\n",
       "var outputEl = gd.closest('.output');\n",
       "if (outputEl) {{\n",
       "    x.observe(outputEl, {childList: true});\n",
       "}}\n",
       "\n",
       "                        })                };                });            </script>        </div>"
      ]
     },
     "metadata": {},
     "output_type": "display_data"
    }
   ],
   "source": [
    "df[['A','B']].iplot(kind='spread')"
   ]
  },
  {
   "cell_type": "code",
   "execution_count": 25,
   "id": "60dfd28a",
   "metadata": {},
   "outputs": [
    {
     "data": {
      "application/vnd.plotly.v1+json": {
       "config": {
        "linkText": "Export to plot.ly",
        "plotlyServerURL": "https://plot.ly",
        "showLink": true
       },
       "data": [
        {
         "marker": {
          "color": [
           "rgb(255, 153, 51)",
           "rgb(55, 128, 191)",
           "rgb(50, 171, 96)",
           "rgb(128, 0, 128)",
           "rgb(219, 64, 82)",
           "rgb(0, 128, 128)",
           "rgb(255, 255, 51)",
           "rgb(128, 128, 0)",
           "rgb(251, 128, 114)",
           "rgb(128, 177, 211)"
          ],
          "line": {
           "width": 1.3
          },
          "size": [
           80,
           49,
           57,
           55,
           67,
           38,
           22,
           45,
           61,
           100,
           70,
           26,
           60,
           41,
           61,
           58,
           68,
           16,
           16,
           34,
           56,
           54,
           24,
           39,
           52,
           55,
           66,
           38,
           56,
           46,
           27,
           65,
           62,
           16,
           82,
           50,
           70,
           16,
           39,
           112,
           80,
           43,
           55,
           44,
           59,
           45,
           40,
           55,
           60,
           38,
           51,
           51,
           62,
           65,
           45,
           46,
           32,
           68,
           36,
           56,
           12,
           46,
           44,
           13,
           51,
           47,
           66,
           26,
           53,
           59,
           53,
           13,
           41,
           77,
           26,
           17,
           56,
           58,
           22,
           37,
           49,
           41,
           62,
           56,
           67,
           87,
           37,
           29,
           40,
           54,
           41,
           59,
           28,
           39,
           67,
           68,
           84,
           35,
           54,
           57
          ],
          "symbol": "circle"
         },
         "mode": "markers",
         "text": "",
         "type": "scatter",
         "x": [
          0.8144187353470765,
          0.06943968861889845,
          -0.6051177979947289,
          1.4200079041252598,
          -0.0947786780060265,
          0.4353422038499592,
          -0.867023819630172,
          0.22712243386141492,
          -1.5936932223573854,
          0.9241321743715584,
          1.0741759091264447,
          0.2642848602684432,
          0.23913383143078554,
          -0.5296200715161591,
          -0.04891670088749185,
          2.1634524071419787,
          0.07959748768622212,
          -0.07335152100529256,
          1.5679201630912711,
          0.053219499966360065,
          0.4377909275954798,
          -0.4108738189474997,
          -0.7190016400390153,
          0.3089019437067334,
          -0.26423764468661287,
          0.36404162684384966,
          1.8896605987378767,
          2.1064726673601473,
          -1.5133649684716444,
          0.009869769374126338,
          -2.235250524481225,
          -0.22337057601326998,
          0.8561588927857099,
          0.3856941145134942,
          -0.28496750706782986,
          0.048889224040245864,
          0.025062845777872163,
          -1.0042775436667823,
          0.004264310636040312,
          0.36646690572102514,
          0.8564286027355924,
          0.7887314088131345,
          -1.4777313939744903,
          -1.3166971416521733,
          -0.3208680303833144,
          -1.0198295242273419,
          0.3050677612939885,
          -0.8082594772684302,
          1.0571811122584296,
          -0.04330549718699945,
          0.8025279972795675,
          -1.0721022431178582,
          -1.72663719878505,
          0.0339265990132973,
          1.2082859061825684,
          0.000024056453408913362,
          0.15433331363831615,
          -0.16675365867183428,
          -0.4228428279887474,
          0.3122211018338927,
          0.6476593566228214,
          -0.7539537124490568,
          0.7782385509153177,
          -0.7731846360605293,
          -0.28562378587155934,
          -1.1657939985705077,
          -0.862042219934001,
          1.2110234354162455,
          0.8899036716432929,
          0.7919978324104415,
          -1.3310000935841564,
          0.7214732267316021,
          1.816489263931352,
          -0.7387856010538364,
          -1.0744705332323945,
          -0.7179108109427301,
          -0.297208515362758,
          -1.5286827136665169,
          0.6074091759350303,
          0.33771344384352486,
          1.259831207812005,
          0.7635495768552607,
          0.9597488173525972,
          1.014646551078339,
          2.7867484067169075,
          -2.52971826710298,
          -1.0213281238237273,
          0.8211913091724549,
          -1.0097182596065781,
          -0.43058400358984134,
          -1.3431455484801735,
          0.5474436942796898,
          0.2188722331836831,
          0.3741308838429427,
          0.051190565779324584,
          -0.15410944771311572,
          -2.1474278848315973,
          0.8510314976663124,
          1.0218206672961965,
          -1.1703526126312642
         ],
         "y": [
          1.182835259237497,
          -0.8975732145797927,
          0.5220275195709047,
          0.16526936777424775,
          0.8221463234629366,
          0.09561960691624612,
          0.7154934197202248,
          -0.7239419506948116,
          -1.6183004239710814,
          -0.5805208012812353,
          -0.2231518507637324,
          0.5809954447566315,
          0.7896657634190364,
          0.09859341287168244,
          1.01181077086917,
          1.2801686263217356,
          0.006802514892934026,
          0.749579462162761,
          1.0226976632439386,
          1.6113010155683734,
          -1.7506865128832618,
          0.5026636946768042,
          -2.4396447316668235,
          -0.9043217468103396,
          -0.5452287632889667,
          -1.6417557829174791,
          0.28369201260159543,
          0.05773592079350799,
          -0.10589216598255646,
          0.972409774305762,
          1.121115719140552,
          0.1888647630515083,
          1.1899209062449612,
          -0.5388108014040269,
          -0.868672535059343,
          0.9492871720305138,
          -1.062542675070697,
          1.7106588413411308,
          1.1044216631680823,
          -0.6928660691112118,
          -0.46731344859800633,
          -0.30426022660944946,
          1.2709380589317472,
          -2.6227128294051414,
          0.6296655254120602,
          0.4300620265521417,
          -0.6480888131663791,
          -1.438046558452693,
          -0.402555960745747,
          -2.29535392221176,
          -0.11827288604262658,
          -1.0221151216646072,
          1.281883419834949,
          -0.9207405377108133,
          -1.9270739466753486,
          0.6676074238160519,
          0.11366910445242777,
          -1.1706213115879172,
          -0.11760123847185962,
          0.3172164900409643,
          -0.6643484679944766,
          -1.512156820047486,
          -0.8162683653806203,
          1.5348972081867693,
          2.0839592977231662,
          -0.7358936086844449,
          -1.0497042264481218,
          0.44282965790962225,
          -0.3802702424432359,
          1.5832824629988664,
          0.2679297436872706,
          -2.0234957168473806,
          0.9667018570206107,
          0.8001169737148024,
          -0.42758278331913757,
          -0.9907477622080939,
          -0.6126108190402878,
          0.712290384429327,
          -1.005642475286215,
          -1.9782557774705911,
          0.9211827602892596,
          -1.3697132180465084,
          -0.8415705327052733,
          2.7174073081230024,
          -1.4140618599490045,
          0.6633224069552077,
          0.41129032261369175,
          -0.6480931619950667,
          -0.13443803548642455,
          1.0374495373632742,
          0.5593281556573985,
          -1.6662162894285633,
          0.671438208173271,
          -0.08855620096733283,
          -0.7706300723442125,
          -0.12289390281624057,
          -0.1569283401959346,
          2.4871475021674456,
          0.6363121492402903,
          -0.5900043050544014
         ]
        }
       ],
       "layout": {
        "legend": {
         "bgcolor": "#F5F6F9",
         "font": {
          "color": "#4D5663"
         }
        },
        "paper_bgcolor": "#F5F6F9",
        "plot_bgcolor": "#F5F6F9",
        "template": {
         "data": {
          "bar": [
           {
            "error_x": {
             "color": "#2a3f5f"
            },
            "error_y": {
             "color": "#2a3f5f"
            },
            "marker": {
             "line": {
              "color": "#E5ECF6",
              "width": 0.5
             },
             "pattern": {
              "fillmode": "overlay",
              "size": 10,
              "solidity": 0.2
             }
            },
            "type": "bar"
           }
          ],
          "barpolar": [
           {
            "marker": {
             "line": {
              "color": "#E5ECF6",
              "width": 0.5
             },
             "pattern": {
              "fillmode": "overlay",
              "size": 10,
              "solidity": 0.2
             }
            },
            "type": "barpolar"
           }
          ],
          "carpet": [
           {
            "aaxis": {
             "endlinecolor": "#2a3f5f",
             "gridcolor": "white",
             "linecolor": "white",
             "minorgridcolor": "white",
             "startlinecolor": "#2a3f5f"
            },
            "baxis": {
             "endlinecolor": "#2a3f5f",
             "gridcolor": "white",
             "linecolor": "white",
             "minorgridcolor": "white",
             "startlinecolor": "#2a3f5f"
            },
            "type": "carpet"
           }
          ],
          "choropleth": [
           {
            "colorbar": {
             "outlinewidth": 0,
             "ticks": ""
            },
            "type": "choropleth"
           }
          ],
          "contour": [
           {
            "colorbar": {
             "outlinewidth": 0,
             "ticks": ""
            },
            "colorscale": [
             [
              0,
              "#0d0887"
             ],
             [
              0.1111111111111111,
              "#46039f"
             ],
             [
              0.2222222222222222,
              "#7201a8"
             ],
             [
              0.3333333333333333,
              "#9c179e"
             ],
             [
              0.4444444444444444,
              "#bd3786"
             ],
             [
              0.5555555555555556,
              "#d8576b"
             ],
             [
              0.6666666666666666,
              "#ed7953"
             ],
             [
              0.7777777777777778,
              "#fb9f3a"
             ],
             [
              0.8888888888888888,
              "#fdca26"
             ],
             [
              1,
              "#f0f921"
             ]
            ],
            "type": "contour"
           }
          ],
          "contourcarpet": [
           {
            "colorbar": {
             "outlinewidth": 0,
             "ticks": ""
            },
            "type": "contourcarpet"
           }
          ],
          "heatmap": [
           {
            "colorbar": {
             "outlinewidth": 0,
             "ticks": ""
            },
            "colorscale": [
             [
              0,
              "#0d0887"
             ],
             [
              0.1111111111111111,
              "#46039f"
             ],
             [
              0.2222222222222222,
              "#7201a8"
             ],
             [
              0.3333333333333333,
              "#9c179e"
             ],
             [
              0.4444444444444444,
              "#bd3786"
             ],
             [
              0.5555555555555556,
              "#d8576b"
             ],
             [
              0.6666666666666666,
              "#ed7953"
             ],
             [
              0.7777777777777778,
              "#fb9f3a"
             ],
             [
              0.8888888888888888,
              "#fdca26"
             ],
             [
              1,
              "#f0f921"
             ]
            ],
            "type": "heatmap"
           }
          ],
          "heatmapgl": [
           {
            "colorbar": {
             "outlinewidth": 0,
             "ticks": ""
            },
            "colorscale": [
             [
              0,
              "#0d0887"
             ],
             [
              0.1111111111111111,
              "#46039f"
             ],
             [
              0.2222222222222222,
              "#7201a8"
             ],
             [
              0.3333333333333333,
              "#9c179e"
             ],
             [
              0.4444444444444444,
              "#bd3786"
             ],
             [
              0.5555555555555556,
              "#d8576b"
             ],
             [
              0.6666666666666666,
              "#ed7953"
             ],
             [
              0.7777777777777778,
              "#fb9f3a"
             ],
             [
              0.8888888888888888,
              "#fdca26"
             ],
             [
              1,
              "#f0f921"
             ]
            ],
            "type": "heatmapgl"
           }
          ],
          "histogram": [
           {
            "marker": {
             "pattern": {
              "fillmode": "overlay",
              "size": 10,
              "solidity": 0.2
             }
            },
            "type": "histogram"
           }
          ],
          "histogram2d": [
           {
            "colorbar": {
             "outlinewidth": 0,
             "ticks": ""
            },
            "colorscale": [
             [
              0,
              "#0d0887"
             ],
             [
              0.1111111111111111,
              "#46039f"
             ],
             [
              0.2222222222222222,
              "#7201a8"
             ],
             [
              0.3333333333333333,
              "#9c179e"
             ],
             [
              0.4444444444444444,
              "#bd3786"
             ],
             [
              0.5555555555555556,
              "#d8576b"
             ],
             [
              0.6666666666666666,
              "#ed7953"
             ],
             [
              0.7777777777777778,
              "#fb9f3a"
             ],
             [
              0.8888888888888888,
              "#fdca26"
             ],
             [
              1,
              "#f0f921"
             ]
            ],
            "type": "histogram2d"
           }
          ],
          "histogram2dcontour": [
           {
            "colorbar": {
             "outlinewidth": 0,
             "ticks": ""
            },
            "colorscale": [
             [
              0,
              "#0d0887"
             ],
             [
              0.1111111111111111,
              "#46039f"
             ],
             [
              0.2222222222222222,
              "#7201a8"
             ],
             [
              0.3333333333333333,
              "#9c179e"
             ],
             [
              0.4444444444444444,
              "#bd3786"
             ],
             [
              0.5555555555555556,
              "#d8576b"
             ],
             [
              0.6666666666666666,
              "#ed7953"
             ],
             [
              0.7777777777777778,
              "#fb9f3a"
             ],
             [
              0.8888888888888888,
              "#fdca26"
             ],
             [
              1,
              "#f0f921"
             ]
            ],
            "type": "histogram2dcontour"
           }
          ],
          "mesh3d": [
           {
            "colorbar": {
             "outlinewidth": 0,
             "ticks": ""
            },
            "type": "mesh3d"
           }
          ],
          "parcoords": [
           {
            "line": {
             "colorbar": {
              "outlinewidth": 0,
              "ticks": ""
             }
            },
            "type": "parcoords"
           }
          ],
          "pie": [
           {
            "automargin": true,
            "type": "pie"
           }
          ],
          "scatter": [
           {
            "fillpattern": {
             "fillmode": "overlay",
             "size": 10,
             "solidity": 0.2
            },
            "type": "scatter"
           }
          ],
          "scatter3d": [
           {
            "line": {
             "colorbar": {
              "outlinewidth": 0,
              "ticks": ""
             }
            },
            "marker": {
             "colorbar": {
              "outlinewidth": 0,
              "ticks": ""
             }
            },
            "type": "scatter3d"
           }
          ],
          "scattercarpet": [
           {
            "marker": {
             "colorbar": {
              "outlinewidth": 0,
              "ticks": ""
             }
            },
            "type": "scattercarpet"
           }
          ],
          "scattergeo": [
           {
            "marker": {
             "colorbar": {
              "outlinewidth": 0,
              "ticks": ""
             }
            },
            "type": "scattergeo"
           }
          ],
          "scattergl": [
           {
            "marker": {
             "colorbar": {
              "outlinewidth": 0,
              "ticks": ""
             }
            },
            "type": "scattergl"
           }
          ],
          "scattermapbox": [
           {
            "marker": {
             "colorbar": {
              "outlinewidth": 0,
              "ticks": ""
             }
            },
            "type": "scattermapbox"
           }
          ],
          "scatterpolar": [
           {
            "marker": {
             "colorbar": {
              "outlinewidth": 0,
              "ticks": ""
             }
            },
            "type": "scatterpolar"
           }
          ],
          "scatterpolargl": [
           {
            "marker": {
             "colorbar": {
              "outlinewidth": 0,
              "ticks": ""
             }
            },
            "type": "scatterpolargl"
           }
          ],
          "scatterternary": [
           {
            "marker": {
             "colorbar": {
              "outlinewidth": 0,
              "ticks": ""
             }
            },
            "type": "scatterternary"
           }
          ],
          "surface": [
           {
            "colorbar": {
             "outlinewidth": 0,
             "ticks": ""
            },
            "colorscale": [
             [
              0,
              "#0d0887"
             ],
             [
              0.1111111111111111,
              "#46039f"
             ],
             [
              0.2222222222222222,
              "#7201a8"
             ],
             [
              0.3333333333333333,
              "#9c179e"
             ],
             [
              0.4444444444444444,
              "#bd3786"
             ],
             [
              0.5555555555555556,
              "#d8576b"
             ],
             [
              0.6666666666666666,
              "#ed7953"
             ],
             [
              0.7777777777777778,
              "#fb9f3a"
             ],
             [
              0.8888888888888888,
              "#fdca26"
             ],
             [
              1,
              "#f0f921"
             ]
            ],
            "type": "surface"
           }
          ],
          "table": [
           {
            "cells": {
             "fill": {
              "color": "#EBF0F8"
             },
             "line": {
              "color": "white"
             }
            },
            "header": {
             "fill": {
              "color": "#C8D4E3"
             },
             "line": {
              "color": "white"
             }
            },
            "type": "table"
           }
          ]
         },
         "layout": {
          "annotationdefaults": {
           "arrowcolor": "#2a3f5f",
           "arrowhead": 0,
           "arrowwidth": 1
          },
          "autotypenumbers": "strict",
          "coloraxis": {
           "colorbar": {
            "outlinewidth": 0,
            "ticks": ""
           }
          },
          "colorscale": {
           "diverging": [
            [
             0,
             "#8e0152"
            ],
            [
             0.1,
             "#c51b7d"
            ],
            [
             0.2,
             "#de77ae"
            ],
            [
             0.3,
             "#f1b6da"
            ],
            [
             0.4,
             "#fde0ef"
            ],
            [
             0.5,
             "#f7f7f7"
            ],
            [
             0.6,
             "#e6f5d0"
            ],
            [
             0.7,
             "#b8e186"
            ],
            [
             0.8,
             "#7fbc41"
            ],
            [
             0.9,
             "#4d9221"
            ],
            [
             1,
             "#276419"
            ]
           ],
           "sequential": [
            [
             0,
             "#0d0887"
            ],
            [
             0.1111111111111111,
             "#46039f"
            ],
            [
             0.2222222222222222,
             "#7201a8"
            ],
            [
             0.3333333333333333,
             "#9c179e"
            ],
            [
             0.4444444444444444,
             "#bd3786"
            ],
            [
             0.5555555555555556,
             "#d8576b"
            ],
            [
             0.6666666666666666,
             "#ed7953"
            ],
            [
             0.7777777777777778,
             "#fb9f3a"
            ],
            [
             0.8888888888888888,
             "#fdca26"
            ],
            [
             1,
             "#f0f921"
            ]
           ],
           "sequentialminus": [
            [
             0,
             "#0d0887"
            ],
            [
             0.1111111111111111,
             "#46039f"
            ],
            [
             0.2222222222222222,
             "#7201a8"
            ],
            [
             0.3333333333333333,
             "#9c179e"
            ],
            [
             0.4444444444444444,
             "#bd3786"
            ],
            [
             0.5555555555555556,
             "#d8576b"
            ],
            [
             0.6666666666666666,
             "#ed7953"
            ],
            [
             0.7777777777777778,
             "#fb9f3a"
            ],
            [
             0.8888888888888888,
             "#fdca26"
            ],
            [
             1,
             "#f0f921"
            ]
           ]
          },
          "colorway": [
           "#636efa",
           "#EF553B",
           "#00cc96",
           "#ab63fa",
           "#FFA15A",
           "#19d3f3",
           "#FF6692",
           "#B6E880",
           "#FF97FF",
           "#FECB52"
          ],
          "font": {
           "color": "#2a3f5f"
          },
          "geo": {
           "bgcolor": "white",
           "lakecolor": "white",
           "landcolor": "#E5ECF6",
           "showlakes": true,
           "showland": true,
           "subunitcolor": "white"
          },
          "hoverlabel": {
           "align": "left"
          },
          "hovermode": "closest",
          "mapbox": {
           "style": "light"
          },
          "paper_bgcolor": "white",
          "plot_bgcolor": "#E5ECF6",
          "polar": {
           "angularaxis": {
            "gridcolor": "white",
            "linecolor": "white",
            "ticks": ""
           },
           "bgcolor": "#E5ECF6",
           "radialaxis": {
            "gridcolor": "white",
            "linecolor": "white",
            "ticks": ""
           }
          },
          "scene": {
           "xaxis": {
            "backgroundcolor": "#E5ECF6",
            "gridcolor": "white",
            "gridwidth": 2,
            "linecolor": "white",
            "showbackground": true,
            "ticks": "",
            "zerolinecolor": "white"
           },
           "yaxis": {
            "backgroundcolor": "#E5ECF6",
            "gridcolor": "white",
            "gridwidth": 2,
            "linecolor": "white",
            "showbackground": true,
            "ticks": "",
            "zerolinecolor": "white"
           },
           "zaxis": {
            "backgroundcolor": "#E5ECF6",
            "gridcolor": "white",
            "gridwidth": 2,
            "linecolor": "white",
            "showbackground": true,
            "ticks": "",
            "zerolinecolor": "white"
           }
          },
          "shapedefaults": {
           "line": {
            "color": "#2a3f5f"
           }
          },
          "ternary": {
           "aaxis": {
            "gridcolor": "white",
            "linecolor": "white",
            "ticks": ""
           },
           "baxis": {
            "gridcolor": "white",
            "linecolor": "white",
            "ticks": ""
           },
           "bgcolor": "#E5ECF6",
           "caxis": {
            "gridcolor": "white",
            "linecolor": "white",
            "ticks": ""
           }
          },
          "title": {
           "x": 0.05
          },
          "xaxis": {
           "automargin": true,
           "gridcolor": "white",
           "linecolor": "white",
           "ticks": "",
           "title": {
            "standoff": 15
           },
           "zerolinecolor": "white",
           "zerolinewidth": 2
          },
          "yaxis": {
           "automargin": true,
           "gridcolor": "white",
           "linecolor": "white",
           "ticks": "",
           "title": {
            "standoff": 15
           },
           "zerolinecolor": "white",
           "zerolinewidth": 2
          }
         }
        },
        "title": {
         "font": {
          "color": "#4D5663"
         }
        },
        "xaxis": {
         "gridcolor": "#E1E5ED",
         "showgrid": true,
         "tickfont": {
          "color": "#4D5663"
         },
         "title": {
          "font": {
           "color": "#4D5663"
          },
          "text": ""
         },
         "zerolinecolor": "#E1E5ED"
        },
        "yaxis": {
         "gridcolor": "#E1E5ED",
         "showgrid": true,
         "tickfont": {
          "color": "#4D5663"
         },
         "title": {
          "font": {
           "color": "#4D5663"
          },
          "text": ""
         },
         "zerolinecolor": "#E1E5ED"
        }
       }
      },
      "text/html": [
       "<div>                            <div id=\"aad4068c-6df7-4225-8c55-c284825785bf\" class=\"plotly-graph-div\" style=\"height:525px; width:100%;\"></div>            <script type=\"text/javascript\">                require([\"plotly\"], function(Plotly) {                    window.PLOTLYENV=window.PLOTLYENV || {};\n",
       "                    window.PLOTLYENV.BASE_URL='https://plot.ly';                                    if (document.getElementById(\"aad4068c-6df7-4225-8c55-c284825785bf\")) {                    Plotly.newPlot(                        \"aad4068c-6df7-4225-8c55-c284825785bf\",                        [{\"marker\":{\"color\":[\"rgb(255, 153, 51)\",\"rgb(55, 128, 191)\",\"rgb(50, 171, 96)\",\"rgb(128, 0, 128)\",\"rgb(219, 64, 82)\",\"rgb(0, 128, 128)\",\"rgb(255, 255, 51)\",\"rgb(128, 128, 0)\",\"rgb(251, 128, 114)\",\"rgb(128, 177, 211)\"],\"line\":{\"width\":1.3},\"size\":[80,49,57,55,67,38,22,45,61,100,70,26,60,41,61,58,68,16,16,34,56,54,24,39,52,55,66,38,56,46,27,65,62,16,82,50,70,16,39,112,80,43,55,44,59,45,40,55,60,38,51,51,62,65,45,46,32,68,36,56,12,46,44,13,51,47,66,26,53,59,53,13,41,77,26,17,56,58,22,37,49,41,62,56,67,87,37,29,40,54,41,59,28,39,67,68,84,35,54,57],\"symbol\":\"circle\"},\"mode\":\"markers\",\"text\":\"\",\"x\":[0.8144187353470765,0.06943968861889845,-0.6051177979947289,1.4200079041252598,-0.0947786780060265,0.4353422038499592,-0.867023819630172,0.22712243386141492,-1.5936932223573854,0.9241321743715584,1.0741759091264447,0.2642848602684432,0.23913383143078554,-0.5296200715161591,-0.04891670088749185,2.1634524071419787,0.07959748768622212,-0.07335152100529256,1.5679201630912711,0.053219499966360065,0.4377909275954798,-0.4108738189474997,-0.7190016400390153,0.3089019437067334,-0.26423764468661287,0.36404162684384966,1.8896605987378767,2.1064726673601473,-1.5133649684716444,0.009869769374126338,-2.235250524481225,-0.22337057601326998,0.8561588927857099,0.3856941145134942,-0.28496750706782986,0.048889224040245864,0.025062845777872163,-1.0042775436667823,0.004264310636040312,0.36646690572102514,0.8564286027355924,0.7887314088131345,-1.4777313939744903,-1.3166971416521733,-0.3208680303833144,-1.0198295242273419,0.3050677612939885,-0.8082594772684302,1.0571811122584296,-0.04330549718699945,0.8025279972795675,-1.0721022431178582,-1.72663719878505,0.0339265990132973,1.2082859061825684,2.4056453408913362e-05,0.15433331363831615,-0.16675365867183428,-0.4228428279887474,0.3122211018338927,0.6476593566228214,-0.7539537124490568,0.7782385509153177,-0.7731846360605293,-0.28562378587155934,-1.1657939985705077,-0.862042219934001,1.2110234354162455,0.8899036716432929,0.7919978324104415,-1.3310000935841564,0.7214732267316021,1.816489263931352,-0.7387856010538364,-1.0744705332323945,-0.7179108109427301,-0.297208515362758,-1.5286827136665169,0.6074091759350303,0.33771344384352486,1.259831207812005,0.7635495768552607,0.9597488173525972,1.014646551078339,2.7867484067169075,-2.52971826710298,-1.0213281238237273,0.8211913091724549,-1.0097182596065781,-0.43058400358984134,-1.3431455484801735,0.5474436942796898,0.2188722331836831,0.3741308838429427,0.051190565779324584,-0.15410944771311572,-2.1474278848315973,0.8510314976663124,1.0218206672961965,-1.1703526126312642],\"y\":[1.182835259237497,-0.8975732145797927,0.5220275195709047,0.16526936777424775,0.8221463234629366,0.09561960691624612,0.7154934197202248,-0.7239419506948116,-1.6183004239710814,-0.5805208012812353,-0.2231518507637324,0.5809954447566315,0.7896657634190364,0.09859341287168244,1.01181077086917,1.2801686263217356,0.006802514892934026,0.749579462162761,1.0226976632439386,1.6113010155683734,-1.7506865128832618,0.5026636946768042,-2.4396447316668235,-0.9043217468103396,-0.5452287632889667,-1.6417557829174791,0.28369201260159543,0.05773592079350799,-0.10589216598255646,0.972409774305762,1.121115719140552,0.1888647630515083,1.1899209062449612,-0.5388108014040269,-0.868672535059343,0.9492871720305138,-1.062542675070697,1.7106588413411308,1.1044216631680823,-0.6928660691112118,-0.46731344859800633,-0.30426022660944946,1.2709380589317472,-2.6227128294051414,0.6296655254120602,0.4300620265521417,-0.6480888131663791,-1.438046558452693,-0.402555960745747,-2.29535392221176,-0.11827288604262658,-1.0221151216646072,1.281883419834949,-0.9207405377108133,-1.9270739466753486,0.6676074238160519,0.11366910445242777,-1.1706213115879172,-0.11760123847185962,0.3172164900409643,-0.6643484679944766,-1.512156820047486,-0.8162683653806203,1.5348972081867693,2.0839592977231662,-0.7358936086844449,-1.0497042264481218,0.44282965790962225,-0.3802702424432359,1.5832824629988664,0.2679297436872706,-2.0234957168473806,0.9667018570206107,0.8001169737148024,-0.42758278331913757,-0.9907477622080939,-0.6126108190402878,0.712290384429327,-1.005642475286215,-1.9782557774705911,0.9211827602892596,-1.3697132180465084,-0.8415705327052733,2.7174073081230024,-1.4140618599490045,0.6633224069552077,0.41129032261369175,-0.6480931619950667,-0.13443803548642455,1.0374495373632742,0.5593281556573985,-1.6662162894285633,0.671438208173271,-0.08855620096733283,-0.7706300723442125,-0.12289390281624057,-0.1569283401959346,2.4871475021674456,0.6363121492402903,-0.5900043050544014],\"type\":\"scatter\"}],                        {\"legend\":{\"bgcolor\":\"#F5F6F9\",\"font\":{\"color\":\"#4D5663\"}},\"paper_bgcolor\":\"#F5F6F9\",\"plot_bgcolor\":\"#F5F6F9\",\"template\":{\"data\":{\"barpolar\":[{\"marker\":{\"line\":{\"color\":\"#E5ECF6\",\"width\":0.5},\"pattern\":{\"fillmode\":\"overlay\",\"size\":10,\"solidity\":0.2}},\"type\":\"barpolar\"}],\"bar\":[{\"error_x\":{\"color\":\"#2a3f5f\"},\"error_y\":{\"color\":\"#2a3f5f\"},\"marker\":{\"line\":{\"color\":\"#E5ECF6\",\"width\":0.5},\"pattern\":{\"fillmode\":\"overlay\",\"size\":10,\"solidity\":0.2}},\"type\":\"bar\"}],\"carpet\":[{\"aaxis\":{\"endlinecolor\":\"#2a3f5f\",\"gridcolor\":\"white\",\"linecolor\":\"white\",\"minorgridcolor\":\"white\",\"startlinecolor\":\"#2a3f5f\"},\"baxis\":{\"endlinecolor\":\"#2a3f5f\",\"gridcolor\":\"white\",\"linecolor\":\"white\",\"minorgridcolor\":\"white\",\"startlinecolor\":\"#2a3f5f\"},\"type\":\"carpet\"}],\"choropleth\":[{\"colorbar\":{\"outlinewidth\":0,\"ticks\":\"\"},\"type\":\"choropleth\"}],\"contourcarpet\":[{\"colorbar\":{\"outlinewidth\":0,\"ticks\":\"\"},\"type\":\"contourcarpet\"}],\"contour\":[{\"colorbar\":{\"outlinewidth\":0,\"ticks\":\"\"},\"colorscale\":[[0.0,\"#0d0887\"],[0.1111111111111111,\"#46039f\"],[0.2222222222222222,\"#7201a8\"],[0.3333333333333333,\"#9c179e\"],[0.4444444444444444,\"#bd3786\"],[0.5555555555555556,\"#d8576b\"],[0.6666666666666666,\"#ed7953\"],[0.7777777777777778,\"#fb9f3a\"],[0.8888888888888888,\"#fdca26\"],[1.0,\"#f0f921\"]],\"type\":\"contour\"}],\"heatmapgl\":[{\"colorbar\":{\"outlinewidth\":0,\"ticks\":\"\"},\"colorscale\":[[0.0,\"#0d0887\"],[0.1111111111111111,\"#46039f\"],[0.2222222222222222,\"#7201a8\"],[0.3333333333333333,\"#9c179e\"],[0.4444444444444444,\"#bd3786\"],[0.5555555555555556,\"#d8576b\"],[0.6666666666666666,\"#ed7953\"],[0.7777777777777778,\"#fb9f3a\"],[0.8888888888888888,\"#fdca26\"],[1.0,\"#f0f921\"]],\"type\":\"heatmapgl\"}],\"heatmap\":[{\"colorbar\":{\"outlinewidth\":0,\"ticks\":\"\"},\"colorscale\":[[0.0,\"#0d0887\"],[0.1111111111111111,\"#46039f\"],[0.2222222222222222,\"#7201a8\"],[0.3333333333333333,\"#9c179e\"],[0.4444444444444444,\"#bd3786\"],[0.5555555555555556,\"#d8576b\"],[0.6666666666666666,\"#ed7953\"],[0.7777777777777778,\"#fb9f3a\"],[0.8888888888888888,\"#fdca26\"],[1.0,\"#f0f921\"]],\"type\":\"heatmap\"}],\"histogram2dcontour\":[{\"colorbar\":{\"outlinewidth\":0,\"ticks\":\"\"},\"colorscale\":[[0.0,\"#0d0887\"],[0.1111111111111111,\"#46039f\"],[0.2222222222222222,\"#7201a8\"],[0.3333333333333333,\"#9c179e\"],[0.4444444444444444,\"#bd3786\"],[0.5555555555555556,\"#d8576b\"],[0.6666666666666666,\"#ed7953\"],[0.7777777777777778,\"#fb9f3a\"],[0.8888888888888888,\"#fdca26\"],[1.0,\"#f0f921\"]],\"type\":\"histogram2dcontour\"}],\"histogram2d\":[{\"colorbar\":{\"outlinewidth\":0,\"ticks\":\"\"},\"colorscale\":[[0.0,\"#0d0887\"],[0.1111111111111111,\"#46039f\"],[0.2222222222222222,\"#7201a8\"],[0.3333333333333333,\"#9c179e\"],[0.4444444444444444,\"#bd3786\"],[0.5555555555555556,\"#d8576b\"],[0.6666666666666666,\"#ed7953\"],[0.7777777777777778,\"#fb9f3a\"],[0.8888888888888888,\"#fdca26\"],[1.0,\"#f0f921\"]],\"type\":\"histogram2d\"}],\"histogram\":[{\"marker\":{\"pattern\":{\"fillmode\":\"overlay\",\"size\":10,\"solidity\":0.2}},\"type\":\"histogram\"}],\"mesh3d\":[{\"colorbar\":{\"outlinewidth\":0,\"ticks\":\"\"},\"type\":\"mesh3d\"}],\"parcoords\":[{\"line\":{\"colorbar\":{\"outlinewidth\":0,\"ticks\":\"\"}},\"type\":\"parcoords\"}],\"pie\":[{\"automargin\":true,\"type\":\"pie\"}],\"scatter3d\":[{\"line\":{\"colorbar\":{\"outlinewidth\":0,\"ticks\":\"\"}},\"marker\":{\"colorbar\":{\"outlinewidth\":0,\"ticks\":\"\"}},\"type\":\"scatter3d\"}],\"scattercarpet\":[{\"marker\":{\"colorbar\":{\"outlinewidth\":0,\"ticks\":\"\"}},\"type\":\"scattercarpet\"}],\"scattergeo\":[{\"marker\":{\"colorbar\":{\"outlinewidth\":0,\"ticks\":\"\"}},\"type\":\"scattergeo\"}],\"scattergl\":[{\"marker\":{\"colorbar\":{\"outlinewidth\":0,\"ticks\":\"\"}},\"type\":\"scattergl\"}],\"scattermapbox\":[{\"marker\":{\"colorbar\":{\"outlinewidth\":0,\"ticks\":\"\"}},\"type\":\"scattermapbox\"}],\"scatterpolargl\":[{\"marker\":{\"colorbar\":{\"outlinewidth\":0,\"ticks\":\"\"}},\"type\":\"scatterpolargl\"}],\"scatterpolar\":[{\"marker\":{\"colorbar\":{\"outlinewidth\":0,\"ticks\":\"\"}},\"type\":\"scatterpolar\"}],\"scatter\":[{\"fillpattern\":{\"fillmode\":\"overlay\",\"size\":10,\"solidity\":0.2},\"type\":\"scatter\"}],\"scatterternary\":[{\"marker\":{\"colorbar\":{\"outlinewidth\":0,\"ticks\":\"\"}},\"type\":\"scatterternary\"}],\"surface\":[{\"colorbar\":{\"outlinewidth\":0,\"ticks\":\"\"},\"colorscale\":[[0.0,\"#0d0887\"],[0.1111111111111111,\"#46039f\"],[0.2222222222222222,\"#7201a8\"],[0.3333333333333333,\"#9c179e\"],[0.4444444444444444,\"#bd3786\"],[0.5555555555555556,\"#d8576b\"],[0.6666666666666666,\"#ed7953\"],[0.7777777777777778,\"#fb9f3a\"],[0.8888888888888888,\"#fdca26\"],[1.0,\"#f0f921\"]],\"type\":\"surface\"}],\"table\":[{\"cells\":{\"fill\":{\"color\":\"#EBF0F8\"},\"line\":{\"color\":\"white\"}},\"header\":{\"fill\":{\"color\":\"#C8D4E3\"},\"line\":{\"color\":\"white\"}},\"type\":\"table\"}]},\"layout\":{\"annotationdefaults\":{\"arrowcolor\":\"#2a3f5f\",\"arrowhead\":0,\"arrowwidth\":1},\"autotypenumbers\":\"strict\",\"coloraxis\":{\"colorbar\":{\"outlinewidth\":0,\"ticks\":\"\"}},\"colorscale\":{\"diverging\":[[0,\"#8e0152\"],[0.1,\"#c51b7d\"],[0.2,\"#de77ae\"],[0.3,\"#f1b6da\"],[0.4,\"#fde0ef\"],[0.5,\"#f7f7f7\"],[0.6,\"#e6f5d0\"],[0.7,\"#b8e186\"],[0.8,\"#7fbc41\"],[0.9,\"#4d9221\"],[1,\"#276419\"]],\"sequential\":[[0.0,\"#0d0887\"],[0.1111111111111111,\"#46039f\"],[0.2222222222222222,\"#7201a8\"],[0.3333333333333333,\"#9c179e\"],[0.4444444444444444,\"#bd3786\"],[0.5555555555555556,\"#d8576b\"],[0.6666666666666666,\"#ed7953\"],[0.7777777777777778,\"#fb9f3a\"],[0.8888888888888888,\"#fdca26\"],[1.0,\"#f0f921\"]],\"sequentialminus\":[[0.0,\"#0d0887\"],[0.1111111111111111,\"#46039f\"],[0.2222222222222222,\"#7201a8\"],[0.3333333333333333,\"#9c179e\"],[0.4444444444444444,\"#bd3786\"],[0.5555555555555556,\"#d8576b\"],[0.6666666666666666,\"#ed7953\"],[0.7777777777777778,\"#fb9f3a\"],[0.8888888888888888,\"#fdca26\"],[1.0,\"#f0f921\"]]},\"colorway\":[\"#636efa\",\"#EF553B\",\"#00cc96\",\"#ab63fa\",\"#FFA15A\",\"#19d3f3\",\"#FF6692\",\"#B6E880\",\"#FF97FF\",\"#FECB52\"],\"font\":{\"color\":\"#2a3f5f\"},\"geo\":{\"bgcolor\":\"white\",\"lakecolor\":\"white\",\"landcolor\":\"#E5ECF6\",\"showlakes\":true,\"showland\":true,\"subunitcolor\":\"white\"},\"hoverlabel\":{\"align\":\"left\"},\"hovermode\":\"closest\",\"mapbox\":{\"style\":\"light\"},\"paper_bgcolor\":\"white\",\"plot_bgcolor\":\"#E5ECF6\",\"polar\":{\"angularaxis\":{\"gridcolor\":\"white\",\"linecolor\":\"white\",\"ticks\":\"\"},\"bgcolor\":\"#E5ECF6\",\"radialaxis\":{\"gridcolor\":\"white\",\"linecolor\":\"white\",\"ticks\":\"\"}},\"scene\":{\"xaxis\":{\"backgroundcolor\":\"#E5ECF6\",\"gridcolor\":\"white\",\"gridwidth\":2,\"linecolor\":\"white\",\"showbackground\":true,\"ticks\":\"\",\"zerolinecolor\":\"white\"},\"yaxis\":{\"backgroundcolor\":\"#E5ECF6\",\"gridcolor\":\"white\",\"gridwidth\":2,\"linecolor\":\"white\",\"showbackground\":true,\"ticks\":\"\",\"zerolinecolor\":\"white\"},\"zaxis\":{\"backgroundcolor\":\"#E5ECF6\",\"gridcolor\":\"white\",\"gridwidth\":2,\"linecolor\":\"white\",\"showbackground\":true,\"ticks\":\"\",\"zerolinecolor\":\"white\"}},\"shapedefaults\":{\"line\":{\"color\":\"#2a3f5f\"}},\"ternary\":{\"aaxis\":{\"gridcolor\":\"white\",\"linecolor\":\"white\",\"ticks\":\"\"},\"baxis\":{\"gridcolor\":\"white\",\"linecolor\":\"white\",\"ticks\":\"\"},\"bgcolor\":\"#E5ECF6\",\"caxis\":{\"gridcolor\":\"white\",\"linecolor\":\"white\",\"ticks\":\"\"}},\"title\":{\"x\":0.05},\"xaxis\":{\"automargin\":true,\"gridcolor\":\"white\",\"linecolor\":\"white\",\"ticks\":\"\",\"title\":{\"standoff\":15},\"zerolinecolor\":\"white\",\"zerolinewidth\":2},\"yaxis\":{\"automargin\":true,\"gridcolor\":\"white\",\"linecolor\":\"white\",\"ticks\":\"\",\"title\":{\"standoff\":15},\"zerolinecolor\":\"white\",\"zerolinewidth\":2}}},\"title\":{\"font\":{\"color\":\"#4D5663\"}},\"xaxis\":{\"gridcolor\":\"#E1E5ED\",\"showgrid\":true,\"tickfont\":{\"color\":\"#4D5663\"},\"title\":{\"font\":{\"color\":\"#4D5663\"},\"text\":\"\"},\"zerolinecolor\":\"#E1E5ED\"},\"yaxis\":{\"gridcolor\":\"#E1E5ED\",\"showgrid\":true,\"tickfont\":{\"color\":\"#4D5663\"},\"title\":{\"font\":{\"color\":\"#4D5663\"},\"text\":\"\"},\"zerolinecolor\":\"#E1E5ED\"}},                        {\"showLink\": true, \"linkText\": \"Export to plot.ly\", \"plotlyServerURL\": \"https://plot.ly\", \"responsive\": true}                    ).then(function(){\n",
       "                            \n",
       "var gd = document.getElementById('aad4068c-6df7-4225-8c55-c284825785bf');\n",
       "var x = new MutationObserver(function (mutations, observer) {{\n",
       "        var display = window.getComputedStyle(gd).display;\n",
       "        if (!display || display === 'none') {{\n",
       "            console.log([gd, 'removed!']);\n",
       "            Plotly.purge(gd);\n",
       "            observer.disconnect();\n",
       "        }}\n",
       "}});\n",
       "\n",
       "// Listen for the removal of the full notebook cells\n",
       "var notebookContainer = gd.closest('#notebook-container');\n",
       "if (notebookContainer) {{\n",
       "    x.observe(notebookContainer, {childList: true});\n",
       "}}\n",
       "\n",
       "// Listen for the clearing of the current output cell\n",
       "var outputEl = gd.closest('.output');\n",
       "if (outputEl) {{\n",
       "    x.observe(outputEl, {childList: true});\n",
       "}}\n",
       "\n",
       "                        })                };                });            </script>        </div>"
      ]
     },
     "metadata": {},
     "output_type": "display_data"
    }
   ],
   "source": [
    "#Bubble plot\n",
    "df.iplot(kind='bubble',x='A',y='B',size='C')"
   ]
  },
  {
   "cell_type": "code",
   "execution_count": 26,
   "id": "0c1f868f",
   "metadata": {},
   "outputs": [
    {
     "data": {
      "application/vnd.plotly.v1+json": {
       "config": {
        "linkText": "Export to plot.ly",
        "plotlyServerURL": "https://plot.ly",
        "showLink": true
       },
       "data": [
        {
         "histfunc": "count",
         "histnorm": "",
         "marker": {
          "color": "rgba(255, 153, 51, 1.0)",
          "line": {
           "color": "#4D5663",
           "width": 1.3
          }
         },
         "name": "A",
         "nbinsx": 10,
         "opacity": 0.8,
         "orientation": "v",
         "type": "histogram",
         "x": [
          0.8144187353470765,
          0.06943968861889845,
          -0.6051177979947289,
          1.4200079041252598,
          -0.0947786780060265,
          0.4353422038499592,
          -0.867023819630172,
          0.22712243386141492,
          -1.5936932223573854,
          0.9241321743715584,
          1.0741759091264447,
          0.2642848602684432,
          0.23913383143078554,
          -0.5296200715161591,
          -0.04891670088749185,
          2.1634524071419787,
          0.07959748768622212,
          -0.07335152100529256,
          1.5679201630912711,
          0.053219499966360065,
          0.4377909275954798,
          -0.4108738189474997,
          -0.7190016400390153,
          0.3089019437067334,
          -0.26423764468661287,
          0.36404162684384966,
          1.8896605987378767,
          2.1064726673601473,
          -1.5133649684716444,
          0.009869769374126338,
          -2.235250524481225,
          -0.22337057601326998,
          0.8561588927857099,
          0.3856941145134942,
          -0.28496750706782986,
          0.048889224040245864,
          0.025062845777872163,
          -1.0042775436667823,
          0.004264310636040312,
          0.36646690572102514,
          0.8564286027355924,
          0.7887314088131345,
          -1.4777313939744903,
          -1.3166971416521733,
          -0.3208680303833144,
          -1.0198295242273419,
          0.3050677612939885,
          -0.8082594772684302,
          1.0571811122584296,
          -0.04330549718699945,
          0.8025279972795675,
          -1.0721022431178582,
          -1.72663719878505,
          0.0339265990132973,
          1.2082859061825684,
          0.000024056453408913362,
          0.15433331363831615,
          -0.16675365867183428,
          -0.4228428279887474,
          0.3122211018338927,
          0.6476593566228214,
          -0.7539537124490568,
          0.7782385509153177,
          -0.7731846360605293,
          -0.28562378587155934,
          -1.1657939985705077,
          -0.862042219934001,
          1.2110234354162455,
          0.8899036716432929,
          0.7919978324104415,
          -1.3310000935841564,
          0.7214732267316021,
          1.816489263931352,
          -0.7387856010538364,
          -1.0744705332323945,
          -0.7179108109427301,
          -0.297208515362758,
          -1.5286827136665169,
          0.6074091759350303,
          0.33771344384352486,
          1.259831207812005,
          0.7635495768552607,
          0.9597488173525972,
          1.014646551078339,
          2.7867484067169075,
          -2.52971826710298,
          -1.0213281238237273,
          0.8211913091724549,
          -1.0097182596065781,
          -0.43058400358984134,
          -1.3431455484801735,
          0.5474436942796898,
          0.2188722331836831,
          0.3741308838429427,
          0.051190565779324584,
          -0.15410944771311572,
          -2.1474278848315973,
          0.8510314976663124,
          1.0218206672961965,
          -1.1703526126312642
         ],
         "xaxis": "x",
         "yaxis": "y"
        },
        {
         "line": {
          "color": "rgba(128, 128, 128, 1.0)",
          "dash": "solid",
          "shape": "linear",
          "width": 1.3
         },
         "marker": {
          "size": 2,
          "symbol": "circle"
         },
         "mode": "markers",
         "name": "A",
         "text": "",
         "type": "scatter",
         "x": [
          1.182835259237497,
          -0.8975732145797927,
          0.5220275195709047,
          0.16526936777424775,
          0.8221463234629366,
          0.09561960691624612,
          0.7154934197202248,
          -0.7239419506948116,
          -1.6183004239710814,
          -0.5805208012812353,
          -0.2231518507637324,
          0.5809954447566315,
          0.7896657634190364,
          0.09859341287168244,
          1.01181077086917,
          1.2801686263217356,
          0.006802514892934026,
          0.749579462162761,
          1.0226976632439386,
          1.6113010155683734,
          -1.7506865128832618,
          0.5026636946768042,
          -2.4396447316668235,
          -0.9043217468103396,
          -0.5452287632889667,
          -1.6417557829174791,
          0.28369201260159543,
          0.05773592079350799,
          -0.10589216598255646,
          0.972409774305762,
          1.121115719140552,
          0.1888647630515083,
          1.1899209062449612,
          -0.5388108014040269,
          -0.868672535059343,
          0.9492871720305138,
          -1.062542675070697,
          1.7106588413411308,
          1.1044216631680823,
          -0.6928660691112118,
          -0.46731344859800633,
          -0.30426022660944946,
          1.2709380589317472,
          -2.6227128294051414,
          0.6296655254120602,
          0.4300620265521417,
          -0.6480888131663791,
          -1.438046558452693,
          -0.402555960745747,
          -2.29535392221176,
          -0.11827288604262658,
          -1.0221151216646072,
          1.281883419834949,
          -0.9207405377108133,
          -1.9270739466753486,
          0.6676074238160519,
          0.11366910445242777,
          -1.1706213115879172,
          -0.11760123847185962,
          0.3172164900409643,
          -0.6643484679944766,
          -1.512156820047486,
          -0.8162683653806203,
          1.5348972081867693,
          2.0839592977231662,
          -0.7358936086844449,
          -1.0497042264481218,
          0.44282965790962225,
          -0.3802702424432359,
          1.5832824629988664,
          0.2679297436872706,
          -2.0234957168473806,
          0.9667018570206107,
          0.8001169737148024,
          -0.42758278331913757,
          -0.9907477622080939,
          -0.6126108190402878,
          0.712290384429327,
          -1.005642475286215,
          -1.9782557774705911,
          0.9211827602892596,
          -1.3697132180465084,
          -0.8415705327052733,
          2.7174073081230024,
          -1.4140618599490045,
          0.6633224069552077,
          0.41129032261369175,
          -0.6480931619950667,
          -0.13443803548642455,
          1.0374495373632742,
          0.5593281556573985,
          -1.6662162894285633,
          0.671438208173271,
          -0.08855620096733283,
          -0.7706300723442125,
          -0.12289390281624057,
          -0.1569283401959346,
          2.4871475021674456,
          0.6363121492402903,
          -0.5900043050544014
         ],
         "xaxis": "x2",
         "y": [
          0.8144187353470765,
          0.06943968861889845,
          -0.6051177979947289,
          1.4200079041252598,
          -0.0947786780060265,
          0.4353422038499592,
          -0.867023819630172,
          0.22712243386141492,
          -1.5936932223573854,
          0.9241321743715584,
          1.0741759091264447,
          0.2642848602684432,
          0.23913383143078554,
          -0.5296200715161591,
          -0.04891670088749185,
          2.1634524071419787,
          0.07959748768622212,
          -0.07335152100529256,
          1.5679201630912711,
          0.053219499966360065,
          0.4377909275954798,
          -0.4108738189474997,
          -0.7190016400390153,
          0.3089019437067334,
          -0.26423764468661287,
          0.36404162684384966,
          1.8896605987378767,
          2.1064726673601473,
          -1.5133649684716444,
          0.009869769374126338,
          -2.235250524481225,
          -0.22337057601326998,
          0.8561588927857099,
          0.3856941145134942,
          -0.28496750706782986,
          0.048889224040245864,
          0.025062845777872163,
          -1.0042775436667823,
          0.004264310636040312,
          0.36646690572102514,
          0.8564286027355924,
          0.7887314088131345,
          -1.4777313939744903,
          -1.3166971416521733,
          -0.3208680303833144,
          -1.0198295242273419,
          0.3050677612939885,
          -0.8082594772684302,
          1.0571811122584296,
          -0.04330549718699945,
          0.8025279972795675,
          -1.0721022431178582,
          -1.72663719878505,
          0.0339265990132973,
          1.2082859061825684,
          0.000024056453408913362,
          0.15433331363831615,
          -0.16675365867183428,
          -0.4228428279887474,
          0.3122211018338927,
          0.6476593566228214,
          -0.7539537124490568,
          0.7782385509153177,
          -0.7731846360605293,
          -0.28562378587155934,
          -1.1657939985705077,
          -0.862042219934001,
          1.2110234354162455,
          0.8899036716432929,
          0.7919978324104415,
          -1.3310000935841564,
          0.7214732267316021,
          1.816489263931352,
          -0.7387856010538364,
          -1.0744705332323945,
          -0.7179108109427301,
          -0.297208515362758,
          -1.5286827136665169,
          0.6074091759350303,
          0.33771344384352486,
          1.259831207812005,
          0.7635495768552607,
          0.9597488173525972,
          1.014646551078339,
          2.7867484067169075,
          -2.52971826710298,
          -1.0213281238237273,
          0.8211913091724549,
          -1.0097182596065781,
          -0.43058400358984134,
          -1.3431455484801735,
          0.5474436942796898,
          0.2188722331836831,
          0.3741308838429427,
          0.051190565779324584,
          -0.15410944771311572,
          -2.1474278848315973,
          0.8510314976663124,
          1.0218206672961965,
          -1.1703526126312642
         ],
         "yaxis": "y2"
        },
        {
         "line": {
          "color": "rgba(128, 128, 128, 1.0)",
          "dash": "solid",
          "shape": "linear",
          "width": 1.3
         },
         "marker": {
          "size": 2,
          "symbol": "circle"
         },
         "mode": "markers",
         "name": "A",
         "text": "",
         "type": "scatter",
         "x": [
          1.6320067672550114,
          0.013571597518988485,
          0.4267658992242022,
          0.3131395724831427,
          0.934514580222743,
          -0.5861022341329414,
          -1.4302987559641342,
          -0.22139786013664656,
          0.663171007555064,
          2.701568054660681,
          1.132655258868716,
          -1.2618240324811285,
          0.5967099360070722,
          -0.41428701335549833,
          0.6497449486826024,
          0.48044113315915926,
          1.0254986480098311,
          -1.7686908679270839,
          -1.7832391917216104,
          -0.8028078859416806,
          0.37707515279233544,
          0.23536684330914645,
          -1.351390100005412,
          -0.549926509826069,
          0.15787586136443116,
          0.3358040809294726,
          0.9166551680285362,
          -0.6000079288730298,
          0.356198542020789,
          -0.1616092278325927,
          -1.190736474961592,
          0.831948021082437,
          0.7108672665104884,
          -1.7565110463718139,
          1.7376816351250506,
          0.03562378256214433,
          1.1432465610938845,
          -1.7478516383727796,
          -0.5592256625903307,
          3.3430285040112238,
          1.6325210655742146,
          -0.35001531476351644,
          0.3271038550921371,
          -0.270790748596994,
          0.5146495788960012,
          -0.2387753632827418,
          -0.48190934620946485,
          0.337523458681305,
          0.6010108834316373,
          -0.6199546591098973,
          0.10261063320245636,
          0.09995308905169957,
          0.6872136943272025,
          0.8641432838921995,
          -0.20126688927067837,
          -0.14630490200191154,
          -0.9385932134581134,
          1.0167311715915515,
          -0.6940746798664247,
          0.37801160636747616,
          -2.0155541281707006,
          -0.19302718238829325,
          -0.2779639236364774,
          -1.9415924471161954,
          0.09536631705421743,
          -0.09356181753016589,
          0.8925625646518249,
          -1.2118433366028099,
          0.18860333713105218,
          0.5465591440427829,
          0.1873570216311578,
          -1.9447893839439823,
          -0.4108825283397903,
          1.4986613443997372,
          -1.2330691203098796,
          -1.7243747243962575,
          0.3664730328822936,
          0.4912675975383385,
          -1.4672190385613428,
          -0.6312494119824602,
          0.02051711049058606,
          -0.4110566281906969,
          0.6941310017272373,
          0.3479202980775581,
          0.9666567204573491,
          2.0130805562881755,
          -0.6622077039577834,
          -1.091774596828099,
          -0.4920180595361232,
          0.24288614812627068,
          -0.4158228823948609,
          0.5338377236145971,
          -1.1472736403024104,
          -0.5283819826171251,
          0.9822910754737452,
          0.9913128563641996,
          1.8591684246578655,
          -0.7352461179154989,
          0.2791521002534852,
          0.39753279031415817
         ],
         "xaxis": "x3",
         "y": [
          0.8144187353470765,
          0.06943968861889845,
          -0.6051177979947289,
          1.4200079041252598,
          -0.0947786780060265,
          0.4353422038499592,
          -0.867023819630172,
          0.22712243386141492,
          -1.5936932223573854,
          0.9241321743715584,
          1.0741759091264447,
          0.2642848602684432,
          0.23913383143078554,
          -0.5296200715161591,
          -0.04891670088749185,
          2.1634524071419787,
          0.07959748768622212,
          -0.07335152100529256,
          1.5679201630912711,
          0.053219499966360065,
          0.4377909275954798,
          -0.4108738189474997,
          -0.7190016400390153,
          0.3089019437067334,
          -0.26423764468661287,
          0.36404162684384966,
          1.8896605987378767,
          2.1064726673601473,
          -1.5133649684716444,
          0.009869769374126338,
          -2.235250524481225,
          -0.22337057601326998,
          0.8561588927857099,
          0.3856941145134942,
          -0.28496750706782986,
          0.048889224040245864,
          0.025062845777872163,
          -1.0042775436667823,
          0.004264310636040312,
          0.36646690572102514,
          0.8564286027355924,
          0.7887314088131345,
          -1.4777313939744903,
          -1.3166971416521733,
          -0.3208680303833144,
          -1.0198295242273419,
          0.3050677612939885,
          -0.8082594772684302,
          1.0571811122584296,
          -0.04330549718699945,
          0.8025279972795675,
          -1.0721022431178582,
          -1.72663719878505,
          0.0339265990132973,
          1.2082859061825684,
          0.000024056453408913362,
          0.15433331363831615,
          -0.16675365867183428,
          -0.4228428279887474,
          0.3122211018338927,
          0.6476593566228214,
          -0.7539537124490568,
          0.7782385509153177,
          -0.7731846360605293,
          -0.28562378587155934,
          -1.1657939985705077,
          -0.862042219934001,
          1.2110234354162455,
          0.8899036716432929,
          0.7919978324104415,
          -1.3310000935841564,
          0.7214732267316021,
          1.816489263931352,
          -0.7387856010538364,
          -1.0744705332323945,
          -0.7179108109427301,
          -0.297208515362758,
          -1.5286827136665169,
          0.6074091759350303,
          0.33771344384352486,
          1.259831207812005,
          0.7635495768552607,
          0.9597488173525972,
          1.014646551078339,
          2.7867484067169075,
          -2.52971826710298,
          -1.0213281238237273,
          0.8211913091724549,
          -1.0097182596065781,
          -0.43058400358984134,
          -1.3431455484801735,
          0.5474436942796898,
          0.2188722331836831,
          0.3741308838429427,
          0.051190565779324584,
          -0.15410944771311572,
          -2.1474278848315973,
          0.8510314976663124,
          1.0218206672961965,
          -1.1703526126312642
         ],
         "yaxis": "y3"
        },
        {
         "line": {
          "color": "rgba(128, 128, 128, 1.0)",
          "dash": "solid",
          "shape": "linear",
          "width": 1.3
         },
         "marker": {
          "size": 2,
          "symbol": "circle"
         },
         "mode": "markers",
         "name": "A",
         "text": "",
         "type": "scatter",
         "x": [
          0.7983743801094474,
          -0.9144970364904372,
          0.7377608206373266,
          1.2094442701617718,
          -0.034113644476177776,
          -0.07468997283468373,
          -0.4365334188683654,
          -0.3359540436610759,
          -0.4900620521275639,
          0.649452927104052,
          1.32401981584447,
          -0.6681148646130952,
          1.555881666445536,
          -0.663312350537218,
          0.517535606177241,
          -0.5963604186186587,
          -0.7289394666967155,
          -0.6614334140291629,
          1.2114499104973508,
          -0.9400044909732653,
          -0.3365622407764457,
          -0.004840309662538441,
          0.4014252667959559,
          1.7702074207636602,
          -0.15902830085492964,
          -0.4491525183361768,
          0.8199773050078053,
          0.24241653586728773,
          0.038871122497753034,
          0.7673859834900345,
          1.6709893112852547,
          -1.880682722554869,
          1.1464979996109588,
          0.4642917919716699,
          -1.387190001527133,
          -0.2321182753605703,
          -0.7728716451587044,
          1.3527609759626273,
          0.20333893805926107,
          -0.5967623483934287,
          -0.5591239031247264,
          -0.024998089594043083,
          1.5416581207071445,
          1.23818191360569,
          -0.9290027328307017,
          -1.3457789379399776,
          -0.8341286738944954,
          0.5001677599565157,
          -0.5967692094673804,
          0.27348645339355887,
          0.7760781915679874,
          0.457613185037016,
          -0.3492103540291085,
          -0.3842909854963571,
          -0.2722242403653147,
          0.9332740640305395,
          0.23977015203568813,
          -0.9228408546299977,
          -0.10151930381245429,
          0.654726180321158,
          -0.30355737514787784,
          1.6422770017101684,
          1.4363121905920537,
          -0.025215221682091615,
          0.18153341490580763,
          1.3415552322991204,
          -0.18110803904038167,
          -0.3176728394306511,
          0.9505354693710215,
          0.877167018703993,
          -0.1170786443188935,
          -0.39678780004479736,
          -0.0795907042411347,
          -0.4329229278703074,
          0.3570504785206501,
          -0.10208750684175669,
          -1.7877055134430488,
          0.5441865529079403,
          -1.5405593425245991,
          -0.7191063863844535,
          0.31760538624398443,
          -1.5139475416410115,
          1.2068157093758292,
          -2.172599935187426,
          0.6871903377937948,
          -0.7751249426919488,
          -0.8218306588295341,
          1.2856002478718513,
          -0.09592446267838775,
          0.28311341574543314,
          -2.1006508831448105,
          -0.6978537491787855,
          -0.9078269204518609,
          0.2923304985925143,
          0.025863130056403685,
          -1.9227191104639756,
          1.5930321631902804,
          -0.5990701946123035,
          -1.4867794289966045,
          0.6013644071384248
         ],
         "xaxis": "x4",
         "y": [
          0.8144187353470765,
          0.06943968861889845,
          -0.6051177979947289,
          1.4200079041252598,
          -0.0947786780060265,
          0.4353422038499592,
          -0.867023819630172,
          0.22712243386141492,
          -1.5936932223573854,
          0.9241321743715584,
          1.0741759091264447,
          0.2642848602684432,
          0.23913383143078554,
          -0.5296200715161591,
          -0.04891670088749185,
          2.1634524071419787,
          0.07959748768622212,
          -0.07335152100529256,
          1.5679201630912711,
          0.053219499966360065,
          0.4377909275954798,
          -0.4108738189474997,
          -0.7190016400390153,
          0.3089019437067334,
          -0.26423764468661287,
          0.36404162684384966,
          1.8896605987378767,
          2.1064726673601473,
          -1.5133649684716444,
          0.009869769374126338,
          -2.235250524481225,
          -0.22337057601326998,
          0.8561588927857099,
          0.3856941145134942,
          -0.28496750706782986,
          0.048889224040245864,
          0.025062845777872163,
          -1.0042775436667823,
          0.004264310636040312,
          0.36646690572102514,
          0.8564286027355924,
          0.7887314088131345,
          -1.4777313939744903,
          -1.3166971416521733,
          -0.3208680303833144,
          -1.0198295242273419,
          0.3050677612939885,
          -0.8082594772684302,
          1.0571811122584296,
          -0.04330549718699945,
          0.8025279972795675,
          -1.0721022431178582,
          -1.72663719878505,
          0.0339265990132973,
          1.2082859061825684,
          0.000024056453408913362,
          0.15433331363831615,
          -0.16675365867183428,
          -0.4228428279887474,
          0.3122211018338927,
          0.6476593566228214,
          -0.7539537124490568,
          0.7782385509153177,
          -0.7731846360605293,
          -0.28562378587155934,
          -1.1657939985705077,
          -0.862042219934001,
          1.2110234354162455,
          0.8899036716432929,
          0.7919978324104415,
          -1.3310000935841564,
          0.7214732267316021,
          1.816489263931352,
          -0.7387856010538364,
          -1.0744705332323945,
          -0.7179108109427301,
          -0.297208515362758,
          -1.5286827136665169,
          0.6074091759350303,
          0.33771344384352486,
          1.259831207812005,
          0.7635495768552607,
          0.9597488173525972,
          1.014646551078339,
          2.7867484067169075,
          -2.52971826710298,
          -1.0213281238237273,
          0.8211913091724549,
          -1.0097182596065781,
          -0.43058400358984134,
          -1.3431455484801735,
          0.5474436942796898,
          0.2188722331836831,
          0.3741308838429427,
          0.051190565779324584,
          -0.15410944771311572,
          -2.1474278848315973,
          0.8510314976663124,
          1.0218206672961965,
          -1.1703526126312642
         ],
         "yaxis": "y4"
        },
        {
         "line": {
          "color": "rgba(128, 128, 128, 1.0)",
          "dash": "solid",
          "shape": "linear",
          "width": 1.3
         },
         "marker": {
          "size": 2,
          "symbol": "circle"
         },
         "mode": "markers",
         "name": "B",
         "text": "",
         "type": "scatter",
         "x": [
          0.8144187353470765,
          0.06943968861889845,
          -0.6051177979947289,
          1.4200079041252598,
          -0.0947786780060265,
          0.4353422038499592,
          -0.867023819630172,
          0.22712243386141492,
          -1.5936932223573854,
          0.9241321743715584,
          1.0741759091264447,
          0.2642848602684432,
          0.23913383143078554,
          -0.5296200715161591,
          -0.04891670088749185,
          2.1634524071419787,
          0.07959748768622212,
          -0.07335152100529256,
          1.5679201630912711,
          0.053219499966360065,
          0.4377909275954798,
          -0.4108738189474997,
          -0.7190016400390153,
          0.3089019437067334,
          -0.26423764468661287,
          0.36404162684384966,
          1.8896605987378767,
          2.1064726673601473,
          -1.5133649684716444,
          0.009869769374126338,
          -2.235250524481225,
          -0.22337057601326998,
          0.8561588927857099,
          0.3856941145134942,
          -0.28496750706782986,
          0.048889224040245864,
          0.025062845777872163,
          -1.0042775436667823,
          0.004264310636040312,
          0.36646690572102514,
          0.8564286027355924,
          0.7887314088131345,
          -1.4777313939744903,
          -1.3166971416521733,
          -0.3208680303833144,
          -1.0198295242273419,
          0.3050677612939885,
          -0.8082594772684302,
          1.0571811122584296,
          -0.04330549718699945,
          0.8025279972795675,
          -1.0721022431178582,
          -1.72663719878505,
          0.0339265990132973,
          1.2082859061825684,
          0.000024056453408913362,
          0.15433331363831615,
          -0.16675365867183428,
          -0.4228428279887474,
          0.3122211018338927,
          0.6476593566228214,
          -0.7539537124490568,
          0.7782385509153177,
          -0.7731846360605293,
          -0.28562378587155934,
          -1.1657939985705077,
          -0.862042219934001,
          1.2110234354162455,
          0.8899036716432929,
          0.7919978324104415,
          -1.3310000935841564,
          0.7214732267316021,
          1.816489263931352,
          -0.7387856010538364,
          -1.0744705332323945,
          -0.7179108109427301,
          -0.297208515362758,
          -1.5286827136665169,
          0.6074091759350303,
          0.33771344384352486,
          1.259831207812005,
          0.7635495768552607,
          0.9597488173525972,
          1.014646551078339,
          2.7867484067169075,
          -2.52971826710298,
          -1.0213281238237273,
          0.8211913091724549,
          -1.0097182596065781,
          -0.43058400358984134,
          -1.3431455484801735,
          0.5474436942796898,
          0.2188722331836831,
          0.3741308838429427,
          0.051190565779324584,
          -0.15410944771311572,
          -2.1474278848315973,
          0.8510314976663124,
          1.0218206672961965,
          -1.1703526126312642
         ],
         "xaxis": "x5",
         "y": [
          1.182835259237497,
          -0.8975732145797927,
          0.5220275195709047,
          0.16526936777424775,
          0.8221463234629366,
          0.09561960691624612,
          0.7154934197202248,
          -0.7239419506948116,
          -1.6183004239710814,
          -0.5805208012812353,
          -0.2231518507637324,
          0.5809954447566315,
          0.7896657634190364,
          0.09859341287168244,
          1.01181077086917,
          1.2801686263217356,
          0.006802514892934026,
          0.749579462162761,
          1.0226976632439386,
          1.6113010155683734,
          -1.7506865128832618,
          0.5026636946768042,
          -2.4396447316668235,
          -0.9043217468103396,
          -0.5452287632889667,
          -1.6417557829174791,
          0.28369201260159543,
          0.05773592079350799,
          -0.10589216598255646,
          0.972409774305762,
          1.121115719140552,
          0.1888647630515083,
          1.1899209062449612,
          -0.5388108014040269,
          -0.868672535059343,
          0.9492871720305138,
          -1.062542675070697,
          1.7106588413411308,
          1.1044216631680823,
          -0.6928660691112118,
          -0.46731344859800633,
          -0.30426022660944946,
          1.2709380589317472,
          -2.6227128294051414,
          0.6296655254120602,
          0.4300620265521417,
          -0.6480888131663791,
          -1.438046558452693,
          -0.402555960745747,
          -2.29535392221176,
          -0.11827288604262658,
          -1.0221151216646072,
          1.281883419834949,
          -0.9207405377108133,
          -1.9270739466753486,
          0.6676074238160519,
          0.11366910445242777,
          -1.1706213115879172,
          -0.11760123847185962,
          0.3172164900409643,
          -0.6643484679944766,
          -1.512156820047486,
          -0.8162683653806203,
          1.5348972081867693,
          2.0839592977231662,
          -0.7358936086844449,
          -1.0497042264481218,
          0.44282965790962225,
          -0.3802702424432359,
          1.5832824629988664,
          0.2679297436872706,
          -2.0234957168473806,
          0.9667018570206107,
          0.8001169737148024,
          -0.42758278331913757,
          -0.9907477622080939,
          -0.6126108190402878,
          0.712290384429327,
          -1.005642475286215,
          -1.9782557774705911,
          0.9211827602892596,
          -1.3697132180465084,
          -0.8415705327052733,
          2.7174073081230024,
          -1.4140618599490045,
          0.6633224069552077,
          0.41129032261369175,
          -0.6480931619950667,
          -0.13443803548642455,
          1.0374495373632742,
          0.5593281556573985,
          -1.6662162894285633,
          0.671438208173271,
          -0.08855620096733283,
          -0.7706300723442125,
          -0.12289390281624057,
          -0.1569283401959346,
          2.4871475021674456,
          0.6363121492402903,
          -0.5900043050544014
         ],
         "yaxis": "y5"
        },
        {
         "histfunc": "count",
         "histnorm": "",
         "marker": {
          "color": "rgba(55, 128, 191, 1.0)",
          "line": {
           "color": "#4D5663",
           "width": 1.3
          }
         },
         "name": "B",
         "nbinsx": 10,
         "opacity": 0.8,
         "orientation": "v",
         "type": "histogram",
         "x": [
          1.182835259237497,
          -0.8975732145797927,
          0.5220275195709047,
          0.16526936777424775,
          0.8221463234629366,
          0.09561960691624612,
          0.7154934197202248,
          -0.7239419506948116,
          -1.6183004239710814,
          -0.5805208012812353,
          -0.2231518507637324,
          0.5809954447566315,
          0.7896657634190364,
          0.09859341287168244,
          1.01181077086917,
          1.2801686263217356,
          0.006802514892934026,
          0.749579462162761,
          1.0226976632439386,
          1.6113010155683734,
          -1.7506865128832618,
          0.5026636946768042,
          -2.4396447316668235,
          -0.9043217468103396,
          -0.5452287632889667,
          -1.6417557829174791,
          0.28369201260159543,
          0.05773592079350799,
          -0.10589216598255646,
          0.972409774305762,
          1.121115719140552,
          0.1888647630515083,
          1.1899209062449612,
          -0.5388108014040269,
          -0.868672535059343,
          0.9492871720305138,
          -1.062542675070697,
          1.7106588413411308,
          1.1044216631680823,
          -0.6928660691112118,
          -0.46731344859800633,
          -0.30426022660944946,
          1.2709380589317472,
          -2.6227128294051414,
          0.6296655254120602,
          0.4300620265521417,
          -0.6480888131663791,
          -1.438046558452693,
          -0.402555960745747,
          -2.29535392221176,
          -0.11827288604262658,
          -1.0221151216646072,
          1.281883419834949,
          -0.9207405377108133,
          -1.9270739466753486,
          0.6676074238160519,
          0.11366910445242777,
          -1.1706213115879172,
          -0.11760123847185962,
          0.3172164900409643,
          -0.6643484679944766,
          -1.512156820047486,
          -0.8162683653806203,
          1.5348972081867693,
          2.0839592977231662,
          -0.7358936086844449,
          -1.0497042264481218,
          0.44282965790962225,
          -0.3802702424432359,
          1.5832824629988664,
          0.2679297436872706,
          -2.0234957168473806,
          0.9667018570206107,
          0.8001169737148024,
          -0.42758278331913757,
          -0.9907477622080939,
          -0.6126108190402878,
          0.712290384429327,
          -1.005642475286215,
          -1.9782557774705911,
          0.9211827602892596,
          -1.3697132180465084,
          -0.8415705327052733,
          2.7174073081230024,
          -1.4140618599490045,
          0.6633224069552077,
          0.41129032261369175,
          -0.6480931619950667,
          -0.13443803548642455,
          1.0374495373632742,
          0.5593281556573985,
          -1.6662162894285633,
          0.671438208173271,
          -0.08855620096733283,
          -0.7706300723442125,
          -0.12289390281624057,
          -0.1569283401959346,
          2.4871475021674456,
          0.6363121492402903,
          -0.5900043050544014
         ],
         "xaxis": "x6",
         "yaxis": "y6"
        },
        {
         "line": {
          "color": "rgba(128, 128, 128, 1.0)",
          "dash": "solid",
          "shape": "linear",
          "width": 1.3
         },
         "marker": {
          "size": 2,
          "symbol": "circle"
         },
         "mode": "markers",
         "name": "B",
         "text": "",
         "type": "scatter",
         "x": [
          1.6320067672550114,
          0.013571597518988485,
          0.4267658992242022,
          0.3131395724831427,
          0.934514580222743,
          -0.5861022341329414,
          -1.4302987559641342,
          -0.22139786013664656,
          0.663171007555064,
          2.701568054660681,
          1.132655258868716,
          -1.2618240324811285,
          0.5967099360070722,
          -0.41428701335549833,
          0.6497449486826024,
          0.48044113315915926,
          1.0254986480098311,
          -1.7686908679270839,
          -1.7832391917216104,
          -0.8028078859416806,
          0.37707515279233544,
          0.23536684330914645,
          -1.351390100005412,
          -0.549926509826069,
          0.15787586136443116,
          0.3358040809294726,
          0.9166551680285362,
          -0.6000079288730298,
          0.356198542020789,
          -0.1616092278325927,
          -1.190736474961592,
          0.831948021082437,
          0.7108672665104884,
          -1.7565110463718139,
          1.7376816351250506,
          0.03562378256214433,
          1.1432465610938845,
          -1.7478516383727796,
          -0.5592256625903307,
          3.3430285040112238,
          1.6325210655742146,
          -0.35001531476351644,
          0.3271038550921371,
          -0.270790748596994,
          0.5146495788960012,
          -0.2387753632827418,
          -0.48190934620946485,
          0.337523458681305,
          0.6010108834316373,
          -0.6199546591098973,
          0.10261063320245636,
          0.09995308905169957,
          0.6872136943272025,
          0.8641432838921995,
          -0.20126688927067837,
          -0.14630490200191154,
          -0.9385932134581134,
          1.0167311715915515,
          -0.6940746798664247,
          0.37801160636747616,
          -2.0155541281707006,
          -0.19302718238829325,
          -0.2779639236364774,
          -1.9415924471161954,
          0.09536631705421743,
          -0.09356181753016589,
          0.8925625646518249,
          -1.2118433366028099,
          0.18860333713105218,
          0.5465591440427829,
          0.1873570216311578,
          -1.9447893839439823,
          -0.4108825283397903,
          1.4986613443997372,
          -1.2330691203098796,
          -1.7243747243962575,
          0.3664730328822936,
          0.4912675975383385,
          -1.4672190385613428,
          -0.6312494119824602,
          0.02051711049058606,
          -0.4110566281906969,
          0.6941310017272373,
          0.3479202980775581,
          0.9666567204573491,
          2.0130805562881755,
          -0.6622077039577834,
          -1.091774596828099,
          -0.4920180595361232,
          0.24288614812627068,
          -0.4158228823948609,
          0.5338377236145971,
          -1.1472736403024104,
          -0.5283819826171251,
          0.9822910754737452,
          0.9913128563641996,
          1.8591684246578655,
          -0.7352461179154989,
          0.2791521002534852,
          0.39753279031415817
         ],
         "xaxis": "x7",
         "y": [
          1.182835259237497,
          -0.8975732145797927,
          0.5220275195709047,
          0.16526936777424775,
          0.8221463234629366,
          0.09561960691624612,
          0.7154934197202248,
          -0.7239419506948116,
          -1.6183004239710814,
          -0.5805208012812353,
          -0.2231518507637324,
          0.5809954447566315,
          0.7896657634190364,
          0.09859341287168244,
          1.01181077086917,
          1.2801686263217356,
          0.006802514892934026,
          0.749579462162761,
          1.0226976632439386,
          1.6113010155683734,
          -1.7506865128832618,
          0.5026636946768042,
          -2.4396447316668235,
          -0.9043217468103396,
          -0.5452287632889667,
          -1.6417557829174791,
          0.28369201260159543,
          0.05773592079350799,
          -0.10589216598255646,
          0.972409774305762,
          1.121115719140552,
          0.1888647630515083,
          1.1899209062449612,
          -0.5388108014040269,
          -0.868672535059343,
          0.9492871720305138,
          -1.062542675070697,
          1.7106588413411308,
          1.1044216631680823,
          -0.6928660691112118,
          -0.46731344859800633,
          -0.30426022660944946,
          1.2709380589317472,
          -2.6227128294051414,
          0.6296655254120602,
          0.4300620265521417,
          -0.6480888131663791,
          -1.438046558452693,
          -0.402555960745747,
          -2.29535392221176,
          -0.11827288604262658,
          -1.0221151216646072,
          1.281883419834949,
          -0.9207405377108133,
          -1.9270739466753486,
          0.6676074238160519,
          0.11366910445242777,
          -1.1706213115879172,
          -0.11760123847185962,
          0.3172164900409643,
          -0.6643484679944766,
          -1.512156820047486,
          -0.8162683653806203,
          1.5348972081867693,
          2.0839592977231662,
          -0.7358936086844449,
          -1.0497042264481218,
          0.44282965790962225,
          -0.3802702424432359,
          1.5832824629988664,
          0.2679297436872706,
          -2.0234957168473806,
          0.9667018570206107,
          0.8001169737148024,
          -0.42758278331913757,
          -0.9907477622080939,
          -0.6126108190402878,
          0.712290384429327,
          -1.005642475286215,
          -1.9782557774705911,
          0.9211827602892596,
          -1.3697132180465084,
          -0.8415705327052733,
          2.7174073081230024,
          -1.4140618599490045,
          0.6633224069552077,
          0.41129032261369175,
          -0.6480931619950667,
          -0.13443803548642455,
          1.0374495373632742,
          0.5593281556573985,
          -1.6662162894285633,
          0.671438208173271,
          -0.08855620096733283,
          -0.7706300723442125,
          -0.12289390281624057,
          -0.1569283401959346,
          2.4871475021674456,
          0.6363121492402903,
          -0.5900043050544014
         ],
         "yaxis": "y7"
        },
        {
         "line": {
          "color": "rgba(128, 128, 128, 1.0)",
          "dash": "solid",
          "shape": "linear",
          "width": 1.3
         },
         "marker": {
          "size": 2,
          "symbol": "circle"
         },
         "mode": "markers",
         "name": "B",
         "text": "",
         "type": "scatter",
         "x": [
          0.7983743801094474,
          -0.9144970364904372,
          0.7377608206373266,
          1.2094442701617718,
          -0.034113644476177776,
          -0.07468997283468373,
          -0.4365334188683654,
          -0.3359540436610759,
          -0.4900620521275639,
          0.649452927104052,
          1.32401981584447,
          -0.6681148646130952,
          1.555881666445536,
          -0.663312350537218,
          0.517535606177241,
          -0.5963604186186587,
          -0.7289394666967155,
          -0.6614334140291629,
          1.2114499104973508,
          -0.9400044909732653,
          -0.3365622407764457,
          -0.004840309662538441,
          0.4014252667959559,
          1.7702074207636602,
          -0.15902830085492964,
          -0.4491525183361768,
          0.8199773050078053,
          0.24241653586728773,
          0.038871122497753034,
          0.7673859834900345,
          1.6709893112852547,
          -1.880682722554869,
          1.1464979996109588,
          0.4642917919716699,
          -1.387190001527133,
          -0.2321182753605703,
          -0.7728716451587044,
          1.3527609759626273,
          0.20333893805926107,
          -0.5967623483934287,
          -0.5591239031247264,
          -0.024998089594043083,
          1.5416581207071445,
          1.23818191360569,
          -0.9290027328307017,
          -1.3457789379399776,
          -0.8341286738944954,
          0.5001677599565157,
          -0.5967692094673804,
          0.27348645339355887,
          0.7760781915679874,
          0.457613185037016,
          -0.3492103540291085,
          -0.3842909854963571,
          -0.2722242403653147,
          0.9332740640305395,
          0.23977015203568813,
          -0.9228408546299977,
          -0.10151930381245429,
          0.654726180321158,
          -0.30355737514787784,
          1.6422770017101684,
          1.4363121905920537,
          -0.025215221682091615,
          0.18153341490580763,
          1.3415552322991204,
          -0.18110803904038167,
          -0.3176728394306511,
          0.9505354693710215,
          0.877167018703993,
          -0.1170786443188935,
          -0.39678780004479736,
          -0.0795907042411347,
          -0.4329229278703074,
          0.3570504785206501,
          -0.10208750684175669,
          -1.7877055134430488,
          0.5441865529079403,
          -1.5405593425245991,
          -0.7191063863844535,
          0.31760538624398443,
          -1.5139475416410115,
          1.2068157093758292,
          -2.172599935187426,
          0.6871903377937948,
          -0.7751249426919488,
          -0.8218306588295341,
          1.2856002478718513,
          -0.09592446267838775,
          0.28311341574543314,
          -2.1006508831448105,
          -0.6978537491787855,
          -0.9078269204518609,
          0.2923304985925143,
          0.025863130056403685,
          -1.9227191104639756,
          1.5930321631902804,
          -0.5990701946123035,
          -1.4867794289966045,
          0.6013644071384248
         ],
         "xaxis": "x8",
         "y": [
          1.182835259237497,
          -0.8975732145797927,
          0.5220275195709047,
          0.16526936777424775,
          0.8221463234629366,
          0.09561960691624612,
          0.7154934197202248,
          -0.7239419506948116,
          -1.6183004239710814,
          -0.5805208012812353,
          -0.2231518507637324,
          0.5809954447566315,
          0.7896657634190364,
          0.09859341287168244,
          1.01181077086917,
          1.2801686263217356,
          0.006802514892934026,
          0.749579462162761,
          1.0226976632439386,
          1.6113010155683734,
          -1.7506865128832618,
          0.5026636946768042,
          -2.4396447316668235,
          -0.9043217468103396,
          -0.5452287632889667,
          -1.6417557829174791,
          0.28369201260159543,
          0.05773592079350799,
          -0.10589216598255646,
          0.972409774305762,
          1.121115719140552,
          0.1888647630515083,
          1.1899209062449612,
          -0.5388108014040269,
          -0.868672535059343,
          0.9492871720305138,
          -1.062542675070697,
          1.7106588413411308,
          1.1044216631680823,
          -0.6928660691112118,
          -0.46731344859800633,
          -0.30426022660944946,
          1.2709380589317472,
          -2.6227128294051414,
          0.6296655254120602,
          0.4300620265521417,
          -0.6480888131663791,
          -1.438046558452693,
          -0.402555960745747,
          -2.29535392221176,
          -0.11827288604262658,
          -1.0221151216646072,
          1.281883419834949,
          -0.9207405377108133,
          -1.9270739466753486,
          0.6676074238160519,
          0.11366910445242777,
          -1.1706213115879172,
          -0.11760123847185962,
          0.3172164900409643,
          -0.6643484679944766,
          -1.512156820047486,
          -0.8162683653806203,
          1.5348972081867693,
          2.0839592977231662,
          -0.7358936086844449,
          -1.0497042264481218,
          0.44282965790962225,
          -0.3802702424432359,
          1.5832824629988664,
          0.2679297436872706,
          -2.0234957168473806,
          0.9667018570206107,
          0.8001169737148024,
          -0.42758278331913757,
          -0.9907477622080939,
          -0.6126108190402878,
          0.712290384429327,
          -1.005642475286215,
          -1.9782557774705911,
          0.9211827602892596,
          -1.3697132180465084,
          -0.8415705327052733,
          2.7174073081230024,
          -1.4140618599490045,
          0.6633224069552077,
          0.41129032261369175,
          -0.6480931619950667,
          -0.13443803548642455,
          1.0374495373632742,
          0.5593281556573985,
          -1.6662162894285633,
          0.671438208173271,
          -0.08855620096733283,
          -0.7706300723442125,
          -0.12289390281624057,
          -0.1569283401959346,
          2.4871475021674456,
          0.6363121492402903,
          -0.5900043050544014
         ],
         "yaxis": "y8"
        },
        {
         "line": {
          "color": "rgba(128, 128, 128, 1.0)",
          "dash": "solid",
          "shape": "linear",
          "width": 1.3
         },
         "marker": {
          "size": 2,
          "symbol": "circle"
         },
         "mode": "markers",
         "name": "C",
         "text": "",
         "type": "scatter",
         "x": [
          0.8144187353470765,
          0.06943968861889845,
          -0.6051177979947289,
          1.4200079041252598,
          -0.0947786780060265,
          0.4353422038499592,
          -0.867023819630172,
          0.22712243386141492,
          -1.5936932223573854,
          0.9241321743715584,
          1.0741759091264447,
          0.2642848602684432,
          0.23913383143078554,
          -0.5296200715161591,
          -0.04891670088749185,
          2.1634524071419787,
          0.07959748768622212,
          -0.07335152100529256,
          1.5679201630912711,
          0.053219499966360065,
          0.4377909275954798,
          -0.4108738189474997,
          -0.7190016400390153,
          0.3089019437067334,
          -0.26423764468661287,
          0.36404162684384966,
          1.8896605987378767,
          2.1064726673601473,
          -1.5133649684716444,
          0.009869769374126338,
          -2.235250524481225,
          -0.22337057601326998,
          0.8561588927857099,
          0.3856941145134942,
          -0.28496750706782986,
          0.048889224040245864,
          0.025062845777872163,
          -1.0042775436667823,
          0.004264310636040312,
          0.36646690572102514,
          0.8564286027355924,
          0.7887314088131345,
          -1.4777313939744903,
          -1.3166971416521733,
          -0.3208680303833144,
          -1.0198295242273419,
          0.3050677612939885,
          -0.8082594772684302,
          1.0571811122584296,
          -0.04330549718699945,
          0.8025279972795675,
          -1.0721022431178582,
          -1.72663719878505,
          0.0339265990132973,
          1.2082859061825684,
          0.000024056453408913362,
          0.15433331363831615,
          -0.16675365867183428,
          -0.4228428279887474,
          0.3122211018338927,
          0.6476593566228214,
          -0.7539537124490568,
          0.7782385509153177,
          -0.7731846360605293,
          -0.28562378587155934,
          -1.1657939985705077,
          -0.862042219934001,
          1.2110234354162455,
          0.8899036716432929,
          0.7919978324104415,
          -1.3310000935841564,
          0.7214732267316021,
          1.816489263931352,
          -0.7387856010538364,
          -1.0744705332323945,
          -0.7179108109427301,
          -0.297208515362758,
          -1.5286827136665169,
          0.6074091759350303,
          0.33771344384352486,
          1.259831207812005,
          0.7635495768552607,
          0.9597488173525972,
          1.014646551078339,
          2.7867484067169075,
          -2.52971826710298,
          -1.0213281238237273,
          0.8211913091724549,
          -1.0097182596065781,
          -0.43058400358984134,
          -1.3431455484801735,
          0.5474436942796898,
          0.2188722331836831,
          0.3741308838429427,
          0.051190565779324584,
          -0.15410944771311572,
          -2.1474278848315973,
          0.8510314976663124,
          1.0218206672961965,
          -1.1703526126312642
         ],
         "xaxis": "x9",
         "y": [
          1.6320067672550114,
          0.013571597518988485,
          0.4267658992242022,
          0.3131395724831427,
          0.934514580222743,
          -0.5861022341329414,
          -1.4302987559641342,
          -0.22139786013664656,
          0.663171007555064,
          2.701568054660681,
          1.132655258868716,
          -1.2618240324811285,
          0.5967099360070722,
          -0.41428701335549833,
          0.6497449486826024,
          0.48044113315915926,
          1.0254986480098311,
          -1.7686908679270839,
          -1.7832391917216104,
          -0.8028078859416806,
          0.37707515279233544,
          0.23536684330914645,
          -1.351390100005412,
          -0.549926509826069,
          0.15787586136443116,
          0.3358040809294726,
          0.9166551680285362,
          -0.6000079288730298,
          0.356198542020789,
          -0.1616092278325927,
          -1.190736474961592,
          0.831948021082437,
          0.7108672665104884,
          -1.7565110463718139,
          1.7376816351250506,
          0.03562378256214433,
          1.1432465610938845,
          -1.7478516383727796,
          -0.5592256625903307,
          3.3430285040112238,
          1.6325210655742146,
          -0.35001531476351644,
          0.3271038550921371,
          -0.270790748596994,
          0.5146495788960012,
          -0.2387753632827418,
          -0.48190934620946485,
          0.337523458681305,
          0.6010108834316373,
          -0.6199546591098973,
          0.10261063320245636,
          0.09995308905169957,
          0.6872136943272025,
          0.8641432838921995,
          -0.20126688927067837,
          -0.14630490200191154,
          -0.9385932134581134,
          1.0167311715915515,
          -0.6940746798664247,
          0.37801160636747616,
          -2.0155541281707006,
          -0.19302718238829325,
          -0.2779639236364774,
          -1.9415924471161954,
          0.09536631705421743,
          -0.09356181753016589,
          0.8925625646518249,
          -1.2118433366028099,
          0.18860333713105218,
          0.5465591440427829,
          0.1873570216311578,
          -1.9447893839439823,
          -0.4108825283397903,
          1.4986613443997372,
          -1.2330691203098796,
          -1.7243747243962575,
          0.3664730328822936,
          0.4912675975383385,
          -1.4672190385613428,
          -0.6312494119824602,
          0.02051711049058606,
          -0.4110566281906969,
          0.6941310017272373,
          0.3479202980775581,
          0.9666567204573491,
          2.0130805562881755,
          -0.6622077039577834,
          -1.091774596828099,
          -0.4920180595361232,
          0.24288614812627068,
          -0.4158228823948609,
          0.5338377236145971,
          -1.1472736403024104,
          -0.5283819826171251,
          0.9822910754737452,
          0.9913128563641996,
          1.8591684246578655,
          -0.7352461179154989,
          0.2791521002534852,
          0.39753279031415817
         ],
         "yaxis": "y9"
        },
        {
         "line": {
          "color": "rgba(128, 128, 128, 1.0)",
          "dash": "solid",
          "shape": "linear",
          "width": 1.3
         },
         "marker": {
          "size": 2,
          "symbol": "circle"
         },
         "mode": "markers",
         "name": "C",
         "text": "",
         "type": "scatter",
         "x": [
          1.182835259237497,
          -0.8975732145797927,
          0.5220275195709047,
          0.16526936777424775,
          0.8221463234629366,
          0.09561960691624612,
          0.7154934197202248,
          -0.7239419506948116,
          -1.6183004239710814,
          -0.5805208012812353,
          -0.2231518507637324,
          0.5809954447566315,
          0.7896657634190364,
          0.09859341287168244,
          1.01181077086917,
          1.2801686263217356,
          0.006802514892934026,
          0.749579462162761,
          1.0226976632439386,
          1.6113010155683734,
          -1.7506865128832618,
          0.5026636946768042,
          -2.4396447316668235,
          -0.9043217468103396,
          -0.5452287632889667,
          -1.6417557829174791,
          0.28369201260159543,
          0.05773592079350799,
          -0.10589216598255646,
          0.972409774305762,
          1.121115719140552,
          0.1888647630515083,
          1.1899209062449612,
          -0.5388108014040269,
          -0.868672535059343,
          0.9492871720305138,
          -1.062542675070697,
          1.7106588413411308,
          1.1044216631680823,
          -0.6928660691112118,
          -0.46731344859800633,
          -0.30426022660944946,
          1.2709380589317472,
          -2.6227128294051414,
          0.6296655254120602,
          0.4300620265521417,
          -0.6480888131663791,
          -1.438046558452693,
          -0.402555960745747,
          -2.29535392221176,
          -0.11827288604262658,
          -1.0221151216646072,
          1.281883419834949,
          -0.9207405377108133,
          -1.9270739466753486,
          0.6676074238160519,
          0.11366910445242777,
          -1.1706213115879172,
          -0.11760123847185962,
          0.3172164900409643,
          -0.6643484679944766,
          -1.512156820047486,
          -0.8162683653806203,
          1.5348972081867693,
          2.0839592977231662,
          -0.7358936086844449,
          -1.0497042264481218,
          0.44282965790962225,
          -0.3802702424432359,
          1.5832824629988664,
          0.2679297436872706,
          -2.0234957168473806,
          0.9667018570206107,
          0.8001169737148024,
          -0.42758278331913757,
          -0.9907477622080939,
          -0.6126108190402878,
          0.712290384429327,
          -1.005642475286215,
          -1.9782557774705911,
          0.9211827602892596,
          -1.3697132180465084,
          -0.8415705327052733,
          2.7174073081230024,
          -1.4140618599490045,
          0.6633224069552077,
          0.41129032261369175,
          -0.6480931619950667,
          -0.13443803548642455,
          1.0374495373632742,
          0.5593281556573985,
          -1.6662162894285633,
          0.671438208173271,
          -0.08855620096733283,
          -0.7706300723442125,
          -0.12289390281624057,
          -0.1569283401959346,
          2.4871475021674456,
          0.6363121492402903,
          -0.5900043050544014
         ],
         "xaxis": "x10",
         "y": [
          1.6320067672550114,
          0.013571597518988485,
          0.4267658992242022,
          0.3131395724831427,
          0.934514580222743,
          -0.5861022341329414,
          -1.4302987559641342,
          -0.22139786013664656,
          0.663171007555064,
          2.701568054660681,
          1.132655258868716,
          -1.2618240324811285,
          0.5967099360070722,
          -0.41428701335549833,
          0.6497449486826024,
          0.48044113315915926,
          1.0254986480098311,
          -1.7686908679270839,
          -1.7832391917216104,
          -0.8028078859416806,
          0.37707515279233544,
          0.23536684330914645,
          -1.351390100005412,
          -0.549926509826069,
          0.15787586136443116,
          0.3358040809294726,
          0.9166551680285362,
          -0.6000079288730298,
          0.356198542020789,
          -0.1616092278325927,
          -1.190736474961592,
          0.831948021082437,
          0.7108672665104884,
          -1.7565110463718139,
          1.7376816351250506,
          0.03562378256214433,
          1.1432465610938845,
          -1.7478516383727796,
          -0.5592256625903307,
          3.3430285040112238,
          1.6325210655742146,
          -0.35001531476351644,
          0.3271038550921371,
          -0.270790748596994,
          0.5146495788960012,
          -0.2387753632827418,
          -0.48190934620946485,
          0.337523458681305,
          0.6010108834316373,
          -0.6199546591098973,
          0.10261063320245636,
          0.09995308905169957,
          0.6872136943272025,
          0.8641432838921995,
          -0.20126688927067837,
          -0.14630490200191154,
          -0.9385932134581134,
          1.0167311715915515,
          -0.6940746798664247,
          0.37801160636747616,
          -2.0155541281707006,
          -0.19302718238829325,
          -0.2779639236364774,
          -1.9415924471161954,
          0.09536631705421743,
          -0.09356181753016589,
          0.8925625646518249,
          -1.2118433366028099,
          0.18860333713105218,
          0.5465591440427829,
          0.1873570216311578,
          -1.9447893839439823,
          -0.4108825283397903,
          1.4986613443997372,
          -1.2330691203098796,
          -1.7243747243962575,
          0.3664730328822936,
          0.4912675975383385,
          -1.4672190385613428,
          -0.6312494119824602,
          0.02051711049058606,
          -0.4110566281906969,
          0.6941310017272373,
          0.3479202980775581,
          0.9666567204573491,
          2.0130805562881755,
          -0.6622077039577834,
          -1.091774596828099,
          -0.4920180595361232,
          0.24288614812627068,
          -0.4158228823948609,
          0.5338377236145971,
          -1.1472736403024104,
          -0.5283819826171251,
          0.9822910754737452,
          0.9913128563641996,
          1.8591684246578655,
          -0.7352461179154989,
          0.2791521002534852,
          0.39753279031415817
         ],
         "yaxis": "y10"
        },
        {
         "histfunc": "count",
         "histnorm": "",
         "marker": {
          "color": "rgba(50, 171, 96, 1.0)",
          "line": {
           "color": "#4D5663",
           "width": 1.3
          }
         },
         "name": "C",
         "nbinsx": 10,
         "opacity": 0.8,
         "orientation": "v",
         "type": "histogram",
         "x": [
          1.6320067672550114,
          0.013571597518988485,
          0.4267658992242022,
          0.3131395724831427,
          0.934514580222743,
          -0.5861022341329414,
          -1.4302987559641342,
          -0.22139786013664656,
          0.663171007555064,
          2.701568054660681,
          1.132655258868716,
          -1.2618240324811285,
          0.5967099360070722,
          -0.41428701335549833,
          0.6497449486826024,
          0.48044113315915926,
          1.0254986480098311,
          -1.7686908679270839,
          -1.7832391917216104,
          -0.8028078859416806,
          0.37707515279233544,
          0.23536684330914645,
          -1.351390100005412,
          -0.549926509826069,
          0.15787586136443116,
          0.3358040809294726,
          0.9166551680285362,
          -0.6000079288730298,
          0.356198542020789,
          -0.1616092278325927,
          -1.190736474961592,
          0.831948021082437,
          0.7108672665104884,
          -1.7565110463718139,
          1.7376816351250506,
          0.03562378256214433,
          1.1432465610938845,
          -1.7478516383727796,
          -0.5592256625903307,
          3.3430285040112238,
          1.6325210655742146,
          -0.35001531476351644,
          0.3271038550921371,
          -0.270790748596994,
          0.5146495788960012,
          -0.2387753632827418,
          -0.48190934620946485,
          0.337523458681305,
          0.6010108834316373,
          -0.6199546591098973,
          0.10261063320245636,
          0.09995308905169957,
          0.6872136943272025,
          0.8641432838921995,
          -0.20126688927067837,
          -0.14630490200191154,
          -0.9385932134581134,
          1.0167311715915515,
          -0.6940746798664247,
          0.37801160636747616,
          -2.0155541281707006,
          -0.19302718238829325,
          -0.2779639236364774,
          -1.9415924471161954,
          0.09536631705421743,
          -0.09356181753016589,
          0.8925625646518249,
          -1.2118433366028099,
          0.18860333713105218,
          0.5465591440427829,
          0.1873570216311578,
          -1.9447893839439823,
          -0.4108825283397903,
          1.4986613443997372,
          -1.2330691203098796,
          -1.7243747243962575,
          0.3664730328822936,
          0.4912675975383385,
          -1.4672190385613428,
          -0.6312494119824602,
          0.02051711049058606,
          -0.4110566281906969,
          0.6941310017272373,
          0.3479202980775581,
          0.9666567204573491,
          2.0130805562881755,
          -0.6622077039577834,
          -1.091774596828099,
          -0.4920180595361232,
          0.24288614812627068,
          -0.4158228823948609,
          0.5338377236145971,
          -1.1472736403024104,
          -0.5283819826171251,
          0.9822910754737452,
          0.9913128563641996,
          1.8591684246578655,
          -0.7352461179154989,
          0.2791521002534852,
          0.39753279031415817
         ],
         "xaxis": "x11",
         "yaxis": "y11"
        },
        {
         "line": {
          "color": "rgba(128, 128, 128, 1.0)",
          "dash": "solid",
          "shape": "linear",
          "width": 1.3
         },
         "marker": {
          "size": 2,
          "symbol": "circle"
         },
         "mode": "markers",
         "name": "C",
         "text": "",
         "type": "scatter",
         "x": [
          0.7983743801094474,
          -0.9144970364904372,
          0.7377608206373266,
          1.2094442701617718,
          -0.034113644476177776,
          -0.07468997283468373,
          -0.4365334188683654,
          -0.3359540436610759,
          -0.4900620521275639,
          0.649452927104052,
          1.32401981584447,
          -0.6681148646130952,
          1.555881666445536,
          -0.663312350537218,
          0.517535606177241,
          -0.5963604186186587,
          -0.7289394666967155,
          -0.6614334140291629,
          1.2114499104973508,
          -0.9400044909732653,
          -0.3365622407764457,
          -0.004840309662538441,
          0.4014252667959559,
          1.7702074207636602,
          -0.15902830085492964,
          -0.4491525183361768,
          0.8199773050078053,
          0.24241653586728773,
          0.038871122497753034,
          0.7673859834900345,
          1.6709893112852547,
          -1.880682722554869,
          1.1464979996109588,
          0.4642917919716699,
          -1.387190001527133,
          -0.2321182753605703,
          -0.7728716451587044,
          1.3527609759626273,
          0.20333893805926107,
          -0.5967623483934287,
          -0.5591239031247264,
          -0.024998089594043083,
          1.5416581207071445,
          1.23818191360569,
          -0.9290027328307017,
          -1.3457789379399776,
          -0.8341286738944954,
          0.5001677599565157,
          -0.5967692094673804,
          0.27348645339355887,
          0.7760781915679874,
          0.457613185037016,
          -0.3492103540291085,
          -0.3842909854963571,
          -0.2722242403653147,
          0.9332740640305395,
          0.23977015203568813,
          -0.9228408546299977,
          -0.10151930381245429,
          0.654726180321158,
          -0.30355737514787784,
          1.6422770017101684,
          1.4363121905920537,
          -0.025215221682091615,
          0.18153341490580763,
          1.3415552322991204,
          -0.18110803904038167,
          -0.3176728394306511,
          0.9505354693710215,
          0.877167018703993,
          -0.1170786443188935,
          -0.39678780004479736,
          -0.0795907042411347,
          -0.4329229278703074,
          0.3570504785206501,
          -0.10208750684175669,
          -1.7877055134430488,
          0.5441865529079403,
          -1.5405593425245991,
          -0.7191063863844535,
          0.31760538624398443,
          -1.5139475416410115,
          1.2068157093758292,
          -2.172599935187426,
          0.6871903377937948,
          -0.7751249426919488,
          -0.8218306588295341,
          1.2856002478718513,
          -0.09592446267838775,
          0.28311341574543314,
          -2.1006508831448105,
          -0.6978537491787855,
          -0.9078269204518609,
          0.2923304985925143,
          0.025863130056403685,
          -1.9227191104639756,
          1.5930321631902804,
          -0.5990701946123035,
          -1.4867794289966045,
          0.6013644071384248
         ],
         "xaxis": "x12",
         "y": [
          1.6320067672550114,
          0.013571597518988485,
          0.4267658992242022,
          0.3131395724831427,
          0.934514580222743,
          -0.5861022341329414,
          -1.4302987559641342,
          -0.22139786013664656,
          0.663171007555064,
          2.701568054660681,
          1.132655258868716,
          -1.2618240324811285,
          0.5967099360070722,
          -0.41428701335549833,
          0.6497449486826024,
          0.48044113315915926,
          1.0254986480098311,
          -1.7686908679270839,
          -1.7832391917216104,
          -0.8028078859416806,
          0.37707515279233544,
          0.23536684330914645,
          -1.351390100005412,
          -0.549926509826069,
          0.15787586136443116,
          0.3358040809294726,
          0.9166551680285362,
          -0.6000079288730298,
          0.356198542020789,
          -0.1616092278325927,
          -1.190736474961592,
          0.831948021082437,
          0.7108672665104884,
          -1.7565110463718139,
          1.7376816351250506,
          0.03562378256214433,
          1.1432465610938845,
          -1.7478516383727796,
          -0.5592256625903307,
          3.3430285040112238,
          1.6325210655742146,
          -0.35001531476351644,
          0.3271038550921371,
          -0.270790748596994,
          0.5146495788960012,
          -0.2387753632827418,
          -0.48190934620946485,
          0.337523458681305,
          0.6010108834316373,
          -0.6199546591098973,
          0.10261063320245636,
          0.09995308905169957,
          0.6872136943272025,
          0.8641432838921995,
          -0.20126688927067837,
          -0.14630490200191154,
          -0.9385932134581134,
          1.0167311715915515,
          -0.6940746798664247,
          0.37801160636747616,
          -2.0155541281707006,
          -0.19302718238829325,
          -0.2779639236364774,
          -1.9415924471161954,
          0.09536631705421743,
          -0.09356181753016589,
          0.8925625646518249,
          -1.2118433366028099,
          0.18860333713105218,
          0.5465591440427829,
          0.1873570216311578,
          -1.9447893839439823,
          -0.4108825283397903,
          1.4986613443997372,
          -1.2330691203098796,
          -1.7243747243962575,
          0.3664730328822936,
          0.4912675975383385,
          -1.4672190385613428,
          -0.6312494119824602,
          0.02051711049058606,
          -0.4110566281906969,
          0.6941310017272373,
          0.3479202980775581,
          0.9666567204573491,
          2.0130805562881755,
          -0.6622077039577834,
          -1.091774596828099,
          -0.4920180595361232,
          0.24288614812627068,
          -0.4158228823948609,
          0.5338377236145971,
          -1.1472736403024104,
          -0.5283819826171251,
          0.9822910754737452,
          0.9913128563641996,
          1.8591684246578655,
          -0.7352461179154989,
          0.2791521002534852,
          0.39753279031415817
         ],
         "yaxis": "y12"
        },
        {
         "line": {
          "color": "rgba(128, 128, 128, 1.0)",
          "dash": "solid",
          "shape": "linear",
          "width": 1.3
         },
         "marker": {
          "size": 2,
          "symbol": "circle"
         },
         "mode": "markers",
         "name": "D",
         "text": "",
         "type": "scatter",
         "x": [
          0.8144187353470765,
          0.06943968861889845,
          -0.6051177979947289,
          1.4200079041252598,
          -0.0947786780060265,
          0.4353422038499592,
          -0.867023819630172,
          0.22712243386141492,
          -1.5936932223573854,
          0.9241321743715584,
          1.0741759091264447,
          0.2642848602684432,
          0.23913383143078554,
          -0.5296200715161591,
          -0.04891670088749185,
          2.1634524071419787,
          0.07959748768622212,
          -0.07335152100529256,
          1.5679201630912711,
          0.053219499966360065,
          0.4377909275954798,
          -0.4108738189474997,
          -0.7190016400390153,
          0.3089019437067334,
          -0.26423764468661287,
          0.36404162684384966,
          1.8896605987378767,
          2.1064726673601473,
          -1.5133649684716444,
          0.009869769374126338,
          -2.235250524481225,
          -0.22337057601326998,
          0.8561588927857099,
          0.3856941145134942,
          -0.28496750706782986,
          0.048889224040245864,
          0.025062845777872163,
          -1.0042775436667823,
          0.004264310636040312,
          0.36646690572102514,
          0.8564286027355924,
          0.7887314088131345,
          -1.4777313939744903,
          -1.3166971416521733,
          -0.3208680303833144,
          -1.0198295242273419,
          0.3050677612939885,
          -0.8082594772684302,
          1.0571811122584296,
          -0.04330549718699945,
          0.8025279972795675,
          -1.0721022431178582,
          -1.72663719878505,
          0.0339265990132973,
          1.2082859061825684,
          0.000024056453408913362,
          0.15433331363831615,
          -0.16675365867183428,
          -0.4228428279887474,
          0.3122211018338927,
          0.6476593566228214,
          -0.7539537124490568,
          0.7782385509153177,
          -0.7731846360605293,
          -0.28562378587155934,
          -1.1657939985705077,
          -0.862042219934001,
          1.2110234354162455,
          0.8899036716432929,
          0.7919978324104415,
          -1.3310000935841564,
          0.7214732267316021,
          1.816489263931352,
          -0.7387856010538364,
          -1.0744705332323945,
          -0.7179108109427301,
          -0.297208515362758,
          -1.5286827136665169,
          0.6074091759350303,
          0.33771344384352486,
          1.259831207812005,
          0.7635495768552607,
          0.9597488173525972,
          1.014646551078339,
          2.7867484067169075,
          -2.52971826710298,
          -1.0213281238237273,
          0.8211913091724549,
          -1.0097182596065781,
          -0.43058400358984134,
          -1.3431455484801735,
          0.5474436942796898,
          0.2188722331836831,
          0.3741308838429427,
          0.051190565779324584,
          -0.15410944771311572,
          -2.1474278848315973,
          0.8510314976663124,
          1.0218206672961965,
          -1.1703526126312642
         ],
         "xaxis": "x13",
         "y": [
          0.7983743801094474,
          -0.9144970364904372,
          0.7377608206373266,
          1.2094442701617718,
          -0.034113644476177776,
          -0.07468997283468373,
          -0.4365334188683654,
          -0.3359540436610759,
          -0.4900620521275639,
          0.649452927104052,
          1.32401981584447,
          -0.6681148646130952,
          1.555881666445536,
          -0.663312350537218,
          0.517535606177241,
          -0.5963604186186587,
          -0.7289394666967155,
          -0.6614334140291629,
          1.2114499104973508,
          -0.9400044909732653,
          -0.3365622407764457,
          -0.004840309662538441,
          0.4014252667959559,
          1.7702074207636602,
          -0.15902830085492964,
          -0.4491525183361768,
          0.8199773050078053,
          0.24241653586728773,
          0.038871122497753034,
          0.7673859834900345,
          1.6709893112852547,
          -1.880682722554869,
          1.1464979996109588,
          0.4642917919716699,
          -1.387190001527133,
          -0.2321182753605703,
          -0.7728716451587044,
          1.3527609759626273,
          0.20333893805926107,
          -0.5967623483934287,
          -0.5591239031247264,
          -0.024998089594043083,
          1.5416581207071445,
          1.23818191360569,
          -0.9290027328307017,
          -1.3457789379399776,
          -0.8341286738944954,
          0.5001677599565157,
          -0.5967692094673804,
          0.27348645339355887,
          0.7760781915679874,
          0.457613185037016,
          -0.3492103540291085,
          -0.3842909854963571,
          -0.2722242403653147,
          0.9332740640305395,
          0.23977015203568813,
          -0.9228408546299977,
          -0.10151930381245429,
          0.654726180321158,
          -0.30355737514787784,
          1.6422770017101684,
          1.4363121905920537,
          -0.025215221682091615,
          0.18153341490580763,
          1.3415552322991204,
          -0.18110803904038167,
          -0.3176728394306511,
          0.9505354693710215,
          0.877167018703993,
          -0.1170786443188935,
          -0.39678780004479736,
          -0.0795907042411347,
          -0.4329229278703074,
          0.3570504785206501,
          -0.10208750684175669,
          -1.7877055134430488,
          0.5441865529079403,
          -1.5405593425245991,
          -0.7191063863844535,
          0.31760538624398443,
          -1.5139475416410115,
          1.2068157093758292,
          -2.172599935187426,
          0.6871903377937948,
          -0.7751249426919488,
          -0.8218306588295341,
          1.2856002478718513,
          -0.09592446267838775,
          0.28311341574543314,
          -2.1006508831448105,
          -0.6978537491787855,
          -0.9078269204518609,
          0.2923304985925143,
          0.025863130056403685,
          -1.9227191104639756,
          1.5930321631902804,
          -0.5990701946123035,
          -1.4867794289966045,
          0.6013644071384248
         ],
         "yaxis": "y13"
        },
        {
         "line": {
          "color": "rgba(128, 128, 128, 1.0)",
          "dash": "solid",
          "shape": "linear",
          "width": 1.3
         },
         "marker": {
          "size": 2,
          "symbol": "circle"
         },
         "mode": "markers",
         "name": "D",
         "text": "",
         "type": "scatter",
         "x": [
          1.182835259237497,
          -0.8975732145797927,
          0.5220275195709047,
          0.16526936777424775,
          0.8221463234629366,
          0.09561960691624612,
          0.7154934197202248,
          -0.7239419506948116,
          -1.6183004239710814,
          -0.5805208012812353,
          -0.2231518507637324,
          0.5809954447566315,
          0.7896657634190364,
          0.09859341287168244,
          1.01181077086917,
          1.2801686263217356,
          0.006802514892934026,
          0.749579462162761,
          1.0226976632439386,
          1.6113010155683734,
          -1.7506865128832618,
          0.5026636946768042,
          -2.4396447316668235,
          -0.9043217468103396,
          -0.5452287632889667,
          -1.6417557829174791,
          0.28369201260159543,
          0.05773592079350799,
          -0.10589216598255646,
          0.972409774305762,
          1.121115719140552,
          0.1888647630515083,
          1.1899209062449612,
          -0.5388108014040269,
          -0.868672535059343,
          0.9492871720305138,
          -1.062542675070697,
          1.7106588413411308,
          1.1044216631680823,
          -0.6928660691112118,
          -0.46731344859800633,
          -0.30426022660944946,
          1.2709380589317472,
          -2.6227128294051414,
          0.6296655254120602,
          0.4300620265521417,
          -0.6480888131663791,
          -1.438046558452693,
          -0.402555960745747,
          -2.29535392221176,
          -0.11827288604262658,
          -1.0221151216646072,
          1.281883419834949,
          -0.9207405377108133,
          -1.9270739466753486,
          0.6676074238160519,
          0.11366910445242777,
          -1.1706213115879172,
          -0.11760123847185962,
          0.3172164900409643,
          -0.6643484679944766,
          -1.512156820047486,
          -0.8162683653806203,
          1.5348972081867693,
          2.0839592977231662,
          -0.7358936086844449,
          -1.0497042264481218,
          0.44282965790962225,
          -0.3802702424432359,
          1.5832824629988664,
          0.2679297436872706,
          -2.0234957168473806,
          0.9667018570206107,
          0.8001169737148024,
          -0.42758278331913757,
          -0.9907477622080939,
          -0.6126108190402878,
          0.712290384429327,
          -1.005642475286215,
          -1.9782557774705911,
          0.9211827602892596,
          -1.3697132180465084,
          -0.8415705327052733,
          2.7174073081230024,
          -1.4140618599490045,
          0.6633224069552077,
          0.41129032261369175,
          -0.6480931619950667,
          -0.13443803548642455,
          1.0374495373632742,
          0.5593281556573985,
          -1.6662162894285633,
          0.671438208173271,
          -0.08855620096733283,
          -0.7706300723442125,
          -0.12289390281624057,
          -0.1569283401959346,
          2.4871475021674456,
          0.6363121492402903,
          -0.5900043050544014
         ],
         "xaxis": "x14",
         "y": [
          0.7983743801094474,
          -0.9144970364904372,
          0.7377608206373266,
          1.2094442701617718,
          -0.034113644476177776,
          -0.07468997283468373,
          -0.4365334188683654,
          -0.3359540436610759,
          -0.4900620521275639,
          0.649452927104052,
          1.32401981584447,
          -0.6681148646130952,
          1.555881666445536,
          -0.663312350537218,
          0.517535606177241,
          -0.5963604186186587,
          -0.7289394666967155,
          -0.6614334140291629,
          1.2114499104973508,
          -0.9400044909732653,
          -0.3365622407764457,
          -0.004840309662538441,
          0.4014252667959559,
          1.7702074207636602,
          -0.15902830085492964,
          -0.4491525183361768,
          0.8199773050078053,
          0.24241653586728773,
          0.038871122497753034,
          0.7673859834900345,
          1.6709893112852547,
          -1.880682722554869,
          1.1464979996109588,
          0.4642917919716699,
          -1.387190001527133,
          -0.2321182753605703,
          -0.7728716451587044,
          1.3527609759626273,
          0.20333893805926107,
          -0.5967623483934287,
          -0.5591239031247264,
          -0.024998089594043083,
          1.5416581207071445,
          1.23818191360569,
          -0.9290027328307017,
          -1.3457789379399776,
          -0.8341286738944954,
          0.5001677599565157,
          -0.5967692094673804,
          0.27348645339355887,
          0.7760781915679874,
          0.457613185037016,
          -0.3492103540291085,
          -0.3842909854963571,
          -0.2722242403653147,
          0.9332740640305395,
          0.23977015203568813,
          -0.9228408546299977,
          -0.10151930381245429,
          0.654726180321158,
          -0.30355737514787784,
          1.6422770017101684,
          1.4363121905920537,
          -0.025215221682091615,
          0.18153341490580763,
          1.3415552322991204,
          -0.18110803904038167,
          -0.3176728394306511,
          0.9505354693710215,
          0.877167018703993,
          -0.1170786443188935,
          -0.39678780004479736,
          -0.0795907042411347,
          -0.4329229278703074,
          0.3570504785206501,
          -0.10208750684175669,
          -1.7877055134430488,
          0.5441865529079403,
          -1.5405593425245991,
          -0.7191063863844535,
          0.31760538624398443,
          -1.5139475416410115,
          1.2068157093758292,
          -2.172599935187426,
          0.6871903377937948,
          -0.7751249426919488,
          -0.8218306588295341,
          1.2856002478718513,
          -0.09592446267838775,
          0.28311341574543314,
          -2.1006508831448105,
          -0.6978537491787855,
          -0.9078269204518609,
          0.2923304985925143,
          0.025863130056403685,
          -1.9227191104639756,
          1.5930321631902804,
          -0.5990701946123035,
          -1.4867794289966045,
          0.6013644071384248
         ],
         "yaxis": "y14"
        },
        {
         "line": {
          "color": "rgba(128, 128, 128, 1.0)",
          "dash": "solid",
          "shape": "linear",
          "width": 1.3
         },
         "marker": {
          "size": 2,
          "symbol": "circle"
         },
         "mode": "markers",
         "name": "D",
         "text": "",
         "type": "scatter",
         "x": [
          1.6320067672550114,
          0.013571597518988485,
          0.4267658992242022,
          0.3131395724831427,
          0.934514580222743,
          -0.5861022341329414,
          -1.4302987559641342,
          -0.22139786013664656,
          0.663171007555064,
          2.701568054660681,
          1.132655258868716,
          -1.2618240324811285,
          0.5967099360070722,
          -0.41428701335549833,
          0.6497449486826024,
          0.48044113315915926,
          1.0254986480098311,
          -1.7686908679270839,
          -1.7832391917216104,
          -0.8028078859416806,
          0.37707515279233544,
          0.23536684330914645,
          -1.351390100005412,
          -0.549926509826069,
          0.15787586136443116,
          0.3358040809294726,
          0.9166551680285362,
          -0.6000079288730298,
          0.356198542020789,
          -0.1616092278325927,
          -1.190736474961592,
          0.831948021082437,
          0.7108672665104884,
          -1.7565110463718139,
          1.7376816351250506,
          0.03562378256214433,
          1.1432465610938845,
          -1.7478516383727796,
          -0.5592256625903307,
          3.3430285040112238,
          1.6325210655742146,
          -0.35001531476351644,
          0.3271038550921371,
          -0.270790748596994,
          0.5146495788960012,
          -0.2387753632827418,
          -0.48190934620946485,
          0.337523458681305,
          0.6010108834316373,
          -0.6199546591098973,
          0.10261063320245636,
          0.09995308905169957,
          0.6872136943272025,
          0.8641432838921995,
          -0.20126688927067837,
          -0.14630490200191154,
          -0.9385932134581134,
          1.0167311715915515,
          -0.6940746798664247,
          0.37801160636747616,
          -2.0155541281707006,
          -0.19302718238829325,
          -0.2779639236364774,
          -1.9415924471161954,
          0.09536631705421743,
          -0.09356181753016589,
          0.8925625646518249,
          -1.2118433366028099,
          0.18860333713105218,
          0.5465591440427829,
          0.1873570216311578,
          -1.9447893839439823,
          -0.4108825283397903,
          1.4986613443997372,
          -1.2330691203098796,
          -1.7243747243962575,
          0.3664730328822936,
          0.4912675975383385,
          -1.4672190385613428,
          -0.6312494119824602,
          0.02051711049058606,
          -0.4110566281906969,
          0.6941310017272373,
          0.3479202980775581,
          0.9666567204573491,
          2.0130805562881755,
          -0.6622077039577834,
          -1.091774596828099,
          -0.4920180595361232,
          0.24288614812627068,
          -0.4158228823948609,
          0.5338377236145971,
          -1.1472736403024104,
          -0.5283819826171251,
          0.9822910754737452,
          0.9913128563641996,
          1.8591684246578655,
          -0.7352461179154989,
          0.2791521002534852,
          0.39753279031415817
         ],
         "xaxis": "x15",
         "y": [
          0.7983743801094474,
          -0.9144970364904372,
          0.7377608206373266,
          1.2094442701617718,
          -0.034113644476177776,
          -0.07468997283468373,
          -0.4365334188683654,
          -0.3359540436610759,
          -0.4900620521275639,
          0.649452927104052,
          1.32401981584447,
          -0.6681148646130952,
          1.555881666445536,
          -0.663312350537218,
          0.517535606177241,
          -0.5963604186186587,
          -0.7289394666967155,
          -0.6614334140291629,
          1.2114499104973508,
          -0.9400044909732653,
          -0.3365622407764457,
          -0.004840309662538441,
          0.4014252667959559,
          1.7702074207636602,
          -0.15902830085492964,
          -0.4491525183361768,
          0.8199773050078053,
          0.24241653586728773,
          0.038871122497753034,
          0.7673859834900345,
          1.6709893112852547,
          -1.880682722554869,
          1.1464979996109588,
          0.4642917919716699,
          -1.387190001527133,
          -0.2321182753605703,
          -0.7728716451587044,
          1.3527609759626273,
          0.20333893805926107,
          -0.5967623483934287,
          -0.5591239031247264,
          -0.024998089594043083,
          1.5416581207071445,
          1.23818191360569,
          -0.9290027328307017,
          -1.3457789379399776,
          -0.8341286738944954,
          0.5001677599565157,
          -0.5967692094673804,
          0.27348645339355887,
          0.7760781915679874,
          0.457613185037016,
          -0.3492103540291085,
          -0.3842909854963571,
          -0.2722242403653147,
          0.9332740640305395,
          0.23977015203568813,
          -0.9228408546299977,
          -0.10151930381245429,
          0.654726180321158,
          -0.30355737514787784,
          1.6422770017101684,
          1.4363121905920537,
          -0.025215221682091615,
          0.18153341490580763,
          1.3415552322991204,
          -0.18110803904038167,
          -0.3176728394306511,
          0.9505354693710215,
          0.877167018703993,
          -0.1170786443188935,
          -0.39678780004479736,
          -0.0795907042411347,
          -0.4329229278703074,
          0.3570504785206501,
          -0.10208750684175669,
          -1.7877055134430488,
          0.5441865529079403,
          -1.5405593425245991,
          -0.7191063863844535,
          0.31760538624398443,
          -1.5139475416410115,
          1.2068157093758292,
          -2.172599935187426,
          0.6871903377937948,
          -0.7751249426919488,
          -0.8218306588295341,
          1.2856002478718513,
          -0.09592446267838775,
          0.28311341574543314,
          -2.1006508831448105,
          -0.6978537491787855,
          -0.9078269204518609,
          0.2923304985925143,
          0.025863130056403685,
          -1.9227191104639756,
          1.5930321631902804,
          -0.5990701946123035,
          -1.4867794289966045,
          0.6013644071384248
         ],
         "yaxis": "y15"
        },
        {
         "histfunc": "count",
         "histnorm": "",
         "marker": {
          "color": "rgba(128, 0, 128, 1.0)",
          "line": {
           "color": "#4D5663",
           "width": 1.3
          }
         },
         "name": "D",
         "nbinsx": 10,
         "opacity": 0.8,
         "orientation": "v",
         "type": "histogram",
         "x": [
          0.7983743801094474,
          -0.9144970364904372,
          0.7377608206373266,
          1.2094442701617718,
          -0.034113644476177776,
          -0.07468997283468373,
          -0.4365334188683654,
          -0.3359540436610759,
          -0.4900620521275639,
          0.649452927104052,
          1.32401981584447,
          -0.6681148646130952,
          1.555881666445536,
          -0.663312350537218,
          0.517535606177241,
          -0.5963604186186587,
          -0.7289394666967155,
          -0.6614334140291629,
          1.2114499104973508,
          -0.9400044909732653,
          -0.3365622407764457,
          -0.004840309662538441,
          0.4014252667959559,
          1.7702074207636602,
          -0.15902830085492964,
          -0.4491525183361768,
          0.8199773050078053,
          0.24241653586728773,
          0.038871122497753034,
          0.7673859834900345,
          1.6709893112852547,
          -1.880682722554869,
          1.1464979996109588,
          0.4642917919716699,
          -1.387190001527133,
          -0.2321182753605703,
          -0.7728716451587044,
          1.3527609759626273,
          0.20333893805926107,
          -0.5967623483934287,
          -0.5591239031247264,
          -0.024998089594043083,
          1.5416581207071445,
          1.23818191360569,
          -0.9290027328307017,
          -1.3457789379399776,
          -0.8341286738944954,
          0.5001677599565157,
          -0.5967692094673804,
          0.27348645339355887,
          0.7760781915679874,
          0.457613185037016,
          -0.3492103540291085,
          -0.3842909854963571,
          -0.2722242403653147,
          0.9332740640305395,
          0.23977015203568813,
          -0.9228408546299977,
          -0.10151930381245429,
          0.654726180321158,
          -0.30355737514787784,
          1.6422770017101684,
          1.4363121905920537,
          -0.025215221682091615,
          0.18153341490580763,
          1.3415552322991204,
          -0.18110803904038167,
          -0.3176728394306511,
          0.9505354693710215,
          0.877167018703993,
          -0.1170786443188935,
          -0.39678780004479736,
          -0.0795907042411347,
          -0.4329229278703074,
          0.3570504785206501,
          -0.10208750684175669,
          -1.7877055134430488,
          0.5441865529079403,
          -1.5405593425245991,
          -0.7191063863844535,
          0.31760538624398443,
          -1.5139475416410115,
          1.2068157093758292,
          -2.172599935187426,
          0.6871903377937948,
          -0.7751249426919488,
          -0.8218306588295341,
          1.2856002478718513,
          -0.09592446267838775,
          0.28311341574543314,
          -2.1006508831448105,
          -0.6978537491787855,
          -0.9078269204518609,
          0.2923304985925143,
          0.025863130056403685,
          -1.9227191104639756,
          1.5930321631902804,
          -0.5990701946123035,
          -1.4867794289966045,
          0.6013644071384248
         ],
         "xaxis": "x16",
         "yaxis": "y16"
        }
       ],
       "layout": {
        "bargap": 0.02,
        "legend": {
         "bgcolor": "#F5F6F9",
         "font": {
          "color": "#4D5663"
         }
        },
        "paper_bgcolor": "#F5F6F9",
        "plot_bgcolor": "#F5F6F9",
        "showlegend": false,
        "template": {
         "data": {
          "bar": [
           {
            "error_x": {
             "color": "#2a3f5f"
            },
            "error_y": {
             "color": "#2a3f5f"
            },
            "marker": {
             "line": {
              "color": "#E5ECF6",
              "width": 0.5
             },
             "pattern": {
              "fillmode": "overlay",
              "size": 10,
              "solidity": 0.2
             }
            },
            "type": "bar"
           }
          ],
          "barpolar": [
           {
            "marker": {
             "line": {
              "color": "#E5ECF6",
              "width": 0.5
             },
             "pattern": {
              "fillmode": "overlay",
              "size": 10,
              "solidity": 0.2
             }
            },
            "type": "barpolar"
           }
          ],
          "carpet": [
           {
            "aaxis": {
             "endlinecolor": "#2a3f5f",
             "gridcolor": "white",
             "linecolor": "white",
             "minorgridcolor": "white",
             "startlinecolor": "#2a3f5f"
            },
            "baxis": {
             "endlinecolor": "#2a3f5f",
             "gridcolor": "white",
             "linecolor": "white",
             "minorgridcolor": "white",
             "startlinecolor": "#2a3f5f"
            },
            "type": "carpet"
           }
          ],
          "choropleth": [
           {
            "colorbar": {
             "outlinewidth": 0,
             "ticks": ""
            },
            "type": "choropleth"
           }
          ],
          "contour": [
           {
            "colorbar": {
             "outlinewidth": 0,
             "ticks": ""
            },
            "colorscale": [
             [
              0,
              "#0d0887"
             ],
             [
              0.1111111111111111,
              "#46039f"
             ],
             [
              0.2222222222222222,
              "#7201a8"
             ],
             [
              0.3333333333333333,
              "#9c179e"
             ],
             [
              0.4444444444444444,
              "#bd3786"
             ],
             [
              0.5555555555555556,
              "#d8576b"
             ],
             [
              0.6666666666666666,
              "#ed7953"
             ],
             [
              0.7777777777777778,
              "#fb9f3a"
             ],
             [
              0.8888888888888888,
              "#fdca26"
             ],
             [
              1,
              "#f0f921"
             ]
            ],
            "type": "contour"
           }
          ],
          "contourcarpet": [
           {
            "colorbar": {
             "outlinewidth": 0,
             "ticks": ""
            },
            "type": "contourcarpet"
           }
          ],
          "heatmap": [
           {
            "colorbar": {
             "outlinewidth": 0,
             "ticks": ""
            },
            "colorscale": [
             [
              0,
              "#0d0887"
             ],
             [
              0.1111111111111111,
              "#46039f"
             ],
             [
              0.2222222222222222,
              "#7201a8"
             ],
             [
              0.3333333333333333,
              "#9c179e"
             ],
             [
              0.4444444444444444,
              "#bd3786"
             ],
             [
              0.5555555555555556,
              "#d8576b"
             ],
             [
              0.6666666666666666,
              "#ed7953"
             ],
             [
              0.7777777777777778,
              "#fb9f3a"
             ],
             [
              0.8888888888888888,
              "#fdca26"
             ],
             [
              1,
              "#f0f921"
             ]
            ],
            "type": "heatmap"
           }
          ],
          "heatmapgl": [
           {
            "colorbar": {
             "outlinewidth": 0,
             "ticks": ""
            },
            "colorscale": [
             [
              0,
              "#0d0887"
             ],
             [
              0.1111111111111111,
              "#46039f"
             ],
             [
              0.2222222222222222,
              "#7201a8"
             ],
             [
              0.3333333333333333,
              "#9c179e"
             ],
             [
              0.4444444444444444,
              "#bd3786"
             ],
             [
              0.5555555555555556,
              "#d8576b"
             ],
             [
              0.6666666666666666,
              "#ed7953"
             ],
             [
              0.7777777777777778,
              "#fb9f3a"
             ],
             [
              0.8888888888888888,
              "#fdca26"
             ],
             [
              1,
              "#f0f921"
             ]
            ],
            "type": "heatmapgl"
           }
          ],
          "histogram": [
           {
            "marker": {
             "pattern": {
              "fillmode": "overlay",
              "size": 10,
              "solidity": 0.2
             }
            },
            "type": "histogram"
           }
          ],
          "histogram2d": [
           {
            "colorbar": {
             "outlinewidth": 0,
             "ticks": ""
            },
            "colorscale": [
             [
              0,
              "#0d0887"
             ],
             [
              0.1111111111111111,
              "#46039f"
             ],
             [
              0.2222222222222222,
              "#7201a8"
             ],
             [
              0.3333333333333333,
              "#9c179e"
             ],
             [
              0.4444444444444444,
              "#bd3786"
             ],
             [
              0.5555555555555556,
              "#d8576b"
             ],
             [
              0.6666666666666666,
              "#ed7953"
             ],
             [
              0.7777777777777778,
              "#fb9f3a"
             ],
             [
              0.8888888888888888,
              "#fdca26"
             ],
             [
              1,
              "#f0f921"
             ]
            ],
            "type": "histogram2d"
           }
          ],
          "histogram2dcontour": [
           {
            "colorbar": {
             "outlinewidth": 0,
             "ticks": ""
            },
            "colorscale": [
             [
              0,
              "#0d0887"
             ],
             [
              0.1111111111111111,
              "#46039f"
             ],
             [
              0.2222222222222222,
              "#7201a8"
             ],
             [
              0.3333333333333333,
              "#9c179e"
             ],
             [
              0.4444444444444444,
              "#bd3786"
             ],
             [
              0.5555555555555556,
              "#d8576b"
             ],
             [
              0.6666666666666666,
              "#ed7953"
             ],
             [
              0.7777777777777778,
              "#fb9f3a"
             ],
             [
              0.8888888888888888,
              "#fdca26"
             ],
             [
              1,
              "#f0f921"
             ]
            ],
            "type": "histogram2dcontour"
           }
          ],
          "mesh3d": [
           {
            "colorbar": {
             "outlinewidth": 0,
             "ticks": ""
            },
            "type": "mesh3d"
           }
          ],
          "parcoords": [
           {
            "line": {
             "colorbar": {
              "outlinewidth": 0,
              "ticks": ""
             }
            },
            "type": "parcoords"
           }
          ],
          "pie": [
           {
            "automargin": true,
            "type": "pie"
           }
          ],
          "scatter": [
           {
            "fillpattern": {
             "fillmode": "overlay",
             "size": 10,
             "solidity": 0.2
            },
            "type": "scatter"
           }
          ],
          "scatter3d": [
           {
            "line": {
             "colorbar": {
              "outlinewidth": 0,
              "ticks": ""
             }
            },
            "marker": {
             "colorbar": {
              "outlinewidth": 0,
              "ticks": ""
             }
            },
            "type": "scatter3d"
           }
          ],
          "scattercarpet": [
           {
            "marker": {
             "colorbar": {
              "outlinewidth": 0,
              "ticks": ""
             }
            },
            "type": "scattercarpet"
           }
          ],
          "scattergeo": [
           {
            "marker": {
             "colorbar": {
              "outlinewidth": 0,
              "ticks": ""
             }
            },
            "type": "scattergeo"
           }
          ],
          "scattergl": [
           {
            "marker": {
             "colorbar": {
              "outlinewidth": 0,
              "ticks": ""
             }
            },
            "type": "scattergl"
           }
          ],
          "scattermapbox": [
           {
            "marker": {
             "colorbar": {
              "outlinewidth": 0,
              "ticks": ""
             }
            },
            "type": "scattermapbox"
           }
          ],
          "scatterpolar": [
           {
            "marker": {
             "colorbar": {
              "outlinewidth": 0,
              "ticks": ""
             }
            },
            "type": "scatterpolar"
           }
          ],
          "scatterpolargl": [
           {
            "marker": {
             "colorbar": {
              "outlinewidth": 0,
              "ticks": ""
             }
            },
            "type": "scatterpolargl"
           }
          ],
          "scatterternary": [
           {
            "marker": {
             "colorbar": {
              "outlinewidth": 0,
              "ticks": ""
             }
            },
            "type": "scatterternary"
           }
          ],
          "surface": [
           {
            "colorbar": {
             "outlinewidth": 0,
             "ticks": ""
            },
            "colorscale": [
             [
              0,
              "#0d0887"
             ],
             [
              0.1111111111111111,
              "#46039f"
             ],
             [
              0.2222222222222222,
              "#7201a8"
             ],
             [
              0.3333333333333333,
              "#9c179e"
             ],
             [
              0.4444444444444444,
              "#bd3786"
             ],
             [
              0.5555555555555556,
              "#d8576b"
             ],
             [
              0.6666666666666666,
              "#ed7953"
             ],
             [
              0.7777777777777778,
              "#fb9f3a"
             ],
             [
              0.8888888888888888,
              "#fdca26"
             ],
             [
              1,
              "#f0f921"
             ]
            ],
            "type": "surface"
           }
          ],
          "table": [
           {
            "cells": {
             "fill": {
              "color": "#EBF0F8"
             },
             "line": {
              "color": "white"
             }
            },
            "header": {
             "fill": {
              "color": "#C8D4E3"
             },
             "line": {
              "color": "white"
             }
            },
            "type": "table"
           }
          ]
         },
         "layout": {
          "annotationdefaults": {
           "arrowcolor": "#2a3f5f",
           "arrowhead": 0,
           "arrowwidth": 1
          },
          "autotypenumbers": "strict",
          "coloraxis": {
           "colorbar": {
            "outlinewidth": 0,
            "ticks": ""
           }
          },
          "colorscale": {
           "diverging": [
            [
             0,
             "#8e0152"
            ],
            [
             0.1,
             "#c51b7d"
            ],
            [
             0.2,
             "#de77ae"
            ],
            [
             0.3,
             "#f1b6da"
            ],
            [
             0.4,
             "#fde0ef"
            ],
            [
             0.5,
             "#f7f7f7"
            ],
            [
             0.6,
             "#e6f5d0"
            ],
            [
             0.7,
             "#b8e186"
            ],
            [
             0.8,
             "#7fbc41"
            ],
            [
             0.9,
             "#4d9221"
            ],
            [
             1,
             "#276419"
            ]
           ],
           "sequential": [
            [
             0,
             "#0d0887"
            ],
            [
             0.1111111111111111,
             "#46039f"
            ],
            [
             0.2222222222222222,
             "#7201a8"
            ],
            [
             0.3333333333333333,
             "#9c179e"
            ],
            [
             0.4444444444444444,
             "#bd3786"
            ],
            [
             0.5555555555555556,
             "#d8576b"
            ],
            [
             0.6666666666666666,
             "#ed7953"
            ],
            [
             0.7777777777777778,
             "#fb9f3a"
            ],
            [
             0.8888888888888888,
             "#fdca26"
            ],
            [
             1,
             "#f0f921"
            ]
           ],
           "sequentialminus": [
            [
             0,
             "#0d0887"
            ],
            [
             0.1111111111111111,
             "#46039f"
            ],
            [
             0.2222222222222222,
             "#7201a8"
            ],
            [
             0.3333333333333333,
             "#9c179e"
            ],
            [
             0.4444444444444444,
             "#bd3786"
            ],
            [
             0.5555555555555556,
             "#d8576b"
            ],
            [
             0.6666666666666666,
             "#ed7953"
            ],
            [
             0.7777777777777778,
             "#fb9f3a"
            ],
            [
             0.8888888888888888,
             "#fdca26"
            ],
            [
             1,
             "#f0f921"
            ]
           ]
          },
          "colorway": [
           "#636efa",
           "#EF553B",
           "#00cc96",
           "#ab63fa",
           "#FFA15A",
           "#19d3f3",
           "#FF6692",
           "#B6E880",
           "#FF97FF",
           "#FECB52"
          ],
          "font": {
           "color": "#2a3f5f"
          },
          "geo": {
           "bgcolor": "white",
           "lakecolor": "white",
           "landcolor": "#E5ECF6",
           "showlakes": true,
           "showland": true,
           "subunitcolor": "white"
          },
          "hoverlabel": {
           "align": "left"
          },
          "hovermode": "closest",
          "mapbox": {
           "style": "light"
          },
          "paper_bgcolor": "white",
          "plot_bgcolor": "#E5ECF6",
          "polar": {
           "angularaxis": {
            "gridcolor": "white",
            "linecolor": "white",
            "ticks": ""
           },
           "bgcolor": "#E5ECF6",
           "radialaxis": {
            "gridcolor": "white",
            "linecolor": "white",
            "ticks": ""
           }
          },
          "scene": {
           "xaxis": {
            "backgroundcolor": "#E5ECF6",
            "gridcolor": "white",
            "gridwidth": 2,
            "linecolor": "white",
            "showbackground": true,
            "ticks": "",
            "zerolinecolor": "white"
           },
           "yaxis": {
            "backgroundcolor": "#E5ECF6",
            "gridcolor": "white",
            "gridwidth": 2,
            "linecolor": "white",
            "showbackground": true,
            "ticks": "",
            "zerolinecolor": "white"
           },
           "zaxis": {
            "backgroundcolor": "#E5ECF6",
            "gridcolor": "white",
            "gridwidth": 2,
            "linecolor": "white",
            "showbackground": true,
            "ticks": "",
            "zerolinecolor": "white"
           }
          },
          "shapedefaults": {
           "line": {
            "color": "#2a3f5f"
           }
          },
          "ternary": {
           "aaxis": {
            "gridcolor": "white",
            "linecolor": "white",
            "ticks": ""
           },
           "baxis": {
            "gridcolor": "white",
            "linecolor": "white",
            "ticks": ""
           },
           "bgcolor": "#E5ECF6",
           "caxis": {
            "gridcolor": "white",
            "linecolor": "white",
            "ticks": ""
           }
          },
          "title": {
           "x": 0.05
          },
          "xaxis": {
           "automargin": true,
           "gridcolor": "white",
           "linecolor": "white",
           "ticks": "",
           "title": {
            "standoff": 15
           },
           "zerolinecolor": "white",
           "zerolinewidth": 2
          },
          "yaxis": {
           "automargin": true,
           "gridcolor": "white",
           "linecolor": "white",
           "ticks": "",
           "title": {
            "standoff": 15
           },
           "zerolinecolor": "white",
           "zerolinewidth": 2
          }
         }
        },
        "title": {
         "font": {
          "color": "#4D5663"
         }
        },
        "xaxis": {
         "anchor": "y",
         "domain": [
          0,
          0.2125
         ],
         "gridcolor": "#E1E5ED",
         "showgrid": false,
         "tickfont": {
          "color": "#4D5663"
         },
         "title": {
          "font": {
           "color": "#4D5663"
          },
          "text": ""
         },
         "zerolinecolor": "#E1E5ED"
        },
        "xaxis10": {
         "anchor": "y10",
         "domain": [
          0.2625,
          0.475
         ],
         "gridcolor": "#E1E5ED",
         "showgrid": false,
         "tickfont": {
          "color": "#4D5663"
         },
         "title": {
          "font": {
           "color": "#4D5663"
          },
          "text": ""
         },
         "zerolinecolor": "#E1E5ED"
        },
        "xaxis11": {
         "anchor": "y11",
         "domain": [
          0.525,
          0.7375
         ],
         "gridcolor": "#E1E5ED",
         "showgrid": false,
         "tickfont": {
          "color": "#4D5663"
         },
         "title": {
          "font": {
           "color": "#4D5663"
          },
          "text": ""
         },
         "zerolinecolor": "#E1E5ED"
        },
        "xaxis12": {
         "anchor": "y12",
         "domain": [
          0.7875,
          1
         ],
         "gridcolor": "#E1E5ED",
         "showgrid": false,
         "tickfont": {
          "color": "#4D5663"
         },
         "title": {
          "font": {
           "color": "#4D5663"
          },
          "text": ""
         },
         "zerolinecolor": "#E1E5ED"
        },
        "xaxis13": {
         "anchor": "y13",
         "domain": [
          0,
          0.2125
         ],
         "gridcolor": "#E1E5ED",
         "showgrid": false,
         "tickfont": {
          "color": "#4D5663"
         },
         "title": {
          "font": {
           "color": "#4D5663"
          },
          "text": ""
         },
         "zerolinecolor": "#E1E5ED"
        },
        "xaxis14": {
         "anchor": "y14",
         "domain": [
          0.2625,
          0.475
         ],
         "gridcolor": "#E1E5ED",
         "showgrid": false,
         "tickfont": {
          "color": "#4D5663"
         },
         "title": {
          "font": {
           "color": "#4D5663"
          },
          "text": ""
         },
         "zerolinecolor": "#E1E5ED"
        },
        "xaxis15": {
         "anchor": "y15",
         "domain": [
          0.525,
          0.7375
         ],
         "gridcolor": "#E1E5ED",
         "showgrid": false,
         "tickfont": {
          "color": "#4D5663"
         },
         "title": {
          "font": {
           "color": "#4D5663"
          },
          "text": ""
         },
         "zerolinecolor": "#E1E5ED"
        },
        "xaxis16": {
         "anchor": "y16",
         "domain": [
          0.7875,
          1
         ],
         "gridcolor": "#E1E5ED",
         "showgrid": false,
         "tickfont": {
          "color": "#4D5663"
         },
         "title": {
          "font": {
           "color": "#4D5663"
          },
          "text": ""
         },
         "zerolinecolor": "#E1E5ED"
        },
        "xaxis2": {
         "anchor": "y2",
         "domain": [
          0.2625,
          0.475
         ],
         "gridcolor": "#E1E5ED",
         "showgrid": false,
         "tickfont": {
          "color": "#4D5663"
         },
         "title": {
          "font": {
           "color": "#4D5663"
          },
          "text": ""
         },
         "zerolinecolor": "#E1E5ED"
        },
        "xaxis3": {
         "anchor": "y3",
         "domain": [
          0.525,
          0.7375
         ],
         "gridcolor": "#E1E5ED",
         "showgrid": false,
         "tickfont": {
          "color": "#4D5663"
         },
         "title": {
          "font": {
           "color": "#4D5663"
          },
          "text": ""
         },
         "zerolinecolor": "#E1E5ED"
        },
        "xaxis4": {
         "anchor": "y4",
         "domain": [
          0.7875,
          1
         ],
         "gridcolor": "#E1E5ED",
         "showgrid": false,
         "tickfont": {
          "color": "#4D5663"
         },
         "title": {
          "font": {
           "color": "#4D5663"
          },
          "text": ""
         },
         "zerolinecolor": "#E1E5ED"
        },
        "xaxis5": {
         "anchor": "y5",
         "domain": [
          0,
          0.2125
         ],
         "gridcolor": "#E1E5ED",
         "showgrid": false,
         "tickfont": {
          "color": "#4D5663"
         },
         "title": {
          "font": {
           "color": "#4D5663"
          },
          "text": ""
         },
         "zerolinecolor": "#E1E5ED"
        },
        "xaxis6": {
         "anchor": "y6",
         "domain": [
          0.2625,
          0.475
         ],
         "gridcolor": "#E1E5ED",
         "showgrid": false,
         "tickfont": {
          "color": "#4D5663"
         },
         "title": {
          "font": {
           "color": "#4D5663"
          },
          "text": ""
         },
         "zerolinecolor": "#E1E5ED"
        },
        "xaxis7": {
         "anchor": "y7",
         "domain": [
          0.525,
          0.7375
         ],
         "gridcolor": "#E1E5ED",
         "showgrid": false,
         "tickfont": {
          "color": "#4D5663"
         },
         "title": {
          "font": {
           "color": "#4D5663"
          },
          "text": ""
         },
         "zerolinecolor": "#E1E5ED"
        },
        "xaxis8": {
         "anchor": "y8",
         "domain": [
          0.7875,
          1
         ],
         "gridcolor": "#E1E5ED",
         "showgrid": false,
         "tickfont": {
          "color": "#4D5663"
         },
         "title": {
          "font": {
           "color": "#4D5663"
          },
          "text": ""
         },
         "zerolinecolor": "#E1E5ED"
        },
        "xaxis9": {
         "anchor": "y9",
         "domain": [
          0,
          0.2125
         ],
         "gridcolor": "#E1E5ED",
         "showgrid": false,
         "tickfont": {
          "color": "#4D5663"
         },
         "title": {
          "font": {
           "color": "#4D5663"
          },
          "text": ""
         },
         "zerolinecolor": "#E1E5ED"
        },
        "yaxis": {
         "anchor": "x",
         "domain": [
          0.8025,
          1
         ],
         "gridcolor": "#E1E5ED",
         "showgrid": false,
         "tickfont": {
          "color": "#4D5663"
         },
         "title": {
          "font": {
           "color": "#4D5663"
          },
          "text": ""
         },
         "zerolinecolor": "#E1E5ED"
        },
        "yaxis10": {
         "anchor": "x10",
         "domain": [
          0.2675,
          0.465
         ],
         "gridcolor": "#E1E5ED",
         "showgrid": false,
         "tickfont": {
          "color": "#4D5663"
         },
         "title": {
          "font": {
           "color": "#4D5663"
          },
          "text": ""
         },
         "zerolinecolor": "#E1E5ED"
        },
        "yaxis11": {
         "anchor": "x11",
         "domain": [
          0.2675,
          0.465
         ],
         "gridcolor": "#E1E5ED",
         "showgrid": false,
         "tickfont": {
          "color": "#4D5663"
         },
         "title": {
          "font": {
           "color": "#4D5663"
          },
          "text": ""
         },
         "zerolinecolor": "#E1E5ED"
        },
        "yaxis12": {
         "anchor": "x12",
         "domain": [
          0.2675,
          0.465
         ],
         "gridcolor": "#E1E5ED",
         "showgrid": false,
         "tickfont": {
          "color": "#4D5663"
         },
         "title": {
          "font": {
           "color": "#4D5663"
          },
          "text": ""
         },
         "zerolinecolor": "#E1E5ED"
        },
        "yaxis13": {
         "anchor": "x13",
         "domain": [
          0,
          0.1975
         ],
         "gridcolor": "#E1E5ED",
         "showgrid": false,
         "tickfont": {
          "color": "#4D5663"
         },
         "title": {
          "font": {
           "color": "#4D5663"
          },
          "text": ""
         },
         "zerolinecolor": "#E1E5ED"
        },
        "yaxis14": {
         "anchor": "x14",
         "domain": [
          0,
          0.1975
         ],
         "gridcolor": "#E1E5ED",
         "showgrid": false,
         "tickfont": {
          "color": "#4D5663"
         },
         "title": {
          "font": {
           "color": "#4D5663"
          },
          "text": ""
         },
         "zerolinecolor": "#E1E5ED"
        },
        "yaxis15": {
         "anchor": "x15",
         "domain": [
          0,
          0.1975
         ],
         "gridcolor": "#E1E5ED",
         "showgrid": false,
         "tickfont": {
          "color": "#4D5663"
         },
         "title": {
          "font": {
           "color": "#4D5663"
          },
          "text": ""
         },
         "zerolinecolor": "#E1E5ED"
        },
        "yaxis16": {
         "anchor": "x16",
         "domain": [
          0,
          0.1975
         ],
         "gridcolor": "#E1E5ED",
         "showgrid": false,
         "tickfont": {
          "color": "#4D5663"
         },
         "title": {
          "font": {
           "color": "#4D5663"
          },
          "text": ""
         },
         "zerolinecolor": "#E1E5ED"
        },
        "yaxis2": {
         "anchor": "x2",
         "domain": [
          0.8025,
          1
         ],
         "gridcolor": "#E1E5ED",
         "showgrid": false,
         "tickfont": {
          "color": "#4D5663"
         },
         "title": {
          "font": {
           "color": "#4D5663"
          },
          "text": ""
         },
         "zerolinecolor": "#E1E5ED"
        },
        "yaxis3": {
         "anchor": "x3",
         "domain": [
          0.8025,
          1
         ],
         "gridcolor": "#E1E5ED",
         "showgrid": false,
         "tickfont": {
          "color": "#4D5663"
         },
         "title": {
          "font": {
           "color": "#4D5663"
          },
          "text": ""
         },
         "zerolinecolor": "#E1E5ED"
        },
        "yaxis4": {
         "anchor": "x4",
         "domain": [
          0.8025,
          1
         ],
         "gridcolor": "#E1E5ED",
         "showgrid": false,
         "tickfont": {
          "color": "#4D5663"
         },
         "title": {
          "font": {
           "color": "#4D5663"
          },
          "text": ""
         },
         "zerolinecolor": "#E1E5ED"
        },
        "yaxis5": {
         "anchor": "x5",
         "domain": [
          0.535,
          0.7325
         ],
         "gridcolor": "#E1E5ED",
         "showgrid": false,
         "tickfont": {
          "color": "#4D5663"
         },
         "title": {
          "font": {
           "color": "#4D5663"
          },
          "text": ""
         },
         "zerolinecolor": "#E1E5ED"
        },
        "yaxis6": {
         "anchor": "x6",
         "domain": [
          0.535,
          0.7325
         ],
         "gridcolor": "#E1E5ED",
         "showgrid": false,
         "tickfont": {
          "color": "#4D5663"
         },
         "title": {
          "font": {
           "color": "#4D5663"
          },
          "text": ""
         },
         "zerolinecolor": "#E1E5ED"
        },
        "yaxis7": {
         "anchor": "x7",
         "domain": [
          0.535,
          0.7325
         ],
         "gridcolor": "#E1E5ED",
         "showgrid": false,
         "tickfont": {
          "color": "#4D5663"
         },
         "title": {
          "font": {
           "color": "#4D5663"
          },
          "text": ""
         },
         "zerolinecolor": "#E1E5ED"
        },
        "yaxis8": {
         "anchor": "x8",
         "domain": [
          0.535,
          0.7325
         ],
         "gridcolor": "#E1E5ED",
         "showgrid": false,
         "tickfont": {
          "color": "#4D5663"
         },
         "title": {
          "font": {
           "color": "#4D5663"
          },
          "text": ""
         },
         "zerolinecolor": "#E1E5ED"
        },
        "yaxis9": {
         "anchor": "x9",
         "domain": [
          0.2675,
          0.465
         ],
         "gridcolor": "#E1E5ED",
         "showgrid": false,
         "tickfont": {
          "color": "#4D5663"
         },
         "title": {
          "font": {
           "color": "#4D5663"
          },
          "text": ""
         },
         "zerolinecolor": "#E1E5ED"
        }
       }
      },
      "text/html": [
       "<div>                            <div id=\"e71212a4-ac08-4969-946e-956879e77f89\" class=\"plotly-graph-div\" style=\"height:525px; width:100%;\"></div>            <script type=\"text/javascript\">                require([\"plotly\"], function(Plotly) {                    window.PLOTLYENV=window.PLOTLYENV || {};\n",
       "                    window.PLOTLYENV.BASE_URL='https://plot.ly';                                    if (document.getElementById(\"e71212a4-ac08-4969-946e-956879e77f89\")) {                    Plotly.newPlot(                        \"e71212a4-ac08-4969-946e-956879e77f89\",                        [{\"histfunc\":\"count\",\"histnorm\":\"\",\"marker\":{\"color\":\"rgba(255, 153, 51, 1.0)\",\"line\":{\"color\":\"#4D5663\",\"width\":1.3}},\"name\":\"A\",\"nbinsx\":10,\"opacity\":0.8,\"orientation\":\"v\",\"x\":[0.8144187353470765,0.06943968861889845,-0.6051177979947289,1.4200079041252598,-0.0947786780060265,0.4353422038499592,-0.867023819630172,0.22712243386141492,-1.5936932223573854,0.9241321743715584,1.0741759091264447,0.2642848602684432,0.23913383143078554,-0.5296200715161591,-0.04891670088749185,2.1634524071419787,0.07959748768622212,-0.07335152100529256,1.5679201630912711,0.053219499966360065,0.4377909275954798,-0.4108738189474997,-0.7190016400390153,0.3089019437067334,-0.26423764468661287,0.36404162684384966,1.8896605987378767,2.1064726673601473,-1.5133649684716444,0.009869769374126338,-2.235250524481225,-0.22337057601326998,0.8561588927857099,0.3856941145134942,-0.28496750706782986,0.048889224040245864,0.025062845777872163,-1.0042775436667823,0.004264310636040312,0.36646690572102514,0.8564286027355924,0.7887314088131345,-1.4777313939744903,-1.3166971416521733,-0.3208680303833144,-1.0198295242273419,0.3050677612939885,-0.8082594772684302,1.0571811122584296,-0.04330549718699945,0.8025279972795675,-1.0721022431178582,-1.72663719878505,0.0339265990132973,1.2082859061825684,2.4056453408913362e-05,0.15433331363831615,-0.16675365867183428,-0.4228428279887474,0.3122211018338927,0.6476593566228214,-0.7539537124490568,0.7782385509153177,-0.7731846360605293,-0.28562378587155934,-1.1657939985705077,-0.862042219934001,1.2110234354162455,0.8899036716432929,0.7919978324104415,-1.3310000935841564,0.7214732267316021,1.816489263931352,-0.7387856010538364,-1.0744705332323945,-0.7179108109427301,-0.297208515362758,-1.5286827136665169,0.6074091759350303,0.33771344384352486,1.259831207812005,0.7635495768552607,0.9597488173525972,1.014646551078339,2.7867484067169075,-2.52971826710298,-1.0213281238237273,0.8211913091724549,-1.0097182596065781,-0.43058400358984134,-1.3431455484801735,0.5474436942796898,0.2188722331836831,0.3741308838429427,0.051190565779324584,-0.15410944771311572,-2.1474278848315973,0.8510314976663124,1.0218206672961965,-1.1703526126312642],\"xaxis\":\"x\",\"yaxis\":\"y\",\"type\":\"histogram\"},{\"line\":{\"color\":\"rgba(128, 128, 128, 1.0)\",\"dash\":\"solid\",\"shape\":\"linear\",\"width\":1.3},\"marker\":{\"size\":2,\"symbol\":\"circle\"},\"mode\":\"markers\",\"name\":\"A\",\"text\":\"\",\"x\":[1.182835259237497,-0.8975732145797927,0.5220275195709047,0.16526936777424775,0.8221463234629366,0.09561960691624612,0.7154934197202248,-0.7239419506948116,-1.6183004239710814,-0.5805208012812353,-0.2231518507637324,0.5809954447566315,0.7896657634190364,0.09859341287168244,1.01181077086917,1.2801686263217356,0.006802514892934026,0.749579462162761,1.0226976632439386,1.6113010155683734,-1.7506865128832618,0.5026636946768042,-2.4396447316668235,-0.9043217468103396,-0.5452287632889667,-1.6417557829174791,0.28369201260159543,0.05773592079350799,-0.10589216598255646,0.972409774305762,1.121115719140552,0.1888647630515083,1.1899209062449612,-0.5388108014040269,-0.868672535059343,0.9492871720305138,-1.062542675070697,1.7106588413411308,1.1044216631680823,-0.6928660691112118,-0.46731344859800633,-0.30426022660944946,1.2709380589317472,-2.6227128294051414,0.6296655254120602,0.4300620265521417,-0.6480888131663791,-1.438046558452693,-0.402555960745747,-2.29535392221176,-0.11827288604262658,-1.0221151216646072,1.281883419834949,-0.9207405377108133,-1.9270739466753486,0.6676074238160519,0.11366910445242777,-1.1706213115879172,-0.11760123847185962,0.3172164900409643,-0.6643484679944766,-1.512156820047486,-0.8162683653806203,1.5348972081867693,2.0839592977231662,-0.7358936086844449,-1.0497042264481218,0.44282965790962225,-0.3802702424432359,1.5832824629988664,0.2679297436872706,-2.0234957168473806,0.9667018570206107,0.8001169737148024,-0.42758278331913757,-0.9907477622080939,-0.6126108190402878,0.712290384429327,-1.005642475286215,-1.9782557774705911,0.9211827602892596,-1.3697132180465084,-0.8415705327052733,2.7174073081230024,-1.4140618599490045,0.6633224069552077,0.41129032261369175,-0.6480931619950667,-0.13443803548642455,1.0374495373632742,0.5593281556573985,-1.6662162894285633,0.671438208173271,-0.08855620096733283,-0.7706300723442125,-0.12289390281624057,-0.1569283401959346,2.4871475021674456,0.6363121492402903,-0.5900043050544014],\"xaxis\":\"x2\",\"y\":[0.8144187353470765,0.06943968861889845,-0.6051177979947289,1.4200079041252598,-0.0947786780060265,0.4353422038499592,-0.867023819630172,0.22712243386141492,-1.5936932223573854,0.9241321743715584,1.0741759091264447,0.2642848602684432,0.23913383143078554,-0.5296200715161591,-0.04891670088749185,2.1634524071419787,0.07959748768622212,-0.07335152100529256,1.5679201630912711,0.053219499966360065,0.4377909275954798,-0.4108738189474997,-0.7190016400390153,0.3089019437067334,-0.26423764468661287,0.36404162684384966,1.8896605987378767,2.1064726673601473,-1.5133649684716444,0.009869769374126338,-2.235250524481225,-0.22337057601326998,0.8561588927857099,0.3856941145134942,-0.28496750706782986,0.048889224040245864,0.025062845777872163,-1.0042775436667823,0.004264310636040312,0.36646690572102514,0.8564286027355924,0.7887314088131345,-1.4777313939744903,-1.3166971416521733,-0.3208680303833144,-1.0198295242273419,0.3050677612939885,-0.8082594772684302,1.0571811122584296,-0.04330549718699945,0.8025279972795675,-1.0721022431178582,-1.72663719878505,0.0339265990132973,1.2082859061825684,2.4056453408913362e-05,0.15433331363831615,-0.16675365867183428,-0.4228428279887474,0.3122211018338927,0.6476593566228214,-0.7539537124490568,0.7782385509153177,-0.7731846360605293,-0.28562378587155934,-1.1657939985705077,-0.862042219934001,1.2110234354162455,0.8899036716432929,0.7919978324104415,-1.3310000935841564,0.7214732267316021,1.816489263931352,-0.7387856010538364,-1.0744705332323945,-0.7179108109427301,-0.297208515362758,-1.5286827136665169,0.6074091759350303,0.33771344384352486,1.259831207812005,0.7635495768552607,0.9597488173525972,1.014646551078339,2.7867484067169075,-2.52971826710298,-1.0213281238237273,0.8211913091724549,-1.0097182596065781,-0.43058400358984134,-1.3431455484801735,0.5474436942796898,0.2188722331836831,0.3741308838429427,0.051190565779324584,-0.15410944771311572,-2.1474278848315973,0.8510314976663124,1.0218206672961965,-1.1703526126312642],\"yaxis\":\"y2\",\"type\":\"scatter\"},{\"line\":{\"color\":\"rgba(128, 128, 128, 1.0)\",\"dash\":\"solid\",\"shape\":\"linear\",\"width\":1.3},\"marker\":{\"size\":2,\"symbol\":\"circle\"},\"mode\":\"markers\",\"name\":\"A\",\"text\":\"\",\"x\":[1.6320067672550114,0.013571597518988485,0.4267658992242022,0.3131395724831427,0.934514580222743,-0.5861022341329414,-1.4302987559641342,-0.22139786013664656,0.663171007555064,2.701568054660681,1.132655258868716,-1.2618240324811285,0.5967099360070722,-0.41428701335549833,0.6497449486826024,0.48044113315915926,1.0254986480098311,-1.7686908679270839,-1.7832391917216104,-0.8028078859416806,0.37707515279233544,0.23536684330914645,-1.351390100005412,-0.549926509826069,0.15787586136443116,0.3358040809294726,0.9166551680285362,-0.6000079288730298,0.356198542020789,-0.1616092278325927,-1.190736474961592,0.831948021082437,0.7108672665104884,-1.7565110463718139,1.7376816351250506,0.03562378256214433,1.1432465610938845,-1.7478516383727796,-0.5592256625903307,3.3430285040112238,1.6325210655742146,-0.35001531476351644,0.3271038550921371,-0.270790748596994,0.5146495788960012,-0.2387753632827418,-0.48190934620946485,0.337523458681305,0.6010108834316373,-0.6199546591098973,0.10261063320245636,0.09995308905169957,0.6872136943272025,0.8641432838921995,-0.20126688927067837,-0.14630490200191154,-0.9385932134581134,1.0167311715915515,-0.6940746798664247,0.37801160636747616,-2.0155541281707006,-0.19302718238829325,-0.2779639236364774,-1.9415924471161954,0.09536631705421743,-0.09356181753016589,0.8925625646518249,-1.2118433366028099,0.18860333713105218,0.5465591440427829,0.1873570216311578,-1.9447893839439823,-0.4108825283397903,1.4986613443997372,-1.2330691203098796,-1.7243747243962575,0.3664730328822936,0.4912675975383385,-1.4672190385613428,-0.6312494119824602,0.02051711049058606,-0.4110566281906969,0.6941310017272373,0.3479202980775581,0.9666567204573491,2.0130805562881755,-0.6622077039577834,-1.091774596828099,-0.4920180595361232,0.24288614812627068,-0.4158228823948609,0.5338377236145971,-1.1472736403024104,-0.5283819826171251,0.9822910754737452,0.9913128563641996,1.8591684246578655,-0.7352461179154989,0.2791521002534852,0.39753279031415817],\"xaxis\":\"x3\",\"y\":[0.8144187353470765,0.06943968861889845,-0.6051177979947289,1.4200079041252598,-0.0947786780060265,0.4353422038499592,-0.867023819630172,0.22712243386141492,-1.5936932223573854,0.9241321743715584,1.0741759091264447,0.2642848602684432,0.23913383143078554,-0.5296200715161591,-0.04891670088749185,2.1634524071419787,0.07959748768622212,-0.07335152100529256,1.5679201630912711,0.053219499966360065,0.4377909275954798,-0.4108738189474997,-0.7190016400390153,0.3089019437067334,-0.26423764468661287,0.36404162684384966,1.8896605987378767,2.1064726673601473,-1.5133649684716444,0.009869769374126338,-2.235250524481225,-0.22337057601326998,0.8561588927857099,0.3856941145134942,-0.28496750706782986,0.048889224040245864,0.025062845777872163,-1.0042775436667823,0.004264310636040312,0.36646690572102514,0.8564286027355924,0.7887314088131345,-1.4777313939744903,-1.3166971416521733,-0.3208680303833144,-1.0198295242273419,0.3050677612939885,-0.8082594772684302,1.0571811122584296,-0.04330549718699945,0.8025279972795675,-1.0721022431178582,-1.72663719878505,0.0339265990132973,1.2082859061825684,2.4056453408913362e-05,0.15433331363831615,-0.16675365867183428,-0.4228428279887474,0.3122211018338927,0.6476593566228214,-0.7539537124490568,0.7782385509153177,-0.7731846360605293,-0.28562378587155934,-1.1657939985705077,-0.862042219934001,1.2110234354162455,0.8899036716432929,0.7919978324104415,-1.3310000935841564,0.7214732267316021,1.816489263931352,-0.7387856010538364,-1.0744705332323945,-0.7179108109427301,-0.297208515362758,-1.5286827136665169,0.6074091759350303,0.33771344384352486,1.259831207812005,0.7635495768552607,0.9597488173525972,1.014646551078339,2.7867484067169075,-2.52971826710298,-1.0213281238237273,0.8211913091724549,-1.0097182596065781,-0.43058400358984134,-1.3431455484801735,0.5474436942796898,0.2188722331836831,0.3741308838429427,0.051190565779324584,-0.15410944771311572,-2.1474278848315973,0.8510314976663124,1.0218206672961965,-1.1703526126312642],\"yaxis\":\"y3\",\"type\":\"scatter\"},{\"line\":{\"color\":\"rgba(128, 128, 128, 1.0)\",\"dash\":\"solid\",\"shape\":\"linear\",\"width\":1.3},\"marker\":{\"size\":2,\"symbol\":\"circle\"},\"mode\":\"markers\",\"name\":\"A\",\"text\":\"\",\"x\":[0.7983743801094474,-0.9144970364904372,0.7377608206373266,1.2094442701617718,-0.034113644476177776,-0.07468997283468373,-0.4365334188683654,-0.3359540436610759,-0.4900620521275639,0.649452927104052,1.32401981584447,-0.6681148646130952,1.555881666445536,-0.663312350537218,0.517535606177241,-0.5963604186186587,-0.7289394666967155,-0.6614334140291629,1.2114499104973508,-0.9400044909732653,-0.3365622407764457,-0.004840309662538441,0.4014252667959559,1.7702074207636602,-0.15902830085492964,-0.4491525183361768,0.8199773050078053,0.24241653586728773,0.038871122497753034,0.7673859834900345,1.6709893112852547,-1.880682722554869,1.1464979996109588,0.4642917919716699,-1.387190001527133,-0.2321182753605703,-0.7728716451587044,1.3527609759626273,0.20333893805926107,-0.5967623483934287,-0.5591239031247264,-0.024998089594043083,1.5416581207071445,1.23818191360569,-0.9290027328307017,-1.3457789379399776,-0.8341286738944954,0.5001677599565157,-0.5967692094673804,0.27348645339355887,0.7760781915679874,0.457613185037016,-0.3492103540291085,-0.3842909854963571,-0.2722242403653147,0.9332740640305395,0.23977015203568813,-0.9228408546299977,-0.10151930381245429,0.654726180321158,-0.30355737514787784,1.6422770017101684,1.4363121905920537,-0.025215221682091615,0.18153341490580763,1.3415552322991204,-0.18110803904038167,-0.3176728394306511,0.9505354693710215,0.877167018703993,-0.1170786443188935,-0.39678780004479736,-0.0795907042411347,-0.4329229278703074,0.3570504785206501,-0.10208750684175669,-1.7877055134430488,0.5441865529079403,-1.5405593425245991,-0.7191063863844535,0.31760538624398443,-1.5139475416410115,1.2068157093758292,-2.172599935187426,0.6871903377937948,-0.7751249426919488,-0.8218306588295341,1.2856002478718513,-0.09592446267838775,0.28311341574543314,-2.1006508831448105,-0.6978537491787855,-0.9078269204518609,0.2923304985925143,0.025863130056403685,-1.9227191104639756,1.5930321631902804,-0.5990701946123035,-1.4867794289966045,0.6013644071384248],\"xaxis\":\"x4\",\"y\":[0.8144187353470765,0.06943968861889845,-0.6051177979947289,1.4200079041252598,-0.0947786780060265,0.4353422038499592,-0.867023819630172,0.22712243386141492,-1.5936932223573854,0.9241321743715584,1.0741759091264447,0.2642848602684432,0.23913383143078554,-0.5296200715161591,-0.04891670088749185,2.1634524071419787,0.07959748768622212,-0.07335152100529256,1.5679201630912711,0.053219499966360065,0.4377909275954798,-0.4108738189474997,-0.7190016400390153,0.3089019437067334,-0.26423764468661287,0.36404162684384966,1.8896605987378767,2.1064726673601473,-1.5133649684716444,0.009869769374126338,-2.235250524481225,-0.22337057601326998,0.8561588927857099,0.3856941145134942,-0.28496750706782986,0.048889224040245864,0.025062845777872163,-1.0042775436667823,0.004264310636040312,0.36646690572102514,0.8564286027355924,0.7887314088131345,-1.4777313939744903,-1.3166971416521733,-0.3208680303833144,-1.0198295242273419,0.3050677612939885,-0.8082594772684302,1.0571811122584296,-0.04330549718699945,0.8025279972795675,-1.0721022431178582,-1.72663719878505,0.0339265990132973,1.2082859061825684,2.4056453408913362e-05,0.15433331363831615,-0.16675365867183428,-0.4228428279887474,0.3122211018338927,0.6476593566228214,-0.7539537124490568,0.7782385509153177,-0.7731846360605293,-0.28562378587155934,-1.1657939985705077,-0.862042219934001,1.2110234354162455,0.8899036716432929,0.7919978324104415,-1.3310000935841564,0.7214732267316021,1.816489263931352,-0.7387856010538364,-1.0744705332323945,-0.7179108109427301,-0.297208515362758,-1.5286827136665169,0.6074091759350303,0.33771344384352486,1.259831207812005,0.7635495768552607,0.9597488173525972,1.014646551078339,2.7867484067169075,-2.52971826710298,-1.0213281238237273,0.8211913091724549,-1.0097182596065781,-0.43058400358984134,-1.3431455484801735,0.5474436942796898,0.2188722331836831,0.3741308838429427,0.051190565779324584,-0.15410944771311572,-2.1474278848315973,0.8510314976663124,1.0218206672961965,-1.1703526126312642],\"yaxis\":\"y4\",\"type\":\"scatter\"},{\"line\":{\"color\":\"rgba(128, 128, 128, 1.0)\",\"dash\":\"solid\",\"shape\":\"linear\",\"width\":1.3},\"marker\":{\"size\":2,\"symbol\":\"circle\"},\"mode\":\"markers\",\"name\":\"B\",\"text\":\"\",\"x\":[0.8144187353470765,0.06943968861889845,-0.6051177979947289,1.4200079041252598,-0.0947786780060265,0.4353422038499592,-0.867023819630172,0.22712243386141492,-1.5936932223573854,0.9241321743715584,1.0741759091264447,0.2642848602684432,0.23913383143078554,-0.5296200715161591,-0.04891670088749185,2.1634524071419787,0.07959748768622212,-0.07335152100529256,1.5679201630912711,0.053219499966360065,0.4377909275954798,-0.4108738189474997,-0.7190016400390153,0.3089019437067334,-0.26423764468661287,0.36404162684384966,1.8896605987378767,2.1064726673601473,-1.5133649684716444,0.009869769374126338,-2.235250524481225,-0.22337057601326998,0.8561588927857099,0.3856941145134942,-0.28496750706782986,0.048889224040245864,0.025062845777872163,-1.0042775436667823,0.004264310636040312,0.36646690572102514,0.8564286027355924,0.7887314088131345,-1.4777313939744903,-1.3166971416521733,-0.3208680303833144,-1.0198295242273419,0.3050677612939885,-0.8082594772684302,1.0571811122584296,-0.04330549718699945,0.8025279972795675,-1.0721022431178582,-1.72663719878505,0.0339265990132973,1.2082859061825684,2.4056453408913362e-05,0.15433331363831615,-0.16675365867183428,-0.4228428279887474,0.3122211018338927,0.6476593566228214,-0.7539537124490568,0.7782385509153177,-0.7731846360605293,-0.28562378587155934,-1.1657939985705077,-0.862042219934001,1.2110234354162455,0.8899036716432929,0.7919978324104415,-1.3310000935841564,0.7214732267316021,1.816489263931352,-0.7387856010538364,-1.0744705332323945,-0.7179108109427301,-0.297208515362758,-1.5286827136665169,0.6074091759350303,0.33771344384352486,1.259831207812005,0.7635495768552607,0.9597488173525972,1.014646551078339,2.7867484067169075,-2.52971826710298,-1.0213281238237273,0.8211913091724549,-1.0097182596065781,-0.43058400358984134,-1.3431455484801735,0.5474436942796898,0.2188722331836831,0.3741308838429427,0.051190565779324584,-0.15410944771311572,-2.1474278848315973,0.8510314976663124,1.0218206672961965,-1.1703526126312642],\"xaxis\":\"x5\",\"y\":[1.182835259237497,-0.8975732145797927,0.5220275195709047,0.16526936777424775,0.8221463234629366,0.09561960691624612,0.7154934197202248,-0.7239419506948116,-1.6183004239710814,-0.5805208012812353,-0.2231518507637324,0.5809954447566315,0.7896657634190364,0.09859341287168244,1.01181077086917,1.2801686263217356,0.006802514892934026,0.749579462162761,1.0226976632439386,1.6113010155683734,-1.7506865128832618,0.5026636946768042,-2.4396447316668235,-0.9043217468103396,-0.5452287632889667,-1.6417557829174791,0.28369201260159543,0.05773592079350799,-0.10589216598255646,0.972409774305762,1.121115719140552,0.1888647630515083,1.1899209062449612,-0.5388108014040269,-0.868672535059343,0.9492871720305138,-1.062542675070697,1.7106588413411308,1.1044216631680823,-0.6928660691112118,-0.46731344859800633,-0.30426022660944946,1.2709380589317472,-2.6227128294051414,0.6296655254120602,0.4300620265521417,-0.6480888131663791,-1.438046558452693,-0.402555960745747,-2.29535392221176,-0.11827288604262658,-1.0221151216646072,1.281883419834949,-0.9207405377108133,-1.9270739466753486,0.6676074238160519,0.11366910445242777,-1.1706213115879172,-0.11760123847185962,0.3172164900409643,-0.6643484679944766,-1.512156820047486,-0.8162683653806203,1.5348972081867693,2.0839592977231662,-0.7358936086844449,-1.0497042264481218,0.44282965790962225,-0.3802702424432359,1.5832824629988664,0.2679297436872706,-2.0234957168473806,0.9667018570206107,0.8001169737148024,-0.42758278331913757,-0.9907477622080939,-0.6126108190402878,0.712290384429327,-1.005642475286215,-1.9782557774705911,0.9211827602892596,-1.3697132180465084,-0.8415705327052733,2.7174073081230024,-1.4140618599490045,0.6633224069552077,0.41129032261369175,-0.6480931619950667,-0.13443803548642455,1.0374495373632742,0.5593281556573985,-1.6662162894285633,0.671438208173271,-0.08855620096733283,-0.7706300723442125,-0.12289390281624057,-0.1569283401959346,2.4871475021674456,0.6363121492402903,-0.5900043050544014],\"yaxis\":\"y5\",\"type\":\"scatter\"},{\"histfunc\":\"count\",\"histnorm\":\"\",\"marker\":{\"color\":\"rgba(55, 128, 191, 1.0)\",\"line\":{\"color\":\"#4D5663\",\"width\":1.3}},\"name\":\"B\",\"nbinsx\":10,\"opacity\":0.8,\"orientation\":\"v\",\"x\":[1.182835259237497,-0.8975732145797927,0.5220275195709047,0.16526936777424775,0.8221463234629366,0.09561960691624612,0.7154934197202248,-0.7239419506948116,-1.6183004239710814,-0.5805208012812353,-0.2231518507637324,0.5809954447566315,0.7896657634190364,0.09859341287168244,1.01181077086917,1.2801686263217356,0.006802514892934026,0.749579462162761,1.0226976632439386,1.6113010155683734,-1.7506865128832618,0.5026636946768042,-2.4396447316668235,-0.9043217468103396,-0.5452287632889667,-1.6417557829174791,0.28369201260159543,0.05773592079350799,-0.10589216598255646,0.972409774305762,1.121115719140552,0.1888647630515083,1.1899209062449612,-0.5388108014040269,-0.868672535059343,0.9492871720305138,-1.062542675070697,1.7106588413411308,1.1044216631680823,-0.6928660691112118,-0.46731344859800633,-0.30426022660944946,1.2709380589317472,-2.6227128294051414,0.6296655254120602,0.4300620265521417,-0.6480888131663791,-1.438046558452693,-0.402555960745747,-2.29535392221176,-0.11827288604262658,-1.0221151216646072,1.281883419834949,-0.9207405377108133,-1.9270739466753486,0.6676074238160519,0.11366910445242777,-1.1706213115879172,-0.11760123847185962,0.3172164900409643,-0.6643484679944766,-1.512156820047486,-0.8162683653806203,1.5348972081867693,2.0839592977231662,-0.7358936086844449,-1.0497042264481218,0.44282965790962225,-0.3802702424432359,1.5832824629988664,0.2679297436872706,-2.0234957168473806,0.9667018570206107,0.8001169737148024,-0.42758278331913757,-0.9907477622080939,-0.6126108190402878,0.712290384429327,-1.005642475286215,-1.9782557774705911,0.9211827602892596,-1.3697132180465084,-0.8415705327052733,2.7174073081230024,-1.4140618599490045,0.6633224069552077,0.41129032261369175,-0.6480931619950667,-0.13443803548642455,1.0374495373632742,0.5593281556573985,-1.6662162894285633,0.671438208173271,-0.08855620096733283,-0.7706300723442125,-0.12289390281624057,-0.1569283401959346,2.4871475021674456,0.6363121492402903,-0.5900043050544014],\"xaxis\":\"x6\",\"yaxis\":\"y6\",\"type\":\"histogram\"},{\"line\":{\"color\":\"rgba(128, 128, 128, 1.0)\",\"dash\":\"solid\",\"shape\":\"linear\",\"width\":1.3},\"marker\":{\"size\":2,\"symbol\":\"circle\"},\"mode\":\"markers\",\"name\":\"B\",\"text\":\"\",\"x\":[1.6320067672550114,0.013571597518988485,0.4267658992242022,0.3131395724831427,0.934514580222743,-0.5861022341329414,-1.4302987559641342,-0.22139786013664656,0.663171007555064,2.701568054660681,1.132655258868716,-1.2618240324811285,0.5967099360070722,-0.41428701335549833,0.6497449486826024,0.48044113315915926,1.0254986480098311,-1.7686908679270839,-1.7832391917216104,-0.8028078859416806,0.37707515279233544,0.23536684330914645,-1.351390100005412,-0.549926509826069,0.15787586136443116,0.3358040809294726,0.9166551680285362,-0.6000079288730298,0.356198542020789,-0.1616092278325927,-1.190736474961592,0.831948021082437,0.7108672665104884,-1.7565110463718139,1.7376816351250506,0.03562378256214433,1.1432465610938845,-1.7478516383727796,-0.5592256625903307,3.3430285040112238,1.6325210655742146,-0.35001531476351644,0.3271038550921371,-0.270790748596994,0.5146495788960012,-0.2387753632827418,-0.48190934620946485,0.337523458681305,0.6010108834316373,-0.6199546591098973,0.10261063320245636,0.09995308905169957,0.6872136943272025,0.8641432838921995,-0.20126688927067837,-0.14630490200191154,-0.9385932134581134,1.0167311715915515,-0.6940746798664247,0.37801160636747616,-2.0155541281707006,-0.19302718238829325,-0.2779639236364774,-1.9415924471161954,0.09536631705421743,-0.09356181753016589,0.8925625646518249,-1.2118433366028099,0.18860333713105218,0.5465591440427829,0.1873570216311578,-1.9447893839439823,-0.4108825283397903,1.4986613443997372,-1.2330691203098796,-1.7243747243962575,0.3664730328822936,0.4912675975383385,-1.4672190385613428,-0.6312494119824602,0.02051711049058606,-0.4110566281906969,0.6941310017272373,0.3479202980775581,0.9666567204573491,2.0130805562881755,-0.6622077039577834,-1.091774596828099,-0.4920180595361232,0.24288614812627068,-0.4158228823948609,0.5338377236145971,-1.1472736403024104,-0.5283819826171251,0.9822910754737452,0.9913128563641996,1.8591684246578655,-0.7352461179154989,0.2791521002534852,0.39753279031415817],\"xaxis\":\"x7\",\"y\":[1.182835259237497,-0.8975732145797927,0.5220275195709047,0.16526936777424775,0.8221463234629366,0.09561960691624612,0.7154934197202248,-0.7239419506948116,-1.6183004239710814,-0.5805208012812353,-0.2231518507637324,0.5809954447566315,0.7896657634190364,0.09859341287168244,1.01181077086917,1.2801686263217356,0.006802514892934026,0.749579462162761,1.0226976632439386,1.6113010155683734,-1.7506865128832618,0.5026636946768042,-2.4396447316668235,-0.9043217468103396,-0.5452287632889667,-1.6417557829174791,0.28369201260159543,0.05773592079350799,-0.10589216598255646,0.972409774305762,1.121115719140552,0.1888647630515083,1.1899209062449612,-0.5388108014040269,-0.868672535059343,0.9492871720305138,-1.062542675070697,1.7106588413411308,1.1044216631680823,-0.6928660691112118,-0.46731344859800633,-0.30426022660944946,1.2709380589317472,-2.6227128294051414,0.6296655254120602,0.4300620265521417,-0.6480888131663791,-1.438046558452693,-0.402555960745747,-2.29535392221176,-0.11827288604262658,-1.0221151216646072,1.281883419834949,-0.9207405377108133,-1.9270739466753486,0.6676074238160519,0.11366910445242777,-1.1706213115879172,-0.11760123847185962,0.3172164900409643,-0.6643484679944766,-1.512156820047486,-0.8162683653806203,1.5348972081867693,2.0839592977231662,-0.7358936086844449,-1.0497042264481218,0.44282965790962225,-0.3802702424432359,1.5832824629988664,0.2679297436872706,-2.0234957168473806,0.9667018570206107,0.8001169737148024,-0.42758278331913757,-0.9907477622080939,-0.6126108190402878,0.712290384429327,-1.005642475286215,-1.9782557774705911,0.9211827602892596,-1.3697132180465084,-0.8415705327052733,2.7174073081230024,-1.4140618599490045,0.6633224069552077,0.41129032261369175,-0.6480931619950667,-0.13443803548642455,1.0374495373632742,0.5593281556573985,-1.6662162894285633,0.671438208173271,-0.08855620096733283,-0.7706300723442125,-0.12289390281624057,-0.1569283401959346,2.4871475021674456,0.6363121492402903,-0.5900043050544014],\"yaxis\":\"y7\",\"type\":\"scatter\"},{\"line\":{\"color\":\"rgba(128, 128, 128, 1.0)\",\"dash\":\"solid\",\"shape\":\"linear\",\"width\":1.3},\"marker\":{\"size\":2,\"symbol\":\"circle\"},\"mode\":\"markers\",\"name\":\"B\",\"text\":\"\",\"x\":[0.7983743801094474,-0.9144970364904372,0.7377608206373266,1.2094442701617718,-0.034113644476177776,-0.07468997283468373,-0.4365334188683654,-0.3359540436610759,-0.4900620521275639,0.649452927104052,1.32401981584447,-0.6681148646130952,1.555881666445536,-0.663312350537218,0.517535606177241,-0.5963604186186587,-0.7289394666967155,-0.6614334140291629,1.2114499104973508,-0.9400044909732653,-0.3365622407764457,-0.004840309662538441,0.4014252667959559,1.7702074207636602,-0.15902830085492964,-0.4491525183361768,0.8199773050078053,0.24241653586728773,0.038871122497753034,0.7673859834900345,1.6709893112852547,-1.880682722554869,1.1464979996109588,0.4642917919716699,-1.387190001527133,-0.2321182753605703,-0.7728716451587044,1.3527609759626273,0.20333893805926107,-0.5967623483934287,-0.5591239031247264,-0.024998089594043083,1.5416581207071445,1.23818191360569,-0.9290027328307017,-1.3457789379399776,-0.8341286738944954,0.5001677599565157,-0.5967692094673804,0.27348645339355887,0.7760781915679874,0.457613185037016,-0.3492103540291085,-0.3842909854963571,-0.2722242403653147,0.9332740640305395,0.23977015203568813,-0.9228408546299977,-0.10151930381245429,0.654726180321158,-0.30355737514787784,1.6422770017101684,1.4363121905920537,-0.025215221682091615,0.18153341490580763,1.3415552322991204,-0.18110803904038167,-0.3176728394306511,0.9505354693710215,0.877167018703993,-0.1170786443188935,-0.39678780004479736,-0.0795907042411347,-0.4329229278703074,0.3570504785206501,-0.10208750684175669,-1.7877055134430488,0.5441865529079403,-1.5405593425245991,-0.7191063863844535,0.31760538624398443,-1.5139475416410115,1.2068157093758292,-2.172599935187426,0.6871903377937948,-0.7751249426919488,-0.8218306588295341,1.2856002478718513,-0.09592446267838775,0.28311341574543314,-2.1006508831448105,-0.6978537491787855,-0.9078269204518609,0.2923304985925143,0.025863130056403685,-1.9227191104639756,1.5930321631902804,-0.5990701946123035,-1.4867794289966045,0.6013644071384248],\"xaxis\":\"x8\",\"y\":[1.182835259237497,-0.8975732145797927,0.5220275195709047,0.16526936777424775,0.8221463234629366,0.09561960691624612,0.7154934197202248,-0.7239419506948116,-1.6183004239710814,-0.5805208012812353,-0.2231518507637324,0.5809954447566315,0.7896657634190364,0.09859341287168244,1.01181077086917,1.2801686263217356,0.006802514892934026,0.749579462162761,1.0226976632439386,1.6113010155683734,-1.7506865128832618,0.5026636946768042,-2.4396447316668235,-0.9043217468103396,-0.5452287632889667,-1.6417557829174791,0.28369201260159543,0.05773592079350799,-0.10589216598255646,0.972409774305762,1.121115719140552,0.1888647630515083,1.1899209062449612,-0.5388108014040269,-0.868672535059343,0.9492871720305138,-1.062542675070697,1.7106588413411308,1.1044216631680823,-0.6928660691112118,-0.46731344859800633,-0.30426022660944946,1.2709380589317472,-2.6227128294051414,0.6296655254120602,0.4300620265521417,-0.6480888131663791,-1.438046558452693,-0.402555960745747,-2.29535392221176,-0.11827288604262658,-1.0221151216646072,1.281883419834949,-0.9207405377108133,-1.9270739466753486,0.6676074238160519,0.11366910445242777,-1.1706213115879172,-0.11760123847185962,0.3172164900409643,-0.6643484679944766,-1.512156820047486,-0.8162683653806203,1.5348972081867693,2.0839592977231662,-0.7358936086844449,-1.0497042264481218,0.44282965790962225,-0.3802702424432359,1.5832824629988664,0.2679297436872706,-2.0234957168473806,0.9667018570206107,0.8001169737148024,-0.42758278331913757,-0.9907477622080939,-0.6126108190402878,0.712290384429327,-1.005642475286215,-1.9782557774705911,0.9211827602892596,-1.3697132180465084,-0.8415705327052733,2.7174073081230024,-1.4140618599490045,0.6633224069552077,0.41129032261369175,-0.6480931619950667,-0.13443803548642455,1.0374495373632742,0.5593281556573985,-1.6662162894285633,0.671438208173271,-0.08855620096733283,-0.7706300723442125,-0.12289390281624057,-0.1569283401959346,2.4871475021674456,0.6363121492402903,-0.5900043050544014],\"yaxis\":\"y8\",\"type\":\"scatter\"},{\"line\":{\"color\":\"rgba(128, 128, 128, 1.0)\",\"dash\":\"solid\",\"shape\":\"linear\",\"width\":1.3},\"marker\":{\"size\":2,\"symbol\":\"circle\"},\"mode\":\"markers\",\"name\":\"C\",\"text\":\"\",\"x\":[0.8144187353470765,0.06943968861889845,-0.6051177979947289,1.4200079041252598,-0.0947786780060265,0.4353422038499592,-0.867023819630172,0.22712243386141492,-1.5936932223573854,0.9241321743715584,1.0741759091264447,0.2642848602684432,0.23913383143078554,-0.5296200715161591,-0.04891670088749185,2.1634524071419787,0.07959748768622212,-0.07335152100529256,1.5679201630912711,0.053219499966360065,0.4377909275954798,-0.4108738189474997,-0.7190016400390153,0.3089019437067334,-0.26423764468661287,0.36404162684384966,1.8896605987378767,2.1064726673601473,-1.5133649684716444,0.009869769374126338,-2.235250524481225,-0.22337057601326998,0.8561588927857099,0.3856941145134942,-0.28496750706782986,0.048889224040245864,0.025062845777872163,-1.0042775436667823,0.004264310636040312,0.36646690572102514,0.8564286027355924,0.7887314088131345,-1.4777313939744903,-1.3166971416521733,-0.3208680303833144,-1.0198295242273419,0.3050677612939885,-0.8082594772684302,1.0571811122584296,-0.04330549718699945,0.8025279972795675,-1.0721022431178582,-1.72663719878505,0.0339265990132973,1.2082859061825684,2.4056453408913362e-05,0.15433331363831615,-0.16675365867183428,-0.4228428279887474,0.3122211018338927,0.6476593566228214,-0.7539537124490568,0.7782385509153177,-0.7731846360605293,-0.28562378587155934,-1.1657939985705077,-0.862042219934001,1.2110234354162455,0.8899036716432929,0.7919978324104415,-1.3310000935841564,0.7214732267316021,1.816489263931352,-0.7387856010538364,-1.0744705332323945,-0.7179108109427301,-0.297208515362758,-1.5286827136665169,0.6074091759350303,0.33771344384352486,1.259831207812005,0.7635495768552607,0.9597488173525972,1.014646551078339,2.7867484067169075,-2.52971826710298,-1.0213281238237273,0.8211913091724549,-1.0097182596065781,-0.43058400358984134,-1.3431455484801735,0.5474436942796898,0.2188722331836831,0.3741308838429427,0.051190565779324584,-0.15410944771311572,-2.1474278848315973,0.8510314976663124,1.0218206672961965,-1.1703526126312642],\"xaxis\":\"x9\",\"y\":[1.6320067672550114,0.013571597518988485,0.4267658992242022,0.3131395724831427,0.934514580222743,-0.5861022341329414,-1.4302987559641342,-0.22139786013664656,0.663171007555064,2.701568054660681,1.132655258868716,-1.2618240324811285,0.5967099360070722,-0.41428701335549833,0.6497449486826024,0.48044113315915926,1.0254986480098311,-1.7686908679270839,-1.7832391917216104,-0.8028078859416806,0.37707515279233544,0.23536684330914645,-1.351390100005412,-0.549926509826069,0.15787586136443116,0.3358040809294726,0.9166551680285362,-0.6000079288730298,0.356198542020789,-0.1616092278325927,-1.190736474961592,0.831948021082437,0.7108672665104884,-1.7565110463718139,1.7376816351250506,0.03562378256214433,1.1432465610938845,-1.7478516383727796,-0.5592256625903307,3.3430285040112238,1.6325210655742146,-0.35001531476351644,0.3271038550921371,-0.270790748596994,0.5146495788960012,-0.2387753632827418,-0.48190934620946485,0.337523458681305,0.6010108834316373,-0.6199546591098973,0.10261063320245636,0.09995308905169957,0.6872136943272025,0.8641432838921995,-0.20126688927067837,-0.14630490200191154,-0.9385932134581134,1.0167311715915515,-0.6940746798664247,0.37801160636747616,-2.0155541281707006,-0.19302718238829325,-0.2779639236364774,-1.9415924471161954,0.09536631705421743,-0.09356181753016589,0.8925625646518249,-1.2118433366028099,0.18860333713105218,0.5465591440427829,0.1873570216311578,-1.9447893839439823,-0.4108825283397903,1.4986613443997372,-1.2330691203098796,-1.7243747243962575,0.3664730328822936,0.4912675975383385,-1.4672190385613428,-0.6312494119824602,0.02051711049058606,-0.4110566281906969,0.6941310017272373,0.3479202980775581,0.9666567204573491,2.0130805562881755,-0.6622077039577834,-1.091774596828099,-0.4920180595361232,0.24288614812627068,-0.4158228823948609,0.5338377236145971,-1.1472736403024104,-0.5283819826171251,0.9822910754737452,0.9913128563641996,1.8591684246578655,-0.7352461179154989,0.2791521002534852,0.39753279031415817],\"yaxis\":\"y9\",\"type\":\"scatter\"},{\"line\":{\"color\":\"rgba(128, 128, 128, 1.0)\",\"dash\":\"solid\",\"shape\":\"linear\",\"width\":1.3},\"marker\":{\"size\":2,\"symbol\":\"circle\"},\"mode\":\"markers\",\"name\":\"C\",\"text\":\"\",\"x\":[1.182835259237497,-0.8975732145797927,0.5220275195709047,0.16526936777424775,0.8221463234629366,0.09561960691624612,0.7154934197202248,-0.7239419506948116,-1.6183004239710814,-0.5805208012812353,-0.2231518507637324,0.5809954447566315,0.7896657634190364,0.09859341287168244,1.01181077086917,1.2801686263217356,0.006802514892934026,0.749579462162761,1.0226976632439386,1.6113010155683734,-1.7506865128832618,0.5026636946768042,-2.4396447316668235,-0.9043217468103396,-0.5452287632889667,-1.6417557829174791,0.28369201260159543,0.05773592079350799,-0.10589216598255646,0.972409774305762,1.121115719140552,0.1888647630515083,1.1899209062449612,-0.5388108014040269,-0.868672535059343,0.9492871720305138,-1.062542675070697,1.7106588413411308,1.1044216631680823,-0.6928660691112118,-0.46731344859800633,-0.30426022660944946,1.2709380589317472,-2.6227128294051414,0.6296655254120602,0.4300620265521417,-0.6480888131663791,-1.438046558452693,-0.402555960745747,-2.29535392221176,-0.11827288604262658,-1.0221151216646072,1.281883419834949,-0.9207405377108133,-1.9270739466753486,0.6676074238160519,0.11366910445242777,-1.1706213115879172,-0.11760123847185962,0.3172164900409643,-0.6643484679944766,-1.512156820047486,-0.8162683653806203,1.5348972081867693,2.0839592977231662,-0.7358936086844449,-1.0497042264481218,0.44282965790962225,-0.3802702424432359,1.5832824629988664,0.2679297436872706,-2.0234957168473806,0.9667018570206107,0.8001169737148024,-0.42758278331913757,-0.9907477622080939,-0.6126108190402878,0.712290384429327,-1.005642475286215,-1.9782557774705911,0.9211827602892596,-1.3697132180465084,-0.8415705327052733,2.7174073081230024,-1.4140618599490045,0.6633224069552077,0.41129032261369175,-0.6480931619950667,-0.13443803548642455,1.0374495373632742,0.5593281556573985,-1.6662162894285633,0.671438208173271,-0.08855620096733283,-0.7706300723442125,-0.12289390281624057,-0.1569283401959346,2.4871475021674456,0.6363121492402903,-0.5900043050544014],\"xaxis\":\"x10\",\"y\":[1.6320067672550114,0.013571597518988485,0.4267658992242022,0.3131395724831427,0.934514580222743,-0.5861022341329414,-1.4302987559641342,-0.22139786013664656,0.663171007555064,2.701568054660681,1.132655258868716,-1.2618240324811285,0.5967099360070722,-0.41428701335549833,0.6497449486826024,0.48044113315915926,1.0254986480098311,-1.7686908679270839,-1.7832391917216104,-0.8028078859416806,0.37707515279233544,0.23536684330914645,-1.351390100005412,-0.549926509826069,0.15787586136443116,0.3358040809294726,0.9166551680285362,-0.6000079288730298,0.356198542020789,-0.1616092278325927,-1.190736474961592,0.831948021082437,0.7108672665104884,-1.7565110463718139,1.7376816351250506,0.03562378256214433,1.1432465610938845,-1.7478516383727796,-0.5592256625903307,3.3430285040112238,1.6325210655742146,-0.35001531476351644,0.3271038550921371,-0.270790748596994,0.5146495788960012,-0.2387753632827418,-0.48190934620946485,0.337523458681305,0.6010108834316373,-0.6199546591098973,0.10261063320245636,0.09995308905169957,0.6872136943272025,0.8641432838921995,-0.20126688927067837,-0.14630490200191154,-0.9385932134581134,1.0167311715915515,-0.6940746798664247,0.37801160636747616,-2.0155541281707006,-0.19302718238829325,-0.2779639236364774,-1.9415924471161954,0.09536631705421743,-0.09356181753016589,0.8925625646518249,-1.2118433366028099,0.18860333713105218,0.5465591440427829,0.1873570216311578,-1.9447893839439823,-0.4108825283397903,1.4986613443997372,-1.2330691203098796,-1.7243747243962575,0.3664730328822936,0.4912675975383385,-1.4672190385613428,-0.6312494119824602,0.02051711049058606,-0.4110566281906969,0.6941310017272373,0.3479202980775581,0.9666567204573491,2.0130805562881755,-0.6622077039577834,-1.091774596828099,-0.4920180595361232,0.24288614812627068,-0.4158228823948609,0.5338377236145971,-1.1472736403024104,-0.5283819826171251,0.9822910754737452,0.9913128563641996,1.8591684246578655,-0.7352461179154989,0.2791521002534852,0.39753279031415817],\"yaxis\":\"y10\",\"type\":\"scatter\"},{\"histfunc\":\"count\",\"histnorm\":\"\",\"marker\":{\"color\":\"rgba(50, 171, 96, 1.0)\",\"line\":{\"color\":\"#4D5663\",\"width\":1.3}},\"name\":\"C\",\"nbinsx\":10,\"opacity\":0.8,\"orientation\":\"v\",\"x\":[1.6320067672550114,0.013571597518988485,0.4267658992242022,0.3131395724831427,0.934514580222743,-0.5861022341329414,-1.4302987559641342,-0.22139786013664656,0.663171007555064,2.701568054660681,1.132655258868716,-1.2618240324811285,0.5967099360070722,-0.41428701335549833,0.6497449486826024,0.48044113315915926,1.0254986480098311,-1.7686908679270839,-1.7832391917216104,-0.8028078859416806,0.37707515279233544,0.23536684330914645,-1.351390100005412,-0.549926509826069,0.15787586136443116,0.3358040809294726,0.9166551680285362,-0.6000079288730298,0.356198542020789,-0.1616092278325927,-1.190736474961592,0.831948021082437,0.7108672665104884,-1.7565110463718139,1.7376816351250506,0.03562378256214433,1.1432465610938845,-1.7478516383727796,-0.5592256625903307,3.3430285040112238,1.6325210655742146,-0.35001531476351644,0.3271038550921371,-0.270790748596994,0.5146495788960012,-0.2387753632827418,-0.48190934620946485,0.337523458681305,0.6010108834316373,-0.6199546591098973,0.10261063320245636,0.09995308905169957,0.6872136943272025,0.8641432838921995,-0.20126688927067837,-0.14630490200191154,-0.9385932134581134,1.0167311715915515,-0.6940746798664247,0.37801160636747616,-2.0155541281707006,-0.19302718238829325,-0.2779639236364774,-1.9415924471161954,0.09536631705421743,-0.09356181753016589,0.8925625646518249,-1.2118433366028099,0.18860333713105218,0.5465591440427829,0.1873570216311578,-1.9447893839439823,-0.4108825283397903,1.4986613443997372,-1.2330691203098796,-1.7243747243962575,0.3664730328822936,0.4912675975383385,-1.4672190385613428,-0.6312494119824602,0.02051711049058606,-0.4110566281906969,0.6941310017272373,0.3479202980775581,0.9666567204573491,2.0130805562881755,-0.6622077039577834,-1.091774596828099,-0.4920180595361232,0.24288614812627068,-0.4158228823948609,0.5338377236145971,-1.1472736403024104,-0.5283819826171251,0.9822910754737452,0.9913128563641996,1.8591684246578655,-0.7352461179154989,0.2791521002534852,0.39753279031415817],\"xaxis\":\"x11\",\"yaxis\":\"y11\",\"type\":\"histogram\"},{\"line\":{\"color\":\"rgba(128, 128, 128, 1.0)\",\"dash\":\"solid\",\"shape\":\"linear\",\"width\":1.3},\"marker\":{\"size\":2,\"symbol\":\"circle\"},\"mode\":\"markers\",\"name\":\"C\",\"text\":\"\",\"x\":[0.7983743801094474,-0.9144970364904372,0.7377608206373266,1.2094442701617718,-0.034113644476177776,-0.07468997283468373,-0.4365334188683654,-0.3359540436610759,-0.4900620521275639,0.649452927104052,1.32401981584447,-0.6681148646130952,1.555881666445536,-0.663312350537218,0.517535606177241,-0.5963604186186587,-0.7289394666967155,-0.6614334140291629,1.2114499104973508,-0.9400044909732653,-0.3365622407764457,-0.004840309662538441,0.4014252667959559,1.7702074207636602,-0.15902830085492964,-0.4491525183361768,0.8199773050078053,0.24241653586728773,0.038871122497753034,0.7673859834900345,1.6709893112852547,-1.880682722554869,1.1464979996109588,0.4642917919716699,-1.387190001527133,-0.2321182753605703,-0.7728716451587044,1.3527609759626273,0.20333893805926107,-0.5967623483934287,-0.5591239031247264,-0.024998089594043083,1.5416581207071445,1.23818191360569,-0.9290027328307017,-1.3457789379399776,-0.8341286738944954,0.5001677599565157,-0.5967692094673804,0.27348645339355887,0.7760781915679874,0.457613185037016,-0.3492103540291085,-0.3842909854963571,-0.2722242403653147,0.9332740640305395,0.23977015203568813,-0.9228408546299977,-0.10151930381245429,0.654726180321158,-0.30355737514787784,1.6422770017101684,1.4363121905920537,-0.025215221682091615,0.18153341490580763,1.3415552322991204,-0.18110803904038167,-0.3176728394306511,0.9505354693710215,0.877167018703993,-0.1170786443188935,-0.39678780004479736,-0.0795907042411347,-0.4329229278703074,0.3570504785206501,-0.10208750684175669,-1.7877055134430488,0.5441865529079403,-1.5405593425245991,-0.7191063863844535,0.31760538624398443,-1.5139475416410115,1.2068157093758292,-2.172599935187426,0.6871903377937948,-0.7751249426919488,-0.8218306588295341,1.2856002478718513,-0.09592446267838775,0.28311341574543314,-2.1006508831448105,-0.6978537491787855,-0.9078269204518609,0.2923304985925143,0.025863130056403685,-1.9227191104639756,1.5930321631902804,-0.5990701946123035,-1.4867794289966045,0.6013644071384248],\"xaxis\":\"x12\",\"y\":[1.6320067672550114,0.013571597518988485,0.4267658992242022,0.3131395724831427,0.934514580222743,-0.5861022341329414,-1.4302987559641342,-0.22139786013664656,0.663171007555064,2.701568054660681,1.132655258868716,-1.2618240324811285,0.5967099360070722,-0.41428701335549833,0.6497449486826024,0.48044113315915926,1.0254986480098311,-1.7686908679270839,-1.7832391917216104,-0.8028078859416806,0.37707515279233544,0.23536684330914645,-1.351390100005412,-0.549926509826069,0.15787586136443116,0.3358040809294726,0.9166551680285362,-0.6000079288730298,0.356198542020789,-0.1616092278325927,-1.190736474961592,0.831948021082437,0.7108672665104884,-1.7565110463718139,1.7376816351250506,0.03562378256214433,1.1432465610938845,-1.7478516383727796,-0.5592256625903307,3.3430285040112238,1.6325210655742146,-0.35001531476351644,0.3271038550921371,-0.270790748596994,0.5146495788960012,-0.2387753632827418,-0.48190934620946485,0.337523458681305,0.6010108834316373,-0.6199546591098973,0.10261063320245636,0.09995308905169957,0.6872136943272025,0.8641432838921995,-0.20126688927067837,-0.14630490200191154,-0.9385932134581134,1.0167311715915515,-0.6940746798664247,0.37801160636747616,-2.0155541281707006,-0.19302718238829325,-0.2779639236364774,-1.9415924471161954,0.09536631705421743,-0.09356181753016589,0.8925625646518249,-1.2118433366028099,0.18860333713105218,0.5465591440427829,0.1873570216311578,-1.9447893839439823,-0.4108825283397903,1.4986613443997372,-1.2330691203098796,-1.7243747243962575,0.3664730328822936,0.4912675975383385,-1.4672190385613428,-0.6312494119824602,0.02051711049058606,-0.4110566281906969,0.6941310017272373,0.3479202980775581,0.9666567204573491,2.0130805562881755,-0.6622077039577834,-1.091774596828099,-0.4920180595361232,0.24288614812627068,-0.4158228823948609,0.5338377236145971,-1.1472736403024104,-0.5283819826171251,0.9822910754737452,0.9913128563641996,1.8591684246578655,-0.7352461179154989,0.2791521002534852,0.39753279031415817],\"yaxis\":\"y12\",\"type\":\"scatter\"},{\"line\":{\"color\":\"rgba(128, 128, 128, 1.0)\",\"dash\":\"solid\",\"shape\":\"linear\",\"width\":1.3},\"marker\":{\"size\":2,\"symbol\":\"circle\"},\"mode\":\"markers\",\"name\":\"D\",\"text\":\"\",\"x\":[0.8144187353470765,0.06943968861889845,-0.6051177979947289,1.4200079041252598,-0.0947786780060265,0.4353422038499592,-0.867023819630172,0.22712243386141492,-1.5936932223573854,0.9241321743715584,1.0741759091264447,0.2642848602684432,0.23913383143078554,-0.5296200715161591,-0.04891670088749185,2.1634524071419787,0.07959748768622212,-0.07335152100529256,1.5679201630912711,0.053219499966360065,0.4377909275954798,-0.4108738189474997,-0.7190016400390153,0.3089019437067334,-0.26423764468661287,0.36404162684384966,1.8896605987378767,2.1064726673601473,-1.5133649684716444,0.009869769374126338,-2.235250524481225,-0.22337057601326998,0.8561588927857099,0.3856941145134942,-0.28496750706782986,0.048889224040245864,0.025062845777872163,-1.0042775436667823,0.004264310636040312,0.36646690572102514,0.8564286027355924,0.7887314088131345,-1.4777313939744903,-1.3166971416521733,-0.3208680303833144,-1.0198295242273419,0.3050677612939885,-0.8082594772684302,1.0571811122584296,-0.04330549718699945,0.8025279972795675,-1.0721022431178582,-1.72663719878505,0.0339265990132973,1.2082859061825684,2.4056453408913362e-05,0.15433331363831615,-0.16675365867183428,-0.4228428279887474,0.3122211018338927,0.6476593566228214,-0.7539537124490568,0.7782385509153177,-0.7731846360605293,-0.28562378587155934,-1.1657939985705077,-0.862042219934001,1.2110234354162455,0.8899036716432929,0.7919978324104415,-1.3310000935841564,0.7214732267316021,1.816489263931352,-0.7387856010538364,-1.0744705332323945,-0.7179108109427301,-0.297208515362758,-1.5286827136665169,0.6074091759350303,0.33771344384352486,1.259831207812005,0.7635495768552607,0.9597488173525972,1.014646551078339,2.7867484067169075,-2.52971826710298,-1.0213281238237273,0.8211913091724549,-1.0097182596065781,-0.43058400358984134,-1.3431455484801735,0.5474436942796898,0.2188722331836831,0.3741308838429427,0.051190565779324584,-0.15410944771311572,-2.1474278848315973,0.8510314976663124,1.0218206672961965,-1.1703526126312642],\"xaxis\":\"x13\",\"y\":[0.7983743801094474,-0.9144970364904372,0.7377608206373266,1.2094442701617718,-0.034113644476177776,-0.07468997283468373,-0.4365334188683654,-0.3359540436610759,-0.4900620521275639,0.649452927104052,1.32401981584447,-0.6681148646130952,1.555881666445536,-0.663312350537218,0.517535606177241,-0.5963604186186587,-0.7289394666967155,-0.6614334140291629,1.2114499104973508,-0.9400044909732653,-0.3365622407764457,-0.004840309662538441,0.4014252667959559,1.7702074207636602,-0.15902830085492964,-0.4491525183361768,0.8199773050078053,0.24241653586728773,0.038871122497753034,0.7673859834900345,1.6709893112852547,-1.880682722554869,1.1464979996109588,0.4642917919716699,-1.387190001527133,-0.2321182753605703,-0.7728716451587044,1.3527609759626273,0.20333893805926107,-0.5967623483934287,-0.5591239031247264,-0.024998089594043083,1.5416581207071445,1.23818191360569,-0.9290027328307017,-1.3457789379399776,-0.8341286738944954,0.5001677599565157,-0.5967692094673804,0.27348645339355887,0.7760781915679874,0.457613185037016,-0.3492103540291085,-0.3842909854963571,-0.2722242403653147,0.9332740640305395,0.23977015203568813,-0.9228408546299977,-0.10151930381245429,0.654726180321158,-0.30355737514787784,1.6422770017101684,1.4363121905920537,-0.025215221682091615,0.18153341490580763,1.3415552322991204,-0.18110803904038167,-0.3176728394306511,0.9505354693710215,0.877167018703993,-0.1170786443188935,-0.39678780004479736,-0.0795907042411347,-0.4329229278703074,0.3570504785206501,-0.10208750684175669,-1.7877055134430488,0.5441865529079403,-1.5405593425245991,-0.7191063863844535,0.31760538624398443,-1.5139475416410115,1.2068157093758292,-2.172599935187426,0.6871903377937948,-0.7751249426919488,-0.8218306588295341,1.2856002478718513,-0.09592446267838775,0.28311341574543314,-2.1006508831448105,-0.6978537491787855,-0.9078269204518609,0.2923304985925143,0.025863130056403685,-1.9227191104639756,1.5930321631902804,-0.5990701946123035,-1.4867794289966045,0.6013644071384248],\"yaxis\":\"y13\",\"type\":\"scatter\"},{\"line\":{\"color\":\"rgba(128, 128, 128, 1.0)\",\"dash\":\"solid\",\"shape\":\"linear\",\"width\":1.3},\"marker\":{\"size\":2,\"symbol\":\"circle\"},\"mode\":\"markers\",\"name\":\"D\",\"text\":\"\",\"x\":[1.182835259237497,-0.8975732145797927,0.5220275195709047,0.16526936777424775,0.8221463234629366,0.09561960691624612,0.7154934197202248,-0.7239419506948116,-1.6183004239710814,-0.5805208012812353,-0.2231518507637324,0.5809954447566315,0.7896657634190364,0.09859341287168244,1.01181077086917,1.2801686263217356,0.006802514892934026,0.749579462162761,1.0226976632439386,1.6113010155683734,-1.7506865128832618,0.5026636946768042,-2.4396447316668235,-0.9043217468103396,-0.5452287632889667,-1.6417557829174791,0.28369201260159543,0.05773592079350799,-0.10589216598255646,0.972409774305762,1.121115719140552,0.1888647630515083,1.1899209062449612,-0.5388108014040269,-0.868672535059343,0.9492871720305138,-1.062542675070697,1.7106588413411308,1.1044216631680823,-0.6928660691112118,-0.46731344859800633,-0.30426022660944946,1.2709380589317472,-2.6227128294051414,0.6296655254120602,0.4300620265521417,-0.6480888131663791,-1.438046558452693,-0.402555960745747,-2.29535392221176,-0.11827288604262658,-1.0221151216646072,1.281883419834949,-0.9207405377108133,-1.9270739466753486,0.6676074238160519,0.11366910445242777,-1.1706213115879172,-0.11760123847185962,0.3172164900409643,-0.6643484679944766,-1.512156820047486,-0.8162683653806203,1.5348972081867693,2.0839592977231662,-0.7358936086844449,-1.0497042264481218,0.44282965790962225,-0.3802702424432359,1.5832824629988664,0.2679297436872706,-2.0234957168473806,0.9667018570206107,0.8001169737148024,-0.42758278331913757,-0.9907477622080939,-0.6126108190402878,0.712290384429327,-1.005642475286215,-1.9782557774705911,0.9211827602892596,-1.3697132180465084,-0.8415705327052733,2.7174073081230024,-1.4140618599490045,0.6633224069552077,0.41129032261369175,-0.6480931619950667,-0.13443803548642455,1.0374495373632742,0.5593281556573985,-1.6662162894285633,0.671438208173271,-0.08855620096733283,-0.7706300723442125,-0.12289390281624057,-0.1569283401959346,2.4871475021674456,0.6363121492402903,-0.5900043050544014],\"xaxis\":\"x14\",\"y\":[0.7983743801094474,-0.9144970364904372,0.7377608206373266,1.2094442701617718,-0.034113644476177776,-0.07468997283468373,-0.4365334188683654,-0.3359540436610759,-0.4900620521275639,0.649452927104052,1.32401981584447,-0.6681148646130952,1.555881666445536,-0.663312350537218,0.517535606177241,-0.5963604186186587,-0.7289394666967155,-0.6614334140291629,1.2114499104973508,-0.9400044909732653,-0.3365622407764457,-0.004840309662538441,0.4014252667959559,1.7702074207636602,-0.15902830085492964,-0.4491525183361768,0.8199773050078053,0.24241653586728773,0.038871122497753034,0.7673859834900345,1.6709893112852547,-1.880682722554869,1.1464979996109588,0.4642917919716699,-1.387190001527133,-0.2321182753605703,-0.7728716451587044,1.3527609759626273,0.20333893805926107,-0.5967623483934287,-0.5591239031247264,-0.024998089594043083,1.5416581207071445,1.23818191360569,-0.9290027328307017,-1.3457789379399776,-0.8341286738944954,0.5001677599565157,-0.5967692094673804,0.27348645339355887,0.7760781915679874,0.457613185037016,-0.3492103540291085,-0.3842909854963571,-0.2722242403653147,0.9332740640305395,0.23977015203568813,-0.9228408546299977,-0.10151930381245429,0.654726180321158,-0.30355737514787784,1.6422770017101684,1.4363121905920537,-0.025215221682091615,0.18153341490580763,1.3415552322991204,-0.18110803904038167,-0.3176728394306511,0.9505354693710215,0.877167018703993,-0.1170786443188935,-0.39678780004479736,-0.0795907042411347,-0.4329229278703074,0.3570504785206501,-0.10208750684175669,-1.7877055134430488,0.5441865529079403,-1.5405593425245991,-0.7191063863844535,0.31760538624398443,-1.5139475416410115,1.2068157093758292,-2.172599935187426,0.6871903377937948,-0.7751249426919488,-0.8218306588295341,1.2856002478718513,-0.09592446267838775,0.28311341574543314,-2.1006508831448105,-0.6978537491787855,-0.9078269204518609,0.2923304985925143,0.025863130056403685,-1.9227191104639756,1.5930321631902804,-0.5990701946123035,-1.4867794289966045,0.6013644071384248],\"yaxis\":\"y14\",\"type\":\"scatter\"},{\"line\":{\"color\":\"rgba(128, 128, 128, 1.0)\",\"dash\":\"solid\",\"shape\":\"linear\",\"width\":1.3},\"marker\":{\"size\":2,\"symbol\":\"circle\"},\"mode\":\"markers\",\"name\":\"D\",\"text\":\"\",\"x\":[1.6320067672550114,0.013571597518988485,0.4267658992242022,0.3131395724831427,0.934514580222743,-0.5861022341329414,-1.4302987559641342,-0.22139786013664656,0.663171007555064,2.701568054660681,1.132655258868716,-1.2618240324811285,0.5967099360070722,-0.41428701335549833,0.6497449486826024,0.48044113315915926,1.0254986480098311,-1.7686908679270839,-1.7832391917216104,-0.8028078859416806,0.37707515279233544,0.23536684330914645,-1.351390100005412,-0.549926509826069,0.15787586136443116,0.3358040809294726,0.9166551680285362,-0.6000079288730298,0.356198542020789,-0.1616092278325927,-1.190736474961592,0.831948021082437,0.7108672665104884,-1.7565110463718139,1.7376816351250506,0.03562378256214433,1.1432465610938845,-1.7478516383727796,-0.5592256625903307,3.3430285040112238,1.6325210655742146,-0.35001531476351644,0.3271038550921371,-0.270790748596994,0.5146495788960012,-0.2387753632827418,-0.48190934620946485,0.337523458681305,0.6010108834316373,-0.6199546591098973,0.10261063320245636,0.09995308905169957,0.6872136943272025,0.8641432838921995,-0.20126688927067837,-0.14630490200191154,-0.9385932134581134,1.0167311715915515,-0.6940746798664247,0.37801160636747616,-2.0155541281707006,-0.19302718238829325,-0.2779639236364774,-1.9415924471161954,0.09536631705421743,-0.09356181753016589,0.8925625646518249,-1.2118433366028099,0.18860333713105218,0.5465591440427829,0.1873570216311578,-1.9447893839439823,-0.4108825283397903,1.4986613443997372,-1.2330691203098796,-1.7243747243962575,0.3664730328822936,0.4912675975383385,-1.4672190385613428,-0.6312494119824602,0.02051711049058606,-0.4110566281906969,0.6941310017272373,0.3479202980775581,0.9666567204573491,2.0130805562881755,-0.6622077039577834,-1.091774596828099,-0.4920180595361232,0.24288614812627068,-0.4158228823948609,0.5338377236145971,-1.1472736403024104,-0.5283819826171251,0.9822910754737452,0.9913128563641996,1.8591684246578655,-0.7352461179154989,0.2791521002534852,0.39753279031415817],\"xaxis\":\"x15\",\"y\":[0.7983743801094474,-0.9144970364904372,0.7377608206373266,1.2094442701617718,-0.034113644476177776,-0.07468997283468373,-0.4365334188683654,-0.3359540436610759,-0.4900620521275639,0.649452927104052,1.32401981584447,-0.6681148646130952,1.555881666445536,-0.663312350537218,0.517535606177241,-0.5963604186186587,-0.7289394666967155,-0.6614334140291629,1.2114499104973508,-0.9400044909732653,-0.3365622407764457,-0.004840309662538441,0.4014252667959559,1.7702074207636602,-0.15902830085492964,-0.4491525183361768,0.8199773050078053,0.24241653586728773,0.038871122497753034,0.7673859834900345,1.6709893112852547,-1.880682722554869,1.1464979996109588,0.4642917919716699,-1.387190001527133,-0.2321182753605703,-0.7728716451587044,1.3527609759626273,0.20333893805926107,-0.5967623483934287,-0.5591239031247264,-0.024998089594043083,1.5416581207071445,1.23818191360569,-0.9290027328307017,-1.3457789379399776,-0.8341286738944954,0.5001677599565157,-0.5967692094673804,0.27348645339355887,0.7760781915679874,0.457613185037016,-0.3492103540291085,-0.3842909854963571,-0.2722242403653147,0.9332740640305395,0.23977015203568813,-0.9228408546299977,-0.10151930381245429,0.654726180321158,-0.30355737514787784,1.6422770017101684,1.4363121905920537,-0.025215221682091615,0.18153341490580763,1.3415552322991204,-0.18110803904038167,-0.3176728394306511,0.9505354693710215,0.877167018703993,-0.1170786443188935,-0.39678780004479736,-0.0795907042411347,-0.4329229278703074,0.3570504785206501,-0.10208750684175669,-1.7877055134430488,0.5441865529079403,-1.5405593425245991,-0.7191063863844535,0.31760538624398443,-1.5139475416410115,1.2068157093758292,-2.172599935187426,0.6871903377937948,-0.7751249426919488,-0.8218306588295341,1.2856002478718513,-0.09592446267838775,0.28311341574543314,-2.1006508831448105,-0.6978537491787855,-0.9078269204518609,0.2923304985925143,0.025863130056403685,-1.9227191104639756,1.5930321631902804,-0.5990701946123035,-1.4867794289966045,0.6013644071384248],\"yaxis\":\"y15\",\"type\":\"scatter\"},{\"histfunc\":\"count\",\"histnorm\":\"\",\"marker\":{\"color\":\"rgba(128, 0, 128, 1.0)\",\"line\":{\"color\":\"#4D5663\",\"width\":1.3}},\"name\":\"D\",\"nbinsx\":10,\"opacity\":0.8,\"orientation\":\"v\",\"x\":[0.7983743801094474,-0.9144970364904372,0.7377608206373266,1.2094442701617718,-0.034113644476177776,-0.07468997283468373,-0.4365334188683654,-0.3359540436610759,-0.4900620521275639,0.649452927104052,1.32401981584447,-0.6681148646130952,1.555881666445536,-0.663312350537218,0.517535606177241,-0.5963604186186587,-0.7289394666967155,-0.6614334140291629,1.2114499104973508,-0.9400044909732653,-0.3365622407764457,-0.004840309662538441,0.4014252667959559,1.7702074207636602,-0.15902830085492964,-0.4491525183361768,0.8199773050078053,0.24241653586728773,0.038871122497753034,0.7673859834900345,1.6709893112852547,-1.880682722554869,1.1464979996109588,0.4642917919716699,-1.387190001527133,-0.2321182753605703,-0.7728716451587044,1.3527609759626273,0.20333893805926107,-0.5967623483934287,-0.5591239031247264,-0.024998089594043083,1.5416581207071445,1.23818191360569,-0.9290027328307017,-1.3457789379399776,-0.8341286738944954,0.5001677599565157,-0.5967692094673804,0.27348645339355887,0.7760781915679874,0.457613185037016,-0.3492103540291085,-0.3842909854963571,-0.2722242403653147,0.9332740640305395,0.23977015203568813,-0.9228408546299977,-0.10151930381245429,0.654726180321158,-0.30355737514787784,1.6422770017101684,1.4363121905920537,-0.025215221682091615,0.18153341490580763,1.3415552322991204,-0.18110803904038167,-0.3176728394306511,0.9505354693710215,0.877167018703993,-0.1170786443188935,-0.39678780004479736,-0.0795907042411347,-0.4329229278703074,0.3570504785206501,-0.10208750684175669,-1.7877055134430488,0.5441865529079403,-1.5405593425245991,-0.7191063863844535,0.31760538624398443,-1.5139475416410115,1.2068157093758292,-2.172599935187426,0.6871903377937948,-0.7751249426919488,-0.8218306588295341,1.2856002478718513,-0.09592446267838775,0.28311341574543314,-2.1006508831448105,-0.6978537491787855,-0.9078269204518609,0.2923304985925143,0.025863130056403685,-1.9227191104639756,1.5930321631902804,-0.5990701946123035,-1.4867794289966045,0.6013644071384248],\"xaxis\":\"x16\",\"yaxis\":\"y16\",\"type\":\"histogram\"}],                        {\"bargap\":0.02,\"legend\":{\"bgcolor\":\"#F5F6F9\",\"font\":{\"color\":\"#4D5663\"}},\"paper_bgcolor\":\"#F5F6F9\",\"plot_bgcolor\":\"#F5F6F9\",\"showlegend\":false,\"template\":{\"data\":{\"barpolar\":[{\"marker\":{\"line\":{\"color\":\"#E5ECF6\",\"width\":0.5},\"pattern\":{\"fillmode\":\"overlay\",\"size\":10,\"solidity\":0.2}},\"type\":\"barpolar\"}],\"bar\":[{\"error_x\":{\"color\":\"#2a3f5f\"},\"error_y\":{\"color\":\"#2a3f5f\"},\"marker\":{\"line\":{\"color\":\"#E5ECF6\",\"width\":0.5},\"pattern\":{\"fillmode\":\"overlay\",\"size\":10,\"solidity\":0.2}},\"type\":\"bar\"}],\"carpet\":[{\"aaxis\":{\"endlinecolor\":\"#2a3f5f\",\"gridcolor\":\"white\",\"linecolor\":\"white\",\"minorgridcolor\":\"white\",\"startlinecolor\":\"#2a3f5f\"},\"baxis\":{\"endlinecolor\":\"#2a3f5f\",\"gridcolor\":\"white\",\"linecolor\":\"white\",\"minorgridcolor\":\"white\",\"startlinecolor\":\"#2a3f5f\"},\"type\":\"carpet\"}],\"choropleth\":[{\"colorbar\":{\"outlinewidth\":0,\"ticks\":\"\"},\"type\":\"choropleth\"}],\"contourcarpet\":[{\"colorbar\":{\"outlinewidth\":0,\"ticks\":\"\"},\"type\":\"contourcarpet\"}],\"contour\":[{\"colorbar\":{\"outlinewidth\":0,\"ticks\":\"\"},\"colorscale\":[[0.0,\"#0d0887\"],[0.1111111111111111,\"#46039f\"],[0.2222222222222222,\"#7201a8\"],[0.3333333333333333,\"#9c179e\"],[0.4444444444444444,\"#bd3786\"],[0.5555555555555556,\"#d8576b\"],[0.6666666666666666,\"#ed7953\"],[0.7777777777777778,\"#fb9f3a\"],[0.8888888888888888,\"#fdca26\"],[1.0,\"#f0f921\"]],\"type\":\"contour\"}],\"heatmapgl\":[{\"colorbar\":{\"outlinewidth\":0,\"ticks\":\"\"},\"colorscale\":[[0.0,\"#0d0887\"],[0.1111111111111111,\"#46039f\"],[0.2222222222222222,\"#7201a8\"],[0.3333333333333333,\"#9c179e\"],[0.4444444444444444,\"#bd3786\"],[0.5555555555555556,\"#d8576b\"],[0.6666666666666666,\"#ed7953\"],[0.7777777777777778,\"#fb9f3a\"],[0.8888888888888888,\"#fdca26\"],[1.0,\"#f0f921\"]],\"type\":\"heatmapgl\"}],\"heatmap\":[{\"colorbar\":{\"outlinewidth\":0,\"ticks\":\"\"},\"colorscale\":[[0.0,\"#0d0887\"],[0.1111111111111111,\"#46039f\"],[0.2222222222222222,\"#7201a8\"],[0.3333333333333333,\"#9c179e\"],[0.4444444444444444,\"#bd3786\"],[0.5555555555555556,\"#d8576b\"],[0.6666666666666666,\"#ed7953\"],[0.7777777777777778,\"#fb9f3a\"],[0.8888888888888888,\"#fdca26\"],[1.0,\"#f0f921\"]],\"type\":\"heatmap\"}],\"histogram2dcontour\":[{\"colorbar\":{\"outlinewidth\":0,\"ticks\":\"\"},\"colorscale\":[[0.0,\"#0d0887\"],[0.1111111111111111,\"#46039f\"],[0.2222222222222222,\"#7201a8\"],[0.3333333333333333,\"#9c179e\"],[0.4444444444444444,\"#bd3786\"],[0.5555555555555556,\"#d8576b\"],[0.6666666666666666,\"#ed7953\"],[0.7777777777777778,\"#fb9f3a\"],[0.8888888888888888,\"#fdca26\"],[1.0,\"#f0f921\"]],\"type\":\"histogram2dcontour\"}],\"histogram2d\":[{\"colorbar\":{\"outlinewidth\":0,\"ticks\":\"\"},\"colorscale\":[[0.0,\"#0d0887\"],[0.1111111111111111,\"#46039f\"],[0.2222222222222222,\"#7201a8\"],[0.3333333333333333,\"#9c179e\"],[0.4444444444444444,\"#bd3786\"],[0.5555555555555556,\"#d8576b\"],[0.6666666666666666,\"#ed7953\"],[0.7777777777777778,\"#fb9f3a\"],[0.8888888888888888,\"#fdca26\"],[1.0,\"#f0f921\"]],\"type\":\"histogram2d\"}],\"histogram\":[{\"marker\":{\"pattern\":{\"fillmode\":\"overlay\",\"size\":10,\"solidity\":0.2}},\"type\":\"histogram\"}],\"mesh3d\":[{\"colorbar\":{\"outlinewidth\":0,\"ticks\":\"\"},\"type\":\"mesh3d\"}],\"parcoords\":[{\"line\":{\"colorbar\":{\"outlinewidth\":0,\"ticks\":\"\"}},\"type\":\"parcoords\"}],\"pie\":[{\"automargin\":true,\"type\":\"pie\"}],\"scatter3d\":[{\"line\":{\"colorbar\":{\"outlinewidth\":0,\"ticks\":\"\"}},\"marker\":{\"colorbar\":{\"outlinewidth\":0,\"ticks\":\"\"}},\"type\":\"scatter3d\"}],\"scattercarpet\":[{\"marker\":{\"colorbar\":{\"outlinewidth\":0,\"ticks\":\"\"}},\"type\":\"scattercarpet\"}],\"scattergeo\":[{\"marker\":{\"colorbar\":{\"outlinewidth\":0,\"ticks\":\"\"}},\"type\":\"scattergeo\"}],\"scattergl\":[{\"marker\":{\"colorbar\":{\"outlinewidth\":0,\"ticks\":\"\"}},\"type\":\"scattergl\"}],\"scattermapbox\":[{\"marker\":{\"colorbar\":{\"outlinewidth\":0,\"ticks\":\"\"}},\"type\":\"scattermapbox\"}],\"scatterpolargl\":[{\"marker\":{\"colorbar\":{\"outlinewidth\":0,\"ticks\":\"\"}},\"type\":\"scatterpolargl\"}],\"scatterpolar\":[{\"marker\":{\"colorbar\":{\"outlinewidth\":0,\"ticks\":\"\"}},\"type\":\"scatterpolar\"}],\"scatter\":[{\"fillpattern\":{\"fillmode\":\"overlay\",\"size\":10,\"solidity\":0.2},\"type\":\"scatter\"}],\"scatterternary\":[{\"marker\":{\"colorbar\":{\"outlinewidth\":0,\"ticks\":\"\"}},\"type\":\"scatterternary\"}],\"surface\":[{\"colorbar\":{\"outlinewidth\":0,\"ticks\":\"\"},\"colorscale\":[[0.0,\"#0d0887\"],[0.1111111111111111,\"#46039f\"],[0.2222222222222222,\"#7201a8\"],[0.3333333333333333,\"#9c179e\"],[0.4444444444444444,\"#bd3786\"],[0.5555555555555556,\"#d8576b\"],[0.6666666666666666,\"#ed7953\"],[0.7777777777777778,\"#fb9f3a\"],[0.8888888888888888,\"#fdca26\"],[1.0,\"#f0f921\"]],\"type\":\"surface\"}],\"table\":[{\"cells\":{\"fill\":{\"color\":\"#EBF0F8\"},\"line\":{\"color\":\"white\"}},\"header\":{\"fill\":{\"color\":\"#C8D4E3\"},\"line\":{\"color\":\"white\"}},\"type\":\"table\"}]},\"layout\":{\"annotationdefaults\":{\"arrowcolor\":\"#2a3f5f\",\"arrowhead\":0,\"arrowwidth\":1},\"autotypenumbers\":\"strict\",\"coloraxis\":{\"colorbar\":{\"outlinewidth\":0,\"ticks\":\"\"}},\"colorscale\":{\"diverging\":[[0,\"#8e0152\"],[0.1,\"#c51b7d\"],[0.2,\"#de77ae\"],[0.3,\"#f1b6da\"],[0.4,\"#fde0ef\"],[0.5,\"#f7f7f7\"],[0.6,\"#e6f5d0\"],[0.7,\"#b8e186\"],[0.8,\"#7fbc41\"],[0.9,\"#4d9221\"],[1,\"#276419\"]],\"sequential\":[[0.0,\"#0d0887\"],[0.1111111111111111,\"#46039f\"],[0.2222222222222222,\"#7201a8\"],[0.3333333333333333,\"#9c179e\"],[0.4444444444444444,\"#bd3786\"],[0.5555555555555556,\"#d8576b\"],[0.6666666666666666,\"#ed7953\"],[0.7777777777777778,\"#fb9f3a\"],[0.8888888888888888,\"#fdca26\"],[1.0,\"#f0f921\"]],\"sequentialminus\":[[0.0,\"#0d0887\"],[0.1111111111111111,\"#46039f\"],[0.2222222222222222,\"#7201a8\"],[0.3333333333333333,\"#9c179e\"],[0.4444444444444444,\"#bd3786\"],[0.5555555555555556,\"#d8576b\"],[0.6666666666666666,\"#ed7953\"],[0.7777777777777778,\"#fb9f3a\"],[0.8888888888888888,\"#fdca26\"],[1.0,\"#f0f921\"]]},\"colorway\":[\"#636efa\",\"#EF553B\",\"#00cc96\",\"#ab63fa\",\"#FFA15A\",\"#19d3f3\",\"#FF6692\",\"#B6E880\",\"#FF97FF\",\"#FECB52\"],\"font\":{\"color\":\"#2a3f5f\"},\"geo\":{\"bgcolor\":\"white\",\"lakecolor\":\"white\",\"landcolor\":\"#E5ECF6\",\"showlakes\":true,\"showland\":true,\"subunitcolor\":\"white\"},\"hoverlabel\":{\"align\":\"left\"},\"hovermode\":\"closest\",\"mapbox\":{\"style\":\"light\"},\"paper_bgcolor\":\"white\",\"plot_bgcolor\":\"#E5ECF6\",\"polar\":{\"angularaxis\":{\"gridcolor\":\"white\",\"linecolor\":\"white\",\"ticks\":\"\"},\"bgcolor\":\"#E5ECF6\",\"radialaxis\":{\"gridcolor\":\"white\",\"linecolor\":\"white\",\"ticks\":\"\"}},\"scene\":{\"xaxis\":{\"backgroundcolor\":\"#E5ECF6\",\"gridcolor\":\"white\",\"gridwidth\":2,\"linecolor\":\"white\",\"showbackground\":true,\"ticks\":\"\",\"zerolinecolor\":\"white\"},\"yaxis\":{\"backgroundcolor\":\"#E5ECF6\",\"gridcolor\":\"white\",\"gridwidth\":2,\"linecolor\":\"white\",\"showbackground\":true,\"ticks\":\"\",\"zerolinecolor\":\"white\"},\"zaxis\":{\"backgroundcolor\":\"#E5ECF6\",\"gridcolor\":\"white\",\"gridwidth\":2,\"linecolor\":\"white\",\"showbackground\":true,\"ticks\":\"\",\"zerolinecolor\":\"white\"}},\"shapedefaults\":{\"line\":{\"color\":\"#2a3f5f\"}},\"ternary\":{\"aaxis\":{\"gridcolor\":\"white\",\"linecolor\":\"white\",\"ticks\":\"\"},\"baxis\":{\"gridcolor\":\"white\",\"linecolor\":\"white\",\"ticks\":\"\"},\"bgcolor\":\"#E5ECF6\",\"caxis\":{\"gridcolor\":\"white\",\"linecolor\":\"white\",\"ticks\":\"\"}},\"title\":{\"x\":0.05},\"xaxis\":{\"automargin\":true,\"gridcolor\":\"white\",\"linecolor\":\"white\",\"ticks\":\"\",\"title\":{\"standoff\":15},\"zerolinecolor\":\"white\",\"zerolinewidth\":2},\"yaxis\":{\"automargin\":true,\"gridcolor\":\"white\",\"linecolor\":\"white\",\"ticks\":\"\",\"title\":{\"standoff\":15},\"zerolinecolor\":\"white\",\"zerolinewidth\":2}}},\"title\":{\"font\":{\"color\":\"#4D5663\"}},\"xaxis\":{\"anchor\":\"y\",\"domain\":[0.0,0.2125],\"gridcolor\":\"#E1E5ED\",\"showgrid\":false,\"tickfont\":{\"color\":\"#4D5663\"},\"title\":{\"font\":{\"color\":\"#4D5663\"},\"text\":\"\"},\"zerolinecolor\":\"#E1E5ED\"},\"yaxis\":{\"anchor\":\"x\",\"domain\":[0.8025,1.0],\"gridcolor\":\"#E1E5ED\",\"showgrid\":false,\"tickfont\":{\"color\":\"#4D5663\"},\"title\":{\"font\":{\"color\":\"#4D5663\"},\"text\":\"\"},\"zerolinecolor\":\"#E1E5ED\"},\"xaxis2\":{\"anchor\":\"y2\",\"domain\":[0.2625,0.475],\"gridcolor\":\"#E1E5ED\",\"showgrid\":false,\"tickfont\":{\"color\":\"#4D5663\"},\"title\":{\"font\":{\"color\":\"#4D5663\"},\"text\":\"\"},\"zerolinecolor\":\"#E1E5ED\"},\"yaxis2\":{\"anchor\":\"x2\",\"domain\":[0.8025,1.0],\"gridcolor\":\"#E1E5ED\",\"showgrid\":false,\"tickfont\":{\"color\":\"#4D5663\"},\"title\":{\"font\":{\"color\":\"#4D5663\"},\"text\":\"\"},\"zerolinecolor\":\"#E1E5ED\"},\"xaxis3\":{\"anchor\":\"y3\",\"domain\":[0.525,0.7375],\"gridcolor\":\"#E1E5ED\",\"showgrid\":false,\"tickfont\":{\"color\":\"#4D5663\"},\"title\":{\"font\":{\"color\":\"#4D5663\"},\"text\":\"\"},\"zerolinecolor\":\"#E1E5ED\"},\"yaxis3\":{\"anchor\":\"x3\",\"domain\":[0.8025,1.0],\"gridcolor\":\"#E1E5ED\",\"showgrid\":false,\"tickfont\":{\"color\":\"#4D5663\"},\"title\":{\"font\":{\"color\":\"#4D5663\"},\"text\":\"\"},\"zerolinecolor\":\"#E1E5ED\"},\"xaxis4\":{\"anchor\":\"y4\",\"domain\":[0.7875,1.0],\"gridcolor\":\"#E1E5ED\",\"showgrid\":false,\"tickfont\":{\"color\":\"#4D5663\"},\"title\":{\"font\":{\"color\":\"#4D5663\"},\"text\":\"\"},\"zerolinecolor\":\"#E1E5ED\"},\"yaxis4\":{\"anchor\":\"x4\",\"domain\":[0.8025,1.0],\"gridcolor\":\"#E1E5ED\",\"showgrid\":false,\"tickfont\":{\"color\":\"#4D5663\"},\"title\":{\"font\":{\"color\":\"#4D5663\"},\"text\":\"\"},\"zerolinecolor\":\"#E1E5ED\"},\"xaxis5\":{\"anchor\":\"y5\",\"domain\":[0.0,0.2125],\"gridcolor\":\"#E1E5ED\",\"showgrid\":false,\"tickfont\":{\"color\":\"#4D5663\"},\"title\":{\"font\":{\"color\":\"#4D5663\"},\"text\":\"\"},\"zerolinecolor\":\"#E1E5ED\"},\"yaxis5\":{\"anchor\":\"x5\",\"domain\":[0.535,0.7325],\"gridcolor\":\"#E1E5ED\",\"showgrid\":false,\"tickfont\":{\"color\":\"#4D5663\"},\"title\":{\"font\":{\"color\":\"#4D5663\"},\"text\":\"\"},\"zerolinecolor\":\"#E1E5ED\"},\"xaxis6\":{\"anchor\":\"y6\",\"domain\":[0.2625,0.475],\"gridcolor\":\"#E1E5ED\",\"showgrid\":false,\"tickfont\":{\"color\":\"#4D5663\"},\"title\":{\"font\":{\"color\":\"#4D5663\"},\"text\":\"\"},\"zerolinecolor\":\"#E1E5ED\"},\"yaxis6\":{\"anchor\":\"x6\",\"domain\":[0.535,0.7325],\"gridcolor\":\"#E1E5ED\",\"showgrid\":false,\"tickfont\":{\"color\":\"#4D5663\"},\"title\":{\"font\":{\"color\":\"#4D5663\"},\"text\":\"\"},\"zerolinecolor\":\"#E1E5ED\"},\"xaxis7\":{\"anchor\":\"y7\",\"domain\":[0.525,0.7375],\"gridcolor\":\"#E1E5ED\",\"showgrid\":false,\"tickfont\":{\"color\":\"#4D5663\"},\"title\":{\"font\":{\"color\":\"#4D5663\"},\"text\":\"\"},\"zerolinecolor\":\"#E1E5ED\"},\"yaxis7\":{\"anchor\":\"x7\",\"domain\":[0.535,0.7325],\"gridcolor\":\"#E1E5ED\",\"showgrid\":false,\"tickfont\":{\"color\":\"#4D5663\"},\"title\":{\"font\":{\"color\":\"#4D5663\"},\"text\":\"\"},\"zerolinecolor\":\"#E1E5ED\"},\"xaxis8\":{\"anchor\":\"y8\",\"domain\":[0.7875,1.0],\"gridcolor\":\"#E1E5ED\",\"showgrid\":false,\"tickfont\":{\"color\":\"#4D5663\"},\"title\":{\"font\":{\"color\":\"#4D5663\"},\"text\":\"\"},\"zerolinecolor\":\"#E1E5ED\"},\"yaxis8\":{\"anchor\":\"x8\",\"domain\":[0.535,0.7325],\"gridcolor\":\"#E1E5ED\",\"showgrid\":false,\"tickfont\":{\"color\":\"#4D5663\"},\"title\":{\"font\":{\"color\":\"#4D5663\"},\"text\":\"\"},\"zerolinecolor\":\"#E1E5ED\"},\"xaxis9\":{\"anchor\":\"y9\",\"domain\":[0.0,0.2125],\"gridcolor\":\"#E1E5ED\",\"showgrid\":false,\"tickfont\":{\"color\":\"#4D5663\"},\"title\":{\"font\":{\"color\":\"#4D5663\"},\"text\":\"\"},\"zerolinecolor\":\"#E1E5ED\"},\"yaxis9\":{\"anchor\":\"x9\",\"domain\":[0.2675,0.465],\"gridcolor\":\"#E1E5ED\",\"showgrid\":false,\"tickfont\":{\"color\":\"#4D5663\"},\"title\":{\"font\":{\"color\":\"#4D5663\"},\"text\":\"\"},\"zerolinecolor\":\"#E1E5ED\"},\"xaxis10\":{\"anchor\":\"y10\",\"domain\":[0.2625,0.475],\"gridcolor\":\"#E1E5ED\",\"showgrid\":false,\"tickfont\":{\"color\":\"#4D5663\"},\"title\":{\"font\":{\"color\":\"#4D5663\"},\"text\":\"\"},\"zerolinecolor\":\"#E1E5ED\"},\"yaxis10\":{\"anchor\":\"x10\",\"domain\":[0.2675,0.465],\"gridcolor\":\"#E1E5ED\",\"showgrid\":false,\"tickfont\":{\"color\":\"#4D5663\"},\"title\":{\"font\":{\"color\":\"#4D5663\"},\"text\":\"\"},\"zerolinecolor\":\"#E1E5ED\"},\"xaxis11\":{\"anchor\":\"y11\",\"domain\":[0.525,0.7375],\"gridcolor\":\"#E1E5ED\",\"showgrid\":false,\"tickfont\":{\"color\":\"#4D5663\"},\"title\":{\"font\":{\"color\":\"#4D5663\"},\"text\":\"\"},\"zerolinecolor\":\"#E1E5ED\"},\"yaxis11\":{\"anchor\":\"x11\",\"domain\":[0.2675,0.465],\"gridcolor\":\"#E1E5ED\",\"showgrid\":false,\"tickfont\":{\"color\":\"#4D5663\"},\"title\":{\"font\":{\"color\":\"#4D5663\"},\"text\":\"\"},\"zerolinecolor\":\"#E1E5ED\"},\"xaxis12\":{\"anchor\":\"y12\",\"domain\":[0.7875,1.0],\"gridcolor\":\"#E1E5ED\",\"showgrid\":false,\"tickfont\":{\"color\":\"#4D5663\"},\"title\":{\"font\":{\"color\":\"#4D5663\"},\"text\":\"\"},\"zerolinecolor\":\"#E1E5ED\"},\"yaxis12\":{\"anchor\":\"x12\",\"domain\":[0.2675,0.465],\"gridcolor\":\"#E1E5ED\",\"showgrid\":false,\"tickfont\":{\"color\":\"#4D5663\"},\"title\":{\"font\":{\"color\":\"#4D5663\"},\"text\":\"\"},\"zerolinecolor\":\"#E1E5ED\"},\"xaxis13\":{\"anchor\":\"y13\",\"domain\":[0.0,0.2125],\"gridcolor\":\"#E1E5ED\",\"showgrid\":false,\"tickfont\":{\"color\":\"#4D5663\"},\"title\":{\"font\":{\"color\":\"#4D5663\"},\"text\":\"\"},\"zerolinecolor\":\"#E1E5ED\"},\"yaxis13\":{\"anchor\":\"x13\",\"domain\":[0.0,0.1975],\"gridcolor\":\"#E1E5ED\",\"showgrid\":false,\"tickfont\":{\"color\":\"#4D5663\"},\"title\":{\"font\":{\"color\":\"#4D5663\"},\"text\":\"\"},\"zerolinecolor\":\"#E1E5ED\"},\"xaxis14\":{\"anchor\":\"y14\",\"domain\":[0.2625,0.475],\"gridcolor\":\"#E1E5ED\",\"showgrid\":false,\"tickfont\":{\"color\":\"#4D5663\"},\"title\":{\"font\":{\"color\":\"#4D5663\"},\"text\":\"\"},\"zerolinecolor\":\"#E1E5ED\"},\"yaxis14\":{\"anchor\":\"x14\",\"domain\":[0.0,0.1975],\"gridcolor\":\"#E1E5ED\",\"showgrid\":false,\"tickfont\":{\"color\":\"#4D5663\"},\"title\":{\"font\":{\"color\":\"#4D5663\"},\"text\":\"\"},\"zerolinecolor\":\"#E1E5ED\"},\"xaxis15\":{\"anchor\":\"y15\",\"domain\":[0.525,0.7375],\"gridcolor\":\"#E1E5ED\",\"showgrid\":false,\"tickfont\":{\"color\":\"#4D5663\"},\"title\":{\"font\":{\"color\":\"#4D5663\"},\"text\":\"\"},\"zerolinecolor\":\"#E1E5ED\"},\"yaxis15\":{\"anchor\":\"x15\",\"domain\":[0.0,0.1975],\"gridcolor\":\"#E1E5ED\",\"showgrid\":false,\"tickfont\":{\"color\":\"#4D5663\"},\"title\":{\"font\":{\"color\":\"#4D5663\"},\"text\":\"\"},\"zerolinecolor\":\"#E1E5ED\"},\"xaxis16\":{\"anchor\":\"y16\",\"domain\":[0.7875,1.0],\"gridcolor\":\"#E1E5ED\",\"showgrid\":false,\"tickfont\":{\"color\":\"#4D5663\"},\"title\":{\"font\":{\"color\":\"#4D5663\"},\"text\":\"\"},\"zerolinecolor\":\"#E1E5ED\"},\"yaxis16\":{\"anchor\":\"x16\",\"domain\":[0.0,0.1975],\"gridcolor\":\"#E1E5ED\",\"showgrid\":false,\"tickfont\":{\"color\":\"#4D5663\"},\"title\":{\"font\":{\"color\":\"#4D5663\"},\"text\":\"\"},\"zerolinecolor\":\"#E1E5ED\"}},                        {\"showLink\": true, \"linkText\": \"Export to plot.ly\", \"plotlyServerURL\": \"https://plot.ly\", \"responsive\": true}                    ).then(function(){\n",
       "                            \n",
       "var gd = document.getElementById('e71212a4-ac08-4969-946e-956879e77f89');\n",
       "var x = new MutationObserver(function (mutations, observer) {{\n",
       "        var display = window.getComputedStyle(gd).display;\n",
       "        if (!display || display === 'none') {{\n",
       "            console.log([gd, 'removed!']);\n",
       "            Plotly.purge(gd);\n",
       "            observer.disconnect();\n",
       "        }}\n",
       "}});\n",
       "\n",
       "// Listen for the removal of the full notebook cells\n",
       "var notebookContainer = gd.closest('#notebook-container');\n",
       "if (notebookContainer) {{\n",
       "    x.observe(notebookContainer, {childList: true});\n",
       "}}\n",
       "\n",
       "// Listen for the clearing of the current output cell\n",
       "var outputEl = gd.closest('.output');\n",
       "if (outputEl) {{\n",
       "    x.observe(outputEl, {childList: true});\n",
       "}}\n",
       "\n",
       "                        })                };                });            </script>        </div>"
      ]
     },
     "metadata": {},
     "output_type": "display_data"
    }
   ],
   "source": [
    "#scatter Matrix\n",
    "df.scatter_matrix()"
   ]
  },
  {
   "cell_type": "code",
   "execution_count": null,
   "id": "268980c5",
   "metadata": {},
   "outputs": [],
   "source": []
  }
 ],
 "metadata": {
  "kernelspec": {
   "display_name": "Python 3 (ipykernel)",
   "language": "python",
   "name": "python3"
  },
  "language_info": {
   "codemirror_mode": {
    "name": "ipython",
    "version": 3
   },
   "file_extension": ".py",
   "mimetype": "text/x-python",
   "name": "python",
   "nbconvert_exporter": "python",
   "pygments_lexer": "ipython3",
   "version": "3.11.0"
  },
  "vscode": {
   "interpreter": {
    "hash": "5ffd7eb2cebf9ac436b5021ba01877e9cee6b03524e01bf8c8637d3e64111215"
   }
  }
 },
 "nbformat": 4,
 "nbformat_minor": 5
}
