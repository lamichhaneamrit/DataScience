{
 "cells": [
  {
   "cell_type": "code",
   "execution_count": 1,
   "id": "b291c310",
   "metadata": {
    "scrolled": true
   },
   "outputs": [],
   "source": [
    "import pandas as pd\n",
    "import numpy as np\n",
    "import matplotlib.pyplot as plt\n",
    "%matplotlib inline"
   ]
  },
  {
   "cell_type": "code",
   "execution_count": 2,
   "id": "b2c21018",
   "metadata": {},
   "outputs": [],
   "source": [
    "import chart_studio.plotly as py\n",
    "#import chart_studio.plotly as py\n",
    "import cufflinks as cf"
   ]
  },
  {
   "cell_type": "code",
   "execution_count": 3,
   "id": "e44dbad6",
   "metadata": {},
   "outputs": [],
   "source": [
    "from plotly.offline  import download_plotlyjs,init_notebook_mode,plot,iplot"
   ]
  },
  {
   "cell_type": "code",
   "execution_count": 4,
   "id": "4545227b",
   "metadata": {},
   "outputs": [
    {
     "data": {
      "text/html": [
       "        <script type=\"text/javascript\">\n",
       "        window.PlotlyConfig = {MathJaxConfig: 'local'};\n",
       "        if (window.MathJax && window.MathJax.Hub && window.MathJax.Hub.Config) {window.MathJax.Hub.Config({SVG: {font: \"STIX-Web\"}});}\n",
       "        if (typeof require !== 'undefined') {\n",
       "        require.undef(\"plotly\");\n",
       "        requirejs.config({\n",
       "            paths: {\n",
       "                'plotly': ['https://cdn.plot.ly/plotly-2.16.1.min']\n",
       "            }\n",
       "        });\n",
       "        require(['plotly'], function(Plotly) {\n",
       "            window._Plotly = Plotly;\n",
       "        });\n",
       "        }\n",
       "        </script>\n",
       "        "
      ]
     },
     "metadata": {},
     "output_type": "display_data"
    }
   ],
   "source": [
    "init_notebook_mode(connected=True)"
   ]
  },
  {
   "cell_type": "code",
   "execution_count": 5,
   "id": "95afc17d",
   "metadata": {},
   "outputs": [
    {
     "data": {
      "text/html": [
       "        <script type=\"text/javascript\">\n",
       "        window.PlotlyConfig = {MathJaxConfig: 'local'};\n",
       "        if (window.MathJax && window.MathJax.Hub && window.MathJax.Hub.Config) {window.MathJax.Hub.Config({SVG: {font: \"STIX-Web\"}});}\n",
       "        if (typeof require !== 'undefined') {\n",
       "        require.undef(\"plotly\");\n",
       "        requirejs.config({\n",
       "            paths: {\n",
       "                'plotly': ['https://cdn.plot.ly/plotly-2.16.1.min']\n",
       "            }\n",
       "        });\n",
       "        require(['plotly'], function(Plotly) {\n",
       "            window._Plotly = Plotly;\n",
       "        });\n",
       "        }\n",
       "        </script>\n",
       "        "
      ]
     },
     "metadata": {},
     "output_type": "display_data"
    }
   ],
   "source": [
    "cf.go_offline()"
   ]
  },
  {
   "cell_type": "code",
   "execution_count": 6,
   "id": "48b9e72e",
   "metadata": {},
   "outputs": [],
   "source": [
    "df = pd.DataFrame(np.random.randn(100,4),columns='A B C D'.split())"
   ]
  },
  {
   "cell_type": "code",
   "execution_count": 7,
   "id": "38bdb2bd",
   "metadata": {},
   "outputs": [
    {
     "data": {
      "text/html": [
       "<div>\n",
       "<style scoped>\n",
       "    .dataframe tbody tr th:only-of-type {\n",
       "        vertical-align: middle;\n",
       "    }\n",
       "\n",
       "    .dataframe tbody tr th {\n",
       "        vertical-align: top;\n",
       "    }\n",
       "\n",
       "    .dataframe thead th {\n",
       "        text-align: right;\n",
       "    }\n",
       "</style>\n",
       "<table border=\"1\" class=\"dataframe\">\n",
       "  <thead>\n",
       "    <tr style=\"text-align: right;\">\n",
       "      <th></th>\n",
       "      <th>A</th>\n",
       "      <th>B</th>\n",
       "      <th>C</th>\n",
       "      <th>D</th>\n",
       "    </tr>\n",
       "  </thead>\n",
       "  <tbody>\n",
       "    <tr>\n",
       "      <th>0</th>\n",
       "      <td>-2.017434</td>\n",
       "      <td>-0.433631</td>\n",
       "      <td>0.519992</td>\n",
       "      <td>0.308724</td>\n",
       "    </tr>\n",
       "    <tr>\n",
       "      <th>1</th>\n",
       "      <td>-0.298289</td>\n",
       "      <td>1.350667</td>\n",
       "      <td>0.183036</td>\n",
       "      <td>-2.892921</td>\n",
       "    </tr>\n",
       "    <tr>\n",
       "      <th>2</th>\n",
       "      <td>-1.106029</td>\n",
       "      <td>0.435981</td>\n",
       "      <td>0.733881</td>\n",
       "      <td>0.297557</td>\n",
       "    </tr>\n",
       "    <tr>\n",
       "      <th>3</th>\n",
       "      <td>0.473805</td>\n",
       "      <td>0.646817</td>\n",
       "      <td>-1.728545</td>\n",
       "      <td>-0.453720</td>\n",
       "    </tr>\n",
       "    <tr>\n",
       "      <th>4</th>\n",
       "      <td>-0.242877</td>\n",
       "      <td>0.061592</td>\n",
       "      <td>0.716802</td>\n",
       "      <td>0.409143</td>\n",
       "    </tr>\n",
       "  </tbody>\n",
       "</table>\n",
       "</div>"
      ],
      "text/plain": [
       "          A         B         C         D\n",
       "0 -2.017434 -0.433631  0.519992  0.308724\n",
       "1 -0.298289  1.350667  0.183036 -2.892921\n",
       "2 -1.106029  0.435981  0.733881  0.297557\n",
       "3  0.473805  0.646817 -1.728545 -0.453720\n",
       "4 -0.242877  0.061592  0.716802  0.409143"
      ]
     },
     "execution_count": 7,
     "metadata": {},
     "output_type": "execute_result"
    }
   ],
   "source": [
    "df.head()"
   ]
  },
  {
   "cell_type": "code",
   "execution_count": 8,
   "id": "2f911ef0",
   "metadata": {},
   "outputs": [],
   "source": [
    "df2=pd.DataFrame({'Category':['A','B','C'],'Values':[32,43,50]})"
   ]
  },
  {
   "cell_type": "code",
   "execution_count": 9,
   "id": "1c0c3808",
   "metadata": {},
   "outputs": [
    {
     "data": {
      "text/html": [
       "<div>\n",
       "<style scoped>\n",
       "    .dataframe tbody tr th:only-of-type {\n",
       "        vertical-align: middle;\n",
       "    }\n",
       "\n",
       "    .dataframe tbody tr th {\n",
       "        vertical-align: top;\n",
       "    }\n",
       "\n",
       "    .dataframe thead th {\n",
       "        text-align: right;\n",
       "    }\n",
       "</style>\n",
       "<table border=\"1\" class=\"dataframe\">\n",
       "  <thead>\n",
       "    <tr style=\"text-align: right;\">\n",
       "      <th></th>\n",
       "      <th>Category</th>\n",
       "      <th>Values</th>\n",
       "    </tr>\n",
       "  </thead>\n",
       "  <tbody>\n",
       "    <tr>\n",
       "      <th>0</th>\n",
       "      <td>A</td>\n",
       "      <td>32</td>\n",
       "    </tr>\n",
       "    <tr>\n",
       "      <th>1</th>\n",
       "      <td>B</td>\n",
       "      <td>43</td>\n",
       "    </tr>\n",
       "    <tr>\n",
       "      <th>2</th>\n",
       "      <td>C</td>\n",
       "      <td>50</td>\n",
       "    </tr>\n",
       "  </tbody>\n",
       "</table>\n",
       "</div>"
      ],
      "text/plain": [
       "  Category  Values\n",
       "0        A      32\n",
       "1        B      43\n",
       "2        C      50"
      ]
     },
     "execution_count": 9,
     "metadata": {},
     "output_type": "execute_result"
    }
   ],
   "source": [
    "df2"
   ]
  },
  {
   "cell_type": "code",
   "execution_count": 10,
   "id": "6578280c",
   "metadata": {},
   "outputs": [
    {
     "data": {
      "text/plain": [
       "<AxesSubplot:>"
      ]
     },
     "execution_count": 10,
     "metadata": {},
     "output_type": "execute_result"
    },
    {
     "data": {
      "image/png": "[encoded data removed]",
      "text/plain": [
       "<Figure size 640x480 with 1 Axes>"
      ]
     },
     "metadata": {},
     "output_type": "display_data"
    }
   ],
   "source": [
    "df.plot()"
   ]
  },
  {
   "cell_type": "code",
   "execution_count": 11,
   "id": "8a02892a",
   "metadata": {},
   "outputs": [
    {
     "data": {
      "application/vnd.plotly.v1+json": {
       "config": {
        "linkText": "Export to plot.ly",
        "plotlyServerURL": "https://plot.ly",
        "showLink": true
       },
       "data": [
        {
         "line": {
          "color": "rgba(255, 153, 51, 1.0)",
          "dash": "solid",
          "shape": "linear",
          "width": 1.3
         },
         "mode": "lines",
         "name": "A",
         "text": "",
         "type": "scatter",
         "x": [
          0,
          1,
          2,
          3,
          4,
          5,
          6,
          7,
          8,
          9,
          10,
          11,
          12,
          13,
          14,
          15,
          16,
          17,
          18,
          19,
          20,
          21,
          22,
          23,
          24,
          25,
          26,
          27,
          28,
          29,
          30,
          31,
          32,
          33,
          34,
          35,
          36,
          37,
          38,
          39,
          40,
          41,
          42,
          43,
          44,
          45,
          46,
          47,
          48,
          49,
          50,
          51,
          52,
          53,
          54,
          55,
          56,
          57,
          58,
          59,
          60,
          61,
          62,
          63,
          64,
          65,
          66,
          67,
          68,
          69,
          70,
          71,
          72,
          73,
          74,
          75,
          76,
          77,
          78,
          79,
          80,
          81,
          82,
          83,
          84,
          85,
          86,
          87,
          88,
          89,
          90,
          91,
          92,
          93,
          94,
          95,
          96,
          97,
          98,
          99
         ],
         "y": [
          -2.0174340036144773,
          -0.2982885142503483,
          -1.1060293398574745,
          0.47380475815506795,
          -0.24287698992496476,
          -1.045477160349408,
          -1.372571283799824,
          -0.3708294395405194,
          0.9296363357643138,
          1.07539941494939,
          -0.48860213936065083,
          0.38462255572792503,
          0.7316391969826207,
          0.7056188238429781,
          0.2272970973273527,
          1.8973560994467056,
          -0.08814752662473867,
          2.853141208328112,
          1.2606744935729695,
          -0.19541503270171148,
          0.33884117599906605,
          -1.1823804269843323,
          -0.35818646632962386,
          -2.1896961807689883,
          0.4666612471354609,
          -0.7195595896962929,
          -1.1022342579753548,
          -0.4260373014973277,
          -2.03985628441693,
          -0.3922675703969572,
          -0.6393197479525362,
          1.5070292397184635,
          1.5427741705080689,
          -0.36811080320580436,
          0.7907860507217243,
          -1.053702929569162,
          -1.5682815210700976,
          -1.6899427972979684,
          -1.1577153310653898,
          1.201798767024122,
          0.8139499812781749,
          1.3396399626499909,
          -1.592116875741009,
          -2.108999149725003,
          -2.414121441285468,
          -0.7517992912296336,
          -0.8814484376662446,
          -0.5636621543249383,
          -0.4462016022135572,
          0.7602270527510662,
          -0.7635312669667638,
          -0.6085341535104014,
          -0.6979145854428934,
          0.15270352881680677,
          1.5861404333668392,
          0.4413194748417777,
          1.1464296196046662,
          1.6860599838450785,
          -0.12920519816606357,
          -1.3166186524763952,
          0.9527123887974857,
          -0.0913130377024795,
          -1.2562092533438431,
          -1.4599948208670317,
          0.739600143985171,
          1.928522171471015,
          0.8604873721118755,
          0.5101454894231326,
          -2.0412817448349676,
          2.350622092982859,
          -1.2098096285286442,
          0.8793405535384373,
          -0.4127130171433395,
          -0.9510357246689423,
          -0.5833425292515129,
          2.874170539129894,
          0.6754534679651084,
          -0.43269432307745,
          0.6824671403544771,
          -0.13956406111167266,
          -1.2539511811434925,
          -0.9095655979851323,
          0.5131425131930456,
          0.2107268324859046,
          0.9793829033520347,
          0.05590920125049553,
          -1.4825906211123527,
          -0.7655955658418381,
          -0.9062150294307344,
          0.2713814492008699,
          0.4987962451208206,
          0.8724854785969101,
          0.04820180158157174,
          0.22901793866168949,
          -0.04264546586916472,
          0.9163280370522656,
          -0.010155961485463392,
          -0.9553359158941854,
          -1.0351518431931523,
          0.9471899254826112
         ]
        },
        {
         "line": {
          "color": "rgba(55, 128, 191, 1.0)",
          "dash": "solid",
          "shape": "linear",
          "width": 1.3
         },
         "mode": "lines",
         "name": "B",
         "text": "",
         "type": "scatter",
         "x": [
          0,
          1,
          2,
          3,
          4,
          5,
          6,
          7,
          8,
          9,
          10,
          11,
          12,
          13,
          14,
          15,
          16,
          17,
          18,
          19,
          20,
          21,
          22,
          23,
          24,
          25,
          26,
          27,
          28,
          29,
          30,
          31,
          32,
          33,
          34,
          35,
          36,
          37,
          38,
          39,
          40,
          41,
          42,
          43,
          44,
          45,
          46,
          47,
          48,
          49,
          50,
          51,
          52,
          53,
          54,
          55,
          56,
          57,
          58,
          59,
          60,
          61,
          62,
          63,
          64,
          65,
          66,
          67,
          68,
          69,
          70,
          71,
          72,
          73,
          74,
          75,
          76,
          77,
          78,
          79,
          80,
          81,
          82,
          83,
          84,
          85,
          86,
          87,
          88,
          89,
          90,
          91,
          92,
          93,
          94,
          95,
          96,
          97,
          98,
          99
         ],
         "y": [
          -0.4336314864429535,
          1.350667166094158,
          0.43598099590054984,
          0.6468173769915163,
          0.06159247962019822,
          -0.4718946721964237,
          -0.34718152548498954,
          -0.1352352933676623,
          1.772522237853382,
          1.7932238808421221,
          0.09877771175165724,
          0.0712299488526947,
          -0.04660842611345164,
          -0.695628193641317,
          -0.34583211824660304,
          -0.08662984595296318,
          0.13793492787300085,
          -1.4318303754898554,
          0.5873881902834827,
          -2.07325722004215,
          -1.1770281940962717,
          1.594615146278771,
          1.2776187822533687,
          0.47109117398969547,
          -1.246668759906434,
          -2.2847460611624406,
          -1.5826105556937269,
          -0.811269322851608,
          0.8799894577447486,
          0.06415012993297987,
          -0.7434972189767668,
          -0.9792866546376444,
          -0.933045546820726,
          -2.3622901656782385,
          0.5563119426536198,
          -0.19041549241342892,
          -0.16132840248423033,
          -0.7338722979209311,
          -0.3692777802581269,
          0.1305385223626437,
          -0.6402633231215187,
          1.7724921834749274,
          -1.2351448749489011,
          -0.5873659331128189,
          -0.16728748136882754,
          -0.5602703504822134,
          1.859960185240759,
          0.33740918515772517,
          0.918671162681654,
          -0.07101790267351826,
          0.015441559320083337,
          -1.2031017684144387,
          -0.3272063740238242,
          -0.0001744963858636876,
          0.3103076161179847,
          -0.199759215966244,
          0.05146279997451216,
          -0.18622636023755218,
          -0.8103233465962649,
          -1.9275858643732076,
          -1.1374975146503152,
          -0.41521538622971427,
          0.22719945800922248,
          0.36402755465690834,
          -0.4526090911338168,
          0.26012367576625334,
          -0.22989912094729592,
          0.5285726171745472,
          0.9953458174439949,
          -0.9857712026396995,
          0.5776873616421779,
          -0.7424122876243162,
          -0.5518931892115001,
          -1.5518844904682583,
          0.24099518333260084,
          0.6836961998302244,
          -1.2015323169619367,
          1.2802609934383806,
          1.438639661407647,
          -0.5851440701662644,
          0.4603398760447712,
          0.49137796754968743,
          -0.33395034853426303,
          -1.3694143337900495,
          0.7004766841926477,
          -0.02776944111056883,
          -1.7961432780630182,
          -0.04463245773876887,
          2.1231966212717746,
          -1.192852440208722,
          -1.0474681178086687,
          -0.7387115531544551,
          -0.5637437308033575,
          0.9980152157280872,
          1.5098614226254685,
          -0.5438344156823638,
          0.15937737582332315,
          -1.2195955310150488,
          1.0856990332088072,
          -0.542434730291181
         ]
        },
        {
         "line": {
          "color": "rgba(50, 171, 96, 1.0)",
          "dash": "solid",
          "shape": "linear",
          "width": 1.3
         },
         "mode": "lines",
         "name": "C",
         "text": "",
         "type": "scatter",
         "x": [
          0,
          1,
          2,
          3,
          4,
          5,
          6,
          7,
          8,
          9,
          10,
          11,
          12,
          13,
          14,
          15,
          16,
          17,
          18,
          19,
          20,
          21,
          22,
          23,
          24,
          25,
          26,
          27,
          28,
          29,
          30,
          31,
          32,
          33,
          34,
          35,
          36,
          37,
          38,
          39,
          40,
          41,
          42,
          43,
          44,
          45,
          46,
          47,
          48,
          49,
          50,
          51,
          52,
          53,
          54,
          55,
          56,
          57,
          58,
          59,
          60,
          61,
          62,
          63,
          64,
          65,
          66,
          67,
          68,
          69,
          70,
          71,
          72,
          73,
          74,
          75,
          76,
          77,
          78,
          79,
          80,
          81,
          82,
          83,
          84,
          85,
          86,
          87,
          88,
          89,
          90,
          91,
          92,
          93,
          94,
          95,
          96,
          97,
          98,
          99
         ],
         "y": [
          0.5199922630907495,
          0.1830355270282763,
          0.7338807037118276,
          -1.728545257297151,
          0.7168022743874345,
          0.3343533448736096,
          1.367568784461105,
          -1.3231460252968592,
          -1.1749318802696305,
          -0.6481630365252634,
          -1.1420800226206975,
          -0.9615142362127238,
          -0.0452134271995858,
          1.4659734891639267,
          -0.9045681334699083,
          -1.1910542220933276,
          0.1837325385010415,
          -1.411109124645375,
          -1.136955351461367,
          -1.8347047274835042,
          -1.022155266979853,
          -0.2544273155503784,
          -0.21822601111445641,
          -0.5036600573084827,
          0.046035202553452136,
          -0.1496112217772252,
          -0.028209682763141536,
          -1.142726266593265,
          -2.0960811888623643,
          0.05053876236196913,
          3.0272968829495124,
          -0.06278096687767033,
          0.018552679633553757,
          0.1539366907347957,
          -0.134862543914076,
          -0.5373177369861782,
          0.21806512288273258,
          0.6808733116465462,
          -0.4597391591651445,
          0.9714359016000198,
          -0.34594030850288865,
          0.3359585191357947,
          -1.434357536288188,
          -0.6454390647001046,
          1.534720131130264,
          -1.331103768060012,
          -0.6687366119939376,
          1.304139576727922,
          -1.8132712606461807,
          0.8503059053334987,
          -0.2981495600111228,
          -0.060369774916276694,
          0.7494397256888057,
          0.22786020381595087,
          0.8111852375948235,
          0.45557169646498424,
          0.6509407911744212,
          0.535837548999383,
          0.058653266158075444,
          0.47259502040126566,
          -1.3380608588971012,
          -1.0214834676430626,
          -0.9998203108618948,
          -1.149023019762514,
          2.2523743166374843,
          1.2555027389653908,
          -0.3726643016479303,
          0.31203124203188326,
          1.4888712219329372,
          1.6134635549541745,
          0.21745550905515545,
          1.6471701788707174,
          0.6116557938467,
          0.416422488935641,
          -1.7584717424175733,
          -1.0074430159686674,
          -0.6759265033821549,
          -1.5798853727489461,
          0.37208733583223114,
          -0.9219938544398251,
          0.14012672286259512,
          2.1114977132624637,
          0.6156311912399872,
          1.479888066297275,
          2.3304288496837566,
          -1.6327940805130743,
          -1.440517700603669,
          -2.992625300505153,
          -0.649441935687668,
          -0.059502032629949374,
          2.702329118857002,
          -1.2033079124282626,
          0.0884111127119533,
          1.7455290528280512,
          -0.9142233168065622,
          1.380725105275451,
          0.007963640867254478,
          0.12313920273107667,
          -1.230546884593442,
          -1.095688282805866
         ]
        },
        {
         "line": {
          "color": "rgba(128, 0, 128, 1.0)",
          "dash": "solid",
          "shape": "linear",
          "width": 1.3
         },
         "mode": "lines",
         "name": "D",
         "text": "",
         "type": "scatter",
         "x": [
          0,
          1,
          2,
          3,
          4,
          5,
          6,
          7,
          8,
          9,
          10,
          11,
          12,
          13,
          14,
          15,
          16,
          17,
          18,
          19,
          20,
          21,
          22,
          23,
          24,
          25,
          26,
          27,
          28,
          29,
          30,
          31,
          32,
          33,
          34,
          35,
          36,
          37,
          38,
          39,
          40,
          41,
          42,
          43,
          44,
          45,
          46,
          47,
          48,
          49,
          50,
          51,
          52,
          53,
          54,
          55,
          56,
          57,
          58,
          59,
          60,
          61,
          62,
          63,
          64,
          65,
          66,
          67,
          68,
          69,
          70,
          71,
          72,
          73,
          74,
          75,
          76,
          77,
          78,
          79,
          80,
          81,
          82,
          83,
          84,
          85,
          86,
          87,
          88,
          89,
          90,
          91,
          92,
          93,
          94,
          95,
          96,
          97,
          98,
          99
         ],
         "y": [
          0.3087242940760484,
          -2.892920710993179,
          0.29755680760134023,
          -0.4537198687874928,
          0.4091428918535154,
          -0.5911585079707464,
          1.2837558388647552,
          -1.196327628603834,
          1.0089734959700447,
          -0.1578035162705574,
          -0.4986640630344464,
          0.8252364225226217,
          1.6861646626147668,
          0.23963447426904727,
          0.7641530316879358,
          -0.7689390705139726,
          1.1584556024203354,
          1.1360891736184686,
          0.009474268435621989,
          -0.06682386148577549,
          0.555353509483653,
          0.7333168575641268,
          2.098244820081542,
          -0.7944249098537421,
          1.4387239479593779,
          -0.4515833646085028,
          -1.9352520647895797,
          -2.049553912885645,
          -1.2540247569355452,
          0.5430137866149007,
          -0.31587328134723097,
          1.6814974048406721,
          -0.4206398739726167,
          0.5992298023947051,
          -1.0120089497419704,
          0.2997543410309787,
          1.2357180906828362,
          0.41511198706310415,
          1.811713654798116,
          -0.3253060298179894,
          -0.9289560752940552,
          0.1608610104861535,
          -1.1924543747439782,
          0.5513907525949097,
          0.20551765048712142,
          1.3756968022467897,
          -0.7072715173974367,
          1.5185818130429565,
          -0.4693010381594284,
          -0.809846037988664,
          -0.09078018476417095,
          0.012713682354540578,
          0.2610668997971832,
          -2.7022175291637685,
          0.4012364716342121,
          -0.7728524233638323,
          -1.8511381406173124,
          0.651157946355602,
          0.22335055826153472,
          -0.41596698883675215,
          1.7294039411584106,
          -0.995924445608059,
          0.7882627429142489,
          1.2863779417748025,
          0.32966840365706734,
          0.5777746168164748,
          -1.0398609590570271,
          0.5711772366363843,
          -0.468436443040119,
          1.1284915691417101,
          0.2904286363391695,
          -0.5636855185258286,
          0.3736149212568452,
          -0.33682320469314836,
          0.9000438298583542,
          0.3801388237787824,
          0.7183473441906332,
          -0.9784587147441306,
          -0.40902944086318,
          0.13100305557281391,
          -0.34492148658442934,
          -0.002431809166469376,
          -0.5059304901101217,
          0.9653255252501207,
          -0.8914391155462259,
          0.3860940733112024,
          0.3834056512334579,
          0.33545236667254646,
          0.7660612229706408,
          -0.16928256065585887,
          0.3847440085949903,
          0.44520055820183524,
          0.6969785207430066,
          0.3054280947354089,
          -1.1541863065851823,
          0.9808009213359595,
          -0.2608278857259081,
          0.04611588232013331,
          0.9278158849994778,
          0.43077265880049
         ]
        }
       ],
       "layout": {
        "legend": {
         "bgcolor": "#F5F6F9",
         "font": {
          "color": "#4D5663"
         }
        },
        "paper_bgcolor": "#F5F6F9",
        "plot_bgcolor": "#F5F6F9",
        "template": {
         "data": {
          "bar": [
           {
            "error_x": {
             "color": "#2a3f5f"
            },
            "error_y": {
             "color": "#2a3f5f"
            },
            "marker": {
             "line": {
              "color": "#E5ECF6",
              "width": 0.5
             },
             "pattern": {
              "fillmode": "overlay",
              "size": 10,
              "solidity": 0.2
             }
            },
            "type": "bar"
           }
          ],
          "barpolar": [
           {
            "marker": {
             "line": {
              "color": "#E5ECF6",
              "width": 0.5
             },
             "pattern": {
              "fillmode": "overlay",
              "size": 10,
              "solidity": 0.2
             }
            },
            "type": "barpolar"
           }
          ],
          "carpet": [
           {
            "aaxis": {
             "endlinecolor": "#2a3f5f",
             "gridcolor": "white",
             "linecolor": "white",
             "minorgridcolor": "white",
             "startlinecolor": "#2a3f5f"
            },
            "baxis": {
             "endlinecolor": "#2a3f5f",
             "gridcolor": "white",
             "linecolor": "white",
             "minorgridcolor": "white",
             "startlinecolor": "#2a3f5f"
            },
            "type": "carpet"
           }
          ],
          "choropleth": [
           {
            "colorbar": {
             "outlinewidth": 0,
             "ticks": ""
            },
            "type": "choropleth"
           }
          ],
          "contour": [
           {
            "colorbar": {
             "outlinewidth": 0,
             "ticks": ""
            },
            "colorscale": [
             [
              0,
              "#0d0887"
             ],
             [
              0.1111111111111111,
              "#46039f"
             ],
             [
              0.2222222222222222,
              "#7201a8"
             ],
             [
              0.3333333333333333,
              "#9c179e"
             ],
             [
              0.4444444444444444,
              "#bd3786"
             ],
             [
              0.5555555555555556,
              "#d8576b"
             ],
             [
              0.6666666666666666,
              "#ed7953"
             ],
             [
              0.7777777777777778,
              "#fb9f3a"
             ],
             [
              0.8888888888888888,
              "#fdca26"
             ],
             [
              1,
              "#f0f921"
             ]
            ],
            "type": "contour"
           }
          ],
          "contourcarpet": [
           {
            "colorbar": {
             "outlinewidth": 0,
             "ticks": ""
            },
            "type": "contourcarpet"
           }
          ],
          "heatmap": [
           {
            "colorbar": {
             "outlinewidth": 0,
             "ticks": ""
            },
            "colorscale": [
             [
              0,
              "#0d0887"
             ],
             [
              0.1111111111111111,
              "#46039f"
             ],
             [
              0.2222222222222222,
              "#7201a8"
             ],
             [
              0.3333333333333333,
              "#9c179e"
             ],
             [
              0.4444444444444444,
              "#bd3786"
             ],
             [
              0.5555555555555556,
              "#d8576b"
             ],
             [
              0.6666666666666666,
              "#ed7953"
             ],
             [
              0.7777777777777778,
              "#fb9f3a"
             ],
             [
              0.8888888888888888,
              "#fdca26"
             ],
             [
              1,
              "#f0f921"
             ]
            ],
            "type": "heatmap"
           }
          ],
          "heatmapgl": [
           {
            "colorbar": {
             "outlinewidth": 0,
             "ticks": ""
            },
            "colorscale": [
             [
              0,
              "#0d0887"
             ],
             [
              0.1111111111111111,
              "#46039f"
             ],
             [
              0.2222222222222222,
              "#7201a8"
             ],
             [
              0.3333333333333333,
              "#9c179e"
             ],
             [
              0.4444444444444444,
              "#bd3786"
             ],
             [
              0.5555555555555556,
              "#d8576b"
             ],
             [
              0.6666666666666666,
              "#ed7953"
             ],
             [
              0.7777777777777778,
              "#fb9f3a"
             ],
             [
              0.8888888888888888,
              "#fdca26"
             ],
             [
              1,
              "#f0f921"
             ]
            ],
            "type": "heatmapgl"
           }
          ],
          "histogram": [
           {
            "marker": {
             "pattern": {
              "fillmode": "overlay",
              "size": 10,
              "solidity": 0.2
             }
            },
            "type": "histogram"
           }
          ],
          "histogram2d": [
           {
            "colorbar": {
             "outlinewidth": 0,
             "ticks": ""
            },
            "colorscale": [
             [
              0,
              "#0d0887"
             ],
             [
              0.1111111111111111,
              "#46039f"
             ],
             [
              0.2222222222222222,
              "#7201a8"
             ],
             [
              0.3333333333333333,
              "#9c179e"
             ],
             [
              0.4444444444444444,
              "#bd3786"
             ],
             [
              0.5555555555555556,
              "#d8576b"
             ],
             [
              0.6666666666666666,
              "#ed7953"
             ],
             [
              0.7777777777777778,
              "#fb9f3a"
             ],
             [
              0.8888888888888888,
              "#fdca26"
             ],
             [
              1,
              "#f0f921"
             ]
            ],
            "type": "histogram2d"
           }
          ],
          "histogram2dcontour": [
           {
            "colorbar": {
             "outlinewidth": 0,
             "ticks": ""
            },
            "colorscale": [
             [
              0,
              "#0d0887"
             ],
             [
              0.1111111111111111,
              "#46039f"
             ],
             [
              0.2222222222222222,
              "#7201a8"
             ],
             [
              0.3333333333333333,
              "#9c179e"
             ],
             [
              0.4444444444444444,
              "#bd3786"
             ],
             [
              0.5555555555555556,
              "#d8576b"
             ],
             [
              0.6666666666666666,
              "#ed7953"
             ],
             [
              0.7777777777777778,
              "#fb9f3a"
             ],
             [
              0.8888888888888888,
              "#fdca26"
             ],
             [
              1,
              "#f0f921"
             ]
            ],
            "type": "histogram2dcontour"
           }
          ],
          "mesh3d": [
           {
            "colorbar": {
             "outlinewidth": 0,
             "ticks": ""
            },
            "type": "mesh3d"
           }
          ],
          "parcoords": [
           {
            "line": {
             "colorbar": {
              "outlinewidth": 0,
              "ticks": ""
             }
            },
            "type": "parcoords"
           }
          ],
          "pie": [
           {
            "automargin": true,
            "type": "pie"
           }
          ],
          "scatter": [
           {
            "fillpattern": {
             "fillmode": "overlay",
             "size": 10,
             "solidity": 0.2
            },
            "type": "scatter"
           }
          ],
          "scatter3d": [
           {
            "line": {
             "colorbar": {
              "outlinewidth": 0,
              "ticks": ""
             }
            },
            "marker": {
             "colorbar": {
              "outlinewidth": 0,
              "ticks": ""
             }
            },
            "type": "scatter3d"
           }
          ],
          "scattercarpet": [
           {
            "marker": {
             "colorbar": {
              "outlinewidth": 0,
              "ticks": ""
             }
            },
            "type": "scattercarpet"
           }
          ],
          "scattergeo": [
           {
            "marker": {
             "colorbar": {
              "outlinewidth": 0,
              "ticks": ""
             }
            },
            "type": "scattergeo"
           }
          ],
          "scattergl": [
           {
            "marker": {
             "colorbar": {
              "outlinewidth": 0,
              "ticks": ""
             }
            },
            "type": "scattergl"
           }
          ],
          "scattermapbox": [
           {
            "marker": {
             "colorbar": {
              "outlinewidth": 0,
              "ticks": ""
             }
            },
            "type": "scattermapbox"
           }
          ],
          "scatterpolar": [
           {
            "marker": {
             "colorbar": {
              "outlinewidth": 0,
              "ticks": ""
             }
            },
            "type": "scatterpolar"
           }
          ],
          "scatterpolargl": [
           {
            "marker": {
             "colorbar": {
              "outlinewidth": 0,
              "ticks": ""
             }
            },
            "type": "scatterpolargl"
           }
          ],
          "scatterternary": [
           {
            "marker": {
             "colorbar": {
              "outlinewidth": 0,
              "ticks": ""
             }
            },
            "type": "scatterternary"
           }
          ],
          "surface": [
           {
            "colorbar": {
             "outlinewidth": 0,
             "ticks": ""
            },
            "colorscale": [
             [
              0,
              "#0d0887"
             ],
             [
              0.1111111111111111,
              "#46039f"
             ],
             [
              0.2222222222222222,
              "#7201a8"
             ],
             [
              0.3333333333333333,
              "#9c179e"
             ],
             [
              0.4444444444444444,
              "#bd3786"
             ],
             [
              0.5555555555555556,
              "#d8576b"
             ],
             [
              0.6666666666666666,
              "#ed7953"
             ],
             [
              0.7777777777777778,
              "#fb9f3a"
             ],
             [
              0.8888888888888888,
              "#fdca26"
             ],
             [
              1,
              "#f0f921"
             ]
            ],
            "type": "surface"
           }
          ],
          "table": [
           {
            "cells": {
             "fill": {
              "color": "#EBF0F8"
             },
             "line": {
              "color": "white"
             }
            },
            "header": {
             "fill": {
              "color": "#C8D4E3"
             },
             "line": {
              "color": "white"
             }
            },
            "type": "table"
           }
          ]
         },
         "layout": {
          "annotationdefaults": {
           "arrowcolor": "#2a3f5f",
           "arrowhead": 0,
           "arrowwidth": 1
          },
          "autotypenumbers": "strict",
          "coloraxis": {
           "colorbar": {
            "outlinewidth": 0,
            "ticks": ""
           }
          },
          "colorscale": {
           "diverging": [
            [
             0,
             "#8e0152"
            ],
            [
             0.1,
             "#c51b7d"
            ],
            [
             0.2,
             "#de77ae"
            ],
            [
             0.3,
             "#f1b6da"
            ],
            [
             0.4,
             "#fde0ef"
            ],
            [
             0.5,
             "#f7f7f7"
            ],
            [
             0.6,
             "#e6f5d0"
            ],
            [
             0.7,
             "#b8e186"
            ],
            [
             0.8,
             "#7fbc41"
            ],
            [
             0.9,
             "#4d9221"
            ],
            [
             1,
             "#276419"
            ]
           ],
           "sequential": [
            [
             0,
             "#0d0887"
            ],
            [
             0.1111111111111111,
             "#46039f"
            ],
            [
             0.2222222222222222,
             "#7201a8"
            ],
            [
             0.3333333333333333,
             "#9c179e"
            ],
            [
             0.4444444444444444,
             "#bd3786"
            ],
            [
             0.5555555555555556,
             "#d8576b"
            ],
            [
             0.6666666666666666,
             "#ed7953"
            ],
            [
             0.7777777777777778,
             "#fb9f3a"
            ],
            [
             0.8888888888888888,
             "#fdca26"
            ],
            [
             1,
             "#f0f921"
            ]
           ],
           "sequentialminus": [
            [
             0,
             "#0d0887"
            ],
            [
             0.1111111111111111,
             "#46039f"
            ],
            [
             0.2222222222222222,
             "#7201a8"
            ],
            [
             0.3333333333333333,
             "#9c179e"
            ],
            [
             0.4444444444444444,
             "#bd3786"
            ],
            [
             0.5555555555555556,
             "#d8576b"
            ],
            [
             0.6666666666666666,
             "#ed7953"
            ],
            [
             0.7777777777777778,
             "#fb9f3a"
            ],
            [
             0.8888888888888888,
             "#fdca26"
            ],
            [
             1,
             "#f0f921"
            ]
           ]
          },
          "colorway": [
           "#636efa",
           "#EF553B",
           "#00cc96",
           "#ab63fa",
           "#FFA15A",
           "#19d3f3",
           "#FF6692",
           "#B6E880",
           "#FF97FF",
           "#FECB52"
          ],
          "font": {
           "color": "#2a3f5f"
          },
          "geo": {
           "bgcolor": "white",
           "lakecolor": "white",
           "landcolor": "#E5ECF6",
           "showlakes": true,
           "showland": true,
           "subunitcolor": "white"
          },
          "hoverlabel": {
           "align": "left"
          },
          "hovermode": "closest",
          "mapbox": {
           "style": "light"
          },
          "paper_bgcolor": "white",
          "plot_bgcolor": "#E5ECF6",
          "polar": {
           "angularaxis": {
            "gridcolor": "white",
            "linecolor": "white",
            "ticks": ""
           },
           "bgcolor": "#E5ECF6",
           "radialaxis": {
            "gridcolor": "white",
            "linecolor": "white",
            "ticks": ""
           }
          },
          "scene": {
           "xaxis": {
            "backgroundcolor": "#E5ECF6",
            "gridcolor": "white",
            "gridwidth": 2,
            "linecolor": "white",
            "showbackground": true,
            "ticks": "",
            "zerolinecolor": "white"
           },
           "yaxis": {
            "backgroundcolor": "#E5ECF6",
            "gridcolor": "white",
            "gridwidth": 2,
            "linecolor": "white",
            "showbackground": true,
            "ticks": "",
            "zerolinecolor": "white"
           },
           "zaxis": {
            "backgroundcolor": "#E5ECF6",
            "gridcolor": "white",
            "gridwidth": 2,
            "linecolor": "white",
            "showbackground": true,
            "ticks": "",
            "zerolinecolor": "white"
           }
          },
          "shapedefaults": {
           "line": {
            "color": "#2a3f5f"
           }
          },
          "ternary": {
           "aaxis": {
            "gridcolor": "white",
            "linecolor": "white",
            "ticks": ""
           },
           "baxis": {
            "gridcolor": "white",
            "linecolor": "white",
            "ticks": ""
           },
           "bgcolor": "#E5ECF6",
           "caxis": {
            "gridcolor": "white",
            "linecolor": "white",
            "ticks": ""
           }
          },
          "title": {
           "x": 0.05
          },
          "xaxis": {
           "automargin": true,
           "gridcolor": "white",
           "linecolor": "white",
           "ticks": "",
           "title": {
            "standoff": 15
           },
           "zerolinecolor": "white",
           "zerolinewidth": 2
          },
          "yaxis": {
           "automargin": true,
           "gridcolor": "white",
           "linecolor": "white",
           "ticks": "",
           "title": {
            "standoff": 15
           },
           "zerolinecolor": "white",
           "zerolinewidth": 2
          }
         }
        },
        "title": {
         "font": {
          "color": "#4D5663"
         }
        },
        "xaxis": {
         "gridcolor": "#E1E5ED",
         "showgrid": true,
         "tickfont": {
          "color": "#4D5663"
         },
         "title": {
          "font": {
           "color": "#4D5663"
          },
          "text": ""
         },
         "zerolinecolor": "#E1E5ED"
        },
        "yaxis": {
         "gridcolor": "#E1E5ED",
         "showgrid": true,
         "tickfont": {
          "color": "#4D5663"
         },
         "title": {
          "font": {
           "color": "#4D5663"
          },
          "text": ""
         },
         "zerolinecolor": "#E1E5ED"
        }
       }
      },
      "text/html": [
       "<div>                            <div id=\"f5c40a14-ac56-484f-8593-9e71c0c87cc2\" class=\"plotly-graph-div\" style=\"height:525px; width:100%;\"></div>            <script type=\"text/javascript\">                require([\"plotly\"], function(Plotly) {                    window.PLOTLYENV=window.PLOTLYENV || {};\n",
       "                    window.PLOTLYENV.BASE_URL='https://plot.ly';                                    if (document.getElementById(\"f5c40a14-ac56-484f-8593-9e71c0c87cc2\")) {                    Plotly.newPlot(                        \"f5c40a14-ac56-484f-8593-9e71c0c87cc2\",                        [{\"line\":{\"color\":\"rgba(255, 153, 51, 1.0)\",\"dash\":\"solid\",\"shape\":\"linear\",\"width\":1.3},\"mode\":\"lines\",\"name\":\"A\",\"text\":\"\",\"x\":[0,1,2,3,4,5,6,7,8,9,10,11,12,13,14,15,16,17,18,19,20,21,22,23,24,25,26,27,28,29,30,31,32,33,34,35,36,37,38,39,40,41,42,43,44,45,46,47,48,49,50,51,52,53,54,55,56,57,58,59,60,61,62,63,64,65,66,67,68,69,70,71,72,73,74,75,76,77,78,79,80,81,82,83,84,85,86,87,88,89,90,91,92,93,94,95,96,97,98,99],\"y\":[-2.0174340036144773,-0.2982885142503483,-1.1060293398574745,0.47380475815506795,-0.24287698992496476,-1.045477160349408,-1.372571283799824,-0.3708294395405194,0.9296363357643138,1.07539941494939,-0.48860213936065083,0.38462255572792503,0.7316391969826207,0.7056188238429781,0.2272970973273527,1.8973560994467056,-0.08814752662473867,2.853141208328112,1.2606744935729695,-0.19541503270171148,0.33884117599906605,-1.1823804269843323,-0.35818646632962386,-2.1896961807689883,0.4666612471354609,-0.7195595896962929,-1.1022342579753548,-0.4260373014973277,-2.03985628441693,-0.3922675703969572,-0.6393197479525362,1.5070292397184635,1.5427741705080689,-0.36811080320580436,0.7907860507217243,-1.053702929569162,-1.5682815210700976,-1.6899427972979684,-1.1577153310653898,1.201798767024122,0.8139499812781749,1.3396399626499909,-1.592116875741009,-2.108999149725003,-2.414121441285468,-0.7517992912296336,-0.8814484376662446,-0.5636621543249383,-0.4462016022135572,0.7602270527510662,-0.7635312669667638,-0.6085341535104014,-0.6979145854428934,0.15270352881680677,1.5861404333668392,0.4413194748417777,1.1464296196046662,1.6860599838450785,-0.12920519816606357,-1.3166186524763952,0.9527123887974857,-0.0913130377024795,-1.2562092533438431,-1.4599948208670317,0.739600143985171,1.928522171471015,0.8604873721118755,0.5101454894231326,-2.0412817448349676,2.350622092982859,-1.2098096285286442,0.8793405535384373,-0.4127130171433395,-0.9510357246689423,-0.5833425292515129,2.874170539129894,0.6754534679651084,-0.43269432307745,0.6824671403544771,-0.13956406111167266,-1.2539511811434925,-0.9095655979851323,0.5131425131930456,0.2107268324859046,0.9793829033520347,0.05590920125049553,-1.4825906211123527,-0.7655955658418381,-0.9062150294307344,0.2713814492008699,0.4987962451208206,0.8724854785969101,0.04820180158157174,0.22901793866168949,-0.04264546586916472,0.9163280370522656,-0.010155961485463392,-0.9553359158941854,-1.0351518431931523,0.9471899254826112],\"type\":\"scatter\"},{\"line\":{\"color\":\"rgba(55, 128, 191, 1.0)\",\"dash\":\"solid\",\"shape\":\"linear\",\"width\":1.3},\"mode\":\"lines\",\"name\":\"B\",\"text\":\"\",\"x\":[0,1,2,3,4,5,6,7,8,9,10,11,12,13,14,15,16,17,18,19,20,21,22,23,24,25,26,27,28,29,30,31,32,33,34,35,36,37,38,39,40,41,42,43,44,45,46,47,48,49,50,51,52,53,54,55,56,57,58,59,60,61,62,63,64,65,66,67,68,69,70,71,72,73,74,75,76,77,78,79,80,81,82,83,84,85,86,87,88,89,90,91,92,93,94,95,96,97,98,99],\"y\":[-0.4336314864429535,1.350667166094158,0.43598099590054984,0.6468173769915163,0.06159247962019822,-0.4718946721964237,-0.34718152548498954,-0.1352352933676623,1.772522237853382,1.7932238808421221,0.09877771175165724,0.0712299488526947,-0.04660842611345164,-0.695628193641317,-0.34583211824660304,-0.08662984595296318,0.13793492787300085,-1.4318303754898554,0.5873881902834827,-2.07325722004215,-1.1770281940962717,1.594615146278771,1.2776187822533687,0.47109117398969547,-1.246668759906434,-2.2847460611624406,-1.5826105556937269,-0.811269322851608,0.8799894577447486,0.06415012993297987,-0.7434972189767668,-0.9792866546376444,-0.933045546820726,-2.3622901656782385,0.5563119426536198,-0.19041549241342892,-0.16132840248423033,-0.7338722979209311,-0.3692777802581269,0.1305385223626437,-0.6402633231215187,1.7724921834749274,-1.2351448749489011,-0.5873659331128189,-0.16728748136882754,-0.5602703504822134,1.859960185240759,0.33740918515772517,0.918671162681654,-0.07101790267351826,0.015441559320083337,-1.2031017684144387,-0.3272063740238242,-0.0001744963858636876,0.3103076161179847,-0.199759215966244,0.05146279997451216,-0.18622636023755218,-0.8103233465962649,-1.9275858643732076,-1.1374975146503152,-0.41521538622971427,0.22719945800922248,0.36402755465690834,-0.4526090911338168,0.26012367576625334,-0.22989912094729592,0.5285726171745472,0.9953458174439949,-0.9857712026396995,0.5776873616421779,-0.7424122876243162,-0.5518931892115001,-1.5518844904682583,0.24099518333260084,0.6836961998302244,-1.2015323169619367,1.2802609934383806,1.438639661407647,-0.5851440701662644,0.4603398760447712,0.49137796754968743,-0.33395034853426303,-1.3694143337900495,0.7004766841926477,-0.02776944111056883,-1.7961432780630182,-0.04463245773876887,2.1231966212717746,-1.192852440208722,-1.0474681178086687,-0.7387115531544551,-0.5637437308033575,0.9980152157280872,1.5098614226254685,-0.5438344156823638,0.15937737582332315,-1.2195955310150488,1.0856990332088072,-0.542434730291181],\"type\":\"scatter\"},{\"line\":{\"color\":\"rgba(50, 171, 96, 1.0)\",\"dash\":\"solid\",\"shape\":\"linear\",\"width\":1.3},\"mode\":\"lines\",\"name\":\"C\",\"text\":\"\",\"x\":[0,1,2,3,4,5,6,7,8,9,10,11,12,13,14,15,16,17,18,19,20,21,22,23,24,25,26,27,28,29,30,31,32,33,34,35,36,37,38,39,40,41,42,43,44,45,46,47,48,49,50,51,52,53,54,55,56,57,58,59,60,61,62,63,64,65,66,67,68,69,70,71,72,73,74,75,76,77,78,79,80,81,82,83,84,85,86,87,88,89,90,91,92,93,94,95,96,97,98,99],\"y\":[0.5199922630907495,0.1830355270282763,0.7338807037118276,-1.728545257297151,0.7168022743874345,0.3343533448736096,1.367568784461105,-1.3231460252968592,-1.1749318802696305,-0.6481630365252634,-1.1420800226206975,-0.9615142362127238,-0.0452134271995858,1.4659734891639267,-0.9045681334699083,-1.1910542220933276,0.1837325385010415,-1.411109124645375,-1.136955351461367,-1.8347047274835042,-1.022155266979853,-0.2544273155503784,-0.21822601111445641,-0.5036600573084827,0.046035202553452136,-0.1496112217772252,-0.028209682763141536,-1.142726266593265,-2.0960811888623643,0.05053876236196913,3.0272968829495124,-0.06278096687767033,0.018552679633553757,0.1539366907347957,-0.134862543914076,-0.5373177369861782,0.21806512288273258,0.6808733116465462,-0.4597391591651445,0.9714359016000198,-0.34594030850288865,0.3359585191357947,-1.434357536288188,-0.6454390647001046,1.534720131130264,-1.331103768060012,-0.6687366119939376,1.304139576727922,-1.8132712606461807,0.8503059053334987,-0.2981495600111228,-0.060369774916276694,0.7494397256888057,0.22786020381595087,0.8111852375948235,0.45557169646498424,0.6509407911744212,0.535837548999383,0.058653266158075444,0.47259502040126566,-1.3380608588971012,-1.0214834676430626,-0.9998203108618948,-1.149023019762514,2.2523743166374843,1.2555027389653908,-0.3726643016479303,0.31203124203188326,1.4888712219329372,1.6134635549541745,0.21745550905515545,1.6471701788707174,0.6116557938467,0.416422488935641,-1.7584717424175733,-1.0074430159686674,-0.6759265033821549,-1.5798853727489461,0.37208733583223114,-0.9219938544398251,0.14012672286259512,2.1114977132624637,0.6156311912399872,1.479888066297275,2.3304288496837566,-1.6327940805130743,-1.440517700603669,-2.992625300505153,-0.649441935687668,-0.059502032629949374,2.702329118857002,-1.2033079124282626,0.0884111127119533,1.7455290528280512,-0.9142233168065622,1.380725105275451,0.007963640867254478,0.12313920273107667,-1.230546884593442,-1.095688282805866],\"type\":\"scatter\"},{\"line\":{\"color\":\"rgba(128, 0, 128, 1.0)\",\"dash\":\"solid\",\"shape\":\"linear\",\"width\":1.3},\"mode\":\"lines\",\"name\":\"D\",\"text\":\"\",\"x\":[0,1,2,3,4,5,6,7,8,9,10,11,12,13,14,15,16,17,18,19,20,21,22,23,24,25,26,27,28,29,30,31,32,33,34,35,36,37,38,39,40,41,42,43,44,45,46,47,48,49,50,51,52,53,54,55,56,57,58,59,60,61,62,63,64,65,66,67,68,69,70,71,72,73,74,75,76,77,78,79,80,81,82,83,84,85,86,87,88,89,90,91,92,93,94,95,96,97,98,99],\"y\":[0.3087242940760484,-2.892920710993179,0.29755680760134023,-0.4537198687874928,0.4091428918535154,-0.5911585079707464,1.2837558388647552,-1.196327628603834,1.0089734959700447,-0.1578035162705574,-0.4986640630344464,0.8252364225226217,1.6861646626147668,0.23963447426904727,0.7641530316879358,-0.7689390705139726,1.1584556024203354,1.1360891736184686,0.009474268435621989,-0.06682386148577549,0.555353509483653,0.7333168575641268,2.098244820081542,-0.7944249098537421,1.4387239479593779,-0.4515833646085028,-1.9352520647895797,-2.049553912885645,-1.2540247569355452,0.5430137866149007,-0.31587328134723097,1.6814974048406721,-0.4206398739726167,0.5992298023947051,-1.0120089497419704,0.2997543410309787,1.2357180906828362,0.41511198706310415,1.811713654798116,-0.3253060298179894,-0.9289560752940552,0.1608610104861535,-1.1924543747439782,0.5513907525949097,0.20551765048712142,1.3756968022467897,-0.7072715173974367,1.5185818130429565,-0.4693010381594284,-0.809846037988664,-0.09078018476417095,0.012713682354540578,0.2610668997971832,-2.7022175291637685,0.4012364716342121,-0.7728524233638323,-1.8511381406173124,0.651157946355602,0.22335055826153472,-0.41596698883675215,1.7294039411584106,-0.995924445608059,0.7882627429142489,1.2863779417748025,0.32966840365706734,0.5777746168164748,-1.0398609590570271,0.5711772366363843,-0.468436443040119,1.1284915691417101,0.2904286363391695,-0.5636855185258286,0.3736149212568452,-0.33682320469314836,0.9000438298583542,0.3801388237787824,0.7183473441906332,-0.9784587147441306,-0.40902944086318,0.13100305557281391,-0.34492148658442934,-0.002431809166469376,-0.5059304901101217,0.9653255252501207,-0.8914391155462259,0.3860940733112024,0.3834056512334579,0.33545236667254646,0.7660612229706408,-0.16928256065585887,0.3847440085949903,0.44520055820183524,0.6969785207430066,0.3054280947354089,-1.1541863065851823,0.9808009213359595,-0.2608278857259081,0.04611588232013331,0.9278158849994778,0.43077265880049],\"type\":\"scatter\"}],                        {\"legend\":{\"bgcolor\":\"#F5F6F9\",\"font\":{\"color\":\"#4D5663\"}},\"paper_bgcolor\":\"#F5F6F9\",\"plot_bgcolor\":\"#F5F6F9\",\"template\":{\"data\":{\"barpolar\":[{\"marker\":{\"line\":{\"color\":\"#E5ECF6\",\"width\":0.5},\"pattern\":{\"fillmode\":\"overlay\",\"size\":10,\"solidity\":0.2}},\"type\":\"barpolar\"}],\"bar\":[{\"error_x\":{\"color\":\"#2a3f5f\"},\"error_y\":{\"color\":\"#2a3f5f\"},\"marker\":{\"line\":{\"color\":\"#E5ECF6\",\"width\":0.5},\"pattern\":{\"fillmode\":\"overlay\",\"size\":10,\"solidity\":0.2}},\"type\":\"bar\"}],\"carpet\":[{\"aaxis\":{\"endlinecolor\":\"#2a3f5f\",\"gridcolor\":\"white\",\"linecolor\":\"white\",\"minorgridcolor\":\"white\",\"startlinecolor\":\"#2a3f5f\"},\"baxis\":{\"endlinecolor\":\"#2a3f5f\",\"gridcolor\":\"white\",\"linecolor\":\"white\",\"minorgridcolor\":\"white\",\"startlinecolor\":\"#2a3f5f\"},\"type\":\"carpet\"}],\"choropleth\":[{\"colorbar\":{\"outlinewidth\":0,\"ticks\":\"\"},\"type\":\"choropleth\"}],\"contourcarpet\":[{\"colorbar\":{\"outlinewidth\":0,\"ticks\":\"\"},\"type\":\"contourcarpet\"}],\"contour\":[{\"colorbar\":{\"outlinewidth\":0,\"ticks\":\"\"},\"colorscale\":[[0.0,\"#0d0887\"],[0.1111111111111111,\"#46039f\"],[0.2222222222222222,\"#7201a8\"],[0.3333333333333333,\"#9c179e\"],[0.4444444444444444,\"#bd3786\"],[0.5555555555555556,\"#d8576b\"],[0.6666666666666666,\"#ed7953\"],[0.7777777777777778,\"#fb9f3a\"],[0.8888888888888888,\"#fdca26\"],[1.0,\"#f0f921\"]],\"type\":\"contour\"}],\"heatmapgl\":[{\"colorbar\":{\"outlinewidth\":0,\"ticks\":\"\"},\"colorscale\":[[0.0,\"#0d0887\"],[0.1111111111111111,\"#46039f\"],[0.2222222222222222,\"#7201a8\"],[0.3333333333333333,\"#9c179e\"],[0.4444444444444444,\"#bd3786\"],[0.5555555555555556,\"#d8576b\"],[0.6666666666666666,\"#ed7953\"],[0.7777777777777778,\"#fb9f3a\"],[0.8888888888888888,\"#fdca26\"],[1.0,\"#f0f921\"]],\"type\":\"heatmapgl\"}],\"heatmap\":[{\"colorbar\":{\"outlinewidth\":0,\"ticks\":\"\"},\"colorscale\":[[0.0,\"#0d0887\"],[0.1111111111111111,\"#46039f\"],[0.2222222222222222,\"#7201a8\"],[0.3333333333333333,\"#9c179e\"],[0.4444444444444444,\"#bd3786\"],[0.5555555555555556,\"#d8576b\"],[0.6666666666666666,\"#ed7953\"],[0.7777777777777778,\"#fb9f3a\"],[0.8888888888888888,\"#fdca26\"],[1.0,\"#f0f921\"]],\"type\":\"heatmap\"}],\"histogram2dcontour\":[{\"colorbar\":{\"outlinewidth\":0,\"ticks\":\"\"},\"colorscale\":[[0.0,\"#0d0887\"],[0.1111111111111111,\"#46039f\"],[0.2222222222222222,\"#7201a8\"],[0.3333333333333333,\"#9c179e\"],[0.4444444444444444,\"#bd3786\"],[0.5555555555555556,\"#d8576b\"],[0.6666666666666666,\"#ed7953\"],[0.7777777777777778,\"#fb9f3a\"],[0.8888888888888888,\"#fdca26\"],[1.0,\"#f0f921\"]],\"type\":\"histogram2dcontour\"}],\"histogram2d\":[{\"colorbar\":{\"outlinewidth\":0,\"ticks\":\"\"},\"colorscale\":[[0.0,\"#0d0887\"],[0.1111111111111111,\"#46039f\"],[0.2222222222222222,\"#7201a8\"],[0.3333333333333333,\"#9c179e\"],[0.4444444444444444,\"#bd3786\"],[0.5555555555555556,\"#d8576b\"],[0.6666666666666666,\"#ed7953\"],[0.7777777777777778,\"#fb9f3a\"],[0.8888888888888888,\"#fdca26\"],[1.0,\"#f0f921\"]],\"type\":\"histogram2d\"}],\"histogram\":[{\"marker\":{\"pattern\":{\"fillmode\":\"overlay\",\"size\":10,\"solidity\":0.2}},\"type\":\"histogram\"}],\"mesh3d\":[{\"colorbar\":{\"outlinewidth\":0,\"ticks\":\"\"},\"type\":\"mesh3d\"}],\"parcoords\":[{\"line\":{\"colorbar\":{\"outlinewidth\":0,\"ticks\":\"\"}},\"type\":\"parcoords\"}],\"pie\":[{\"automargin\":true,\"type\":\"pie\"}],\"scatter3d\":[{\"line\":{\"colorbar\":{\"outlinewidth\":0,\"ticks\":\"\"}},\"marker\":{\"colorbar\":{\"outlinewidth\":0,\"ticks\":\"\"}},\"type\":\"scatter3d\"}],\"scattercarpet\":[{\"marker\":{\"colorbar\":{\"outlinewidth\":0,\"ticks\":\"\"}},\"type\":\"scattercarpet\"}],\"scattergeo\":[{\"marker\":{\"colorbar\":{\"outlinewidth\":0,\"ticks\":\"\"}},\"type\":\"scattergeo\"}],\"scattergl\":[{\"marker\":{\"colorbar\":{\"outlinewidth\":0,\"ticks\":\"\"}},\"type\":\"scattergl\"}],\"scattermapbox\":[{\"marker\":{\"colorbar\":{\"outlinewidth\":0,\"ticks\":\"\"}},\"type\":\"scattermapbox\"}],\"scatterpolargl\":[{\"marker\":{\"colorbar\":{\"outlinewidth\":0,\"ticks\":\"\"}},\"type\":\"scatterpolargl\"}],\"scatterpolar\":[{\"marker\":{\"colorbar\":{\"outlinewidth\":0,\"ticks\":\"\"}},\"type\":\"scatterpolar\"}],\"scatter\":[{\"fillpattern\":{\"fillmode\":\"overlay\",\"size\":10,\"solidity\":0.2},\"type\":\"scatter\"}],\"scatterternary\":[{\"marker\":{\"colorbar\":{\"outlinewidth\":0,\"ticks\":\"\"}},\"type\":\"scatterternary\"}],\"surface\":[{\"colorbar\":{\"outlinewidth\":0,\"ticks\":\"\"},\"colorscale\":[[0.0,\"#0d0887\"],[0.1111111111111111,\"#46039f\"],[0.2222222222222222,\"#7201a8\"],[0.3333333333333333,\"#9c179e\"],[0.4444444444444444,\"#bd3786\"],[0.5555555555555556,\"#d8576b\"],[0.6666666666666666,\"#ed7953\"],[0.7777777777777778,\"#fb9f3a\"],[0.8888888888888888,\"#fdca26\"],[1.0,\"#f0f921\"]],\"type\":\"surface\"}],\"table\":[{\"cells\":{\"fill\":{\"color\":\"#EBF0F8\"},\"line\":{\"color\":\"white\"}},\"header\":{\"fill\":{\"color\":\"#C8D4E3\"},\"line\":{\"color\":\"white\"}},\"type\":\"table\"}]},\"layout\":{\"annotationdefaults\":{\"arrowcolor\":\"#2a3f5f\",\"arrowhead\":0,\"arrowwidth\":1},\"autotypenumbers\":\"strict\",\"coloraxis\":{\"colorbar\":{\"outlinewidth\":0,\"ticks\":\"\"}},\"colorscale\":{\"diverging\":[[0,\"#8e0152\"],[0.1,\"#c51b7d\"],[0.2,\"#de77ae\"],[0.3,\"#f1b6da\"],[0.4,\"#fde0ef\"],[0.5,\"#f7f7f7\"],[0.6,\"#e6f5d0\"],[0.7,\"#b8e186\"],[0.8,\"#7fbc41\"],[0.9,\"#4d9221\"],[1,\"#276419\"]],\"sequential\":[[0.0,\"#0d0887\"],[0.1111111111111111,\"#46039f\"],[0.2222222222222222,\"#7201a8\"],[0.3333333333333333,\"#9c179e\"],[0.4444444444444444,\"#bd3786\"],[0.5555555555555556,\"#d8576b\"],[0.6666666666666666,\"#ed7953\"],[0.7777777777777778,\"#fb9f3a\"],[0.8888888888888888,\"#fdca26\"],[1.0,\"#f0f921\"]],\"sequentialminus\":[[0.0,\"#0d0887\"],[0.1111111111111111,\"#46039f\"],[0.2222222222222222,\"#7201a8\"],[0.3333333333333333,\"#9c179e\"],[0.4444444444444444,\"#bd3786\"],[0.5555555555555556,\"#d8576b\"],[0.6666666666666666,\"#ed7953\"],[0.7777777777777778,\"#fb9f3a\"],[0.8888888888888888,\"#fdca26\"],[1.0,\"#f0f921\"]]},\"colorway\":[\"#636efa\",\"#EF553B\",\"#00cc96\",\"#ab63fa\",\"#FFA15A\",\"#19d3f3\",\"#FF6692\",\"#B6E880\",\"#FF97FF\",\"#FECB52\"],\"font\":{\"color\":\"#2a3f5f\"},\"geo\":{\"bgcolor\":\"white\",\"lakecolor\":\"white\",\"landcolor\":\"#E5ECF6\",\"showlakes\":true,\"showland\":true,\"subunitcolor\":\"white\"},\"hoverlabel\":{\"align\":\"left\"},\"hovermode\":\"closest\",\"mapbox\":{\"style\":\"light\"},\"paper_bgcolor\":\"white\",\"plot_bgcolor\":\"#E5ECF6\",\"polar\":{\"angularaxis\":{\"gridcolor\":\"white\",\"linecolor\":\"white\",\"ticks\":\"\"},\"bgcolor\":\"#E5ECF6\",\"radialaxis\":{\"gridcolor\":\"white\",\"linecolor\":\"white\",\"ticks\":\"\"}},\"scene\":{\"xaxis\":{\"backgroundcolor\":\"#E5ECF6\",\"gridcolor\":\"white\",\"gridwidth\":2,\"linecolor\":\"white\",\"showbackground\":true,\"ticks\":\"\",\"zerolinecolor\":\"white\"},\"yaxis\":{\"backgroundcolor\":\"#E5ECF6\",\"gridcolor\":\"white\",\"gridwidth\":2,\"linecolor\":\"white\",\"showbackground\":true,\"ticks\":\"\",\"zerolinecolor\":\"white\"},\"zaxis\":{\"backgroundcolor\":\"#E5ECF6\",\"gridcolor\":\"white\",\"gridwidth\":2,\"linecolor\":\"white\",\"showbackground\":true,\"ticks\":\"\",\"zerolinecolor\":\"white\"}},\"shapedefaults\":{\"line\":{\"color\":\"#2a3f5f\"}},\"ternary\":{\"aaxis\":{\"gridcolor\":\"white\",\"linecolor\":\"white\",\"ticks\":\"\"},\"baxis\":{\"gridcolor\":\"white\",\"linecolor\":\"white\",\"ticks\":\"\"},\"bgcolor\":\"#E5ECF6\",\"caxis\":{\"gridcolor\":\"white\",\"linecolor\":\"white\",\"ticks\":\"\"}},\"title\":{\"x\":0.05},\"xaxis\":{\"automargin\":true,\"gridcolor\":\"white\",\"linecolor\":\"white\",\"ticks\":\"\",\"title\":{\"standoff\":15},\"zerolinecolor\":\"white\",\"zerolinewidth\":2},\"yaxis\":{\"automargin\":true,\"gridcolor\":\"white\",\"linecolor\":\"white\",\"ticks\":\"\",\"title\":{\"standoff\":15},\"zerolinecolor\":\"white\",\"zerolinewidth\":2}}},\"title\":{\"font\":{\"color\":\"#4D5663\"}},\"xaxis\":{\"gridcolor\":\"#E1E5ED\",\"showgrid\":true,\"tickfont\":{\"color\":\"#4D5663\"},\"title\":{\"font\":{\"color\":\"#4D5663\"},\"text\":\"\"},\"zerolinecolor\":\"#E1E5ED\"},\"yaxis\":{\"gridcolor\":\"#E1E5ED\",\"showgrid\":true,\"tickfont\":{\"color\":\"#4D5663\"},\"title\":{\"font\":{\"color\":\"#4D5663\"},\"text\":\"\"},\"zerolinecolor\":\"#E1E5ED\"}},                        {\"showLink\": true, \"linkText\": \"Export to plot.ly\", \"plotlyServerURL\": \"https://plot.ly\", \"responsive\": true}                    ).then(function(){\n",
       "                            \n",
       "var gd = document.getElementById('f5c40a14-ac56-484f-8593-9e71c0c87cc2');\n",
       "var x = new MutationObserver(function (mutations, observer) {{\n",
       "        var display = window.getComputedStyle(gd).display;\n",
       "        if (!display || display === 'none') {{\n",
       "            console.log([gd, 'removed!']);\n",
       "            Plotly.purge(gd);\n",
       "            observer.disconnect();\n",
       "        }}\n",
       "}});\n",
       "\n",
       "// Listen for the removal of the full notebook cells\n",
       "var notebookContainer = gd.closest('#notebook-container');\n",
       "if (notebookContainer) {{\n",
       "    x.observe(notebookContainer, {childList: true});\n",
       "}}\n",
       "\n",
       "// Listen for the clearing of the current output cell\n",
       "var outputEl = gd.closest('.output');\n",
       "if (outputEl) {{\n",
       "    x.observe(outputEl, {childList: true});\n",
       "}}\n",
       "\n",
       "                        })                };                });            </script>        </div>"
      ]
     },
     "metadata": {},
     "output_type": "display_data"
    }
   ],
   "source": [
    "df.iplot()"
   ]
  },
  {
   "cell_type": "code",
   "execution_count": 12,
   "id": "d6a3220c",
   "metadata": {},
   "outputs": [
    {
     "data": {
      "application/vnd.plotly.v1+json": {
       "config": {
        "linkText": "Export to plot.ly",
        "plotlyServerURL": "https://plot.ly",
        "showLink": true
       },
       "data": [
        {
         "line": {
          "color": "rgba(255, 153, 51, 1.0)",
          "dash": "solid",
          "shape": "linear",
          "width": 1.3
         },
         "marker": {
          "size": 12,
          "symbol": "circle"
         },
         "mode": "markers",
         "name": "B",
         "text": "",
         "type": "scatter",
         "x": [
          -2.0174340036144773,
          -0.2982885142503483,
          -1.1060293398574745,
          0.47380475815506795,
          -0.24287698992496476,
          -1.045477160349408,
          -1.372571283799824,
          -0.3708294395405194,
          0.9296363357643138,
          1.07539941494939,
          -0.48860213936065083,
          0.38462255572792503,
          0.7316391969826207,
          0.7056188238429781,
          0.2272970973273527,
          1.8973560994467056,
          -0.08814752662473867,
          2.853141208328112,
          1.2606744935729695,
          -0.19541503270171148,
          0.33884117599906605,
          -1.1823804269843323,
          -0.35818646632962386,
          -2.1896961807689883,
          0.4666612471354609,
          -0.7195595896962929,
          -1.1022342579753548,
          -0.4260373014973277,
          -2.03985628441693,
          -0.3922675703969572,
          -0.6393197479525362,
          1.5070292397184635,
          1.5427741705080689,
          -0.36811080320580436,
          0.7907860507217243,
          -1.053702929569162,
          -1.5682815210700976,
          -1.6899427972979684,
          -1.1577153310653898,
          1.201798767024122,
          0.8139499812781749,
          1.3396399626499909,
          -1.592116875741009,
          -2.108999149725003,
          -2.414121441285468,
          -0.7517992912296336,
          -0.8814484376662446,
          -0.5636621543249383,
          -0.4462016022135572,
          0.7602270527510662,
          -0.7635312669667638,
          -0.6085341535104014,
          -0.6979145854428934,
          0.15270352881680677,
          1.5861404333668392,
          0.4413194748417777,
          1.1464296196046662,
          1.6860599838450785,
          -0.12920519816606357,
          -1.3166186524763952,
          0.9527123887974857,
          -0.0913130377024795,
          -1.2562092533438431,
          -1.4599948208670317,
          0.739600143985171,
          1.928522171471015,
          0.8604873721118755,
          0.5101454894231326,
          -2.0412817448349676,
          2.350622092982859,
          -1.2098096285286442,
          0.8793405535384373,
          -0.4127130171433395,
          -0.9510357246689423,
          -0.5833425292515129,
          2.874170539129894,
          0.6754534679651084,
          -0.43269432307745,
          0.6824671403544771,
          -0.13956406111167266,
          -1.2539511811434925,
          -0.9095655979851323,
          0.5131425131930456,
          0.2107268324859046,
          0.9793829033520347,
          0.05590920125049553,
          -1.4825906211123527,
          -0.7655955658418381,
          -0.9062150294307344,
          0.2713814492008699,
          0.4987962451208206,
          0.8724854785969101,
          0.04820180158157174,
          0.22901793866168949,
          -0.04264546586916472,
          0.9163280370522656,
          -0.010155961485463392,
          -0.9553359158941854,
          -1.0351518431931523,
          0.9471899254826112
         ],
         "y": [
          -0.4336314864429535,
          1.350667166094158,
          0.43598099590054984,
          0.6468173769915163,
          0.06159247962019822,
          -0.4718946721964237,
          -0.34718152548498954,
          -0.1352352933676623,
          1.772522237853382,
          1.7932238808421221,
          0.09877771175165724,
          0.0712299488526947,
          -0.04660842611345164,
          -0.695628193641317,
          -0.34583211824660304,
          -0.08662984595296318,
          0.13793492787300085,
          -1.4318303754898554,
          0.5873881902834827,
          -2.07325722004215,
          -1.1770281940962717,
          1.594615146278771,
          1.2776187822533687,
          0.47109117398969547,
          -1.246668759906434,
          -2.2847460611624406,
          -1.5826105556937269,
          -0.811269322851608,
          0.8799894577447486,
          0.06415012993297987,
          -0.7434972189767668,
          -0.9792866546376444,
          -0.933045546820726,
          -2.3622901656782385,
          0.5563119426536198,
          -0.19041549241342892,
          -0.16132840248423033,
          -0.7338722979209311,
          -0.3692777802581269,
          0.1305385223626437,
          -0.6402633231215187,
          1.7724921834749274,
          -1.2351448749489011,
          -0.5873659331128189,
          -0.16728748136882754,
          -0.5602703504822134,
          1.859960185240759,
          0.33740918515772517,
          0.918671162681654,
          -0.07101790267351826,
          0.015441559320083337,
          -1.2031017684144387,
          -0.3272063740238242,
          -0.0001744963858636876,
          0.3103076161179847,
          -0.199759215966244,
          0.05146279997451216,
          -0.18622636023755218,
          -0.8103233465962649,
          -1.9275858643732076,
          -1.1374975146503152,
          -0.41521538622971427,
          0.22719945800922248,
          0.36402755465690834,
          -0.4526090911338168,
          0.26012367576625334,
          -0.22989912094729592,
          0.5285726171745472,
          0.9953458174439949,
          -0.9857712026396995,
          0.5776873616421779,
          -0.7424122876243162,
          -0.5518931892115001,
          -1.5518844904682583,
          0.24099518333260084,
          0.6836961998302244,
          -1.2015323169619367,
          1.2802609934383806,
          1.438639661407647,
          -0.5851440701662644,
          0.4603398760447712,
          0.49137796754968743,
          -0.33395034853426303,
          -1.3694143337900495,
          0.7004766841926477,
          -0.02776944111056883,
          -1.7961432780630182,
          -0.04463245773876887,
          2.1231966212717746,
          -1.192852440208722,
          -1.0474681178086687,
          -0.7387115531544551,
          -0.5637437308033575,
          0.9980152157280872,
          1.5098614226254685,
          -0.5438344156823638,
          0.15937737582332315,
          -1.2195955310150488,
          1.0856990332088072,
          -0.542434730291181
         ]
        }
       ],
       "layout": {
        "legend": {
         "bgcolor": "#F5F6F9",
         "font": {
          "color": "#4D5663"
         }
        },
        "paper_bgcolor": "#F5F6F9",
        "plot_bgcolor": "#F5F6F9",
        "template": {
         "data": {
          "bar": [
           {
            "error_x": {
             "color": "#2a3f5f"
            },
            "error_y": {
             "color": "#2a3f5f"
            },
            "marker": {
             "line": {
              "color": "#E5ECF6",
              "width": 0.5
             },
             "pattern": {
              "fillmode": "overlay",
              "size": 10,
              "solidity": 0.2
             }
            },
            "type": "bar"
           }
          ],
          "barpolar": [
           {
            "marker": {
             "line": {
              "color": "#E5ECF6",
              "width": 0.5
             },
             "pattern": {
              "fillmode": "overlay",
              "size": 10,
              "solidity": 0.2
             }
            },
            "type": "barpolar"
           }
          ],
          "carpet": [
           {
            "aaxis": {
             "endlinecolor": "#2a3f5f",
             "gridcolor": "white",
             "linecolor": "white",
             "minorgridcolor": "white",
             "startlinecolor": "#2a3f5f"
            },
            "baxis": {
             "endlinecolor": "#2a3f5f",
             "gridcolor": "white",
             "linecolor": "white",
             "minorgridcolor": "white",
             "startlinecolor": "#2a3f5f"
            },
            "type": "carpet"
           }
          ],
          "choropleth": [
           {
            "colorbar": {
             "outlinewidth": 0,
             "ticks": ""
            },
            "type": "choropleth"
           }
          ],
          "contour": [
           {
            "colorbar": {
             "outlinewidth": 0,
             "ticks": ""
            },
            "colorscale": [
             [
              0,
              "#0d0887"
             ],
             [
              0.1111111111111111,
              "#46039f"
             ],
             [
              0.2222222222222222,
              "#7201a8"
             ],
             [
              0.3333333333333333,
              "#9c179e"
             ],
             [
              0.4444444444444444,
              "#bd3786"
             ],
             [
              0.5555555555555556,
              "#d8576b"
             ],
             [
              0.6666666666666666,
              "#ed7953"
             ],
             [
              0.7777777777777778,
              "#fb9f3a"
             ],
             [
              0.8888888888888888,
              "#fdca26"
             ],
             [
              1,
              "#f0f921"
             ]
            ],
            "type": "contour"
           }
          ],
          "contourcarpet": [
           {
            "colorbar": {
             "outlinewidth": 0,
             "ticks": ""
            },
            "type": "contourcarpet"
           }
          ],
          "heatmap": [
           {
            "colorbar": {
             "outlinewidth": 0,
             "ticks": ""
            },
            "colorscale": [
             [
              0,
              "#0d0887"
             ],
             [
              0.1111111111111111,
              "#46039f"
             ],
             [
              0.2222222222222222,
              "#7201a8"
             ],
             [
              0.3333333333333333,
              "#9c179e"
             ],
             [
              0.4444444444444444,
              "#bd3786"
             ],
             [
              0.5555555555555556,
              "#d8576b"
             ],
             [
              0.6666666666666666,
              "#ed7953"
             ],
             [
              0.7777777777777778,
              "#fb9f3a"
             ],
             [
              0.8888888888888888,
              "#fdca26"
             ],
             [
              1,
              "#f0f921"
             ]
            ],
            "type": "heatmap"
           }
          ],
          "heatmapgl": [
           {
            "colorbar": {
             "outlinewidth": 0,
             "ticks": ""
            },
            "colorscale": [
             [
              0,
              "#0d0887"
             ],
             [
              0.1111111111111111,
              "#46039f"
             ],
             [
              0.2222222222222222,
              "#7201a8"
             ],
             [
              0.3333333333333333,
              "#9c179e"
             ],
             [
              0.4444444444444444,
              "#bd3786"
             ],
             [
              0.5555555555555556,
              "#d8576b"
             ],
             [
              0.6666666666666666,
              "#ed7953"
             ],
             [
              0.7777777777777778,
              "#fb9f3a"
             ],
             [
              0.8888888888888888,
              "#fdca26"
             ],
             [
              1,
              "#f0f921"
             ]
            ],
            "type": "heatmapgl"
           }
          ],
          "histogram": [
           {
            "marker": {
             "pattern": {
              "fillmode": "overlay",
              "size": 10,
              "solidity": 0.2
             }
            },
            "type": "histogram"
           }
          ],
          "histogram2d": [
           {
            "colorbar": {
             "outlinewidth": 0,
             "ticks": ""
            },
            "colorscale": [
             [
              0,
              "#0d0887"
             ],
             [
              0.1111111111111111,
              "#46039f"
             ],
             [
              0.2222222222222222,
              "#7201a8"
             ],
             [
              0.3333333333333333,
              "#9c179e"
             ],
             [
              0.4444444444444444,
              "#bd3786"
             ],
             [
              0.5555555555555556,
              "#d8576b"
             ],
             [
              0.6666666666666666,
              "#ed7953"
             ],
             [
              0.7777777777777778,
              "#fb9f3a"
             ],
             [
              0.8888888888888888,
              "#fdca26"
             ],
             [
              1,
              "#f0f921"
             ]
            ],
            "type": "histogram2d"
           }
          ],
          "histogram2dcontour": [
           {
            "colorbar": {
             "outlinewidth": 0,
             "ticks": ""
            },
            "colorscale": [
             [
              0,
              "#0d0887"
             ],
             [
              0.1111111111111111,
              "#46039f"
             ],
             [
              0.2222222222222222,
              "#7201a8"
             ],
             [
              0.3333333333333333,
              "#9c179e"
             ],
             [
              0.4444444444444444,
              "#bd3786"
             ],
             [
              0.5555555555555556,
              "#d8576b"
             ],
             [
              0.6666666666666666,
              "#ed7953"
             ],
             [
              0.7777777777777778,
              "#fb9f3a"
             ],
             [
              0.8888888888888888,
              "#fdca26"
             ],
             [
              1,
              "#f0f921"
             ]
            ],
            "type": "histogram2dcontour"
           }
          ],
          "mesh3d": [
           {
            "colorbar": {
             "outlinewidth": 0,
             "ticks": ""
            },
            "type": "mesh3d"
           }
          ],
          "parcoords": [
           {
            "line": {
             "colorbar": {
              "outlinewidth": 0,
              "ticks": ""
             }
            },
            "type": "parcoords"
           }
          ],
          "pie": [
           {
            "automargin": true,
            "type": "pie"
           }
          ],
          "scatter": [
           {
            "fillpattern": {
             "fillmode": "overlay",
             "size": 10,
             "solidity": 0.2
            },
            "type": "scatter"
           }
          ],
          "scatter3d": [
           {
            "line": {
             "colorbar": {
              "outlinewidth": 0,
              "ticks": ""
             }
            },
            "marker": {
             "colorbar": {
              "outlinewidth": 0,
              "ticks": ""
             }
            },
            "type": "scatter3d"
           }
          ],
          "scattercarpet": [
           {
            "marker": {
             "colorbar": {
              "outlinewidth": 0,
              "ticks": ""
             }
            },
            "type": "scattercarpet"
           }
          ],
          "scattergeo": [
           {
            "marker": {
             "colorbar": {
              "outlinewidth": 0,
              "ticks": ""
             }
            },
            "type": "scattergeo"
           }
          ],
          "scattergl": [
           {
            "marker": {
             "colorbar": {
              "outlinewidth": 0,
              "ticks": ""
             }
            },
            "type": "scattergl"
           }
          ],
          "scattermapbox": [
           {
            "marker": {
             "colorbar": {
              "outlinewidth": 0,
              "ticks": ""
             }
            },
            "type": "scattermapbox"
           }
          ],
          "scatterpolar": [
           {
            "marker": {
             "colorbar": {
              "outlinewidth": 0,
              "ticks": ""
             }
            },
            "type": "scatterpolar"
           }
          ],
          "scatterpolargl": [
           {
            "marker": {
             "colorbar": {
              "outlinewidth": 0,
              "ticks": ""
             }
            },
            "type": "scatterpolargl"
           }
          ],
          "scatterternary": [
           {
            "marker": {
             "colorbar": {
              "outlinewidth": 0,
              "ticks": ""
             }
            },
            "type": "scatterternary"
           }
          ],
          "surface": [
           {
            "colorbar": {
             "outlinewidth": 0,
             "ticks": ""
            },
            "colorscale": [
             [
              0,
              "#0d0887"
             ],
             [
              0.1111111111111111,
              "#46039f"
             ],
             [
              0.2222222222222222,
              "#7201a8"
             ],
             [
              0.3333333333333333,
              "#9c179e"
             ],
             [
              0.4444444444444444,
              "#bd3786"
             ],
             [
              0.5555555555555556,
              "#d8576b"
             ],
             [
              0.6666666666666666,
              "#ed7953"
             ],
             [
              0.7777777777777778,
              "#fb9f3a"
             ],
             [
              0.8888888888888888,
              "#fdca26"
             ],
             [
              1,
              "#f0f921"
             ]
            ],
            "type": "surface"
           }
          ],
          "table": [
           {
            "cells": {
             "fill": {
              "color": "#EBF0F8"
             },
             "line": {
              "color": "white"
             }
            },
            "header": {
             "fill": {
              "color": "#C8D4E3"
             },
             "line": {
              "color": "white"
             }
            },
            "type": "table"
           }
          ]
         },
         "layout": {
          "annotationdefaults": {
           "arrowcolor": "#2a3f5f",
           "arrowhead": 0,
           "arrowwidth": 1
          },
          "autotypenumbers": "strict",
          "coloraxis": {
           "colorbar": {
            "outlinewidth": 0,
            "ticks": ""
           }
          },
          "colorscale": {
           "diverging": [
            [
             0,
             "#8e0152"
            ],
            [
             0.1,
             "#c51b7d"
            ],
            [
             0.2,
             "#de77ae"
            ],
            [
             0.3,
             "#f1b6da"
            ],
            [
             0.4,
             "#fde0ef"
            ],
            [
             0.5,
             "#f7f7f7"
            ],
            [
             0.6,
             "#e6f5d0"
            ],
            [
             0.7,
             "#b8e186"
            ],
            [
             0.8,
             "#7fbc41"
            ],
            [
             0.9,
             "#4d9221"
            ],
            [
             1,
             "#276419"
            ]
           ],
           "sequential": [
            [
             0,
             "#0d0887"
            ],
            [
             0.1111111111111111,
             "#46039f"
            ],
            [
             0.2222222222222222,
             "#7201a8"
            ],
            [
             0.3333333333333333,
             "#9c179e"
            ],
            [
             0.4444444444444444,
             "#bd3786"
            ],
            [
             0.5555555555555556,
             "#d8576b"
            ],
            [
             0.6666666666666666,
             "#ed7953"
            ],
            [
             0.7777777777777778,
             "#fb9f3a"
            ],
            [
             0.8888888888888888,
             "#fdca26"
            ],
            [
             1,
             "#f0f921"
            ]
           ],
           "sequentialminus": [
            [
             0,
             "#0d0887"
            ],
            [
             0.1111111111111111,
             "#46039f"
            ],
            [
             0.2222222222222222,
             "#7201a8"
            ],
            [
             0.3333333333333333,
             "#9c179e"
            ],
            [
             0.4444444444444444,
             "#bd3786"
            ],
            [
             0.5555555555555556,
             "#d8576b"
            ],
            [
             0.6666666666666666,
             "#ed7953"
            ],
            [
             0.7777777777777778,
             "#fb9f3a"
            ],
            [
             0.8888888888888888,
             "#fdca26"
            ],
            [
             1,
             "#f0f921"
            ]
           ]
          },
          "colorway": [
           "#636efa",
           "#EF553B",
           "#00cc96",
           "#ab63fa",
           "#FFA15A",
           "#19d3f3",
           "#FF6692",
           "#B6E880",
           "#FF97FF",
           "#FECB52"
          ],
          "font": {
           "color": "#2a3f5f"
          },
          "geo": {
           "bgcolor": "white",
           "lakecolor": "white",
           "landcolor": "#E5ECF6",
           "showlakes": true,
           "showland": true,
           "subunitcolor": "white"
          },
          "hoverlabel": {
           "align": "left"
          },
          "hovermode": "closest",
          "mapbox": {
           "style": "light"
          },
          "paper_bgcolor": "white",
          "plot_bgcolor": "#E5ECF6",
          "polar": {
           "angularaxis": {
            "gridcolor": "white",
            "linecolor": "white",
            "ticks": ""
           },
           "bgcolor": "#E5ECF6",
           "radialaxis": {
            "gridcolor": "white",
            "linecolor": "white",
            "ticks": ""
           }
          },
          "scene": {
           "xaxis": {
            "backgroundcolor": "#E5ECF6",
            "gridcolor": "white",
            "gridwidth": 2,
            "linecolor": "white",
            "showbackground": true,
            "ticks": "",
            "zerolinecolor": "white"
           },
           "yaxis": {
            "backgroundcolor": "#E5ECF6",
            "gridcolor": "white",
            "gridwidth": 2,
            "linecolor": "white",
            "showbackground": true,
            "ticks": "",
            "zerolinecolor": "white"
           },
           "zaxis": {
            "backgroundcolor": "#E5ECF6",
            "gridcolor": "white",
            "gridwidth": 2,
            "linecolor": "white",
            "showbackground": true,
            "ticks": "",
            "zerolinecolor": "white"
           }
          },
          "shapedefaults": {
           "line": {
            "color": "#2a3f5f"
           }
          },
          "ternary": {
           "aaxis": {
            "gridcolor": "white",
            "linecolor": "white",
            "ticks": ""
           },
           "baxis": {
            "gridcolor": "white",
            "linecolor": "white",
            "ticks": ""
           },
           "bgcolor": "#E5ECF6",
           "caxis": {
            "gridcolor": "white",
            "linecolor": "white",
            "ticks": ""
           }
          },
          "title": {
           "x": 0.05
          },
          "xaxis": {
           "automargin": true,
           "gridcolor": "white",
           "linecolor": "white",
           "ticks": "",
           "title": {
            "standoff": 15
           },
           "zerolinecolor": "white",
           "zerolinewidth": 2
          },
          "yaxis": {
           "automargin": true,
           "gridcolor": "white",
           "linecolor": "white",
           "ticks": "",
           "title": {
            "standoff": 15
           },
           "zerolinecolor": "white",
           "zerolinewidth": 2
          }
         }
        },
        "title": {
         "font": {
          "color": "#4D5663"
         }
        },
        "xaxis": {
         "gridcolor": "#E1E5ED",
         "showgrid": true,
         "tickfont": {
          "color": "#4D5663"
         },
         "title": {
          "font": {
           "color": "#4D5663"
          },
          "text": ""
         },
         "zerolinecolor": "#E1E5ED"
        },
        "yaxis": {
         "gridcolor": "#E1E5ED",
         "showgrid": true,
         "tickfont": {
          "color": "#4D5663"
         },
         "title": {
          "font": {
           "color": "#4D5663"
          },
          "text": ""
         },
         "zerolinecolor": "#E1E5ED"
        }
       }
      },
      "text/html": [
       "<div>                            <div id=\"ee4974b1-5afc-4755-ab11-ad2e8fd2ed12\" class=\"plotly-graph-div\" style=\"height:525px; width:100%;\"></div>            <script type=\"text/javascript\">                require([\"plotly\"], function(Plotly) {                    window.PLOTLYENV=window.PLOTLYENV || {};\n",
       "                    window.PLOTLYENV.BASE_URL='https://plot.ly';                                    if (document.getElementById(\"ee4974b1-5afc-4755-ab11-ad2e8fd2ed12\")) {                    Plotly.newPlot(                        \"ee4974b1-5afc-4755-ab11-ad2e8fd2ed12\",                        [{\"line\":{\"color\":\"rgba(255, 153, 51, 1.0)\",\"dash\":\"solid\",\"shape\":\"linear\",\"width\":1.3},\"marker\":{\"size\":12,\"symbol\":\"circle\"},\"mode\":\"markers\",\"name\":\"B\",\"text\":\"\",\"x\":[-2.0174340036144773,-0.2982885142503483,-1.1060293398574745,0.47380475815506795,-0.24287698992496476,-1.045477160349408,-1.372571283799824,-0.3708294395405194,0.9296363357643138,1.07539941494939,-0.48860213936065083,0.38462255572792503,0.7316391969826207,0.7056188238429781,0.2272970973273527,1.8973560994467056,-0.08814752662473867,2.853141208328112,1.2606744935729695,-0.19541503270171148,0.33884117599906605,-1.1823804269843323,-0.35818646632962386,-2.1896961807689883,0.4666612471354609,-0.7195595896962929,-1.1022342579753548,-0.4260373014973277,-2.03985628441693,-0.3922675703969572,-0.6393197479525362,1.5070292397184635,1.5427741705080689,-0.36811080320580436,0.7907860507217243,-1.053702929569162,-1.5682815210700976,-1.6899427972979684,-1.1577153310653898,1.201798767024122,0.8139499812781749,1.3396399626499909,-1.592116875741009,-2.108999149725003,-2.414121441285468,-0.7517992912296336,-0.8814484376662446,-0.5636621543249383,-0.4462016022135572,0.7602270527510662,-0.7635312669667638,-0.6085341535104014,-0.6979145854428934,0.15270352881680677,1.5861404333668392,0.4413194748417777,1.1464296196046662,1.6860599838450785,-0.12920519816606357,-1.3166186524763952,0.9527123887974857,-0.0913130377024795,-1.2562092533438431,-1.4599948208670317,0.739600143985171,1.928522171471015,0.8604873721118755,0.5101454894231326,-2.0412817448349676,2.350622092982859,-1.2098096285286442,0.8793405535384373,-0.4127130171433395,-0.9510357246689423,-0.5833425292515129,2.874170539129894,0.6754534679651084,-0.43269432307745,0.6824671403544771,-0.13956406111167266,-1.2539511811434925,-0.9095655979851323,0.5131425131930456,0.2107268324859046,0.9793829033520347,0.05590920125049553,-1.4825906211123527,-0.7655955658418381,-0.9062150294307344,0.2713814492008699,0.4987962451208206,0.8724854785969101,0.04820180158157174,0.22901793866168949,-0.04264546586916472,0.9163280370522656,-0.010155961485463392,-0.9553359158941854,-1.0351518431931523,0.9471899254826112],\"y\":[-0.4336314864429535,1.350667166094158,0.43598099590054984,0.6468173769915163,0.06159247962019822,-0.4718946721964237,-0.34718152548498954,-0.1352352933676623,1.772522237853382,1.7932238808421221,0.09877771175165724,0.0712299488526947,-0.04660842611345164,-0.695628193641317,-0.34583211824660304,-0.08662984595296318,0.13793492787300085,-1.4318303754898554,0.5873881902834827,-2.07325722004215,-1.1770281940962717,1.594615146278771,1.2776187822533687,0.47109117398969547,-1.246668759906434,-2.2847460611624406,-1.5826105556937269,-0.811269322851608,0.8799894577447486,0.06415012993297987,-0.7434972189767668,-0.9792866546376444,-0.933045546820726,-2.3622901656782385,0.5563119426536198,-0.19041549241342892,-0.16132840248423033,-0.7338722979209311,-0.3692777802581269,0.1305385223626437,-0.6402633231215187,1.7724921834749274,-1.2351448749489011,-0.5873659331128189,-0.16728748136882754,-0.5602703504822134,1.859960185240759,0.33740918515772517,0.918671162681654,-0.07101790267351826,0.015441559320083337,-1.2031017684144387,-0.3272063740238242,-0.0001744963858636876,0.3103076161179847,-0.199759215966244,0.05146279997451216,-0.18622636023755218,-0.8103233465962649,-1.9275858643732076,-1.1374975146503152,-0.41521538622971427,0.22719945800922248,0.36402755465690834,-0.4526090911338168,0.26012367576625334,-0.22989912094729592,0.5285726171745472,0.9953458174439949,-0.9857712026396995,0.5776873616421779,-0.7424122876243162,-0.5518931892115001,-1.5518844904682583,0.24099518333260084,0.6836961998302244,-1.2015323169619367,1.2802609934383806,1.438639661407647,-0.5851440701662644,0.4603398760447712,0.49137796754968743,-0.33395034853426303,-1.3694143337900495,0.7004766841926477,-0.02776944111056883,-1.7961432780630182,-0.04463245773876887,2.1231966212717746,-1.192852440208722,-1.0474681178086687,-0.7387115531544551,-0.5637437308033575,0.9980152157280872,1.5098614226254685,-0.5438344156823638,0.15937737582332315,-1.2195955310150488,1.0856990332088072,-0.542434730291181],\"type\":\"scatter\"}],                        {\"legend\":{\"bgcolor\":\"#F5F6F9\",\"font\":{\"color\":\"#4D5663\"}},\"paper_bgcolor\":\"#F5F6F9\",\"plot_bgcolor\":\"#F5F6F9\",\"template\":{\"data\":{\"barpolar\":[{\"marker\":{\"line\":{\"color\":\"#E5ECF6\",\"width\":0.5},\"pattern\":{\"fillmode\":\"overlay\",\"size\":10,\"solidity\":0.2}},\"type\":\"barpolar\"}],\"bar\":[{\"error_x\":{\"color\":\"#2a3f5f\"},\"error_y\":{\"color\":\"#2a3f5f\"},\"marker\":{\"line\":{\"color\":\"#E5ECF6\",\"width\":0.5},\"pattern\":{\"fillmode\":\"overlay\",\"size\":10,\"solidity\":0.2}},\"type\":\"bar\"}],\"carpet\":[{\"aaxis\":{\"endlinecolor\":\"#2a3f5f\",\"gridcolor\":\"white\",\"linecolor\":\"white\",\"minorgridcolor\":\"white\",\"startlinecolor\":\"#2a3f5f\"},\"baxis\":{\"endlinecolor\":\"#2a3f5f\",\"gridcolor\":\"white\",\"linecolor\":\"white\",\"minorgridcolor\":\"white\",\"startlinecolor\":\"#2a3f5f\"},\"type\":\"carpet\"}],\"choropleth\":[{\"colorbar\":{\"outlinewidth\":0,\"ticks\":\"\"},\"type\":\"choropleth\"}],\"contourcarpet\":[{\"colorbar\":{\"outlinewidth\":0,\"ticks\":\"\"},\"type\":\"contourcarpet\"}],\"contour\":[{\"colorbar\":{\"outlinewidth\":0,\"ticks\":\"\"},\"colorscale\":[[0.0,\"#0d0887\"],[0.1111111111111111,\"#46039f\"],[0.2222222222222222,\"#7201a8\"],[0.3333333333333333,\"#9c179e\"],[0.4444444444444444,\"#bd3786\"],[0.5555555555555556,\"#d8576b\"],[0.6666666666666666,\"#ed7953\"],[0.7777777777777778,\"#fb9f3a\"],[0.8888888888888888,\"#fdca26\"],[1.0,\"#f0f921\"]],\"type\":\"contour\"}],\"heatmapgl\":[{\"colorbar\":{\"outlinewidth\":0,\"ticks\":\"\"},\"colorscale\":[[0.0,\"#0d0887\"],[0.1111111111111111,\"#46039f\"],[0.2222222222222222,\"#7201a8\"],[0.3333333333333333,\"#9c179e\"],[0.4444444444444444,\"#bd3786\"],[0.5555555555555556,\"#d8576b\"],[0.6666666666666666,\"#ed7953\"],[0.7777777777777778,\"#fb9f3a\"],[0.8888888888888888,\"#fdca26\"],[1.0,\"#f0f921\"]],\"type\":\"heatmapgl\"}],\"heatmap\":[{\"colorbar\":{\"outlinewidth\":0,\"ticks\":\"\"},\"colorscale\":[[0.0,\"#0d0887\"],[0.1111111111111111,\"#46039f\"],[0.2222222222222222,\"#7201a8\"],[0.3333333333333333,\"#9c179e\"],[0.4444444444444444,\"#bd3786\"],[0.5555555555555556,\"#d8576b\"],[0.6666666666666666,\"#ed7953\"],[0.7777777777777778,\"#fb9f3a\"],[0.8888888888888888,\"#fdca26\"],[1.0,\"#f0f921\"]],\"type\":\"heatmap\"}],\"histogram2dcontour\":[{\"colorbar\":{\"outlinewidth\":0,\"ticks\":\"\"},\"colorscale\":[[0.0,\"#0d0887\"],[0.1111111111111111,\"#46039f\"],[0.2222222222222222,\"#7201a8\"],[0.3333333333333333,\"#9c179e\"],[0.4444444444444444,\"#bd3786\"],[0.5555555555555556,\"#d8576b\"],[0.6666666666666666,\"#ed7953\"],[0.7777777777777778,\"#fb9f3a\"],[0.8888888888888888,\"#fdca26\"],[1.0,\"#f0f921\"]],\"type\":\"histogram2dcontour\"}],\"histogram2d\":[{\"colorbar\":{\"outlinewidth\":0,\"ticks\":\"\"},\"colorscale\":[[0.0,\"#0d0887\"],[0.1111111111111111,\"#46039f\"],[0.2222222222222222,\"#7201a8\"],[0.3333333333333333,\"#9c179e\"],[0.4444444444444444,\"#bd3786\"],[0.5555555555555556,\"#d8576b\"],[0.6666666666666666,\"#ed7953\"],[0.7777777777777778,\"#fb9f3a\"],[0.8888888888888888,\"#fdca26\"],[1.0,\"#f0f921\"]],\"type\":\"histogram2d\"}],\"histogram\":[{\"marker\":{\"pattern\":{\"fillmode\":\"overlay\",\"size\":10,\"solidity\":0.2}},\"type\":\"histogram\"}],\"mesh3d\":[{\"colorbar\":{\"outlinewidth\":0,\"ticks\":\"\"},\"type\":\"mesh3d\"}],\"parcoords\":[{\"line\":{\"colorbar\":{\"outlinewidth\":0,\"ticks\":\"\"}},\"type\":\"parcoords\"}],\"pie\":[{\"automargin\":true,\"type\":\"pie\"}],\"scatter3d\":[{\"line\":{\"colorbar\":{\"outlinewidth\":0,\"ticks\":\"\"}},\"marker\":{\"colorbar\":{\"outlinewidth\":0,\"ticks\":\"\"}},\"type\":\"scatter3d\"}],\"scattercarpet\":[{\"marker\":{\"colorbar\":{\"outlinewidth\":0,\"ticks\":\"\"}},\"type\":\"scattercarpet\"}],\"scattergeo\":[{\"marker\":{\"colorbar\":{\"outlinewidth\":0,\"ticks\":\"\"}},\"type\":\"scattergeo\"}],\"scattergl\":[{\"marker\":{\"colorbar\":{\"outlinewidth\":0,\"ticks\":\"\"}},\"type\":\"scattergl\"}],\"scattermapbox\":[{\"marker\":{\"colorbar\":{\"outlinewidth\":0,\"ticks\":\"\"}},\"type\":\"scattermapbox\"}],\"scatterpolargl\":[{\"marker\":{\"colorbar\":{\"outlinewidth\":0,\"ticks\":\"\"}},\"type\":\"scatterpolargl\"}],\"scatterpolar\":[{\"marker\":{\"colorbar\":{\"outlinewidth\":0,\"ticks\":\"\"}},\"type\":\"scatterpolar\"}],\"scatter\":[{\"fillpattern\":{\"fillmode\":\"overlay\",\"size\":10,\"solidity\":0.2},\"type\":\"scatter\"}],\"scatterternary\":[{\"marker\":{\"colorbar\":{\"outlinewidth\":0,\"ticks\":\"\"}},\"type\":\"scatterternary\"}],\"surface\":[{\"colorbar\":{\"outlinewidth\":0,\"ticks\":\"\"},\"colorscale\":[[0.0,\"#0d0887\"],[0.1111111111111111,\"#46039f\"],[0.2222222222222222,\"#7201a8\"],[0.3333333333333333,\"#9c179e\"],[0.4444444444444444,\"#bd3786\"],[0.5555555555555556,\"#d8576b\"],[0.6666666666666666,\"#ed7953\"],[0.7777777777777778,\"#fb9f3a\"],[0.8888888888888888,\"#fdca26\"],[1.0,\"#f0f921\"]],\"type\":\"surface\"}],\"table\":[{\"cells\":{\"fill\":{\"color\":\"#EBF0F8\"},\"line\":{\"color\":\"white\"}},\"header\":{\"fill\":{\"color\":\"#C8D4E3\"},\"line\":{\"color\":\"white\"}},\"type\":\"table\"}]},\"layout\":{\"annotationdefaults\":{\"arrowcolor\":\"#2a3f5f\",\"arrowhead\":0,\"arrowwidth\":1},\"autotypenumbers\":\"strict\",\"coloraxis\":{\"colorbar\":{\"outlinewidth\":0,\"ticks\":\"\"}},\"colorscale\":{\"diverging\":[[0,\"#8e0152\"],[0.1,\"#c51b7d\"],[0.2,\"#de77ae\"],[0.3,\"#f1b6da\"],[0.4,\"#fde0ef\"],[0.5,\"#f7f7f7\"],[0.6,\"#e6f5d0\"],[0.7,\"#b8e186\"],[0.8,\"#7fbc41\"],[0.9,\"#4d9221\"],[1,\"#276419\"]],\"sequential\":[[0.0,\"#0d0887\"],[0.1111111111111111,\"#46039f\"],[0.2222222222222222,\"#7201a8\"],[0.3333333333333333,\"#9c179e\"],[0.4444444444444444,\"#bd3786\"],[0.5555555555555556,\"#d8576b\"],[0.6666666666666666,\"#ed7953\"],[0.7777777777777778,\"#fb9f3a\"],[0.8888888888888888,\"#fdca26\"],[1.0,\"#f0f921\"]],\"sequentialminus\":[[0.0,\"#0d0887\"],[0.1111111111111111,\"#46039f\"],[0.2222222222222222,\"#7201a8\"],[0.3333333333333333,\"#9c179e\"],[0.4444444444444444,\"#bd3786\"],[0.5555555555555556,\"#d8576b\"],[0.6666666666666666,\"#ed7953\"],[0.7777777777777778,\"#fb9f3a\"],[0.8888888888888888,\"#fdca26\"],[1.0,\"#f0f921\"]]},\"colorway\":[\"#636efa\",\"#EF553B\",\"#00cc96\",\"#ab63fa\",\"#FFA15A\",\"#19d3f3\",\"#FF6692\",\"#B6E880\",\"#FF97FF\",\"#FECB52\"],\"font\":{\"color\":\"#2a3f5f\"},\"geo\":{\"bgcolor\":\"white\",\"lakecolor\":\"white\",\"landcolor\":\"#E5ECF6\",\"showlakes\":true,\"showland\":true,\"subunitcolor\":\"white\"},\"hoverlabel\":{\"align\":\"left\"},\"hovermode\":\"closest\",\"mapbox\":{\"style\":\"light\"},\"paper_bgcolor\":\"white\",\"plot_bgcolor\":\"#E5ECF6\",\"polar\":{\"angularaxis\":{\"gridcolor\":\"white\",\"linecolor\":\"white\",\"ticks\":\"\"},\"bgcolor\":\"#E5ECF6\",\"radialaxis\":{\"gridcolor\":\"white\",\"linecolor\":\"white\",\"ticks\":\"\"}},\"scene\":{\"xaxis\":{\"backgroundcolor\":\"#E5ECF6\",\"gridcolor\":\"white\",\"gridwidth\":2,\"linecolor\":\"white\",\"showbackground\":true,\"ticks\":\"\",\"zerolinecolor\":\"white\"},\"yaxis\":{\"backgroundcolor\":\"#E5ECF6\",\"gridcolor\":\"white\",\"gridwidth\":2,\"linecolor\":\"white\",\"showbackground\":true,\"ticks\":\"\",\"zerolinecolor\":\"white\"},\"zaxis\":{\"backgroundcolor\":\"#E5ECF6\",\"gridcolor\":\"white\",\"gridwidth\":2,\"linecolor\":\"white\",\"showbackground\":true,\"ticks\":\"\",\"zerolinecolor\":\"white\"}},\"shapedefaults\":{\"line\":{\"color\":\"#2a3f5f\"}},\"ternary\":{\"aaxis\":{\"gridcolor\":\"white\",\"linecolor\":\"white\",\"ticks\":\"\"},\"baxis\":{\"gridcolor\":\"white\",\"linecolor\":\"white\",\"ticks\":\"\"},\"bgcolor\":\"#E5ECF6\",\"caxis\":{\"gridcolor\":\"white\",\"linecolor\":\"white\",\"ticks\":\"\"}},\"title\":{\"x\":0.05},\"xaxis\":{\"automargin\":true,\"gridcolor\":\"white\",\"linecolor\":\"white\",\"ticks\":\"\",\"title\":{\"standoff\":15},\"zerolinecolor\":\"white\",\"zerolinewidth\":2},\"yaxis\":{\"automargin\":true,\"gridcolor\":\"white\",\"linecolor\":\"white\",\"ticks\":\"\",\"title\":{\"standoff\":15},\"zerolinecolor\":\"white\",\"zerolinewidth\":2}}},\"title\":{\"font\":{\"color\":\"#4D5663\"}},\"xaxis\":{\"gridcolor\":\"#E1E5ED\",\"showgrid\":true,\"tickfont\":{\"color\":\"#4D5663\"},\"title\":{\"font\":{\"color\":\"#4D5663\"},\"text\":\"\"},\"zerolinecolor\":\"#E1E5ED\"},\"yaxis\":{\"gridcolor\":\"#E1E5ED\",\"showgrid\":true,\"tickfont\":{\"color\":\"#4D5663\"},\"title\":{\"font\":{\"color\":\"#4D5663\"},\"text\":\"\"},\"zerolinecolor\":\"#E1E5ED\"}},                        {\"showLink\": true, \"linkText\": \"Export to plot.ly\", \"plotlyServerURL\": \"https://plot.ly\", \"responsive\": true}                    ).then(function(){\n",
       "                            \n",
       "var gd = document.getElementById('ee4974b1-5afc-4755-ab11-ad2e8fd2ed12');\n",
       "var x = new MutationObserver(function (mutations, observer) {{\n",
       "        var display = window.getComputedStyle(gd).display;\n",
       "        if (!display || display === 'none') {{\n",
       "            console.log([gd, 'removed!']);\n",
       "            Plotly.purge(gd);\n",
       "            observer.disconnect();\n",
       "        }}\n",
       "}});\n",
       "\n",
       "// Listen for the removal of the full notebook cells\n",
       "var notebookContainer = gd.closest('#notebook-container');\n",
       "if (notebookContainer) {{\n",
       "    x.observe(notebookContainer, {childList: true});\n",
       "}}\n",
       "\n",
       "// Listen for the clearing of the current output cell\n",
       "var outputEl = gd.closest('.output');\n",
       "if (outputEl) {{\n",
       "    x.observe(outputEl, {childList: true});\n",
       "}}\n",
       "\n",
       "                        })                };                });            </script>        </div>"
      ]
     },
     "metadata": {},
     "output_type": "display_data"
    }
   ],
   "source": [
    "df.iplot(kind='scatter',x='A',y='B',mode='markers') #scatter plot"
   ]
  },
  {
   "cell_type": "code",
   "execution_count": 13,
   "id": "5e4e64e6",
   "metadata": {},
   "outputs": [
    {
     "data": {
      "application/vnd.plotly.v1+json": {
       "config": {
        "linkText": "Export to plot.ly",
        "plotlyServerURL": "https://plot.ly",
        "showLink": true
       },
       "data": [
        {
         "marker": {
          "color": "rgba(255, 153, 51, 0.6)",
          "line": {
           "color": "rgba(255, 153, 51, 1.0)",
           "width": 1
          }
         },
         "name": "Values",
         "orientation": "v",
         "text": "",
         "type": "bar",
         "x": [
          "A",
          "B",
          "C"
         ],
         "y": [
          32,
          43,
          50
         ]
        }
       ],
       "layout": {
        "legend": {
         "bgcolor": "#F5F6F9",
         "font": {
          "color": "#4D5663"
         }
        },
        "paper_bgcolor": "#F5F6F9",
        "plot_bgcolor": "#F5F6F9",
        "template": {
         "data": {
          "bar": [
           {
            "error_x": {
             "color": "#2a3f5f"
            },
            "error_y": {
             "color": "#2a3f5f"
            },
            "marker": {
             "line": {
              "color": "#E5ECF6",
              "width": 0.5
             },
             "pattern": {
              "fillmode": "overlay",
              "size": 10,
              "solidity": 0.2
             }
            },
            "type": "bar"
           }
          ],
          "barpolar": [
           {
            "marker": {
             "line": {
              "color": "#E5ECF6",
              "width": 0.5
             },
             "pattern": {
              "fillmode": "overlay",
              "size": 10,
              "solidity": 0.2
             }
            },
            "type": "barpolar"
           }
          ],
          "carpet": [
           {
            "aaxis": {
             "endlinecolor": "#2a3f5f",
             "gridcolor": "white",
             "linecolor": "white",
             "minorgridcolor": "white",
             "startlinecolor": "#2a3f5f"
            },
            "baxis": {
             "endlinecolor": "#2a3f5f",
             "gridcolor": "white",
             "linecolor": "white",
             "minorgridcolor": "white",
             "startlinecolor": "#2a3f5f"
            },
            "type": "carpet"
           }
          ],
          "choropleth": [
           {
            "colorbar": {
             "outlinewidth": 0,
             "ticks": ""
            },
            "type": "choropleth"
           }
          ],
          "contour": [
           {
            "colorbar": {
             "outlinewidth": 0,
             "ticks": ""
            },
            "colorscale": [
             [
              0,
              "#0d0887"
             ],
             [
              0.1111111111111111,
              "#46039f"
             ],
             [
              0.2222222222222222,
              "#7201a8"
             ],
             [
              0.3333333333333333,
              "#9c179e"
             ],
             [
              0.4444444444444444,
              "#bd3786"
             ],
             [
              0.5555555555555556,
              "#d8576b"
             ],
             [
              0.6666666666666666,
              "#ed7953"
             ],
             [
              0.7777777777777778,
              "#fb9f3a"
             ],
             [
              0.8888888888888888,
              "#fdca26"
             ],
             [
              1,
              "#f0f921"
             ]
            ],
            "type": "contour"
           }
          ],
          "contourcarpet": [
           {
            "colorbar": {
             "outlinewidth": 0,
             "ticks": ""
            },
            "type": "contourcarpet"
           }
          ],
          "heatmap": [
           {
            "colorbar": {
             "outlinewidth": 0,
             "ticks": ""
            },
            "colorscale": [
             [
              0,
              "#0d0887"
             ],
             [
              0.1111111111111111,
              "#46039f"
             ],
             [
              0.2222222222222222,
              "#7201a8"
             ],
             [
              0.3333333333333333,
              "#9c179e"
             ],
             [
              0.4444444444444444,
              "#bd3786"
             ],
             [
              0.5555555555555556,
              "#d8576b"
             ],
             [
              0.6666666666666666,
              "#ed7953"
             ],
             [
              0.7777777777777778,
              "#fb9f3a"
             ],
             [
              0.8888888888888888,
              "#fdca26"
             ],
             [
              1,
              "#f0f921"
             ]
            ],
            "type": "heatmap"
           }
          ],
          "heatmapgl": [
           {
            "colorbar": {
             "outlinewidth": 0,
             "ticks": ""
            },
            "colorscale": [
             [
              0,
              "#0d0887"
             ],
             [
              0.1111111111111111,
              "#46039f"
             ],
             [
              0.2222222222222222,
              "#7201a8"
             ],
             [
              0.3333333333333333,
              "#9c179e"
             ],
             [
              0.4444444444444444,
              "#bd3786"
             ],
             [
              0.5555555555555556,
              "#d8576b"
             ],
             [
              0.6666666666666666,
              "#ed7953"
             ],
             [
              0.7777777777777778,
              "#fb9f3a"
             ],
             [
              0.8888888888888888,
              "#fdca26"
             ],
             [
              1,
              "#f0f921"
             ]
            ],
            "type": "heatmapgl"
           }
          ],
          "histogram": [
           {
            "marker": {
             "pattern": {
              "fillmode": "overlay",
              "size": 10,
              "solidity": 0.2
             }
            },
            "type": "histogram"
           }
          ],
          "histogram2d": [
           {
            "colorbar": {
             "outlinewidth": 0,
             "ticks": ""
            },
            "colorscale": [
             [
              0,
              "#0d0887"
             ],
             [
              0.1111111111111111,
              "#46039f"
             ],
             [
              0.2222222222222222,
              "#7201a8"
             ],
             [
              0.3333333333333333,
              "#9c179e"
             ],
             [
              0.4444444444444444,
              "#bd3786"
             ],
             [
              0.5555555555555556,
              "#d8576b"
             ],
             [
              0.6666666666666666,
              "#ed7953"
             ],
             [
              0.7777777777777778,
              "#fb9f3a"
             ],
             [
              0.8888888888888888,
              "#fdca26"
             ],
             [
              1,
              "#f0f921"
             ]
            ],
            "type": "histogram2d"
           }
          ],
          "histogram2dcontour": [
           {
            "colorbar": {
             "outlinewidth": 0,
             "ticks": ""
            },
            "colorscale": [
             [
              0,
              "#0d0887"
             ],
             [
              0.1111111111111111,
              "#46039f"
             ],
             [
              0.2222222222222222,
              "#7201a8"
             ],
             [
              0.3333333333333333,
              "#9c179e"
             ],
             [
              0.4444444444444444,
              "#bd3786"
             ],
             [
              0.5555555555555556,
              "#d8576b"
             ],
             [
              0.6666666666666666,
              "#ed7953"
             ],
             [
              0.7777777777777778,
              "#fb9f3a"
             ],
             [
              0.8888888888888888,
              "#fdca26"
             ],
             [
              1,
              "#f0f921"
             ]
            ],
            "type": "histogram2dcontour"
           }
          ],
          "mesh3d": [
           {
            "colorbar": {
             "outlinewidth": 0,
             "ticks": ""
            },
            "type": "mesh3d"
           }
          ],
          "parcoords": [
           {
            "line": {
             "colorbar": {
              "outlinewidth": 0,
              "ticks": ""
             }
            },
            "type": "parcoords"
           }
          ],
          "pie": [
           {
            "automargin": true,
            "type": "pie"
           }
          ],
          "scatter": [
           {
            "fillpattern": {
             "fillmode": "overlay",
             "size": 10,
             "solidity": 0.2
            },
            "type": "scatter"
           }
          ],
          "scatter3d": [
           {
            "line": {
             "colorbar": {
              "outlinewidth": 0,
              "ticks": ""
             }
            },
            "marker": {
             "colorbar": {
              "outlinewidth": 0,
              "ticks": ""
             }
            },
            "type": "scatter3d"
           }
          ],
          "scattercarpet": [
           {
            "marker": {
             "colorbar": {
              "outlinewidth": 0,
              "ticks": ""
             }
            },
            "type": "scattercarpet"
           }
          ],
          "scattergeo": [
           {
            "marker": {
             "colorbar": {
              "outlinewidth": 0,
              "ticks": ""
             }
            },
            "type": "scattergeo"
           }
          ],
          "scattergl": [
           {
            "marker": {
             "colorbar": {
              "outlinewidth": 0,
              "ticks": ""
             }
            },
            "type": "scattergl"
           }
          ],
          "scattermapbox": [
           {
            "marker": {
             "colorbar": {
              "outlinewidth": 0,
              "ticks": ""
             }
            },
            "type": "scattermapbox"
           }
          ],
          "scatterpolar": [
           {
            "marker": {
             "colorbar": {
              "outlinewidth": 0,
              "ticks": ""
             }
            },
            "type": "scatterpolar"
           }
          ],
          "scatterpolargl": [
           {
            "marker": {
             "colorbar": {
              "outlinewidth": 0,
              "ticks": ""
             }
            },
            "type": "scatterpolargl"
           }
          ],
          "scatterternary": [
           {
            "marker": {
             "colorbar": {
              "outlinewidth": 0,
              "ticks": ""
             }
            },
            "type": "scatterternary"
           }
          ],
          "surface": [
           {
            "colorbar": {
             "outlinewidth": 0,
             "ticks": ""
            },
            "colorscale": [
             [
              0,
              "#0d0887"
             ],
             [
              0.1111111111111111,
              "#46039f"
             ],
             [
              0.2222222222222222,
              "#7201a8"
             ],
             [
              0.3333333333333333,
              "#9c179e"
             ],
             [
              0.4444444444444444,
              "#bd3786"
             ],
             [
              0.5555555555555556,
              "#d8576b"
             ],
             [
              0.6666666666666666,
              "#ed7953"
             ],
             [
              0.7777777777777778,
              "#fb9f3a"
             ],
             [
              0.8888888888888888,
              "#fdca26"
             ],
             [
              1,
              "#f0f921"
             ]
            ],
            "type": "surface"
           }
          ],
          "table": [
           {
            "cells": {
             "fill": {
              "color": "#EBF0F8"
             },
             "line": {
              "color": "white"
             }
            },
            "header": {
             "fill": {
              "color": "#C8D4E3"
             },
             "line": {
              "color": "white"
             }
            },
            "type": "table"
           }
          ]
         },
         "layout": {
          "annotationdefaults": {
           "arrowcolor": "#2a3f5f",
           "arrowhead": 0,
           "arrowwidth": 1
          },
          "autotypenumbers": "strict",
          "coloraxis": {
           "colorbar": {
            "outlinewidth": 0,
            "ticks": ""
           }
          },
          "colorscale": {
           "diverging": [
            [
             0,
             "#8e0152"
            ],
            [
             0.1,
             "#c51b7d"
            ],
            [
             0.2,
             "#de77ae"
            ],
            [
             0.3,
             "#f1b6da"
            ],
            [
             0.4,
             "#fde0ef"
            ],
            [
             0.5,
             "#f7f7f7"
            ],
            [
             0.6,
             "#e6f5d0"
            ],
            [
             0.7,
             "#b8e186"
            ],
            [
             0.8,
             "#7fbc41"
            ],
            [
             0.9,
             "#4d9221"
            ],
            [
             1,
             "#276419"
            ]
           ],
           "sequential": [
            [
             0,
             "#0d0887"
            ],
            [
             0.1111111111111111,
             "#46039f"
            ],
            [
             0.2222222222222222,
             "#7201a8"
            ],
            [
             0.3333333333333333,
             "#9c179e"
            ],
            [
             0.4444444444444444,
             "#bd3786"
            ],
            [
             0.5555555555555556,
             "#d8576b"
            ],
            [
             0.6666666666666666,
             "#ed7953"
            ],
            [
             0.7777777777777778,
             "#fb9f3a"
            ],
            [
             0.8888888888888888,
             "#fdca26"
            ],
            [
             1,
             "#f0f921"
            ]
           ],
           "sequentialminus": [
            [
             0,
             "#0d0887"
            ],
            [
             0.1111111111111111,
             "#46039f"
            ],
            [
             0.2222222222222222,
             "#7201a8"
            ],
            [
             0.3333333333333333,
             "#9c179e"
            ],
            [
             0.4444444444444444,
             "#bd3786"
            ],
            [
             0.5555555555555556,
             "#d8576b"
            ],
            [
             0.6666666666666666,
             "#ed7953"
            ],
            [
             0.7777777777777778,
             "#fb9f3a"
            ],
            [
             0.8888888888888888,
             "#fdca26"
            ],
            [
             1,
             "#f0f921"
            ]
           ]
          },
          "colorway": [
           "#636efa",
           "#EF553B",
           "#00cc96",
           "#ab63fa",
           "#FFA15A",
           "#19d3f3",
           "#FF6692",
           "#B6E880",
           "#FF97FF",
           "#FECB52"
          ],
          "font": {
           "color": "#2a3f5f"
          },
          "geo": {
           "bgcolor": "white",
           "lakecolor": "white",
           "landcolor": "#E5ECF6",
           "showlakes": true,
           "showland": true,
           "subunitcolor": "white"
          },
          "hoverlabel": {
           "align": "left"
          },
          "hovermode": "closest",
          "mapbox": {
           "style": "light"
          },
          "paper_bgcolor": "white",
          "plot_bgcolor": "#E5ECF6",
          "polar": {
           "angularaxis": {
            "gridcolor": "white",
            "linecolor": "white",
            "ticks": ""
           },
           "bgcolor": "#E5ECF6",
           "radialaxis": {
            "gridcolor": "white",
            "linecolor": "white",
            "ticks": ""
           }
          },
          "scene": {
           "xaxis": {
            "backgroundcolor": "#E5ECF6",
            "gridcolor": "white",
            "gridwidth": 2,
            "linecolor": "white",
            "showbackground": true,
            "ticks": "",
            "zerolinecolor": "white"
           },
           "yaxis": {
            "backgroundcolor": "#E5ECF6",
            "gridcolor": "white",
            "gridwidth": 2,
            "linecolor": "white",
            "showbackground": true,
            "ticks": "",
            "zerolinecolor": "white"
           },
           "zaxis": {
            "backgroundcolor": "#E5ECF6",
            "gridcolor": "white",
            "gridwidth": 2,
            "linecolor": "white",
            "showbackground": true,
            "ticks": "",
            "zerolinecolor": "white"
           }
          },
          "shapedefaults": {
           "line": {
            "color": "#2a3f5f"
           }
          },
          "ternary": {
           "aaxis": {
            "gridcolor": "white",
            "linecolor": "white",
            "ticks": ""
           },
           "baxis": {
            "gridcolor": "white",
            "linecolor": "white",
            "ticks": ""
           },
           "bgcolor": "#E5ECF6",
           "caxis": {
            "gridcolor": "white",
            "linecolor": "white",
            "ticks": ""
           }
          },
          "title": {
           "x": 0.05
          },
          "xaxis": {
           "automargin": true,
           "gridcolor": "white",
           "linecolor": "white",
           "ticks": "",
           "title": {
            "standoff": 15
           },
           "zerolinecolor": "white",
           "zerolinewidth": 2
          },
          "yaxis": {
           "automargin": true,
           "gridcolor": "white",
           "linecolor": "white",
           "ticks": "",
           "title": {
            "standoff": 15
           },
           "zerolinecolor": "white",
           "zerolinewidth": 2
          }
         }
        },
        "title": {
         "font": {
          "color": "#4D5663"
         }
        },
        "xaxis": {
         "gridcolor": "#E1E5ED",
         "showgrid": true,
         "tickfont": {
          "color": "#4D5663"
         },
         "title": {
          "font": {
           "color": "#4D5663"
          },
          "text": ""
         },
         "zerolinecolor": "#E1E5ED"
        },
        "yaxis": {
         "gridcolor": "#E1E5ED",
         "showgrid": true,
         "tickfont": {
          "color": "#4D5663"
         },
         "title": {
          "font": {
           "color": "#4D5663"
          },
          "text": ""
         },
         "zerolinecolor": "#E1E5ED"
        }
       }
      },
      "text/html": [
       "<div>                            <div id=\"f785db0b-49be-43d4-821f-2df7bd69000c\" class=\"plotly-graph-div\" style=\"height:525px; width:100%;\"></div>            <script type=\"text/javascript\">                require([\"plotly\"], function(Plotly) {                    window.PLOTLYENV=window.PLOTLYENV || {};\n",
       "                    window.PLOTLYENV.BASE_URL='https://plot.ly';                                    if (document.getElementById(\"f785db0b-49be-43d4-821f-2df7bd69000c\")) {                    Plotly.newPlot(                        \"f785db0b-49be-43d4-821f-2df7bd69000c\",                        [{\"marker\":{\"color\":\"rgba(255, 153, 51, 0.6)\",\"line\":{\"color\":\"rgba(255, 153, 51, 1.0)\",\"width\":1}},\"name\":\"Values\",\"orientation\":\"v\",\"text\":\"\",\"x\":[\"A\",\"B\",\"C\"],\"y\":[32,43,50],\"type\":\"bar\"}],                        {\"legend\":{\"bgcolor\":\"#F5F6F9\",\"font\":{\"color\":\"#4D5663\"}},\"paper_bgcolor\":\"#F5F6F9\",\"plot_bgcolor\":\"#F5F6F9\",\"template\":{\"data\":{\"barpolar\":[{\"marker\":{\"line\":{\"color\":\"#E5ECF6\",\"width\":0.5},\"pattern\":{\"fillmode\":\"overlay\",\"size\":10,\"solidity\":0.2}},\"type\":\"barpolar\"}],\"bar\":[{\"error_x\":{\"color\":\"#2a3f5f\"},\"error_y\":{\"color\":\"#2a3f5f\"},\"marker\":{\"line\":{\"color\":\"#E5ECF6\",\"width\":0.5},\"pattern\":{\"fillmode\":\"overlay\",\"size\":10,\"solidity\":0.2}},\"type\":\"bar\"}],\"carpet\":[{\"aaxis\":{\"endlinecolor\":\"#2a3f5f\",\"gridcolor\":\"white\",\"linecolor\":\"white\",\"minorgridcolor\":\"white\",\"startlinecolor\":\"#2a3f5f\"},\"baxis\":{\"endlinecolor\":\"#2a3f5f\",\"gridcolor\":\"white\",\"linecolor\":\"white\",\"minorgridcolor\":\"white\",\"startlinecolor\":\"#2a3f5f\"},\"type\":\"carpet\"}],\"choropleth\":[{\"colorbar\":{\"outlinewidth\":0,\"ticks\":\"\"},\"type\":\"choropleth\"}],\"contourcarpet\":[{\"colorbar\":{\"outlinewidth\":0,\"ticks\":\"\"},\"type\":\"contourcarpet\"}],\"contour\":[{\"colorbar\":{\"outlinewidth\":0,\"ticks\":\"\"},\"colorscale\":[[0.0,\"#0d0887\"],[0.1111111111111111,\"#46039f\"],[0.2222222222222222,\"#7201a8\"],[0.3333333333333333,\"#9c179e\"],[0.4444444444444444,\"#bd3786\"],[0.5555555555555556,\"#d8576b\"],[0.6666666666666666,\"#ed7953\"],[0.7777777777777778,\"#fb9f3a\"],[0.8888888888888888,\"#fdca26\"],[1.0,\"#f0f921\"]],\"type\":\"contour\"}],\"heatmapgl\":[{\"colorbar\":{\"outlinewidth\":0,\"ticks\":\"\"},\"colorscale\":[[0.0,\"#0d0887\"],[0.1111111111111111,\"#46039f\"],[0.2222222222222222,\"#7201a8\"],[0.3333333333333333,\"#9c179e\"],[0.4444444444444444,\"#bd3786\"],[0.5555555555555556,\"#d8576b\"],[0.6666666666666666,\"#ed7953\"],[0.7777777777777778,\"#fb9f3a\"],[0.8888888888888888,\"#fdca26\"],[1.0,\"#f0f921\"]],\"type\":\"heatmapgl\"}],\"heatmap\":[{\"colorbar\":{\"outlinewidth\":0,\"ticks\":\"\"},\"colorscale\":[[0.0,\"#0d0887\"],[0.1111111111111111,\"#46039f\"],[0.2222222222222222,\"#7201a8\"],[0.3333333333333333,\"#9c179e\"],[0.4444444444444444,\"#bd3786\"],[0.5555555555555556,\"#d8576b\"],[0.6666666666666666,\"#ed7953\"],[0.7777777777777778,\"#fb9f3a\"],[0.8888888888888888,\"#fdca26\"],[1.0,\"#f0f921\"]],\"type\":\"heatmap\"}],\"histogram2dcontour\":[{\"colorbar\":{\"outlinewidth\":0,\"ticks\":\"\"},\"colorscale\":[[0.0,\"#0d0887\"],[0.1111111111111111,\"#46039f\"],[0.2222222222222222,\"#7201a8\"],[0.3333333333333333,\"#9c179e\"],[0.4444444444444444,\"#bd3786\"],[0.5555555555555556,\"#d8576b\"],[0.6666666666666666,\"#ed7953\"],[0.7777777777777778,\"#fb9f3a\"],[0.8888888888888888,\"#fdca26\"],[1.0,\"#f0f921\"]],\"type\":\"histogram2dcontour\"}],\"histogram2d\":[{\"colorbar\":{\"outlinewidth\":0,\"ticks\":\"\"},\"colorscale\":[[0.0,\"#0d0887\"],[0.1111111111111111,\"#46039f\"],[0.2222222222222222,\"#7201a8\"],[0.3333333333333333,\"#9c179e\"],[0.4444444444444444,\"#bd3786\"],[0.5555555555555556,\"#d8576b\"],[0.6666666666666666,\"#ed7953\"],[0.7777777777777778,\"#fb9f3a\"],[0.8888888888888888,\"#fdca26\"],[1.0,\"#f0f921\"]],\"type\":\"histogram2d\"}],\"histogram\":[{\"marker\":{\"pattern\":{\"fillmode\":\"overlay\",\"size\":10,\"solidity\":0.2}},\"type\":\"histogram\"}],\"mesh3d\":[{\"colorbar\":{\"outlinewidth\":0,\"ticks\":\"\"},\"type\":\"mesh3d\"}],\"parcoords\":[{\"line\":{\"colorbar\":{\"outlinewidth\":0,\"ticks\":\"\"}},\"type\":\"parcoords\"}],\"pie\":[{\"automargin\":true,\"type\":\"pie\"}],\"scatter3d\":[{\"line\":{\"colorbar\":{\"outlinewidth\":0,\"ticks\":\"\"}},\"marker\":{\"colorbar\":{\"outlinewidth\":0,\"ticks\":\"\"}},\"type\":\"scatter3d\"}],\"scattercarpet\":[{\"marker\":{\"colorbar\":{\"outlinewidth\":0,\"ticks\":\"\"}},\"type\":\"scattercarpet\"}],\"scattergeo\":[{\"marker\":{\"colorbar\":{\"outlinewidth\":0,\"ticks\":\"\"}},\"type\":\"scattergeo\"}],\"scattergl\":[{\"marker\":{\"colorbar\":{\"outlinewidth\":0,\"ticks\":\"\"}},\"type\":\"scattergl\"}],\"scattermapbox\":[{\"marker\":{\"colorbar\":{\"outlinewidth\":0,\"ticks\":\"\"}},\"type\":\"scattermapbox\"}],\"scatterpolargl\":[{\"marker\":{\"colorbar\":{\"outlinewidth\":0,\"ticks\":\"\"}},\"type\":\"scatterpolargl\"}],\"scatterpolar\":[{\"marker\":{\"colorbar\":{\"outlinewidth\":0,\"ticks\":\"\"}},\"type\":\"scatterpolar\"}],\"scatter\":[{\"fillpattern\":{\"fillmode\":\"overlay\",\"size\":10,\"solidity\":0.2},\"type\":\"scatter\"}],\"scatterternary\":[{\"marker\":{\"colorbar\":{\"outlinewidth\":0,\"ticks\":\"\"}},\"type\":\"scatterternary\"}],\"surface\":[{\"colorbar\":{\"outlinewidth\":0,\"ticks\":\"\"},\"colorscale\":[[0.0,\"#0d0887\"],[0.1111111111111111,\"#46039f\"],[0.2222222222222222,\"#7201a8\"],[0.3333333333333333,\"#9c179e\"],[0.4444444444444444,\"#bd3786\"],[0.5555555555555556,\"#d8576b\"],[0.6666666666666666,\"#ed7953\"],[0.7777777777777778,\"#fb9f3a\"],[0.8888888888888888,\"#fdca26\"],[1.0,\"#f0f921\"]],\"type\":\"surface\"}],\"table\":[{\"cells\":{\"fill\":{\"color\":\"#EBF0F8\"},\"line\":{\"color\":\"white\"}},\"header\":{\"fill\":{\"color\":\"#C8D4E3\"},\"line\":{\"color\":\"white\"}},\"type\":\"table\"}]},\"layout\":{\"annotationdefaults\":{\"arrowcolor\":\"#2a3f5f\",\"arrowhead\":0,\"arrowwidth\":1},\"autotypenumbers\":\"strict\",\"coloraxis\":{\"colorbar\":{\"outlinewidth\":0,\"ticks\":\"\"}},\"colorscale\":{\"diverging\":[[0,\"#8e0152\"],[0.1,\"#c51b7d\"],[0.2,\"#de77ae\"],[0.3,\"#f1b6da\"],[0.4,\"#fde0ef\"],[0.5,\"#f7f7f7\"],[0.6,\"#e6f5d0\"],[0.7,\"#b8e186\"],[0.8,\"#7fbc41\"],[0.9,\"#4d9221\"],[1,\"#276419\"]],\"sequential\":[[0.0,\"#0d0887\"],[0.1111111111111111,\"#46039f\"],[0.2222222222222222,\"#7201a8\"],[0.3333333333333333,\"#9c179e\"],[0.4444444444444444,\"#bd3786\"],[0.5555555555555556,\"#d8576b\"],[0.6666666666666666,\"#ed7953\"],[0.7777777777777778,\"#fb9f3a\"],[0.8888888888888888,\"#fdca26\"],[1.0,\"#f0f921\"]],\"sequentialminus\":[[0.0,\"#0d0887\"],[0.1111111111111111,\"#46039f\"],[0.2222222222222222,\"#7201a8\"],[0.3333333333333333,\"#9c179e\"],[0.4444444444444444,\"#bd3786\"],[0.5555555555555556,\"#d8576b\"],[0.6666666666666666,\"#ed7953\"],[0.7777777777777778,\"#fb9f3a\"],[0.8888888888888888,\"#fdca26\"],[1.0,\"#f0f921\"]]},\"colorway\":[\"#636efa\",\"#EF553B\",\"#00cc96\",\"#ab63fa\",\"#FFA15A\",\"#19d3f3\",\"#FF6692\",\"#B6E880\",\"#FF97FF\",\"#FECB52\"],\"font\":{\"color\":\"#2a3f5f\"},\"geo\":{\"bgcolor\":\"white\",\"lakecolor\":\"white\",\"landcolor\":\"#E5ECF6\",\"showlakes\":true,\"showland\":true,\"subunitcolor\":\"white\"},\"hoverlabel\":{\"align\":\"left\"},\"hovermode\":\"closest\",\"mapbox\":{\"style\":\"light\"},\"paper_bgcolor\":\"white\",\"plot_bgcolor\":\"#E5ECF6\",\"polar\":{\"angularaxis\":{\"gridcolor\":\"white\",\"linecolor\":\"white\",\"ticks\":\"\"},\"bgcolor\":\"#E5ECF6\",\"radialaxis\":{\"gridcolor\":\"white\",\"linecolor\":\"white\",\"ticks\":\"\"}},\"scene\":{\"xaxis\":{\"backgroundcolor\":\"#E5ECF6\",\"gridcolor\":\"white\",\"gridwidth\":2,\"linecolor\":\"white\",\"showbackground\":true,\"ticks\":\"\",\"zerolinecolor\":\"white\"},\"yaxis\":{\"backgroundcolor\":\"#E5ECF6\",\"gridcolor\":\"white\",\"gridwidth\":2,\"linecolor\":\"white\",\"showbackground\":true,\"ticks\":\"\",\"zerolinecolor\":\"white\"},\"zaxis\":{\"backgroundcolor\":\"#E5ECF6\",\"gridcolor\":\"white\",\"gridwidth\":2,\"linecolor\":\"white\",\"showbackground\":true,\"ticks\":\"\",\"zerolinecolor\":\"white\"}},\"shapedefaults\":{\"line\":{\"color\":\"#2a3f5f\"}},\"ternary\":{\"aaxis\":{\"gridcolor\":\"white\",\"linecolor\":\"white\",\"ticks\":\"\"},\"baxis\":{\"gridcolor\":\"white\",\"linecolor\":\"white\",\"ticks\":\"\"},\"bgcolor\":\"#E5ECF6\",\"caxis\":{\"gridcolor\":\"white\",\"linecolor\":\"white\",\"ticks\":\"\"}},\"title\":{\"x\":0.05},\"xaxis\":{\"automargin\":true,\"gridcolor\":\"white\",\"linecolor\":\"white\",\"ticks\":\"\",\"title\":{\"standoff\":15},\"zerolinecolor\":\"white\",\"zerolinewidth\":2},\"yaxis\":{\"automargin\":true,\"gridcolor\":\"white\",\"linecolor\":\"white\",\"ticks\":\"\",\"title\":{\"standoff\":15},\"zerolinecolor\":\"white\",\"zerolinewidth\":2}}},\"title\":{\"font\":{\"color\":\"#4D5663\"}},\"xaxis\":{\"gridcolor\":\"#E1E5ED\",\"showgrid\":true,\"tickfont\":{\"color\":\"#4D5663\"},\"title\":{\"font\":{\"color\":\"#4D5663\"},\"text\":\"\"},\"zerolinecolor\":\"#E1E5ED\"},\"yaxis\":{\"gridcolor\":\"#E1E5ED\",\"showgrid\":true,\"tickfont\":{\"color\":\"#4D5663\"},\"title\":{\"font\":{\"color\":\"#4D5663\"},\"text\":\"\"},\"zerolinecolor\":\"#E1E5ED\"}},                        {\"showLink\": true, \"linkText\": \"Export to plot.ly\", \"plotlyServerURL\": \"https://plot.ly\", \"responsive\": true}                    ).then(function(){\n",
       "                            \n",
       "var gd = document.getElementById('f785db0b-49be-43d4-821f-2df7bd69000c');\n",
       "var x = new MutationObserver(function (mutations, observer) {{\n",
       "        var display = window.getComputedStyle(gd).display;\n",
       "        if (!display || display === 'none') {{\n",
       "            console.log([gd, 'removed!']);\n",
       "            Plotly.purge(gd);\n",
       "            observer.disconnect();\n",
       "        }}\n",
       "}});\n",
       "\n",
       "// Listen for the removal of the full notebook cells\n",
       "var notebookContainer = gd.closest('#notebook-container');\n",
       "if (notebookContainer) {{\n",
       "    x.observe(notebookContainer, {childList: true});\n",
       "}}\n",
       "\n",
       "// Listen for the clearing of the current output cell\n",
       "var outputEl = gd.closest('.output');\n",
       "if (outputEl) {{\n",
       "    x.observe(outputEl, {childList: true});\n",
       "}}\n",
       "\n",
       "                        })                };                });            </script>        </div>"
      ]
     },
     "metadata": {},
     "output_type": "display_data"
    }
   ],
   "source": [
    "#bar plot\n",
    "df2.iplot(kind='bar',x='Category',y='Values')"
   ]
  },
  {
   "cell_type": "code",
   "execution_count": 14,
   "id": "96a0d123",
   "metadata": {},
   "outputs": [
    {
     "data": {
      "application/vnd.plotly.v1+json": {
       "config": {
        "linkText": "Export to plot.ly",
        "plotlyServerURL": "https://plot.ly",
        "showLink": true
       },
       "data": [
        {
         "boxpoints": false,
         "line": {
          "width": 1.3
         },
         "marker": {
          "color": "rgba(255, 153, 51, 1.0)"
         },
         "name": "A",
         "orientation": "v",
         "type": "box",
         "y": [
          -2.0174340036144773,
          -0.2982885142503483,
          -1.1060293398574745,
          0.47380475815506795,
          -0.24287698992496476,
          -1.045477160349408,
          -1.372571283799824,
          -0.3708294395405194,
          0.9296363357643138,
          1.07539941494939,
          -0.48860213936065083,
          0.38462255572792503,
          0.7316391969826207,
          0.7056188238429781,
          0.2272970973273527,
          1.8973560994467056,
          -0.08814752662473867,
          2.853141208328112,
          1.2606744935729695,
          -0.19541503270171148,
          0.33884117599906605,
          -1.1823804269843323,
          -0.35818646632962386,
          -2.1896961807689883,
          0.4666612471354609,
          -0.7195595896962929,
          -1.1022342579753548,
          -0.4260373014973277,
          -2.03985628441693,
          -0.3922675703969572,
          -0.6393197479525362,
          1.5070292397184635,
          1.5427741705080689,
          -0.36811080320580436,
          0.7907860507217243,
          -1.053702929569162,
          -1.5682815210700976,
          -1.6899427972979684,
          -1.1577153310653898,
          1.201798767024122,
          0.8139499812781749,
          1.3396399626499909,
          -1.592116875741009,
          -2.108999149725003,
          -2.414121441285468,
          -0.7517992912296336,
          -0.8814484376662446,
          -0.5636621543249383,
          -0.4462016022135572,
          0.7602270527510662,
          -0.7635312669667638,
          -0.6085341535104014,
          -0.6979145854428934,
          0.15270352881680677,
          1.5861404333668392,
          0.4413194748417777,
          1.1464296196046662,
          1.6860599838450785,
          -0.12920519816606357,
          -1.3166186524763952,
          0.9527123887974857,
          -0.0913130377024795,
          -1.2562092533438431,
          -1.4599948208670317,
          0.739600143985171,
          1.928522171471015,
          0.8604873721118755,
          0.5101454894231326,
          -2.0412817448349676,
          2.350622092982859,
          -1.2098096285286442,
          0.8793405535384373,
          -0.4127130171433395,
          -0.9510357246689423,
          -0.5833425292515129,
          2.874170539129894,
          0.6754534679651084,
          -0.43269432307745,
          0.6824671403544771,
          -0.13956406111167266,
          -1.2539511811434925,
          -0.9095655979851323,
          0.5131425131930456,
          0.2107268324859046,
          0.9793829033520347,
          0.05590920125049553,
          -1.4825906211123527,
          -0.7655955658418381,
          -0.9062150294307344,
          0.2713814492008699,
          0.4987962451208206,
          0.8724854785969101,
          0.04820180158157174,
          0.22901793866168949,
          -0.04264546586916472,
          0.9163280370522656,
          -0.010155961485463392,
          -0.9553359158941854,
          -1.0351518431931523,
          0.9471899254826112
         ]
        },
        {
         "boxpoints": false,
         "line": {
          "width": 1.3
         },
         "marker": {
          "color": "rgba(55, 128, 191, 1.0)"
         },
         "name": "B",
         "orientation": "v",
         "type": "box",
         "y": [
          -0.4336314864429535,
          1.350667166094158,
          0.43598099590054984,
          0.6468173769915163,
          0.06159247962019822,
          -0.4718946721964237,
          -0.34718152548498954,
          -0.1352352933676623,
          1.772522237853382,
          1.7932238808421221,
          0.09877771175165724,
          0.0712299488526947,
          -0.04660842611345164,
          -0.695628193641317,
          -0.34583211824660304,
          -0.08662984595296318,
          0.13793492787300085,
          -1.4318303754898554,
          0.5873881902834827,
          -2.07325722004215,
          -1.1770281940962717,
          1.594615146278771,
          1.2776187822533687,
          0.47109117398969547,
          -1.246668759906434,
          -2.2847460611624406,
          -1.5826105556937269,
          -0.811269322851608,
          0.8799894577447486,
          0.06415012993297987,
          -0.7434972189767668,
          -0.9792866546376444,
          -0.933045546820726,
          -2.3622901656782385,
          0.5563119426536198,
          -0.19041549241342892,
          -0.16132840248423033,
          -0.7338722979209311,
          -0.3692777802581269,
          0.1305385223626437,
          -0.6402633231215187,
          1.7724921834749274,
          -1.2351448749489011,
          -0.5873659331128189,
          -0.16728748136882754,
          -0.5602703504822134,
          1.859960185240759,
          0.33740918515772517,
          0.918671162681654,
          -0.07101790267351826,
          0.015441559320083337,
          -1.2031017684144387,
          -0.3272063740238242,
          -0.0001744963858636876,
          0.3103076161179847,
          -0.199759215966244,
          0.05146279997451216,
          -0.18622636023755218,
          -0.8103233465962649,
          -1.9275858643732076,
          -1.1374975146503152,
          -0.41521538622971427,
          0.22719945800922248,
          0.36402755465690834,
          -0.4526090911338168,
          0.26012367576625334,
          -0.22989912094729592,
          0.5285726171745472,
          0.9953458174439949,
          -0.9857712026396995,
          0.5776873616421779,
          -0.7424122876243162,
          -0.5518931892115001,
          -1.5518844904682583,
          0.24099518333260084,
          0.6836961998302244,
          -1.2015323169619367,
          1.2802609934383806,
          1.438639661407647,
          -0.5851440701662644,
          0.4603398760447712,
          0.49137796754968743,
          -0.33395034853426303,
          -1.3694143337900495,
          0.7004766841926477,
          -0.02776944111056883,
          -1.7961432780630182,
          -0.04463245773876887,
          2.1231966212717746,
          -1.192852440208722,
          -1.0474681178086687,
          -0.7387115531544551,
          -0.5637437308033575,
          0.9980152157280872,
          1.5098614226254685,
          -0.5438344156823638,
          0.15937737582332315,
          -1.2195955310150488,
          1.0856990332088072,
          -0.542434730291181
         ]
        },
        {
         "boxpoints": false,
         "line": {
          "width": 1.3
         },
         "marker": {
          "color": "rgba(50, 171, 96, 1.0)"
         },
         "name": "C",
         "orientation": "v",
         "type": "box",
         "y": [
          0.5199922630907495,
          0.1830355270282763,
          0.7338807037118276,
          -1.728545257297151,
          0.7168022743874345,
          0.3343533448736096,
          1.367568784461105,
          -1.3231460252968592,
          -1.1749318802696305,
          -0.6481630365252634,
          -1.1420800226206975,
          -0.9615142362127238,
          -0.0452134271995858,
          1.4659734891639267,
          -0.9045681334699083,
          -1.1910542220933276,
          0.1837325385010415,
          -1.411109124645375,
          -1.136955351461367,
          -1.8347047274835042,
          -1.022155266979853,
          -0.2544273155503784,
          -0.21822601111445641,
          -0.5036600573084827,
          0.046035202553452136,
          -0.1496112217772252,
          -0.028209682763141536,
          -1.142726266593265,
          -2.0960811888623643,
          0.05053876236196913,
          3.0272968829495124,
          -0.06278096687767033,
          0.018552679633553757,
          0.1539366907347957,
          -0.134862543914076,
          -0.5373177369861782,
          0.21806512288273258,
          0.6808733116465462,
          -0.4597391591651445,
          0.9714359016000198,
          -0.34594030850288865,
          0.3359585191357947,
          -1.434357536288188,
          -0.6454390647001046,
          1.534720131130264,
          -1.331103768060012,
          -0.6687366119939376,
          1.304139576727922,
          -1.8132712606461807,
          0.8503059053334987,
          -0.2981495600111228,
          -0.060369774916276694,
          0.7494397256888057,
          0.22786020381595087,
          0.8111852375948235,
          0.45557169646498424,
          0.6509407911744212,
          0.535837548999383,
          0.058653266158075444,
          0.47259502040126566,
          -1.3380608588971012,
          -1.0214834676430626,
          -0.9998203108618948,
          -1.149023019762514,
          2.2523743166374843,
          1.2555027389653908,
          -0.3726643016479303,
          0.31203124203188326,
          1.4888712219329372,
          1.6134635549541745,
          0.21745550905515545,
          1.6471701788707174,
          0.6116557938467,
          0.416422488935641,
          -1.7584717424175733,
          -1.0074430159686674,
          -0.6759265033821549,
          -1.5798853727489461,
          0.37208733583223114,
          -0.9219938544398251,
          0.14012672286259512,
          2.1114977132624637,
          0.6156311912399872,
          1.479888066297275,
          2.3304288496837566,
          -1.6327940805130743,
          -1.440517700603669,
          -2.992625300505153,
          -0.649441935687668,
          -0.059502032629949374,
          2.702329118857002,
          -1.2033079124282626,
          0.0884111127119533,
          1.7455290528280512,
          -0.9142233168065622,
          1.380725105275451,
          0.007963640867254478,
          0.12313920273107667,
          -1.230546884593442,
          -1.095688282805866
         ]
        },
        {
         "boxpoints": false,
         "line": {
          "width": 1.3
         },
         "marker": {
          "color": "rgba(128, 0, 128, 1.0)"
         },
         "name": "D",
         "orientation": "v",
         "type": "box",
         "y": [
          0.3087242940760484,
          -2.892920710993179,
          0.29755680760134023,
          -0.4537198687874928,
          0.4091428918535154,
          -0.5911585079707464,
          1.2837558388647552,
          -1.196327628603834,
          1.0089734959700447,
          -0.1578035162705574,
          -0.4986640630344464,
          0.8252364225226217,
          1.6861646626147668,
          0.23963447426904727,
          0.7641530316879358,
          -0.7689390705139726,
          1.1584556024203354,
          1.1360891736184686,
          0.009474268435621989,
          -0.06682386148577549,
          0.555353509483653,
          0.7333168575641268,
          2.098244820081542,
          -0.7944249098537421,
          1.4387239479593779,
          -0.4515833646085028,
          -1.9352520647895797,
          -2.049553912885645,
          -1.2540247569355452,
          0.5430137866149007,
          -0.31587328134723097,
          1.6814974048406721,
          -0.4206398739726167,
          0.5992298023947051,
          -1.0120089497419704,
          0.2997543410309787,
          1.2357180906828362,
          0.41511198706310415,
          1.811713654798116,
          -0.3253060298179894,
          -0.9289560752940552,
          0.1608610104861535,
          -1.1924543747439782,
          0.5513907525949097,
          0.20551765048712142,
          1.3756968022467897,
          -0.7072715173974367,
          1.5185818130429565,
          -0.4693010381594284,
          -0.809846037988664,
          -0.09078018476417095,
          0.012713682354540578,
          0.2610668997971832,
          -2.7022175291637685,
          0.4012364716342121,
          -0.7728524233638323,
          -1.8511381406173124,
          0.651157946355602,
          0.22335055826153472,
          -0.41596698883675215,
          1.7294039411584106,
          -0.995924445608059,
          0.7882627429142489,
          1.2863779417748025,
          0.32966840365706734,
          0.5777746168164748,
          -1.0398609590570271,
          0.5711772366363843,
          -0.468436443040119,
          1.1284915691417101,
          0.2904286363391695,
          -0.5636855185258286,
          0.3736149212568452,
          -0.33682320469314836,
          0.9000438298583542,
          0.3801388237787824,
          0.7183473441906332,
          -0.9784587147441306,
          -0.40902944086318,
          0.13100305557281391,
          -0.34492148658442934,
          -0.002431809166469376,
          -0.5059304901101217,
          0.9653255252501207,
          -0.8914391155462259,
          0.3860940733112024,
          0.3834056512334579,
          0.33545236667254646,
          0.7660612229706408,
          -0.16928256065585887,
          0.3847440085949903,
          0.44520055820183524,
          0.6969785207430066,
          0.3054280947354089,
          -1.1541863065851823,
          0.9808009213359595,
          -0.2608278857259081,
          0.04611588232013331,
          0.9278158849994778,
          0.43077265880049
         ]
        }
       ],
       "layout": {
        "legend": {
         "bgcolor": "#F5F6F9",
         "font": {
          "color": "#4D5663"
         }
        },
        "paper_bgcolor": "#F5F6F9",
        "plot_bgcolor": "#F5F6F9",
        "template": {
         "data": {
          "bar": [
           {
            "error_x": {
             "color": "#2a3f5f"
            },
            "error_y": {
             "color": "#2a3f5f"
            },
            "marker": {
             "line": {
              "color": "#E5ECF6",
              "width": 0.5
             },
             "pattern": {
              "fillmode": "overlay",
              "size": 10,
              "solidity": 0.2
             }
            },
            "type": "bar"
           }
          ],
          "barpolar": [
           {
            "marker": {
             "line": {
              "color": "#E5ECF6",
              "width": 0.5
             },
             "pattern": {
              "fillmode": "overlay",
              "size": 10,
              "solidity": 0.2
             }
            },
            "type": "barpolar"
           }
          ],
          "carpet": [
           {
            "aaxis": {
             "endlinecolor": "#2a3f5f",
             "gridcolor": "white",
             "linecolor": "white",
             "minorgridcolor": "white",
             "startlinecolor": "#2a3f5f"
            },
            "baxis": {
             "endlinecolor": "#2a3f5f",
             "gridcolor": "white",
             "linecolor": "white",
             "minorgridcolor": "white",
             "startlinecolor": "#2a3f5f"
            },
            "type": "carpet"
           }
          ],
          "choropleth": [
           {
            "colorbar": {
             "outlinewidth": 0,
             "ticks": ""
            },
            "type": "choropleth"
           }
          ],
          "contour": [
           {
            "colorbar": {
             "outlinewidth": 0,
             "ticks": ""
            },
            "colorscale": [
             [
              0,
              "#0d0887"
             ],
             [
              0.1111111111111111,
              "#46039f"
             ],
             [
              0.2222222222222222,
              "#7201a8"
             ],
             [
              0.3333333333333333,
              "#9c179e"
             ],
             [
              0.4444444444444444,
              "#bd3786"
             ],
             [
              0.5555555555555556,
              "#d8576b"
             ],
             [
              0.6666666666666666,
              "#ed7953"
             ],
             [
              0.7777777777777778,
              "#fb9f3a"
             ],
             [
              0.8888888888888888,
              "#fdca26"
             ],
             [
              1,
              "#f0f921"
             ]
            ],
            "type": "contour"
           }
          ],
          "contourcarpet": [
           {
            "colorbar": {
             "outlinewidth": 0,
             "ticks": ""
            },
            "type": "contourcarpet"
           }
          ],
          "heatmap": [
           {
            "colorbar": {
             "outlinewidth": 0,
             "ticks": ""
            },
            "colorscale": [
             [
              0,
              "#0d0887"
             ],
             [
              0.1111111111111111,
              "#46039f"
             ],
             [
              0.2222222222222222,
              "#7201a8"
             ],
             [
              0.3333333333333333,
              "#9c179e"
             ],
             [
              0.4444444444444444,
              "#bd3786"
             ],
             [
              0.5555555555555556,
              "#d8576b"
             ],
             [
              0.6666666666666666,
              "#ed7953"
             ],
             [
              0.7777777777777778,
              "#fb9f3a"
             ],
             [
              0.8888888888888888,
              "#fdca26"
             ],
             [
              1,
              "#f0f921"
             ]
            ],
            "type": "heatmap"
           }
          ],
          "heatmapgl": [
           {
            "colorbar": {
             "outlinewidth": 0,
             "ticks": ""
            },
            "colorscale": [
             [
              0,
              "#0d0887"
             ],
             [
              0.1111111111111111,
              "#46039f"
             ],
             [
              0.2222222222222222,
              "#7201a8"
             ],
             [
              0.3333333333333333,
              "#9c179e"
             ],
             [
              0.4444444444444444,
              "#bd3786"
             ],
             [
              0.5555555555555556,
              "#d8576b"
             ],
             [
              0.6666666666666666,
              "#ed7953"
             ],
             [
              0.7777777777777778,
              "#fb9f3a"
             ],
             [
              0.8888888888888888,
              "#fdca26"
             ],
             [
              1,
              "#f0f921"
             ]
            ],
            "type": "heatmapgl"
           }
          ],
          "histogram": [
           {
            "marker": {
             "pattern": {
              "fillmode": "overlay",
              "size": 10,
              "solidity": 0.2
             }
            },
            "type": "histogram"
           }
          ],
          "histogram2d": [
           {
            "colorbar": {
             "outlinewidth": 0,
             "ticks": ""
            },
            "colorscale": [
             [
              0,
              "#0d0887"
             ],
             [
              0.1111111111111111,
              "#46039f"
             ],
             [
              0.2222222222222222,
              "#7201a8"
             ],
             [
              0.3333333333333333,
              "#9c179e"
             ],
             [
              0.4444444444444444,
              "#bd3786"
             ],
             [
              0.5555555555555556,
              "#d8576b"
             ],
             [
              0.6666666666666666,
              "#ed7953"
             ],
             [
              0.7777777777777778,
              "#fb9f3a"
             ],
             [
              0.8888888888888888,
              "#fdca26"
             ],
             [
              1,
              "#f0f921"
             ]
            ],
            "type": "histogram2d"
           }
          ],
          "histogram2dcontour": [
           {
            "colorbar": {
             "outlinewidth": 0,
             "ticks": ""
            },
            "colorscale": [
             [
              0,
              "#0d0887"
             ],
             [
              0.1111111111111111,
              "#46039f"
             ],
             [
              0.2222222222222222,
              "#7201a8"
             ],
             [
              0.3333333333333333,
              "#9c179e"
             ],
             [
              0.4444444444444444,
              "#bd3786"
             ],
             [
              0.5555555555555556,
              "#d8576b"
             ],
             [
              0.6666666666666666,
              "#ed7953"
             ],
             [
              0.7777777777777778,
              "#fb9f3a"
             ],
             [
              0.8888888888888888,
              "#fdca26"
             ],
             [
              1,
              "#f0f921"
             ]
            ],
            "type": "histogram2dcontour"
           }
          ],
          "mesh3d": [
           {
            "colorbar": {
             "outlinewidth": 0,
             "ticks": ""
            },
            "type": "mesh3d"
           }
          ],
          "parcoords": [
           {
            "line": {
             "colorbar": {
              "outlinewidth": 0,
              "ticks": ""
             }
            },
            "type": "parcoords"
           }
          ],
          "pie": [
           {
            "automargin": true,
            "type": "pie"
           }
          ],
          "scatter": [
           {
            "fillpattern": {
             "fillmode": "overlay",
             "size": 10,
             "solidity": 0.2
            },
            "type": "scatter"
           }
          ],
          "scatter3d": [
           {
            "line": {
             "colorbar": {
              "outlinewidth": 0,
              "ticks": ""
             }
            },
            "marker": {
             "colorbar": {
              "outlinewidth": 0,
              "ticks": ""
             }
            },
            "type": "scatter3d"
           }
          ],
          "scattercarpet": [
           {
            "marker": {
             "colorbar": {
              "outlinewidth": 0,
              "ticks": ""
             }
            },
            "type": "scattercarpet"
           }
          ],
          "scattergeo": [
           {
            "marker": {
             "colorbar": {
              "outlinewidth": 0,
              "ticks": ""
             }
            },
            "type": "scattergeo"
           }
          ],
          "scattergl": [
           {
            "marker": {
             "colorbar": {
              "outlinewidth": 0,
              "ticks": ""
             }
            },
            "type": "scattergl"
           }
          ],
          "scattermapbox": [
           {
            "marker": {
             "colorbar": {
              "outlinewidth": 0,
              "ticks": ""
             }
            },
            "type": "scattermapbox"
           }
          ],
          "scatterpolar": [
           {
            "marker": {
             "colorbar": {
              "outlinewidth": 0,
              "ticks": ""
             }
            },
            "type": "scatterpolar"
           }
          ],
          "scatterpolargl": [
           {
            "marker": {
             "colorbar": {
              "outlinewidth": 0,
              "ticks": ""
             }
            },
            "type": "scatterpolargl"
           }
          ],
          "scatterternary": [
           {
            "marker": {
             "colorbar": {
              "outlinewidth": 0,
              "ticks": ""
             }
            },
            "type": "scatterternary"
           }
          ],
          "surface": [
           {
            "colorbar": {
             "outlinewidth": 0,
             "ticks": ""
            },
            "colorscale": [
             [
              0,
              "#0d0887"
             ],
             [
              0.1111111111111111,
              "#46039f"
             ],
             [
              0.2222222222222222,
              "#7201a8"
             ],
             [
              0.3333333333333333,
              "#9c179e"
             ],
             [
              0.4444444444444444,
              "#bd3786"
             ],
             [
              0.5555555555555556,
              "#d8576b"
             ],
             [
              0.6666666666666666,
              "#ed7953"
             ],
             [
              0.7777777777777778,
              "#fb9f3a"
             ],
             [
              0.8888888888888888,
              "#fdca26"
             ],
             [
              1,
              "#f0f921"
             ]
            ],
            "type": "surface"
           }
          ],
          "table": [
           {
            "cells": {
             "fill": {
              "color": "#EBF0F8"
             },
             "line": {
              "color": "white"
             }
            },
            "header": {
             "fill": {
              "color": "#C8D4E3"
             },
             "line": {
              "color": "white"
             }
            },
            "type": "table"
           }
          ]
         },
         "layout": {
          "annotationdefaults": {
           "arrowcolor": "#2a3f5f",
           "arrowhead": 0,
           "arrowwidth": 1
          },
          "autotypenumbers": "strict",
          "coloraxis": {
           "colorbar": {
            "outlinewidth": 0,
            "ticks": ""
           }
          },
          "colorscale": {
           "diverging": [
            [
             0,
             "#8e0152"
            ],
            [
             0.1,
             "#c51b7d"
            ],
            [
             0.2,
             "#de77ae"
            ],
            [
             0.3,
             "#f1b6da"
            ],
            [
             0.4,
             "#fde0ef"
            ],
            [
             0.5,
             "#f7f7f7"
            ],
            [
             0.6,
             "#e6f5d0"
            ],
            [
             0.7,
             "#b8e186"
            ],
            [
             0.8,
             "#7fbc41"
            ],
            [
             0.9,
             "#4d9221"
            ],
            [
             1,
             "#276419"
            ]
           ],
           "sequential": [
            [
             0,
             "#0d0887"
            ],
            [
             0.1111111111111111,
             "#46039f"
            ],
            [
             0.2222222222222222,
             "#7201a8"
            ],
            [
             0.3333333333333333,
             "#9c179e"
            ],
            [
             0.4444444444444444,
             "#bd3786"
            ],
            [
             0.5555555555555556,
             "#d8576b"
            ],
            [
             0.6666666666666666,
             "#ed7953"
            ],
            [
             0.7777777777777778,
             "#fb9f3a"
            ],
            [
             0.8888888888888888,
             "#fdca26"
            ],
            [
             1,
             "#f0f921"
            ]
           ],
           "sequentialminus": [
            [
             0,
             "#0d0887"
            ],
            [
             0.1111111111111111,
             "#46039f"
            ],
            [
             0.2222222222222222,
             "#7201a8"
            ],
            [
             0.3333333333333333,
             "#9c179e"
            ],
            [
             0.4444444444444444,
             "#bd3786"
            ],
            [
             0.5555555555555556,
             "#d8576b"
            ],
            [
             0.6666666666666666,
             "#ed7953"
            ],
            [
             0.7777777777777778,
             "#fb9f3a"
            ],
            [
             0.8888888888888888,
             "#fdca26"
            ],
            [
             1,
             "#f0f921"
            ]
           ]
          },
          "colorway": [
           "#636efa",
           "#EF553B",
           "#00cc96",
           "#ab63fa",
           "#FFA15A",
           "#19d3f3",
           "#FF6692",
           "#B6E880",
           "#FF97FF",
           "#FECB52"
          ],
          "font": {
           "color": "#2a3f5f"
          },
          "geo": {
           "bgcolor": "white",
           "lakecolor": "white",
           "landcolor": "#E5ECF6",
           "showlakes": true,
           "showland": true,
           "subunitcolor": "white"
          },
          "hoverlabel": {
           "align": "left"
          },
          "hovermode": "closest",
          "mapbox": {
           "style": "light"
          },
          "paper_bgcolor": "white",
          "plot_bgcolor": "#E5ECF6",
          "polar": {
           "angularaxis": {
            "gridcolor": "white",
            "linecolor": "white",
            "ticks": ""
           },
           "bgcolor": "#E5ECF6",
           "radialaxis": {
            "gridcolor": "white",
            "linecolor": "white",
            "ticks": ""
           }
          },
          "scene": {
           "xaxis": {
            "backgroundcolor": "#E5ECF6",
            "gridcolor": "white",
            "gridwidth": 2,
            "linecolor": "white",
            "showbackground": true,
            "ticks": "",
            "zerolinecolor": "white"
           },
           "yaxis": {
            "backgroundcolor": "#E5ECF6",
            "gridcolor": "white",
            "gridwidth": 2,
            "linecolor": "white",
            "showbackground": true,
            "ticks": "",
            "zerolinecolor": "white"
           },
           "zaxis": {
            "backgroundcolor": "#E5ECF6",
            "gridcolor": "white",
            "gridwidth": 2,
            "linecolor": "white",
            "showbackground": true,
            "ticks": "",
            "zerolinecolor": "white"
           }
          },
          "shapedefaults": {
           "line": {
            "color": "#2a3f5f"
           }
          },
          "ternary": {
           "aaxis": {
            "gridcolor": "white",
            "linecolor": "white",
            "ticks": ""
           },
           "baxis": {
            "gridcolor": "white",
            "linecolor": "white",
            "ticks": ""
           },
           "bgcolor": "#E5ECF6",
           "caxis": {
            "gridcolor": "white",
            "linecolor": "white",
            "ticks": ""
           }
          },
          "title": {
           "x": 0.05
          },
          "xaxis": {
           "automargin": true,
           "gridcolor": "white",
           "linecolor": "white",
           "ticks": "",
           "title": {
            "standoff": 15
           },
           "zerolinecolor": "white",
           "zerolinewidth": 2
          },
          "yaxis": {
           "automargin": true,
           "gridcolor": "white",
           "linecolor": "white",
           "ticks": "",
           "title": {
            "standoff": 15
           },
           "zerolinecolor": "white",
           "zerolinewidth": 2
          }
         }
        },
        "title": {
         "font": {
          "color": "#4D5663"
         }
        },
        "xaxis": {
         "gridcolor": "#E1E5ED",
         "showgrid": true,
         "tickfont": {
          "color": "#4D5663"
         },
         "title": {
          "font": {
           "color": "#4D5663"
          },
          "text": ""
         },
         "zerolinecolor": "#E1E5ED"
        },
        "yaxis": {
         "gridcolor": "#E1E5ED",
         "showgrid": true,
         "tickfont": {
          "color": "#4D5663"
         },
         "title": {
          "font": {
           "color": "#4D5663"
          },
          "text": ""
         },
         "zerolinecolor": "#E1E5ED"
        }
       }
      },
      "text/html": [
       "<div>                            <div id=\"a1d73056-2f14-45f4-b283-29e7cd1c3421\" class=\"plotly-graph-div\" style=\"height:525px; width:100%;\"></div>            <script type=\"text/javascript\">                require([\"plotly\"], function(Plotly) {                    window.PLOTLYENV=window.PLOTLYENV || {};\n",
       "                    window.PLOTLYENV.BASE_URL='https://plot.ly';                                    if (document.getElementById(\"a1d73056-2f14-45f4-b283-29e7cd1c3421\")) {                    Plotly.newPlot(                        \"a1d73056-2f14-45f4-b283-29e7cd1c3421\",                        [{\"boxpoints\":false,\"line\":{\"width\":1.3},\"marker\":{\"color\":\"rgba(255, 153, 51, 1.0)\"},\"name\":\"A\",\"orientation\":\"v\",\"y\":[-2.0174340036144773,-0.2982885142503483,-1.1060293398574745,0.47380475815506795,-0.24287698992496476,-1.045477160349408,-1.372571283799824,-0.3708294395405194,0.9296363357643138,1.07539941494939,-0.48860213936065083,0.38462255572792503,0.7316391969826207,0.7056188238429781,0.2272970973273527,1.8973560994467056,-0.08814752662473867,2.853141208328112,1.2606744935729695,-0.19541503270171148,0.33884117599906605,-1.1823804269843323,-0.35818646632962386,-2.1896961807689883,0.4666612471354609,-0.7195595896962929,-1.1022342579753548,-0.4260373014973277,-2.03985628441693,-0.3922675703969572,-0.6393197479525362,1.5070292397184635,1.5427741705080689,-0.36811080320580436,0.7907860507217243,-1.053702929569162,-1.5682815210700976,-1.6899427972979684,-1.1577153310653898,1.201798767024122,0.8139499812781749,1.3396399626499909,-1.592116875741009,-2.108999149725003,-2.414121441285468,-0.7517992912296336,-0.8814484376662446,-0.5636621543249383,-0.4462016022135572,0.7602270527510662,-0.7635312669667638,-0.6085341535104014,-0.6979145854428934,0.15270352881680677,1.5861404333668392,0.4413194748417777,1.1464296196046662,1.6860599838450785,-0.12920519816606357,-1.3166186524763952,0.9527123887974857,-0.0913130377024795,-1.2562092533438431,-1.4599948208670317,0.739600143985171,1.928522171471015,0.8604873721118755,0.5101454894231326,-2.0412817448349676,2.350622092982859,-1.2098096285286442,0.8793405535384373,-0.4127130171433395,-0.9510357246689423,-0.5833425292515129,2.874170539129894,0.6754534679651084,-0.43269432307745,0.6824671403544771,-0.13956406111167266,-1.2539511811434925,-0.9095655979851323,0.5131425131930456,0.2107268324859046,0.9793829033520347,0.05590920125049553,-1.4825906211123527,-0.7655955658418381,-0.9062150294307344,0.2713814492008699,0.4987962451208206,0.8724854785969101,0.04820180158157174,0.22901793866168949,-0.04264546586916472,0.9163280370522656,-0.010155961485463392,-0.9553359158941854,-1.0351518431931523,0.9471899254826112],\"type\":\"box\"},{\"boxpoints\":false,\"line\":{\"width\":1.3},\"marker\":{\"color\":\"rgba(55, 128, 191, 1.0)\"},\"name\":\"B\",\"orientation\":\"v\",\"y\":[-0.4336314864429535,1.350667166094158,0.43598099590054984,0.6468173769915163,0.06159247962019822,-0.4718946721964237,-0.34718152548498954,-0.1352352933676623,1.772522237853382,1.7932238808421221,0.09877771175165724,0.0712299488526947,-0.04660842611345164,-0.695628193641317,-0.34583211824660304,-0.08662984595296318,0.13793492787300085,-1.4318303754898554,0.5873881902834827,-2.07325722004215,-1.1770281940962717,1.594615146278771,1.2776187822533687,0.47109117398969547,-1.246668759906434,-2.2847460611624406,-1.5826105556937269,-0.811269322851608,0.8799894577447486,0.06415012993297987,-0.7434972189767668,-0.9792866546376444,-0.933045546820726,-2.3622901656782385,0.5563119426536198,-0.19041549241342892,-0.16132840248423033,-0.7338722979209311,-0.3692777802581269,0.1305385223626437,-0.6402633231215187,1.7724921834749274,-1.2351448749489011,-0.5873659331128189,-0.16728748136882754,-0.5602703504822134,1.859960185240759,0.33740918515772517,0.918671162681654,-0.07101790267351826,0.015441559320083337,-1.2031017684144387,-0.3272063740238242,-0.0001744963858636876,0.3103076161179847,-0.199759215966244,0.05146279997451216,-0.18622636023755218,-0.8103233465962649,-1.9275858643732076,-1.1374975146503152,-0.41521538622971427,0.22719945800922248,0.36402755465690834,-0.4526090911338168,0.26012367576625334,-0.22989912094729592,0.5285726171745472,0.9953458174439949,-0.9857712026396995,0.5776873616421779,-0.7424122876243162,-0.5518931892115001,-1.5518844904682583,0.24099518333260084,0.6836961998302244,-1.2015323169619367,1.2802609934383806,1.438639661407647,-0.5851440701662644,0.4603398760447712,0.49137796754968743,-0.33395034853426303,-1.3694143337900495,0.7004766841926477,-0.02776944111056883,-1.7961432780630182,-0.04463245773876887,2.1231966212717746,-1.192852440208722,-1.0474681178086687,-0.7387115531544551,-0.5637437308033575,0.9980152157280872,1.5098614226254685,-0.5438344156823638,0.15937737582332315,-1.2195955310150488,1.0856990332088072,-0.542434730291181],\"type\":\"box\"},{\"boxpoints\":false,\"line\":{\"width\":1.3},\"marker\":{\"color\":\"rgba(50, 171, 96, 1.0)\"},\"name\":\"C\",\"orientation\":\"v\",\"y\":[0.5199922630907495,0.1830355270282763,0.7338807037118276,-1.728545257297151,0.7168022743874345,0.3343533448736096,1.367568784461105,-1.3231460252968592,-1.1749318802696305,-0.6481630365252634,-1.1420800226206975,-0.9615142362127238,-0.0452134271995858,1.4659734891639267,-0.9045681334699083,-1.1910542220933276,0.1837325385010415,-1.411109124645375,-1.136955351461367,-1.8347047274835042,-1.022155266979853,-0.2544273155503784,-0.21822601111445641,-0.5036600573084827,0.046035202553452136,-0.1496112217772252,-0.028209682763141536,-1.142726266593265,-2.0960811888623643,0.05053876236196913,3.0272968829495124,-0.06278096687767033,0.018552679633553757,0.1539366907347957,-0.134862543914076,-0.5373177369861782,0.21806512288273258,0.6808733116465462,-0.4597391591651445,0.9714359016000198,-0.34594030850288865,0.3359585191357947,-1.434357536288188,-0.6454390647001046,1.534720131130264,-1.331103768060012,-0.6687366119939376,1.304139576727922,-1.8132712606461807,0.8503059053334987,-0.2981495600111228,-0.060369774916276694,0.7494397256888057,0.22786020381595087,0.8111852375948235,0.45557169646498424,0.6509407911744212,0.535837548999383,0.058653266158075444,0.47259502040126566,-1.3380608588971012,-1.0214834676430626,-0.9998203108618948,-1.149023019762514,2.2523743166374843,1.2555027389653908,-0.3726643016479303,0.31203124203188326,1.4888712219329372,1.6134635549541745,0.21745550905515545,1.6471701788707174,0.6116557938467,0.416422488935641,-1.7584717424175733,-1.0074430159686674,-0.6759265033821549,-1.5798853727489461,0.37208733583223114,-0.9219938544398251,0.14012672286259512,2.1114977132624637,0.6156311912399872,1.479888066297275,2.3304288496837566,-1.6327940805130743,-1.440517700603669,-2.992625300505153,-0.649441935687668,-0.059502032629949374,2.702329118857002,-1.2033079124282626,0.0884111127119533,1.7455290528280512,-0.9142233168065622,1.380725105275451,0.007963640867254478,0.12313920273107667,-1.230546884593442,-1.095688282805866],\"type\":\"box\"},{\"boxpoints\":false,\"line\":{\"width\":1.3},\"marker\":{\"color\":\"rgba(128, 0, 128, 1.0)\"},\"name\":\"D\",\"orientation\":\"v\",\"y\":[0.3087242940760484,-2.892920710993179,0.29755680760134023,-0.4537198687874928,0.4091428918535154,-0.5911585079707464,1.2837558388647552,-1.196327628603834,1.0089734959700447,-0.1578035162705574,-0.4986640630344464,0.8252364225226217,1.6861646626147668,0.23963447426904727,0.7641530316879358,-0.7689390705139726,1.1584556024203354,1.1360891736184686,0.009474268435621989,-0.06682386148577549,0.555353509483653,0.7333168575641268,2.098244820081542,-0.7944249098537421,1.4387239479593779,-0.4515833646085028,-1.9352520647895797,-2.049553912885645,-1.2540247569355452,0.5430137866149007,-0.31587328134723097,1.6814974048406721,-0.4206398739726167,0.5992298023947051,-1.0120089497419704,0.2997543410309787,1.2357180906828362,0.41511198706310415,1.811713654798116,-0.3253060298179894,-0.9289560752940552,0.1608610104861535,-1.1924543747439782,0.5513907525949097,0.20551765048712142,1.3756968022467897,-0.7072715173974367,1.5185818130429565,-0.4693010381594284,-0.809846037988664,-0.09078018476417095,0.012713682354540578,0.2610668997971832,-2.7022175291637685,0.4012364716342121,-0.7728524233638323,-1.8511381406173124,0.651157946355602,0.22335055826153472,-0.41596698883675215,1.7294039411584106,-0.995924445608059,0.7882627429142489,1.2863779417748025,0.32966840365706734,0.5777746168164748,-1.0398609590570271,0.5711772366363843,-0.468436443040119,1.1284915691417101,0.2904286363391695,-0.5636855185258286,0.3736149212568452,-0.33682320469314836,0.9000438298583542,0.3801388237787824,0.7183473441906332,-0.9784587147441306,-0.40902944086318,0.13100305557281391,-0.34492148658442934,-0.002431809166469376,-0.5059304901101217,0.9653255252501207,-0.8914391155462259,0.3860940733112024,0.3834056512334579,0.33545236667254646,0.7660612229706408,-0.16928256065585887,0.3847440085949903,0.44520055820183524,0.6969785207430066,0.3054280947354089,-1.1541863065851823,0.9808009213359595,-0.2608278857259081,0.04611588232013331,0.9278158849994778,0.43077265880049],\"type\":\"box\"}],                        {\"legend\":{\"bgcolor\":\"#F5F6F9\",\"font\":{\"color\":\"#4D5663\"}},\"paper_bgcolor\":\"#F5F6F9\",\"plot_bgcolor\":\"#F5F6F9\",\"template\":{\"data\":{\"barpolar\":[{\"marker\":{\"line\":{\"color\":\"#E5ECF6\",\"width\":0.5},\"pattern\":{\"fillmode\":\"overlay\",\"size\":10,\"solidity\":0.2}},\"type\":\"barpolar\"}],\"bar\":[{\"error_x\":{\"color\":\"#2a3f5f\"},\"error_y\":{\"color\":\"#2a3f5f\"},\"marker\":{\"line\":{\"color\":\"#E5ECF6\",\"width\":0.5},\"pattern\":{\"fillmode\":\"overlay\",\"size\":10,\"solidity\":0.2}},\"type\":\"bar\"}],\"carpet\":[{\"aaxis\":{\"endlinecolor\":\"#2a3f5f\",\"gridcolor\":\"white\",\"linecolor\":\"white\",\"minorgridcolor\":\"white\",\"startlinecolor\":\"#2a3f5f\"},\"baxis\":{\"endlinecolor\":\"#2a3f5f\",\"gridcolor\":\"white\",\"linecolor\":\"white\",\"minorgridcolor\":\"white\",\"startlinecolor\":\"#2a3f5f\"},\"type\":\"carpet\"}],\"choropleth\":[{\"colorbar\":{\"outlinewidth\":0,\"ticks\":\"\"},\"type\":\"choropleth\"}],\"contourcarpet\":[{\"colorbar\":{\"outlinewidth\":0,\"ticks\":\"\"},\"type\":\"contourcarpet\"}],\"contour\":[{\"colorbar\":{\"outlinewidth\":0,\"ticks\":\"\"},\"colorscale\":[[0.0,\"#0d0887\"],[0.1111111111111111,\"#46039f\"],[0.2222222222222222,\"#7201a8\"],[0.3333333333333333,\"#9c179e\"],[0.4444444444444444,\"#bd3786\"],[0.5555555555555556,\"#d8576b\"],[0.6666666666666666,\"#ed7953\"],[0.7777777777777778,\"#fb9f3a\"],[0.8888888888888888,\"#fdca26\"],[1.0,\"#f0f921\"]],\"type\":\"contour\"}],\"heatmapgl\":[{\"colorbar\":{\"outlinewidth\":0,\"ticks\":\"\"},\"colorscale\":[[0.0,\"#0d0887\"],[0.1111111111111111,\"#46039f\"],[0.2222222222222222,\"#7201a8\"],[0.3333333333333333,\"#9c179e\"],[0.4444444444444444,\"#bd3786\"],[0.5555555555555556,\"#d8576b\"],[0.6666666666666666,\"#ed7953\"],[0.7777777777777778,\"#fb9f3a\"],[0.8888888888888888,\"#fdca26\"],[1.0,\"#f0f921\"]],\"type\":\"heatmapgl\"}],\"heatmap\":[{\"colorbar\":{\"outlinewidth\":0,\"ticks\":\"\"},\"colorscale\":[[0.0,\"#0d0887\"],[0.1111111111111111,\"#46039f\"],[0.2222222222222222,\"#7201a8\"],[0.3333333333333333,\"#9c179e\"],[0.4444444444444444,\"#bd3786\"],[0.5555555555555556,\"#d8576b\"],[0.6666666666666666,\"#ed7953\"],[0.7777777777777778,\"#fb9f3a\"],[0.8888888888888888,\"#fdca26\"],[1.0,\"#f0f921\"]],\"type\":\"heatmap\"}],\"histogram2dcontour\":[{\"colorbar\":{\"outlinewidth\":0,\"ticks\":\"\"},\"colorscale\":[[0.0,\"#0d0887\"],[0.1111111111111111,\"#46039f\"],[0.2222222222222222,\"#7201a8\"],[0.3333333333333333,\"#9c179e\"],[0.4444444444444444,\"#bd3786\"],[0.5555555555555556,\"#d8576b\"],[0.6666666666666666,\"#ed7953\"],[0.7777777777777778,\"#fb9f3a\"],[0.8888888888888888,\"#fdca26\"],[1.0,\"#f0f921\"]],\"type\":\"histogram2dcontour\"}],\"histogram2d\":[{\"colorbar\":{\"outlinewidth\":0,\"ticks\":\"\"},\"colorscale\":[[0.0,\"#0d0887\"],[0.1111111111111111,\"#46039f\"],[0.2222222222222222,\"#7201a8\"],[0.3333333333333333,\"#9c179e\"],[0.4444444444444444,\"#bd3786\"],[0.5555555555555556,\"#d8576b\"],[0.6666666666666666,\"#ed7953\"],[0.7777777777777778,\"#fb9f3a\"],[0.8888888888888888,\"#fdca26\"],[1.0,\"#f0f921\"]],\"type\":\"histogram2d\"}],\"histogram\":[{\"marker\":{\"pattern\":{\"fillmode\":\"overlay\",\"size\":10,\"solidity\":0.2}},\"type\":\"histogram\"}],\"mesh3d\":[{\"colorbar\":{\"outlinewidth\":0,\"ticks\":\"\"},\"type\":\"mesh3d\"}],\"parcoords\":[{\"line\":{\"colorbar\":{\"outlinewidth\":0,\"ticks\":\"\"}},\"type\":\"parcoords\"}],\"pie\":[{\"automargin\":true,\"type\":\"pie\"}],\"scatter3d\":[{\"line\":{\"colorbar\":{\"outlinewidth\":0,\"ticks\":\"\"}},\"marker\":{\"colorbar\":{\"outlinewidth\":0,\"ticks\":\"\"}},\"type\":\"scatter3d\"}],\"scattercarpet\":[{\"marker\":{\"colorbar\":{\"outlinewidth\":0,\"ticks\":\"\"}},\"type\":\"scattercarpet\"}],\"scattergeo\":[{\"marker\":{\"colorbar\":{\"outlinewidth\":0,\"ticks\":\"\"}},\"type\":\"scattergeo\"}],\"scattergl\":[{\"marker\":{\"colorbar\":{\"outlinewidth\":0,\"ticks\":\"\"}},\"type\":\"scattergl\"}],\"scattermapbox\":[{\"marker\":{\"colorbar\":{\"outlinewidth\":0,\"ticks\":\"\"}},\"type\":\"scattermapbox\"}],\"scatterpolargl\":[{\"marker\":{\"colorbar\":{\"outlinewidth\":0,\"ticks\":\"\"}},\"type\":\"scatterpolargl\"}],\"scatterpolar\":[{\"marker\":{\"colorbar\":{\"outlinewidth\":0,\"ticks\":\"\"}},\"type\":\"scatterpolar\"}],\"scatter\":[{\"fillpattern\":{\"fillmode\":\"overlay\",\"size\":10,\"solidity\":0.2},\"type\":\"scatter\"}],\"scatterternary\":[{\"marker\":{\"colorbar\":{\"outlinewidth\":0,\"ticks\":\"\"}},\"type\":\"scatterternary\"}],\"surface\":[{\"colorbar\":{\"outlinewidth\":0,\"ticks\":\"\"},\"colorscale\":[[0.0,\"#0d0887\"],[0.1111111111111111,\"#46039f\"],[0.2222222222222222,\"#7201a8\"],[0.3333333333333333,\"#9c179e\"],[0.4444444444444444,\"#bd3786\"],[0.5555555555555556,\"#d8576b\"],[0.6666666666666666,\"#ed7953\"],[0.7777777777777778,\"#fb9f3a\"],[0.8888888888888888,\"#fdca26\"],[1.0,\"#f0f921\"]],\"type\":\"surface\"}],\"table\":[{\"cells\":{\"fill\":{\"color\":\"#EBF0F8\"},\"line\":{\"color\":\"white\"}},\"header\":{\"fill\":{\"color\":\"#C8D4E3\"},\"line\":{\"color\":\"white\"}},\"type\":\"table\"}]},\"layout\":{\"annotationdefaults\":{\"arrowcolor\":\"#2a3f5f\",\"arrowhead\":0,\"arrowwidth\":1},\"autotypenumbers\":\"strict\",\"coloraxis\":{\"colorbar\":{\"outlinewidth\":0,\"ticks\":\"\"}},\"colorscale\":{\"diverging\":[[0,\"#8e0152\"],[0.1,\"#c51b7d\"],[0.2,\"#de77ae\"],[0.3,\"#f1b6da\"],[0.4,\"#fde0ef\"],[0.5,\"#f7f7f7\"],[0.6,\"#e6f5d0\"],[0.7,\"#b8e186\"],[0.8,\"#7fbc41\"],[0.9,\"#4d9221\"],[1,\"#276419\"]],\"sequential\":[[0.0,\"#0d0887\"],[0.1111111111111111,\"#46039f\"],[0.2222222222222222,\"#7201a8\"],[0.3333333333333333,\"#9c179e\"],[0.4444444444444444,\"#bd3786\"],[0.5555555555555556,\"#d8576b\"],[0.6666666666666666,\"#ed7953\"],[0.7777777777777778,\"#fb9f3a\"],[0.8888888888888888,\"#fdca26\"],[1.0,\"#f0f921\"]],\"sequentialminus\":[[0.0,\"#0d0887\"],[0.1111111111111111,\"#46039f\"],[0.2222222222222222,\"#7201a8\"],[0.3333333333333333,\"#9c179e\"],[0.4444444444444444,\"#bd3786\"],[0.5555555555555556,\"#d8576b\"],[0.6666666666666666,\"#ed7953\"],[0.7777777777777778,\"#fb9f3a\"],[0.8888888888888888,\"#fdca26\"],[1.0,\"#f0f921\"]]},\"colorway\":[\"#636efa\",\"#EF553B\",\"#00cc96\",\"#ab63fa\",\"#FFA15A\",\"#19d3f3\",\"#FF6692\",\"#B6E880\",\"#FF97FF\",\"#FECB52\"],\"font\":{\"color\":\"#2a3f5f\"},\"geo\":{\"bgcolor\":\"white\",\"lakecolor\":\"white\",\"landcolor\":\"#E5ECF6\",\"showlakes\":true,\"showland\":true,\"subunitcolor\":\"white\"},\"hoverlabel\":{\"align\":\"left\"},\"hovermode\":\"closest\",\"mapbox\":{\"style\":\"light\"},\"paper_bgcolor\":\"white\",\"plot_bgcolor\":\"#E5ECF6\",\"polar\":{\"angularaxis\":{\"gridcolor\":\"white\",\"linecolor\":\"white\",\"ticks\":\"\"},\"bgcolor\":\"#E5ECF6\",\"radialaxis\":{\"gridcolor\":\"white\",\"linecolor\":\"white\",\"ticks\":\"\"}},\"scene\":{\"xaxis\":{\"backgroundcolor\":\"#E5ECF6\",\"gridcolor\":\"white\",\"gridwidth\":2,\"linecolor\":\"white\",\"showbackground\":true,\"ticks\":\"\",\"zerolinecolor\":\"white\"},\"yaxis\":{\"backgroundcolor\":\"#E5ECF6\",\"gridcolor\":\"white\",\"gridwidth\":2,\"linecolor\":\"white\",\"showbackground\":true,\"ticks\":\"\",\"zerolinecolor\":\"white\"},\"zaxis\":{\"backgroundcolor\":\"#E5ECF6\",\"gridcolor\":\"white\",\"gridwidth\":2,\"linecolor\":\"white\",\"showbackground\":true,\"ticks\":\"\",\"zerolinecolor\":\"white\"}},\"shapedefaults\":{\"line\":{\"color\":\"#2a3f5f\"}},\"ternary\":{\"aaxis\":{\"gridcolor\":\"white\",\"linecolor\":\"white\",\"ticks\":\"\"},\"baxis\":{\"gridcolor\":\"white\",\"linecolor\":\"white\",\"ticks\":\"\"},\"bgcolor\":\"#E5ECF6\",\"caxis\":{\"gridcolor\":\"white\",\"linecolor\":\"white\",\"ticks\":\"\"}},\"title\":{\"x\":0.05},\"xaxis\":{\"automargin\":true,\"gridcolor\":\"white\",\"linecolor\":\"white\",\"ticks\":\"\",\"title\":{\"standoff\":15},\"zerolinecolor\":\"white\",\"zerolinewidth\":2},\"yaxis\":{\"automargin\":true,\"gridcolor\":\"white\",\"linecolor\":\"white\",\"ticks\":\"\",\"title\":{\"standoff\":15},\"zerolinecolor\":\"white\",\"zerolinewidth\":2}}},\"title\":{\"font\":{\"color\":\"#4D5663\"}},\"xaxis\":{\"gridcolor\":\"#E1E5ED\",\"showgrid\":true,\"tickfont\":{\"color\":\"#4D5663\"},\"title\":{\"font\":{\"color\":\"#4D5663\"},\"text\":\"\"},\"zerolinecolor\":\"#E1E5ED\"},\"yaxis\":{\"gridcolor\":\"#E1E5ED\",\"showgrid\":true,\"tickfont\":{\"color\":\"#4D5663\"},\"title\":{\"font\":{\"color\":\"#4D5663\"},\"text\":\"\"},\"zerolinecolor\":\"#E1E5ED\"}},                        {\"showLink\": true, \"linkText\": \"Export to plot.ly\", \"plotlyServerURL\": \"https://plot.ly\", \"responsive\": true}                    ).then(function(){\n",
       "                            \n",
       "var gd = document.getElementById('a1d73056-2f14-45f4-b283-29e7cd1c3421');\n",
       "var x = new MutationObserver(function (mutations, observer) {{\n",
       "        var display = window.getComputedStyle(gd).display;\n",
       "        if (!display || display === 'none') {{\n",
       "            console.log([gd, 'removed!']);\n",
       "            Plotly.purge(gd);\n",
       "            observer.disconnect();\n",
       "        }}\n",
       "}});\n",
       "\n",
       "// Listen for the removal of the full notebook cells\n",
       "var notebookContainer = gd.closest('#notebook-container');\n",
       "if (notebookContainer) {{\n",
       "    x.observe(notebookContainer, {childList: true});\n",
       "}}\n",
       "\n",
       "// Listen for the clearing of the current output cell\n",
       "var outputEl = gd.closest('.output');\n",
       "if (outputEl) {{\n",
       "    x.observe(outputEl, {childList: true});\n",
       "}}\n",
       "\n",
       "                        })                };                });            </script>        </div>"
      ]
     },
     "metadata": {},
     "output_type": "display_data"
    }
   ],
   "source": [
    "df.iplot(kind='box')"
   ]
  },
  {
   "cell_type": "code",
   "execution_count": 15,
   "id": "1923c46d",
   "metadata": {},
   "outputs": [
    {
     "data": {
      "application/vnd.plotly.v1+json": {
       "config": {
        "linkText": "Export to plot.ly",
        "plotlyServerURL": "https://plot.ly",
        "showLink": true
       },
       "data": [
        {
         "colorscale": [
          [
           0,
           "rgb(165,0,38)"
          ],
          [
           0.1,
           "rgb(215,48,39)"
          ],
          [
           0.2,
           "rgb(244,109,67)"
          ],
          [
           0.3,
           "rgb(253,174,97)"
          ],
          [
           0.4,
           "rgb(254,224,144)"
          ],
          [
           0.5,
           "rgb(255,255,191)"
          ],
          [
           0.6,
           "rgb(224,243,248)"
          ],
          [
           0.7,
           "rgb(171,217,233)"
          ],
          [
           0.8,
           "rgb(116,173,209)"
          ],
          [
           0.9,
           "rgb(69,117,180)"
          ],
          [
           1,
           "rgb(49,54,149)"
          ]
         ],
         "type": "surface",
         "x": [
          0,
          1,
          2,
          3,
          4
         ],
         "y": [
          "x",
          "y",
          "z"
         ],
         "z": [
          [
           1,
           2,
           3,
           4,
           5
          ],
          [
           10,
           20,
           30,
           20,
           10
          ],
          [
           5,
           4,
           3,
           2,
           1
          ]
         ]
        }
       ],
       "layout": {
        "legend": {
         "bgcolor": "#F5F6F9",
         "font": {
          "color": "#4D5663"
         }
        },
        "paper_bgcolor": "#F5F6F9",
        "plot_bgcolor": "#F5F6F9",
        "template": {
         "data": {
          "bar": [
           {
            "error_x": {
             "color": "#2a3f5f"
            },
            "error_y": {
             "color": "#2a3f5f"
            },
            "marker": {
             "line": {
              "color": "#E5ECF6",
              "width": 0.5
             },
             "pattern": {
              "fillmode": "overlay",
              "size": 10,
              "solidity": 0.2
             }
            },
            "type": "bar"
           }
          ],
          "barpolar": [
           {
            "marker": {
             "line": {
              "color": "#E5ECF6",
              "width": 0.5
             },
             "pattern": {
              "fillmode": "overlay",
              "size": 10,
              "solidity": 0.2
             }
            },
            "type": "barpolar"
           }
          ],
          "carpet": [
           {
            "aaxis": {
             "endlinecolor": "#2a3f5f",
             "gridcolor": "white",
             "linecolor": "white",
             "minorgridcolor": "white",
             "startlinecolor": "#2a3f5f"
            },
            "baxis": {
             "endlinecolor": "#2a3f5f",
             "gridcolor": "white",
             "linecolor": "white",
             "minorgridcolor": "white",
             "startlinecolor": "#2a3f5f"
            },
            "type": "carpet"
           }
          ],
          "choropleth": [
           {
            "colorbar": {
             "outlinewidth": 0,
             "ticks": ""
            },
            "type": "choropleth"
           }
          ],
          "contour": [
           {
            "colorbar": {
             "outlinewidth": 0,
             "ticks": ""
            },
            "colorscale": [
             [
              0,
              "#0d0887"
             ],
             [
              0.1111111111111111,
              "#46039f"
             ],
             [
              0.2222222222222222,
              "#7201a8"
             ],
             [
              0.3333333333333333,
              "#9c179e"
             ],
             [
              0.4444444444444444,
              "#bd3786"
             ],
             [
              0.5555555555555556,
              "#d8576b"
             ],
             [
              0.6666666666666666,
              "#ed7953"
             ],
             [
              0.7777777777777778,
              "#fb9f3a"
             ],
             [
              0.8888888888888888,
              "#fdca26"
             ],
             [
              1,
              "#f0f921"
             ]
            ],
            "type": "contour"
           }
          ],
          "contourcarpet": [
           {
            "colorbar": {
             "outlinewidth": 0,
             "ticks": ""
            },
            "type": "contourcarpet"
           }
          ],
          "heatmap": [
           {
            "colorbar": {
             "outlinewidth": 0,
             "ticks": ""
            },
            "colorscale": [
             [
              0,
              "#0d0887"
             ],
             [
              0.1111111111111111,
              "#46039f"
             ],
             [
              0.2222222222222222,
              "#7201a8"
             ],
             [
              0.3333333333333333,
              "#9c179e"
             ],
             [
              0.4444444444444444,
              "#bd3786"
             ],
             [
              0.5555555555555556,
              "#d8576b"
             ],
             [
              0.6666666666666666,
              "#ed7953"
             ],
             [
              0.7777777777777778,
              "#fb9f3a"
             ],
             [
              0.8888888888888888,
              "#fdca26"
             ],
             [
              1,
              "#f0f921"
             ]
            ],
            "type": "heatmap"
           }
          ],
          "heatmapgl": [
           {
            "colorbar": {
             "outlinewidth": 0,
             "ticks": ""
            },
            "colorscale": [
             [
              0,
              "#0d0887"
             ],
             [
              0.1111111111111111,
              "#46039f"
             ],
             [
              0.2222222222222222,
              "#7201a8"
             ],
             [
              0.3333333333333333,
              "#9c179e"
             ],
             [
              0.4444444444444444,
              "#bd3786"
             ],
             [
              0.5555555555555556,
              "#d8576b"
             ],
             [
              0.6666666666666666,
              "#ed7953"
             ],
             [
              0.7777777777777778,
              "#fb9f3a"
             ],
             [
              0.8888888888888888,
              "#fdca26"
             ],
             [
              1,
              "#f0f921"
             ]
            ],
            "type": "heatmapgl"
           }
          ],
          "histogram": [
           {
            "marker": {
             "pattern": {
              "fillmode": "overlay",
              "size": 10,
              "solidity": 0.2
             }
            },
            "type": "histogram"
           }
          ],
          "histogram2d": [
           {
            "colorbar": {
             "outlinewidth": 0,
             "ticks": ""
            },
            "colorscale": [
             [
              0,
              "#0d0887"
             ],
             [
              0.1111111111111111,
              "#46039f"
             ],
             [
              0.2222222222222222,
              "#7201a8"
             ],
             [
              0.3333333333333333,
              "#9c179e"
             ],
             [
              0.4444444444444444,
              "#bd3786"
             ],
             [
              0.5555555555555556,
              "#d8576b"
             ],
             [
              0.6666666666666666,
              "#ed7953"
             ],
             [
              0.7777777777777778,
              "#fb9f3a"
             ],
             [
              0.8888888888888888,
              "#fdca26"
             ],
             [
              1,
              "#f0f921"
             ]
            ],
            "type": "histogram2d"
           }
          ],
          "histogram2dcontour": [
           {
            "colorbar": {
             "outlinewidth": 0,
             "ticks": ""
            },
            "colorscale": [
             [
              0,
              "#0d0887"
             ],
             [
              0.1111111111111111,
              "#46039f"
             ],
             [
              0.2222222222222222,
              "#7201a8"
             ],
             [
              0.3333333333333333,
              "#9c179e"
             ],
             [
              0.4444444444444444,
              "#bd3786"
             ],
             [
              0.5555555555555556,
              "#d8576b"
             ],
             [
              0.6666666666666666,
              "#ed7953"
             ],
             [
              0.7777777777777778,
              "#fb9f3a"
             ],
             [
              0.8888888888888888,
              "#fdca26"
             ],
             [
              1,
              "#f0f921"
             ]
            ],
            "type": "histogram2dcontour"
           }
          ],
          "mesh3d": [
           {
            "colorbar": {
             "outlinewidth": 0,
             "ticks": ""
            },
            "type": "mesh3d"
           }
          ],
          "parcoords": [
           {
            "line": {
             "colorbar": {
              "outlinewidth": 0,
              "ticks": ""
             }
            },
            "type": "parcoords"
           }
          ],
          "pie": [
           {
            "automargin": true,
            "type": "pie"
           }
          ],
          "scatter": [
           {
            "fillpattern": {
             "fillmode": "overlay",
             "size": 10,
             "solidity": 0.2
            },
            "type": "scatter"
           }
          ],
          "scatter3d": [
           {
            "line": {
             "colorbar": {
              "outlinewidth": 0,
              "ticks": ""
             }
            },
            "marker": {
             "colorbar": {
              "outlinewidth": 0,
              "ticks": ""
             }
            },
            "type": "scatter3d"
           }
          ],
          "scattercarpet": [
           {
            "marker": {
             "colorbar": {
              "outlinewidth": 0,
              "ticks": ""
             }
            },
            "type": "scattercarpet"
           }
          ],
          "scattergeo": [
           {
            "marker": {
             "colorbar": {
              "outlinewidth": 0,
              "ticks": ""
             }
            },
            "type": "scattergeo"
           }
          ],
          "scattergl": [
           {
            "marker": {
             "colorbar": {
              "outlinewidth": 0,
              "ticks": ""
             }
            },
            "type": "scattergl"
           }
          ],
          "scattermapbox": [
           {
            "marker": {
             "colorbar": {
              "outlinewidth": 0,
              "ticks": ""
             }
            },
            "type": "scattermapbox"
           }
          ],
          "scatterpolar": [
           {
            "marker": {
             "colorbar": {
              "outlinewidth": 0,
              "ticks": ""
             }
            },
            "type": "scatterpolar"
           }
          ],
          "scatterpolargl": [
           {
            "marker": {
             "colorbar": {
              "outlinewidth": 0,
              "ticks": ""
             }
            },
            "type": "scatterpolargl"
           }
          ],
          "scatterternary": [
           {
            "marker": {
             "colorbar": {
              "outlinewidth": 0,
              "ticks": ""
             }
            },
            "type": "scatterternary"
           }
          ],
          "surface": [
           {
            "colorbar": {
             "outlinewidth": 0,
             "ticks": ""
            },
            "colorscale": [
             [
              0,
              "#0d0887"
             ],
             [
              0.1111111111111111,
              "#46039f"
             ],
             [
              0.2222222222222222,
              "#7201a8"
             ],
             [
              0.3333333333333333,
              "#9c179e"
             ],
             [
              0.4444444444444444,
              "#bd3786"
             ],
             [
              0.5555555555555556,
              "#d8576b"
             ],
             [
              0.6666666666666666,
              "#ed7953"
             ],
             [
              0.7777777777777778,
              "#fb9f3a"
             ],
             [
              0.8888888888888888,
              "#fdca26"
             ],
             [
              1,
              "#f0f921"
             ]
            ],
            "type": "surface"
           }
          ],
          "table": [
           {
            "cells": {
             "fill": {
              "color": "#EBF0F8"
             },
             "line": {
              "color": "white"
             }
            },
            "header": {
             "fill": {
              "color": "#C8D4E3"
             },
             "line": {
              "color": "white"
             }
            },
            "type": "table"
           }
          ]
         },
         "layout": {
          "annotationdefaults": {
           "arrowcolor": "#2a3f5f",
           "arrowhead": 0,
           "arrowwidth": 1
          },
          "autotypenumbers": "strict",
          "coloraxis": {
           "colorbar": {
            "outlinewidth": 0,
            "ticks": ""
           }
          },
          "colorscale": {
           "diverging": [
            [
             0,
             "#8e0152"
            ],
            [
             0.1,
             "#c51b7d"
            ],
            [
             0.2,
             "#de77ae"
            ],
            [
             0.3,
             "#f1b6da"
            ],
            [
             0.4,
             "#fde0ef"
            ],
            [
             0.5,
             "#f7f7f7"
            ],
            [
             0.6,
             "#e6f5d0"
            ],
            [
             0.7,
             "#b8e186"
            ],
            [
             0.8,
             "#7fbc41"
            ],
            [
             0.9,
             "#4d9221"
            ],
            [
             1,
             "#276419"
            ]
           ],
           "sequential": [
            [
             0,
             "#0d0887"
            ],
            [
             0.1111111111111111,
             "#46039f"
            ],
            [
             0.2222222222222222,
             "#7201a8"
            ],
            [
             0.3333333333333333,
             "#9c179e"
            ],
            [
             0.4444444444444444,
             "#bd3786"
            ],
            [
             0.5555555555555556,
             "#d8576b"
            ],
            [
             0.6666666666666666,
             "#ed7953"
            ],
            [
             0.7777777777777778,
             "#fb9f3a"
            ],
            [
             0.8888888888888888,
             "#fdca26"
            ],
            [
             1,
             "#f0f921"
            ]
           ],
           "sequentialminus": [
            [
             0,
             "#0d0887"
            ],
            [
             0.1111111111111111,
             "#46039f"
            ],
            [
             0.2222222222222222,
             "#7201a8"
            ],
            [
             0.3333333333333333,
             "#9c179e"
            ],
            [
             0.4444444444444444,
             "#bd3786"
            ],
            [
             0.5555555555555556,
             "#d8576b"
            ],
            [
             0.6666666666666666,
             "#ed7953"
            ],
            [
             0.7777777777777778,
             "#fb9f3a"
            ],
            [
             0.8888888888888888,
             "#fdca26"
            ],
            [
             1,
             "#f0f921"
            ]
           ]
          },
          "colorway": [
           "#636efa",
           "#EF553B",
           "#00cc96",
           "#ab63fa",
           "#FFA15A",
           "#19d3f3",
           "#FF6692",
           "#B6E880",
           "#FF97FF",
           "#FECB52"
          ],
          "font": {
           "color": "#2a3f5f"
          },
          "geo": {
           "bgcolor": "white",
           "lakecolor": "white",
           "landcolor": "#E5ECF6",
           "showlakes": true,
           "showland": true,
           "subunitcolor": "white"
          },
          "hoverlabel": {
           "align": "left"
          },
          "hovermode": "closest",
          "mapbox": {
           "style": "light"
          },
          "paper_bgcolor": "white",
          "plot_bgcolor": "#E5ECF6",
          "polar": {
           "angularaxis": {
            "gridcolor": "white",
            "linecolor": "white",
            "ticks": ""
           },
           "bgcolor": "#E5ECF6",
           "radialaxis": {
            "gridcolor": "white",
            "linecolor": "white",
            "ticks": ""
           }
          },
          "scene": {
           "xaxis": {
            "backgroundcolor": "#E5ECF6",
            "gridcolor": "white",
            "gridwidth": 2,
            "linecolor": "white",
            "showbackground": true,
            "ticks": "",
            "zerolinecolor": "white"
           },
           "yaxis": {
            "backgroundcolor": "#E5ECF6",
            "gridcolor": "white",
            "gridwidth": 2,
            "linecolor": "white",
            "showbackground": true,
            "ticks": "",
            "zerolinecolor": "white"
           },
           "zaxis": {
            "backgroundcolor": "#E5ECF6",
            "gridcolor": "white",
            "gridwidth": 2,
            "linecolor": "white",
            "showbackground": true,
            "ticks": "",
            "zerolinecolor": "white"
           }
          },
          "shapedefaults": {
           "line": {
            "color": "#2a3f5f"
           }
          },
          "ternary": {
           "aaxis": {
            "gridcolor": "white",
            "linecolor": "white",
            "ticks": ""
           },
           "baxis": {
            "gridcolor": "white",
            "linecolor": "white",
            "ticks": ""
           },
           "bgcolor": "#E5ECF6",
           "caxis": {
            "gridcolor": "white",
            "linecolor": "white",
            "ticks": ""
           }
          },
          "title": {
           "x": 0.05
          },
          "xaxis": {
           "automargin": true,
           "gridcolor": "white",
           "linecolor": "white",
           "ticks": "",
           "title": {
            "standoff": 15
           },
           "zerolinecolor": "white",
           "zerolinewidth": 2
          },
          "yaxis": {
           "automargin": true,
           "gridcolor": "white",
           "linecolor": "white",
           "ticks": "",
           "title": {
            "standoff": 15
           },
           "zerolinecolor": "white",
           "zerolinewidth": 2
          }
         }
        },
        "title": {
         "font": {
          "color": "#4D5663"
         }
        },
        "xaxis": {
         "gridcolor": "#E1E5ED",
         "showgrid": true,
         "tickfont": {
          "color": "#4D5663"
         },
         "title": {
          "font": {
           "color": "#4D5663"
          },
          "text": ""
         },
         "zerolinecolor": "#E1E5ED"
        },
        "yaxis": {
         "gridcolor": "#E1E5ED",
         "showgrid": true,
         "tickfont": {
          "color": "#4D5663"
         },
         "title": {
          "font": {
           "color": "#4D5663"
          },
          "text": ""
         },
         "zerolinecolor": "#E1E5ED"
        }
       }
      },
      "text/html": [
       "<div>                            <div id=\"19d49845-64af-42cc-9e3e-0b5979d5d43f\" class=\"plotly-graph-div\" style=\"height:525px; width:100%;\"></div>            <script type=\"text/javascript\">                require([\"plotly\"], function(Plotly) {                    window.PLOTLYENV=window.PLOTLYENV || {};\n",
       "                    window.PLOTLYENV.BASE_URL='https://plot.ly';                                    if (document.getElementById(\"19d49845-64af-42cc-9e3e-0b5979d5d43f\")) {                    Plotly.newPlot(                        \"19d49845-64af-42cc-9e3e-0b5979d5d43f\",                        [{\"colorscale\":[[0.0,\"rgb(165,0,38)\"],[0.1,\"rgb(215,48,39)\"],[0.2,\"rgb(244,109,67)\"],[0.3,\"rgb(253,174,97)\"],[0.4,\"rgb(254,224,144)\"],[0.5,\"rgb(255,255,191)\"],[0.6,\"rgb(224,243,248)\"],[0.7,\"rgb(171,217,233)\"],[0.8,\"rgb(116,173,209)\"],[0.9,\"rgb(69,117,180)\"],[1.0,\"rgb(49,54,149)\"]],\"x\":[0,1,2,3,4],\"y\":[\"x\",\"y\",\"z\"],\"z\":[[1,2,3,4,5],[10,20,30,20,10],[5,4,3,2,1]],\"type\":\"surface\"}],                        {\"legend\":{\"bgcolor\":\"#F5F6F9\",\"font\":{\"color\":\"#4D5663\"}},\"paper_bgcolor\":\"#F5F6F9\",\"plot_bgcolor\":\"#F5F6F9\",\"template\":{\"data\":{\"barpolar\":[{\"marker\":{\"line\":{\"color\":\"#E5ECF6\",\"width\":0.5},\"pattern\":{\"fillmode\":\"overlay\",\"size\":10,\"solidity\":0.2}},\"type\":\"barpolar\"}],\"bar\":[{\"error_x\":{\"color\":\"#2a3f5f\"},\"error_y\":{\"color\":\"#2a3f5f\"},\"marker\":{\"line\":{\"color\":\"#E5ECF6\",\"width\":0.5},\"pattern\":{\"fillmode\":\"overlay\",\"size\":10,\"solidity\":0.2}},\"type\":\"bar\"}],\"carpet\":[{\"aaxis\":{\"endlinecolor\":\"#2a3f5f\",\"gridcolor\":\"white\",\"linecolor\":\"white\",\"minorgridcolor\":\"white\",\"startlinecolor\":\"#2a3f5f\"},\"baxis\":{\"endlinecolor\":\"#2a3f5f\",\"gridcolor\":\"white\",\"linecolor\":\"white\",\"minorgridcolor\":\"white\",\"startlinecolor\":\"#2a3f5f\"},\"type\":\"carpet\"}],\"choropleth\":[{\"colorbar\":{\"outlinewidth\":0,\"ticks\":\"\"},\"type\":\"choropleth\"}],\"contourcarpet\":[{\"colorbar\":{\"outlinewidth\":0,\"ticks\":\"\"},\"type\":\"contourcarpet\"}],\"contour\":[{\"colorbar\":{\"outlinewidth\":0,\"ticks\":\"\"},\"colorscale\":[[0.0,\"#0d0887\"],[0.1111111111111111,\"#46039f\"],[0.2222222222222222,\"#7201a8\"],[0.3333333333333333,\"#9c179e\"],[0.4444444444444444,\"#bd3786\"],[0.5555555555555556,\"#d8576b\"],[0.6666666666666666,\"#ed7953\"],[0.7777777777777778,\"#fb9f3a\"],[0.8888888888888888,\"#fdca26\"],[1.0,\"#f0f921\"]],\"type\":\"contour\"}],\"heatmapgl\":[{\"colorbar\":{\"outlinewidth\":0,\"ticks\":\"\"},\"colorscale\":[[0.0,\"#0d0887\"],[0.1111111111111111,\"#46039f\"],[0.2222222222222222,\"#7201a8\"],[0.3333333333333333,\"#9c179e\"],[0.4444444444444444,\"#bd3786\"],[0.5555555555555556,\"#d8576b\"],[0.6666666666666666,\"#ed7953\"],[0.7777777777777778,\"#fb9f3a\"],[0.8888888888888888,\"#fdca26\"],[1.0,\"#f0f921\"]],\"type\":\"heatmapgl\"}],\"heatmap\":[{\"colorbar\":{\"outlinewidth\":0,\"ticks\":\"\"},\"colorscale\":[[0.0,\"#0d0887\"],[0.1111111111111111,\"#46039f\"],[0.2222222222222222,\"#7201a8\"],[0.3333333333333333,\"#9c179e\"],[0.4444444444444444,\"#bd3786\"],[0.5555555555555556,\"#d8576b\"],[0.6666666666666666,\"#ed7953\"],[0.7777777777777778,\"#fb9f3a\"],[0.8888888888888888,\"#fdca26\"],[1.0,\"#f0f921\"]],\"type\":\"heatmap\"}],\"histogram2dcontour\":[{\"colorbar\":{\"outlinewidth\":0,\"ticks\":\"\"},\"colorscale\":[[0.0,\"#0d0887\"],[0.1111111111111111,\"#46039f\"],[0.2222222222222222,\"#7201a8\"],[0.3333333333333333,\"#9c179e\"],[0.4444444444444444,\"#bd3786\"],[0.5555555555555556,\"#d8576b\"],[0.6666666666666666,\"#ed7953\"],[0.7777777777777778,\"#fb9f3a\"],[0.8888888888888888,\"#fdca26\"],[1.0,\"#f0f921\"]],\"type\":\"histogram2dcontour\"}],\"histogram2d\":[{\"colorbar\":{\"outlinewidth\":0,\"ticks\":\"\"},\"colorscale\":[[0.0,\"#0d0887\"],[0.1111111111111111,\"#46039f\"],[0.2222222222222222,\"#7201a8\"],[0.3333333333333333,\"#9c179e\"],[0.4444444444444444,\"#bd3786\"],[0.5555555555555556,\"#d8576b\"],[0.6666666666666666,\"#ed7953\"],[0.7777777777777778,\"#fb9f3a\"],[0.8888888888888888,\"#fdca26\"],[1.0,\"#f0f921\"]],\"type\":\"histogram2d\"}],\"histogram\":[{\"marker\":{\"pattern\":{\"fillmode\":\"overlay\",\"size\":10,\"solidity\":0.2}},\"type\":\"histogram\"}],\"mesh3d\":[{\"colorbar\":{\"outlinewidth\":0,\"ticks\":\"\"},\"type\":\"mesh3d\"}],\"parcoords\":[{\"line\":{\"colorbar\":{\"outlinewidth\":0,\"ticks\":\"\"}},\"type\":\"parcoords\"}],\"pie\":[{\"automargin\":true,\"type\":\"pie\"}],\"scatter3d\":[{\"line\":{\"colorbar\":{\"outlinewidth\":0,\"ticks\":\"\"}},\"marker\":{\"colorbar\":{\"outlinewidth\":0,\"ticks\":\"\"}},\"type\":\"scatter3d\"}],\"scattercarpet\":[{\"marker\":{\"colorbar\":{\"outlinewidth\":0,\"ticks\":\"\"}},\"type\":\"scattercarpet\"}],\"scattergeo\":[{\"marker\":{\"colorbar\":{\"outlinewidth\":0,\"ticks\":\"\"}},\"type\":\"scattergeo\"}],\"scattergl\":[{\"marker\":{\"colorbar\":{\"outlinewidth\":0,\"ticks\":\"\"}},\"type\":\"scattergl\"}],\"scattermapbox\":[{\"marker\":{\"colorbar\":{\"outlinewidth\":0,\"ticks\":\"\"}},\"type\":\"scattermapbox\"}],\"scatterpolargl\":[{\"marker\":{\"colorbar\":{\"outlinewidth\":0,\"ticks\":\"\"}},\"type\":\"scatterpolargl\"}],\"scatterpolar\":[{\"marker\":{\"colorbar\":{\"outlinewidth\":0,\"ticks\":\"\"}},\"type\":\"scatterpolar\"}],\"scatter\":[{\"fillpattern\":{\"fillmode\":\"overlay\",\"size\":10,\"solidity\":0.2},\"type\":\"scatter\"}],\"scatterternary\":[{\"marker\":{\"colorbar\":{\"outlinewidth\":0,\"ticks\":\"\"}},\"type\":\"scatterternary\"}],\"surface\":[{\"colorbar\":{\"outlinewidth\":0,\"ticks\":\"\"},\"colorscale\":[[0.0,\"#0d0887\"],[0.1111111111111111,\"#46039f\"],[0.2222222222222222,\"#7201a8\"],[0.3333333333333333,\"#9c179e\"],[0.4444444444444444,\"#bd3786\"],[0.5555555555555556,\"#d8576b\"],[0.6666666666666666,\"#ed7953\"],[0.7777777777777778,\"#fb9f3a\"],[0.8888888888888888,\"#fdca26\"],[1.0,\"#f0f921\"]],\"type\":\"surface\"}],\"table\":[{\"cells\":{\"fill\":{\"color\":\"#EBF0F8\"},\"line\":{\"color\":\"white\"}},\"header\":{\"fill\":{\"color\":\"#C8D4E3\"},\"line\":{\"color\":\"white\"}},\"type\":\"table\"}]},\"layout\":{\"annotationdefaults\":{\"arrowcolor\":\"#2a3f5f\",\"arrowhead\":0,\"arrowwidth\":1},\"autotypenumbers\":\"strict\",\"coloraxis\":{\"colorbar\":{\"outlinewidth\":0,\"ticks\":\"\"}},\"colorscale\":{\"diverging\":[[0,\"#8e0152\"],[0.1,\"#c51b7d\"],[0.2,\"#de77ae\"],[0.3,\"#f1b6da\"],[0.4,\"#fde0ef\"],[0.5,\"#f7f7f7\"],[0.6,\"#e6f5d0\"],[0.7,\"#b8e186\"],[0.8,\"#7fbc41\"],[0.9,\"#4d9221\"],[1,\"#276419\"]],\"sequential\":[[0.0,\"#0d0887\"],[0.1111111111111111,\"#46039f\"],[0.2222222222222222,\"#7201a8\"],[0.3333333333333333,\"#9c179e\"],[0.4444444444444444,\"#bd3786\"],[0.5555555555555556,\"#d8576b\"],[0.6666666666666666,\"#ed7953\"],[0.7777777777777778,\"#fb9f3a\"],[0.8888888888888888,\"#fdca26\"],[1.0,\"#f0f921\"]],\"sequentialminus\":[[0.0,\"#0d0887\"],[0.1111111111111111,\"#46039f\"],[0.2222222222222222,\"#7201a8\"],[0.3333333333333333,\"#9c179e\"],[0.4444444444444444,\"#bd3786\"],[0.5555555555555556,\"#d8576b\"],[0.6666666666666666,\"#ed7953\"],[0.7777777777777778,\"#fb9f3a\"],[0.8888888888888888,\"#fdca26\"],[1.0,\"#f0f921\"]]},\"colorway\":[\"#636efa\",\"#EF553B\",\"#00cc96\",\"#ab63fa\",\"#FFA15A\",\"#19d3f3\",\"#FF6692\",\"#B6E880\",\"#FF97FF\",\"#FECB52\"],\"font\":{\"color\":\"#2a3f5f\"},\"geo\":{\"bgcolor\":\"white\",\"lakecolor\":\"white\",\"landcolor\":\"#E5ECF6\",\"showlakes\":true,\"showland\":true,\"subunitcolor\":\"white\"},\"hoverlabel\":{\"align\":\"left\"},\"hovermode\":\"closest\",\"mapbox\":{\"style\":\"light\"},\"paper_bgcolor\":\"white\",\"plot_bgcolor\":\"#E5ECF6\",\"polar\":{\"angularaxis\":{\"gridcolor\":\"white\",\"linecolor\":\"white\",\"ticks\":\"\"},\"bgcolor\":\"#E5ECF6\",\"radialaxis\":{\"gridcolor\":\"white\",\"linecolor\":\"white\",\"ticks\":\"\"}},\"scene\":{\"xaxis\":{\"backgroundcolor\":\"#E5ECF6\",\"gridcolor\":\"white\",\"gridwidth\":2,\"linecolor\":\"white\",\"showbackground\":true,\"ticks\":\"\",\"zerolinecolor\":\"white\"},\"yaxis\":{\"backgroundcolor\":\"#E5ECF6\",\"gridcolor\":\"white\",\"gridwidth\":2,\"linecolor\":\"white\",\"showbackground\":true,\"ticks\":\"\",\"zerolinecolor\":\"white\"},\"zaxis\":{\"backgroundcolor\":\"#E5ECF6\",\"gridcolor\":\"white\",\"gridwidth\":2,\"linecolor\":\"white\",\"showbackground\":true,\"ticks\":\"\",\"zerolinecolor\":\"white\"}},\"shapedefaults\":{\"line\":{\"color\":\"#2a3f5f\"}},\"ternary\":{\"aaxis\":{\"gridcolor\":\"white\",\"linecolor\":\"white\",\"ticks\":\"\"},\"baxis\":{\"gridcolor\":\"white\",\"linecolor\":\"white\",\"ticks\":\"\"},\"bgcolor\":\"#E5ECF6\",\"caxis\":{\"gridcolor\":\"white\",\"linecolor\":\"white\",\"ticks\":\"\"}},\"title\":{\"x\":0.05},\"xaxis\":{\"automargin\":true,\"gridcolor\":\"white\",\"linecolor\":\"white\",\"ticks\":\"\",\"title\":{\"standoff\":15},\"zerolinecolor\":\"white\",\"zerolinewidth\":2},\"yaxis\":{\"automargin\":true,\"gridcolor\":\"white\",\"linecolor\":\"white\",\"ticks\":\"\",\"title\":{\"standoff\":15},\"zerolinecolor\":\"white\",\"zerolinewidth\":2}}},\"title\":{\"font\":{\"color\":\"#4D5663\"}},\"xaxis\":{\"gridcolor\":\"#E1E5ED\",\"showgrid\":true,\"tickfont\":{\"color\":\"#4D5663\"},\"title\":{\"font\":{\"color\":\"#4D5663\"},\"text\":\"\"},\"zerolinecolor\":\"#E1E5ED\"},\"yaxis\":{\"gridcolor\":\"#E1E5ED\",\"showgrid\":true,\"tickfont\":{\"color\":\"#4D5663\"},\"title\":{\"font\":{\"color\":\"#4D5663\"},\"text\":\"\"},\"zerolinecolor\":\"#E1E5ED\"}},                        {\"showLink\": true, \"linkText\": \"Export to plot.ly\", \"plotlyServerURL\": \"https://plot.ly\", \"responsive\": true}                    ).then(function(){\n",
       "                            \n",
       "var gd = document.getElementById('19d49845-64af-42cc-9e3e-0b5979d5d43f');\n",
       "var x = new MutationObserver(function (mutations, observer) {{\n",
       "        var display = window.getComputedStyle(gd).display;\n",
       "        if (!display || display === 'none') {{\n",
       "            console.log([gd, 'removed!']);\n",
       "            Plotly.purge(gd);\n",
       "            observer.disconnect();\n",
       "        }}\n",
       "}});\n",
       "\n",
       "// Listen for the removal of the full notebook cells\n",
       "var notebookContainer = gd.closest('#notebook-container');\n",
       "if (notebookContainer) {{\n",
       "    x.observe(notebookContainer, {childList: true});\n",
       "}}\n",
       "\n",
       "// Listen for the clearing of the current output cell\n",
       "var outputEl = gd.closest('.output');\n",
       "if (outputEl) {{\n",
       "    x.observe(outputEl, {childList: true});\n",
       "}}\n",
       "\n",
       "                        })                };                });            </script>        </div>"
      ]
     },
     "metadata": {},
     "output_type": "display_data"
    }
   ],
   "source": [
    "#3d plots\n",
    "df3=pd.DataFrame({'x':[1,2,3,4,5],'y':[10,20,30,20,10],'z':[5,4,3,2,1]})\n",
    "df3.iplot(kind='surface',colorscale='rdylbu')"
   ]
  },
  {
   "cell_type": "code",
   "execution_count": 16,
   "id": "d36fd759",
   "metadata": {},
   "outputs": [
    {
     "data": {
      "application/vnd.plotly.v1+json": {
       "config": {
        "linkText": "Export to plot.ly",
        "plotlyServerURL": "https://plot.ly",
        "showLink": true
       },
       "data": [
        {
         "histfunc": "count",
         "histnorm": "",
         "marker": {
          "color": "rgba(255, 153, 51, 1.0)",
          "line": {
           "color": "#4D5663",
           "width": 1.3
          }
         },
         "name": "A",
         "nbinsx": 50,
         "opacity": 0.8,
         "orientation": "v",
         "type": "histogram",
         "x": [
          -2.0174340036144773,
          -0.2982885142503483,
          -1.1060293398574745,
          0.47380475815506795,
          -0.24287698992496476,
          -1.045477160349408,
          -1.372571283799824,
          -0.3708294395405194,
          0.9296363357643138,
          1.07539941494939,
          -0.48860213936065083,
          0.38462255572792503,
          0.7316391969826207,
          0.7056188238429781,
          0.2272970973273527,
          1.8973560994467056,
          -0.08814752662473867,
          2.853141208328112,
          1.2606744935729695,
          -0.19541503270171148,
          0.33884117599906605,
          -1.1823804269843323,
          -0.35818646632962386,
          -2.1896961807689883,
          0.4666612471354609,
          -0.7195595896962929,
          -1.1022342579753548,
          -0.4260373014973277,
          -2.03985628441693,
          -0.3922675703969572,
          -0.6393197479525362,
          1.5070292397184635,
          1.5427741705080689,
          -0.36811080320580436,
          0.7907860507217243,
          -1.053702929569162,
          -1.5682815210700976,
          -1.6899427972979684,
          -1.1577153310653898,
          1.201798767024122,
          0.8139499812781749,
          1.3396399626499909,
          -1.592116875741009,
          -2.108999149725003,
          -2.414121441285468,
          -0.7517992912296336,
          -0.8814484376662446,
          -0.5636621543249383,
          -0.4462016022135572,
          0.7602270527510662,
          -0.7635312669667638,
          -0.6085341535104014,
          -0.6979145854428934,
          0.15270352881680677,
          1.5861404333668392,
          0.4413194748417777,
          1.1464296196046662,
          1.6860599838450785,
          -0.12920519816606357,
          -1.3166186524763952,
          0.9527123887974857,
          -0.0913130377024795,
          -1.2562092533438431,
          -1.4599948208670317,
          0.739600143985171,
          1.928522171471015,
          0.8604873721118755,
          0.5101454894231326,
          -2.0412817448349676,
          2.350622092982859,
          -1.2098096285286442,
          0.8793405535384373,
          -0.4127130171433395,
          -0.9510357246689423,
          -0.5833425292515129,
          2.874170539129894,
          0.6754534679651084,
          -0.43269432307745,
          0.6824671403544771,
          -0.13956406111167266,
          -1.2539511811434925,
          -0.9095655979851323,
          0.5131425131930456,
          0.2107268324859046,
          0.9793829033520347,
          0.05590920125049553,
          -1.4825906211123527,
          -0.7655955658418381,
          -0.9062150294307344,
          0.2713814492008699,
          0.4987962451208206,
          0.8724854785969101,
          0.04820180158157174,
          0.22901793866168949,
          -0.04264546586916472,
          0.9163280370522656,
          -0.010155961485463392,
          -0.9553359158941854,
          -1.0351518431931523,
          0.9471899254826112
         ]
        }
       ],
       "layout": {
        "barmode": "overlay",
        "legend": {
         "bgcolor": "#F5F6F9",
         "font": {
          "color": "#4D5663"
         }
        },
        "paper_bgcolor": "#F5F6F9",
        "plot_bgcolor": "#F5F6F9",
        "template": {
         "data": {
          "bar": [
           {
            "error_x": {
             "color": "#2a3f5f"
            },
            "error_y": {
             "color": "#2a3f5f"
            },
            "marker": {
             "line": {
              "color": "#E5ECF6",
              "width": 0.5
             },
             "pattern": {
              "fillmode": "overlay",
              "size": 10,
              "solidity": 0.2
             }
            },
            "type": "bar"
           }
          ],
          "barpolar": [
           {
            "marker": {
             "line": {
              "color": "#E5ECF6",
              "width": 0.5
             },
             "pattern": {
              "fillmode": "overlay",
              "size": 10,
              "solidity": 0.2
             }
            },
            "type": "barpolar"
           }
          ],
          "carpet": [
           {
            "aaxis": {
             "endlinecolor": "#2a3f5f",
             "gridcolor": "white",
             "linecolor": "white",
             "minorgridcolor": "white",
             "startlinecolor": "#2a3f5f"
            },
            "baxis": {
             "endlinecolor": "#2a3f5f",
             "gridcolor": "white",
             "linecolor": "white",
             "minorgridcolor": "white",
             "startlinecolor": "#2a3f5f"
            },
            "type": "carpet"
           }
          ],
          "choropleth": [
           {
            "colorbar": {
             "outlinewidth": 0,
             "ticks": ""
            },
            "type": "choropleth"
           }
          ],
          "contour": [
           {
            "colorbar": {
             "outlinewidth": 0,
             "ticks": ""
            },
            "colorscale": [
             [
              0,
              "#0d0887"
             ],
             [
              0.1111111111111111,
              "#46039f"
             ],
             [
              0.2222222222222222,
              "#7201a8"
             ],
             [
              0.3333333333333333,
              "#9c179e"
             ],
             [
              0.4444444444444444,
              "#bd3786"
             ],
             [
              0.5555555555555556,
              "#d8576b"
             ],
             [
              0.6666666666666666,
              "#ed7953"
             ],
             [
              0.7777777777777778,
              "#fb9f3a"
             ],
             [
              0.8888888888888888,
              "#fdca26"
             ],
             [
              1,
              "#f0f921"
             ]
            ],
            "type": "contour"
           }
          ],
          "contourcarpet": [
           {
            "colorbar": {
             "outlinewidth": 0,
             "ticks": ""
            },
            "type": "contourcarpet"
           }
          ],
          "heatmap": [
           {
            "colorbar": {
             "outlinewidth": 0,
             "ticks": ""
            },
            "colorscale": [
             [
              0,
              "#0d0887"
             ],
             [
              0.1111111111111111,
              "#46039f"
             ],
             [
              0.2222222222222222,
              "#7201a8"
             ],
             [
              0.3333333333333333,
              "#9c179e"
             ],
             [
              0.4444444444444444,
              "#bd3786"
             ],
             [
              0.5555555555555556,
              "#d8576b"
             ],
             [
              0.6666666666666666,
              "#ed7953"
             ],
             [
              0.7777777777777778,
              "#fb9f3a"
             ],
             [
              0.8888888888888888,
              "#fdca26"
             ],
             [
              1,
              "#f0f921"
             ]
            ],
            "type": "heatmap"
           }
          ],
          "heatmapgl": [
           {
            "colorbar": {
             "outlinewidth": 0,
             "ticks": ""
            },
            "colorscale": [
             [
              0,
              "#0d0887"
             ],
             [
              0.1111111111111111,
              "#46039f"
             ],
             [
              0.2222222222222222,
              "#7201a8"
             ],
             [
              0.3333333333333333,
              "#9c179e"
             ],
             [
              0.4444444444444444,
              "#bd3786"
             ],
             [
              0.5555555555555556,
              "#d8576b"
             ],
             [
              0.6666666666666666,
              "#ed7953"
             ],
             [
              0.7777777777777778,
              "#fb9f3a"
             ],
             [
              0.8888888888888888,
              "#fdca26"
             ],
             [
              1,
              "#f0f921"
             ]
            ],
            "type": "heatmapgl"
           }
          ],
          "histogram": [
           {
            "marker": {
             "pattern": {
              "fillmode": "overlay",
              "size": 10,
              "solidity": 0.2
             }
            },
            "type": "histogram"
           }
          ],
          "histogram2d": [
           {
            "colorbar": {
             "outlinewidth": 0,
             "ticks": ""
            },
            "colorscale": [
             [
              0,
              "#0d0887"
             ],
             [
              0.1111111111111111,
              "#46039f"
             ],
             [
              0.2222222222222222,
              "#7201a8"
             ],
             [
              0.3333333333333333,
              "#9c179e"
             ],
             [
              0.4444444444444444,
              "#bd3786"
             ],
             [
              0.5555555555555556,
              "#d8576b"
             ],
             [
              0.6666666666666666,
              "#ed7953"
             ],
             [
              0.7777777777777778,
              "#fb9f3a"
             ],
             [
              0.8888888888888888,
              "#fdca26"
             ],
             [
              1,
              "#f0f921"
             ]
            ],
            "type": "histogram2d"
           }
          ],
          "histogram2dcontour": [
           {
            "colorbar": {
             "outlinewidth": 0,
             "ticks": ""
            },
            "colorscale": [
             [
              0,
              "#0d0887"
             ],
             [
              0.1111111111111111,
              "#46039f"
             ],
             [
              0.2222222222222222,
              "#7201a8"
             ],
             [
              0.3333333333333333,
              "#9c179e"
             ],
             [
              0.4444444444444444,
              "#bd3786"
             ],
             [
              0.5555555555555556,
              "#d8576b"
             ],
             [
              0.6666666666666666,
              "#ed7953"
             ],
             [
              0.7777777777777778,
              "#fb9f3a"
             ],
             [
              0.8888888888888888,
              "#fdca26"
             ],
             [
              1,
              "#f0f921"
             ]
            ],
            "type": "histogram2dcontour"
           }
          ],
          "mesh3d": [
           {
            "colorbar": {
             "outlinewidth": 0,
             "ticks": ""
            },
            "type": "mesh3d"
           }
          ],
          "parcoords": [
           {
            "line": {
             "colorbar": {
              "outlinewidth": 0,
              "ticks": ""
             }
            },
            "type": "parcoords"
           }
          ],
          "pie": [
           {
            "automargin": true,
            "type": "pie"
           }
          ],
          "scatter": [
           {
            "fillpattern": {
             "fillmode": "overlay",
             "size": 10,
             "solidity": 0.2
            },
            "type": "scatter"
           }
          ],
          "scatter3d": [
           {
            "line": {
             "colorbar": {
              "outlinewidth": 0,
              "ticks": ""
             }
            },
            "marker": {
             "colorbar": {
              "outlinewidth": 0,
              "ticks": ""
             }
            },
            "type": "scatter3d"
           }
          ],
          "scattercarpet": [
           {
            "marker": {
             "colorbar": {
              "outlinewidth": 0,
              "ticks": ""
             }
            },
            "type": "scattercarpet"
           }
          ],
          "scattergeo": [
           {
            "marker": {
             "colorbar": {
              "outlinewidth": 0,
              "ticks": ""
             }
            },
            "type": "scattergeo"
           }
          ],
          "scattergl": [
           {
            "marker": {
             "colorbar": {
              "outlinewidth": 0,
              "ticks": ""
             }
            },
            "type": "scattergl"
           }
          ],
          "scattermapbox": [
           {
            "marker": {
             "colorbar": {
              "outlinewidth": 0,
              "ticks": ""
             }
            },
            "type": "scattermapbox"
           }
          ],
          "scatterpolar": [
           {
            "marker": {
             "colorbar": {
              "outlinewidth": 0,
              "ticks": ""
             }
            },
            "type": "scatterpolar"
           }
          ],
          "scatterpolargl": [
           {
            "marker": {
             "colorbar": {
              "outlinewidth": 0,
              "ticks": ""
             }
            },
            "type": "scatterpolargl"
           }
          ],
          "scatterternary": [
           {
            "marker": {
             "colorbar": {
              "outlinewidth": 0,
              "ticks": ""
             }
            },
            "type": "scatterternary"
           }
          ],
          "surface": [
           {
            "colorbar": {
             "outlinewidth": 0,
             "ticks": ""
            },
            "colorscale": [
             [
              0,
              "#0d0887"
             ],
             [
              0.1111111111111111,
              "#46039f"
             ],
             [
              0.2222222222222222,
              "#7201a8"
             ],
             [
              0.3333333333333333,
              "#9c179e"
             ],
             [
              0.4444444444444444,
              "#bd3786"
             ],
             [
              0.5555555555555556,
              "#d8576b"
             ],
             [
              0.6666666666666666,
              "#ed7953"
             ],
             [
              0.7777777777777778,
              "#fb9f3a"
             ],
             [
              0.8888888888888888,
              "#fdca26"
             ],
             [
              1,
              "#f0f921"
             ]
            ],
            "type": "surface"
           }
          ],
          "table": [
           {
            "cells": {
             "fill": {
              "color": "#EBF0F8"
             },
             "line": {
              "color": "white"
             }
            },
            "header": {
             "fill": {
              "color": "#C8D4E3"
             },
             "line": {
              "color": "white"
             }
            },
            "type": "table"
           }
          ]
         },
         "layout": {
          "annotationdefaults": {
           "arrowcolor": "#2a3f5f",
           "arrowhead": 0,
           "arrowwidth": 1
          },
          "autotypenumbers": "strict",
          "coloraxis": {
           "colorbar": {
            "outlinewidth": 0,
            "ticks": ""
           }
          },
          "colorscale": {
           "diverging": [
            [
             0,
             "#8e0152"
            ],
            [
             0.1,
             "#c51b7d"
            ],
            [
             0.2,
             "#de77ae"
            ],
            [
             0.3,
             "#f1b6da"
            ],
            [
             0.4,
             "#fde0ef"
            ],
            [
             0.5,
             "#f7f7f7"
            ],
            [
             0.6,
             "#e6f5d0"
            ],
            [
             0.7,
             "#b8e186"
            ],
            [
             0.8,
             "#7fbc41"
            ],
            [
             0.9,
             "#4d9221"
            ],
            [
             1,
             "#276419"
            ]
           ],
           "sequential": [
            [
             0,
             "#0d0887"
            ],
            [
             0.1111111111111111,
             "#46039f"
            ],
            [
             0.2222222222222222,
             "#7201a8"
            ],
            [
             0.3333333333333333,
             "#9c179e"
            ],
            [
             0.4444444444444444,
             "#bd3786"
            ],
            [
             0.5555555555555556,
             "#d8576b"
            ],
            [
             0.6666666666666666,
             "#ed7953"
            ],
            [
             0.7777777777777778,
             "#fb9f3a"
            ],
            [
             0.8888888888888888,
             "#fdca26"
            ],
            [
             1,
             "#f0f921"
            ]
           ],
           "sequentialminus": [
            [
             0,
             "#0d0887"
            ],
            [
             0.1111111111111111,
             "#46039f"
            ],
            [
             0.2222222222222222,
             "#7201a8"
            ],
            [
             0.3333333333333333,
             "#9c179e"
            ],
            [
             0.4444444444444444,
             "#bd3786"
            ],
            [
             0.5555555555555556,
             "#d8576b"
            ],
            [
             0.6666666666666666,
             "#ed7953"
            ],
            [
             0.7777777777777778,
             "#fb9f3a"
            ],
            [
             0.8888888888888888,
             "#fdca26"
            ],
            [
             1,
             "#f0f921"
            ]
           ]
          },
          "colorway": [
           "#636efa",
           "#EF553B",
           "#00cc96",
           "#ab63fa",
           "#FFA15A",
           "#19d3f3",
           "#FF6692",
           "#B6E880",
           "#FF97FF",
           "#FECB52"
          ],
          "font": {
           "color": "#2a3f5f"
          },
          "geo": {
           "bgcolor": "white",
           "lakecolor": "white",
           "landcolor": "#E5ECF6",
           "showlakes": true,
           "showland": true,
           "subunitcolor": "white"
          },
          "hoverlabel": {
           "align": "left"
          },
          "hovermode": "closest",
          "mapbox": {
           "style": "light"
          },
          "paper_bgcolor": "white",
          "plot_bgcolor": "#E5ECF6",
          "polar": {
           "angularaxis": {
            "gridcolor": "white",
            "linecolor": "white",
            "ticks": ""
           },
           "bgcolor": "#E5ECF6",
           "radialaxis": {
            "gridcolor": "white",
            "linecolor": "white",
            "ticks": ""
           }
          },
          "scene": {
           "xaxis": {
            "backgroundcolor": "#E5ECF6",
            "gridcolor": "white",
            "gridwidth": 2,
            "linecolor": "white",
            "showbackground": true,
            "ticks": "",
            "zerolinecolor": "white"
           },
           "yaxis": {
            "backgroundcolor": "#E5ECF6",
            "gridcolor": "white",
            "gridwidth": 2,
            "linecolor": "white",
            "showbackground": true,
            "ticks": "",
            "zerolinecolor": "white"
           },
           "zaxis": {
            "backgroundcolor": "#E5ECF6",
            "gridcolor": "white",
            "gridwidth": 2,
            "linecolor": "white",
            "showbackground": true,
            "ticks": "",
            "zerolinecolor": "white"
           }
          },
          "shapedefaults": {
           "line": {
            "color": "#2a3f5f"
           }
          },
          "ternary": {
           "aaxis": {
            "gridcolor": "white",
            "linecolor": "white",
            "ticks": ""
           },
           "baxis": {
            "gridcolor": "white",
            "linecolor": "white",
            "ticks": ""
           },
           "bgcolor": "#E5ECF6",
           "caxis": {
            "gridcolor": "white",
            "linecolor": "white",
            "ticks": ""
           }
          },
          "title": {
           "x": 0.05
          },
          "xaxis": {
           "automargin": true,
           "gridcolor": "white",
           "linecolor": "white",
           "ticks": "",
           "title": {
            "standoff": 15
           },
           "zerolinecolor": "white",
           "zerolinewidth": 2
          },
          "yaxis": {
           "automargin": true,
           "gridcolor": "white",
           "linecolor": "white",
           "ticks": "",
           "title": {
            "standoff": 15
           },
           "zerolinecolor": "white",
           "zerolinewidth": 2
          }
         }
        },
        "title": {
         "font": {
          "color": "#4D5663"
         }
        },
        "xaxis": {
         "gridcolor": "#E1E5ED",
         "showgrid": true,
         "tickfont": {
          "color": "#4D5663"
         },
         "title": {
          "font": {
           "color": "#4D5663"
          },
          "text": ""
         },
         "zerolinecolor": "#E1E5ED"
        },
        "yaxis": {
         "gridcolor": "#E1E5ED",
         "showgrid": true,
         "tickfont": {
          "color": "#4D5663"
         },
         "title": {
          "font": {
           "color": "#4D5663"
          },
          "text": ""
         },
         "zerolinecolor": "#E1E5ED"
        }
       }
      },
      "text/html": [
       "<div>                            <div id=\"9c503d30-9389-4388-8f92-fde7ab0ee376\" class=\"plotly-graph-div\" style=\"height:525px; width:100%;\"></div>            <script type=\"text/javascript\">                require([\"plotly\"], function(Plotly) {                    window.PLOTLYENV=window.PLOTLYENV || {};\n",
       "                    window.PLOTLYENV.BASE_URL='https://plot.ly';                                    if (document.getElementById(\"9c503d30-9389-4388-8f92-fde7ab0ee376\")) {                    Plotly.newPlot(                        \"9c503d30-9389-4388-8f92-fde7ab0ee376\",                        [{\"histfunc\":\"count\",\"histnorm\":\"\",\"marker\":{\"color\":\"rgba(255, 153, 51, 1.0)\",\"line\":{\"color\":\"#4D5663\",\"width\":1.3}},\"name\":\"A\",\"nbinsx\":50,\"opacity\":0.8,\"orientation\":\"v\",\"x\":[-2.0174340036144773,-0.2982885142503483,-1.1060293398574745,0.47380475815506795,-0.24287698992496476,-1.045477160349408,-1.372571283799824,-0.3708294395405194,0.9296363357643138,1.07539941494939,-0.48860213936065083,0.38462255572792503,0.7316391969826207,0.7056188238429781,0.2272970973273527,1.8973560994467056,-0.08814752662473867,2.853141208328112,1.2606744935729695,-0.19541503270171148,0.33884117599906605,-1.1823804269843323,-0.35818646632962386,-2.1896961807689883,0.4666612471354609,-0.7195595896962929,-1.1022342579753548,-0.4260373014973277,-2.03985628441693,-0.3922675703969572,-0.6393197479525362,1.5070292397184635,1.5427741705080689,-0.36811080320580436,0.7907860507217243,-1.053702929569162,-1.5682815210700976,-1.6899427972979684,-1.1577153310653898,1.201798767024122,0.8139499812781749,1.3396399626499909,-1.592116875741009,-2.108999149725003,-2.414121441285468,-0.7517992912296336,-0.8814484376662446,-0.5636621543249383,-0.4462016022135572,0.7602270527510662,-0.7635312669667638,-0.6085341535104014,-0.6979145854428934,0.15270352881680677,1.5861404333668392,0.4413194748417777,1.1464296196046662,1.6860599838450785,-0.12920519816606357,-1.3166186524763952,0.9527123887974857,-0.0913130377024795,-1.2562092533438431,-1.4599948208670317,0.739600143985171,1.928522171471015,0.8604873721118755,0.5101454894231326,-2.0412817448349676,2.350622092982859,-1.2098096285286442,0.8793405535384373,-0.4127130171433395,-0.9510357246689423,-0.5833425292515129,2.874170539129894,0.6754534679651084,-0.43269432307745,0.6824671403544771,-0.13956406111167266,-1.2539511811434925,-0.9095655979851323,0.5131425131930456,0.2107268324859046,0.9793829033520347,0.05590920125049553,-1.4825906211123527,-0.7655955658418381,-0.9062150294307344,0.2713814492008699,0.4987962451208206,0.8724854785969101,0.04820180158157174,0.22901793866168949,-0.04264546586916472,0.9163280370522656,-0.010155961485463392,-0.9553359158941854,-1.0351518431931523,0.9471899254826112],\"type\":\"histogram\"}],                        {\"barmode\":\"overlay\",\"legend\":{\"bgcolor\":\"#F5F6F9\",\"font\":{\"color\":\"#4D5663\"}},\"paper_bgcolor\":\"#F5F6F9\",\"plot_bgcolor\":\"#F5F6F9\",\"template\":{\"data\":{\"barpolar\":[{\"marker\":{\"line\":{\"color\":\"#E5ECF6\",\"width\":0.5},\"pattern\":{\"fillmode\":\"overlay\",\"size\":10,\"solidity\":0.2}},\"type\":\"barpolar\"}],\"bar\":[{\"error_x\":{\"color\":\"#2a3f5f\"},\"error_y\":{\"color\":\"#2a3f5f\"},\"marker\":{\"line\":{\"color\":\"#E5ECF6\",\"width\":0.5},\"pattern\":{\"fillmode\":\"overlay\",\"size\":10,\"solidity\":0.2}},\"type\":\"bar\"}],\"carpet\":[{\"aaxis\":{\"endlinecolor\":\"#2a3f5f\",\"gridcolor\":\"white\",\"linecolor\":\"white\",\"minorgridcolor\":\"white\",\"startlinecolor\":\"#2a3f5f\"},\"baxis\":{\"endlinecolor\":\"#2a3f5f\",\"gridcolor\":\"white\",\"linecolor\":\"white\",\"minorgridcolor\":\"white\",\"startlinecolor\":\"#2a3f5f\"},\"type\":\"carpet\"}],\"choropleth\":[{\"colorbar\":{\"outlinewidth\":0,\"ticks\":\"\"},\"type\":\"choropleth\"}],\"contourcarpet\":[{\"colorbar\":{\"outlinewidth\":0,\"ticks\":\"\"},\"type\":\"contourcarpet\"}],\"contour\":[{\"colorbar\":{\"outlinewidth\":0,\"ticks\":\"\"},\"colorscale\":[[0.0,\"#0d0887\"],[0.1111111111111111,\"#46039f\"],[0.2222222222222222,\"#7201a8\"],[0.3333333333333333,\"#9c179e\"],[0.4444444444444444,\"#bd3786\"],[0.5555555555555556,\"#d8576b\"],[0.6666666666666666,\"#ed7953\"],[0.7777777777777778,\"#fb9f3a\"],[0.8888888888888888,\"#fdca26\"],[1.0,\"#f0f921\"]],\"type\":\"contour\"}],\"heatmapgl\":[{\"colorbar\":{\"outlinewidth\":0,\"ticks\":\"\"},\"colorscale\":[[0.0,\"#0d0887\"],[0.1111111111111111,\"#46039f\"],[0.2222222222222222,\"#7201a8\"],[0.3333333333333333,\"#9c179e\"],[0.4444444444444444,\"#bd3786\"],[0.5555555555555556,\"#d8576b\"],[0.6666666666666666,\"#ed7953\"],[0.7777777777777778,\"#fb9f3a\"],[0.8888888888888888,\"#fdca26\"],[1.0,\"#f0f921\"]],\"type\":\"heatmapgl\"}],\"heatmap\":[{\"colorbar\":{\"outlinewidth\":0,\"ticks\":\"\"},\"colorscale\":[[0.0,\"#0d0887\"],[0.1111111111111111,\"#46039f\"],[0.2222222222222222,\"#7201a8\"],[0.3333333333333333,\"#9c179e\"],[0.4444444444444444,\"#bd3786\"],[0.5555555555555556,\"#d8576b\"],[0.6666666666666666,\"#ed7953\"],[0.7777777777777778,\"#fb9f3a\"],[0.8888888888888888,\"#fdca26\"],[1.0,\"#f0f921\"]],\"type\":\"heatmap\"}],\"histogram2dcontour\":[{\"colorbar\":{\"outlinewidth\":0,\"ticks\":\"\"},\"colorscale\":[[0.0,\"#0d0887\"],[0.1111111111111111,\"#46039f\"],[0.2222222222222222,\"#7201a8\"],[0.3333333333333333,\"#9c179e\"],[0.4444444444444444,\"#bd3786\"],[0.5555555555555556,\"#d8576b\"],[0.6666666666666666,\"#ed7953\"],[0.7777777777777778,\"#fb9f3a\"],[0.8888888888888888,\"#fdca26\"],[1.0,\"#f0f921\"]],\"type\":\"histogram2dcontour\"}],\"histogram2d\":[{\"colorbar\":{\"outlinewidth\":0,\"ticks\":\"\"},\"colorscale\":[[0.0,\"#0d0887\"],[0.1111111111111111,\"#46039f\"],[0.2222222222222222,\"#7201a8\"],[0.3333333333333333,\"#9c179e\"],[0.4444444444444444,\"#bd3786\"],[0.5555555555555556,\"#d8576b\"],[0.6666666666666666,\"#ed7953\"],[0.7777777777777778,\"#fb9f3a\"],[0.8888888888888888,\"#fdca26\"],[1.0,\"#f0f921\"]],\"type\":\"histogram2d\"}],\"histogram\":[{\"marker\":{\"pattern\":{\"fillmode\":\"overlay\",\"size\":10,\"solidity\":0.2}},\"type\":\"histogram\"}],\"mesh3d\":[{\"colorbar\":{\"outlinewidth\":0,\"ticks\":\"\"},\"type\":\"mesh3d\"}],\"parcoords\":[{\"line\":{\"colorbar\":{\"outlinewidth\":0,\"ticks\":\"\"}},\"type\":\"parcoords\"}],\"pie\":[{\"automargin\":true,\"type\":\"pie\"}],\"scatter3d\":[{\"line\":{\"colorbar\":{\"outlinewidth\":0,\"ticks\":\"\"}},\"marker\":{\"colorbar\":{\"outlinewidth\":0,\"ticks\":\"\"}},\"type\":\"scatter3d\"}],\"scattercarpet\":[{\"marker\":{\"colorbar\":{\"outlinewidth\":0,\"ticks\":\"\"}},\"type\":\"scattercarpet\"}],\"scattergeo\":[{\"marker\":{\"colorbar\":{\"outlinewidth\":0,\"ticks\":\"\"}},\"type\":\"scattergeo\"}],\"scattergl\":[{\"marker\":{\"colorbar\":{\"outlinewidth\":0,\"ticks\":\"\"}},\"type\":\"scattergl\"}],\"scattermapbox\":[{\"marker\":{\"colorbar\":{\"outlinewidth\":0,\"ticks\":\"\"}},\"type\":\"scattermapbox\"}],\"scatterpolargl\":[{\"marker\":{\"colorbar\":{\"outlinewidth\":0,\"ticks\":\"\"}},\"type\":\"scatterpolargl\"}],\"scatterpolar\":[{\"marker\":{\"colorbar\":{\"outlinewidth\":0,\"ticks\":\"\"}},\"type\":\"scatterpolar\"}],\"scatter\":[{\"fillpattern\":{\"fillmode\":\"overlay\",\"size\":10,\"solidity\":0.2},\"type\":\"scatter\"}],\"scatterternary\":[{\"marker\":{\"colorbar\":{\"outlinewidth\":0,\"ticks\":\"\"}},\"type\":\"scatterternary\"}],\"surface\":[{\"colorbar\":{\"outlinewidth\":0,\"ticks\":\"\"},\"colorscale\":[[0.0,\"#0d0887\"],[0.1111111111111111,\"#46039f\"],[0.2222222222222222,\"#7201a8\"],[0.3333333333333333,\"#9c179e\"],[0.4444444444444444,\"#bd3786\"],[0.5555555555555556,\"#d8576b\"],[0.6666666666666666,\"#ed7953\"],[0.7777777777777778,\"#fb9f3a\"],[0.8888888888888888,\"#fdca26\"],[1.0,\"#f0f921\"]],\"type\":\"surface\"}],\"table\":[{\"cells\":{\"fill\":{\"color\":\"#EBF0F8\"},\"line\":{\"color\":\"white\"}},\"header\":{\"fill\":{\"color\":\"#C8D4E3\"},\"line\":{\"color\":\"white\"}},\"type\":\"table\"}]},\"layout\":{\"annotationdefaults\":{\"arrowcolor\":\"#2a3f5f\",\"arrowhead\":0,\"arrowwidth\":1},\"autotypenumbers\":\"strict\",\"coloraxis\":{\"colorbar\":{\"outlinewidth\":0,\"ticks\":\"\"}},\"colorscale\":{\"diverging\":[[0,\"#8e0152\"],[0.1,\"#c51b7d\"],[0.2,\"#de77ae\"],[0.3,\"#f1b6da\"],[0.4,\"#fde0ef\"],[0.5,\"#f7f7f7\"],[0.6,\"#e6f5d0\"],[0.7,\"#b8e186\"],[0.8,\"#7fbc41\"],[0.9,\"#4d9221\"],[1,\"#276419\"]],\"sequential\":[[0.0,\"#0d0887\"],[0.1111111111111111,\"#46039f\"],[0.2222222222222222,\"#7201a8\"],[0.3333333333333333,\"#9c179e\"],[0.4444444444444444,\"#bd3786\"],[0.5555555555555556,\"#d8576b\"],[0.6666666666666666,\"#ed7953\"],[0.7777777777777778,\"#fb9f3a\"],[0.8888888888888888,\"#fdca26\"],[1.0,\"#f0f921\"]],\"sequentialminus\":[[0.0,\"#0d0887\"],[0.1111111111111111,\"#46039f\"],[0.2222222222222222,\"#7201a8\"],[0.3333333333333333,\"#9c179e\"],[0.4444444444444444,\"#bd3786\"],[0.5555555555555556,\"#d8576b\"],[0.6666666666666666,\"#ed7953\"],[0.7777777777777778,\"#fb9f3a\"],[0.8888888888888888,\"#fdca26\"],[1.0,\"#f0f921\"]]},\"colorway\":[\"#636efa\",\"#EF553B\",\"#00cc96\",\"#ab63fa\",\"#FFA15A\",\"#19d3f3\",\"#FF6692\",\"#B6E880\",\"#FF97FF\",\"#FECB52\"],\"font\":{\"color\":\"#2a3f5f\"},\"geo\":{\"bgcolor\":\"white\",\"lakecolor\":\"white\",\"landcolor\":\"#E5ECF6\",\"showlakes\":true,\"showland\":true,\"subunitcolor\":\"white\"},\"hoverlabel\":{\"align\":\"left\"},\"hovermode\":\"closest\",\"mapbox\":{\"style\":\"light\"},\"paper_bgcolor\":\"white\",\"plot_bgcolor\":\"#E5ECF6\",\"polar\":{\"angularaxis\":{\"gridcolor\":\"white\",\"linecolor\":\"white\",\"ticks\":\"\"},\"bgcolor\":\"#E5ECF6\",\"radialaxis\":{\"gridcolor\":\"white\",\"linecolor\":\"white\",\"ticks\":\"\"}},\"scene\":{\"xaxis\":{\"backgroundcolor\":\"#E5ECF6\",\"gridcolor\":\"white\",\"gridwidth\":2,\"linecolor\":\"white\",\"showbackground\":true,\"ticks\":\"\",\"zerolinecolor\":\"white\"},\"yaxis\":{\"backgroundcolor\":\"#E5ECF6\",\"gridcolor\":\"white\",\"gridwidth\":2,\"linecolor\":\"white\",\"showbackground\":true,\"ticks\":\"\",\"zerolinecolor\":\"white\"},\"zaxis\":{\"backgroundcolor\":\"#E5ECF6\",\"gridcolor\":\"white\",\"gridwidth\":2,\"linecolor\":\"white\",\"showbackground\":true,\"ticks\":\"\",\"zerolinecolor\":\"white\"}},\"shapedefaults\":{\"line\":{\"color\":\"#2a3f5f\"}},\"ternary\":{\"aaxis\":{\"gridcolor\":\"white\",\"linecolor\":\"white\",\"ticks\":\"\"},\"baxis\":{\"gridcolor\":\"white\",\"linecolor\":\"white\",\"ticks\":\"\"},\"bgcolor\":\"#E5ECF6\",\"caxis\":{\"gridcolor\":\"white\",\"linecolor\":\"white\",\"ticks\":\"\"}},\"title\":{\"x\":0.05},\"xaxis\":{\"automargin\":true,\"gridcolor\":\"white\",\"linecolor\":\"white\",\"ticks\":\"\",\"title\":{\"standoff\":15},\"zerolinecolor\":\"white\",\"zerolinewidth\":2},\"yaxis\":{\"automargin\":true,\"gridcolor\":\"white\",\"linecolor\":\"white\",\"ticks\":\"\",\"title\":{\"standoff\":15},\"zerolinecolor\":\"white\",\"zerolinewidth\":2}}},\"title\":{\"font\":{\"color\":\"#4D5663\"}},\"xaxis\":{\"gridcolor\":\"#E1E5ED\",\"showgrid\":true,\"tickfont\":{\"color\":\"#4D5663\"},\"title\":{\"font\":{\"color\":\"#4D5663\"},\"text\":\"\"},\"zerolinecolor\":\"#E1E5ED\"},\"yaxis\":{\"gridcolor\":\"#E1E5ED\",\"showgrid\":true,\"tickfont\":{\"color\":\"#4D5663\"},\"title\":{\"font\":{\"color\":\"#4D5663\"},\"text\":\"\"},\"zerolinecolor\":\"#E1E5ED\"}},                        {\"showLink\": true, \"linkText\": \"Export to plot.ly\", \"plotlyServerURL\": \"https://plot.ly\", \"responsive\": true}                    ).then(function(){\n",
       "                            \n",
       "var gd = document.getElementById('9c503d30-9389-4388-8f92-fde7ab0ee376');\n",
       "var x = new MutationObserver(function (mutations, observer) {{\n",
       "        var display = window.getComputedStyle(gd).display;\n",
       "        if (!display || display === 'none') {{\n",
       "            console.log([gd, 'removed!']);\n",
       "            Plotly.purge(gd);\n",
       "            observer.disconnect();\n",
       "        }}\n",
       "}});\n",
       "\n",
       "// Listen for the removal of the full notebook cells\n",
       "var notebookContainer = gd.closest('#notebook-container');\n",
       "if (notebookContainer) {{\n",
       "    x.observe(notebookContainer, {childList: true});\n",
       "}}\n",
       "\n",
       "// Listen for the clearing of the current output cell\n",
       "var outputEl = gd.closest('.output');\n",
       "if (outputEl) {{\n",
       "    x.observe(outputEl, {childList: true});\n",
       "}}\n",
       "\n",
       "                        })                };                });            </script>        </div>"
      ]
     },
     "metadata": {},
     "output_type": "display_data"
    }
   ],
   "source": [
    "df['A'].iplot(kind='hist',bins=50)"
   ]
  },
  {
   "cell_type": "code",
   "execution_count": 17,
   "id": "b8b61a1d",
   "metadata": {},
   "outputs": [
    {
     "name": "stderr",
     "output_type": "stream",
     "text": [
      "C:\\Users\\PC\\Anaconda3\\lib\\site-packages\\cufflinks\\plotlytools.py:849: FutureWarning:\n",
      "\n",
      "The pandas.np module is deprecated and will be removed from pandas in a future version. Import numpy directly instead.\n",
      "\n",
      "C:\\Users\\PC\\Anaconda3\\lib\\site-packages\\cufflinks\\plotlytools.py:850: FutureWarning:\n",
      "\n",
      "The pandas.np module is deprecated and will be removed from pandas in a future version. Import numpy directly instead.\n",
      "\n"
     ]
    },
    {
     "data": {
      "application/vnd.plotly.v1+json": {
       "config": {
        "linkText": "Export to plot.ly",
        "plotlyServerURL": "https://plot.ly",
        "showLink": true
       },
       "data": [
        {
         "line": {
          "color": "rgba(255, 153, 51, 1.0)",
          "dash": "solid",
          "shape": "linear",
          "width": 1.3
         },
         "mode": "lines",
         "name": "A",
         "text": "",
         "type": "scatter",
         "x": [
          0,
          1,
          2,
          3,
          4,
          5,
          6,
          7,
          8,
          9,
          10,
          11,
          12,
          13,
          14,
          15,
          16,
          17,
          18,
          19,
          20,
          21,
          22,
          23,
          24,
          25,
          26,
          27,
          28,
          29,
          30,
          31,
          32,
          33,
          34,
          35,
          36,
          37,
          38,
          39,
          40,
          41,
          42,
          43,
          44,
          45,
          46,
          47,
          48,
          49,
          50,
          51,
          52,
          53,
          54,
          55,
          56,
          57,
          58,
          59,
          60,
          61,
          62,
          63,
          64,
          65,
          66,
          67,
          68,
          69,
          70,
          71,
          72,
          73,
          74,
          75,
          76,
          77,
          78,
          79,
          80,
          81,
          82,
          83,
          84,
          85,
          86,
          87,
          88,
          89,
          90,
          91,
          92,
          93,
          94,
          95,
          96,
          97,
          98,
          99
         ],
         "y": [
          -2.0174340036144773,
          -0.2982885142503483,
          -1.1060293398574745,
          0.47380475815506795,
          -0.24287698992496476,
          -1.045477160349408,
          -1.372571283799824,
          -0.3708294395405194,
          0.9296363357643138,
          1.07539941494939,
          -0.48860213936065083,
          0.38462255572792503,
          0.7316391969826207,
          0.7056188238429781,
          0.2272970973273527,
          1.8973560994467056,
          -0.08814752662473867,
          2.853141208328112,
          1.2606744935729695,
          -0.19541503270171148,
          0.33884117599906605,
          -1.1823804269843323,
          -0.35818646632962386,
          -2.1896961807689883,
          0.4666612471354609,
          -0.7195595896962929,
          -1.1022342579753548,
          -0.4260373014973277,
          -2.03985628441693,
          -0.3922675703969572,
          -0.6393197479525362,
          1.5070292397184635,
          1.5427741705080689,
          -0.36811080320580436,
          0.7907860507217243,
          -1.053702929569162,
          -1.5682815210700976,
          -1.6899427972979684,
          -1.1577153310653898,
          1.201798767024122,
          0.8139499812781749,
          1.3396399626499909,
          -1.592116875741009,
          -2.108999149725003,
          -2.414121441285468,
          -0.7517992912296336,
          -0.8814484376662446,
          -0.5636621543249383,
          -0.4462016022135572,
          0.7602270527510662,
          -0.7635312669667638,
          -0.6085341535104014,
          -0.6979145854428934,
          0.15270352881680677,
          1.5861404333668392,
          0.4413194748417777,
          1.1464296196046662,
          1.6860599838450785,
          -0.12920519816606357,
          -1.3166186524763952,
          0.9527123887974857,
          -0.0913130377024795,
          -1.2562092533438431,
          -1.4599948208670317,
          0.739600143985171,
          1.928522171471015,
          0.8604873721118755,
          0.5101454894231326,
          -2.0412817448349676,
          2.350622092982859,
          -1.2098096285286442,
          0.8793405535384373,
          -0.4127130171433395,
          -0.9510357246689423,
          -0.5833425292515129,
          2.874170539129894,
          0.6754534679651084,
          -0.43269432307745,
          0.6824671403544771,
          -0.13956406111167266,
          -1.2539511811434925,
          -0.9095655979851323,
          0.5131425131930456,
          0.2107268324859046,
          0.9793829033520347,
          0.05590920125049553,
          -1.4825906211123527,
          -0.7655955658418381,
          -0.9062150294307344,
          0.2713814492008699,
          0.4987962451208206,
          0.8724854785969101,
          0.04820180158157174,
          0.22901793866168949,
          -0.04264546586916472,
          0.9163280370522656,
          -0.010155961485463392,
          -0.9553359158941854,
          -1.0351518431931523,
          0.9471899254826112
         ]
        },
        {
         "line": {
          "color": "rgba(55, 128, 191, 1.0)",
          "dash": "solid",
          "shape": "linear",
          "width": 1.3
         },
         "mode": "lines",
         "name": "B",
         "text": "",
         "type": "scatter",
         "x": [
          0,
          1,
          2,
          3,
          4,
          5,
          6,
          7,
          8,
          9,
          10,
          11,
          12,
          13,
          14,
          15,
          16,
          17,
          18,
          19,
          20,
          21,
          22,
          23,
          24,
          25,
          26,
          27,
          28,
          29,
          30,
          31,
          32,
          33,
          34,
          35,
          36,
          37,
          38,
          39,
          40,
          41,
          42,
          43,
          44,
          45,
          46,
          47,
          48,
          49,
          50,
          51,
          52,
          53,
          54,
          55,
          56,
          57,
          58,
          59,
          60,
          61,
          62,
          63,
          64,
          65,
          66,
          67,
          68,
          69,
          70,
          71,
          72,
          73,
          74,
          75,
          76,
          77,
          78,
          79,
          80,
          81,
          82,
          83,
          84,
          85,
          86,
          87,
          88,
          89,
          90,
          91,
          92,
          93,
          94,
          95,
          96,
          97,
          98,
          99
         ],
         "y": [
          -0.4336314864429535,
          1.350667166094158,
          0.43598099590054984,
          0.6468173769915163,
          0.06159247962019822,
          -0.4718946721964237,
          -0.34718152548498954,
          -0.1352352933676623,
          1.772522237853382,
          1.7932238808421221,
          0.09877771175165724,
          0.0712299488526947,
          -0.04660842611345164,
          -0.695628193641317,
          -0.34583211824660304,
          -0.08662984595296318,
          0.13793492787300085,
          -1.4318303754898554,
          0.5873881902834827,
          -2.07325722004215,
          -1.1770281940962717,
          1.594615146278771,
          1.2776187822533687,
          0.47109117398969547,
          -1.246668759906434,
          -2.2847460611624406,
          -1.5826105556937269,
          -0.811269322851608,
          0.8799894577447486,
          0.06415012993297987,
          -0.7434972189767668,
          -0.9792866546376444,
          -0.933045546820726,
          -2.3622901656782385,
          0.5563119426536198,
          -0.19041549241342892,
          -0.16132840248423033,
          -0.7338722979209311,
          -0.3692777802581269,
          0.1305385223626437,
          -0.6402633231215187,
          1.7724921834749274,
          -1.2351448749489011,
          -0.5873659331128189,
          -0.16728748136882754,
          -0.5602703504822134,
          1.859960185240759,
          0.33740918515772517,
          0.918671162681654,
          -0.07101790267351826,
          0.015441559320083337,
          -1.2031017684144387,
          -0.3272063740238242,
          -0.0001744963858636876,
          0.3103076161179847,
          -0.199759215966244,
          0.05146279997451216,
          -0.18622636023755218,
          -0.8103233465962649,
          -1.9275858643732076,
          -1.1374975146503152,
          -0.41521538622971427,
          0.22719945800922248,
          0.36402755465690834,
          -0.4526090911338168,
          0.26012367576625334,
          -0.22989912094729592,
          0.5285726171745472,
          0.9953458174439949,
          -0.9857712026396995,
          0.5776873616421779,
          -0.7424122876243162,
          -0.5518931892115001,
          -1.5518844904682583,
          0.24099518333260084,
          0.6836961998302244,
          -1.2015323169619367,
          1.2802609934383806,
          1.438639661407647,
          -0.5851440701662644,
          0.4603398760447712,
          0.49137796754968743,
          -0.33395034853426303,
          -1.3694143337900495,
          0.7004766841926477,
          -0.02776944111056883,
          -1.7961432780630182,
          -0.04463245773876887,
          2.1231966212717746,
          -1.192852440208722,
          -1.0474681178086687,
          -0.7387115531544551,
          -0.5637437308033575,
          0.9980152157280872,
          1.5098614226254685,
          -0.5438344156823638,
          0.15937737582332315,
          -1.2195955310150488,
          1.0856990332088072,
          -0.542434730291181
         ]
        },
        {
         "connectgaps": false,
         "fill": "tozeroy",
         "line": {
          "color": "green",
          "dash": "solid",
          "shape": "linear",
          "width": 0.5
         },
         "mode": "lines",
         "name": "Spread",
         "showlegend": false,
         "type": "scatter",
         "x": [
          0,
          1,
          2,
          3,
          4,
          5,
          6,
          7,
          8,
          9,
          10,
          11,
          12,
          13,
          14,
          15,
          16,
          17,
          18,
          19,
          20,
          21,
          22,
          23,
          24,
          25,
          26,
          27,
          28,
          29,
          30,
          31,
          32,
          33,
          34,
          35,
          36,
          37,
          38,
          39,
          40,
          41,
          42,
          43,
          44,
          45,
          46,
          47,
          48,
          49,
          50,
          51,
          52,
          53,
          54,
          55,
          56,
          57,
          58,
          59,
          60,
          61,
          62,
          63,
          64,
          65,
          66,
          67,
          68,
          69,
          70,
          71,
          72,
          73,
          74,
          75,
          76,
          77,
          78,
          79,
          80,
          81,
          82,
          83,
          84,
          85,
          86,
          87,
          88,
          89,
          90,
          91,
          92,
          93,
          94,
          95,
          96,
          97,
          98,
          99
         ],
         "xaxis": "x2",
         "y": [
          "",
          "",
          "",
          "",
          "",
          "",
          "",
          "",
          "",
          "",
          "",
          0.31339260687523035,
          0.7782476230960723,
          1.401247017484295,
          0.5731292155739558,
          1.9839859453996687,
          "",
          4.284971583817967,
          0.6732863032894868,
          1.8778421873404387,
          1.5158693700953378,
          "",
          "",
          "",
          1.713330007041895,
          1.5651864714661476,
          0.4803762977183721,
          0.3852320213542803,
          "",
          "",
          0.10417747102423058,
          2.4863158943561077,
          2.475819717328795,
          1.9941793624724342,
          0.23447410806810443,
          "",
          "",
          "",
          "",
          1.0712602446614783,
          1.4542133043996937,
          "",
          "",
          "",
          "",
          "",
          "",
          "",
          "",
          0.8312449554245844,
          "",
          0.5945676149040373,
          "",
          0.15287802520267046,
          1.2758328172488544,
          0.6410786908080217,
          1.094966819630154,
          1.8722863440826307,
          0.6811181484302014,
          0.6109672118968124,
          2.0902099034478008,
          0.32390234852723476,
          "",
          "",
          1.192209235118988,
          1.6683984957047617,
          1.0903864930591713,
          "",
          "",
          3.3363932956225586,
          "",
          1.6217528411627535,
          0.13918017206816058,
          0.600848765799316,
          "",
          2.1904743392996693,
          1.876985784927045,
          "",
          "",
          0.4455800090545917,
          "",
          "",
          0.8470928617273086,
          1.5801411662759541,
          0.27890621915938696,
          0.08367864236106437,
          0.3135526569506655,
          "",
          "",
          1.4642338894095919,
          1.5462643629294892,
          1.6111970317513653,
          0.6119455323849292,
          "",
          "",
          1.4601624527346293,
          "",
          0.2642596151208634,
          "",
          1.4896246557737922
         ],
         "yaxis": "y2"
        },
        {
         "connectgaps": false,
         "fill": "tozeroy",
         "line": {
          "color": "red",
          "dash": "solid",
          "shape": "linear",
          "width": 0.5
         },
         "mode": "lines",
         "name": "Spread",
         "showlegend": false,
         "type": "scatter",
         "x": [
          0,
          1,
          2,
          3,
          4,
          5,
          6,
          7,
          8,
          9,
          10,
          11,
          12,
          13,
          14,
          15,
          16,
          17,
          18,
          19,
          20,
          21,
          22,
          23,
          24,
          25,
          26,
          27,
          28,
          29,
          30,
          31,
          32,
          33,
          34,
          35,
          36,
          37,
          38,
          39,
          40,
          41,
          42,
          43,
          44,
          45,
          46,
          47,
          48,
          49,
          50,
          51,
          52,
          53,
          54,
          55,
          56,
          57,
          58,
          59,
          60,
          61,
          62,
          63,
          64,
          65,
          66,
          67,
          68,
          69,
          70,
          71,
          72,
          73,
          74,
          75,
          76,
          77,
          78,
          79,
          80,
          81,
          82,
          83,
          84,
          85,
          86,
          87,
          88,
          89,
          90,
          91,
          92,
          93,
          94,
          95,
          96,
          97,
          98,
          99
         ],
         "xaxis": "x2",
         "y": [
          -1.5838025171715238,
          -1.6489556803445065,
          -1.5420103357580244,
          -0.17301261883644836,
          -0.30446946954516296,
          -0.5735824881529843,
          -1.0253897583148346,
          -0.2355941461728571,
          -0.8428859020890682,
          -0.7178244658927322,
          -0.5873798511123081,
          "",
          "",
          "",
          "",
          "",
          -0.2260824544977395,
          "",
          "",
          "",
          "",
          -2.776995573263103,
          -1.6358052485829926,
          -2.6607873547586838,
          "",
          "",
          "",
          "",
          -2.9198457421616784,
          -0.45641770032993706,
          "",
          "",
          "",
          "",
          "",
          -0.8632874371557331,
          -1.4069531185858672,
          -0.9560704993770373,
          -0.788437550807263,
          "",
          "",
          -0.4328522208249366,
          -0.3569720007921078,
          -1.521633216612184,
          -2.2468339599166405,
          -0.19152894074742022,
          -2.7414086229070036,
          -0.9010713394826635,
          -1.3648727648952113,
          "",
          -0.778972826286847,
          "",
          -0.37070821141906923,
          "",
          "",
          "",
          "",
          "",
          "",
          "",
          "",
          "",
          -1.4834087113530656,
          -1.82402237552394,
          "",
          "",
          "",
          -0.01842712775141453,
          -3.0366275622789622,
          "",
          -1.7874969901708222,
          "",
          "",
          "",
          -0.8243377125841137,
          "",
          "",
          -1.7129553165158307,
          -0.75617252105317,
          "",
          -1.7142910571882637,
          -1.4009435655348197,
          "",
          "",
          "",
          "",
          "",
          -0.7209631081030692,
          -3.029411650702509,
          "",
          "",
          "",
          "",
          -0.7689972770663976,
          -1.5525068884946331,
          "",
          -0.16953333730878653,
          "",
          -2.12085087640196,
          ""
         ],
         "yaxis": "y2"
        }
       ],
       "layout": {
        "hovermode": "x",
        "legend": {
         "bgcolor": "#F5F6F9",
         "font": {
          "color": "#4D5663"
         }
        },
        "paper_bgcolor": "#F5F6F9",
        "plot_bgcolor": "#F5F6F9",
        "template": {
         "data": {
          "bar": [
           {
            "error_x": {
             "color": "#2a3f5f"
            },
            "error_y": {
             "color": "#2a3f5f"
            },
            "marker": {
             "line": {
              "color": "#E5ECF6",
              "width": 0.5
             },
             "pattern": {
              "fillmode": "overlay",
              "size": 10,
              "solidity": 0.2
             }
            },
            "type": "bar"
           }
          ],
          "barpolar": [
           {
            "marker": {
             "line": {
              "color": "#E5ECF6",
              "width": 0.5
             },
             "pattern": {
              "fillmode": "overlay",
              "size": 10,
              "solidity": 0.2
             }
            },
            "type": "barpolar"
           }
          ],
          "carpet": [
           {
            "aaxis": {
             "endlinecolor": "#2a3f5f",
             "gridcolor": "white",
             "linecolor": "white",
             "minorgridcolor": "white",
             "startlinecolor": "#2a3f5f"
            },
            "baxis": {
             "endlinecolor": "#2a3f5f",
             "gridcolor": "white",
             "linecolor": "white",
             "minorgridcolor": "white",
             "startlinecolor": "#2a3f5f"
            },
            "type": "carpet"
           }
          ],
          "choropleth": [
           {
            "colorbar": {
             "outlinewidth": 0,
             "ticks": ""
            },
            "type": "choropleth"
           }
          ],
          "contour": [
           {
            "colorbar": {
             "outlinewidth": 0,
             "ticks": ""
            },
            "colorscale": [
             [
              0,
              "#0d0887"
             ],
             [
              0.1111111111111111,
              "#46039f"
             ],
             [
              0.2222222222222222,
              "#7201a8"
             ],
             [
              0.3333333333333333,
              "#9c179e"
             ],
             [
              0.4444444444444444,
              "#bd3786"
             ],
             [
              0.5555555555555556,
              "#d8576b"
             ],
             [
              0.6666666666666666,
              "#ed7953"
             ],
             [
              0.7777777777777778,
              "#fb9f3a"
             ],
             [
              0.8888888888888888,
              "#fdca26"
             ],
             [
              1,
              "#f0f921"
             ]
            ],
            "type": "contour"
           }
          ],
          "contourcarpet": [
           {
            "colorbar": {
             "outlinewidth": 0,
             "ticks": ""
            },
            "type": "contourcarpet"
           }
          ],
          "heatmap": [
           {
            "colorbar": {
             "outlinewidth": 0,
             "ticks": ""
            },
            "colorscale": [
             [
              0,
              "#0d0887"
             ],
             [
              0.1111111111111111,
              "#46039f"
             ],
             [
              0.2222222222222222,
              "#7201a8"
             ],
             [
              0.3333333333333333,
              "#9c179e"
             ],
             [
              0.4444444444444444,
              "#bd3786"
             ],
             [
              0.5555555555555556,
              "#d8576b"
             ],
             [
              0.6666666666666666,
              "#ed7953"
             ],
             [
              0.7777777777777778,
              "#fb9f3a"
             ],
             [
              0.8888888888888888,
              "#fdca26"
             ],
             [
              1,
              "#f0f921"
             ]
            ],
            "type": "heatmap"
           }
          ],
          "heatmapgl": [
           {
            "colorbar": {
             "outlinewidth": 0,
             "ticks": ""
            },
            "colorscale": [
             [
              0,
              "#0d0887"
             ],
             [
              0.1111111111111111,
              "#46039f"
             ],
             [
              0.2222222222222222,
              "#7201a8"
             ],
             [
              0.3333333333333333,
              "#9c179e"
             ],
             [
              0.4444444444444444,
              "#bd3786"
             ],
             [
              0.5555555555555556,
              "#d8576b"
             ],
             [
              0.6666666666666666,
              "#ed7953"
             ],
             [
              0.7777777777777778,
              "#fb9f3a"
             ],
             [
              0.8888888888888888,
              "#fdca26"
             ],
             [
              1,
              "#f0f921"
             ]
            ],
            "type": "heatmapgl"
           }
          ],
          "histogram": [
           {
            "marker": {
             "pattern": {
              "fillmode": "overlay",
              "size": 10,
              "solidity": 0.2
             }
            },
            "type": "histogram"
           }
          ],
          "histogram2d": [
           {
            "colorbar": {
             "outlinewidth": 0,
             "ticks": ""
            },
            "colorscale": [
             [
              0,
              "#0d0887"
             ],
             [
              0.1111111111111111,
              "#46039f"
             ],
             [
              0.2222222222222222,
              "#7201a8"
             ],
             [
              0.3333333333333333,
              "#9c179e"
             ],
             [
              0.4444444444444444,
              "#bd3786"
             ],
             [
              0.5555555555555556,
              "#d8576b"
             ],
             [
              0.6666666666666666,
              "#ed7953"
             ],
             [
              0.7777777777777778,
              "#fb9f3a"
             ],
             [
              0.8888888888888888,
              "#fdca26"
             ],
             [
              1,
              "#f0f921"
             ]
            ],
            "type": "histogram2d"
           }
          ],
          "histogram2dcontour": [
           {
            "colorbar": {
             "outlinewidth": 0,
             "ticks": ""
            },
            "colorscale": [
             [
              0,
              "#0d0887"
             ],
             [
              0.1111111111111111,
              "#46039f"
             ],
             [
              0.2222222222222222,
              "#7201a8"
             ],
             [
              0.3333333333333333,
              "#9c179e"
             ],
             [
              0.4444444444444444,
              "#bd3786"
             ],
             [
              0.5555555555555556,
              "#d8576b"
             ],
             [
              0.6666666666666666,
              "#ed7953"
             ],
             [
              0.7777777777777778,
              "#fb9f3a"
             ],
             [
              0.8888888888888888,
              "#fdca26"
             ],
             [
              1,
              "#f0f921"
             ]
            ],
            "type": "histogram2dcontour"
           }
          ],
          "mesh3d": [
           {
            "colorbar": {
             "outlinewidth": 0,
             "ticks": ""
            },
            "type": "mesh3d"
           }
          ],
          "parcoords": [
           {
            "line": {
             "colorbar": {
              "outlinewidth": 0,
              "ticks": ""
             }
            },
            "type": "parcoords"
           }
          ],
          "pie": [
           {
            "automargin": true,
            "type": "pie"
           }
          ],
          "scatter": [
           {
            "fillpattern": {
             "fillmode": "overlay",
             "size": 10,
             "solidity": 0.2
            },
            "type": "scatter"
           }
          ],
          "scatter3d": [
           {
            "line": {
             "colorbar": {
              "outlinewidth": 0,
              "ticks": ""
             }
            },
            "marker": {
             "colorbar": {
              "outlinewidth": 0,
              "ticks": ""
             }
            },
            "type": "scatter3d"
           }
          ],
          "scattercarpet": [
           {
            "marker": {
             "colorbar": {
              "outlinewidth": 0,
              "ticks": ""
             }
            },
            "type": "scattercarpet"
           }
          ],
          "scattergeo": [
           {
            "marker": {
             "colorbar": {
              "outlinewidth": 0,
              "ticks": ""
             }
            },
            "type": "scattergeo"
           }
          ],
          "scattergl": [
           {
            "marker": {
             "colorbar": {
              "outlinewidth": 0,
              "ticks": ""
             }
            },
            "type": "scattergl"
           }
          ],
          "scattermapbox": [
           {
            "marker": {
             "colorbar": {
              "outlinewidth": 0,
              "ticks": ""
             }
            },
            "type": "scattermapbox"
           }
          ],
          "scatterpolar": [
           {
            "marker": {
             "colorbar": {
              "outlinewidth": 0,
              "ticks": ""
             }
            },
            "type": "scatterpolar"
           }
          ],
          "scatterpolargl": [
           {
            "marker": {
             "colorbar": {
              "outlinewidth": 0,
              "ticks": ""
             }
            },
            "type": "scatterpolargl"
           }
          ],
          "scatterternary": [
           {
            "marker": {
             "colorbar": {
              "outlinewidth": 0,
              "ticks": ""
             }
            },
            "type": "scatterternary"
           }
          ],
          "surface": [
           {
            "colorbar": {
             "outlinewidth": 0,
             "ticks": ""
            },
            "colorscale": [
             [
              0,
              "#0d0887"
             ],
             [
              0.1111111111111111,
              "#46039f"
             ],
             [
              0.2222222222222222,
              "#7201a8"
             ],
             [
              0.3333333333333333,
              "#9c179e"
             ],
             [
              0.4444444444444444,
              "#bd3786"
             ],
             [
              0.5555555555555556,
              "#d8576b"
             ],
             [
              0.6666666666666666,
              "#ed7953"
             ],
             [
              0.7777777777777778,
              "#fb9f3a"
             ],
             [
              0.8888888888888888,
              "#fdca26"
             ],
             [
              1,
              "#f0f921"
             ]
            ],
            "type": "surface"
           }
          ],
          "table": [
           {
            "cells": {
             "fill": {
              "color": "#EBF0F8"
             },
             "line": {
              "color": "white"
             }
            },
            "header": {
             "fill": {
              "color": "#C8D4E3"
             },
             "line": {
              "color": "white"
             }
            },
            "type": "table"
           }
          ]
         },
         "layout": {
          "annotationdefaults": {
           "arrowcolor": "#2a3f5f",
           "arrowhead": 0,
           "arrowwidth": 1
          },
          "autotypenumbers": "strict",
          "coloraxis": {
           "colorbar": {
            "outlinewidth": 0,
            "ticks": ""
           }
          },
          "colorscale": {
           "diverging": [
            [
             0,
             "#8e0152"
            ],
            [
             0.1,
             "#c51b7d"
            ],
            [
             0.2,
             "#de77ae"
            ],
            [
             0.3,
             "#f1b6da"
            ],
            [
             0.4,
             "#fde0ef"
            ],
            [
             0.5,
             "#f7f7f7"
            ],
            [
             0.6,
             "#e6f5d0"
            ],
            [
             0.7,
             "#b8e186"
            ],
            [
             0.8,
             "#7fbc41"
            ],
            [
             0.9,
             "#4d9221"
            ],
            [
             1,
             "#276419"
            ]
           ],
           "sequential": [
            [
             0,
             "#0d0887"
            ],
            [
             0.1111111111111111,
             "#46039f"
            ],
            [
             0.2222222222222222,
             "#7201a8"
            ],
            [
             0.3333333333333333,
             "#9c179e"
            ],
            [
             0.4444444444444444,
             "#bd3786"
            ],
            [
             0.5555555555555556,
             "#d8576b"
            ],
            [
             0.6666666666666666,
             "#ed7953"
            ],
            [
             0.7777777777777778,
             "#fb9f3a"
            ],
            [
             0.8888888888888888,
             "#fdca26"
            ],
            [
             1,
             "#f0f921"
            ]
           ],
           "sequentialminus": [
            [
             0,
             "#0d0887"
            ],
            [
             0.1111111111111111,
             "#46039f"
            ],
            [
             0.2222222222222222,
             "#7201a8"
            ],
            [
             0.3333333333333333,
             "#9c179e"
            ],
            [
             0.4444444444444444,
             "#bd3786"
            ],
            [
             0.5555555555555556,
             "#d8576b"
            ],
            [
             0.6666666666666666,
             "#ed7953"
            ],
            [
             0.7777777777777778,
             "#fb9f3a"
            ],
            [
             0.8888888888888888,
             "#fdca26"
            ],
            [
             1,
             "#f0f921"
            ]
           ]
          },
          "colorway": [
           "#636efa",
           "#EF553B",
           "#00cc96",
           "#ab63fa",
           "#FFA15A",
           "#19d3f3",
           "#FF6692",
           "#B6E880",
           "#FF97FF",
           "#FECB52"
          ],
          "font": {
           "color": "#2a3f5f"
          },
          "geo": {
           "bgcolor": "white",
           "lakecolor": "white",
           "landcolor": "#E5ECF6",
           "showlakes": true,
           "showland": true,
           "subunitcolor": "white"
          },
          "hoverlabel": {
           "align": "left"
          },
          "hovermode": "closest",
          "mapbox": {
           "style": "light"
          },
          "paper_bgcolor": "white",
          "plot_bgcolor": "#E5ECF6",
          "polar": {
           "angularaxis": {
            "gridcolor": "white",
            "linecolor": "white",
            "ticks": ""
           },
           "bgcolor": "#E5ECF6",
           "radialaxis": {
            "gridcolor": "white",
            "linecolor": "white",
            "ticks": ""
           }
          },
          "scene": {
           "xaxis": {
            "backgroundcolor": "#E5ECF6",
            "gridcolor": "white",
            "gridwidth": 2,
            "linecolor": "white",
            "showbackground": true,
            "ticks": "",
            "zerolinecolor": "white"
           },
           "yaxis": {
            "backgroundcolor": "#E5ECF6",
            "gridcolor": "white",
            "gridwidth": 2,
            "linecolor": "white",
            "showbackground": true,
            "ticks": "",
            "zerolinecolor": "white"
           },
           "zaxis": {
            "backgroundcolor": "#E5ECF6",
            "gridcolor": "white",
            "gridwidth": 2,
            "linecolor": "white",
            "showbackground": true,
            "ticks": "",
            "zerolinecolor": "white"
           }
          },
          "shapedefaults": {
           "line": {
            "color": "#2a3f5f"
           }
          },
          "ternary": {
           "aaxis": {
            "gridcolor": "white",
            "linecolor": "white",
            "ticks": ""
           },
           "baxis": {
            "gridcolor": "white",
            "linecolor": "white",
            "ticks": ""
           },
           "bgcolor": "#E5ECF6",
           "caxis": {
            "gridcolor": "white",
            "linecolor": "white",
            "ticks": ""
           }
          },
          "title": {
           "x": 0.05
          },
          "xaxis": {
           "automargin": true,
           "gridcolor": "white",
           "linecolor": "white",
           "ticks": "",
           "title": {
            "standoff": 15
           },
           "zerolinecolor": "white",
           "zerolinewidth": 2
          },
          "yaxis": {
           "automargin": true,
           "gridcolor": "white",
           "linecolor": "white",
           "ticks": "",
           "title": {
            "standoff": 15
           },
           "zerolinecolor": "white",
           "zerolinewidth": 2
          }
         }
        },
        "title": {
         "font": {
          "color": "#4D5663"
         }
        },
        "xaxis": {
         "gridcolor": "#E1E5ED",
         "showgrid": true,
         "tickfont": {
          "color": "#4D5663"
         },
         "title": {
          "font": {
           "color": "#4D5663"
          },
          "text": ""
         },
         "zerolinecolor": "#E1E5ED"
        },
        "xaxis2": {
         "anchor": "y2",
         "gridcolor": "#E1E5ED",
         "showgrid": true,
         "showticklabels": false,
         "tickfont": {
          "color": "#4D5663"
         },
         "title": {
          "font": {
           "color": "#4D5663"
          },
          "text": ""
         },
         "zerolinecolor": "#E1E5ED"
        },
        "yaxis": {
         "domain": [
          0.3,
          1
         ],
         "gridcolor": "#E1E5ED",
         "showgrid": true,
         "tickfont": {
          "color": "#4D5663"
         },
         "title": {
          "font": {
           "color": "#4D5663"
          },
          "text": ""
         },
         "zerolinecolor": "#E1E5ED"
        },
        "yaxis2": {
         "domain": [
          0,
          0.25
         ],
         "gridcolor": "#E1E5ED",
         "showgrid": true,
         "tickfont": {
          "color": "#4D5663"
         },
         "title": {
          "font": {
           "color": "#4D5663"
          },
          "text": "Spread"
         },
         "zerolinecolor": "#E1E5ED"
        }
       }
      },
      "text/html": [
       "<div>                            <div id=\"9a79800c-ee00-43e9-aaa6-e5f11bd5a003\" class=\"plotly-graph-div\" style=\"height:525px; width:100%;\"></div>            <script type=\"text/javascript\">                require([\"plotly\"], function(Plotly) {                    window.PLOTLYENV=window.PLOTLYENV || {};\n",
       "                    window.PLOTLYENV.BASE_URL='https://plot.ly';                                    if (document.getElementById(\"9a79800c-ee00-43e9-aaa6-e5f11bd5a003\")) {                    Plotly.newPlot(                        \"9a79800c-ee00-43e9-aaa6-e5f11bd5a003\",                        [{\"line\":{\"color\":\"rgba(255, 153, 51, 1.0)\",\"dash\":\"solid\",\"shape\":\"linear\",\"width\":1.3},\"mode\":\"lines\",\"name\":\"A\",\"text\":\"\",\"x\":[0,1,2,3,4,5,6,7,8,9,10,11,12,13,14,15,16,17,18,19,20,21,22,23,24,25,26,27,28,29,30,31,32,33,34,35,36,37,38,39,40,41,42,43,44,45,46,47,48,49,50,51,52,53,54,55,56,57,58,59,60,61,62,63,64,65,66,67,68,69,70,71,72,73,74,75,76,77,78,79,80,81,82,83,84,85,86,87,88,89,90,91,92,93,94,95,96,97,98,99],\"y\":[-2.0174340036144773,-0.2982885142503483,-1.1060293398574745,0.47380475815506795,-0.24287698992496476,-1.045477160349408,-1.372571283799824,-0.3708294395405194,0.9296363357643138,1.07539941494939,-0.48860213936065083,0.38462255572792503,0.7316391969826207,0.7056188238429781,0.2272970973273527,1.8973560994467056,-0.08814752662473867,2.853141208328112,1.2606744935729695,-0.19541503270171148,0.33884117599906605,-1.1823804269843323,-0.35818646632962386,-2.1896961807689883,0.4666612471354609,-0.7195595896962929,-1.1022342579753548,-0.4260373014973277,-2.03985628441693,-0.3922675703969572,-0.6393197479525362,1.5070292397184635,1.5427741705080689,-0.36811080320580436,0.7907860507217243,-1.053702929569162,-1.5682815210700976,-1.6899427972979684,-1.1577153310653898,1.201798767024122,0.8139499812781749,1.3396399626499909,-1.592116875741009,-2.108999149725003,-2.414121441285468,-0.7517992912296336,-0.8814484376662446,-0.5636621543249383,-0.4462016022135572,0.7602270527510662,-0.7635312669667638,-0.6085341535104014,-0.6979145854428934,0.15270352881680677,1.5861404333668392,0.4413194748417777,1.1464296196046662,1.6860599838450785,-0.12920519816606357,-1.3166186524763952,0.9527123887974857,-0.0913130377024795,-1.2562092533438431,-1.4599948208670317,0.739600143985171,1.928522171471015,0.8604873721118755,0.5101454894231326,-2.0412817448349676,2.350622092982859,-1.2098096285286442,0.8793405535384373,-0.4127130171433395,-0.9510357246689423,-0.5833425292515129,2.874170539129894,0.6754534679651084,-0.43269432307745,0.6824671403544771,-0.13956406111167266,-1.2539511811434925,-0.9095655979851323,0.5131425131930456,0.2107268324859046,0.9793829033520347,0.05590920125049553,-1.4825906211123527,-0.7655955658418381,-0.9062150294307344,0.2713814492008699,0.4987962451208206,0.8724854785969101,0.04820180158157174,0.22901793866168949,-0.04264546586916472,0.9163280370522656,-0.010155961485463392,-0.9553359158941854,-1.0351518431931523,0.9471899254826112],\"type\":\"scatter\"},{\"line\":{\"color\":\"rgba(55, 128, 191, 1.0)\",\"dash\":\"solid\",\"shape\":\"linear\",\"width\":1.3},\"mode\":\"lines\",\"name\":\"B\",\"text\":\"\",\"x\":[0,1,2,3,4,5,6,7,8,9,10,11,12,13,14,15,16,17,18,19,20,21,22,23,24,25,26,27,28,29,30,31,32,33,34,35,36,37,38,39,40,41,42,43,44,45,46,47,48,49,50,51,52,53,54,55,56,57,58,59,60,61,62,63,64,65,66,67,68,69,70,71,72,73,74,75,76,77,78,79,80,81,82,83,84,85,86,87,88,89,90,91,92,93,94,95,96,97,98,99],\"y\":[-0.4336314864429535,1.350667166094158,0.43598099590054984,0.6468173769915163,0.06159247962019822,-0.4718946721964237,-0.34718152548498954,-0.1352352933676623,1.772522237853382,1.7932238808421221,0.09877771175165724,0.0712299488526947,-0.04660842611345164,-0.695628193641317,-0.34583211824660304,-0.08662984595296318,0.13793492787300085,-1.4318303754898554,0.5873881902834827,-2.07325722004215,-1.1770281940962717,1.594615146278771,1.2776187822533687,0.47109117398969547,-1.246668759906434,-2.2847460611624406,-1.5826105556937269,-0.811269322851608,0.8799894577447486,0.06415012993297987,-0.7434972189767668,-0.9792866546376444,-0.933045546820726,-2.3622901656782385,0.5563119426536198,-0.19041549241342892,-0.16132840248423033,-0.7338722979209311,-0.3692777802581269,0.1305385223626437,-0.6402633231215187,1.7724921834749274,-1.2351448749489011,-0.5873659331128189,-0.16728748136882754,-0.5602703504822134,1.859960185240759,0.33740918515772517,0.918671162681654,-0.07101790267351826,0.015441559320083337,-1.2031017684144387,-0.3272063740238242,-0.0001744963858636876,0.3103076161179847,-0.199759215966244,0.05146279997451216,-0.18622636023755218,-0.8103233465962649,-1.9275858643732076,-1.1374975146503152,-0.41521538622971427,0.22719945800922248,0.36402755465690834,-0.4526090911338168,0.26012367576625334,-0.22989912094729592,0.5285726171745472,0.9953458174439949,-0.9857712026396995,0.5776873616421779,-0.7424122876243162,-0.5518931892115001,-1.5518844904682583,0.24099518333260084,0.6836961998302244,-1.2015323169619367,1.2802609934383806,1.438639661407647,-0.5851440701662644,0.4603398760447712,0.49137796754968743,-0.33395034853426303,-1.3694143337900495,0.7004766841926477,-0.02776944111056883,-1.7961432780630182,-0.04463245773876887,2.1231966212717746,-1.192852440208722,-1.0474681178086687,-0.7387115531544551,-0.5637437308033575,0.9980152157280872,1.5098614226254685,-0.5438344156823638,0.15937737582332315,-1.2195955310150488,1.0856990332088072,-0.542434730291181],\"type\":\"scatter\"},{\"connectgaps\":false,\"fill\":\"tozeroy\",\"line\":{\"color\":\"green\",\"dash\":\"solid\",\"shape\":\"linear\",\"width\":0.5},\"mode\":\"lines\",\"name\":\"Spread\",\"showlegend\":false,\"x\":[0,1,2,3,4,5,6,7,8,9,10,11,12,13,14,15,16,17,18,19,20,21,22,23,24,25,26,27,28,29,30,31,32,33,34,35,36,37,38,39,40,41,42,43,44,45,46,47,48,49,50,51,52,53,54,55,56,57,58,59,60,61,62,63,64,65,66,67,68,69,70,71,72,73,74,75,76,77,78,79,80,81,82,83,84,85,86,87,88,89,90,91,92,93,94,95,96,97,98,99],\"xaxis\":\"x2\",\"y\":[\"\",\"\",\"\",\"\",\"\",\"\",\"\",\"\",\"\",\"\",\"\",0.31339260687523035,0.7782476230960723,1.401247017484295,0.5731292155739558,1.9839859453996687,\"\",4.284971583817967,0.6732863032894868,1.8778421873404387,1.5158693700953378,\"\",\"\",\"\",1.713330007041895,1.5651864714661476,0.4803762977183721,0.3852320213542803,\"\",\"\",0.10417747102423058,2.4863158943561077,2.475819717328795,1.9941793624724342,0.23447410806810443,\"\",\"\",\"\",\"\",1.0712602446614783,1.4542133043996937,\"\",\"\",\"\",\"\",\"\",\"\",\"\",\"\",0.8312449554245844,\"\",0.5945676149040373,\"\",0.15287802520267046,1.2758328172488544,0.6410786908080217,1.094966819630154,1.8722863440826307,0.6811181484302014,0.6109672118968124,2.0902099034478008,0.32390234852723476,\"\",\"\",1.192209235118988,1.6683984957047617,1.0903864930591713,\"\",\"\",3.3363932956225586,\"\",1.6217528411627535,0.13918017206816058,0.600848765799316,\"\",2.1904743392996693,1.876985784927045,\"\",\"\",0.4455800090545917,\"\",\"\",0.8470928617273086,1.5801411662759541,0.27890621915938696,0.08367864236106437,0.3135526569506655,\"\",\"\",1.4642338894095919,1.5462643629294892,1.6111970317513653,0.6119455323849292,\"\",\"\",1.4601624527346293,\"\",0.2642596151208634,\"\",1.4896246557737922],\"yaxis\":\"y2\",\"type\":\"scatter\"},{\"connectgaps\":false,\"fill\":\"tozeroy\",\"line\":{\"color\":\"red\",\"dash\":\"solid\",\"shape\":\"linear\",\"width\":0.5},\"mode\":\"lines\",\"name\":\"Spread\",\"showlegend\":false,\"x\":[0,1,2,3,4,5,6,7,8,9,10,11,12,13,14,15,16,17,18,19,20,21,22,23,24,25,26,27,28,29,30,31,32,33,34,35,36,37,38,39,40,41,42,43,44,45,46,47,48,49,50,51,52,53,54,55,56,57,58,59,60,61,62,63,64,65,66,67,68,69,70,71,72,73,74,75,76,77,78,79,80,81,82,83,84,85,86,87,88,89,90,91,92,93,94,95,96,97,98,99],\"xaxis\":\"x2\",\"y\":[-1.5838025171715238,-1.6489556803445065,-1.5420103357580244,-0.17301261883644836,-0.30446946954516296,-0.5735824881529843,-1.0253897583148346,-0.2355941461728571,-0.8428859020890682,-0.7178244658927322,-0.5873798511123081,\"\",\"\",\"\",\"\",\"\",-0.2260824544977395,\"\",\"\",\"\",\"\",-2.776995573263103,-1.6358052485829926,-2.6607873547586838,\"\",\"\",\"\",\"\",-2.9198457421616784,-0.45641770032993706,\"\",\"\",\"\",\"\",\"\",-0.8632874371557331,-1.4069531185858672,-0.9560704993770373,-0.788437550807263,\"\",\"\",-0.4328522208249366,-0.3569720007921078,-1.521633216612184,-2.2468339599166405,-0.19152894074742022,-2.7414086229070036,-0.9010713394826635,-1.3648727648952113,\"\",-0.778972826286847,\"\",-0.37070821141906923,\"\",\"\",\"\",\"\",\"\",\"\",\"\",\"\",\"\",-1.4834087113530656,-1.82402237552394,\"\",\"\",\"\",-0.01842712775141453,-3.0366275622789622,\"\",-1.7874969901708222,\"\",\"\",\"\",-0.8243377125841137,\"\",\"\",-1.7129553165158307,-0.75617252105317,\"\",-1.7142910571882637,-1.4009435655348197,\"\",\"\",\"\",\"\",\"\",-0.7209631081030692,-3.029411650702509,\"\",\"\",\"\",\"\",-0.7689972770663976,-1.5525068884946331,\"\",-0.16953333730878653,\"\",-2.12085087640196,\"\"],\"yaxis\":\"y2\",\"type\":\"scatter\"}],                        {\"hovermode\":\"x\",\"legend\":{\"bgcolor\":\"#F5F6F9\",\"font\":{\"color\":\"#4D5663\"}},\"paper_bgcolor\":\"#F5F6F9\",\"plot_bgcolor\":\"#F5F6F9\",\"template\":{\"data\":{\"barpolar\":[{\"marker\":{\"line\":{\"color\":\"#E5ECF6\",\"width\":0.5},\"pattern\":{\"fillmode\":\"overlay\",\"size\":10,\"solidity\":0.2}},\"type\":\"barpolar\"}],\"bar\":[{\"error_x\":{\"color\":\"#2a3f5f\"},\"error_y\":{\"color\":\"#2a3f5f\"},\"marker\":{\"line\":{\"color\":\"#E5ECF6\",\"width\":0.5},\"pattern\":{\"fillmode\":\"overlay\",\"size\":10,\"solidity\":0.2}},\"type\":\"bar\"}],\"carpet\":[{\"aaxis\":{\"endlinecolor\":\"#2a3f5f\",\"gridcolor\":\"white\",\"linecolor\":\"white\",\"minorgridcolor\":\"white\",\"startlinecolor\":\"#2a3f5f\"},\"baxis\":{\"endlinecolor\":\"#2a3f5f\",\"gridcolor\":\"white\",\"linecolor\":\"white\",\"minorgridcolor\":\"white\",\"startlinecolor\":\"#2a3f5f\"},\"type\":\"carpet\"}],\"choropleth\":[{\"colorbar\":{\"outlinewidth\":0,\"ticks\":\"\"},\"type\":\"choropleth\"}],\"contourcarpet\":[{\"colorbar\":{\"outlinewidth\":0,\"ticks\":\"\"},\"type\":\"contourcarpet\"}],\"contour\":[{\"colorbar\":{\"outlinewidth\":0,\"ticks\":\"\"},\"colorscale\":[[0.0,\"#0d0887\"],[0.1111111111111111,\"#46039f\"],[0.2222222222222222,\"#7201a8\"],[0.3333333333333333,\"#9c179e\"],[0.4444444444444444,\"#bd3786\"],[0.5555555555555556,\"#d8576b\"],[0.6666666666666666,\"#ed7953\"],[0.7777777777777778,\"#fb9f3a\"],[0.8888888888888888,\"#fdca26\"],[1.0,\"#f0f921\"]],\"type\":\"contour\"}],\"heatmapgl\":[{\"colorbar\":{\"outlinewidth\":0,\"ticks\":\"\"},\"colorscale\":[[0.0,\"#0d0887\"],[0.1111111111111111,\"#46039f\"],[0.2222222222222222,\"#7201a8\"],[0.3333333333333333,\"#9c179e\"],[0.4444444444444444,\"#bd3786\"],[0.5555555555555556,\"#d8576b\"],[0.6666666666666666,\"#ed7953\"],[0.7777777777777778,\"#fb9f3a\"],[0.8888888888888888,\"#fdca26\"],[1.0,\"#f0f921\"]],\"type\":\"heatmapgl\"}],\"heatmap\":[{\"colorbar\":{\"outlinewidth\":0,\"ticks\":\"\"},\"colorscale\":[[0.0,\"#0d0887\"],[0.1111111111111111,\"#46039f\"],[0.2222222222222222,\"#7201a8\"],[0.3333333333333333,\"#9c179e\"],[0.4444444444444444,\"#bd3786\"],[0.5555555555555556,\"#d8576b\"],[0.6666666666666666,\"#ed7953\"],[0.7777777777777778,\"#fb9f3a\"],[0.8888888888888888,\"#fdca26\"],[1.0,\"#f0f921\"]],\"type\":\"heatmap\"}],\"histogram2dcontour\":[{\"colorbar\":{\"outlinewidth\":0,\"ticks\":\"\"},\"colorscale\":[[0.0,\"#0d0887\"],[0.1111111111111111,\"#46039f\"],[0.2222222222222222,\"#7201a8\"],[0.3333333333333333,\"#9c179e\"],[0.4444444444444444,\"#bd3786\"],[0.5555555555555556,\"#d8576b\"],[0.6666666666666666,\"#ed7953\"],[0.7777777777777778,\"#fb9f3a\"],[0.8888888888888888,\"#fdca26\"],[1.0,\"#f0f921\"]],\"type\":\"histogram2dcontour\"}],\"histogram2d\":[{\"colorbar\":{\"outlinewidth\":0,\"ticks\":\"\"},\"colorscale\":[[0.0,\"#0d0887\"],[0.1111111111111111,\"#46039f\"],[0.2222222222222222,\"#7201a8\"],[0.3333333333333333,\"#9c179e\"],[0.4444444444444444,\"#bd3786\"],[0.5555555555555556,\"#d8576b\"],[0.6666666666666666,\"#ed7953\"],[0.7777777777777778,\"#fb9f3a\"],[0.8888888888888888,\"#fdca26\"],[1.0,\"#f0f921\"]],\"type\":\"histogram2d\"}],\"histogram\":[{\"marker\":{\"pattern\":{\"fillmode\":\"overlay\",\"size\":10,\"solidity\":0.2}},\"type\":\"histogram\"}],\"mesh3d\":[{\"colorbar\":{\"outlinewidth\":0,\"ticks\":\"\"},\"type\":\"mesh3d\"}],\"parcoords\":[{\"line\":{\"colorbar\":{\"outlinewidth\":0,\"ticks\":\"\"}},\"type\":\"parcoords\"}],\"pie\":[{\"automargin\":true,\"type\":\"pie\"}],\"scatter3d\":[{\"line\":{\"colorbar\":{\"outlinewidth\":0,\"ticks\":\"\"}},\"marker\":{\"colorbar\":{\"outlinewidth\":0,\"ticks\":\"\"}},\"type\":\"scatter3d\"}],\"scattercarpet\":[{\"marker\":{\"colorbar\":{\"outlinewidth\":0,\"ticks\":\"\"}},\"type\":\"scattercarpet\"}],\"scattergeo\":[{\"marker\":{\"colorbar\":{\"outlinewidth\":0,\"ticks\":\"\"}},\"type\":\"scattergeo\"}],\"scattergl\":[{\"marker\":{\"colorbar\":{\"outlinewidth\":0,\"ticks\":\"\"}},\"type\":\"scattergl\"}],\"scattermapbox\":[{\"marker\":{\"colorbar\":{\"outlinewidth\":0,\"ticks\":\"\"}},\"type\":\"scattermapbox\"}],\"scatterpolargl\":[{\"marker\":{\"colorbar\":{\"outlinewidth\":0,\"ticks\":\"\"}},\"type\":\"scatterpolargl\"}],\"scatterpolar\":[{\"marker\":{\"colorbar\":{\"outlinewidth\":0,\"ticks\":\"\"}},\"type\":\"scatterpolar\"}],\"scatter\":[{\"fillpattern\":{\"fillmode\":\"overlay\",\"size\":10,\"solidity\":0.2},\"type\":\"scatter\"}],\"scatterternary\":[{\"marker\":{\"colorbar\":{\"outlinewidth\":0,\"ticks\":\"\"}},\"type\":\"scatterternary\"}],\"surface\":[{\"colorbar\":{\"outlinewidth\":0,\"ticks\":\"\"},\"colorscale\":[[0.0,\"#0d0887\"],[0.1111111111111111,\"#46039f\"],[0.2222222222222222,\"#7201a8\"],[0.3333333333333333,\"#9c179e\"],[0.4444444444444444,\"#bd3786\"],[0.5555555555555556,\"#d8576b\"],[0.6666666666666666,\"#ed7953\"],[0.7777777777777778,\"#fb9f3a\"],[0.8888888888888888,\"#fdca26\"],[1.0,\"#f0f921\"]],\"type\":\"surface\"}],\"table\":[{\"cells\":{\"fill\":{\"color\":\"#EBF0F8\"},\"line\":{\"color\":\"white\"}},\"header\":{\"fill\":{\"color\":\"#C8D4E3\"},\"line\":{\"color\":\"white\"}},\"type\":\"table\"}]},\"layout\":{\"annotationdefaults\":{\"arrowcolor\":\"#2a3f5f\",\"arrowhead\":0,\"arrowwidth\":1},\"autotypenumbers\":\"strict\",\"coloraxis\":{\"colorbar\":{\"outlinewidth\":0,\"ticks\":\"\"}},\"colorscale\":{\"diverging\":[[0,\"#8e0152\"],[0.1,\"#c51b7d\"],[0.2,\"#de77ae\"],[0.3,\"#f1b6da\"],[0.4,\"#fde0ef\"],[0.5,\"#f7f7f7\"],[0.6,\"#e6f5d0\"],[0.7,\"#b8e186\"],[0.8,\"#7fbc41\"],[0.9,\"#4d9221\"],[1,\"#276419\"]],\"sequential\":[[0.0,\"#0d0887\"],[0.1111111111111111,\"#46039f\"],[0.2222222222222222,\"#7201a8\"],[0.3333333333333333,\"#9c179e\"],[0.4444444444444444,\"#bd3786\"],[0.5555555555555556,\"#d8576b\"],[0.6666666666666666,\"#ed7953\"],[0.7777777777777778,\"#fb9f3a\"],[0.8888888888888888,\"#fdca26\"],[1.0,\"#f0f921\"]],\"sequentialminus\":[[0.0,\"#0d0887\"],[0.1111111111111111,\"#46039f\"],[0.2222222222222222,\"#7201a8\"],[0.3333333333333333,\"#9c179e\"],[0.4444444444444444,\"#bd3786\"],[0.5555555555555556,\"#d8576b\"],[0.6666666666666666,\"#ed7953\"],[0.7777777777777778,\"#fb9f3a\"],[0.8888888888888888,\"#fdca26\"],[1.0,\"#f0f921\"]]},\"colorway\":[\"#636efa\",\"#EF553B\",\"#00cc96\",\"#ab63fa\",\"#FFA15A\",\"#19d3f3\",\"#FF6692\",\"#B6E880\",\"#FF97FF\",\"#FECB52\"],\"font\":{\"color\":\"#2a3f5f\"},\"geo\":{\"bgcolor\":\"white\",\"lakecolor\":\"white\",\"landcolor\":\"#E5ECF6\",\"showlakes\":true,\"showland\":true,\"subunitcolor\":\"white\"},\"hoverlabel\":{\"align\":\"left\"},\"hovermode\":\"closest\",\"mapbox\":{\"style\":\"light\"},\"paper_bgcolor\":\"white\",\"plot_bgcolor\":\"#E5ECF6\",\"polar\":{\"angularaxis\":{\"gridcolor\":\"white\",\"linecolor\":\"white\",\"ticks\":\"\"},\"bgcolor\":\"#E5ECF6\",\"radialaxis\":{\"gridcolor\":\"white\",\"linecolor\":\"white\",\"ticks\":\"\"}},\"scene\":{\"xaxis\":{\"backgroundcolor\":\"#E5ECF6\",\"gridcolor\":\"white\",\"gridwidth\":2,\"linecolor\":\"white\",\"showbackground\":true,\"ticks\":\"\",\"zerolinecolor\":\"white\"},\"yaxis\":{\"backgroundcolor\":\"#E5ECF6\",\"gridcolor\":\"white\",\"gridwidth\":2,\"linecolor\":\"white\",\"showbackground\":true,\"ticks\":\"\",\"zerolinecolor\":\"white\"},\"zaxis\":{\"backgroundcolor\":\"#E5ECF6\",\"gridcolor\":\"white\",\"gridwidth\":2,\"linecolor\":\"white\",\"showbackground\":true,\"ticks\":\"\",\"zerolinecolor\":\"white\"}},\"shapedefaults\":{\"line\":{\"color\":\"#2a3f5f\"}},\"ternary\":{\"aaxis\":{\"gridcolor\":\"white\",\"linecolor\":\"white\",\"ticks\":\"\"},\"baxis\":{\"gridcolor\":\"white\",\"linecolor\":\"white\",\"ticks\":\"\"},\"bgcolor\":\"#E5ECF6\",\"caxis\":{\"gridcolor\":\"white\",\"linecolor\":\"white\",\"ticks\":\"\"}},\"title\":{\"x\":0.05},\"xaxis\":{\"automargin\":true,\"gridcolor\":\"white\",\"linecolor\":\"white\",\"ticks\":\"\",\"title\":{\"standoff\":15},\"zerolinecolor\":\"white\",\"zerolinewidth\":2},\"yaxis\":{\"automargin\":true,\"gridcolor\":\"white\",\"linecolor\":\"white\",\"ticks\":\"\",\"title\":{\"standoff\":15},\"zerolinecolor\":\"white\",\"zerolinewidth\":2}}},\"title\":{\"font\":{\"color\":\"#4D5663\"}},\"xaxis\":{\"gridcolor\":\"#E1E5ED\",\"showgrid\":true,\"tickfont\":{\"color\":\"#4D5663\"},\"title\":{\"font\":{\"color\":\"#4D5663\"},\"text\":\"\"},\"zerolinecolor\":\"#E1E5ED\"},\"yaxis\":{\"domain\":[0.3,1],\"gridcolor\":\"#E1E5ED\",\"showgrid\":true,\"tickfont\":{\"color\":\"#4D5663\"},\"title\":{\"font\":{\"color\":\"#4D5663\"},\"text\":\"\"},\"zerolinecolor\":\"#E1E5ED\"},\"yaxis2\":{\"domain\":[0,0.25],\"gridcolor\":\"#E1E5ED\",\"showgrid\":true,\"tickfont\":{\"color\":\"#4D5663\"},\"title\":{\"font\":{\"color\":\"#4D5663\"},\"text\":\"Spread\"},\"zerolinecolor\":\"#E1E5ED\"},\"xaxis2\":{\"anchor\":\"y2\",\"gridcolor\":\"#E1E5ED\",\"showgrid\":true,\"showticklabels\":false,\"tickfont\":{\"color\":\"#4D5663\"},\"title\":{\"font\":{\"color\":\"#4D5663\"},\"text\":\"\"},\"zerolinecolor\":\"#E1E5ED\"}},                        {\"showLink\": true, \"linkText\": \"Export to plot.ly\", \"plotlyServerURL\": \"https://plot.ly\", \"responsive\": true}                    ).then(function(){\n",
       "                            \n",
       "var gd = document.getElementById('9a79800c-ee00-43e9-aaa6-e5f11bd5a003');\n",
       "var x = new MutationObserver(function (mutations, observer) {{\n",
       "        var display = window.getComputedStyle(gd).display;\n",
       "        if (!display || display === 'none') {{\n",
       "            console.log([gd, 'removed!']);\n",
       "            Plotly.purge(gd);\n",
       "            observer.disconnect();\n",
       "        }}\n",
       "}});\n",
       "\n",
       "// Listen for the removal of the full notebook cells\n",
       "var notebookContainer = gd.closest('#notebook-container');\n",
       "if (notebookContainer) {{\n",
       "    x.observe(notebookContainer, {childList: true});\n",
       "}}\n",
       "\n",
       "// Listen for the clearing of the current output cell\n",
       "var outputEl = gd.closest('.output');\n",
       "if (outputEl) {{\n",
       "    x.observe(outputEl, {childList: true});\n",
       "}}\n",
       "\n",
       "                        })                };                });            </script>        </div>"
      ]
     },
     "metadata": {},
     "output_type": "display_data"
    }
   ],
   "source": [
    "df[['A','B']].iplot(kind='spread')"
   ]
  },
  {
   "cell_type": "code",
   "execution_count": 18,
   "id": "60dfd28a",
   "metadata": {},
   "outputs": [
    {
     "data": {
      "application/vnd.plotly.v1+json": {
       "config": {
        "linkText": "Export to plot.ly",
        "plotlyServerURL": "https://plot.ly",
        "showLink": true
       },
       "data": [
        {
         "marker": {
          "color": [
           "rgb(255, 153, 51)",
           "rgb(55, 128, 191)",
           "rgb(50, 171, 96)",
           "rgb(128, 0, 128)",
           "rgb(219, 64, 82)",
           "rgb(0, 128, 128)",
           "rgb(255, 255, 51)",
           "rgb(128, 128, 0)",
           "rgb(251, 128, 114)",
           "rgb(128, 177, 211)"
          ],
          "line": {
           "width": 1.3
          },
          "size": [
           70,
           64,
           73,
           32,
           73,
           67,
           84,
           39,
           42,
           50,
           42,
           45,
           60,
           86,
           46,
           41,
           64,
           38,
           42,
           31,
           44,
           57,
           58,
           53,
           62,
           59,
           61,
           42,
           26,
           62,
           111,
           60,
           62,
           64,
           59,
           52,
           65,
           73,
           54,
           77,
           55,
           67,
           37,
           50,
           87,
           39,
           50,
           83,
           31,
           75,
           56,
           60,
           74,
           65,
           75,
           69,
           72,
           70,
           62,
           69,
           39,
           44,
           45,
           42,
           99,
           82,
           55,
           66,
           86,
           88,
           65,
           89,
           71,
           68,
           32,
           44,
           50,
           35,
           67,
           46,
           64,
           96,
           71,
           86,
           100,
           34,
           37,
           12,
           50,
           60,
           106,
           41,
           63,
           90,
           46,
           84,
           61,
           63,
           41,
           43
          ],
          "symbol": "circle"
         },
         "mode": "markers",
         "text": "",
         "type": "scatter",
         "x": [
          -2.0174340036144773,
          -0.2982885142503483,
          -1.1060293398574745,
          0.47380475815506795,
          -0.24287698992496476,
          -1.045477160349408,
          -1.372571283799824,
          -0.3708294395405194,
          0.9296363357643138,
          1.07539941494939,
          -0.48860213936065083,
          0.38462255572792503,
          0.7316391969826207,
          0.7056188238429781,
          0.2272970973273527,
          1.8973560994467056,
          -0.08814752662473867,
          2.853141208328112,
          1.2606744935729695,
          -0.19541503270171148,
          0.33884117599906605,
          -1.1823804269843323,
          -0.35818646632962386,
          -2.1896961807689883,
          0.4666612471354609,
          -0.7195595896962929,
          -1.1022342579753548,
          -0.4260373014973277,
          -2.03985628441693,
          -0.3922675703969572,
          -0.6393197479525362,
          1.5070292397184635,
          1.5427741705080689,
          -0.36811080320580436,
          0.7907860507217243,
          -1.053702929569162,
          -1.5682815210700976,
          -1.6899427972979684,
          -1.1577153310653898,
          1.201798767024122,
          0.8139499812781749,
          1.3396399626499909,
          -1.592116875741009,
          -2.108999149725003,
          -2.414121441285468,
          -0.7517992912296336,
          -0.8814484376662446,
          -0.5636621543249383,
          -0.4462016022135572,
          0.7602270527510662,
          -0.7635312669667638,
          -0.6085341535104014,
          -0.6979145854428934,
          0.15270352881680677,
          1.5861404333668392,
          0.4413194748417777,
          1.1464296196046662,
          1.6860599838450785,
          -0.12920519816606357,
          -1.3166186524763952,
          0.9527123887974857,
          -0.0913130377024795,
          -1.2562092533438431,
          -1.4599948208670317,
          0.739600143985171,
          1.928522171471015,
          0.8604873721118755,
          0.5101454894231326,
          -2.0412817448349676,
          2.350622092982859,
          -1.2098096285286442,
          0.8793405535384373,
          -0.4127130171433395,
          -0.9510357246689423,
          -0.5833425292515129,
          2.874170539129894,
          0.6754534679651084,
          -0.43269432307745,
          0.6824671403544771,
          -0.13956406111167266,
          -1.2539511811434925,
          -0.9095655979851323,
          0.5131425131930456,
          0.2107268324859046,
          0.9793829033520347,
          0.05590920125049553,
          -1.4825906211123527,
          -0.7655955658418381,
          -0.9062150294307344,
          0.2713814492008699,
          0.4987962451208206,
          0.8724854785969101,
          0.04820180158157174,
          0.22901793866168949,
          -0.04264546586916472,
          0.9163280370522656,
          -0.010155961485463392,
          -0.9553359158941854,
          -1.0351518431931523,
          0.9471899254826112
         ],
         "y": [
          -0.4336314864429535,
          1.350667166094158,
          0.43598099590054984,
          0.6468173769915163,
          0.06159247962019822,
          -0.4718946721964237,
          -0.34718152548498954,
          -0.1352352933676623,
          1.772522237853382,
          1.7932238808421221,
          0.09877771175165724,
          0.0712299488526947,
          -0.04660842611345164,
          -0.695628193641317,
          -0.34583211824660304,
          -0.08662984595296318,
          0.13793492787300085,
          -1.4318303754898554,
          0.5873881902834827,
          -2.07325722004215,
          -1.1770281940962717,
          1.594615146278771,
          1.2776187822533687,
          0.47109117398969547,
          -1.246668759906434,
          -2.2847460611624406,
          -1.5826105556937269,
          -0.811269322851608,
          0.8799894577447486,
          0.06415012993297987,
          -0.7434972189767668,
          -0.9792866546376444,
          -0.933045546820726,
          -2.3622901656782385,
          0.5563119426536198,
          -0.19041549241342892,
          -0.16132840248423033,
          -0.7338722979209311,
          -0.3692777802581269,
          0.1305385223626437,
          -0.6402633231215187,
          1.7724921834749274,
          -1.2351448749489011,
          -0.5873659331128189,
          -0.16728748136882754,
          -0.5602703504822134,
          1.859960185240759,
          0.33740918515772517,
          0.918671162681654,
          -0.07101790267351826,
          0.015441559320083337,
          -1.2031017684144387,
          -0.3272063740238242,
          -0.0001744963858636876,
          0.3103076161179847,
          -0.199759215966244,
          0.05146279997451216,
          -0.18622636023755218,
          -0.8103233465962649,
          -1.9275858643732076,
          -1.1374975146503152,
          -0.41521538622971427,
          0.22719945800922248,
          0.36402755465690834,
          -0.4526090911338168,
          0.26012367576625334,
          -0.22989912094729592,
          0.5285726171745472,
          0.9953458174439949,
          -0.9857712026396995,
          0.5776873616421779,
          -0.7424122876243162,
          -0.5518931892115001,
          -1.5518844904682583,
          0.24099518333260084,
          0.6836961998302244,
          -1.2015323169619367,
          1.2802609934383806,
          1.438639661407647,
          -0.5851440701662644,
          0.4603398760447712,
          0.49137796754968743,
          -0.33395034853426303,
          -1.3694143337900495,
          0.7004766841926477,
          -0.02776944111056883,
          -1.7961432780630182,
          -0.04463245773876887,
          2.1231966212717746,
          -1.192852440208722,
          -1.0474681178086687,
          -0.7387115531544551,
          -0.5637437308033575,
          0.9980152157280872,
          1.5098614226254685,
          -0.5438344156823638,
          0.15937737582332315,
          -1.2195955310150488,
          1.0856990332088072,
          -0.542434730291181
         ]
        }
       ],
       "layout": {
        "legend": {
         "bgcolor": "#F5F6F9",
         "font": {
          "color": "#4D5663"
         }
        },
        "paper_bgcolor": "#F5F6F9",
        "plot_bgcolor": "#F5F6F9",
        "template": {
         "data": {
          "bar": [
           {
            "error_x": {
             "color": "#2a3f5f"
            },
            "error_y": {
             "color": "#2a3f5f"
            },
            "marker": {
             "line": {
              "color": "#E5ECF6",
              "width": 0.5
             },
             "pattern": {
              "fillmode": "overlay",
              "size": 10,
              "solidity": 0.2
             }
            },
            "type": "bar"
           }
          ],
          "barpolar": [
           {
            "marker": {
             "line": {
              "color": "#E5ECF6",
              "width": 0.5
             },
             "pattern": {
              "fillmode": "overlay",
              "size": 10,
              "solidity": 0.2
             }
            },
            "type": "barpolar"
           }
          ],
          "carpet": [
           {
            "aaxis": {
             "endlinecolor": "#2a3f5f",
             "gridcolor": "white",
             "linecolor": "white",
             "minorgridcolor": "white",
             "startlinecolor": "#2a3f5f"
            },
            "baxis": {
             "endlinecolor": "#2a3f5f",
             "gridcolor": "white",
             "linecolor": "white",
             "minorgridcolor": "white",
             "startlinecolor": "#2a3f5f"
            },
            "type": "carpet"
           }
          ],
          "choropleth": [
           {
            "colorbar": {
             "outlinewidth": 0,
             "ticks": ""
            },
            "type": "choropleth"
           }
          ],
          "contour": [
           {
            "colorbar": {
             "outlinewidth": 0,
             "ticks": ""
            },
            "colorscale": [
             [
              0,
              "#0d0887"
             ],
             [
              0.1111111111111111,
              "#46039f"
             ],
             [
              0.2222222222222222,
              "#7201a8"
             ],
             [
              0.3333333333333333,
              "#9c179e"
             ],
             [
              0.4444444444444444,
              "#bd3786"
             ],
             [
              0.5555555555555556,
              "#d8576b"
             ],
             [
              0.6666666666666666,
              "#ed7953"
             ],
             [
              0.7777777777777778,
              "#fb9f3a"
             ],
             [
              0.8888888888888888,
              "#fdca26"
             ],
             [
              1,
              "#f0f921"
             ]
            ],
            "type": "contour"
           }
          ],
          "contourcarpet": [
           {
            "colorbar": {
             "outlinewidth": 0,
             "ticks": ""
            },
            "type": "contourcarpet"
           }
          ],
          "heatmap": [
           {
            "colorbar": {
             "outlinewidth": 0,
             "ticks": ""
            },
            "colorscale": [
             [
              0,
              "#0d0887"
             ],
             [
              0.1111111111111111,
              "#46039f"
             ],
             [
              0.2222222222222222,
              "#7201a8"
             ],
             [
              0.3333333333333333,
              "#9c179e"
             ],
             [
              0.4444444444444444,
              "#bd3786"
             ],
             [
              0.5555555555555556,
              "#d8576b"
             ],
             [
              0.6666666666666666,
              "#ed7953"
             ],
             [
              0.7777777777777778,
              "#fb9f3a"
             ],
             [
              0.8888888888888888,
              "#fdca26"
             ],
             [
              1,
              "#f0f921"
             ]
            ],
            "type": "heatmap"
           }
          ],
          "heatmapgl": [
           {
            "colorbar": {
             "outlinewidth": 0,
             "ticks": ""
            },
            "colorscale": [
             [
              0,
              "#0d0887"
             ],
             [
              0.1111111111111111,
              "#46039f"
             ],
             [
              0.2222222222222222,
              "#7201a8"
             ],
             [
              0.3333333333333333,
              "#9c179e"
             ],
             [
              0.4444444444444444,
              "#bd3786"
             ],
             [
              0.5555555555555556,
              "#d8576b"
             ],
             [
              0.6666666666666666,
              "#ed7953"
             ],
             [
              0.7777777777777778,
              "#fb9f3a"
             ],
             [
              0.8888888888888888,
              "#fdca26"
             ],
             [
              1,
              "#f0f921"
             ]
            ],
            "type": "heatmapgl"
           }
          ],
          "histogram": [
           {
            "marker": {
             "pattern": {
              "fillmode": "overlay",
              "size": 10,
              "solidity": 0.2
             }
            },
            "type": "histogram"
           }
          ],
          "histogram2d": [
           {
            "colorbar": {
             "outlinewidth": 0,
             "ticks": ""
            },
            "colorscale": [
             [
              0,
              "#0d0887"
             ],
             [
              0.1111111111111111,
              "#46039f"
             ],
             [
              0.2222222222222222,
              "#7201a8"
             ],
             [
              0.3333333333333333,
              "#9c179e"
             ],
             [
              0.4444444444444444,
              "#bd3786"
             ],
             [
              0.5555555555555556,
              "#d8576b"
             ],
             [
              0.6666666666666666,
              "#ed7953"
             ],
             [
              0.7777777777777778,
              "#fb9f3a"
             ],
             [
              0.8888888888888888,
              "#fdca26"
             ],
             [
              1,
              "#f0f921"
             ]
            ],
            "type": "histogram2d"
           }
          ],
          "histogram2dcontour": [
           {
            "colorbar": {
             "outlinewidth": 0,
             "ticks": ""
            },
            "colorscale": [
             [
              0,
              "#0d0887"
             ],
             [
              0.1111111111111111,
              "#46039f"
             ],
             [
              0.2222222222222222,
              "#7201a8"
             ],
             [
              0.3333333333333333,
              "#9c179e"
             ],
             [
              0.4444444444444444,
              "#bd3786"
             ],
             [
              0.5555555555555556,
              "#d8576b"
             ],
             [
              0.6666666666666666,
              "#ed7953"
             ],
             [
              0.7777777777777778,
              "#fb9f3a"
             ],
             [
              0.8888888888888888,
              "#fdca26"
             ],
             [
              1,
              "#f0f921"
             ]
            ],
            "type": "histogram2dcontour"
           }
          ],
          "mesh3d": [
           {
            "colorbar": {
             "outlinewidth": 0,
             "ticks": ""
            },
            "type": "mesh3d"
           }
          ],
          "parcoords": [
           {
            "line": {
             "colorbar": {
              "outlinewidth": 0,
              "ticks": ""
             }
            },
            "type": "parcoords"
           }
          ],
          "pie": [
           {
            "automargin": true,
            "type": "pie"
           }
          ],
          "scatter": [
           {
            "fillpattern": {
             "fillmode": "overlay",
             "size": 10,
             "solidity": 0.2
            },
            "type": "scatter"
           }
          ],
          "scatter3d": [
           {
            "line": {
             "colorbar": {
              "outlinewidth": 0,
              "ticks": ""
             }
            },
            "marker": {
             "colorbar": {
              "outlinewidth": 0,
              "ticks": ""
             }
            },
            "type": "scatter3d"
           }
          ],
          "scattercarpet": [
           {
            "marker": {
             "colorbar": {
              "outlinewidth": 0,
              "ticks": ""
             }
            },
            "type": "scattercarpet"
           }
          ],
          "scattergeo": [
           {
            "marker": {
             "colorbar": {
              "outlinewidth": 0,
              "ticks": ""
             }
            },
            "type": "scattergeo"
           }
          ],
          "scattergl": [
           {
            "marker": {
             "colorbar": {
              "outlinewidth": 0,
              "ticks": ""
             }
            },
            "type": "scattergl"
           }
          ],
          "scattermapbox": [
           {
            "marker": {
             "colorbar": {
              "outlinewidth": 0,
              "ticks": ""
             }
            },
            "type": "scattermapbox"
           }
          ],
          "scatterpolar": [
           {
            "marker": {
             "colorbar": {
              "outlinewidth": 0,
              "ticks": ""
             }
            },
            "type": "scatterpolar"
           }
          ],
          "scatterpolargl": [
           {
            "marker": {
             "colorbar": {
              "outlinewidth": 0,
              "ticks": ""
             }
            },
            "type": "scatterpolargl"
           }
          ],
          "scatterternary": [
           {
            "marker": {
             "colorbar": {
              "outlinewidth": 0,
              "ticks": ""
             }
            },
            "type": "scatterternary"
           }
          ],
          "surface": [
           {
            "colorbar": {
             "outlinewidth": 0,
             "ticks": ""
            },
            "colorscale": [
             [
              0,
              "#0d0887"
             ],
             [
              0.1111111111111111,
              "#46039f"
             ],
             [
              0.2222222222222222,
              "#7201a8"
             ],
             [
              0.3333333333333333,
              "#9c179e"
             ],
             [
              0.4444444444444444,
              "#bd3786"
             ],
             [
              0.5555555555555556,
              "#d8576b"
             ],
             [
              0.6666666666666666,
              "#ed7953"
             ],
             [
              0.7777777777777778,
              "#fb9f3a"
             ],
             [
              0.8888888888888888,
              "#fdca26"
             ],
             [
              1,
              "#f0f921"
             ]
            ],
            "type": "surface"
           }
          ],
          "table": [
           {
            "cells": {
             "fill": {
              "color": "#EBF0F8"
             },
             "line": {
              "color": "white"
             }
            },
            "header": {
             "fill": {
              "color": "#C8D4E3"
             },
             "line": {
              "color": "white"
             }
            },
            "type": "table"
           }
          ]
         },
         "layout": {
          "annotationdefaults": {
           "arrowcolor": "#2a3f5f",
           "arrowhead": 0,
           "arrowwidth": 1
          },
          "autotypenumbers": "strict",
          "coloraxis": {
           "colorbar": {
            "outlinewidth": 0,
            "ticks": ""
           }
          },
          "colorscale": {
           "diverging": [
            [
             0,
             "#8e0152"
            ],
            [
             0.1,
             "#c51b7d"
            ],
            [
             0.2,
             "#de77ae"
            ],
            [
             0.3,
             "#f1b6da"
            ],
            [
             0.4,
             "#fde0ef"
            ],
            [
             0.5,
             "#f7f7f7"
            ],
            [
             0.6,
             "#e6f5d0"
            ],
            [
             0.7,
             "#b8e186"
            ],
            [
             0.8,
             "#7fbc41"
            ],
            [
             0.9,
             "#4d9221"
            ],
            [
             1,
             "#276419"
            ]
           ],
           "sequential": [
            [
             0,
             "#0d0887"
            ],
            [
             0.1111111111111111,
             "#46039f"
            ],
            [
             0.2222222222222222,
             "#7201a8"
            ],
            [
             0.3333333333333333,
             "#9c179e"
            ],
            [
             0.4444444444444444,
             "#bd3786"
            ],
            [
             0.5555555555555556,
             "#d8576b"
            ],
            [
             0.6666666666666666,
             "#ed7953"
            ],
            [
             0.7777777777777778,
             "#fb9f3a"
            ],
            [
             0.8888888888888888,
             "#fdca26"
            ],
            [
             1,
             "#f0f921"
            ]
           ],
           "sequentialminus": [
            [
             0,
             "#0d0887"
            ],
            [
             0.1111111111111111,
             "#46039f"
            ],
            [
             0.2222222222222222,
             "#7201a8"
            ],
            [
             0.3333333333333333,
             "#9c179e"
            ],
            [
             0.4444444444444444,
             "#bd3786"
            ],
            [
             0.5555555555555556,
             "#d8576b"
            ],
            [
             0.6666666666666666,
             "#ed7953"
            ],
            [
             0.7777777777777778,
             "#fb9f3a"
            ],
            [
             0.8888888888888888,
             "#fdca26"
            ],
            [
             1,
             "#f0f921"
            ]
           ]
          },
          "colorway": [
           "#636efa",
           "#EF553B",
           "#00cc96",
           "#ab63fa",
           "#FFA15A",
           "#19d3f3",
           "#FF6692",
           "#B6E880",
           "#FF97FF",
           "#FECB52"
          ],
          "font": {
           "color": "#2a3f5f"
          },
          "geo": {
           "bgcolor": "white",
           "lakecolor": "white",
           "landcolor": "#E5ECF6",
           "showlakes": true,
           "showland": true,
           "subunitcolor": "white"
          },
          "hoverlabel": {
           "align": "left"
          },
          "hovermode": "closest",
          "mapbox": {
           "style": "light"
          },
          "paper_bgcolor": "white",
          "plot_bgcolor": "#E5ECF6",
          "polar": {
           "angularaxis": {
            "gridcolor": "white",
            "linecolor": "white",
            "ticks": ""
           },
           "bgcolor": "#E5ECF6",
           "radialaxis": {
            "gridcolor": "white",
            "linecolor": "white",
            "ticks": ""
           }
          },
          "scene": {
           "xaxis": {
            "backgroundcolor": "#E5ECF6",
            "gridcolor": "white",
            "gridwidth": 2,
            "linecolor": "white",
            "showbackground": true,
            "ticks": "",
            "zerolinecolor": "white"
           },
           "yaxis": {
            "backgroundcolor": "#E5ECF6",
            "gridcolor": "white",
            "gridwidth": 2,
            "linecolor": "white",
            "showbackground": true,
            "ticks": "",
            "zerolinecolor": "white"
           },
           "zaxis": {
            "backgroundcolor": "#E5ECF6",
            "gridcolor": "white",
            "gridwidth": 2,
            "linecolor": "white",
            "showbackground": true,
            "ticks": "",
            "zerolinecolor": "white"
           }
          },
          "shapedefaults": {
           "line": {
            "color": "#2a3f5f"
           }
          },
          "ternary": {
           "aaxis": {
            "gridcolor": "white",
            "linecolor": "white",
            "ticks": ""
           },
           "baxis": {
            "gridcolor": "white",
            "linecolor": "white",
            "ticks": ""
           },
           "bgcolor": "#E5ECF6",
           "caxis": {
            "gridcolor": "white",
            "linecolor": "white",
            "ticks": ""
           }
          },
          "title": {
           "x": 0.05
          },
          "xaxis": {
           "automargin": true,
           "gridcolor": "white",
           "linecolor": "white",
           "ticks": "",
           "title": {
            "standoff": 15
           },
           "zerolinecolor": "white",
           "zerolinewidth": 2
          },
          "yaxis": {
           "automargin": true,
           "gridcolor": "white",
           "linecolor": "white",
           "ticks": "",
           "title": {
            "standoff": 15
           },
           "zerolinecolor": "white",
           "zerolinewidth": 2
          }
         }
        },
        "title": {
         "font": {
          "color": "#4D5663"
         }
        },
        "xaxis": {
         "gridcolor": "#E1E5ED",
         "showgrid": true,
         "tickfont": {
          "color": "#4D5663"
         },
         "title": {
          "font": {
           "color": "#4D5663"
          },
          "text": ""
         },
         "zerolinecolor": "#E1E5ED"
        },
        "yaxis": {
         "gridcolor": "#E1E5ED",
         "showgrid": true,
         "tickfont": {
          "color": "#4D5663"
         },
         "title": {
          "font": {
           "color": "#4D5663"
          },
          "text": ""
         },
         "zerolinecolor": "#E1E5ED"
        }
       }
      },
      "text/html": [
       "<div>                            <div id=\"d214a956-07f4-4c3a-b5df-9f07c97cc50f\" class=\"plotly-graph-div\" style=\"height:525px; width:100%;\"></div>            <script type=\"text/javascript\">                require([\"plotly\"], function(Plotly) {                    window.PLOTLYENV=window.PLOTLYENV || {};\n",
       "                    window.PLOTLYENV.BASE_URL='https://plot.ly';                                    if (document.getElementById(\"d214a956-07f4-4c3a-b5df-9f07c97cc50f\")) {                    Plotly.newPlot(                        \"d214a956-07f4-4c3a-b5df-9f07c97cc50f\",                        [{\"marker\":{\"color\":[\"rgb(255, 153, 51)\",\"rgb(55, 128, 191)\",\"rgb(50, 171, 96)\",\"rgb(128, 0, 128)\",\"rgb(219, 64, 82)\",\"rgb(0, 128, 128)\",\"rgb(255, 255, 51)\",\"rgb(128, 128, 0)\",\"rgb(251, 128, 114)\",\"rgb(128, 177, 211)\"],\"line\":{\"width\":1.3},\"size\":[70,64,73,32,73,67,84,39,42,50,42,45,60,86,46,41,64,38,42,31,44,57,58,53,62,59,61,42,26,62,111,60,62,64,59,52,65,73,54,77,55,67,37,50,87,39,50,83,31,75,56,60,74,65,75,69,72,70,62,69,39,44,45,42,99,82,55,66,86,88,65,89,71,68,32,44,50,35,67,46,64,96,71,86,100,34,37,12,50,60,106,41,63,90,46,84,61,63,41,43],\"symbol\":\"circle\"},\"mode\":\"markers\",\"text\":\"\",\"x\":[-2.0174340036144773,-0.2982885142503483,-1.1060293398574745,0.47380475815506795,-0.24287698992496476,-1.045477160349408,-1.372571283799824,-0.3708294395405194,0.9296363357643138,1.07539941494939,-0.48860213936065083,0.38462255572792503,0.7316391969826207,0.7056188238429781,0.2272970973273527,1.8973560994467056,-0.08814752662473867,2.853141208328112,1.2606744935729695,-0.19541503270171148,0.33884117599906605,-1.1823804269843323,-0.35818646632962386,-2.1896961807689883,0.4666612471354609,-0.7195595896962929,-1.1022342579753548,-0.4260373014973277,-2.03985628441693,-0.3922675703969572,-0.6393197479525362,1.5070292397184635,1.5427741705080689,-0.36811080320580436,0.7907860507217243,-1.053702929569162,-1.5682815210700976,-1.6899427972979684,-1.1577153310653898,1.201798767024122,0.8139499812781749,1.3396399626499909,-1.592116875741009,-2.108999149725003,-2.414121441285468,-0.7517992912296336,-0.8814484376662446,-0.5636621543249383,-0.4462016022135572,0.7602270527510662,-0.7635312669667638,-0.6085341535104014,-0.6979145854428934,0.15270352881680677,1.5861404333668392,0.4413194748417777,1.1464296196046662,1.6860599838450785,-0.12920519816606357,-1.3166186524763952,0.9527123887974857,-0.0913130377024795,-1.2562092533438431,-1.4599948208670317,0.739600143985171,1.928522171471015,0.8604873721118755,0.5101454894231326,-2.0412817448349676,2.350622092982859,-1.2098096285286442,0.8793405535384373,-0.4127130171433395,-0.9510357246689423,-0.5833425292515129,2.874170539129894,0.6754534679651084,-0.43269432307745,0.6824671403544771,-0.13956406111167266,-1.2539511811434925,-0.9095655979851323,0.5131425131930456,0.2107268324859046,0.9793829033520347,0.05590920125049553,-1.4825906211123527,-0.7655955658418381,-0.9062150294307344,0.2713814492008699,0.4987962451208206,0.8724854785969101,0.04820180158157174,0.22901793866168949,-0.04264546586916472,0.9163280370522656,-0.010155961485463392,-0.9553359158941854,-1.0351518431931523,0.9471899254826112],\"y\":[-0.4336314864429535,1.350667166094158,0.43598099590054984,0.6468173769915163,0.06159247962019822,-0.4718946721964237,-0.34718152548498954,-0.1352352933676623,1.772522237853382,1.7932238808421221,0.09877771175165724,0.0712299488526947,-0.04660842611345164,-0.695628193641317,-0.34583211824660304,-0.08662984595296318,0.13793492787300085,-1.4318303754898554,0.5873881902834827,-2.07325722004215,-1.1770281940962717,1.594615146278771,1.2776187822533687,0.47109117398969547,-1.246668759906434,-2.2847460611624406,-1.5826105556937269,-0.811269322851608,0.8799894577447486,0.06415012993297987,-0.7434972189767668,-0.9792866546376444,-0.933045546820726,-2.3622901656782385,0.5563119426536198,-0.19041549241342892,-0.16132840248423033,-0.7338722979209311,-0.3692777802581269,0.1305385223626437,-0.6402633231215187,1.7724921834749274,-1.2351448749489011,-0.5873659331128189,-0.16728748136882754,-0.5602703504822134,1.859960185240759,0.33740918515772517,0.918671162681654,-0.07101790267351826,0.015441559320083337,-1.2031017684144387,-0.3272063740238242,-0.0001744963858636876,0.3103076161179847,-0.199759215966244,0.05146279997451216,-0.18622636023755218,-0.8103233465962649,-1.9275858643732076,-1.1374975146503152,-0.41521538622971427,0.22719945800922248,0.36402755465690834,-0.4526090911338168,0.26012367576625334,-0.22989912094729592,0.5285726171745472,0.9953458174439949,-0.9857712026396995,0.5776873616421779,-0.7424122876243162,-0.5518931892115001,-1.5518844904682583,0.24099518333260084,0.6836961998302244,-1.2015323169619367,1.2802609934383806,1.438639661407647,-0.5851440701662644,0.4603398760447712,0.49137796754968743,-0.33395034853426303,-1.3694143337900495,0.7004766841926477,-0.02776944111056883,-1.7961432780630182,-0.04463245773876887,2.1231966212717746,-1.192852440208722,-1.0474681178086687,-0.7387115531544551,-0.5637437308033575,0.9980152157280872,1.5098614226254685,-0.5438344156823638,0.15937737582332315,-1.2195955310150488,1.0856990332088072,-0.542434730291181],\"type\":\"scatter\"}],                        {\"legend\":{\"bgcolor\":\"#F5F6F9\",\"font\":{\"color\":\"#4D5663\"}},\"paper_bgcolor\":\"#F5F6F9\",\"plot_bgcolor\":\"#F5F6F9\",\"template\":{\"data\":{\"barpolar\":[{\"marker\":{\"line\":{\"color\":\"#E5ECF6\",\"width\":0.5},\"pattern\":{\"fillmode\":\"overlay\",\"size\":10,\"solidity\":0.2}},\"type\":\"barpolar\"}],\"bar\":[{\"error_x\":{\"color\":\"#2a3f5f\"},\"error_y\":{\"color\":\"#2a3f5f\"},\"marker\":{\"line\":{\"color\":\"#E5ECF6\",\"width\":0.5},\"pattern\":{\"fillmode\":\"overlay\",\"size\":10,\"solidity\":0.2}},\"type\":\"bar\"}],\"carpet\":[{\"aaxis\":{\"endlinecolor\":\"#2a3f5f\",\"gridcolor\":\"white\",\"linecolor\":\"white\",\"minorgridcolor\":\"white\",\"startlinecolor\":\"#2a3f5f\"},\"baxis\":{\"endlinecolor\":\"#2a3f5f\",\"gridcolor\":\"white\",\"linecolor\":\"white\",\"minorgridcolor\":\"white\",\"startlinecolor\":\"#2a3f5f\"},\"type\":\"carpet\"}],\"choropleth\":[{\"colorbar\":{\"outlinewidth\":0,\"ticks\":\"\"},\"type\":\"choropleth\"}],\"contourcarpet\":[{\"colorbar\":{\"outlinewidth\":0,\"ticks\":\"\"},\"type\":\"contourcarpet\"}],\"contour\":[{\"colorbar\":{\"outlinewidth\":0,\"ticks\":\"\"},\"colorscale\":[[0.0,\"#0d0887\"],[0.1111111111111111,\"#46039f\"],[0.2222222222222222,\"#7201a8\"],[0.3333333333333333,\"#9c179e\"],[0.4444444444444444,\"#bd3786\"],[0.5555555555555556,\"#d8576b\"],[0.6666666666666666,\"#ed7953\"],[0.7777777777777778,\"#fb9f3a\"],[0.8888888888888888,\"#fdca26\"],[1.0,\"#f0f921\"]],\"type\":\"contour\"}],\"heatmapgl\":[{\"colorbar\":{\"outlinewidth\":0,\"ticks\":\"\"},\"colorscale\":[[0.0,\"#0d0887\"],[0.1111111111111111,\"#46039f\"],[0.2222222222222222,\"#7201a8\"],[0.3333333333333333,\"#9c179e\"],[0.4444444444444444,\"#bd3786\"],[0.5555555555555556,\"#d8576b\"],[0.6666666666666666,\"#ed7953\"],[0.7777777777777778,\"#fb9f3a\"],[0.8888888888888888,\"#fdca26\"],[1.0,\"#f0f921\"]],\"type\":\"heatmapgl\"}],\"heatmap\":[{\"colorbar\":{\"outlinewidth\":0,\"ticks\":\"\"},\"colorscale\":[[0.0,\"#0d0887\"],[0.1111111111111111,\"#46039f\"],[0.2222222222222222,\"#7201a8\"],[0.3333333333333333,\"#9c179e\"],[0.4444444444444444,\"#bd3786\"],[0.5555555555555556,\"#d8576b\"],[0.6666666666666666,\"#ed7953\"],[0.7777777777777778,\"#fb9f3a\"],[0.8888888888888888,\"#fdca26\"],[1.0,\"#f0f921\"]],\"type\":\"heatmap\"}],\"histogram2dcontour\":[{\"colorbar\":{\"outlinewidth\":0,\"ticks\":\"\"},\"colorscale\":[[0.0,\"#0d0887\"],[0.1111111111111111,\"#46039f\"],[0.2222222222222222,\"#7201a8\"],[0.3333333333333333,\"#9c179e\"],[0.4444444444444444,\"#bd3786\"],[0.5555555555555556,\"#d8576b\"],[0.6666666666666666,\"#ed7953\"],[0.7777777777777778,\"#fb9f3a\"],[0.8888888888888888,\"#fdca26\"],[1.0,\"#f0f921\"]],\"type\":\"histogram2dcontour\"}],\"histogram2d\":[{\"colorbar\":{\"outlinewidth\":0,\"ticks\":\"\"},\"colorscale\":[[0.0,\"#0d0887\"],[0.1111111111111111,\"#46039f\"],[0.2222222222222222,\"#7201a8\"],[0.3333333333333333,\"#9c179e\"],[0.4444444444444444,\"#bd3786\"],[0.5555555555555556,\"#d8576b\"],[0.6666666666666666,\"#ed7953\"],[0.7777777777777778,\"#fb9f3a\"],[0.8888888888888888,\"#fdca26\"],[1.0,\"#f0f921\"]],\"type\":\"histogram2d\"}],\"histogram\":[{\"marker\":{\"pattern\":{\"fillmode\":\"overlay\",\"size\":10,\"solidity\":0.2}},\"type\":\"histogram\"}],\"mesh3d\":[{\"colorbar\":{\"outlinewidth\":0,\"ticks\":\"\"},\"type\":\"mesh3d\"}],\"parcoords\":[{\"line\":{\"colorbar\":{\"outlinewidth\":0,\"ticks\":\"\"}},\"type\":\"parcoords\"}],\"pie\":[{\"automargin\":true,\"type\":\"pie\"}],\"scatter3d\":[{\"line\":{\"colorbar\":{\"outlinewidth\":0,\"ticks\":\"\"}},\"marker\":{\"colorbar\":{\"outlinewidth\":0,\"ticks\":\"\"}},\"type\":\"scatter3d\"}],\"scattercarpet\":[{\"marker\":{\"colorbar\":{\"outlinewidth\":0,\"ticks\":\"\"}},\"type\":\"scattercarpet\"}],\"scattergeo\":[{\"marker\":{\"colorbar\":{\"outlinewidth\":0,\"ticks\":\"\"}},\"type\":\"scattergeo\"}],\"scattergl\":[{\"marker\":{\"colorbar\":{\"outlinewidth\":0,\"ticks\":\"\"}},\"type\":\"scattergl\"}],\"scattermapbox\":[{\"marker\":{\"colorbar\":{\"outlinewidth\":0,\"ticks\":\"\"}},\"type\":\"scattermapbox\"}],\"scatterpolargl\":[{\"marker\":{\"colorbar\":{\"outlinewidth\":0,\"ticks\":\"\"}},\"type\":\"scatterpolargl\"}],\"scatterpolar\":[{\"marker\":{\"colorbar\":{\"outlinewidth\":0,\"ticks\":\"\"}},\"type\":\"scatterpolar\"}],\"scatter\":[{\"fillpattern\":{\"fillmode\":\"overlay\",\"size\":10,\"solidity\":0.2},\"type\":\"scatter\"}],\"scatterternary\":[{\"marker\":{\"colorbar\":{\"outlinewidth\":0,\"ticks\":\"\"}},\"type\":\"scatterternary\"}],\"surface\":[{\"colorbar\":{\"outlinewidth\":0,\"ticks\":\"\"},\"colorscale\":[[0.0,\"#0d0887\"],[0.1111111111111111,\"#46039f\"],[0.2222222222222222,\"#7201a8\"],[0.3333333333333333,\"#9c179e\"],[0.4444444444444444,\"#bd3786\"],[0.5555555555555556,\"#d8576b\"],[0.6666666666666666,\"#ed7953\"],[0.7777777777777778,\"#fb9f3a\"],[0.8888888888888888,\"#fdca26\"],[1.0,\"#f0f921\"]],\"type\":\"surface\"}],\"table\":[{\"cells\":{\"fill\":{\"color\":\"#EBF0F8\"},\"line\":{\"color\":\"white\"}},\"header\":{\"fill\":{\"color\":\"#C8D4E3\"},\"line\":{\"color\":\"white\"}},\"type\":\"table\"}]},\"layout\":{\"annotationdefaults\":{\"arrowcolor\":\"#2a3f5f\",\"arrowhead\":0,\"arrowwidth\":1},\"autotypenumbers\":\"strict\",\"coloraxis\":{\"colorbar\":{\"outlinewidth\":0,\"ticks\":\"\"}},\"colorscale\":{\"diverging\":[[0,\"#8e0152\"],[0.1,\"#c51b7d\"],[0.2,\"#de77ae\"],[0.3,\"#f1b6da\"],[0.4,\"#fde0ef\"],[0.5,\"#f7f7f7\"],[0.6,\"#e6f5d0\"],[0.7,\"#b8e186\"],[0.8,\"#7fbc41\"],[0.9,\"#4d9221\"],[1,\"#276419\"]],\"sequential\":[[0.0,\"#0d0887\"],[0.1111111111111111,\"#46039f\"],[0.2222222222222222,\"#7201a8\"],[0.3333333333333333,\"#9c179e\"],[0.4444444444444444,\"#bd3786\"],[0.5555555555555556,\"#d8576b\"],[0.6666666666666666,\"#ed7953\"],[0.7777777777777778,\"#fb9f3a\"],[0.8888888888888888,\"#fdca26\"],[1.0,\"#f0f921\"]],\"sequentialminus\":[[0.0,\"#0d0887\"],[0.1111111111111111,\"#46039f\"],[0.2222222222222222,\"#7201a8\"],[0.3333333333333333,\"#9c179e\"],[0.4444444444444444,\"#bd3786\"],[0.5555555555555556,\"#d8576b\"],[0.6666666666666666,\"#ed7953\"],[0.7777777777777778,\"#fb9f3a\"],[0.8888888888888888,\"#fdca26\"],[1.0,\"#f0f921\"]]},\"colorway\":[\"#636efa\",\"#EF553B\",\"#00cc96\",\"#ab63fa\",\"#FFA15A\",\"#19d3f3\",\"#FF6692\",\"#B6E880\",\"#FF97FF\",\"#FECB52\"],\"font\":{\"color\":\"#2a3f5f\"},\"geo\":{\"bgcolor\":\"white\",\"lakecolor\":\"white\",\"landcolor\":\"#E5ECF6\",\"showlakes\":true,\"showland\":true,\"subunitcolor\":\"white\"},\"hoverlabel\":{\"align\":\"left\"},\"hovermode\":\"closest\",\"mapbox\":{\"style\":\"light\"},\"paper_bgcolor\":\"white\",\"plot_bgcolor\":\"#E5ECF6\",\"polar\":{\"angularaxis\":{\"gridcolor\":\"white\",\"linecolor\":\"white\",\"ticks\":\"\"},\"bgcolor\":\"#E5ECF6\",\"radialaxis\":{\"gridcolor\":\"white\",\"linecolor\":\"white\",\"ticks\":\"\"}},\"scene\":{\"xaxis\":{\"backgroundcolor\":\"#E5ECF6\",\"gridcolor\":\"white\",\"gridwidth\":2,\"linecolor\":\"white\",\"showbackground\":true,\"ticks\":\"\",\"zerolinecolor\":\"white\"},\"yaxis\":{\"backgroundcolor\":\"#E5ECF6\",\"gridcolor\":\"white\",\"gridwidth\":2,\"linecolor\":\"white\",\"showbackground\":true,\"ticks\":\"\",\"zerolinecolor\":\"white\"},\"zaxis\":{\"backgroundcolor\":\"#E5ECF6\",\"gridcolor\":\"white\",\"gridwidth\":2,\"linecolor\":\"white\",\"showbackground\":true,\"ticks\":\"\",\"zerolinecolor\":\"white\"}},\"shapedefaults\":{\"line\":{\"color\":\"#2a3f5f\"}},\"ternary\":{\"aaxis\":{\"gridcolor\":\"white\",\"linecolor\":\"white\",\"ticks\":\"\"},\"baxis\":{\"gridcolor\":\"white\",\"linecolor\":\"white\",\"ticks\":\"\"},\"bgcolor\":\"#E5ECF6\",\"caxis\":{\"gridcolor\":\"white\",\"linecolor\":\"white\",\"ticks\":\"\"}},\"title\":{\"x\":0.05},\"xaxis\":{\"automargin\":true,\"gridcolor\":\"white\",\"linecolor\":\"white\",\"ticks\":\"\",\"title\":{\"standoff\":15},\"zerolinecolor\":\"white\",\"zerolinewidth\":2},\"yaxis\":{\"automargin\":true,\"gridcolor\":\"white\",\"linecolor\":\"white\",\"ticks\":\"\",\"title\":{\"standoff\":15},\"zerolinecolor\":\"white\",\"zerolinewidth\":2}}},\"title\":{\"font\":{\"color\":\"#4D5663\"}},\"xaxis\":{\"gridcolor\":\"#E1E5ED\",\"showgrid\":true,\"tickfont\":{\"color\":\"#4D5663\"},\"title\":{\"font\":{\"color\":\"#4D5663\"},\"text\":\"\"},\"zerolinecolor\":\"#E1E5ED\"},\"yaxis\":{\"gridcolor\":\"#E1E5ED\",\"showgrid\":true,\"tickfont\":{\"color\":\"#4D5663\"},\"title\":{\"font\":{\"color\":\"#4D5663\"},\"text\":\"\"},\"zerolinecolor\":\"#E1E5ED\"}},                        {\"showLink\": true, \"linkText\": \"Export to plot.ly\", \"plotlyServerURL\": \"https://plot.ly\", \"responsive\": true}                    ).then(function(){\n",
       "                            \n",
       "var gd = document.getElementById('d214a956-07f4-4c3a-b5df-9f07c97cc50f');\n",
       "var x = new MutationObserver(function (mutations, observer) {{\n",
       "        var display = window.getComputedStyle(gd).display;\n",
       "        if (!display || display === 'none') {{\n",
       "            console.log([gd, 'removed!']);\n",
       "            Plotly.purge(gd);\n",
       "            observer.disconnect();\n",
       "        }}\n",
       "}});\n",
       "\n",
       "// Listen for the removal of the full notebook cells\n",
       "var notebookContainer = gd.closest('#notebook-container');\n",
       "if (notebookContainer) {{\n",
       "    x.observe(notebookContainer, {childList: true});\n",
       "}}\n",
       "\n",
       "// Listen for the clearing of the current output cell\n",
       "var outputEl = gd.closest('.output');\n",
       "if (outputEl) {{\n",
       "    x.observe(outputEl, {childList: true});\n",
       "}}\n",
       "\n",
       "                        })                };                });            </script>        </div>"
      ]
     },
     "metadata": {},
     "output_type": "display_data"
    }
   ],
   "source": [
    "#Bubble plot\n",
    "df.iplot(kind='bubble',x='A',y='B',size='C')"
   ]
  },
  {
   "cell_type": "code",
   "execution_count": 20,
   "id": "0c1f868f",
   "metadata": {},
   "outputs": [
    {
     "data": {
      "application/vnd.plotly.v1+json": {
       "config": {
        "linkText": "Export to plot.ly",
        "plotlyServerURL": "https://plot.ly",
        "showLink": true
       },
       "data": [
        {
         "histfunc": "count",
         "histnorm": "",
         "marker": {
          "color": "rgba(255, 153, 51, 1.0)",
          "line": {
           "color": "#4D5663",
           "width": 1.3
          }
         },
         "name": "A",
         "nbinsx": 10,
         "opacity": 0.8,
         "orientation": "v",
         "type": "histogram",
         "x": [
          -2.0174340036144773,
          -0.2982885142503483,
          -1.1060293398574745,
          0.47380475815506795,
          -0.24287698992496476,
          -1.045477160349408,
          -1.372571283799824,
          -0.3708294395405194,
          0.9296363357643138,
          1.07539941494939,
          -0.48860213936065083,
          0.38462255572792503,
          0.7316391969826207,
          0.7056188238429781,
          0.2272970973273527,
          1.8973560994467056,
          -0.08814752662473867,
          2.853141208328112,
          1.2606744935729695,
          -0.19541503270171148,
          0.33884117599906605,
          -1.1823804269843323,
          -0.35818646632962386,
          -2.1896961807689883,
          0.4666612471354609,
          -0.7195595896962929,
          -1.1022342579753548,
          -0.4260373014973277,
          -2.03985628441693,
          -0.3922675703969572,
          -0.6393197479525362,
          1.5070292397184635,
          1.5427741705080689,
          -0.36811080320580436,
          0.7907860507217243,
          -1.053702929569162,
          -1.5682815210700976,
          -1.6899427972979684,
          -1.1577153310653898,
          1.201798767024122,
          0.8139499812781749,
          1.3396399626499909,
          -1.592116875741009,
          -2.108999149725003,
          -2.414121441285468,
          -0.7517992912296336,
          -0.8814484376662446,
          -0.5636621543249383,
          -0.4462016022135572,
          0.7602270527510662,
          -0.7635312669667638,
          -0.6085341535104014,
          -0.6979145854428934,
          0.15270352881680677,
          1.5861404333668392,
          0.4413194748417777,
          1.1464296196046662,
          1.6860599838450785,
          -0.12920519816606357,
          -1.3166186524763952,
          0.9527123887974857,
          -0.0913130377024795,
          -1.2562092533438431,
          -1.4599948208670317,
          0.739600143985171,
          1.928522171471015,
          0.8604873721118755,
          0.5101454894231326,
          -2.0412817448349676,
          2.350622092982859,
          -1.2098096285286442,
          0.8793405535384373,
          -0.4127130171433395,
          -0.9510357246689423,
          -0.5833425292515129,
          2.874170539129894,
          0.6754534679651084,
          -0.43269432307745,
          0.6824671403544771,
          -0.13956406111167266,
          -1.2539511811434925,
          -0.9095655979851323,
          0.5131425131930456,
          0.2107268324859046,
          0.9793829033520347,
          0.05590920125049553,
          -1.4825906211123527,
          -0.7655955658418381,
          -0.9062150294307344,
          0.2713814492008699,
          0.4987962451208206,
          0.8724854785969101,
          0.04820180158157174,
          0.22901793866168949,
          -0.04264546586916472,
          0.9163280370522656,
          -0.010155961485463392,
          -0.9553359158941854,
          -1.0351518431931523,
          0.9471899254826112
         ],
         "xaxis": "x",
         "yaxis": "y"
        },
        {
         "line": {
          "color": "rgba(128, 128, 128, 1.0)",
          "dash": "solid",
          "shape": "linear",
          "width": 1.3
         },
         "marker": {
          "size": 2,
          "symbol": "circle"
         },
         "mode": "markers",
         "name": "A",
         "text": "",
         "type": "scatter",
         "x": [
          -0.4336314864429535,
          1.350667166094158,
          0.43598099590054984,
          0.6468173769915163,
          0.06159247962019822,
          -0.4718946721964237,
          -0.34718152548498954,
          -0.1352352933676623,
          1.772522237853382,
          1.7932238808421221,
          0.09877771175165724,
          0.0712299488526947,
          -0.04660842611345164,
          -0.695628193641317,
          -0.34583211824660304,
          -0.08662984595296318,
          0.13793492787300085,
          -1.4318303754898554,
          0.5873881902834827,
          -2.07325722004215,
          -1.1770281940962717,
          1.594615146278771,
          1.2776187822533687,
          0.47109117398969547,
          -1.246668759906434,
          -2.2847460611624406,
          -1.5826105556937269,
          -0.811269322851608,
          0.8799894577447486,
          0.06415012993297987,
          -0.7434972189767668,
          -0.9792866546376444,
          -0.933045546820726,
          -2.3622901656782385,
          0.5563119426536198,
          -0.19041549241342892,
          -0.16132840248423033,
          -0.7338722979209311,
          -0.3692777802581269,
          0.1305385223626437,
          -0.6402633231215187,
          1.7724921834749274,
          -1.2351448749489011,
          -0.5873659331128189,
          -0.16728748136882754,
          -0.5602703504822134,
          1.859960185240759,
          0.33740918515772517,
          0.918671162681654,
          -0.07101790267351826,
          0.015441559320083337,
          -1.2031017684144387,
          -0.3272063740238242,
          -0.0001744963858636876,
          0.3103076161179847,
          -0.199759215966244,
          0.05146279997451216,
          -0.18622636023755218,
          -0.8103233465962649,
          -1.9275858643732076,
          -1.1374975146503152,
          -0.41521538622971427,
          0.22719945800922248,
          0.36402755465690834,
          -0.4526090911338168,
          0.26012367576625334,
          -0.22989912094729592,
          0.5285726171745472,
          0.9953458174439949,
          -0.9857712026396995,
          0.5776873616421779,
          -0.7424122876243162,
          -0.5518931892115001,
          -1.5518844904682583,
          0.24099518333260084,
          0.6836961998302244,
          -1.2015323169619367,
          1.2802609934383806,
          1.438639661407647,
          -0.5851440701662644,
          0.4603398760447712,
          0.49137796754968743,
          -0.33395034853426303,
          -1.3694143337900495,
          0.7004766841926477,
          -0.02776944111056883,
          -1.7961432780630182,
          -0.04463245773876887,
          2.1231966212717746,
          -1.192852440208722,
          -1.0474681178086687,
          -0.7387115531544551,
          -0.5637437308033575,
          0.9980152157280872,
          1.5098614226254685,
          -0.5438344156823638,
          0.15937737582332315,
          -1.2195955310150488,
          1.0856990332088072,
          -0.542434730291181
         ],
         "xaxis": "x2",
         "y": [
          -2.0174340036144773,
          -0.2982885142503483,
          -1.1060293398574745,
          0.47380475815506795,
          -0.24287698992496476,
          -1.045477160349408,
          -1.372571283799824,
          -0.3708294395405194,
          0.9296363357643138,
          1.07539941494939,
          -0.48860213936065083,
          0.38462255572792503,
          0.7316391969826207,
          0.7056188238429781,
          0.2272970973273527,
          1.8973560994467056,
          -0.08814752662473867,
          2.853141208328112,
          1.2606744935729695,
          -0.19541503270171148,
          0.33884117599906605,
          -1.1823804269843323,
          -0.35818646632962386,
          -2.1896961807689883,
          0.4666612471354609,
          -0.7195595896962929,
          -1.1022342579753548,
          -0.4260373014973277,
          -2.03985628441693,
          -0.3922675703969572,
          -0.6393197479525362,
          1.5070292397184635,
          1.5427741705080689,
          -0.36811080320580436,
          0.7907860507217243,
          -1.053702929569162,
          -1.5682815210700976,
          -1.6899427972979684,
          -1.1577153310653898,
          1.201798767024122,
          0.8139499812781749,
          1.3396399626499909,
          -1.592116875741009,
          -2.108999149725003,
          -2.414121441285468,
          -0.7517992912296336,
          -0.8814484376662446,
          -0.5636621543249383,
          -0.4462016022135572,
          0.7602270527510662,
          -0.7635312669667638,
          -0.6085341535104014,
          -0.6979145854428934,
          0.15270352881680677,
          1.5861404333668392,
          0.4413194748417777,
          1.1464296196046662,
          1.6860599838450785,
          -0.12920519816606357,
          -1.3166186524763952,
          0.9527123887974857,
          -0.0913130377024795,
          -1.2562092533438431,
          -1.4599948208670317,
          0.739600143985171,
          1.928522171471015,
          0.8604873721118755,
          0.5101454894231326,
          -2.0412817448349676,
          2.350622092982859,
          -1.2098096285286442,
          0.8793405535384373,
          -0.4127130171433395,
          -0.9510357246689423,
          -0.5833425292515129,
          2.874170539129894,
          0.6754534679651084,
          -0.43269432307745,
          0.6824671403544771,
          -0.13956406111167266,
          -1.2539511811434925,
          -0.9095655979851323,
          0.5131425131930456,
          0.2107268324859046,
          0.9793829033520347,
          0.05590920125049553,
          -1.4825906211123527,
          -0.7655955658418381,
          -0.9062150294307344,
          0.2713814492008699,
          0.4987962451208206,
          0.8724854785969101,
          0.04820180158157174,
          0.22901793866168949,
          -0.04264546586916472,
          0.9163280370522656,
          -0.010155961485463392,
          -0.9553359158941854,
          -1.0351518431931523,
          0.9471899254826112
         ],
         "yaxis": "y2"
        },
        {
         "line": {
          "color": "rgba(128, 128, 128, 1.0)",
          "dash": "solid",
          "shape": "linear",
          "width": 1.3
         },
         "marker": {
          "size": 2,
          "symbol": "circle"
         },
         "mode": "markers",
         "name": "A",
         "text": "",
         "type": "scatter",
         "x": [
          0.5199922630907495,
          0.1830355270282763,
          0.7338807037118276,
          -1.728545257297151,
          0.7168022743874345,
          0.3343533448736096,
          1.367568784461105,
          -1.3231460252968592,
          -1.1749318802696305,
          -0.6481630365252634,
          -1.1420800226206975,
          -0.9615142362127238,
          -0.0452134271995858,
          1.4659734891639267,
          -0.9045681334699083,
          -1.1910542220933276,
          0.1837325385010415,
          -1.411109124645375,
          -1.136955351461367,
          -1.8347047274835042,
          -1.022155266979853,
          -0.2544273155503784,
          -0.21822601111445641,
          -0.5036600573084827,
          0.046035202553452136,
          -0.1496112217772252,
          -0.028209682763141536,
          -1.142726266593265,
          -2.0960811888623643,
          0.05053876236196913,
          3.0272968829495124,
          -0.06278096687767033,
          0.018552679633553757,
          0.1539366907347957,
          -0.134862543914076,
          -0.5373177369861782,
          0.21806512288273258,
          0.6808733116465462,
          -0.4597391591651445,
          0.9714359016000198,
          -0.34594030850288865,
          0.3359585191357947,
          -1.434357536288188,
          -0.6454390647001046,
          1.534720131130264,
          -1.331103768060012,
          -0.6687366119939376,
          1.304139576727922,
          -1.8132712606461807,
          0.8503059053334987,
          -0.2981495600111228,
          -0.060369774916276694,
          0.7494397256888057,
          0.22786020381595087,
          0.8111852375948235,
          0.45557169646498424,
          0.6509407911744212,
          0.535837548999383,
          0.058653266158075444,
          0.47259502040126566,
          -1.3380608588971012,
          -1.0214834676430626,
          -0.9998203108618948,
          -1.149023019762514,
          2.2523743166374843,
          1.2555027389653908,
          -0.3726643016479303,
          0.31203124203188326,
          1.4888712219329372,
          1.6134635549541745,
          0.21745550905515545,
          1.6471701788707174,
          0.6116557938467,
          0.416422488935641,
          -1.7584717424175733,
          -1.0074430159686674,
          -0.6759265033821549,
          -1.5798853727489461,
          0.37208733583223114,
          -0.9219938544398251,
          0.14012672286259512,
          2.1114977132624637,
          0.6156311912399872,
          1.479888066297275,
          2.3304288496837566,
          -1.6327940805130743,
          -1.440517700603669,
          -2.992625300505153,
          -0.649441935687668,
          -0.059502032629949374,
          2.702329118857002,
          -1.2033079124282626,
          0.0884111127119533,
          1.7455290528280512,
          -0.9142233168065622,
          1.380725105275451,
          0.007963640867254478,
          0.12313920273107667,
          -1.230546884593442,
          -1.095688282805866
         ],
         "xaxis": "x3",
         "y": [
          -2.0174340036144773,
          -0.2982885142503483,
          -1.1060293398574745,
          0.47380475815506795,
          -0.24287698992496476,
          -1.045477160349408,
          -1.372571283799824,
          -0.3708294395405194,
          0.9296363357643138,
          1.07539941494939,
          -0.48860213936065083,
          0.38462255572792503,
          0.7316391969826207,
          0.7056188238429781,
          0.2272970973273527,
          1.8973560994467056,
          -0.08814752662473867,
          2.853141208328112,
          1.2606744935729695,
          -0.19541503270171148,
          0.33884117599906605,
          -1.1823804269843323,
          -0.35818646632962386,
          -2.1896961807689883,
          0.4666612471354609,
          -0.7195595896962929,
          -1.1022342579753548,
          -0.4260373014973277,
          -2.03985628441693,
          -0.3922675703969572,
          -0.6393197479525362,
          1.5070292397184635,
          1.5427741705080689,
          -0.36811080320580436,
          0.7907860507217243,
          -1.053702929569162,
          -1.5682815210700976,
          -1.6899427972979684,
          -1.1577153310653898,
          1.201798767024122,
          0.8139499812781749,
          1.3396399626499909,
          -1.592116875741009,
          -2.108999149725003,
          -2.414121441285468,
          -0.7517992912296336,
          -0.8814484376662446,
          -0.5636621543249383,
          -0.4462016022135572,
          0.7602270527510662,
          -0.7635312669667638,
          -0.6085341535104014,
          -0.6979145854428934,
          0.15270352881680677,
          1.5861404333668392,
          0.4413194748417777,
          1.1464296196046662,
          1.6860599838450785,
          -0.12920519816606357,
          -1.3166186524763952,
          0.9527123887974857,
          -0.0913130377024795,
          -1.2562092533438431,
          -1.4599948208670317,
          0.739600143985171,
          1.928522171471015,
          0.8604873721118755,
          0.5101454894231326,
          -2.0412817448349676,
          2.350622092982859,
          -1.2098096285286442,
          0.8793405535384373,
          -0.4127130171433395,
          -0.9510357246689423,
          -0.5833425292515129,
          2.874170539129894,
          0.6754534679651084,
          -0.43269432307745,
          0.6824671403544771,
          -0.13956406111167266,
          -1.2539511811434925,
          -0.9095655979851323,
          0.5131425131930456,
          0.2107268324859046,
          0.9793829033520347,
          0.05590920125049553,
          -1.4825906211123527,
          -0.7655955658418381,
          -0.9062150294307344,
          0.2713814492008699,
          0.4987962451208206,
          0.8724854785969101,
          0.04820180158157174,
          0.22901793866168949,
          -0.04264546586916472,
          0.9163280370522656,
          -0.010155961485463392,
          -0.9553359158941854,
          -1.0351518431931523,
          0.9471899254826112
         ],
         "yaxis": "y3"
        },
        {
         "line": {
          "color": "rgba(128, 128, 128, 1.0)",
          "dash": "solid",
          "shape": "linear",
          "width": 1.3
         },
         "marker": {
          "size": 2,
          "symbol": "circle"
         },
         "mode": "markers",
         "name": "A",
         "text": "",
         "type": "scatter",
         "x": [
          0.3087242940760484,
          -2.892920710993179,
          0.29755680760134023,
          -0.4537198687874928,
          0.4091428918535154,
          -0.5911585079707464,
          1.2837558388647552,
          -1.196327628603834,
          1.0089734959700447,
          -0.1578035162705574,
          -0.4986640630344464,
          0.8252364225226217,
          1.6861646626147668,
          0.23963447426904727,
          0.7641530316879358,
          -0.7689390705139726,
          1.1584556024203354,
          1.1360891736184686,
          0.009474268435621989,
          -0.06682386148577549,
          0.555353509483653,
          0.7333168575641268,
          2.098244820081542,
          -0.7944249098537421,
          1.4387239479593779,
          -0.4515833646085028,
          -1.9352520647895797,
          -2.049553912885645,
          -1.2540247569355452,
          0.5430137866149007,
          -0.31587328134723097,
          1.6814974048406721,
          -0.4206398739726167,
          0.5992298023947051,
          -1.0120089497419704,
          0.2997543410309787,
          1.2357180906828362,
          0.41511198706310415,
          1.811713654798116,
          -0.3253060298179894,
          -0.9289560752940552,
          0.1608610104861535,
          -1.1924543747439782,
          0.5513907525949097,
          0.20551765048712142,
          1.3756968022467897,
          -0.7072715173974367,
          1.5185818130429565,
          -0.4693010381594284,
          -0.809846037988664,
          -0.09078018476417095,
          0.012713682354540578,
          0.2610668997971832,
          -2.7022175291637685,
          0.4012364716342121,
          -0.7728524233638323,
          -1.8511381406173124,
          0.651157946355602,
          0.22335055826153472,
          -0.41596698883675215,
          1.7294039411584106,
          -0.995924445608059,
          0.7882627429142489,
          1.2863779417748025,
          0.32966840365706734,
          0.5777746168164748,
          -1.0398609590570271,
          0.5711772366363843,
          -0.468436443040119,
          1.1284915691417101,
          0.2904286363391695,
          -0.5636855185258286,
          0.3736149212568452,
          -0.33682320469314836,
          0.9000438298583542,
          0.3801388237787824,
          0.7183473441906332,
          -0.9784587147441306,
          -0.40902944086318,
          0.13100305557281391,
          -0.34492148658442934,
          -0.002431809166469376,
          -0.5059304901101217,
          0.9653255252501207,
          -0.8914391155462259,
          0.3860940733112024,
          0.3834056512334579,
          0.33545236667254646,
          0.7660612229706408,
          -0.16928256065585887,
          0.3847440085949903,
          0.44520055820183524,
          0.6969785207430066,
          0.3054280947354089,
          -1.1541863065851823,
          0.9808009213359595,
          -0.2608278857259081,
          0.04611588232013331,
          0.9278158849994778,
          0.43077265880049
         ],
         "xaxis": "x4",
         "y": [
          -2.0174340036144773,
          -0.2982885142503483,
          -1.1060293398574745,
          0.47380475815506795,
          -0.24287698992496476,
          -1.045477160349408,
          -1.372571283799824,
          -0.3708294395405194,
          0.9296363357643138,
          1.07539941494939,
          -0.48860213936065083,
          0.38462255572792503,
          0.7316391969826207,
          0.7056188238429781,
          0.2272970973273527,
          1.8973560994467056,
          -0.08814752662473867,
          2.853141208328112,
          1.2606744935729695,
          -0.19541503270171148,
          0.33884117599906605,
          -1.1823804269843323,
          -0.35818646632962386,
          -2.1896961807689883,
          0.4666612471354609,
          -0.7195595896962929,
          -1.1022342579753548,
          -0.4260373014973277,
          -2.03985628441693,
          -0.3922675703969572,
          -0.6393197479525362,
          1.5070292397184635,
          1.5427741705080689,
          -0.36811080320580436,
          0.7907860507217243,
          -1.053702929569162,
          -1.5682815210700976,
          -1.6899427972979684,
          -1.1577153310653898,
          1.201798767024122,
          0.8139499812781749,
          1.3396399626499909,
          -1.592116875741009,
          -2.108999149725003,
          -2.414121441285468,
          -0.7517992912296336,
          -0.8814484376662446,
          -0.5636621543249383,
          -0.4462016022135572,
          0.7602270527510662,
          -0.7635312669667638,
          -0.6085341535104014,
          -0.6979145854428934,
          0.15270352881680677,
          1.5861404333668392,
          0.4413194748417777,
          1.1464296196046662,
          1.6860599838450785,
          -0.12920519816606357,
          -1.3166186524763952,
          0.9527123887974857,
          -0.0913130377024795,
          -1.2562092533438431,
          -1.4599948208670317,
          0.739600143985171,
          1.928522171471015,
          0.8604873721118755,
          0.5101454894231326,
          -2.0412817448349676,
          2.350622092982859,
          -1.2098096285286442,
          0.8793405535384373,
          -0.4127130171433395,
          -0.9510357246689423,
          -0.5833425292515129,
          2.874170539129894,
          0.6754534679651084,
          -0.43269432307745,
          0.6824671403544771,
          -0.13956406111167266,
          -1.2539511811434925,
          -0.9095655979851323,
          0.5131425131930456,
          0.2107268324859046,
          0.9793829033520347,
          0.05590920125049553,
          -1.4825906211123527,
          -0.7655955658418381,
          -0.9062150294307344,
          0.2713814492008699,
          0.4987962451208206,
          0.8724854785969101,
          0.04820180158157174,
          0.22901793866168949,
          -0.04264546586916472,
          0.9163280370522656,
          -0.010155961485463392,
          -0.9553359158941854,
          -1.0351518431931523,
          0.9471899254826112
         ],
         "yaxis": "y4"
        },
        {
         "line": {
          "color": "rgba(128, 128, 128, 1.0)",
          "dash": "solid",
          "shape": "linear",
          "width": 1.3
         },
         "marker": {
          "size": 2,
          "symbol": "circle"
         },
         "mode": "markers",
         "name": "B",
         "text": "",
         "type": "scatter",
         "x": [
          -2.0174340036144773,
          -0.2982885142503483,
          -1.1060293398574745,
          0.47380475815506795,
          -0.24287698992496476,
          -1.045477160349408,
          -1.372571283799824,
          -0.3708294395405194,
          0.9296363357643138,
          1.07539941494939,
          -0.48860213936065083,
          0.38462255572792503,
          0.7316391969826207,
          0.7056188238429781,
          0.2272970973273527,
          1.8973560994467056,
          -0.08814752662473867,
          2.853141208328112,
          1.2606744935729695,
          -0.19541503270171148,
          0.33884117599906605,
          -1.1823804269843323,
          -0.35818646632962386,
          -2.1896961807689883,
          0.4666612471354609,
          -0.7195595896962929,
          -1.1022342579753548,
          -0.4260373014973277,
          -2.03985628441693,
          -0.3922675703969572,
          -0.6393197479525362,
          1.5070292397184635,
          1.5427741705080689,
          -0.36811080320580436,
          0.7907860507217243,
          -1.053702929569162,
          -1.5682815210700976,
          -1.6899427972979684,
          -1.1577153310653898,
          1.201798767024122,
          0.8139499812781749,
          1.3396399626499909,
          -1.592116875741009,
          -2.108999149725003,
          -2.414121441285468,
          -0.7517992912296336,
          -0.8814484376662446,
          -0.5636621543249383,
          -0.4462016022135572,
          0.7602270527510662,
          -0.7635312669667638,
          -0.6085341535104014,
          -0.6979145854428934,
          0.15270352881680677,
          1.5861404333668392,
          0.4413194748417777,
          1.1464296196046662,
          1.6860599838450785,
          -0.12920519816606357,
          -1.3166186524763952,
          0.9527123887974857,
          -0.0913130377024795,
          -1.2562092533438431,
          -1.4599948208670317,
          0.739600143985171,
          1.928522171471015,
          0.8604873721118755,
          0.5101454894231326,
          -2.0412817448349676,
          2.350622092982859,
          -1.2098096285286442,
          0.8793405535384373,
          -0.4127130171433395,
          -0.9510357246689423,
          -0.5833425292515129,
          2.874170539129894,
          0.6754534679651084,
          -0.43269432307745,
          0.6824671403544771,
          -0.13956406111167266,
          -1.2539511811434925,
          -0.9095655979851323,
          0.5131425131930456,
          0.2107268324859046,
          0.9793829033520347,
          0.05590920125049553,
          -1.4825906211123527,
          -0.7655955658418381,
          -0.9062150294307344,
          0.2713814492008699,
          0.4987962451208206,
          0.8724854785969101,
          0.04820180158157174,
          0.22901793866168949,
          -0.04264546586916472,
          0.9163280370522656,
          -0.010155961485463392,
          -0.9553359158941854,
          -1.0351518431931523,
          0.9471899254826112
         ],
         "xaxis": "x5",
         "y": [
          -0.4336314864429535,
          1.350667166094158,
          0.43598099590054984,
          0.6468173769915163,
          0.06159247962019822,
          -0.4718946721964237,
          -0.34718152548498954,
          -0.1352352933676623,
          1.772522237853382,
          1.7932238808421221,
          0.09877771175165724,
          0.0712299488526947,
          -0.04660842611345164,
          -0.695628193641317,
          -0.34583211824660304,
          -0.08662984595296318,
          0.13793492787300085,
          -1.4318303754898554,
          0.5873881902834827,
          -2.07325722004215,
          -1.1770281940962717,
          1.594615146278771,
          1.2776187822533687,
          0.47109117398969547,
          -1.246668759906434,
          -2.2847460611624406,
          -1.5826105556937269,
          -0.811269322851608,
          0.8799894577447486,
          0.06415012993297987,
          -0.7434972189767668,
          -0.9792866546376444,
          -0.933045546820726,
          -2.3622901656782385,
          0.5563119426536198,
          -0.19041549241342892,
          -0.16132840248423033,
          -0.7338722979209311,
          -0.3692777802581269,
          0.1305385223626437,
          -0.6402633231215187,
          1.7724921834749274,
          -1.2351448749489011,
          -0.5873659331128189,
          -0.16728748136882754,
          -0.5602703504822134,
          1.859960185240759,
          0.33740918515772517,
          0.918671162681654,
          -0.07101790267351826,
          0.015441559320083337,
          -1.2031017684144387,
          -0.3272063740238242,
          -0.0001744963858636876,
          0.3103076161179847,
          -0.199759215966244,
          0.05146279997451216,
          -0.18622636023755218,
          -0.8103233465962649,
          -1.9275858643732076,
          -1.1374975146503152,
          -0.41521538622971427,
          0.22719945800922248,
          0.36402755465690834,
          -0.4526090911338168,
          0.26012367576625334,
          -0.22989912094729592,
          0.5285726171745472,
          0.9953458174439949,
          -0.9857712026396995,
          0.5776873616421779,
          -0.7424122876243162,
          -0.5518931892115001,
          -1.5518844904682583,
          0.24099518333260084,
          0.6836961998302244,
          -1.2015323169619367,
          1.2802609934383806,
          1.438639661407647,
          -0.5851440701662644,
          0.4603398760447712,
          0.49137796754968743,
          -0.33395034853426303,
          -1.3694143337900495,
          0.7004766841926477,
          -0.02776944111056883,
          -1.7961432780630182,
          -0.04463245773876887,
          2.1231966212717746,
          -1.192852440208722,
          -1.0474681178086687,
          -0.7387115531544551,
          -0.5637437308033575,
          0.9980152157280872,
          1.5098614226254685,
          -0.5438344156823638,
          0.15937737582332315,
          -1.2195955310150488,
          1.0856990332088072,
          -0.542434730291181
         ],
         "yaxis": "y5"
        },
        {
         "histfunc": "count",
         "histnorm": "",
         "marker": {
          "color": "rgba(55, 128, 191, 1.0)",
          "line": {
           "color": "#4D5663",
           "width": 1.3
          }
         },
         "name": "B",
         "nbinsx": 10,
         "opacity": 0.8,
         "orientation": "v",
         "type": "histogram",
         "x": [
          -0.4336314864429535,
          1.350667166094158,
          0.43598099590054984,
          0.6468173769915163,
          0.06159247962019822,
          -0.4718946721964237,
          -0.34718152548498954,
          -0.1352352933676623,
          1.772522237853382,
          1.7932238808421221,
          0.09877771175165724,
          0.0712299488526947,
          -0.04660842611345164,
          -0.695628193641317,
          -0.34583211824660304,
          -0.08662984595296318,
          0.13793492787300085,
          -1.4318303754898554,
          0.5873881902834827,
          -2.07325722004215,
          -1.1770281940962717,
          1.594615146278771,
          1.2776187822533687,
          0.47109117398969547,
          -1.246668759906434,
          -2.2847460611624406,
          -1.5826105556937269,
          -0.811269322851608,
          0.8799894577447486,
          0.06415012993297987,
          -0.7434972189767668,
          -0.9792866546376444,
          -0.933045546820726,
          -2.3622901656782385,
          0.5563119426536198,
          -0.19041549241342892,
          -0.16132840248423033,
          -0.7338722979209311,
          -0.3692777802581269,
          0.1305385223626437,
          -0.6402633231215187,
          1.7724921834749274,
          -1.2351448749489011,
          -0.5873659331128189,
          -0.16728748136882754,
          -0.5602703504822134,
          1.859960185240759,
          0.33740918515772517,
          0.918671162681654,
          -0.07101790267351826,
          0.015441559320083337,
          -1.2031017684144387,
          -0.3272063740238242,
          -0.0001744963858636876,
          0.3103076161179847,
          -0.199759215966244,
          0.05146279997451216,
          -0.18622636023755218,
          -0.8103233465962649,
          -1.9275858643732076,
          -1.1374975146503152,
          -0.41521538622971427,
          0.22719945800922248,
          0.36402755465690834,
          -0.4526090911338168,
          0.26012367576625334,
          -0.22989912094729592,
          0.5285726171745472,
          0.9953458174439949,
          -0.9857712026396995,
          0.5776873616421779,
          -0.7424122876243162,
          -0.5518931892115001,
          -1.5518844904682583,
          0.24099518333260084,
          0.6836961998302244,
          -1.2015323169619367,
          1.2802609934383806,
          1.438639661407647,
          -0.5851440701662644,
          0.4603398760447712,
          0.49137796754968743,
          -0.33395034853426303,
          -1.3694143337900495,
          0.7004766841926477,
          -0.02776944111056883,
          -1.7961432780630182,
          -0.04463245773876887,
          2.1231966212717746,
          -1.192852440208722,
          -1.0474681178086687,
          -0.7387115531544551,
          -0.5637437308033575,
          0.9980152157280872,
          1.5098614226254685,
          -0.5438344156823638,
          0.15937737582332315,
          -1.2195955310150488,
          1.0856990332088072,
          -0.542434730291181
         ],
         "xaxis": "x6",
         "yaxis": "y6"
        },
        {
         "line": {
          "color": "rgba(128, 128, 128, 1.0)",
          "dash": "solid",
          "shape": "linear",
          "width": 1.3
         },
         "marker": {
          "size": 2,
          "symbol": "circle"
         },
         "mode": "markers",
         "name": "B",
         "text": "",
         "type": "scatter",
         "x": [
          0.5199922630907495,
          0.1830355270282763,
          0.7338807037118276,
          -1.728545257297151,
          0.7168022743874345,
          0.3343533448736096,
          1.367568784461105,
          -1.3231460252968592,
          -1.1749318802696305,
          -0.6481630365252634,
          -1.1420800226206975,
          -0.9615142362127238,
          -0.0452134271995858,
          1.4659734891639267,
          -0.9045681334699083,
          -1.1910542220933276,
          0.1837325385010415,
          -1.411109124645375,
          -1.136955351461367,
          -1.8347047274835042,
          -1.022155266979853,
          -0.2544273155503784,
          -0.21822601111445641,
          -0.5036600573084827,
          0.046035202553452136,
          -0.1496112217772252,
          -0.028209682763141536,
          -1.142726266593265,
          -2.0960811888623643,
          0.05053876236196913,
          3.0272968829495124,
          -0.06278096687767033,
          0.018552679633553757,
          0.1539366907347957,
          -0.134862543914076,
          -0.5373177369861782,
          0.21806512288273258,
          0.6808733116465462,
          -0.4597391591651445,
          0.9714359016000198,
          -0.34594030850288865,
          0.3359585191357947,
          -1.434357536288188,
          -0.6454390647001046,
          1.534720131130264,
          -1.331103768060012,
          -0.6687366119939376,
          1.304139576727922,
          -1.8132712606461807,
          0.8503059053334987,
          -0.2981495600111228,
          -0.060369774916276694,
          0.7494397256888057,
          0.22786020381595087,
          0.8111852375948235,
          0.45557169646498424,
          0.6509407911744212,
          0.535837548999383,
          0.058653266158075444,
          0.47259502040126566,
          -1.3380608588971012,
          -1.0214834676430626,
          -0.9998203108618948,
          -1.149023019762514,
          2.2523743166374843,
          1.2555027389653908,
          -0.3726643016479303,
          0.31203124203188326,
          1.4888712219329372,
          1.6134635549541745,
          0.21745550905515545,
          1.6471701788707174,
          0.6116557938467,
          0.416422488935641,
          -1.7584717424175733,
          -1.0074430159686674,
          -0.6759265033821549,
          -1.5798853727489461,
          0.37208733583223114,
          -0.9219938544398251,
          0.14012672286259512,
          2.1114977132624637,
          0.6156311912399872,
          1.479888066297275,
          2.3304288496837566,
          -1.6327940805130743,
          -1.440517700603669,
          -2.992625300505153,
          -0.649441935687668,
          -0.059502032629949374,
          2.702329118857002,
          -1.2033079124282626,
          0.0884111127119533,
          1.7455290528280512,
          -0.9142233168065622,
          1.380725105275451,
          0.007963640867254478,
          0.12313920273107667,
          -1.230546884593442,
          -1.095688282805866
         ],
         "xaxis": "x7",
         "y": [
          -0.4336314864429535,
          1.350667166094158,
          0.43598099590054984,
          0.6468173769915163,
          0.06159247962019822,
          -0.4718946721964237,
          -0.34718152548498954,
          -0.1352352933676623,
          1.772522237853382,
          1.7932238808421221,
          0.09877771175165724,
          0.0712299488526947,
          -0.04660842611345164,
          -0.695628193641317,
          -0.34583211824660304,
          -0.08662984595296318,
          0.13793492787300085,
          -1.4318303754898554,
          0.5873881902834827,
          -2.07325722004215,
          -1.1770281940962717,
          1.594615146278771,
          1.2776187822533687,
          0.47109117398969547,
          -1.246668759906434,
          -2.2847460611624406,
          -1.5826105556937269,
          -0.811269322851608,
          0.8799894577447486,
          0.06415012993297987,
          -0.7434972189767668,
          -0.9792866546376444,
          -0.933045546820726,
          -2.3622901656782385,
          0.5563119426536198,
          -0.19041549241342892,
          -0.16132840248423033,
          -0.7338722979209311,
          -0.3692777802581269,
          0.1305385223626437,
          -0.6402633231215187,
          1.7724921834749274,
          -1.2351448749489011,
          -0.5873659331128189,
          -0.16728748136882754,
          -0.5602703504822134,
          1.859960185240759,
          0.33740918515772517,
          0.918671162681654,
          -0.07101790267351826,
          0.015441559320083337,
          -1.2031017684144387,
          -0.3272063740238242,
          -0.0001744963858636876,
          0.3103076161179847,
          -0.199759215966244,
          0.05146279997451216,
          -0.18622636023755218,
          -0.8103233465962649,
          -1.9275858643732076,
          -1.1374975146503152,
          -0.41521538622971427,
          0.22719945800922248,
          0.36402755465690834,
          -0.4526090911338168,
          0.26012367576625334,
          -0.22989912094729592,
          0.5285726171745472,
          0.9953458174439949,
          -0.9857712026396995,
          0.5776873616421779,
          -0.7424122876243162,
          -0.5518931892115001,
          -1.5518844904682583,
          0.24099518333260084,
          0.6836961998302244,
          -1.2015323169619367,
          1.2802609934383806,
          1.438639661407647,
          -0.5851440701662644,
          0.4603398760447712,
          0.49137796754968743,
          -0.33395034853426303,
          -1.3694143337900495,
          0.7004766841926477,
          -0.02776944111056883,
          -1.7961432780630182,
          -0.04463245773876887,
          2.1231966212717746,
          -1.192852440208722,
          -1.0474681178086687,
          -0.7387115531544551,
          -0.5637437308033575,
          0.9980152157280872,
          1.5098614226254685,
          -0.5438344156823638,
          0.15937737582332315,
          -1.2195955310150488,
          1.0856990332088072,
          -0.542434730291181
         ],
         "yaxis": "y7"
        },
        {
         "line": {
          "color": "rgba(128, 128, 128, 1.0)",
          "dash": "solid",
          "shape": "linear",
          "width": 1.3
         },
         "marker": {
          "size": 2,
          "symbol": "circle"
         },
         "mode": "markers",
         "name": "B",
         "text": "",
         "type": "scatter",
         "x": [
          0.3087242940760484,
          -2.892920710993179,
          0.29755680760134023,
          -0.4537198687874928,
          0.4091428918535154,
          -0.5911585079707464,
          1.2837558388647552,
          -1.196327628603834,
          1.0089734959700447,
          -0.1578035162705574,
          -0.4986640630344464,
          0.8252364225226217,
          1.6861646626147668,
          0.23963447426904727,
          0.7641530316879358,
          -0.7689390705139726,
          1.1584556024203354,
          1.1360891736184686,
          0.009474268435621989,
          -0.06682386148577549,
          0.555353509483653,
          0.7333168575641268,
          2.098244820081542,
          -0.7944249098537421,
          1.4387239479593779,
          -0.4515833646085028,
          -1.9352520647895797,
          -2.049553912885645,
          -1.2540247569355452,
          0.5430137866149007,
          -0.31587328134723097,
          1.6814974048406721,
          -0.4206398739726167,
          0.5992298023947051,
          -1.0120089497419704,
          0.2997543410309787,
          1.2357180906828362,
          0.41511198706310415,
          1.811713654798116,
          -0.3253060298179894,
          -0.9289560752940552,
          0.1608610104861535,
          -1.1924543747439782,
          0.5513907525949097,
          0.20551765048712142,
          1.3756968022467897,
          -0.7072715173974367,
          1.5185818130429565,
          -0.4693010381594284,
          -0.809846037988664,
          -0.09078018476417095,
          0.012713682354540578,
          0.2610668997971832,
          -2.7022175291637685,
          0.4012364716342121,
          -0.7728524233638323,
          -1.8511381406173124,
          0.651157946355602,
          0.22335055826153472,
          -0.41596698883675215,
          1.7294039411584106,
          -0.995924445608059,
          0.7882627429142489,
          1.2863779417748025,
          0.32966840365706734,
          0.5777746168164748,
          -1.0398609590570271,
          0.5711772366363843,
          -0.468436443040119,
          1.1284915691417101,
          0.2904286363391695,
          -0.5636855185258286,
          0.3736149212568452,
          -0.33682320469314836,
          0.9000438298583542,
          0.3801388237787824,
          0.7183473441906332,
          -0.9784587147441306,
          -0.40902944086318,
          0.13100305557281391,
          -0.34492148658442934,
          -0.002431809166469376,
          -0.5059304901101217,
          0.9653255252501207,
          -0.8914391155462259,
          0.3860940733112024,
          0.3834056512334579,
          0.33545236667254646,
          0.7660612229706408,
          -0.16928256065585887,
          0.3847440085949903,
          0.44520055820183524,
          0.6969785207430066,
          0.3054280947354089,
          -1.1541863065851823,
          0.9808009213359595,
          -0.2608278857259081,
          0.04611588232013331,
          0.9278158849994778,
          0.43077265880049
         ],
         "xaxis": "x8",
         "y": [
          -0.4336314864429535,
          1.350667166094158,
          0.43598099590054984,
          0.6468173769915163,
          0.06159247962019822,
          -0.4718946721964237,
          -0.34718152548498954,
          -0.1352352933676623,
          1.772522237853382,
          1.7932238808421221,
          0.09877771175165724,
          0.0712299488526947,
          -0.04660842611345164,
          -0.695628193641317,
          -0.34583211824660304,
          -0.08662984595296318,
          0.13793492787300085,
          -1.4318303754898554,
          0.5873881902834827,
          -2.07325722004215,
          -1.1770281940962717,
          1.594615146278771,
          1.2776187822533687,
          0.47109117398969547,
          -1.246668759906434,
          -2.2847460611624406,
          -1.5826105556937269,
          -0.811269322851608,
          0.8799894577447486,
          0.06415012993297987,
          -0.7434972189767668,
          -0.9792866546376444,
          -0.933045546820726,
          -2.3622901656782385,
          0.5563119426536198,
          -0.19041549241342892,
          -0.16132840248423033,
          -0.7338722979209311,
          -0.3692777802581269,
          0.1305385223626437,
          -0.6402633231215187,
          1.7724921834749274,
          -1.2351448749489011,
          -0.5873659331128189,
          -0.16728748136882754,
          -0.5602703504822134,
          1.859960185240759,
          0.33740918515772517,
          0.918671162681654,
          -0.07101790267351826,
          0.015441559320083337,
          -1.2031017684144387,
          -0.3272063740238242,
          -0.0001744963858636876,
          0.3103076161179847,
          -0.199759215966244,
          0.05146279997451216,
          -0.18622636023755218,
          -0.8103233465962649,
          -1.9275858643732076,
          -1.1374975146503152,
          -0.41521538622971427,
          0.22719945800922248,
          0.36402755465690834,
          -0.4526090911338168,
          0.26012367576625334,
          -0.22989912094729592,
          0.5285726171745472,
          0.9953458174439949,
          -0.9857712026396995,
          0.5776873616421779,
          -0.7424122876243162,
          -0.5518931892115001,
          -1.5518844904682583,
          0.24099518333260084,
          0.6836961998302244,
          -1.2015323169619367,
          1.2802609934383806,
          1.438639661407647,
          -0.5851440701662644,
          0.4603398760447712,
          0.49137796754968743,
          -0.33395034853426303,
          -1.3694143337900495,
          0.7004766841926477,
          -0.02776944111056883,
          -1.7961432780630182,
          -0.04463245773876887,
          2.1231966212717746,
          -1.192852440208722,
          -1.0474681178086687,
          -0.7387115531544551,
          -0.5637437308033575,
          0.9980152157280872,
          1.5098614226254685,
          -0.5438344156823638,
          0.15937737582332315,
          -1.2195955310150488,
          1.0856990332088072,
          -0.542434730291181
         ],
         "yaxis": "y8"
        },
        {
         "line": {
          "color": "rgba(128, 128, 128, 1.0)",
          "dash": "solid",
          "shape": "linear",
          "width": 1.3
         },
         "marker": {
          "size": 2,
          "symbol": "circle"
         },
         "mode": "markers",
         "name": "C",
         "text": "",
         "type": "scatter",
         "x": [
          -2.0174340036144773,
          -0.2982885142503483,
          -1.1060293398574745,
          0.47380475815506795,
          -0.24287698992496476,
          -1.045477160349408,
          -1.372571283799824,
          -0.3708294395405194,
          0.9296363357643138,
          1.07539941494939,
          -0.48860213936065083,
          0.38462255572792503,
          0.7316391969826207,
          0.7056188238429781,
          0.2272970973273527,
          1.8973560994467056,
          -0.08814752662473867,
          2.853141208328112,
          1.2606744935729695,
          -0.19541503270171148,
          0.33884117599906605,
          -1.1823804269843323,
          -0.35818646632962386,
          -2.1896961807689883,
          0.4666612471354609,
          -0.7195595896962929,
          -1.1022342579753548,
          -0.4260373014973277,
          -2.03985628441693,
          -0.3922675703969572,
          -0.6393197479525362,
          1.5070292397184635,
          1.5427741705080689,
          -0.36811080320580436,
          0.7907860507217243,
          -1.053702929569162,
          -1.5682815210700976,
          -1.6899427972979684,
          -1.1577153310653898,
          1.201798767024122,
          0.8139499812781749,
          1.3396399626499909,
          -1.592116875741009,
          -2.108999149725003,
          -2.414121441285468,
          -0.7517992912296336,
          -0.8814484376662446,
          -0.5636621543249383,
          -0.4462016022135572,
          0.7602270527510662,
          -0.7635312669667638,
          -0.6085341535104014,
          -0.6979145854428934,
          0.15270352881680677,
          1.5861404333668392,
          0.4413194748417777,
          1.1464296196046662,
          1.6860599838450785,
          -0.12920519816606357,
          -1.3166186524763952,
          0.9527123887974857,
          -0.0913130377024795,
          -1.2562092533438431,
          -1.4599948208670317,
          0.739600143985171,
          1.928522171471015,
          0.8604873721118755,
          0.5101454894231326,
          -2.0412817448349676,
          2.350622092982859,
          -1.2098096285286442,
          0.8793405535384373,
          -0.4127130171433395,
          -0.9510357246689423,
          -0.5833425292515129,
          2.874170539129894,
          0.6754534679651084,
          -0.43269432307745,
          0.6824671403544771,
          -0.13956406111167266,
          -1.2539511811434925,
          -0.9095655979851323,
          0.5131425131930456,
          0.2107268324859046,
          0.9793829033520347,
          0.05590920125049553,
          -1.4825906211123527,
          -0.7655955658418381,
          -0.9062150294307344,
          0.2713814492008699,
          0.4987962451208206,
          0.8724854785969101,
          0.04820180158157174,
          0.22901793866168949,
          -0.04264546586916472,
          0.9163280370522656,
          -0.010155961485463392,
          -0.9553359158941854,
          -1.0351518431931523,
          0.9471899254826112
         ],
         "xaxis": "x9",
         "y": [
          0.5199922630907495,
          0.1830355270282763,
          0.7338807037118276,
          -1.728545257297151,
          0.7168022743874345,
          0.3343533448736096,
          1.367568784461105,
          -1.3231460252968592,
          -1.1749318802696305,
          -0.6481630365252634,
          -1.1420800226206975,
          -0.9615142362127238,
          -0.0452134271995858,
          1.4659734891639267,
          -0.9045681334699083,
          -1.1910542220933276,
          0.1837325385010415,
          -1.411109124645375,
          -1.136955351461367,
          -1.8347047274835042,
          -1.022155266979853,
          -0.2544273155503784,
          -0.21822601111445641,
          -0.5036600573084827,
          0.046035202553452136,
          -0.1496112217772252,
          -0.028209682763141536,
          -1.142726266593265,
          -2.0960811888623643,
          0.05053876236196913,
          3.0272968829495124,
          -0.06278096687767033,
          0.018552679633553757,
          0.1539366907347957,
          -0.134862543914076,
          -0.5373177369861782,
          0.21806512288273258,
          0.6808733116465462,
          -0.4597391591651445,
          0.9714359016000198,
          -0.34594030850288865,
          0.3359585191357947,
          -1.434357536288188,
          -0.6454390647001046,
          1.534720131130264,
          -1.331103768060012,
          -0.6687366119939376,
          1.304139576727922,
          -1.8132712606461807,
          0.8503059053334987,
          -0.2981495600111228,
          -0.060369774916276694,
          0.7494397256888057,
          0.22786020381595087,
          0.8111852375948235,
          0.45557169646498424,
          0.6509407911744212,
          0.535837548999383,
          0.058653266158075444,
          0.47259502040126566,
          -1.3380608588971012,
          -1.0214834676430626,
          -0.9998203108618948,
          -1.149023019762514,
          2.2523743166374843,
          1.2555027389653908,
          -0.3726643016479303,
          0.31203124203188326,
          1.4888712219329372,
          1.6134635549541745,
          0.21745550905515545,
          1.6471701788707174,
          0.6116557938467,
          0.416422488935641,
          -1.7584717424175733,
          -1.0074430159686674,
          -0.6759265033821549,
          -1.5798853727489461,
          0.37208733583223114,
          -0.9219938544398251,
          0.14012672286259512,
          2.1114977132624637,
          0.6156311912399872,
          1.479888066297275,
          2.3304288496837566,
          -1.6327940805130743,
          -1.440517700603669,
          -2.992625300505153,
          -0.649441935687668,
          -0.059502032629949374,
          2.702329118857002,
          -1.2033079124282626,
          0.0884111127119533,
          1.7455290528280512,
          -0.9142233168065622,
          1.380725105275451,
          0.007963640867254478,
          0.12313920273107667,
          -1.230546884593442,
          -1.095688282805866
         ],
         "yaxis": "y9"
        },
        {
         "line": {
          "color": "rgba(128, 128, 128, 1.0)",
          "dash": "solid",
          "shape": "linear",
          "width": 1.3
         },
         "marker": {
          "size": 2,
          "symbol": "circle"
         },
         "mode": "markers",
         "name": "C",
         "text": "",
         "type": "scatter",
         "x": [
          -0.4336314864429535,
          1.350667166094158,
          0.43598099590054984,
          0.6468173769915163,
          0.06159247962019822,
          -0.4718946721964237,
          -0.34718152548498954,
          -0.1352352933676623,
          1.772522237853382,
          1.7932238808421221,
          0.09877771175165724,
          0.0712299488526947,
          -0.04660842611345164,
          -0.695628193641317,
          -0.34583211824660304,
          -0.08662984595296318,
          0.13793492787300085,
          -1.4318303754898554,
          0.5873881902834827,
          -2.07325722004215,
          -1.1770281940962717,
          1.594615146278771,
          1.2776187822533687,
          0.47109117398969547,
          -1.246668759906434,
          -2.2847460611624406,
          -1.5826105556937269,
          -0.811269322851608,
          0.8799894577447486,
          0.06415012993297987,
          -0.7434972189767668,
          -0.9792866546376444,
          -0.933045546820726,
          -2.3622901656782385,
          0.5563119426536198,
          -0.19041549241342892,
          -0.16132840248423033,
          -0.7338722979209311,
          -0.3692777802581269,
          0.1305385223626437,
          -0.6402633231215187,
          1.7724921834749274,
          -1.2351448749489011,
          -0.5873659331128189,
          -0.16728748136882754,
          -0.5602703504822134,
          1.859960185240759,
          0.33740918515772517,
          0.918671162681654,
          -0.07101790267351826,
          0.015441559320083337,
          -1.2031017684144387,
          -0.3272063740238242,
          -0.0001744963858636876,
          0.3103076161179847,
          -0.199759215966244,
          0.05146279997451216,
          -0.18622636023755218,
          -0.8103233465962649,
          -1.9275858643732076,
          -1.1374975146503152,
          -0.41521538622971427,
          0.22719945800922248,
          0.36402755465690834,
          -0.4526090911338168,
          0.26012367576625334,
          -0.22989912094729592,
          0.5285726171745472,
          0.9953458174439949,
          -0.9857712026396995,
          0.5776873616421779,
          -0.7424122876243162,
          -0.5518931892115001,
          -1.5518844904682583,
          0.24099518333260084,
          0.6836961998302244,
          -1.2015323169619367,
          1.2802609934383806,
          1.438639661407647,
          -0.5851440701662644,
          0.4603398760447712,
          0.49137796754968743,
          -0.33395034853426303,
          -1.3694143337900495,
          0.7004766841926477,
          -0.02776944111056883,
          -1.7961432780630182,
          -0.04463245773876887,
          2.1231966212717746,
          -1.192852440208722,
          -1.0474681178086687,
          -0.7387115531544551,
          -0.5637437308033575,
          0.9980152157280872,
          1.5098614226254685,
          -0.5438344156823638,
          0.15937737582332315,
          -1.2195955310150488,
          1.0856990332088072,
          -0.542434730291181
         ],
         "xaxis": "x10",
         "y": [
          0.5199922630907495,
          0.1830355270282763,
          0.7338807037118276,
          -1.728545257297151,
          0.7168022743874345,
          0.3343533448736096,
          1.367568784461105,
          -1.3231460252968592,
          -1.1749318802696305,
          -0.6481630365252634,
          -1.1420800226206975,
          -0.9615142362127238,
          -0.0452134271995858,
          1.4659734891639267,
          -0.9045681334699083,
          -1.1910542220933276,
          0.1837325385010415,
          -1.411109124645375,
          -1.136955351461367,
          -1.8347047274835042,
          -1.022155266979853,
          -0.2544273155503784,
          -0.21822601111445641,
          -0.5036600573084827,
          0.046035202553452136,
          -0.1496112217772252,
          -0.028209682763141536,
          -1.142726266593265,
          -2.0960811888623643,
          0.05053876236196913,
          3.0272968829495124,
          -0.06278096687767033,
          0.018552679633553757,
          0.1539366907347957,
          -0.134862543914076,
          -0.5373177369861782,
          0.21806512288273258,
          0.6808733116465462,
          -0.4597391591651445,
          0.9714359016000198,
          -0.34594030850288865,
          0.3359585191357947,
          -1.434357536288188,
          -0.6454390647001046,
          1.534720131130264,
          -1.331103768060012,
          -0.6687366119939376,
          1.304139576727922,
          -1.8132712606461807,
          0.8503059053334987,
          -0.2981495600111228,
          -0.060369774916276694,
          0.7494397256888057,
          0.22786020381595087,
          0.8111852375948235,
          0.45557169646498424,
          0.6509407911744212,
          0.535837548999383,
          0.058653266158075444,
          0.47259502040126566,
          -1.3380608588971012,
          -1.0214834676430626,
          -0.9998203108618948,
          -1.149023019762514,
          2.2523743166374843,
          1.2555027389653908,
          -0.3726643016479303,
          0.31203124203188326,
          1.4888712219329372,
          1.6134635549541745,
          0.21745550905515545,
          1.6471701788707174,
          0.6116557938467,
          0.416422488935641,
          -1.7584717424175733,
          -1.0074430159686674,
          -0.6759265033821549,
          -1.5798853727489461,
          0.37208733583223114,
          -0.9219938544398251,
          0.14012672286259512,
          2.1114977132624637,
          0.6156311912399872,
          1.479888066297275,
          2.3304288496837566,
          -1.6327940805130743,
          -1.440517700603669,
          -2.992625300505153,
          -0.649441935687668,
          -0.059502032629949374,
          2.702329118857002,
          -1.2033079124282626,
          0.0884111127119533,
          1.7455290528280512,
          -0.9142233168065622,
          1.380725105275451,
          0.007963640867254478,
          0.12313920273107667,
          -1.230546884593442,
          -1.095688282805866
         ],
         "yaxis": "y10"
        },
        {
         "histfunc": "count",
         "histnorm": "",
         "marker": {
          "color": "rgba(50, 171, 96, 1.0)",
          "line": {
           "color": "#4D5663",
           "width": 1.3
          }
         },
         "name": "C",
         "nbinsx": 10,
         "opacity": 0.8,
         "orientation": "v",
         "type": "histogram",
         "x": [
          0.5199922630907495,
          0.1830355270282763,
          0.7338807037118276,
          -1.728545257297151,
          0.7168022743874345,
          0.3343533448736096,
          1.367568784461105,
          -1.3231460252968592,
          -1.1749318802696305,
          -0.6481630365252634,
          -1.1420800226206975,
          -0.9615142362127238,
          -0.0452134271995858,
          1.4659734891639267,
          -0.9045681334699083,
          -1.1910542220933276,
          0.1837325385010415,
          -1.411109124645375,
          -1.136955351461367,
          -1.8347047274835042,
          -1.022155266979853,
          -0.2544273155503784,
          -0.21822601111445641,
          -0.5036600573084827,
          0.046035202553452136,
          -0.1496112217772252,
          -0.028209682763141536,
          -1.142726266593265,
          -2.0960811888623643,
          0.05053876236196913,
          3.0272968829495124,
          -0.06278096687767033,
          0.018552679633553757,
          0.1539366907347957,
          -0.134862543914076,
          -0.5373177369861782,
          0.21806512288273258,
          0.6808733116465462,
          -0.4597391591651445,
          0.9714359016000198,
          -0.34594030850288865,
          0.3359585191357947,
          -1.434357536288188,
          -0.6454390647001046,
          1.534720131130264,
          -1.331103768060012,
          -0.6687366119939376,
          1.304139576727922,
          -1.8132712606461807,
          0.8503059053334987,
          -0.2981495600111228,
          -0.060369774916276694,
          0.7494397256888057,
          0.22786020381595087,
          0.8111852375948235,
          0.45557169646498424,
          0.6509407911744212,
          0.535837548999383,
          0.058653266158075444,
          0.47259502040126566,
          -1.3380608588971012,
          -1.0214834676430626,
          -0.9998203108618948,
          -1.149023019762514,
          2.2523743166374843,
          1.2555027389653908,
          -0.3726643016479303,
          0.31203124203188326,
          1.4888712219329372,
          1.6134635549541745,
          0.21745550905515545,
          1.6471701788707174,
          0.6116557938467,
          0.416422488935641,
          -1.7584717424175733,
          -1.0074430159686674,
          -0.6759265033821549,
          -1.5798853727489461,
          0.37208733583223114,
          -0.9219938544398251,
          0.14012672286259512,
          2.1114977132624637,
          0.6156311912399872,
          1.479888066297275,
          2.3304288496837566,
          -1.6327940805130743,
          -1.440517700603669,
          -2.992625300505153,
          -0.649441935687668,
          -0.059502032629949374,
          2.702329118857002,
          -1.2033079124282626,
          0.0884111127119533,
          1.7455290528280512,
          -0.9142233168065622,
          1.380725105275451,
          0.007963640867254478,
          0.12313920273107667,
          -1.230546884593442,
          -1.095688282805866
         ],
         "xaxis": "x11",
         "yaxis": "y11"
        },
        {
         "line": {
          "color": "rgba(128, 128, 128, 1.0)",
          "dash": "solid",
          "shape": "linear",
          "width": 1.3
         },
         "marker": {
          "size": 2,
          "symbol": "circle"
         },
         "mode": "markers",
         "name": "C",
         "text": "",
         "type": "scatter",
         "x": [
          0.3087242940760484,
          -2.892920710993179,
          0.29755680760134023,
          -0.4537198687874928,
          0.4091428918535154,
          -0.5911585079707464,
          1.2837558388647552,
          -1.196327628603834,
          1.0089734959700447,
          -0.1578035162705574,
          -0.4986640630344464,
          0.8252364225226217,
          1.6861646626147668,
          0.23963447426904727,
          0.7641530316879358,
          -0.7689390705139726,
          1.1584556024203354,
          1.1360891736184686,
          0.009474268435621989,
          -0.06682386148577549,
          0.555353509483653,
          0.7333168575641268,
          2.098244820081542,
          -0.7944249098537421,
          1.4387239479593779,
          -0.4515833646085028,
          -1.9352520647895797,
          -2.049553912885645,
          -1.2540247569355452,
          0.5430137866149007,
          -0.31587328134723097,
          1.6814974048406721,
          -0.4206398739726167,
          0.5992298023947051,
          -1.0120089497419704,
          0.2997543410309787,
          1.2357180906828362,
          0.41511198706310415,
          1.811713654798116,
          -0.3253060298179894,
          -0.9289560752940552,
          0.1608610104861535,
          -1.1924543747439782,
          0.5513907525949097,
          0.20551765048712142,
          1.3756968022467897,
          -0.7072715173974367,
          1.5185818130429565,
          -0.4693010381594284,
          -0.809846037988664,
          -0.09078018476417095,
          0.012713682354540578,
          0.2610668997971832,
          -2.7022175291637685,
          0.4012364716342121,
          -0.7728524233638323,
          -1.8511381406173124,
          0.651157946355602,
          0.22335055826153472,
          -0.41596698883675215,
          1.7294039411584106,
          -0.995924445608059,
          0.7882627429142489,
          1.2863779417748025,
          0.32966840365706734,
          0.5777746168164748,
          -1.0398609590570271,
          0.5711772366363843,
          -0.468436443040119,
          1.1284915691417101,
          0.2904286363391695,
          -0.5636855185258286,
          0.3736149212568452,
          -0.33682320469314836,
          0.9000438298583542,
          0.3801388237787824,
          0.7183473441906332,
          -0.9784587147441306,
          -0.40902944086318,
          0.13100305557281391,
          -0.34492148658442934,
          -0.002431809166469376,
          -0.5059304901101217,
          0.9653255252501207,
          -0.8914391155462259,
          0.3860940733112024,
          0.3834056512334579,
          0.33545236667254646,
          0.7660612229706408,
          -0.16928256065585887,
          0.3847440085949903,
          0.44520055820183524,
          0.6969785207430066,
          0.3054280947354089,
          -1.1541863065851823,
          0.9808009213359595,
          -0.2608278857259081,
          0.04611588232013331,
          0.9278158849994778,
          0.43077265880049
         ],
         "xaxis": "x12",
         "y": [
          0.5199922630907495,
          0.1830355270282763,
          0.7338807037118276,
          -1.728545257297151,
          0.7168022743874345,
          0.3343533448736096,
          1.367568784461105,
          -1.3231460252968592,
          -1.1749318802696305,
          -0.6481630365252634,
          -1.1420800226206975,
          -0.9615142362127238,
          -0.0452134271995858,
          1.4659734891639267,
          -0.9045681334699083,
          -1.1910542220933276,
          0.1837325385010415,
          -1.411109124645375,
          -1.136955351461367,
          -1.8347047274835042,
          -1.022155266979853,
          -0.2544273155503784,
          -0.21822601111445641,
          -0.5036600573084827,
          0.046035202553452136,
          -0.1496112217772252,
          -0.028209682763141536,
          -1.142726266593265,
          -2.0960811888623643,
          0.05053876236196913,
          3.0272968829495124,
          -0.06278096687767033,
          0.018552679633553757,
          0.1539366907347957,
          -0.134862543914076,
          -0.5373177369861782,
          0.21806512288273258,
          0.6808733116465462,
          -0.4597391591651445,
          0.9714359016000198,
          -0.34594030850288865,
          0.3359585191357947,
          -1.434357536288188,
          -0.6454390647001046,
          1.534720131130264,
          -1.331103768060012,
          -0.6687366119939376,
          1.304139576727922,
          -1.8132712606461807,
          0.8503059053334987,
          -0.2981495600111228,
          -0.060369774916276694,
          0.7494397256888057,
          0.22786020381595087,
          0.8111852375948235,
          0.45557169646498424,
          0.6509407911744212,
          0.535837548999383,
          0.058653266158075444,
          0.47259502040126566,
          -1.3380608588971012,
          -1.0214834676430626,
          -0.9998203108618948,
          -1.149023019762514,
          2.2523743166374843,
          1.2555027389653908,
          -0.3726643016479303,
          0.31203124203188326,
          1.4888712219329372,
          1.6134635549541745,
          0.21745550905515545,
          1.6471701788707174,
          0.6116557938467,
          0.416422488935641,
          -1.7584717424175733,
          -1.0074430159686674,
          -0.6759265033821549,
          -1.5798853727489461,
          0.37208733583223114,
          -0.9219938544398251,
          0.14012672286259512,
          2.1114977132624637,
          0.6156311912399872,
          1.479888066297275,
          2.3304288496837566,
          -1.6327940805130743,
          -1.440517700603669,
          -2.992625300505153,
          -0.649441935687668,
          -0.059502032629949374,
          2.702329118857002,
          -1.2033079124282626,
          0.0884111127119533,
          1.7455290528280512,
          -0.9142233168065622,
          1.380725105275451,
          0.007963640867254478,
          0.12313920273107667,
          -1.230546884593442,
          -1.095688282805866
         ],
         "yaxis": "y12"
        },
        {
         "line": {
          "color": "rgba(128, 128, 128, 1.0)",
          "dash": "solid",
          "shape": "linear",
          "width": 1.3
         },
         "marker": {
          "size": 2,
          "symbol": "circle"
         },
         "mode": "markers",
         "name": "D",
         "text": "",
         "type": "scatter",
         "x": [
          -2.0174340036144773,
          -0.2982885142503483,
          -1.1060293398574745,
          0.47380475815506795,
          -0.24287698992496476,
          -1.045477160349408,
          -1.372571283799824,
          -0.3708294395405194,
          0.9296363357643138,
          1.07539941494939,
          -0.48860213936065083,
          0.38462255572792503,
          0.7316391969826207,
          0.7056188238429781,
          0.2272970973273527,
          1.8973560994467056,
          -0.08814752662473867,
          2.853141208328112,
          1.2606744935729695,
          -0.19541503270171148,
          0.33884117599906605,
          -1.1823804269843323,
          -0.35818646632962386,
          -2.1896961807689883,
          0.4666612471354609,
          -0.7195595896962929,
          -1.1022342579753548,
          -0.4260373014973277,
          -2.03985628441693,
          -0.3922675703969572,
          -0.6393197479525362,
          1.5070292397184635,
          1.5427741705080689,
          -0.36811080320580436,
          0.7907860507217243,
          -1.053702929569162,
          -1.5682815210700976,
          -1.6899427972979684,
          -1.1577153310653898,
          1.201798767024122,
          0.8139499812781749,
          1.3396399626499909,
          -1.592116875741009,
          -2.108999149725003,
          -2.414121441285468,
          -0.7517992912296336,
          -0.8814484376662446,
          -0.5636621543249383,
          -0.4462016022135572,
          0.7602270527510662,
          -0.7635312669667638,
          -0.6085341535104014,
          -0.6979145854428934,
          0.15270352881680677,
          1.5861404333668392,
          0.4413194748417777,
          1.1464296196046662,
          1.6860599838450785,
          -0.12920519816606357,
          -1.3166186524763952,
          0.9527123887974857,
          -0.0913130377024795,
          -1.2562092533438431,
          -1.4599948208670317,
          0.739600143985171,
          1.928522171471015,
          0.8604873721118755,
          0.5101454894231326,
          -2.0412817448349676,
          2.350622092982859,
          -1.2098096285286442,
          0.8793405535384373,
          -0.4127130171433395,
          -0.9510357246689423,
          -0.5833425292515129,
          2.874170539129894,
          0.6754534679651084,
          -0.43269432307745,
          0.6824671403544771,
          -0.13956406111167266,
          -1.2539511811434925,
          -0.9095655979851323,
          0.5131425131930456,
          0.2107268324859046,
          0.9793829033520347,
          0.05590920125049553,
          -1.4825906211123527,
          -0.7655955658418381,
          -0.9062150294307344,
          0.2713814492008699,
          0.4987962451208206,
          0.8724854785969101,
          0.04820180158157174,
          0.22901793866168949,
          -0.04264546586916472,
          0.9163280370522656,
          -0.010155961485463392,
          -0.9553359158941854,
          -1.0351518431931523,
          0.9471899254826112
         ],
         "xaxis": "x13",
         "y": [
          0.3087242940760484,
          -2.892920710993179,
          0.29755680760134023,
          -0.4537198687874928,
          0.4091428918535154,
          -0.5911585079707464,
          1.2837558388647552,
          -1.196327628603834,
          1.0089734959700447,
          -0.1578035162705574,
          -0.4986640630344464,
          0.8252364225226217,
          1.6861646626147668,
          0.23963447426904727,
          0.7641530316879358,
          -0.7689390705139726,
          1.1584556024203354,
          1.1360891736184686,
          0.009474268435621989,
          -0.06682386148577549,
          0.555353509483653,
          0.7333168575641268,
          2.098244820081542,
          -0.7944249098537421,
          1.4387239479593779,
          -0.4515833646085028,
          -1.9352520647895797,
          -2.049553912885645,
          -1.2540247569355452,
          0.5430137866149007,
          -0.31587328134723097,
          1.6814974048406721,
          -0.4206398739726167,
          0.5992298023947051,
          -1.0120089497419704,
          0.2997543410309787,
          1.2357180906828362,
          0.41511198706310415,
          1.811713654798116,
          -0.3253060298179894,
          -0.9289560752940552,
          0.1608610104861535,
          -1.1924543747439782,
          0.5513907525949097,
          0.20551765048712142,
          1.3756968022467897,
          -0.7072715173974367,
          1.5185818130429565,
          -0.4693010381594284,
          -0.809846037988664,
          -0.09078018476417095,
          0.012713682354540578,
          0.2610668997971832,
          -2.7022175291637685,
          0.4012364716342121,
          -0.7728524233638323,
          -1.8511381406173124,
          0.651157946355602,
          0.22335055826153472,
          -0.41596698883675215,
          1.7294039411584106,
          -0.995924445608059,
          0.7882627429142489,
          1.2863779417748025,
          0.32966840365706734,
          0.5777746168164748,
          -1.0398609590570271,
          0.5711772366363843,
          -0.468436443040119,
          1.1284915691417101,
          0.2904286363391695,
          -0.5636855185258286,
          0.3736149212568452,
          -0.33682320469314836,
          0.9000438298583542,
          0.3801388237787824,
          0.7183473441906332,
          -0.9784587147441306,
          -0.40902944086318,
          0.13100305557281391,
          -0.34492148658442934,
          -0.002431809166469376,
          -0.5059304901101217,
          0.9653255252501207,
          -0.8914391155462259,
          0.3860940733112024,
          0.3834056512334579,
          0.33545236667254646,
          0.7660612229706408,
          -0.16928256065585887,
          0.3847440085949903,
          0.44520055820183524,
          0.6969785207430066,
          0.3054280947354089,
          -1.1541863065851823,
          0.9808009213359595,
          -0.2608278857259081,
          0.04611588232013331,
          0.9278158849994778,
          0.43077265880049
         ],
         "yaxis": "y13"
        },
        {
         "line": {
          "color": "rgba(128, 128, 128, 1.0)",
          "dash": "solid",
          "shape": "linear",
          "width": 1.3
         },
         "marker": {
          "size": 2,
          "symbol": "circle"
         },
         "mode": "markers",
         "name": "D",
         "text": "",
         "type": "scatter",
         "x": [
          -0.4336314864429535,
          1.350667166094158,
          0.43598099590054984,
          0.6468173769915163,
          0.06159247962019822,
          -0.4718946721964237,
          -0.34718152548498954,
          -0.1352352933676623,
          1.772522237853382,
          1.7932238808421221,
          0.09877771175165724,
          0.0712299488526947,
          -0.04660842611345164,
          -0.695628193641317,
          -0.34583211824660304,
          -0.08662984595296318,
          0.13793492787300085,
          -1.4318303754898554,
          0.5873881902834827,
          -2.07325722004215,
          -1.1770281940962717,
          1.594615146278771,
          1.2776187822533687,
          0.47109117398969547,
          -1.246668759906434,
          -2.2847460611624406,
          -1.5826105556937269,
          -0.811269322851608,
          0.8799894577447486,
          0.06415012993297987,
          -0.7434972189767668,
          -0.9792866546376444,
          -0.933045546820726,
          -2.3622901656782385,
          0.5563119426536198,
          -0.19041549241342892,
          -0.16132840248423033,
          -0.7338722979209311,
          -0.3692777802581269,
          0.1305385223626437,
          -0.6402633231215187,
          1.7724921834749274,
          -1.2351448749489011,
          -0.5873659331128189,
          -0.16728748136882754,
          -0.5602703504822134,
          1.859960185240759,
          0.33740918515772517,
          0.918671162681654,
          -0.07101790267351826,
          0.015441559320083337,
          -1.2031017684144387,
          -0.3272063740238242,
          -0.0001744963858636876,
          0.3103076161179847,
          -0.199759215966244,
          0.05146279997451216,
          -0.18622636023755218,
          -0.8103233465962649,
          -1.9275858643732076,
          -1.1374975146503152,
          -0.41521538622971427,
          0.22719945800922248,
          0.36402755465690834,
          -0.4526090911338168,
          0.26012367576625334,
          -0.22989912094729592,
          0.5285726171745472,
          0.9953458174439949,
          -0.9857712026396995,
          0.5776873616421779,
          -0.7424122876243162,
          -0.5518931892115001,
          -1.5518844904682583,
          0.24099518333260084,
          0.6836961998302244,
          -1.2015323169619367,
          1.2802609934383806,
          1.438639661407647,
          -0.5851440701662644,
          0.4603398760447712,
          0.49137796754968743,
          -0.33395034853426303,
          -1.3694143337900495,
          0.7004766841926477,
          -0.02776944111056883,
          -1.7961432780630182,
          -0.04463245773876887,
          2.1231966212717746,
          -1.192852440208722,
          -1.0474681178086687,
          -0.7387115531544551,
          -0.5637437308033575,
          0.9980152157280872,
          1.5098614226254685,
          -0.5438344156823638,
          0.15937737582332315,
          -1.2195955310150488,
          1.0856990332088072,
          -0.542434730291181
         ],
         "xaxis": "x14",
         "y": [
          0.3087242940760484,
          -2.892920710993179,
          0.29755680760134023,
          -0.4537198687874928,
          0.4091428918535154,
          -0.5911585079707464,
          1.2837558388647552,
          -1.196327628603834,
          1.0089734959700447,
          -0.1578035162705574,
          -0.4986640630344464,
          0.8252364225226217,
          1.6861646626147668,
          0.23963447426904727,
          0.7641530316879358,
          -0.7689390705139726,
          1.1584556024203354,
          1.1360891736184686,
          0.009474268435621989,
          -0.06682386148577549,
          0.555353509483653,
          0.7333168575641268,
          2.098244820081542,
          -0.7944249098537421,
          1.4387239479593779,
          -0.4515833646085028,
          -1.9352520647895797,
          -2.049553912885645,
          -1.2540247569355452,
          0.5430137866149007,
          -0.31587328134723097,
          1.6814974048406721,
          -0.4206398739726167,
          0.5992298023947051,
          -1.0120089497419704,
          0.2997543410309787,
          1.2357180906828362,
          0.41511198706310415,
          1.811713654798116,
          -0.3253060298179894,
          -0.9289560752940552,
          0.1608610104861535,
          -1.1924543747439782,
          0.5513907525949097,
          0.20551765048712142,
          1.3756968022467897,
          -0.7072715173974367,
          1.5185818130429565,
          -0.4693010381594284,
          -0.809846037988664,
          -0.09078018476417095,
          0.012713682354540578,
          0.2610668997971832,
          -2.7022175291637685,
          0.4012364716342121,
          -0.7728524233638323,
          -1.8511381406173124,
          0.651157946355602,
          0.22335055826153472,
          -0.41596698883675215,
          1.7294039411584106,
          -0.995924445608059,
          0.7882627429142489,
          1.2863779417748025,
          0.32966840365706734,
          0.5777746168164748,
          -1.0398609590570271,
          0.5711772366363843,
          -0.468436443040119,
          1.1284915691417101,
          0.2904286363391695,
          -0.5636855185258286,
          0.3736149212568452,
          -0.33682320469314836,
          0.9000438298583542,
          0.3801388237787824,
          0.7183473441906332,
          -0.9784587147441306,
          -0.40902944086318,
          0.13100305557281391,
          -0.34492148658442934,
          -0.002431809166469376,
          -0.5059304901101217,
          0.9653255252501207,
          -0.8914391155462259,
          0.3860940733112024,
          0.3834056512334579,
          0.33545236667254646,
          0.7660612229706408,
          -0.16928256065585887,
          0.3847440085949903,
          0.44520055820183524,
          0.6969785207430066,
          0.3054280947354089,
          -1.1541863065851823,
          0.9808009213359595,
          -0.2608278857259081,
          0.04611588232013331,
          0.9278158849994778,
          0.43077265880049
         ],
         "yaxis": "y14"
        },
        {
         "line": {
          "color": "rgba(128, 128, 128, 1.0)",
          "dash": "solid",
          "shape": "linear",
          "width": 1.3
         },
         "marker": {
          "size": 2,
          "symbol": "circle"
         },
         "mode": "markers",
         "name": "D",
         "text": "",
         "type": "scatter",
         "x": [
          0.5199922630907495,
          0.1830355270282763,
          0.7338807037118276,
          -1.728545257297151,
          0.7168022743874345,
          0.3343533448736096,
          1.367568784461105,
          -1.3231460252968592,
          -1.1749318802696305,
          -0.6481630365252634,
          -1.1420800226206975,
          -0.9615142362127238,
          -0.0452134271995858,
          1.4659734891639267,
          -0.9045681334699083,
          -1.1910542220933276,
          0.1837325385010415,
          -1.411109124645375,
          -1.136955351461367,
          -1.8347047274835042,
          -1.022155266979853,
          -0.2544273155503784,
          -0.21822601111445641,
          -0.5036600573084827,
          0.046035202553452136,
          -0.1496112217772252,
          -0.028209682763141536,
          -1.142726266593265,
          -2.0960811888623643,
          0.05053876236196913,
          3.0272968829495124,
          -0.06278096687767033,
          0.018552679633553757,
          0.1539366907347957,
          -0.134862543914076,
          -0.5373177369861782,
          0.21806512288273258,
          0.6808733116465462,
          -0.4597391591651445,
          0.9714359016000198,
          -0.34594030850288865,
          0.3359585191357947,
          -1.434357536288188,
          -0.6454390647001046,
          1.534720131130264,
          -1.331103768060012,
          -0.6687366119939376,
          1.304139576727922,
          -1.8132712606461807,
          0.8503059053334987,
          -0.2981495600111228,
          -0.060369774916276694,
          0.7494397256888057,
          0.22786020381595087,
          0.8111852375948235,
          0.45557169646498424,
          0.6509407911744212,
          0.535837548999383,
          0.058653266158075444,
          0.47259502040126566,
          -1.3380608588971012,
          -1.0214834676430626,
          -0.9998203108618948,
          -1.149023019762514,
          2.2523743166374843,
          1.2555027389653908,
          -0.3726643016479303,
          0.31203124203188326,
          1.4888712219329372,
          1.6134635549541745,
          0.21745550905515545,
          1.6471701788707174,
          0.6116557938467,
          0.416422488935641,
          -1.7584717424175733,
          -1.0074430159686674,
          -0.6759265033821549,
          -1.5798853727489461,
          0.37208733583223114,
          -0.9219938544398251,
          0.14012672286259512,
          2.1114977132624637,
          0.6156311912399872,
          1.479888066297275,
          2.3304288496837566,
          -1.6327940805130743,
          -1.440517700603669,
          -2.992625300505153,
          -0.649441935687668,
          -0.059502032629949374,
          2.702329118857002,
          -1.2033079124282626,
          0.0884111127119533,
          1.7455290528280512,
          -0.9142233168065622,
          1.380725105275451,
          0.007963640867254478,
          0.12313920273107667,
          -1.230546884593442,
          -1.095688282805866
         ],
         "xaxis": "x15",
         "y": [
          0.3087242940760484,
          -2.892920710993179,
          0.29755680760134023,
          -0.4537198687874928,
          0.4091428918535154,
          -0.5911585079707464,
          1.2837558388647552,
          -1.196327628603834,
          1.0089734959700447,
          -0.1578035162705574,
          -0.4986640630344464,
          0.8252364225226217,
          1.6861646626147668,
          0.23963447426904727,
          0.7641530316879358,
          -0.7689390705139726,
          1.1584556024203354,
          1.1360891736184686,
          0.009474268435621989,
          -0.06682386148577549,
          0.555353509483653,
          0.7333168575641268,
          2.098244820081542,
          -0.7944249098537421,
          1.4387239479593779,
          -0.4515833646085028,
          -1.9352520647895797,
          -2.049553912885645,
          -1.2540247569355452,
          0.5430137866149007,
          -0.31587328134723097,
          1.6814974048406721,
          -0.4206398739726167,
          0.5992298023947051,
          -1.0120089497419704,
          0.2997543410309787,
          1.2357180906828362,
          0.41511198706310415,
          1.811713654798116,
          -0.3253060298179894,
          -0.9289560752940552,
          0.1608610104861535,
          -1.1924543747439782,
          0.5513907525949097,
          0.20551765048712142,
          1.3756968022467897,
          -0.7072715173974367,
          1.5185818130429565,
          -0.4693010381594284,
          -0.809846037988664,
          -0.09078018476417095,
          0.012713682354540578,
          0.2610668997971832,
          -2.7022175291637685,
          0.4012364716342121,
          -0.7728524233638323,
          -1.8511381406173124,
          0.651157946355602,
          0.22335055826153472,
          -0.41596698883675215,
          1.7294039411584106,
          -0.995924445608059,
          0.7882627429142489,
          1.2863779417748025,
          0.32966840365706734,
          0.5777746168164748,
          -1.0398609590570271,
          0.5711772366363843,
          -0.468436443040119,
          1.1284915691417101,
          0.2904286363391695,
          -0.5636855185258286,
          0.3736149212568452,
          -0.33682320469314836,
          0.9000438298583542,
          0.3801388237787824,
          0.7183473441906332,
          -0.9784587147441306,
          -0.40902944086318,
          0.13100305557281391,
          -0.34492148658442934,
          -0.002431809166469376,
          -0.5059304901101217,
          0.9653255252501207,
          -0.8914391155462259,
          0.3860940733112024,
          0.3834056512334579,
          0.33545236667254646,
          0.7660612229706408,
          -0.16928256065585887,
          0.3847440085949903,
          0.44520055820183524,
          0.6969785207430066,
          0.3054280947354089,
          -1.1541863065851823,
          0.9808009213359595,
          -0.2608278857259081,
          0.04611588232013331,
          0.9278158849994778,
          0.43077265880049
         ],
         "yaxis": "y15"
        },
        {
         "histfunc": "count",
         "histnorm": "",
         "marker": {
          "color": "rgba(128, 0, 128, 1.0)",
          "line": {
           "color": "#4D5663",
           "width": 1.3
          }
         },
         "name": "D",
         "nbinsx": 10,
         "opacity": 0.8,
         "orientation": "v",
         "type": "histogram",
         "x": [
          0.3087242940760484,
          -2.892920710993179,
          0.29755680760134023,
          -0.4537198687874928,
          0.4091428918535154,
          -0.5911585079707464,
          1.2837558388647552,
          -1.196327628603834,
          1.0089734959700447,
          -0.1578035162705574,
          -0.4986640630344464,
          0.8252364225226217,
          1.6861646626147668,
          0.23963447426904727,
          0.7641530316879358,
          -0.7689390705139726,
          1.1584556024203354,
          1.1360891736184686,
          0.009474268435621989,
          -0.06682386148577549,
          0.555353509483653,
          0.7333168575641268,
          2.098244820081542,
          -0.7944249098537421,
          1.4387239479593779,
          -0.4515833646085028,
          -1.9352520647895797,
          -2.049553912885645,
          -1.2540247569355452,
          0.5430137866149007,
          -0.31587328134723097,
          1.6814974048406721,
          -0.4206398739726167,
          0.5992298023947051,
          -1.0120089497419704,
          0.2997543410309787,
          1.2357180906828362,
          0.41511198706310415,
          1.811713654798116,
          -0.3253060298179894,
          -0.9289560752940552,
          0.1608610104861535,
          -1.1924543747439782,
          0.5513907525949097,
          0.20551765048712142,
          1.3756968022467897,
          -0.7072715173974367,
          1.5185818130429565,
          -0.4693010381594284,
          -0.809846037988664,
          -0.09078018476417095,
          0.012713682354540578,
          0.2610668997971832,
          -2.7022175291637685,
          0.4012364716342121,
          -0.7728524233638323,
          -1.8511381406173124,
          0.651157946355602,
          0.22335055826153472,
          -0.41596698883675215,
          1.7294039411584106,
          -0.995924445608059,
          0.7882627429142489,
          1.2863779417748025,
          0.32966840365706734,
          0.5777746168164748,
          -1.0398609590570271,
          0.5711772366363843,
          -0.468436443040119,
          1.1284915691417101,
          0.2904286363391695,
          -0.5636855185258286,
          0.3736149212568452,
          -0.33682320469314836,
          0.9000438298583542,
          0.3801388237787824,
          0.7183473441906332,
          -0.9784587147441306,
          -0.40902944086318,
          0.13100305557281391,
          -0.34492148658442934,
          -0.002431809166469376,
          -0.5059304901101217,
          0.9653255252501207,
          -0.8914391155462259,
          0.3860940733112024,
          0.3834056512334579,
          0.33545236667254646,
          0.7660612229706408,
          -0.16928256065585887,
          0.3847440085949903,
          0.44520055820183524,
          0.6969785207430066,
          0.3054280947354089,
          -1.1541863065851823,
          0.9808009213359595,
          -0.2608278857259081,
          0.04611588232013331,
          0.9278158849994778,
          0.43077265880049
         ],
         "xaxis": "x16",
         "yaxis": "y16"
        }
       ],
       "layout": {
        "bargap": 0.02,
        "legend": {
         "bgcolor": "#F5F6F9",
         "font": {
          "color": "#4D5663"
         }
        },
        "paper_bgcolor": "#F5F6F9",
        "plot_bgcolor": "#F5F6F9",
        "showlegend": false,
        "template": {
         "data": {
          "bar": [
           {
            "error_x": {
             "color": "#2a3f5f"
            },
            "error_y": {
             "color": "#2a3f5f"
            },
            "marker": {
             "line": {
              "color": "#E5ECF6",
              "width": 0.5
             },
             "pattern": {
              "fillmode": "overlay",
              "size": 10,
              "solidity": 0.2
             }
            },
            "type": "bar"
           }
          ],
          "barpolar": [
           {
            "marker": {
             "line": {
              "color": "#E5ECF6",
              "width": 0.5
             },
             "pattern": {
              "fillmode": "overlay",
              "size": 10,
              "solidity": 0.2
             }
            },
            "type": "barpolar"
           }
          ],
          "carpet": [
           {
            "aaxis": {
             "endlinecolor": "#2a3f5f",
             "gridcolor": "white",
             "linecolor": "white",
             "minorgridcolor": "white",
             "startlinecolor": "#2a3f5f"
            },
            "baxis": {
             "endlinecolor": "#2a3f5f",
             "gridcolor": "white",
             "linecolor": "white",
             "minorgridcolor": "white",
             "startlinecolor": "#2a3f5f"
            },
            "type": "carpet"
           }
          ],
          "choropleth": [
           {
            "colorbar": {
             "outlinewidth": 0,
             "ticks": ""
            },
            "type": "choropleth"
           }
          ],
          "contour": [
           {
            "colorbar": {
             "outlinewidth": 0,
             "ticks": ""
            },
            "colorscale": [
             [
              0,
              "#0d0887"
             ],
             [
              0.1111111111111111,
              "#46039f"
             ],
             [
              0.2222222222222222,
              "#7201a8"
             ],
             [
              0.3333333333333333,
              "#9c179e"
             ],
             [
              0.4444444444444444,
              "#bd3786"
             ],
             [
              0.5555555555555556,
              "#d8576b"
             ],
             [
              0.6666666666666666,
              "#ed7953"
             ],
             [
              0.7777777777777778,
              "#fb9f3a"
             ],
             [
              0.8888888888888888,
              "#fdca26"
             ],
             [
              1,
              "#f0f921"
             ]
            ],
            "type": "contour"
           }
          ],
          "contourcarpet": [
           {
            "colorbar": {
             "outlinewidth": 0,
             "ticks": ""
            },
            "type": "contourcarpet"
           }
          ],
          "heatmap": [
           {
            "colorbar": {
             "outlinewidth": 0,
             "ticks": ""
            },
            "colorscale": [
             [
              0,
              "#0d0887"
             ],
             [
              0.1111111111111111,
              "#46039f"
             ],
             [
              0.2222222222222222,
              "#7201a8"
             ],
             [
              0.3333333333333333,
              "#9c179e"
             ],
             [
              0.4444444444444444,
              "#bd3786"
             ],
             [
              0.5555555555555556,
              "#d8576b"
             ],
             [
              0.6666666666666666,
              "#ed7953"
             ],
             [
              0.7777777777777778,
              "#fb9f3a"
             ],
             [
              0.8888888888888888,
              "#fdca26"
             ],
             [
              1,
              "#f0f921"
             ]
            ],
            "type": "heatmap"
           }
          ],
          "heatmapgl": [
           {
            "colorbar": {
             "outlinewidth": 0,
             "ticks": ""
            },
            "colorscale": [
             [
              0,
              "#0d0887"
             ],
             [
              0.1111111111111111,
              "#46039f"
             ],
             [
              0.2222222222222222,
              "#7201a8"
             ],
             [
              0.3333333333333333,
              "#9c179e"
             ],
             [
              0.4444444444444444,
              "#bd3786"
             ],
             [
              0.5555555555555556,
              "#d8576b"
             ],
             [
              0.6666666666666666,
              "#ed7953"
             ],
             [
              0.7777777777777778,
              "#fb9f3a"
             ],
             [
              0.8888888888888888,
              "#fdca26"
             ],
             [
              1,
              "#f0f921"
             ]
            ],
            "type": "heatmapgl"
           }
          ],
          "histogram": [
           {
            "marker": {
             "pattern": {
              "fillmode": "overlay",
              "size": 10,
              "solidity": 0.2
             }
            },
            "type": "histogram"
           }
          ],
          "histogram2d": [
           {
            "colorbar": {
             "outlinewidth": 0,
             "ticks": ""
            },
            "colorscale": [
             [
              0,
              "#0d0887"
             ],
             [
              0.1111111111111111,
              "#46039f"
             ],
             [
              0.2222222222222222,
              "#7201a8"
             ],
             [
              0.3333333333333333,
              "#9c179e"
             ],
             [
              0.4444444444444444,
              "#bd3786"
             ],
             [
              0.5555555555555556,
              "#d8576b"
             ],
             [
              0.6666666666666666,
              "#ed7953"
             ],
             [
              0.7777777777777778,
              "#fb9f3a"
             ],
             [
              0.8888888888888888,
              "#fdca26"
             ],
             [
              1,
              "#f0f921"
             ]
            ],
            "type": "histogram2d"
           }
          ],
          "histogram2dcontour": [
           {
            "colorbar": {
             "outlinewidth": 0,
             "ticks": ""
            },
            "colorscale": [
             [
              0,
              "#0d0887"
             ],
             [
              0.1111111111111111,
              "#46039f"
             ],
             [
              0.2222222222222222,
              "#7201a8"
             ],
             [
              0.3333333333333333,
              "#9c179e"
             ],
             [
              0.4444444444444444,
              "#bd3786"
             ],
             [
              0.5555555555555556,
              "#d8576b"
             ],
             [
              0.6666666666666666,
              "#ed7953"
             ],
             [
              0.7777777777777778,
              "#fb9f3a"
             ],
             [
              0.8888888888888888,
              "#fdca26"
             ],
             [
              1,
              "#f0f921"
             ]
            ],
            "type": "histogram2dcontour"
           }
          ],
          "mesh3d": [
           {
            "colorbar": {
             "outlinewidth": 0,
             "ticks": ""
            },
            "type": "mesh3d"
           }
          ],
          "parcoords": [
           {
            "line": {
             "colorbar": {
              "outlinewidth": 0,
              "ticks": ""
             }
            },
            "type": "parcoords"
           }
          ],
          "pie": [
           {
            "automargin": true,
            "type": "pie"
           }
          ],
          "scatter": [
           {
            "fillpattern": {
             "fillmode": "overlay",
             "size": 10,
             "solidity": 0.2
            },
            "type": "scatter"
           }
          ],
          "scatter3d": [
           {
            "line": {
             "colorbar": {
              "outlinewidth": 0,
              "ticks": ""
             }
            },
            "marker": {
             "colorbar": {
              "outlinewidth": 0,
              "ticks": ""
             }
            },
            "type": "scatter3d"
           }
          ],
          "scattercarpet": [
           {
            "marker": {
             "colorbar": {
              "outlinewidth": 0,
              "ticks": ""
             }
            },
            "type": "scattercarpet"
           }
          ],
          "scattergeo": [
           {
            "marker": {
             "colorbar": {
              "outlinewidth": 0,
              "ticks": ""
             }
            },
            "type": "scattergeo"
           }
          ],
          "scattergl": [
           {
            "marker": {
             "colorbar": {
              "outlinewidth": 0,
              "ticks": ""
             }
            },
            "type": "scattergl"
           }
          ],
          "scattermapbox": [
           {
            "marker": {
             "colorbar": {
              "outlinewidth": 0,
              "ticks": ""
             }
            },
            "type": "scattermapbox"
           }
          ],
          "scatterpolar": [
           {
            "marker": {
             "colorbar": {
              "outlinewidth": 0,
              "ticks": ""
             }
            },
            "type": "scatterpolar"
           }
          ],
          "scatterpolargl": [
           {
            "marker": {
             "colorbar": {
              "outlinewidth": 0,
              "ticks": ""
             }
            },
            "type": "scatterpolargl"
           }
          ],
          "scatterternary": [
           {
            "marker": {
             "colorbar": {
              "outlinewidth": 0,
              "ticks": ""
             }
            },
            "type": "scatterternary"
           }
          ],
          "surface": [
           {
            "colorbar": {
             "outlinewidth": 0,
             "ticks": ""
            },
            "colorscale": [
             [
              0,
              "#0d0887"
             ],
             [
              0.1111111111111111,
              "#46039f"
             ],
             [
              0.2222222222222222,
              "#7201a8"
             ],
             [
              0.3333333333333333,
              "#9c179e"
             ],
             [
              0.4444444444444444,
              "#bd3786"
             ],
             [
              0.5555555555555556,
              "#d8576b"
             ],
             [
              0.6666666666666666,
              "#ed7953"
             ],
             [
              0.7777777777777778,
              "#fb9f3a"
             ],
             [
              0.8888888888888888,
              "#fdca26"
             ],
             [
              1,
              "#f0f921"
             ]
            ],
            "type": "surface"
           }
          ],
          "table": [
           {
            "cells": {
             "fill": {
              "color": "#EBF0F8"
             },
             "line": {
              "color": "white"
             }
            },
            "header": {
             "fill": {
              "color": "#C8D4E3"
             },
             "line": {
              "color": "white"
             }
            },
            "type": "table"
           }
          ]
         },
         "layout": {
          "annotationdefaults": {
           "arrowcolor": "#2a3f5f",
           "arrowhead": 0,
           "arrowwidth": 1
          },
          "autotypenumbers": "strict",
          "coloraxis": {
           "colorbar": {
            "outlinewidth": 0,
            "ticks": ""
           }
          },
          "colorscale": {
           "diverging": [
            [
             0,
             "#8e0152"
            ],
            [
             0.1,
             "#c51b7d"
            ],
            [
             0.2,
             "#de77ae"
            ],
            [
             0.3,
             "#f1b6da"
            ],
            [
             0.4,
             "#fde0ef"
            ],
            [
             0.5,
             "#f7f7f7"
            ],
            [
             0.6,
             "#e6f5d0"
            ],
            [
             0.7,
             "#b8e186"
            ],
            [
             0.8,
             "#7fbc41"
            ],
            [
             0.9,
             "#4d9221"
            ],
            [
             1,
             "#276419"
            ]
           ],
           "sequential": [
            [
             0,
             "#0d0887"
            ],
            [
             0.1111111111111111,
             "#46039f"
            ],
            [
             0.2222222222222222,
             "#7201a8"
            ],
            [
             0.3333333333333333,
             "#9c179e"
            ],
            [
             0.4444444444444444,
             "#bd3786"
            ],
            [
             0.5555555555555556,
             "#d8576b"
            ],
            [
             0.6666666666666666,
             "#ed7953"
            ],
            [
             0.7777777777777778,
             "#fb9f3a"
            ],
            [
             0.8888888888888888,
             "#fdca26"
            ],
            [
             1,
             "#f0f921"
            ]
           ],
           "sequentialminus": [
            [
             0,
             "#0d0887"
            ],
            [
             0.1111111111111111,
             "#46039f"
            ],
            [
             0.2222222222222222,
             "#7201a8"
            ],
            [
             0.3333333333333333,
             "#9c179e"
            ],
            [
             0.4444444444444444,
             "#bd3786"
            ],
            [
             0.5555555555555556,
             "#d8576b"
            ],
            [
             0.6666666666666666,
             "#ed7953"
            ],
            [
             0.7777777777777778,
             "#fb9f3a"
            ],
            [
             0.8888888888888888,
             "#fdca26"
            ],
            [
             1,
             "#f0f921"
            ]
           ]
          },
          "colorway": [
           "#636efa",
           "#EF553B",
           "#00cc96",
           "#ab63fa",
           "#FFA15A",
           "#19d3f3",
           "#FF6692",
           "#B6E880",
           "#FF97FF",
           "#FECB52"
          ],
          "font": {
           "color": "#2a3f5f"
          },
          "geo": {
           "bgcolor": "white",
           "lakecolor": "white",
           "landcolor": "#E5ECF6",
           "showlakes": true,
           "showland": true,
           "subunitcolor": "white"
          },
          "hoverlabel": {
           "align": "left"
          },
          "hovermode": "closest",
          "mapbox": {
           "style": "light"
          },
          "paper_bgcolor": "white",
          "plot_bgcolor": "#E5ECF6",
          "polar": {
           "angularaxis": {
            "gridcolor": "white",
            "linecolor": "white",
            "ticks": ""
           },
           "bgcolor": "#E5ECF6",
           "radialaxis": {
            "gridcolor": "white",
            "linecolor": "white",
            "ticks": ""
           }
          },
          "scene": {
           "xaxis": {
            "backgroundcolor": "#E5ECF6",
            "gridcolor": "white",
            "gridwidth": 2,
            "linecolor": "white",
            "showbackground": true,
            "ticks": "",
            "zerolinecolor": "white"
           },
           "yaxis": {
            "backgroundcolor": "#E5ECF6",
            "gridcolor": "white",
            "gridwidth": 2,
            "linecolor": "white",
            "showbackground": true,
            "ticks": "",
            "zerolinecolor": "white"
           },
           "zaxis": {
            "backgroundcolor": "#E5ECF6",
            "gridcolor": "white",
            "gridwidth": 2,
            "linecolor": "white",
            "showbackground": true,
            "ticks": "",
            "zerolinecolor": "white"
           }
          },
          "shapedefaults": {
           "line": {
            "color": "#2a3f5f"
           }
          },
          "ternary": {
           "aaxis": {
            "gridcolor": "white",
            "linecolor": "white",
            "ticks": ""
           },
           "baxis": {
            "gridcolor": "white",
            "linecolor": "white",
            "ticks": ""
           },
           "bgcolor": "#E5ECF6",
           "caxis": {
            "gridcolor": "white",
            "linecolor": "white",
            "ticks": ""
           }
          },
          "title": {
           "x": 0.05
          },
          "xaxis": {
           "automargin": true,
           "gridcolor": "white",
           "linecolor": "white",
           "ticks": "",
           "title": {
            "standoff": 15
           },
           "zerolinecolor": "white",
           "zerolinewidth": 2
          },
          "yaxis": {
           "automargin": true,
           "gridcolor": "white",
           "linecolor": "white",
           "ticks": "",
           "title": {
            "standoff": 15
           },
           "zerolinecolor": "white",
           "zerolinewidth": 2
          }
         }
        },
        "title": {
         "font": {
          "color": "#4D5663"
         }
        },
        "xaxis": {
         "anchor": "y",
         "domain": [
          0,
          0.2125
         ],
         "gridcolor": "#E1E5ED",
         "showgrid": false,
         "tickfont": {
          "color": "#4D5663"
         },
         "title": {
          "font": {
           "color": "#4D5663"
          },
          "text": ""
         },
         "zerolinecolor": "#E1E5ED"
        },
        "xaxis10": {
         "anchor": "y10",
         "domain": [
          0.2625,
          0.475
         ],
         "gridcolor": "#E1E5ED",
         "showgrid": false,
         "tickfont": {
          "color": "#4D5663"
         },
         "title": {
          "font": {
           "color": "#4D5663"
          },
          "text": ""
         },
         "zerolinecolor": "#E1E5ED"
        },
        "xaxis11": {
         "anchor": "y11",
         "domain": [
          0.525,
          0.7375
         ],
         "gridcolor": "#E1E5ED",
         "showgrid": false,
         "tickfont": {
          "color": "#4D5663"
         },
         "title": {
          "font": {
           "color": "#4D5663"
          },
          "text": ""
         },
         "zerolinecolor": "#E1E5ED"
        },
        "xaxis12": {
         "anchor": "y12",
         "domain": [
          0.7875,
          1
         ],
         "gridcolor": "#E1E5ED",
         "showgrid": false,
         "tickfont": {
          "color": "#4D5663"
         },
         "title": {
          "font": {
           "color": "#4D5663"
          },
          "text": ""
         },
         "zerolinecolor": "#E1E5ED"
        },
        "xaxis13": {
         "anchor": "y13",
         "domain": [
          0,
          0.2125
         ],
         "gridcolor": "#E1E5ED",
         "showgrid": false,
         "tickfont": {
          "color": "#4D5663"
         },
         "title": {
          "font": {
           "color": "#4D5663"
          },
          "text": ""
         },
         "zerolinecolor": "#E1E5ED"
        },
        "xaxis14": {
         "anchor": "y14",
         "domain": [
          0.2625,
          0.475
         ],
         "gridcolor": "#E1E5ED",
         "showgrid": false,
         "tickfont": {
          "color": "#4D5663"
         },
         "title": {
          "font": {
           "color": "#4D5663"
          },
          "text": ""
         },
         "zerolinecolor": "#E1E5ED"
        },
        "xaxis15": {
         "anchor": "y15",
         "domain": [
          0.525,
          0.7375
         ],
         "gridcolor": "#E1E5ED",
         "showgrid": false,
         "tickfont": {
          "color": "#4D5663"
         },
         "title": {
          "font": {
           "color": "#4D5663"
          },
          "text": ""
         },
         "zerolinecolor": "#E1E5ED"
        },
        "xaxis16": {
         "anchor": "y16",
         "domain": [
          0.7875,
          1
         ],
         "gridcolor": "#E1E5ED",
         "showgrid": false,
         "tickfont": {
          "color": "#4D5663"
         },
         "title": {
          "font": {
           "color": "#4D5663"
          },
          "text": ""
         },
         "zerolinecolor": "#E1E5ED"
        },
        "xaxis2": {
         "anchor": "y2",
         "domain": [
          0.2625,
          0.475
         ],
         "gridcolor": "#E1E5ED",
         "showgrid": false,
         "tickfont": {
          "color": "#4D5663"
         },
         "title": {
          "font": {
           "color": "#4D5663"
          },
          "text": ""
         },
         "zerolinecolor": "#E1E5ED"
        },
        "xaxis3": {
         "anchor": "y3",
         "domain": [
          0.525,
          0.7375
         ],
         "gridcolor": "#E1E5ED",
         "showgrid": false,
         "tickfont": {
          "color": "#4D5663"
         },
         "title": {
          "font": {
           "color": "#4D5663"
          },
          "text": ""
         },
         "zerolinecolor": "#E1E5ED"
        },
        "xaxis4": {
         "anchor": "y4",
         "domain": [
          0.7875,
          1
         ],
         "gridcolor": "#E1E5ED",
         "showgrid": false,
         "tickfont": {
          "color": "#4D5663"
         },
         "title": {
          "font": {
           "color": "#4D5663"
          },
          "text": ""
         },
         "zerolinecolor": "#E1E5ED"
        },
        "xaxis5": {
         "anchor": "y5",
         "domain": [
          0,
          0.2125
         ],
         "gridcolor": "#E1E5ED",
         "showgrid": false,
         "tickfont": {
          "color": "#4D5663"
         },
         "title": {
          "font": {
           "color": "#4D5663"
          },
          "text": ""
         },
         "zerolinecolor": "#E1E5ED"
        },
        "xaxis6": {
         "anchor": "y6",
         "domain": [
          0.2625,
          0.475
         ],
         "gridcolor": "#E1E5ED",
         "showgrid": false,
         "tickfont": {
          "color": "#4D5663"
         },
         "title": {
          "font": {
           "color": "#4D5663"
          },
          "text": ""
         },
         "zerolinecolor": "#E1E5ED"
        },
        "xaxis7": {
         "anchor": "y7",
         "domain": [
          0.525,
          0.7375
         ],
         "gridcolor": "#E1E5ED",
         "showgrid": false,
         "tickfont": {
          "color": "#4D5663"
         },
         "title": {
          "font": {
           "color": "#4D5663"
          },
          "text": ""
         },
         "zerolinecolor": "#E1E5ED"
        },
        "xaxis8": {
         "anchor": "y8",
         "domain": [
          0.7875,
          1
         ],
         "gridcolor": "#E1E5ED",
         "showgrid": false,
         "tickfont": {
          "color": "#4D5663"
         },
         "title": {
          "font": {
           "color": "#4D5663"
          },
          "text": ""
         },
         "zerolinecolor": "#E1E5ED"
        },
        "xaxis9": {
         "anchor": "y9",
         "domain": [
          0,
          0.2125
         ],
         "gridcolor": "#E1E5ED",
         "showgrid": false,
         "tickfont": {
          "color": "#4D5663"
         },
         "title": {
          "font": {
           "color": "#4D5663"
          },
          "text": ""
         },
         "zerolinecolor": "#E1E5ED"
        },
        "yaxis": {
         "anchor": "x",
         "domain": [
          0.8025,
          1
         ],
         "gridcolor": "#E1E5ED",
         "showgrid": false,
         "tickfont": {
          "color": "#4D5663"
         },
         "title": {
          "font": {
           "color": "#4D5663"
          },
          "text": ""
         },
         "zerolinecolor": "#E1E5ED"
        },
        "yaxis10": {
         "anchor": "x10",
         "domain": [
          0.2675,
          0.465
         ],
         "gridcolor": "#E1E5ED",
         "showgrid": false,
         "tickfont": {
          "color": "#4D5663"
         },
         "title": {
          "font": {
           "color": "#4D5663"
          },
          "text": ""
         },
         "zerolinecolor": "#E1E5ED"
        },
        "yaxis11": {
         "anchor": "x11",
         "domain": [
          0.2675,
          0.465
         ],
         "gridcolor": "#E1E5ED",
         "showgrid": false,
         "tickfont": {
          "color": "#4D5663"
         },
         "title": {
          "font": {
           "color": "#4D5663"
          },
          "text": ""
         },
         "zerolinecolor": "#E1E5ED"
        },
        "yaxis12": {
         "anchor": "x12",
         "domain": [
          0.2675,
          0.465
         ],
         "gridcolor": "#E1E5ED",
         "showgrid": false,
         "tickfont": {
          "color": "#4D5663"
         },
         "title": {
          "font": {
           "color": "#4D5663"
          },
          "text": ""
         },
         "zerolinecolor": "#E1E5ED"
        },
        "yaxis13": {
         "anchor": "x13",
         "domain": [
          0,
          0.1975
         ],
         "gridcolor": "#E1E5ED",
         "showgrid": false,
         "tickfont": {
          "color": "#4D5663"
         },
         "title": {
          "font": {
           "color": "#4D5663"
          },
          "text": ""
         },
         "zerolinecolor": "#E1E5ED"
        },
        "yaxis14": {
         "anchor": "x14",
         "domain": [
          0,
          0.1975
         ],
         "gridcolor": "#E1E5ED",
         "showgrid": false,
         "tickfont": {
          "color": "#4D5663"
         },
         "title": {
          "font": {
           "color": "#4D5663"
          },
          "text": ""
         },
         "zerolinecolor": "#E1E5ED"
        },
        "yaxis15": {
         "anchor": "x15",
         "domain": [
          0,
          0.1975
         ],
         "gridcolor": "#E1E5ED",
         "showgrid": false,
         "tickfont": {
          "color": "#4D5663"
         },
         "title": {
          "font": {
           "color": "#4D5663"
          },
          "text": ""
         },
         "zerolinecolor": "#E1E5ED"
        },
        "yaxis16": {
         "anchor": "x16",
         "domain": [
          0,
          0.1975
         ],
         "gridcolor": "#E1E5ED",
         "showgrid": false,
         "tickfont": {
          "color": "#4D5663"
         },
         "title": {
          "font": {
           "color": "#4D5663"
          },
          "text": ""
         },
         "zerolinecolor": "#E1E5ED"
        },
        "yaxis2": {
         "anchor": "x2",
         "domain": [
          0.8025,
          1
         ],
         "gridcolor": "#E1E5ED",
         "showgrid": false,
         "tickfont": {
          "color": "#4D5663"
         },
         "title": {
          "font": {
           "color": "#4D5663"
          },
          "text": ""
         },
         "zerolinecolor": "#E1E5ED"
        },
        "yaxis3": {
         "anchor": "x3",
         "domain": [
          0.8025,
          1
         ],
         "gridcolor": "#E1E5ED",
         "showgrid": false,
         "tickfont": {
          "color": "#4D5663"
         },
         "title": {
          "font": {
           "color": "#4D5663"
          },
          "text": ""
         },
         "zerolinecolor": "#E1E5ED"
        },
        "yaxis4": {
         "anchor": "x4",
         "domain": [
          0.8025,
          1
         ],
         "gridcolor": "#E1E5ED",
         "showgrid": false,
         "tickfont": {
          "color": "#4D5663"
         },
         "title": {
          "font": {
           "color": "#4D5663"
          },
          "text": ""
         },
         "zerolinecolor": "#E1E5ED"
        },
        "yaxis5": {
         "anchor": "x5",
         "domain": [
          0.535,
          0.7325
         ],
         "gridcolor": "#E1E5ED",
         "showgrid": false,
         "tickfont": {
          "color": "#4D5663"
         },
         "title": {
          "font": {
           "color": "#4D5663"
          },
          "text": ""
         },
         "zerolinecolor": "#E1E5ED"
        },
        "yaxis6": {
         "anchor": "x6",
         "domain": [
          0.535,
          0.7325
         ],
         "gridcolor": "#E1E5ED",
         "showgrid": false,
         "tickfont": {
          "color": "#4D5663"
         },
         "title": {
          "font": {
           "color": "#4D5663"
          },
          "text": ""
         },
         "zerolinecolor": "#E1E5ED"
        },
        "yaxis7": {
         "anchor": "x7",
         "domain": [
          0.535,
          0.7325
         ],
         "gridcolor": "#E1E5ED",
         "showgrid": false,
         "tickfont": {
          "color": "#4D5663"
         },
         "title": {
          "font": {
           "color": "#4D5663"
          },
          "text": ""
         },
         "zerolinecolor": "#E1E5ED"
        },
        "yaxis8": {
         "anchor": "x8",
         "domain": [
          0.535,
          0.7325
         ],
         "gridcolor": "#E1E5ED",
         "showgrid": false,
         "tickfont": {
          "color": "#4D5663"
         },
         "title": {
          "font": {
           "color": "#4D5663"
          },
          "text": ""
         },
         "zerolinecolor": "#E1E5ED"
        },
        "yaxis9": {
         "anchor": "x9",
         "domain": [
          0.2675,
          0.465
         ],
         "gridcolor": "#E1E5ED",
         "showgrid": false,
         "tickfont": {
          "color": "#4D5663"
         },
         "title": {
          "font": {
           "color": "#4D5663"
          },
          "text": ""
         },
         "zerolinecolor": "#E1E5ED"
        }
       }
      },
      "text/html": [
       "<div>                            <div id=\"6ad6a732-a6d5-40a2-8dc9-362576371590\" class=\"plotly-graph-div\" style=\"height:525px; width:100%;\"></div>            <script type=\"text/javascript\">                require([\"plotly\"], function(Plotly) {                    window.PLOTLYENV=window.PLOTLYENV || {};\n",
       "                    window.PLOTLYENV.BASE_URL='https://plot.ly';                                    if (document.getElementById(\"6ad6a732-a6d5-40a2-8dc9-362576371590\")) {                    Plotly.newPlot(                        \"6ad6a732-a6d5-40a2-8dc9-362576371590\",                        [{\"histfunc\":\"count\",\"histnorm\":\"\",\"marker\":{\"color\":\"rgba(255, 153, 51, 1.0)\",\"line\":{\"color\":\"#4D5663\",\"width\":1.3}},\"name\":\"A\",\"nbinsx\":10,\"opacity\":0.8,\"orientation\":\"v\",\"x\":[-2.0174340036144773,-0.2982885142503483,-1.1060293398574745,0.47380475815506795,-0.24287698992496476,-1.045477160349408,-1.372571283799824,-0.3708294395405194,0.9296363357643138,1.07539941494939,-0.48860213936065083,0.38462255572792503,0.7316391969826207,0.7056188238429781,0.2272970973273527,1.8973560994467056,-0.08814752662473867,2.853141208328112,1.2606744935729695,-0.19541503270171148,0.33884117599906605,-1.1823804269843323,-0.35818646632962386,-2.1896961807689883,0.4666612471354609,-0.7195595896962929,-1.1022342579753548,-0.4260373014973277,-2.03985628441693,-0.3922675703969572,-0.6393197479525362,1.5070292397184635,1.5427741705080689,-0.36811080320580436,0.7907860507217243,-1.053702929569162,-1.5682815210700976,-1.6899427972979684,-1.1577153310653898,1.201798767024122,0.8139499812781749,1.3396399626499909,-1.592116875741009,-2.108999149725003,-2.414121441285468,-0.7517992912296336,-0.8814484376662446,-0.5636621543249383,-0.4462016022135572,0.7602270527510662,-0.7635312669667638,-0.6085341535104014,-0.6979145854428934,0.15270352881680677,1.5861404333668392,0.4413194748417777,1.1464296196046662,1.6860599838450785,-0.12920519816606357,-1.3166186524763952,0.9527123887974857,-0.0913130377024795,-1.2562092533438431,-1.4599948208670317,0.739600143985171,1.928522171471015,0.8604873721118755,0.5101454894231326,-2.0412817448349676,2.350622092982859,-1.2098096285286442,0.8793405535384373,-0.4127130171433395,-0.9510357246689423,-0.5833425292515129,2.874170539129894,0.6754534679651084,-0.43269432307745,0.6824671403544771,-0.13956406111167266,-1.2539511811434925,-0.9095655979851323,0.5131425131930456,0.2107268324859046,0.9793829033520347,0.05590920125049553,-1.4825906211123527,-0.7655955658418381,-0.9062150294307344,0.2713814492008699,0.4987962451208206,0.8724854785969101,0.04820180158157174,0.22901793866168949,-0.04264546586916472,0.9163280370522656,-0.010155961485463392,-0.9553359158941854,-1.0351518431931523,0.9471899254826112],\"xaxis\":\"x\",\"yaxis\":\"y\",\"type\":\"histogram\"},{\"line\":{\"color\":\"rgba(128, 128, 128, 1.0)\",\"dash\":\"solid\",\"shape\":\"linear\",\"width\":1.3},\"marker\":{\"size\":2,\"symbol\":\"circle\"},\"mode\":\"markers\",\"name\":\"A\",\"text\":\"\",\"x\":[-0.4336314864429535,1.350667166094158,0.43598099590054984,0.6468173769915163,0.06159247962019822,-0.4718946721964237,-0.34718152548498954,-0.1352352933676623,1.772522237853382,1.7932238808421221,0.09877771175165724,0.0712299488526947,-0.04660842611345164,-0.695628193641317,-0.34583211824660304,-0.08662984595296318,0.13793492787300085,-1.4318303754898554,0.5873881902834827,-2.07325722004215,-1.1770281940962717,1.594615146278771,1.2776187822533687,0.47109117398969547,-1.246668759906434,-2.2847460611624406,-1.5826105556937269,-0.811269322851608,0.8799894577447486,0.06415012993297987,-0.7434972189767668,-0.9792866546376444,-0.933045546820726,-2.3622901656782385,0.5563119426536198,-0.19041549241342892,-0.16132840248423033,-0.7338722979209311,-0.3692777802581269,0.1305385223626437,-0.6402633231215187,1.7724921834749274,-1.2351448749489011,-0.5873659331128189,-0.16728748136882754,-0.5602703504822134,1.859960185240759,0.33740918515772517,0.918671162681654,-0.07101790267351826,0.015441559320083337,-1.2031017684144387,-0.3272063740238242,-0.0001744963858636876,0.3103076161179847,-0.199759215966244,0.05146279997451216,-0.18622636023755218,-0.8103233465962649,-1.9275858643732076,-1.1374975146503152,-0.41521538622971427,0.22719945800922248,0.36402755465690834,-0.4526090911338168,0.26012367576625334,-0.22989912094729592,0.5285726171745472,0.9953458174439949,-0.9857712026396995,0.5776873616421779,-0.7424122876243162,-0.5518931892115001,-1.5518844904682583,0.24099518333260084,0.6836961998302244,-1.2015323169619367,1.2802609934383806,1.438639661407647,-0.5851440701662644,0.4603398760447712,0.49137796754968743,-0.33395034853426303,-1.3694143337900495,0.7004766841926477,-0.02776944111056883,-1.7961432780630182,-0.04463245773876887,2.1231966212717746,-1.192852440208722,-1.0474681178086687,-0.7387115531544551,-0.5637437308033575,0.9980152157280872,1.5098614226254685,-0.5438344156823638,0.15937737582332315,-1.2195955310150488,1.0856990332088072,-0.542434730291181],\"xaxis\":\"x2\",\"y\":[-2.0174340036144773,-0.2982885142503483,-1.1060293398574745,0.47380475815506795,-0.24287698992496476,-1.045477160349408,-1.372571283799824,-0.3708294395405194,0.9296363357643138,1.07539941494939,-0.48860213936065083,0.38462255572792503,0.7316391969826207,0.7056188238429781,0.2272970973273527,1.8973560994467056,-0.08814752662473867,2.853141208328112,1.2606744935729695,-0.19541503270171148,0.33884117599906605,-1.1823804269843323,-0.35818646632962386,-2.1896961807689883,0.4666612471354609,-0.7195595896962929,-1.1022342579753548,-0.4260373014973277,-2.03985628441693,-0.3922675703969572,-0.6393197479525362,1.5070292397184635,1.5427741705080689,-0.36811080320580436,0.7907860507217243,-1.053702929569162,-1.5682815210700976,-1.6899427972979684,-1.1577153310653898,1.201798767024122,0.8139499812781749,1.3396399626499909,-1.592116875741009,-2.108999149725003,-2.414121441285468,-0.7517992912296336,-0.8814484376662446,-0.5636621543249383,-0.4462016022135572,0.7602270527510662,-0.7635312669667638,-0.6085341535104014,-0.6979145854428934,0.15270352881680677,1.5861404333668392,0.4413194748417777,1.1464296196046662,1.6860599838450785,-0.12920519816606357,-1.3166186524763952,0.9527123887974857,-0.0913130377024795,-1.2562092533438431,-1.4599948208670317,0.739600143985171,1.928522171471015,0.8604873721118755,0.5101454894231326,-2.0412817448349676,2.350622092982859,-1.2098096285286442,0.8793405535384373,-0.4127130171433395,-0.9510357246689423,-0.5833425292515129,2.874170539129894,0.6754534679651084,-0.43269432307745,0.6824671403544771,-0.13956406111167266,-1.2539511811434925,-0.9095655979851323,0.5131425131930456,0.2107268324859046,0.9793829033520347,0.05590920125049553,-1.4825906211123527,-0.7655955658418381,-0.9062150294307344,0.2713814492008699,0.4987962451208206,0.8724854785969101,0.04820180158157174,0.22901793866168949,-0.04264546586916472,0.9163280370522656,-0.010155961485463392,-0.9553359158941854,-1.0351518431931523,0.9471899254826112],\"yaxis\":\"y2\",\"type\":\"scatter\"},{\"line\":{\"color\":\"rgba(128, 128, 128, 1.0)\",\"dash\":\"solid\",\"shape\":\"linear\",\"width\":1.3},\"marker\":{\"size\":2,\"symbol\":\"circle\"},\"mode\":\"markers\",\"name\":\"A\",\"text\":\"\",\"x\":[0.5199922630907495,0.1830355270282763,0.7338807037118276,-1.728545257297151,0.7168022743874345,0.3343533448736096,1.367568784461105,-1.3231460252968592,-1.1749318802696305,-0.6481630365252634,-1.1420800226206975,-0.9615142362127238,-0.0452134271995858,1.4659734891639267,-0.9045681334699083,-1.1910542220933276,0.1837325385010415,-1.411109124645375,-1.136955351461367,-1.8347047274835042,-1.022155266979853,-0.2544273155503784,-0.21822601111445641,-0.5036600573084827,0.046035202553452136,-0.1496112217772252,-0.028209682763141536,-1.142726266593265,-2.0960811888623643,0.05053876236196913,3.0272968829495124,-0.06278096687767033,0.018552679633553757,0.1539366907347957,-0.134862543914076,-0.5373177369861782,0.21806512288273258,0.6808733116465462,-0.4597391591651445,0.9714359016000198,-0.34594030850288865,0.3359585191357947,-1.434357536288188,-0.6454390647001046,1.534720131130264,-1.331103768060012,-0.6687366119939376,1.304139576727922,-1.8132712606461807,0.8503059053334987,-0.2981495600111228,-0.060369774916276694,0.7494397256888057,0.22786020381595087,0.8111852375948235,0.45557169646498424,0.6509407911744212,0.535837548999383,0.058653266158075444,0.47259502040126566,-1.3380608588971012,-1.0214834676430626,-0.9998203108618948,-1.149023019762514,2.2523743166374843,1.2555027389653908,-0.3726643016479303,0.31203124203188326,1.4888712219329372,1.6134635549541745,0.21745550905515545,1.6471701788707174,0.6116557938467,0.416422488935641,-1.7584717424175733,-1.0074430159686674,-0.6759265033821549,-1.5798853727489461,0.37208733583223114,-0.9219938544398251,0.14012672286259512,2.1114977132624637,0.6156311912399872,1.479888066297275,2.3304288496837566,-1.6327940805130743,-1.440517700603669,-2.992625300505153,-0.649441935687668,-0.059502032629949374,2.702329118857002,-1.2033079124282626,0.0884111127119533,1.7455290528280512,-0.9142233168065622,1.380725105275451,0.007963640867254478,0.12313920273107667,-1.230546884593442,-1.095688282805866],\"xaxis\":\"x3\",\"y\":[-2.0174340036144773,-0.2982885142503483,-1.1060293398574745,0.47380475815506795,-0.24287698992496476,-1.045477160349408,-1.372571283799824,-0.3708294395405194,0.9296363357643138,1.07539941494939,-0.48860213936065083,0.38462255572792503,0.7316391969826207,0.7056188238429781,0.2272970973273527,1.8973560994467056,-0.08814752662473867,2.853141208328112,1.2606744935729695,-0.19541503270171148,0.33884117599906605,-1.1823804269843323,-0.35818646632962386,-2.1896961807689883,0.4666612471354609,-0.7195595896962929,-1.1022342579753548,-0.4260373014973277,-2.03985628441693,-0.3922675703969572,-0.6393197479525362,1.5070292397184635,1.5427741705080689,-0.36811080320580436,0.7907860507217243,-1.053702929569162,-1.5682815210700976,-1.6899427972979684,-1.1577153310653898,1.201798767024122,0.8139499812781749,1.3396399626499909,-1.592116875741009,-2.108999149725003,-2.414121441285468,-0.7517992912296336,-0.8814484376662446,-0.5636621543249383,-0.4462016022135572,0.7602270527510662,-0.7635312669667638,-0.6085341535104014,-0.6979145854428934,0.15270352881680677,1.5861404333668392,0.4413194748417777,1.1464296196046662,1.6860599838450785,-0.12920519816606357,-1.3166186524763952,0.9527123887974857,-0.0913130377024795,-1.2562092533438431,-1.4599948208670317,0.739600143985171,1.928522171471015,0.8604873721118755,0.5101454894231326,-2.0412817448349676,2.350622092982859,-1.2098096285286442,0.8793405535384373,-0.4127130171433395,-0.9510357246689423,-0.5833425292515129,2.874170539129894,0.6754534679651084,-0.43269432307745,0.6824671403544771,-0.13956406111167266,-1.2539511811434925,-0.9095655979851323,0.5131425131930456,0.2107268324859046,0.9793829033520347,0.05590920125049553,-1.4825906211123527,-0.7655955658418381,-0.9062150294307344,0.2713814492008699,0.4987962451208206,0.8724854785969101,0.04820180158157174,0.22901793866168949,-0.04264546586916472,0.9163280370522656,-0.010155961485463392,-0.9553359158941854,-1.0351518431931523,0.9471899254826112],\"yaxis\":\"y3\",\"type\":\"scatter\"},{\"line\":{\"color\":\"rgba(128, 128, 128, 1.0)\",\"dash\":\"solid\",\"shape\":\"linear\",\"width\":1.3},\"marker\":{\"size\":2,\"symbol\":\"circle\"},\"mode\":\"markers\",\"name\":\"A\",\"text\":\"\",\"x\":[0.3087242940760484,-2.892920710993179,0.29755680760134023,-0.4537198687874928,0.4091428918535154,-0.5911585079707464,1.2837558388647552,-1.196327628603834,1.0089734959700447,-0.1578035162705574,-0.4986640630344464,0.8252364225226217,1.6861646626147668,0.23963447426904727,0.7641530316879358,-0.7689390705139726,1.1584556024203354,1.1360891736184686,0.009474268435621989,-0.06682386148577549,0.555353509483653,0.7333168575641268,2.098244820081542,-0.7944249098537421,1.4387239479593779,-0.4515833646085028,-1.9352520647895797,-2.049553912885645,-1.2540247569355452,0.5430137866149007,-0.31587328134723097,1.6814974048406721,-0.4206398739726167,0.5992298023947051,-1.0120089497419704,0.2997543410309787,1.2357180906828362,0.41511198706310415,1.811713654798116,-0.3253060298179894,-0.9289560752940552,0.1608610104861535,-1.1924543747439782,0.5513907525949097,0.20551765048712142,1.3756968022467897,-0.7072715173974367,1.5185818130429565,-0.4693010381594284,-0.809846037988664,-0.09078018476417095,0.012713682354540578,0.2610668997971832,-2.7022175291637685,0.4012364716342121,-0.7728524233638323,-1.8511381406173124,0.651157946355602,0.22335055826153472,-0.41596698883675215,1.7294039411584106,-0.995924445608059,0.7882627429142489,1.2863779417748025,0.32966840365706734,0.5777746168164748,-1.0398609590570271,0.5711772366363843,-0.468436443040119,1.1284915691417101,0.2904286363391695,-0.5636855185258286,0.3736149212568452,-0.33682320469314836,0.9000438298583542,0.3801388237787824,0.7183473441906332,-0.9784587147441306,-0.40902944086318,0.13100305557281391,-0.34492148658442934,-0.002431809166469376,-0.5059304901101217,0.9653255252501207,-0.8914391155462259,0.3860940733112024,0.3834056512334579,0.33545236667254646,0.7660612229706408,-0.16928256065585887,0.3847440085949903,0.44520055820183524,0.6969785207430066,0.3054280947354089,-1.1541863065851823,0.9808009213359595,-0.2608278857259081,0.04611588232013331,0.9278158849994778,0.43077265880049],\"xaxis\":\"x4\",\"y\":[-2.0174340036144773,-0.2982885142503483,-1.1060293398574745,0.47380475815506795,-0.24287698992496476,-1.045477160349408,-1.372571283799824,-0.3708294395405194,0.9296363357643138,1.07539941494939,-0.48860213936065083,0.38462255572792503,0.7316391969826207,0.7056188238429781,0.2272970973273527,1.8973560994467056,-0.08814752662473867,2.853141208328112,1.2606744935729695,-0.19541503270171148,0.33884117599906605,-1.1823804269843323,-0.35818646632962386,-2.1896961807689883,0.4666612471354609,-0.7195595896962929,-1.1022342579753548,-0.4260373014973277,-2.03985628441693,-0.3922675703969572,-0.6393197479525362,1.5070292397184635,1.5427741705080689,-0.36811080320580436,0.7907860507217243,-1.053702929569162,-1.5682815210700976,-1.6899427972979684,-1.1577153310653898,1.201798767024122,0.8139499812781749,1.3396399626499909,-1.592116875741009,-2.108999149725003,-2.414121441285468,-0.7517992912296336,-0.8814484376662446,-0.5636621543249383,-0.4462016022135572,0.7602270527510662,-0.7635312669667638,-0.6085341535104014,-0.6979145854428934,0.15270352881680677,1.5861404333668392,0.4413194748417777,1.1464296196046662,1.6860599838450785,-0.12920519816606357,-1.3166186524763952,0.9527123887974857,-0.0913130377024795,-1.2562092533438431,-1.4599948208670317,0.739600143985171,1.928522171471015,0.8604873721118755,0.5101454894231326,-2.0412817448349676,2.350622092982859,-1.2098096285286442,0.8793405535384373,-0.4127130171433395,-0.9510357246689423,-0.5833425292515129,2.874170539129894,0.6754534679651084,-0.43269432307745,0.6824671403544771,-0.13956406111167266,-1.2539511811434925,-0.9095655979851323,0.5131425131930456,0.2107268324859046,0.9793829033520347,0.05590920125049553,-1.4825906211123527,-0.7655955658418381,-0.9062150294307344,0.2713814492008699,0.4987962451208206,0.8724854785969101,0.04820180158157174,0.22901793866168949,-0.04264546586916472,0.9163280370522656,-0.010155961485463392,-0.9553359158941854,-1.0351518431931523,0.9471899254826112],\"yaxis\":\"y4\",\"type\":\"scatter\"},{\"line\":{\"color\":\"rgba(128, 128, 128, 1.0)\",\"dash\":\"solid\",\"shape\":\"linear\",\"width\":1.3},\"marker\":{\"size\":2,\"symbol\":\"circle\"},\"mode\":\"markers\",\"name\":\"B\",\"text\":\"\",\"x\":[-2.0174340036144773,-0.2982885142503483,-1.1060293398574745,0.47380475815506795,-0.24287698992496476,-1.045477160349408,-1.372571283799824,-0.3708294395405194,0.9296363357643138,1.07539941494939,-0.48860213936065083,0.38462255572792503,0.7316391969826207,0.7056188238429781,0.2272970973273527,1.8973560994467056,-0.08814752662473867,2.853141208328112,1.2606744935729695,-0.19541503270171148,0.33884117599906605,-1.1823804269843323,-0.35818646632962386,-2.1896961807689883,0.4666612471354609,-0.7195595896962929,-1.1022342579753548,-0.4260373014973277,-2.03985628441693,-0.3922675703969572,-0.6393197479525362,1.5070292397184635,1.5427741705080689,-0.36811080320580436,0.7907860507217243,-1.053702929569162,-1.5682815210700976,-1.6899427972979684,-1.1577153310653898,1.201798767024122,0.8139499812781749,1.3396399626499909,-1.592116875741009,-2.108999149725003,-2.414121441285468,-0.7517992912296336,-0.8814484376662446,-0.5636621543249383,-0.4462016022135572,0.7602270527510662,-0.7635312669667638,-0.6085341535104014,-0.6979145854428934,0.15270352881680677,1.5861404333668392,0.4413194748417777,1.1464296196046662,1.6860599838450785,-0.12920519816606357,-1.3166186524763952,0.9527123887974857,-0.0913130377024795,-1.2562092533438431,-1.4599948208670317,0.739600143985171,1.928522171471015,0.8604873721118755,0.5101454894231326,-2.0412817448349676,2.350622092982859,-1.2098096285286442,0.8793405535384373,-0.4127130171433395,-0.9510357246689423,-0.5833425292515129,2.874170539129894,0.6754534679651084,-0.43269432307745,0.6824671403544771,-0.13956406111167266,-1.2539511811434925,-0.9095655979851323,0.5131425131930456,0.2107268324859046,0.9793829033520347,0.05590920125049553,-1.4825906211123527,-0.7655955658418381,-0.9062150294307344,0.2713814492008699,0.4987962451208206,0.8724854785969101,0.04820180158157174,0.22901793866168949,-0.04264546586916472,0.9163280370522656,-0.010155961485463392,-0.9553359158941854,-1.0351518431931523,0.9471899254826112],\"xaxis\":\"x5\",\"y\":[-0.4336314864429535,1.350667166094158,0.43598099590054984,0.6468173769915163,0.06159247962019822,-0.4718946721964237,-0.34718152548498954,-0.1352352933676623,1.772522237853382,1.7932238808421221,0.09877771175165724,0.0712299488526947,-0.04660842611345164,-0.695628193641317,-0.34583211824660304,-0.08662984595296318,0.13793492787300085,-1.4318303754898554,0.5873881902834827,-2.07325722004215,-1.1770281940962717,1.594615146278771,1.2776187822533687,0.47109117398969547,-1.246668759906434,-2.2847460611624406,-1.5826105556937269,-0.811269322851608,0.8799894577447486,0.06415012993297987,-0.7434972189767668,-0.9792866546376444,-0.933045546820726,-2.3622901656782385,0.5563119426536198,-0.19041549241342892,-0.16132840248423033,-0.7338722979209311,-0.3692777802581269,0.1305385223626437,-0.6402633231215187,1.7724921834749274,-1.2351448749489011,-0.5873659331128189,-0.16728748136882754,-0.5602703504822134,1.859960185240759,0.33740918515772517,0.918671162681654,-0.07101790267351826,0.015441559320083337,-1.2031017684144387,-0.3272063740238242,-0.0001744963858636876,0.3103076161179847,-0.199759215966244,0.05146279997451216,-0.18622636023755218,-0.8103233465962649,-1.9275858643732076,-1.1374975146503152,-0.41521538622971427,0.22719945800922248,0.36402755465690834,-0.4526090911338168,0.26012367576625334,-0.22989912094729592,0.5285726171745472,0.9953458174439949,-0.9857712026396995,0.5776873616421779,-0.7424122876243162,-0.5518931892115001,-1.5518844904682583,0.24099518333260084,0.6836961998302244,-1.2015323169619367,1.2802609934383806,1.438639661407647,-0.5851440701662644,0.4603398760447712,0.49137796754968743,-0.33395034853426303,-1.3694143337900495,0.7004766841926477,-0.02776944111056883,-1.7961432780630182,-0.04463245773876887,2.1231966212717746,-1.192852440208722,-1.0474681178086687,-0.7387115531544551,-0.5637437308033575,0.9980152157280872,1.5098614226254685,-0.5438344156823638,0.15937737582332315,-1.2195955310150488,1.0856990332088072,-0.542434730291181],\"yaxis\":\"y5\",\"type\":\"scatter\"},{\"histfunc\":\"count\",\"histnorm\":\"\",\"marker\":{\"color\":\"rgba(55, 128, 191, 1.0)\",\"line\":{\"color\":\"#4D5663\",\"width\":1.3}},\"name\":\"B\",\"nbinsx\":10,\"opacity\":0.8,\"orientation\":\"v\",\"x\":[-0.4336314864429535,1.350667166094158,0.43598099590054984,0.6468173769915163,0.06159247962019822,-0.4718946721964237,-0.34718152548498954,-0.1352352933676623,1.772522237853382,1.7932238808421221,0.09877771175165724,0.0712299488526947,-0.04660842611345164,-0.695628193641317,-0.34583211824660304,-0.08662984595296318,0.13793492787300085,-1.4318303754898554,0.5873881902834827,-2.07325722004215,-1.1770281940962717,1.594615146278771,1.2776187822533687,0.47109117398969547,-1.246668759906434,-2.2847460611624406,-1.5826105556937269,-0.811269322851608,0.8799894577447486,0.06415012993297987,-0.7434972189767668,-0.9792866546376444,-0.933045546820726,-2.3622901656782385,0.5563119426536198,-0.19041549241342892,-0.16132840248423033,-0.7338722979209311,-0.3692777802581269,0.1305385223626437,-0.6402633231215187,1.7724921834749274,-1.2351448749489011,-0.5873659331128189,-0.16728748136882754,-0.5602703504822134,1.859960185240759,0.33740918515772517,0.918671162681654,-0.07101790267351826,0.015441559320083337,-1.2031017684144387,-0.3272063740238242,-0.0001744963858636876,0.3103076161179847,-0.199759215966244,0.05146279997451216,-0.18622636023755218,-0.8103233465962649,-1.9275858643732076,-1.1374975146503152,-0.41521538622971427,0.22719945800922248,0.36402755465690834,-0.4526090911338168,0.26012367576625334,-0.22989912094729592,0.5285726171745472,0.9953458174439949,-0.9857712026396995,0.5776873616421779,-0.7424122876243162,-0.5518931892115001,-1.5518844904682583,0.24099518333260084,0.6836961998302244,-1.2015323169619367,1.2802609934383806,1.438639661407647,-0.5851440701662644,0.4603398760447712,0.49137796754968743,-0.33395034853426303,-1.3694143337900495,0.7004766841926477,-0.02776944111056883,-1.7961432780630182,-0.04463245773876887,2.1231966212717746,-1.192852440208722,-1.0474681178086687,-0.7387115531544551,-0.5637437308033575,0.9980152157280872,1.5098614226254685,-0.5438344156823638,0.15937737582332315,-1.2195955310150488,1.0856990332088072,-0.542434730291181],\"xaxis\":\"x6\",\"yaxis\":\"y6\",\"type\":\"histogram\"},{\"line\":{\"color\":\"rgba(128, 128, 128, 1.0)\",\"dash\":\"solid\",\"shape\":\"linear\",\"width\":1.3},\"marker\":{\"size\":2,\"symbol\":\"circle\"},\"mode\":\"markers\",\"name\":\"B\",\"text\":\"\",\"x\":[0.5199922630907495,0.1830355270282763,0.7338807037118276,-1.728545257297151,0.7168022743874345,0.3343533448736096,1.367568784461105,-1.3231460252968592,-1.1749318802696305,-0.6481630365252634,-1.1420800226206975,-0.9615142362127238,-0.0452134271995858,1.4659734891639267,-0.9045681334699083,-1.1910542220933276,0.1837325385010415,-1.411109124645375,-1.136955351461367,-1.8347047274835042,-1.022155266979853,-0.2544273155503784,-0.21822601111445641,-0.5036600573084827,0.046035202553452136,-0.1496112217772252,-0.028209682763141536,-1.142726266593265,-2.0960811888623643,0.05053876236196913,3.0272968829495124,-0.06278096687767033,0.018552679633553757,0.1539366907347957,-0.134862543914076,-0.5373177369861782,0.21806512288273258,0.6808733116465462,-0.4597391591651445,0.9714359016000198,-0.34594030850288865,0.3359585191357947,-1.434357536288188,-0.6454390647001046,1.534720131130264,-1.331103768060012,-0.6687366119939376,1.304139576727922,-1.8132712606461807,0.8503059053334987,-0.2981495600111228,-0.060369774916276694,0.7494397256888057,0.22786020381595087,0.8111852375948235,0.45557169646498424,0.6509407911744212,0.535837548999383,0.058653266158075444,0.47259502040126566,-1.3380608588971012,-1.0214834676430626,-0.9998203108618948,-1.149023019762514,2.2523743166374843,1.2555027389653908,-0.3726643016479303,0.31203124203188326,1.4888712219329372,1.6134635549541745,0.21745550905515545,1.6471701788707174,0.6116557938467,0.416422488935641,-1.7584717424175733,-1.0074430159686674,-0.6759265033821549,-1.5798853727489461,0.37208733583223114,-0.9219938544398251,0.14012672286259512,2.1114977132624637,0.6156311912399872,1.479888066297275,2.3304288496837566,-1.6327940805130743,-1.440517700603669,-2.992625300505153,-0.649441935687668,-0.059502032629949374,2.702329118857002,-1.2033079124282626,0.0884111127119533,1.7455290528280512,-0.9142233168065622,1.380725105275451,0.007963640867254478,0.12313920273107667,-1.230546884593442,-1.095688282805866],\"xaxis\":\"x7\",\"y\":[-0.4336314864429535,1.350667166094158,0.43598099590054984,0.6468173769915163,0.06159247962019822,-0.4718946721964237,-0.34718152548498954,-0.1352352933676623,1.772522237853382,1.7932238808421221,0.09877771175165724,0.0712299488526947,-0.04660842611345164,-0.695628193641317,-0.34583211824660304,-0.08662984595296318,0.13793492787300085,-1.4318303754898554,0.5873881902834827,-2.07325722004215,-1.1770281940962717,1.594615146278771,1.2776187822533687,0.47109117398969547,-1.246668759906434,-2.2847460611624406,-1.5826105556937269,-0.811269322851608,0.8799894577447486,0.06415012993297987,-0.7434972189767668,-0.9792866546376444,-0.933045546820726,-2.3622901656782385,0.5563119426536198,-0.19041549241342892,-0.16132840248423033,-0.7338722979209311,-0.3692777802581269,0.1305385223626437,-0.6402633231215187,1.7724921834749274,-1.2351448749489011,-0.5873659331128189,-0.16728748136882754,-0.5602703504822134,1.859960185240759,0.33740918515772517,0.918671162681654,-0.07101790267351826,0.015441559320083337,-1.2031017684144387,-0.3272063740238242,-0.0001744963858636876,0.3103076161179847,-0.199759215966244,0.05146279997451216,-0.18622636023755218,-0.8103233465962649,-1.9275858643732076,-1.1374975146503152,-0.41521538622971427,0.22719945800922248,0.36402755465690834,-0.4526090911338168,0.26012367576625334,-0.22989912094729592,0.5285726171745472,0.9953458174439949,-0.9857712026396995,0.5776873616421779,-0.7424122876243162,-0.5518931892115001,-1.5518844904682583,0.24099518333260084,0.6836961998302244,-1.2015323169619367,1.2802609934383806,1.438639661407647,-0.5851440701662644,0.4603398760447712,0.49137796754968743,-0.33395034853426303,-1.3694143337900495,0.7004766841926477,-0.02776944111056883,-1.7961432780630182,-0.04463245773876887,2.1231966212717746,-1.192852440208722,-1.0474681178086687,-0.7387115531544551,-0.5637437308033575,0.9980152157280872,1.5098614226254685,-0.5438344156823638,0.15937737582332315,-1.2195955310150488,1.0856990332088072,-0.542434730291181],\"yaxis\":\"y7\",\"type\":\"scatter\"},{\"line\":{\"color\":\"rgba(128, 128, 128, 1.0)\",\"dash\":\"solid\",\"shape\":\"linear\",\"width\":1.3},\"marker\":{\"size\":2,\"symbol\":\"circle\"},\"mode\":\"markers\",\"name\":\"B\",\"text\":\"\",\"x\":[0.3087242940760484,-2.892920710993179,0.29755680760134023,-0.4537198687874928,0.4091428918535154,-0.5911585079707464,1.2837558388647552,-1.196327628603834,1.0089734959700447,-0.1578035162705574,-0.4986640630344464,0.8252364225226217,1.6861646626147668,0.23963447426904727,0.7641530316879358,-0.7689390705139726,1.1584556024203354,1.1360891736184686,0.009474268435621989,-0.06682386148577549,0.555353509483653,0.7333168575641268,2.098244820081542,-0.7944249098537421,1.4387239479593779,-0.4515833646085028,-1.9352520647895797,-2.049553912885645,-1.2540247569355452,0.5430137866149007,-0.31587328134723097,1.6814974048406721,-0.4206398739726167,0.5992298023947051,-1.0120089497419704,0.2997543410309787,1.2357180906828362,0.41511198706310415,1.811713654798116,-0.3253060298179894,-0.9289560752940552,0.1608610104861535,-1.1924543747439782,0.5513907525949097,0.20551765048712142,1.3756968022467897,-0.7072715173974367,1.5185818130429565,-0.4693010381594284,-0.809846037988664,-0.09078018476417095,0.012713682354540578,0.2610668997971832,-2.7022175291637685,0.4012364716342121,-0.7728524233638323,-1.8511381406173124,0.651157946355602,0.22335055826153472,-0.41596698883675215,1.7294039411584106,-0.995924445608059,0.7882627429142489,1.2863779417748025,0.32966840365706734,0.5777746168164748,-1.0398609590570271,0.5711772366363843,-0.468436443040119,1.1284915691417101,0.2904286363391695,-0.5636855185258286,0.3736149212568452,-0.33682320469314836,0.9000438298583542,0.3801388237787824,0.7183473441906332,-0.9784587147441306,-0.40902944086318,0.13100305557281391,-0.34492148658442934,-0.002431809166469376,-0.5059304901101217,0.9653255252501207,-0.8914391155462259,0.3860940733112024,0.3834056512334579,0.33545236667254646,0.7660612229706408,-0.16928256065585887,0.3847440085949903,0.44520055820183524,0.6969785207430066,0.3054280947354089,-1.1541863065851823,0.9808009213359595,-0.2608278857259081,0.04611588232013331,0.9278158849994778,0.43077265880049],\"xaxis\":\"x8\",\"y\":[-0.4336314864429535,1.350667166094158,0.43598099590054984,0.6468173769915163,0.06159247962019822,-0.4718946721964237,-0.34718152548498954,-0.1352352933676623,1.772522237853382,1.7932238808421221,0.09877771175165724,0.0712299488526947,-0.04660842611345164,-0.695628193641317,-0.34583211824660304,-0.08662984595296318,0.13793492787300085,-1.4318303754898554,0.5873881902834827,-2.07325722004215,-1.1770281940962717,1.594615146278771,1.2776187822533687,0.47109117398969547,-1.246668759906434,-2.2847460611624406,-1.5826105556937269,-0.811269322851608,0.8799894577447486,0.06415012993297987,-0.7434972189767668,-0.9792866546376444,-0.933045546820726,-2.3622901656782385,0.5563119426536198,-0.19041549241342892,-0.16132840248423033,-0.7338722979209311,-0.3692777802581269,0.1305385223626437,-0.6402633231215187,1.7724921834749274,-1.2351448749489011,-0.5873659331128189,-0.16728748136882754,-0.5602703504822134,1.859960185240759,0.33740918515772517,0.918671162681654,-0.07101790267351826,0.015441559320083337,-1.2031017684144387,-0.3272063740238242,-0.0001744963858636876,0.3103076161179847,-0.199759215966244,0.05146279997451216,-0.18622636023755218,-0.8103233465962649,-1.9275858643732076,-1.1374975146503152,-0.41521538622971427,0.22719945800922248,0.36402755465690834,-0.4526090911338168,0.26012367576625334,-0.22989912094729592,0.5285726171745472,0.9953458174439949,-0.9857712026396995,0.5776873616421779,-0.7424122876243162,-0.5518931892115001,-1.5518844904682583,0.24099518333260084,0.6836961998302244,-1.2015323169619367,1.2802609934383806,1.438639661407647,-0.5851440701662644,0.4603398760447712,0.49137796754968743,-0.33395034853426303,-1.3694143337900495,0.7004766841926477,-0.02776944111056883,-1.7961432780630182,-0.04463245773876887,2.1231966212717746,-1.192852440208722,-1.0474681178086687,-0.7387115531544551,-0.5637437308033575,0.9980152157280872,1.5098614226254685,-0.5438344156823638,0.15937737582332315,-1.2195955310150488,1.0856990332088072,-0.542434730291181],\"yaxis\":\"y8\",\"type\":\"scatter\"},{\"line\":{\"color\":\"rgba(128, 128, 128, 1.0)\",\"dash\":\"solid\",\"shape\":\"linear\",\"width\":1.3},\"marker\":{\"size\":2,\"symbol\":\"circle\"},\"mode\":\"markers\",\"name\":\"C\",\"text\":\"\",\"x\":[-2.0174340036144773,-0.2982885142503483,-1.1060293398574745,0.47380475815506795,-0.24287698992496476,-1.045477160349408,-1.372571283799824,-0.3708294395405194,0.9296363357643138,1.07539941494939,-0.48860213936065083,0.38462255572792503,0.7316391969826207,0.7056188238429781,0.2272970973273527,1.8973560994467056,-0.08814752662473867,2.853141208328112,1.2606744935729695,-0.19541503270171148,0.33884117599906605,-1.1823804269843323,-0.35818646632962386,-2.1896961807689883,0.4666612471354609,-0.7195595896962929,-1.1022342579753548,-0.4260373014973277,-2.03985628441693,-0.3922675703969572,-0.6393197479525362,1.5070292397184635,1.5427741705080689,-0.36811080320580436,0.7907860507217243,-1.053702929569162,-1.5682815210700976,-1.6899427972979684,-1.1577153310653898,1.201798767024122,0.8139499812781749,1.3396399626499909,-1.592116875741009,-2.108999149725003,-2.414121441285468,-0.7517992912296336,-0.8814484376662446,-0.5636621543249383,-0.4462016022135572,0.7602270527510662,-0.7635312669667638,-0.6085341535104014,-0.6979145854428934,0.15270352881680677,1.5861404333668392,0.4413194748417777,1.1464296196046662,1.6860599838450785,-0.12920519816606357,-1.3166186524763952,0.9527123887974857,-0.0913130377024795,-1.2562092533438431,-1.4599948208670317,0.739600143985171,1.928522171471015,0.8604873721118755,0.5101454894231326,-2.0412817448349676,2.350622092982859,-1.2098096285286442,0.8793405535384373,-0.4127130171433395,-0.9510357246689423,-0.5833425292515129,2.874170539129894,0.6754534679651084,-0.43269432307745,0.6824671403544771,-0.13956406111167266,-1.2539511811434925,-0.9095655979851323,0.5131425131930456,0.2107268324859046,0.9793829033520347,0.05590920125049553,-1.4825906211123527,-0.7655955658418381,-0.9062150294307344,0.2713814492008699,0.4987962451208206,0.8724854785969101,0.04820180158157174,0.22901793866168949,-0.04264546586916472,0.9163280370522656,-0.010155961485463392,-0.9553359158941854,-1.0351518431931523,0.9471899254826112],\"xaxis\":\"x9\",\"y\":[0.5199922630907495,0.1830355270282763,0.7338807037118276,-1.728545257297151,0.7168022743874345,0.3343533448736096,1.367568784461105,-1.3231460252968592,-1.1749318802696305,-0.6481630365252634,-1.1420800226206975,-0.9615142362127238,-0.0452134271995858,1.4659734891639267,-0.9045681334699083,-1.1910542220933276,0.1837325385010415,-1.411109124645375,-1.136955351461367,-1.8347047274835042,-1.022155266979853,-0.2544273155503784,-0.21822601111445641,-0.5036600573084827,0.046035202553452136,-0.1496112217772252,-0.028209682763141536,-1.142726266593265,-2.0960811888623643,0.05053876236196913,3.0272968829495124,-0.06278096687767033,0.018552679633553757,0.1539366907347957,-0.134862543914076,-0.5373177369861782,0.21806512288273258,0.6808733116465462,-0.4597391591651445,0.9714359016000198,-0.34594030850288865,0.3359585191357947,-1.434357536288188,-0.6454390647001046,1.534720131130264,-1.331103768060012,-0.6687366119939376,1.304139576727922,-1.8132712606461807,0.8503059053334987,-0.2981495600111228,-0.060369774916276694,0.7494397256888057,0.22786020381595087,0.8111852375948235,0.45557169646498424,0.6509407911744212,0.535837548999383,0.058653266158075444,0.47259502040126566,-1.3380608588971012,-1.0214834676430626,-0.9998203108618948,-1.149023019762514,2.2523743166374843,1.2555027389653908,-0.3726643016479303,0.31203124203188326,1.4888712219329372,1.6134635549541745,0.21745550905515545,1.6471701788707174,0.6116557938467,0.416422488935641,-1.7584717424175733,-1.0074430159686674,-0.6759265033821549,-1.5798853727489461,0.37208733583223114,-0.9219938544398251,0.14012672286259512,2.1114977132624637,0.6156311912399872,1.479888066297275,2.3304288496837566,-1.6327940805130743,-1.440517700603669,-2.992625300505153,-0.649441935687668,-0.059502032629949374,2.702329118857002,-1.2033079124282626,0.0884111127119533,1.7455290528280512,-0.9142233168065622,1.380725105275451,0.007963640867254478,0.12313920273107667,-1.230546884593442,-1.095688282805866],\"yaxis\":\"y9\",\"type\":\"scatter\"},{\"line\":{\"color\":\"rgba(128, 128, 128, 1.0)\",\"dash\":\"solid\",\"shape\":\"linear\",\"width\":1.3},\"marker\":{\"size\":2,\"symbol\":\"circle\"},\"mode\":\"markers\",\"name\":\"C\",\"text\":\"\",\"x\":[-0.4336314864429535,1.350667166094158,0.43598099590054984,0.6468173769915163,0.06159247962019822,-0.4718946721964237,-0.34718152548498954,-0.1352352933676623,1.772522237853382,1.7932238808421221,0.09877771175165724,0.0712299488526947,-0.04660842611345164,-0.695628193641317,-0.34583211824660304,-0.08662984595296318,0.13793492787300085,-1.4318303754898554,0.5873881902834827,-2.07325722004215,-1.1770281940962717,1.594615146278771,1.2776187822533687,0.47109117398969547,-1.246668759906434,-2.2847460611624406,-1.5826105556937269,-0.811269322851608,0.8799894577447486,0.06415012993297987,-0.7434972189767668,-0.9792866546376444,-0.933045546820726,-2.3622901656782385,0.5563119426536198,-0.19041549241342892,-0.16132840248423033,-0.7338722979209311,-0.3692777802581269,0.1305385223626437,-0.6402633231215187,1.7724921834749274,-1.2351448749489011,-0.5873659331128189,-0.16728748136882754,-0.5602703504822134,1.859960185240759,0.33740918515772517,0.918671162681654,-0.07101790267351826,0.015441559320083337,-1.2031017684144387,-0.3272063740238242,-0.0001744963858636876,0.3103076161179847,-0.199759215966244,0.05146279997451216,-0.18622636023755218,-0.8103233465962649,-1.9275858643732076,-1.1374975146503152,-0.41521538622971427,0.22719945800922248,0.36402755465690834,-0.4526090911338168,0.26012367576625334,-0.22989912094729592,0.5285726171745472,0.9953458174439949,-0.9857712026396995,0.5776873616421779,-0.7424122876243162,-0.5518931892115001,-1.5518844904682583,0.24099518333260084,0.6836961998302244,-1.2015323169619367,1.2802609934383806,1.438639661407647,-0.5851440701662644,0.4603398760447712,0.49137796754968743,-0.33395034853426303,-1.3694143337900495,0.7004766841926477,-0.02776944111056883,-1.7961432780630182,-0.04463245773876887,2.1231966212717746,-1.192852440208722,-1.0474681178086687,-0.7387115531544551,-0.5637437308033575,0.9980152157280872,1.5098614226254685,-0.5438344156823638,0.15937737582332315,-1.2195955310150488,1.0856990332088072,-0.542434730291181],\"xaxis\":\"x10\",\"y\":[0.5199922630907495,0.1830355270282763,0.7338807037118276,-1.728545257297151,0.7168022743874345,0.3343533448736096,1.367568784461105,-1.3231460252968592,-1.1749318802696305,-0.6481630365252634,-1.1420800226206975,-0.9615142362127238,-0.0452134271995858,1.4659734891639267,-0.9045681334699083,-1.1910542220933276,0.1837325385010415,-1.411109124645375,-1.136955351461367,-1.8347047274835042,-1.022155266979853,-0.2544273155503784,-0.21822601111445641,-0.5036600573084827,0.046035202553452136,-0.1496112217772252,-0.028209682763141536,-1.142726266593265,-2.0960811888623643,0.05053876236196913,3.0272968829495124,-0.06278096687767033,0.018552679633553757,0.1539366907347957,-0.134862543914076,-0.5373177369861782,0.21806512288273258,0.6808733116465462,-0.4597391591651445,0.9714359016000198,-0.34594030850288865,0.3359585191357947,-1.434357536288188,-0.6454390647001046,1.534720131130264,-1.331103768060012,-0.6687366119939376,1.304139576727922,-1.8132712606461807,0.8503059053334987,-0.2981495600111228,-0.060369774916276694,0.7494397256888057,0.22786020381595087,0.8111852375948235,0.45557169646498424,0.6509407911744212,0.535837548999383,0.058653266158075444,0.47259502040126566,-1.3380608588971012,-1.0214834676430626,-0.9998203108618948,-1.149023019762514,2.2523743166374843,1.2555027389653908,-0.3726643016479303,0.31203124203188326,1.4888712219329372,1.6134635549541745,0.21745550905515545,1.6471701788707174,0.6116557938467,0.416422488935641,-1.7584717424175733,-1.0074430159686674,-0.6759265033821549,-1.5798853727489461,0.37208733583223114,-0.9219938544398251,0.14012672286259512,2.1114977132624637,0.6156311912399872,1.479888066297275,2.3304288496837566,-1.6327940805130743,-1.440517700603669,-2.992625300505153,-0.649441935687668,-0.059502032629949374,2.702329118857002,-1.2033079124282626,0.0884111127119533,1.7455290528280512,-0.9142233168065622,1.380725105275451,0.007963640867254478,0.12313920273107667,-1.230546884593442,-1.095688282805866],\"yaxis\":\"y10\",\"type\":\"scatter\"},{\"histfunc\":\"count\",\"histnorm\":\"\",\"marker\":{\"color\":\"rgba(50, 171, 96, 1.0)\",\"line\":{\"color\":\"#4D5663\",\"width\":1.3}},\"name\":\"C\",\"nbinsx\":10,\"opacity\":0.8,\"orientation\":\"v\",\"x\":[0.5199922630907495,0.1830355270282763,0.7338807037118276,-1.728545257297151,0.7168022743874345,0.3343533448736096,1.367568784461105,-1.3231460252968592,-1.1749318802696305,-0.6481630365252634,-1.1420800226206975,-0.9615142362127238,-0.0452134271995858,1.4659734891639267,-0.9045681334699083,-1.1910542220933276,0.1837325385010415,-1.411109124645375,-1.136955351461367,-1.8347047274835042,-1.022155266979853,-0.2544273155503784,-0.21822601111445641,-0.5036600573084827,0.046035202553452136,-0.1496112217772252,-0.028209682763141536,-1.142726266593265,-2.0960811888623643,0.05053876236196913,3.0272968829495124,-0.06278096687767033,0.018552679633553757,0.1539366907347957,-0.134862543914076,-0.5373177369861782,0.21806512288273258,0.6808733116465462,-0.4597391591651445,0.9714359016000198,-0.34594030850288865,0.3359585191357947,-1.434357536288188,-0.6454390647001046,1.534720131130264,-1.331103768060012,-0.6687366119939376,1.304139576727922,-1.8132712606461807,0.8503059053334987,-0.2981495600111228,-0.060369774916276694,0.7494397256888057,0.22786020381595087,0.8111852375948235,0.45557169646498424,0.6509407911744212,0.535837548999383,0.058653266158075444,0.47259502040126566,-1.3380608588971012,-1.0214834676430626,-0.9998203108618948,-1.149023019762514,2.2523743166374843,1.2555027389653908,-0.3726643016479303,0.31203124203188326,1.4888712219329372,1.6134635549541745,0.21745550905515545,1.6471701788707174,0.6116557938467,0.416422488935641,-1.7584717424175733,-1.0074430159686674,-0.6759265033821549,-1.5798853727489461,0.37208733583223114,-0.9219938544398251,0.14012672286259512,2.1114977132624637,0.6156311912399872,1.479888066297275,2.3304288496837566,-1.6327940805130743,-1.440517700603669,-2.992625300505153,-0.649441935687668,-0.059502032629949374,2.702329118857002,-1.2033079124282626,0.0884111127119533,1.7455290528280512,-0.9142233168065622,1.380725105275451,0.007963640867254478,0.12313920273107667,-1.230546884593442,-1.095688282805866],\"xaxis\":\"x11\",\"yaxis\":\"y11\",\"type\":\"histogram\"},{\"line\":{\"color\":\"rgba(128, 128, 128, 1.0)\",\"dash\":\"solid\",\"shape\":\"linear\",\"width\":1.3},\"marker\":{\"size\":2,\"symbol\":\"circle\"},\"mode\":\"markers\",\"name\":\"C\",\"text\":\"\",\"x\":[0.3087242940760484,-2.892920710993179,0.29755680760134023,-0.4537198687874928,0.4091428918535154,-0.5911585079707464,1.2837558388647552,-1.196327628603834,1.0089734959700447,-0.1578035162705574,-0.4986640630344464,0.8252364225226217,1.6861646626147668,0.23963447426904727,0.7641530316879358,-0.7689390705139726,1.1584556024203354,1.1360891736184686,0.009474268435621989,-0.06682386148577549,0.555353509483653,0.7333168575641268,2.098244820081542,-0.7944249098537421,1.4387239479593779,-0.4515833646085028,-1.9352520647895797,-2.049553912885645,-1.2540247569355452,0.5430137866149007,-0.31587328134723097,1.6814974048406721,-0.4206398739726167,0.5992298023947051,-1.0120089497419704,0.2997543410309787,1.2357180906828362,0.41511198706310415,1.811713654798116,-0.3253060298179894,-0.9289560752940552,0.1608610104861535,-1.1924543747439782,0.5513907525949097,0.20551765048712142,1.3756968022467897,-0.7072715173974367,1.5185818130429565,-0.4693010381594284,-0.809846037988664,-0.09078018476417095,0.012713682354540578,0.2610668997971832,-2.7022175291637685,0.4012364716342121,-0.7728524233638323,-1.8511381406173124,0.651157946355602,0.22335055826153472,-0.41596698883675215,1.7294039411584106,-0.995924445608059,0.7882627429142489,1.2863779417748025,0.32966840365706734,0.5777746168164748,-1.0398609590570271,0.5711772366363843,-0.468436443040119,1.1284915691417101,0.2904286363391695,-0.5636855185258286,0.3736149212568452,-0.33682320469314836,0.9000438298583542,0.3801388237787824,0.7183473441906332,-0.9784587147441306,-0.40902944086318,0.13100305557281391,-0.34492148658442934,-0.002431809166469376,-0.5059304901101217,0.9653255252501207,-0.8914391155462259,0.3860940733112024,0.3834056512334579,0.33545236667254646,0.7660612229706408,-0.16928256065585887,0.3847440085949903,0.44520055820183524,0.6969785207430066,0.3054280947354089,-1.1541863065851823,0.9808009213359595,-0.2608278857259081,0.04611588232013331,0.9278158849994778,0.43077265880049],\"xaxis\":\"x12\",\"y\":[0.5199922630907495,0.1830355270282763,0.7338807037118276,-1.728545257297151,0.7168022743874345,0.3343533448736096,1.367568784461105,-1.3231460252968592,-1.1749318802696305,-0.6481630365252634,-1.1420800226206975,-0.9615142362127238,-0.0452134271995858,1.4659734891639267,-0.9045681334699083,-1.1910542220933276,0.1837325385010415,-1.411109124645375,-1.136955351461367,-1.8347047274835042,-1.022155266979853,-0.2544273155503784,-0.21822601111445641,-0.5036600573084827,0.046035202553452136,-0.1496112217772252,-0.028209682763141536,-1.142726266593265,-2.0960811888623643,0.05053876236196913,3.0272968829495124,-0.06278096687767033,0.018552679633553757,0.1539366907347957,-0.134862543914076,-0.5373177369861782,0.21806512288273258,0.6808733116465462,-0.4597391591651445,0.9714359016000198,-0.34594030850288865,0.3359585191357947,-1.434357536288188,-0.6454390647001046,1.534720131130264,-1.331103768060012,-0.6687366119939376,1.304139576727922,-1.8132712606461807,0.8503059053334987,-0.2981495600111228,-0.060369774916276694,0.7494397256888057,0.22786020381595087,0.8111852375948235,0.45557169646498424,0.6509407911744212,0.535837548999383,0.058653266158075444,0.47259502040126566,-1.3380608588971012,-1.0214834676430626,-0.9998203108618948,-1.149023019762514,2.2523743166374843,1.2555027389653908,-0.3726643016479303,0.31203124203188326,1.4888712219329372,1.6134635549541745,0.21745550905515545,1.6471701788707174,0.6116557938467,0.416422488935641,-1.7584717424175733,-1.0074430159686674,-0.6759265033821549,-1.5798853727489461,0.37208733583223114,-0.9219938544398251,0.14012672286259512,2.1114977132624637,0.6156311912399872,1.479888066297275,2.3304288496837566,-1.6327940805130743,-1.440517700603669,-2.992625300505153,-0.649441935687668,-0.059502032629949374,2.702329118857002,-1.2033079124282626,0.0884111127119533,1.7455290528280512,-0.9142233168065622,1.380725105275451,0.007963640867254478,0.12313920273107667,-1.230546884593442,-1.095688282805866],\"yaxis\":\"y12\",\"type\":\"scatter\"},{\"line\":{\"color\":\"rgba(128, 128, 128, 1.0)\",\"dash\":\"solid\",\"shape\":\"linear\",\"width\":1.3},\"marker\":{\"size\":2,\"symbol\":\"circle\"},\"mode\":\"markers\",\"name\":\"D\",\"text\":\"\",\"x\":[-2.0174340036144773,-0.2982885142503483,-1.1060293398574745,0.47380475815506795,-0.24287698992496476,-1.045477160349408,-1.372571283799824,-0.3708294395405194,0.9296363357643138,1.07539941494939,-0.48860213936065083,0.38462255572792503,0.7316391969826207,0.7056188238429781,0.2272970973273527,1.8973560994467056,-0.08814752662473867,2.853141208328112,1.2606744935729695,-0.19541503270171148,0.33884117599906605,-1.1823804269843323,-0.35818646632962386,-2.1896961807689883,0.4666612471354609,-0.7195595896962929,-1.1022342579753548,-0.4260373014973277,-2.03985628441693,-0.3922675703969572,-0.6393197479525362,1.5070292397184635,1.5427741705080689,-0.36811080320580436,0.7907860507217243,-1.053702929569162,-1.5682815210700976,-1.6899427972979684,-1.1577153310653898,1.201798767024122,0.8139499812781749,1.3396399626499909,-1.592116875741009,-2.108999149725003,-2.414121441285468,-0.7517992912296336,-0.8814484376662446,-0.5636621543249383,-0.4462016022135572,0.7602270527510662,-0.7635312669667638,-0.6085341535104014,-0.6979145854428934,0.15270352881680677,1.5861404333668392,0.4413194748417777,1.1464296196046662,1.6860599838450785,-0.12920519816606357,-1.3166186524763952,0.9527123887974857,-0.0913130377024795,-1.2562092533438431,-1.4599948208670317,0.739600143985171,1.928522171471015,0.8604873721118755,0.5101454894231326,-2.0412817448349676,2.350622092982859,-1.2098096285286442,0.8793405535384373,-0.4127130171433395,-0.9510357246689423,-0.5833425292515129,2.874170539129894,0.6754534679651084,-0.43269432307745,0.6824671403544771,-0.13956406111167266,-1.2539511811434925,-0.9095655979851323,0.5131425131930456,0.2107268324859046,0.9793829033520347,0.05590920125049553,-1.4825906211123527,-0.7655955658418381,-0.9062150294307344,0.2713814492008699,0.4987962451208206,0.8724854785969101,0.04820180158157174,0.22901793866168949,-0.04264546586916472,0.9163280370522656,-0.010155961485463392,-0.9553359158941854,-1.0351518431931523,0.9471899254826112],\"xaxis\":\"x13\",\"y\":[0.3087242940760484,-2.892920710993179,0.29755680760134023,-0.4537198687874928,0.4091428918535154,-0.5911585079707464,1.2837558388647552,-1.196327628603834,1.0089734959700447,-0.1578035162705574,-0.4986640630344464,0.8252364225226217,1.6861646626147668,0.23963447426904727,0.7641530316879358,-0.7689390705139726,1.1584556024203354,1.1360891736184686,0.009474268435621989,-0.06682386148577549,0.555353509483653,0.7333168575641268,2.098244820081542,-0.7944249098537421,1.4387239479593779,-0.4515833646085028,-1.9352520647895797,-2.049553912885645,-1.2540247569355452,0.5430137866149007,-0.31587328134723097,1.6814974048406721,-0.4206398739726167,0.5992298023947051,-1.0120089497419704,0.2997543410309787,1.2357180906828362,0.41511198706310415,1.811713654798116,-0.3253060298179894,-0.9289560752940552,0.1608610104861535,-1.1924543747439782,0.5513907525949097,0.20551765048712142,1.3756968022467897,-0.7072715173974367,1.5185818130429565,-0.4693010381594284,-0.809846037988664,-0.09078018476417095,0.012713682354540578,0.2610668997971832,-2.7022175291637685,0.4012364716342121,-0.7728524233638323,-1.8511381406173124,0.651157946355602,0.22335055826153472,-0.41596698883675215,1.7294039411584106,-0.995924445608059,0.7882627429142489,1.2863779417748025,0.32966840365706734,0.5777746168164748,-1.0398609590570271,0.5711772366363843,-0.468436443040119,1.1284915691417101,0.2904286363391695,-0.5636855185258286,0.3736149212568452,-0.33682320469314836,0.9000438298583542,0.3801388237787824,0.7183473441906332,-0.9784587147441306,-0.40902944086318,0.13100305557281391,-0.34492148658442934,-0.002431809166469376,-0.5059304901101217,0.9653255252501207,-0.8914391155462259,0.3860940733112024,0.3834056512334579,0.33545236667254646,0.7660612229706408,-0.16928256065585887,0.3847440085949903,0.44520055820183524,0.6969785207430066,0.3054280947354089,-1.1541863065851823,0.9808009213359595,-0.2608278857259081,0.04611588232013331,0.9278158849994778,0.43077265880049],\"yaxis\":\"y13\",\"type\":\"scatter\"},{\"line\":{\"color\":\"rgba(128, 128, 128, 1.0)\",\"dash\":\"solid\",\"shape\":\"linear\",\"width\":1.3},\"marker\":{\"size\":2,\"symbol\":\"circle\"},\"mode\":\"markers\",\"name\":\"D\",\"text\":\"\",\"x\":[-0.4336314864429535,1.350667166094158,0.43598099590054984,0.6468173769915163,0.06159247962019822,-0.4718946721964237,-0.34718152548498954,-0.1352352933676623,1.772522237853382,1.7932238808421221,0.09877771175165724,0.0712299488526947,-0.04660842611345164,-0.695628193641317,-0.34583211824660304,-0.08662984595296318,0.13793492787300085,-1.4318303754898554,0.5873881902834827,-2.07325722004215,-1.1770281940962717,1.594615146278771,1.2776187822533687,0.47109117398969547,-1.246668759906434,-2.2847460611624406,-1.5826105556937269,-0.811269322851608,0.8799894577447486,0.06415012993297987,-0.7434972189767668,-0.9792866546376444,-0.933045546820726,-2.3622901656782385,0.5563119426536198,-0.19041549241342892,-0.16132840248423033,-0.7338722979209311,-0.3692777802581269,0.1305385223626437,-0.6402633231215187,1.7724921834749274,-1.2351448749489011,-0.5873659331128189,-0.16728748136882754,-0.5602703504822134,1.859960185240759,0.33740918515772517,0.918671162681654,-0.07101790267351826,0.015441559320083337,-1.2031017684144387,-0.3272063740238242,-0.0001744963858636876,0.3103076161179847,-0.199759215966244,0.05146279997451216,-0.18622636023755218,-0.8103233465962649,-1.9275858643732076,-1.1374975146503152,-0.41521538622971427,0.22719945800922248,0.36402755465690834,-0.4526090911338168,0.26012367576625334,-0.22989912094729592,0.5285726171745472,0.9953458174439949,-0.9857712026396995,0.5776873616421779,-0.7424122876243162,-0.5518931892115001,-1.5518844904682583,0.24099518333260084,0.6836961998302244,-1.2015323169619367,1.2802609934383806,1.438639661407647,-0.5851440701662644,0.4603398760447712,0.49137796754968743,-0.33395034853426303,-1.3694143337900495,0.7004766841926477,-0.02776944111056883,-1.7961432780630182,-0.04463245773876887,2.1231966212717746,-1.192852440208722,-1.0474681178086687,-0.7387115531544551,-0.5637437308033575,0.9980152157280872,1.5098614226254685,-0.5438344156823638,0.15937737582332315,-1.2195955310150488,1.0856990332088072,-0.542434730291181],\"xaxis\":\"x14\",\"y\":[0.3087242940760484,-2.892920710993179,0.29755680760134023,-0.4537198687874928,0.4091428918535154,-0.5911585079707464,1.2837558388647552,-1.196327628603834,1.0089734959700447,-0.1578035162705574,-0.4986640630344464,0.8252364225226217,1.6861646626147668,0.23963447426904727,0.7641530316879358,-0.7689390705139726,1.1584556024203354,1.1360891736184686,0.009474268435621989,-0.06682386148577549,0.555353509483653,0.7333168575641268,2.098244820081542,-0.7944249098537421,1.4387239479593779,-0.4515833646085028,-1.9352520647895797,-2.049553912885645,-1.2540247569355452,0.5430137866149007,-0.31587328134723097,1.6814974048406721,-0.4206398739726167,0.5992298023947051,-1.0120089497419704,0.2997543410309787,1.2357180906828362,0.41511198706310415,1.811713654798116,-0.3253060298179894,-0.9289560752940552,0.1608610104861535,-1.1924543747439782,0.5513907525949097,0.20551765048712142,1.3756968022467897,-0.7072715173974367,1.5185818130429565,-0.4693010381594284,-0.809846037988664,-0.09078018476417095,0.012713682354540578,0.2610668997971832,-2.7022175291637685,0.4012364716342121,-0.7728524233638323,-1.8511381406173124,0.651157946355602,0.22335055826153472,-0.41596698883675215,1.7294039411584106,-0.995924445608059,0.7882627429142489,1.2863779417748025,0.32966840365706734,0.5777746168164748,-1.0398609590570271,0.5711772366363843,-0.468436443040119,1.1284915691417101,0.2904286363391695,-0.5636855185258286,0.3736149212568452,-0.33682320469314836,0.9000438298583542,0.3801388237787824,0.7183473441906332,-0.9784587147441306,-0.40902944086318,0.13100305557281391,-0.34492148658442934,-0.002431809166469376,-0.5059304901101217,0.9653255252501207,-0.8914391155462259,0.3860940733112024,0.3834056512334579,0.33545236667254646,0.7660612229706408,-0.16928256065585887,0.3847440085949903,0.44520055820183524,0.6969785207430066,0.3054280947354089,-1.1541863065851823,0.9808009213359595,-0.2608278857259081,0.04611588232013331,0.9278158849994778,0.43077265880049],\"yaxis\":\"y14\",\"type\":\"scatter\"},{\"line\":{\"color\":\"rgba(128, 128, 128, 1.0)\",\"dash\":\"solid\",\"shape\":\"linear\",\"width\":1.3},\"marker\":{\"size\":2,\"symbol\":\"circle\"},\"mode\":\"markers\",\"name\":\"D\",\"text\":\"\",\"x\":[0.5199922630907495,0.1830355270282763,0.7338807037118276,-1.728545257297151,0.7168022743874345,0.3343533448736096,1.367568784461105,-1.3231460252968592,-1.1749318802696305,-0.6481630365252634,-1.1420800226206975,-0.9615142362127238,-0.0452134271995858,1.4659734891639267,-0.9045681334699083,-1.1910542220933276,0.1837325385010415,-1.411109124645375,-1.136955351461367,-1.8347047274835042,-1.022155266979853,-0.2544273155503784,-0.21822601111445641,-0.5036600573084827,0.046035202553452136,-0.1496112217772252,-0.028209682763141536,-1.142726266593265,-2.0960811888623643,0.05053876236196913,3.0272968829495124,-0.06278096687767033,0.018552679633553757,0.1539366907347957,-0.134862543914076,-0.5373177369861782,0.21806512288273258,0.6808733116465462,-0.4597391591651445,0.9714359016000198,-0.34594030850288865,0.3359585191357947,-1.434357536288188,-0.6454390647001046,1.534720131130264,-1.331103768060012,-0.6687366119939376,1.304139576727922,-1.8132712606461807,0.8503059053334987,-0.2981495600111228,-0.060369774916276694,0.7494397256888057,0.22786020381595087,0.8111852375948235,0.45557169646498424,0.6509407911744212,0.535837548999383,0.058653266158075444,0.47259502040126566,-1.3380608588971012,-1.0214834676430626,-0.9998203108618948,-1.149023019762514,2.2523743166374843,1.2555027389653908,-0.3726643016479303,0.31203124203188326,1.4888712219329372,1.6134635549541745,0.21745550905515545,1.6471701788707174,0.6116557938467,0.416422488935641,-1.7584717424175733,-1.0074430159686674,-0.6759265033821549,-1.5798853727489461,0.37208733583223114,-0.9219938544398251,0.14012672286259512,2.1114977132624637,0.6156311912399872,1.479888066297275,2.3304288496837566,-1.6327940805130743,-1.440517700603669,-2.992625300505153,-0.649441935687668,-0.059502032629949374,2.702329118857002,-1.2033079124282626,0.0884111127119533,1.7455290528280512,-0.9142233168065622,1.380725105275451,0.007963640867254478,0.12313920273107667,-1.230546884593442,-1.095688282805866],\"xaxis\":\"x15\",\"y\":[0.3087242940760484,-2.892920710993179,0.29755680760134023,-0.4537198687874928,0.4091428918535154,-0.5911585079707464,1.2837558388647552,-1.196327628603834,1.0089734959700447,-0.1578035162705574,-0.4986640630344464,0.8252364225226217,1.6861646626147668,0.23963447426904727,0.7641530316879358,-0.7689390705139726,1.1584556024203354,1.1360891736184686,0.009474268435621989,-0.06682386148577549,0.555353509483653,0.7333168575641268,2.098244820081542,-0.7944249098537421,1.4387239479593779,-0.4515833646085028,-1.9352520647895797,-2.049553912885645,-1.2540247569355452,0.5430137866149007,-0.31587328134723097,1.6814974048406721,-0.4206398739726167,0.5992298023947051,-1.0120089497419704,0.2997543410309787,1.2357180906828362,0.41511198706310415,1.811713654798116,-0.3253060298179894,-0.9289560752940552,0.1608610104861535,-1.1924543747439782,0.5513907525949097,0.20551765048712142,1.3756968022467897,-0.7072715173974367,1.5185818130429565,-0.4693010381594284,-0.809846037988664,-0.09078018476417095,0.012713682354540578,0.2610668997971832,-2.7022175291637685,0.4012364716342121,-0.7728524233638323,-1.8511381406173124,0.651157946355602,0.22335055826153472,-0.41596698883675215,1.7294039411584106,-0.995924445608059,0.7882627429142489,1.2863779417748025,0.32966840365706734,0.5777746168164748,-1.0398609590570271,0.5711772366363843,-0.468436443040119,1.1284915691417101,0.2904286363391695,-0.5636855185258286,0.3736149212568452,-0.33682320469314836,0.9000438298583542,0.3801388237787824,0.7183473441906332,-0.9784587147441306,-0.40902944086318,0.13100305557281391,-0.34492148658442934,-0.002431809166469376,-0.5059304901101217,0.9653255252501207,-0.8914391155462259,0.3860940733112024,0.3834056512334579,0.33545236667254646,0.7660612229706408,-0.16928256065585887,0.3847440085949903,0.44520055820183524,0.6969785207430066,0.3054280947354089,-1.1541863065851823,0.9808009213359595,-0.2608278857259081,0.04611588232013331,0.9278158849994778,0.43077265880049],\"yaxis\":\"y15\",\"type\":\"scatter\"},{\"histfunc\":\"count\",\"histnorm\":\"\",\"marker\":{\"color\":\"rgba(128, 0, 128, 1.0)\",\"line\":{\"color\":\"#4D5663\",\"width\":1.3}},\"name\":\"D\",\"nbinsx\":10,\"opacity\":0.8,\"orientation\":\"v\",\"x\":[0.3087242940760484,-2.892920710993179,0.29755680760134023,-0.4537198687874928,0.4091428918535154,-0.5911585079707464,1.2837558388647552,-1.196327628603834,1.0089734959700447,-0.1578035162705574,-0.4986640630344464,0.8252364225226217,1.6861646626147668,0.23963447426904727,0.7641530316879358,-0.7689390705139726,1.1584556024203354,1.1360891736184686,0.009474268435621989,-0.06682386148577549,0.555353509483653,0.7333168575641268,2.098244820081542,-0.7944249098537421,1.4387239479593779,-0.4515833646085028,-1.9352520647895797,-2.049553912885645,-1.2540247569355452,0.5430137866149007,-0.31587328134723097,1.6814974048406721,-0.4206398739726167,0.5992298023947051,-1.0120089497419704,0.2997543410309787,1.2357180906828362,0.41511198706310415,1.811713654798116,-0.3253060298179894,-0.9289560752940552,0.1608610104861535,-1.1924543747439782,0.5513907525949097,0.20551765048712142,1.3756968022467897,-0.7072715173974367,1.5185818130429565,-0.4693010381594284,-0.809846037988664,-0.09078018476417095,0.012713682354540578,0.2610668997971832,-2.7022175291637685,0.4012364716342121,-0.7728524233638323,-1.8511381406173124,0.651157946355602,0.22335055826153472,-0.41596698883675215,1.7294039411584106,-0.995924445608059,0.7882627429142489,1.2863779417748025,0.32966840365706734,0.5777746168164748,-1.0398609590570271,0.5711772366363843,-0.468436443040119,1.1284915691417101,0.2904286363391695,-0.5636855185258286,0.3736149212568452,-0.33682320469314836,0.9000438298583542,0.3801388237787824,0.7183473441906332,-0.9784587147441306,-0.40902944086318,0.13100305557281391,-0.34492148658442934,-0.002431809166469376,-0.5059304901101217,0.9653255252501207,-0.8914391155462259,0.3860940733112024,0.3834056512334579,0.33545236667254646,0.7660612229706408,-0.16928256065585887,0.3847440085949903,0.44520055820183524,0.6969785207430066,0.3054280947354089,-1.1541863065851823,0.9808009213359595,-0.2608278857259081,0.04611588232013331,0.9278158849994778,0.43077265880049],\"xaxis\":\"x16\",\"yaxis\":\"y16\",\"type\":\"histogram\"}],                        {\"bargap\":0.02,\"legend\":{\"bgcolor\":\"#F5F6F9\",\"font\":{\"color\":\"#4D5663\"}},\"paper_bgcolor\":\"#F5F6F9\",\"plot_bgcolor\":\"#F5F6F9\",\"showlegend\":false,\"template\":{\"data\":{\"barpolar\":[{\"marker\":{\"line\":{\"color\":\"#E5ECF6\",\"width\":0.5},\"pattern\":{\"fillmode\":\"overlay\",\"size\":10,\"solidity\":0.2}},\"type\":\"barpolar\"}],\"bar\":[{\"error_x\":{\"color\":\"#2a3f5f\"},\"error_y\":{\"color\":\"#2a3f5f\"},\"marker\":{\"line\":{\"color\":\"#E5ECF6\",\"width\":0.5},\"pattern\":{\"fillmode\":\"overlay\",\"size\":10,\"solidity\":0.2}},\"type\":\"bar\"}],\"carpet\":[{\"aaxis\":{\"endlinecolor\":\"#2a3f5f\",\"gridcolor\":\"white\",\"linecolor\":\"white\",\"minorgridcolor\":\"white\",\"startlinecolor\":\"#2a3f5f\"},\"baxis\":{\"endlinecolor\":\"#2a3f5f\",\"gridcolor\":\"white\",\"linecolor\":\"white\",\"minorgridcolor\":\"white\",\"startlinecolor\":\"#2a3f5f\"},\"type\":\"carpet\"}],\"choropleth\":[{\"colorbar\":{\"outlinewidth\":0,\"ticks\":\"\"},\"type\":\"choropleth\"}],\"contourcarpet\":[{\"colorbar\":{\"outlinewidth\":0,\"ticks\":\"\"},\"type\":\"contourcarpet\"}],\"contour\":[{\"colorbar\":{\"outlinewidth\":0,\"ticks\":\"\"},\"colorscale\":[[0.0,\"#0d0887\"],[0.1111111111111111,\"#46039f\"],[0.2222222222222222,\"#7201a8\"],[0.3333333333333333,\"#9c179e\"],[0.4444444444444444,\"#bd3786\"],[0.5555555555555556,\"#d8576b\"],[0.6666666666666666,\"#ed7953\"],[0.7777777777777778,\"#fb9f3a\"],[0.8888888888888888,\"#fdca26\"],[1.0,\"#f0f921\"]],\"type\":\"contour\"}],\"heatmapgl\":[{\"colorbar\":{\"outlinewidth\":0,\"ticks\":\"\"},\"colorscale\":[[0.0,\"#0d0887\"],[0.1111111111111111,\"#46039f\"],[0.2222222222222222,\"#7201a8\"],[0.3333333333333333,\"#9c179e\"],[0.4444444444444444,\"#bd3786\"],[0.5555555555555556,\"#d8576b\"],[0.6666666666666666,\"#ed7953\"],[0.7777777777777778,\"#fb9f3a\"],[0.8888888888888888,\"#fdca26\"],[1.0,\"#f0f921\"]],\"type\":\"heatmapgl\"}],\"heatmap\":[{\"colorbar\":{\"outlinewidth\":0,\"ticks\":\"\"},\"colorscale\":[[0.0,\"#0d0887\"],[0.1111111111111111,\"#46039f\"],[0.2222222222222222,\"#7201a8\"],[0.3333333333333333,\"#9c179e\"],[0.4444444444444444,\"#bd3786\"],[0.5555555555555556,\"#d8576b\"],[0.6666666666666666,\"#ed7953\"],[0.7777777777777778,\"#fb9f3a\"],[0.8888888888888888,\"#fdca26\"],[1.0,\"#f0f921\"]],\"type\":\"heatmap\"}],\"histogram2dcontour\":[{\"colorbar\":{\"outlinewidth\":0,\"ticks\":\"\"},\"colorscale\":[[0.0,\"#0d0887\"],[0.1111111111111111,\"#46039f\"],[0.2222222222222222,\"#7201a8\"],[0.3333333333333333,\"#9c179e\"],[0.4444444444444444,\"#bd3786\"],[0.5555555555555556,\"#d8576b\"],[0.6666666666666666,\"#ed7953\"],[0.7777777777777778,\"#fb9f3a\"],[0.8888888888888888,\"#fdca26\"],[1.0,\"#f0f921\"]],\"type\":\"histogram2dcontour\"}],\"histogram2d\":[{\"colorbar\":{\"outlinewidth\":0,\"ticks\":\"\"},\"colorscale\":[[0.0,\"#0d0887\"],[0.1111111111111111,\"#46039f\"],[0.2222222222222222,\"#7201a8\"],[0.3333333333333333,\"#9c179e\"],[0.4444444444444444,\"#bd3786\"],[0.5555555555555556,\"#d8576b\"],[0.6666666666666666,\"#ed7953\"],[0.7777777777777778,\"#fb9f3a\"],[0.8888888888888888,\"#fdca26\"],[1.0,\"#f0f921\"]],\"type\":\"histogram2d\"}],\"histogram\":[{\"marker\":{\"pattern\":{\"fillmode\":\"overlay\",\"size\":10,\"solidity\":0.2}},\"type\":\"histogram\"}],\"mesh3d\":[{\"colorbar\":{\"outlinewidth\":0,\"ticks\":\"\"},\"type\":\"mesh3d\"}],\"parcoords\":[{\"line\":{\"colorbar\":{\"outlinewidth\":0,\"ticks\":\"\"}},\"type\":\"parcoords\"}],\"pie\":[{\"automargin\":true,\"type\":\"pie\"}],\"scatter3d\":[{\"line\":{\"colorbar\":{\"outlinewidth\":0,\"ticks\":\"\"}},\"marker\":{\"colorbar\":{\"outlinewidth\":0,\"ticks\":\"\"}},\"type\":\"scatter3d\"}],\"scattercarpet\":[{\"marker\":{\"colorbar\":{\"outlinewidth\":0,\"ticks\":\"\"}},\"type\":\"scattercarpet\"}],\"scattergeo\":[{\"marker\":{\"colorbar\":{\"outlinewidth\":0,\"ticks\":\"\"}},\"type\":\"scattergeo\"}],\"scattergl\":[{\"marker\":{\"colorbar\":{\"outlinewidth\":0,\"ticks\":\"\"}},\"type\":\"scattergl\"}],\"scattermapbox\":[{\"marker\":{\"colorbar\":{\"outlinewidth\":0,\"ticks\":\"\"}},\"type\":\"scattermapbox\"}],\"scatterpolargl\":[{\"marker\":{\"colorbar\":{\"outlinewidth\":0,\"ticks\":\"\"}},\"type\":\"scatterpolargl\"}],\"scatterpolar\":[{\"marker\":{\"colorbar\":{\"outlinewidth\":0,\"ticks\":\"\"}},\"type\":\"scatterpolar\"}],\"scatter\":[{\"fillpattern\":{\"fillmode\":\"overlay\",\"size\":10,\"solidity\":0.2},\"type\":\"scatter\"}],\"scatterternary\":[{\"marker\":{\"colorbar\":{\"outlinewidth\":0,\"ticks\":\"\"}},\"type\":\"scatterternary\"}],\"surface\":[{\"colorbar\":{\"outlinewidth\":0,\"ticks\":\"\"},\"colorscale\":[[0.0,\"#0d0887\"],[0.1111111111111111,\"#46039f\"],[0.2222222222222222,\"#7201a8\"],[0.3333333333333333,\"#9c179e\"],[0.4444444444444444,\"#bd3786\"],[0.5555555555555556,\"#d8576b\"],[0.6666666666666666,\"#ed7953\"],[0.7777777777777778,\"#fb9f3a\"],[0.8888888888888888,\"#fdca26\"],[1.0,\"#f0f921\"]],\"type\":\"surface\"}],\"table\":[{\"cells\":{\"fill\":{\"color\":\"#EBF0F8\"},\"line\":{\"color\":\"white\"}},\"header\":{\"fill\":{\"color\":\"#C8D4E3\"},\"line\":{\"color\":\"white\"}},\"type\":\"table\"}]},\"layout\":{\"annotationdefaults\":{\"arrowcolor\":\"#2a3f5f\",\"arrowhead\":0,\"arrowwidth\":1},\"autotypenumbers\":\"strict\",\"coloraxis\":{\"colorbar\":{\"outlinewidth\":0,\"ticks\":\"\"}},\"colorscale\":{\"diverging\":[[0,\"#8e0152\"],[0.1,\"#c51b7d\"],[0.2,\"#de77ae\"],[0.3,\"#f1b6da\"],[0.4,\"#fde0ef\"],[0.5,\"#f7f7f7\"],[0.6,\"#e6f5d0\"],[0.7,\"#b8e186\"],[0.8,\"#7fbc41\"],[0.9,\"#4d9221\"],[1,\"#276419\"]],\"sequential\":[[0.0,\"#0d0887\"],[0.1111111111111111,\"#46039f\"],[0.2222222222222222,\"#7201a8\"],[0.3333333333333333,\"#9c179e\"],[0.4444444444444444,\"#bd3786\"],[0.5555555555555556,\"#d8576b\"],[0.6666666666666666,\"#ed7953\"],[0.7777777777777778,\"#fb9f3a\"],[0.8888888888888888,\"#fdca26\"],[1.0,\"#f0f921\"]],\"sequentialminus\":[[0.0,\"#0d0887\"],[0.1111111111111111,\"#46039f\"],[0.2222222222222222,\"#7201a8\"],[0.3333333333333333,\"#9c179e\"],[0.4444444444444444,\"#bd3786\"],[0.5555555555555556,\"#d8576b\"],[0.6666666666666666,\"#ed7953\"],[0.7777777777777778,\"#fb9f3a\"],[0.8888888888888888,\"#fdca26\"],[1.0,\"#f0f921\"]]},\"colorway\":[\"#636efa\",\"#EF553B\",\"#00cc96\",\"#ab63fa\",\"#FFA15A\",\"#19d3f3\",\"#FF6692\",\"#B6E880\",\"#FF97FF\",\"#FECB52\"],\"font\":{\"color\":\"#2a3f5f\"},\"geo\":{\"bgcolor\":\"white\",\"lakecolor\":\"white\",\"landcolor\":\"#E5ECF6\",\"showlakes\":true,\"showland\":true,\"subunitcolor\":\"white\"},\"hoverlabel\":{\"align\":\"left\"},\"hovermode\":\"closest\",\"mapbox\":{\"style\":\"light\"},\"paper_bgcolor\":\"white\",\"plot_bgcolor\":\"#E5ECF6\",\"polar\":{\"angularaxis\":{\"gridcolor\":\"white\",\"linecolor\":\"white\",\"ticks\":\"\"},\"bgcolor\":\"#E5ECF6\",\"radialaxis\":{\"gridcolor\":\"white\",\"linecolor\":\"white\",\"ticks\":\"\"}},\"scene\":{\"xaxis\":{\"backgroundcolor\":\"#E5ECF6\",\"gridcolor\":\"white\",\"gridwidth\":2,\"linecolor\":\"white\",\"showbackground\":true,\"ticks\":\"\",\"zerolinecolor\":\"white\"},\"yaxis\":{\"backgroundcolor\":\"#E5ECF6\",\"gridcolor\":\"white\",\"gridwidth\":2,\"linecolor\":\"white\",\"showbackground\":true,\"ticks\":\"\",\"zerolinecolor\":\"white\"},\"zaxis\":{\"backgroundcolor\":\"#E5ECF6\",\"gridcolor\":\"white\",\"gridwidth\":2,\"linecolor\":\"white\",\"showbackground\":true,\"ticks\":\"\",\"zerolinecolor\":\"white\"}},\"shapedefaults\":{\"line\":{\"color\":\"#2a3f5f\"}},\"ternary\":{\"aaxis\":{\"gridcolor\":\"white\",\"linecolor\":\"white\",\"ticks\":\"\"},\"baxis\":{\"gridcolor\":\"white\",\"linecolor\":\"white\",\"ticks\":\"\"},\"bgcolor\":\"#E5ECF6\",\"caxis\":{\"gridcolor\":\"white\",\"linecolor\":\"white\",\"ticks\":\"\"}},\"title\":{\"x\":0.05},\"xaxis\":{\"automargin\":true,\"gridcolor\":\"white\",\"linecolor\":\"white\",\"ticks\":\"\",\"title\":{\"standoff\":15},\"zerolinecolor\":\"white\",\"zerolinewidth\":2},\"yaxis\":{\"automargin\":true,\"gridcolor\":\"white\",\"linecolor\":\"white\",\"ticks\":\"\",\"title\":{\"standoff\":15},\"zerolinecolor\":\"white\",\"zerolinewidth\":2}}},\"title\":{\"font\":{\"color\":\"#4D5663\"}},\"xaxis\":{\"anchor\":\"y\",\"domain\":[0.0,0.2125],\"gridcolor\":\"#E1E5ED\",\"showgrid\":false,\"tickfont\":{\"color\":\"#4D5663\"},\"title\":{\"font\":{\"color\":\"#4D5663\"},\"text\":\"\"},\"zerolinecolor\":\"#E1E5ED\"},\"yaxis\":{\"anchor\":\"x\",\"domain\":[0.8025,1.0],\"gridcolor\":\"#E1E5ED\",\"showgrid\":false,\"tickfont\":{\"color\":\"#4D5663\"},\"title\":{\"font\":{\"color\":\"#4D5663\"},\"text\":\"\"},\"zerolinecolor\":\"#E1E5ED\"},\"xaxis2\":{\"anchor\":\"y2\",\"domain\":[0.2625,0.475],\"gridcolor\":\"#E1E5ED\",\"showgrid\":false,\"tickfont\":{\"color\":\"#4D5663\"},\"title\":{\"font\":{\"color\":\"#4D5663\"},\"text\":\"\"},\"zerolinecolor\":\"#E1E5ED\"},\"yaxis2\":{\"anchor\":\"x2\",\"domain\":[0.8025,1.0],\"gridcolor\":\"#E1E5ED\",\"showgrid\":false,\"tickfont\":{\"color\":\"#4D5663\"},\"title\":{\"font\":{\"color\":\"#4D5663\"},\"text\":\"\"},\"zerolinecolor\":\"#E1E5ED\"},\"xaxis3\":{\"anchor\":\"y3\",\"domain\":[0.525,0.7375],\"gridcolor\":\"#E1E5ED\",\"showgrid\":false,\"tickfont\":{\"color\":\"#4D5663\"},\"title\":{\"font\":{\"color\":\"#4D5663\"},\"text\":\"\"},\"zerolinecolor\":\"#E1E5ED\"},\"yaxis3\":{\"anchor\":\"x3\",\"domain\":[0.8025,1.0],\"gridcolor\":\"#E1E5ED\",\"showgrid\":false,\"tickfont\":{\"color\":\"#4D5663\"},\"title\":{\"font\":{\"color\":\"#4D5663\"},\"text\":\"\"},\"zerolinecolor\":\"#E1E5ED\"},\"xaxis4\":{\"anchor\":\"y4\",\"domain\":[0.7875,1.0],\"gridcolor\":\"#E1E5ED\",\"showgrid\":false,\"tickfont\":{\"color\":\"#4D5663\"},\"title\":{\"font\":{\"color\":\"#4D5663\"},\"text\":\"\"},\"zerolinecolor\":\"#E1E5ED\"},\"yaxis4\":{\"anchor\":\"x4\",\"domain\":[0.8025,1.0],\"gridcolor\":\"#E1E5ED\",\"showgrid\":false,\"tickfont\":{\"color\":\"#4D5663\"},\"title\":{\"font\":{\"color\":\"#4D5663\"},\"text\":\"\"},\"zerolinecolor\":\"#E1E5ED\"},\"xaxis5\":{\"anchor\":\"y5\",\"domain\":[0.0,0.2125],\"gridcolor\":\"#E1E5ED\",\"showgrid\":false,\"tickfont\":{\"color\":\"#4D5663\"},\"title\":{\"font\":{\"color\":\"#4D5663\"},\"text\":\"\"},\"zerolinecolor\":\"#E1E5ED\"},\"yaxis5\":{\"anchor\":\"x5\",\"domain\":[0.535,0.7325],\"gridcolor\":\"#E1E5ED\",\"showgrid\":false,\"tickfont\":{\"color\":\"#4D5663\"},\"title\":{\"font\":{\"color\":\"#4D5663\"},\"text\":\"\"},\"zerolinecolor\":\"#E1E5ED\"},\"xaxis6\":{\"anchor\":\"y6\",\"domain\":[0.2625,0.475],\"gridcolor\":\"#E1E5ED\",\"showgrid\":false,\"tickfont\":{\"color\":\"#4D5663\"},\"title\":{\"font\":{\"color\":\"#4D5663\"},\"text\":\"\"},\"zerolinecolor\":\"#E1E5ED\"},\"yaxis6\":{\"anchor\":\"x6\",\"domain\":[0.535,0.7325],\"gridcolor\":\"#E1E5ED\",\"showgrid\":false,\"tickfont\":{\"color\":\"#4D5663\"},\"title\":{\"font\":{\"color\":\"#4D5663\"},\"text\":\"\"},\"zerolinecolor\":\"#E1E5ED\"},\"xaxis7\":{\"anchor\":\"y7\",\"domain\":[0.525,0.7375],\"gridcolor\":\"#E1E5ED\",\"showgrid\":false,\"tickfont\":{\"color\":\"#4D5663\"},\"title\":{\"font\":{\"color\":\"#4D5663\"},\"text\":\"\"},\"zerolinecolor\":\"#E1E5ED\"},\"yaxis7\":{\"anchor\":\"x7\",\"domain\":[0.535,0.7325],\"gridcolor\":\"#E1E5ED\",\"showgrid\":false,\"tickfont\":{\"color\":\"#4D5663\"},\"title\":{\"font\":{\"color\":\"#4D5663\"},\"text\":\"\"},\"zerolinecolor\":\"#E1E5ED\"},\"xaxis8\":{\"anchor\":\"y8\",\"domain\":[0.7875,1.0],\"gridcolor\":\"#E1E5ED\",\"showgrid\":false,\"tickfont\":{\"color\":\"#4D5663\"},\"title\":{\"font\":{\"color\":\"#4D5663\"},\"text\":\"\"},\"zerolinecolor\":\"#E1E5ED\"},\"yaxis8\":{\"anchor\":\"x8\",\"domain\":[0.535,0.7325],\"gridcolor\":\"#E1E5ED\",\"showgrid\":false,\"tickfont\":{\"color\":\"#4D5663\"},\"title\":{\"font\":{\"color\":\"#4D5663\"},\"text\":\"\"},\"zerolinecolor\":\"#E1E5ED\"},\"xaxis9\":{\"anchor\":\"y9\",\"domain\":[0.0,0.2125],\"gridcolor\":\"#E1E5ED\",\"showgrid\":false,\"tickfont\":{\"color\":\"#4D5663\"},\"title\":{\"font\":{\"color\":\"#4D5663\"},\"text\":\"\"},\"zerolinecolor\":\"#E1E5ED\"},\"yaxis9\":{\"anchor\":\"x9\",\"domain\":[0.2675,0.465],\"gridcolor\":\"#E1E5ED\",\"showgrid\":false,\"tickfont\":{\"color\":\"#4D5663\"},\"title\":{\"font\":{\"color\":\"#4D5663\"},\"text\":\"\"},\"zerolinecolor\":\"#E1E5ED\"},\"xaxis10\":{\"anchor\":\"y10\",\"domain\":[0.2625,0.475],\"gridcolor\":\"#E1E5ED\",\"showgrid\":false,\"tickfont\":{\"color\":\"#4D5663\"},\"title\":{\"font\":{\"color\":\"#4D5663\"},\"text\":\"\"},\"zerolinecolor\":\"#E1E5ED\"},\"yaxis10\":{\"anchor\":\"x10\",\"domain\":[0.2675,0.465],\"gridcolor\":\"#E1E5ED\",\"showgrid\":false,\"tickfont\":{\"color\":\"#4D5663\"},\"title\":{\"font\":{\"color\":\"#4D5663\"},\"text\":\"\"},\"zerolinecolor\":\"#E1E5ED\"},\"xaxis11\":{\"anchor\":\"y11\",\"domain\":[0.525,0.7375],\"gridcolor\":\"#E1E5ED\",\"showgrid\":false,\"tickfont\":{\"color\":\"#4D5663\"},\"title\":{\"font\":{\"color\":\"#4D5663\"},\"text\":\"\"},\"zerolinecolor\":\"#E1E5ED\"},\"yaxis11\":{\"anchor\":\"x11\",\"domain\":[0.2675,0.465],\"gridcolor\":\"#E1E5ED\",\"showgrid\":false,\"tickfont\":{\"color\":\"#4D5663\"},\"title\":{\"font\":{\"color\":\"#4D5663\"},\"text\":\"\"},\"zerolinecolor\":\"#E1E5ED\"},\"xaxis12\":{\"anchor\":\"y12\",\"domain\":[0.7875,1.0],\"gridcolor\":\"#E1E5ED\",\"showgrid\":false,\"tickfont\":{\"color\":\"#4D5663\"},\"title\":{\"font\":{\"color\":\"#4D5663\"},\"text\":\"\"},\"zerolinecolor\":\"#E1E5ED\"},\"yaxis12\":{\"anchor\":\"x12\",\"domain\":[0.2675,0.465],\"gridcolor\":\"#E1E5ED\",\"showgrid\":false,\"tickfont\":{\"color\":\"#4D5663\"},\"title\":{\"font\":{\"color\":\"#4D5663\"},\"text\":\"\"},\"zerolinecolor\":\"#E1E5ED\"},\"xaxis13\":{\"anchor\":\"y13\",\"domain\":[0.0,0.2125],\"gridcolor\":\"#E1E5ED\",\"showgrid\":false,\"tickfont\":{\"color\":\"#4D5663\"},\"title\":{\"font\":{\"color\":\"#4D5663\"},\"text\":\"\"},\"zerolinecolor\":\"#E1E5ED\"},\"yaxis13\":{\"anchor\":\"x13\",\"domain\":[0.0,0.1975],\"gridcolor\":\"#E1E5ED\",\"showgrid\":false,\"tickfont\":{\"color\":\"#4D5663\"},\"title\":{\"font\":{\"color\":\"#4D5663\"},\"text\":\"\"},\"zerolinecolor\":\"#E1E5ED\"},\"xaxis14\":{\"anchor\":\"y14\",\"domain\":[0.2625,0.475],\"gridcolor\":\"#E1E5ED\",\"showgrid\":false,\"tickfont\":{\"color\":\"#4D5663\"},\"title\":{\"font\":{\"color\":\"#4D5663\"},\"text\":\"\"},\"zerolinecolor\":\"#E1E5ED\"},\"yaxis14\":{\"anchor\":\"x14\",\"domain\":[0.0,0.1975],\"gridcolor\":\"#E1E5ED\",\"showgrid\":false,\"tickfont\":{\"color\":\"#4D5663\"},\"title\":{\"font\":{\"color\":\"#4D5663\"},\"text\":\"\"},\"zerolinecolor\":\"#E1E5ED\"},\"xaxis15\":{\"anchor\":\"y15\",\"domain\":[0.525,0.7375],\"gridcolor\":\"#E1E5ED\",\"showgrid\":false,\"tickfont\":{\"color\":\"#4D5663\"},\"title\":{\"font\":{\"color\":\"#4D5663\"},\"text\":\"\"},\"zerolinecolor\":\"#E1E5ED\"},\"yaxis15\":{\"anchor\":\"x15\",\"domain\":[0.0,0.1975],\"gridcolor\":\"#E1E5ED\",\"showgrid\":false,\"tickfont\":{\"color\":\"#4D5663\"},\"title\":{\"font\":{\"color\":\"#4D5663\"},\"text\":\"\"},\"zerolinecolor\":\"#E1E5ED\"},\"xaxis16\":{\"anchor\":\"y16\",\"domain\":[0.7875,1.0],\"gridcolor\":\"#E1E5ED\",\"showgrid\":false,\"tickfont\":{\"color\":\"#4D5663\"},\"title\":{\"font\":{\"color\":\"#4D5663\"},\"text\":\"\"},\"zerolinecolor\":\"#E1E5ED\"},\"yaxis16\":{\"anchor\":\"x16\",\"domain\":[0.0,0.1975],\"gridcolor\":\"#E1E5ED\",\"showgrid\":false,\"tickfont\":{\"color\":\"#4D5663\"},\"title\":{\"font\":{\"color\":\"#4D5663\"},\"text\":\"\"},\"zerolinecolor\":\"#E1E5ED\"}},                        {\"showLink\": true, \"linkText\": \"Export to plot.ly\", \"plotlyServerURL\": \"https://plot.ly\", \"responsive\": true}                    ).then(function(){\n",
       "                            \n",
       "var gd = document.getElementById('6ad6a732-a6d5-40a2-8dc9-362576371590');\n",
       "var x = new MutationObserver(function (mutations, observer) {{\n",
       "        var display = window.getComputedStyle(gd).display;\n",
       "        if (!display || display === 'none') {{\n",
       "            console.log([gd, 'removed!']);\n",
       "            Plotly.purge(gd);\n",
       "            observer.disconnect();\n",
       "        }}\n",
       "}});\n",
       "\n",
       "// Listen for the removal of the full notebook cells\n",
       "var notebookContainer = gd.closest('#notebook-container');\n",
       "if (notebookContainer) {{\n",
       "    x.observe(notebookContainer, {childList: true});\n",
       "}}\n",
       "\n",
       "// Listen for the clearing of the current output cell\n",
       "var outputEl = gd.closest('.output');\n",
       "if (outputEl) {{\n",
       "    x.observe(outputEl, {childList: true});\n",
       "}}\n",
       "\n",
       "                        })                };                });            </script>        </div>"
      ]
     },
     "metadata": {},
     "output_type": "display_data"
    }
   ],
   "source": [
    "#scatter Matrix\n",
    "df.scatter_matrix()"
   ]
  },
  {
   "cell_type": "code",
   "execution_count": null,
   "id": "268980c5",
   "metadata": {},
   "outputs": [],
   "source": []
  }
 ],
 "metadata": {
  "kernelspec": {
   "display_name": "Python 3 (ipykernel)",
   "language": "python",
   "name": "python3"
  },
  "language_info": {
   "codemirror_mode": {
    "name": "ipython",
    "version": 3
   },
   "file_extension": ".py",
   "mimetype": "text/x-python",
   "name": "python",
   "nbconvert_exporter": "python",
   "pygments_lexer": "ipython3",
   "version": "3.9.13"
  },
  "vscode": {
   "interpreter": {
    "hash": "5ffd7eb2cebf9ac436b5021ba01877e9cee6b03524e01bf8c8637d3e64111215"
   }
  }
 },
 "nbformat": 4,
 "nbformat_minor": 5
}
