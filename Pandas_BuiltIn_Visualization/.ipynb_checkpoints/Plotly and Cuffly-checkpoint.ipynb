{
 "cells": [
  {
   "cell_type": "code",
   "execution_count": null,
   "id": "b291c310",
   "metadata": {},
   "outputs": [],
   "source": [
    "import pandas as pd\n",
    "import numpy as np\n"
   ]
  },
  {
   "cell_type": "code",
   "execution_count": null,
   "id": "b2c21018",
   "metadata": {},
   "outputs": [],
   "source": [
    "import cufflinks as cf\n",
    "import chart_studio.plotly as py"
   ]
  },
  {
   "cell_type": "code",
   "execution_count": null,
   "id": "e44dbad6",
   "metadata": {},
   "outputs": [],
   "source": [
    "from plotly.offline import downlaod_plotlyjs,init,notebook_mode,plot,iplot"
   ]
  },
  {
   "cell_type": "code",
   "execution_count": null,
   "id": "4545227b",
   "metadata": {},
   "outputs": [],
   "source": []
  }
 ],
 "metadata": {
  "kernelspec": {
   "display_name": "Python 3 (ipykernel)",
   "language": "python",
   "name": "python3"
  },
  "language_info": {
   "codemirror_mode": {
    "name": "ipython",
    "version": 3
   },
   "file_extension": ".py",
   "mimetype": "text/x-python",
   "name": "python",
   "nbconvert_exporter": "python",
   "pygments_lexer": "ipython3",
   "version": "3.9.13"
  }
 },
 "nbformat": 4,
 "nbformat_minor": 5
}
